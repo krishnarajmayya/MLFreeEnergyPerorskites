{
 "cells": [
  {
   "cell_type": "code",
   "execution_count": 1,
   "metadata": {},
   "outputs": [],
   "source": [
    "import pandas as pd\n",
    "from pymatgen.core.periodic_table import Element\n",
    "from matminer.featurizers.composition import ElementProperty\n",
    "\n",
    "pd.options.display.max_columns=1000"
   ]
  },
  {
   "cell_type": "code",
   "execution_count": 2,
   "metadata": {},
   "outputs": [],
   "source": [
    "element_list = [\n",
    "    'Ac', 'Ag', 'Al', 'As', 'Ba', 'B', 'Be', 'Bi', 'Ca', 'Cd',\n",
    "    'Ce', 'C', 'Co', 'Cr', 'Cs', 'Cu', 'Dy', 'Er', 'Eu', 'Fe',\n",
    "    'Ga', 'Gd', 'Ge', 'Hf', 'Ho', 'In', 'K', 'La', 'Li', 'Lu',\n",
    "    'Mg', 'Mn', 'Mo', 'Na', 'Nb', 'Nd', 'Ni', 'Np', 'Os', 'Pa',\n",
    "    'Pb', 'P', 'Pd', 'Pm', 'Pr', 'Pu', 'Rb', 'Re', 'Rh', 'Ru',\n",
    "    'Sb', 'Sc', 'Si', 'Sm', 'Sn', 'Sr', 'Ta', 'Tb', 'Tc', 'Th',\n",
    "    'Ti', 'Tl', 'Tm', 'U', 'V', 'Y', 'Yb', 'Zn', 'Zr', 'Au', 'Br',\n",
    "    'Cl', 'I', 'Ir', 'Pt', 'S', 'Se', 'W', 'F', 'H', 'N', 'O'\n",
    "]"
   ]
  },
  {
   "cell_type": "code",
   "execution_count": 3,
   "metadata": {},
   "outputs": [],
   "source": [
    "elements = pd.DataFrame(element_list,columns=[\"Name\"])"
   ]
  },
  {
   "cell_type": "code",
   "execution_count": 4,
   "metadata": {},
   "outputs": [
    {
     "ename": "TypeError",
     "evalue": "issubclass() arg 1 must be a class",
     "output_type": "error",
     "traceback": [
      "\u001b[0;31m---------------------------------------------------------------------------\u001b[0m",
      "\u001b[0;31mTypeError\u001b[0m                                 Traceback (most recent call last)",
      "\u001b[0;32m/var/folders/yz/0mtk4knj2px8jyjm_nwstbm40000gn/T/ipykernel_99015/89567201.py\u001b[0m in \u001b[0;36m<module>\u001b[0;34m\u001b[0m\n\u001b[1;32m      1\u001b[0m \u001b[0;32mfrom\u001b[0m \u001b[0mpymatgen\u001b[0m\u001b[0;34m.\u001b[0m\u001b[0mcore\u001b[0m\u001b[0;34m.\u001b[0m\u001b[0mperiodic_table\u001b[0m \u001b[0;32mimport\u001b[0m \u001b[0mElement\u001b[0m\u001b[0;34m\u001b[0m\u001b[0;34m\u001b[0m\u001b[0m\n\u001b[0;32m----> 2\u001b[0;31m \u001b[0;32mfrom\u001b[0m \u001b[0mmatminer\u001b[0m\u001b[0;34m.\u001b[0m\u001b[0mfeaturizers\u001b[0m\u001b[0;34m.\u001b[0m\u001b[0mcomposition\u001b[0m \u001b[0;32mimport\u001b[0m \u001b[0mElementProperty\u001b[0m\u001b[0;34m\u001b[0m\u001b[0;34m\u001b[0m\u001b[0m\n\u001b[0m\u001b[1;32m      3\u001b[0m \u001b[0;34m\u001b[0m\u001b[0m\n\u001b[1;32m      4\u001b[0m \u001b[0;32mfor\u001b[0m \u001b[0mi\u001b[0m \u001b[0;32min\u001b[0m \u001b[0mrange\u001b[0m\u001b[0;34m(\u001b[0m\u001b[0mlen\u001b[0m\u001b[0;34m(\u001b[0m\u001b[0melements\u001b[0m\u001b[0;34m)\u001b[0m\u001b[0;34m)\u001b[0m\u001b[0;34m:\u001b[0m\u001b[0;34m\u001b[0m\u001b[0;34m\u001b[0m\u001b[0m\n\u001b[1;32m      5\u001b[0m     \u001b[0mele\u001b[0m \u001b[0;34m=\u001b[0m \u001b[0mElement\u001b[0m\u001b[0;34m(\u001b[0m\u001b[0melements\u001b[0m\u001b[0;34m.\u001b[0m\u001b[0mloc\u001b[0m\u001b[0;34m[\u001b[0m\u001b[0mi\u001b[0m\u001b[0;34m,\u001b[0m \u001b[0;34m\"Name\"\u001b[0m\u001b[0;34m]\u001b[0m\u001b[0;34m)\u001b[0m\u001b[0;34m\u001b[0m\u001b[0;34m\u001b[0m\u001b[0m\n",
      "\u001b[0;32m~/opt/anaconda3/lib/python3.9/site-packages/matminer/featurizers/composition/__init__.py\u001b[0m in \u001b[0;36m<module>\u001b[0;34m\u001b[0m\n\u001b[1;32m     16\u001b[0m \u001b[0;32mfrom\u001b[0m \u001b[0mmatminer\u001b[0m\u001b[0;34m.\u001b[0m\u001b[0mfeaturizers\u001b[0m\u001b[0;34m.\u001b[0m\u001b[0mcomposition\u001b[0m\u001b[0;34m.\u001b[0m\u001b[0morbital\u001b[0m \u001b[0;32mimport\u001b[0m \u001b[0mAtomicOrbitals\u001b[0m\u001b[0;34m,\u001b[0m \u001b[0mValenceOrbital\u001b[0m\u001b[0;34m\u001b[0m\u001b[0;34m\u001b[0m\u001b[0m\n\u001b[1;32m     17\u001b[0m \u001b[0;32mfrom\u001b[0m \u001b[0mmatminer\u001b[0m\u001b[0;34m.\u001b[0m\u001b[0mfeaturizers\u001b[0m\u001b[0;34m.\u001b[0m\u001b[0mcomposition\u001b[0m\u001b[0;34m.\u001b[0m\u001b[0mpacking\u001b[0m \u001b[0;32mimport\u001b[0m \u001b[0mAtomicPackingEfficiency\u001b[0m\u001b[0;34m\u001b[0m\u001b[0;34m\u001b[0m\u001b[0m\n\u001b[0;32m---> 18\u001b[0;31m \u001b[0;32mfrom\u001b[0m \u001b[0mmatminer\u001b[0m\u001b[0;34m.\u001b[0m\u001b[0mfeaturizers\u001b[0m\u001b[0;34m.\u001b[0m\u001b[0mcomposition\u001b[0m\u001b[0;34m.\u001b[0m\u001b[0mthermo\u001b[0m \u001b[0;32mimport\u001b[0m \u001b[0mCohesiveEnergy\u001b[0m\u001b[0;34m,\u001b[0m \u001b[0mCohesiveEnergyMP\u001b[0m\u001b[0;34m\u001b[0m\u001b[0;34m\u001b[0m\u001b[0m\n\u001b[0m",
      "\u001b[0;32m~/opt/anaconda3/lib/python3.9/site-packages/matminer/featurizers/composition/thermo.py\u001b[0m in \u001b[0;36m<module>\u001b[0;34m\u001b[0m\n\u001b[1;32m      3\u001b[0m \"\"\"\n\u001b[1;32m      4\u001b[0m \u001b[0;34m\u001b[0m\u001b[0m\n\u001b[0;32m----> 5\u001b[0;31m \u001b[0;32mfrom\u001b[0m \u001b[0mpymatgen\u001b[0m\u001b[0;34m.\u001b[0m\u001b[0mext\u001b[0m\u001b[0;34m.\u001b[0m\u001b[0mmatproj\u001b[0m \u001b[0;32mimport\u001b[0m \u001b[0mMPRester\u001b[0m\u001b[0;34m\u001b[0m\u001b[0;34m\u001b[0m\u001b[0m\n\u001b[0m\u001b[1;32m      6\u001b[0m \u001b[0;34m\u001b[0m\u001b[0m\n\u001b[1;32m      7\u001b[0m \u001b[0;32mfrom\u001b[0m \u001b[0mmatminer\u001b[0m\u001b[0;34m.\u001b[0m\u001b[0mfeaturizers\u001b[0m\u001b[0;34m.\u001b[0m\u001b[0mbase\u001b[0m \u001b[0;32mimport\u001b[0m \u001b[0mBaseFeaturizer\u001b[0m\u001b[0;34m\u001b[0m\u001b[0;34m\u001b[0m\u001b[0m\n",
      "\u001b[0;32m~/opt/anaconda3/lib/python3.9/site-packages/pymatgen/ext/matproj.py\u001b[0m in \u001b[0;36m<module>\u001b[0;34m\u001b[0m\n\u001b[1;32m     26\u001b[0m \u001b[0;32mimport\u001b[0m \u001b[0mrequests\u001b[0m\u001b[0;34m\u001b[0m\u001b[0;34m\u001b[0m\u001b[0m\n\u001b[1;32m     27\u001b[0m \u001b[0;32mfrom\u001b[0m \u001b[0mmonty\u001b[0m\u001b[0;34m.\u001b[0m\u001b[0mjson\u001b[0m \u001b[0;32mimport\u001b[0m \u001b[0mMontyDecoder\u001b[0m\u001b[0;34m,\u001b[0m \u001b[0mMontyEncoder\u001b[0m\u001b[0;34m\u001b[0m\u001b[0;34m\u001b[0m\u001b[0m\n\u001b[0;32m---> 28\u001b[0;31m \u001b[0;32mfrom\u001b[0m \u001b[0mmp_api\u001b[0m\u001b[0;34m.\u001b[0m\u001b[0mclient\u001b[0m \u001b[0;32mimport\u001b[0m \u001b[0mMPRester\u001b[0m \u001b[0;32mas\u001b[0m \u001b[0m_MPResterNew\u001b[0m\u001b[0;34m\u001b[0m\u001b[0;34m\u001b[0m\u001b[0m\n\u001b[0m\u001b[1;32m     29\u001b[0m \u001b[0;32mfrom\u001b[0m \u001b[0mruamel\u001b[0m\u001b[0;34m.\u001b[0m\u001b[0myaml\u001b[0m \u001b[0;32mimport\u001b[0m \u001b[0mYAML\u001b[0m\u001b[0;34m\u001b[0m\u001b[0;34m\u001b[0m\u001b[0m\n\u001b[1;32m     30\u001b[0m \u001b[0;32mfrom\u001b[0m \u001b[0mtqdm\u001b[0m \u001b[0;32mimport\u001b[0m \u001b[0mtqdm\u001b[0m\u001b[0;34m\u001b[0m\u001b[0;34m\u001b[0m\u001b[0m\n",
      "\u001b[0;32m~/opt/anaconda3/lib/python3.9/site-packages/mp_api/client/__init__.py\u001b[0m in \u001b[0;36m<module>\u001b[0;34m\u001b[0m\n\u001b[1;32m      4\u001b[0m \u001b[0;34m\u001b[0m\u001b[0m\n\u001b[1;32m      5\u001b[0m \u001b[0;32mfrom\u001b[0m \u001b[0;34m.\u001b[0m\u001b[0mcore\u001b[0m \u001b[0;32mimport\u001b[0m \u001b[0mMPRestError\u001b[0m\u001b[0;34m\u001b[0m\u001b[0;34m\u001b[0m\u001b[0m\n\u001b[0;32m----> 6\u001b[0;31m \u001b[0;32mfrom\u001b[0m \u001b[0;34m.\u001b[0m\u001b[0mmprester\u001b[0m \u001b[0;32mimport\u001b[0m \u001b[0mMPRester\u001b[0m\u001b[0;34m\u001b[0m\u001b[0;34m\u001b[0m\u001b[0m\n\u001b[0m\u001b[1;32m      7\u001b[0m \u001b[0;34m\u001b[0m\u001b[0m\n\u001b[1;32m      8\u001b[0m \u001b[0;32mtry\u001b[0m\u001b[0;34m:\u001b[0m\u001b[0;34m\u001b[0m\u001b[0;34m\u001b[0m\u001b[0m\n",
      "\u001b[0;32m~/opt/anaconda3/lib/python3.9/site-packages/mp_api/client/mprester.py\u001b[0m in \u001b[0;36m<module>\u001b[0;34m\u001b[0m\n\u001b[1;32m     24\u001b[0m \u001b[0;32mfrom\u001b[0m \u001b[0mmp_api\u001b[0m\u001b[0;34m.\u001b[0m\u001b[0mclient\u001b[0m\u001b[0;34m.\u001b[0m\u001b[0mcore\u001b[0m\u001b[0;34m.\u001b[0m\u001b[0msettings\u001b[0m \u001b[0;32mimport\u001b[0m \u001b[0mMAPIClientSettings\u001b[0m\u001b[0;34m\u001b[0m\u001b[0;34m\u001b[0m\u001b[0m\n\u001b[1;32m     25\u001b[0m \u001b[0;32mfrom\u001b[0m \u001b[0mmp_api\u001b[0m\u001b[0;34m.\u001b[0m\u001b[0mclient\u001b[0m\u001b[0;34m.\u001b[0m\u001b[0mcore\u001b[0m\u001b[0;34m.\u001b[0m\u001b[0mutils\u001b[0m \u001b[0;32mimport\u001b[0m \u001b[0mvalidate_ids\u001b[0m\u001b[0;34m\u001b[0m\u001b[0;34m\u001b[0m\u001b[0m\n\u001b[0;32m---> 26\u001b[0;31m from mp_api.client.routes import (\n\u001b[0m\u001b[1;32m     27\u001b[0m     \u001b[0mAbsorptionRester\u001b[0m\u001b[0;34m,\u001b[0m\u001b[0;34m\u001b[0m\u001b[0;34m\u001b[0m\u001b[0m\n\u001b[1;32m     28\u001b[0m     \u001b[0mAlloysRester\u001b[0m\u001b[0;34m,\u001b[0m\u001b[0;34m\u001b[0m\u001b[0;34m\u001b[0m\u001b[0m\n",
      "\u001b[0;32m~/opt/anaconda3/lib/python3.9/site-packages/mp_api/client/routes/__init__.py\u001b[0m in \u001b[0;36m<module>\u001b[0;34m\u001b[0m\n\u001b[1;32m      1\u001b[0m \u001b[0;32mfrom\u001b[0m \u001b[0mast\u001b[0m \u001b[0;32mimport\u001b[0m \u001b[0mImport\u001b[0m\u001b[0;34m\u001b[0m\u001b[0;34m\u001b[0m\u001b[0m\n\u001b[1;32m      2\u001b[0m \u001b[0;34m\u001b[0m\u001b[0m\n\u001b[0;32m----> 3\u001b[0;31m \u001b[0;32mfrom\u001b[0m \u001b[0;34m.\u001b[0m\u001b[0m_general_store\u001b[0m \u001b[0;32mimport\u001b[0m \u001b[0mGeneralStoreRester\u001b[0m\u001b[0;34m\u001b[0m\u001b[0;34m\u001b[0m\u001b[0m\n\u001b[0m\u001b[1;32m      4\u001b[0m \u001b[0;32mfrom\u001b[0m \u001b[0;34m.\u001b[0m\u001b[0m_user_settings\u001b[0m \u001b[0;32mimport\u001b[0m \u001b[0mUserSettingsRester\u001b[0m\u001b[0;34m\u001b[0m\u001b[0;34m\u001b[0m\u001b[0m\n\u001b[1;32m      5\u001b[0m \u001b[0;32mfrom\u001b[0m \u001b[0;34m.\u001b[0m\u001b[0mabsorption\u001b[0m \u001b[0;32mimport\u001b[0m \u001b[0mAbsorptionRester\u001b[0m\u001b[0;34m\u001b[0m\u001b[0;34m\u001b[0m\u001b[0m\n",
      "\u001b[0;32m~/opt/anaconda3/lib/python3.9/site-packages/mp_api/client/routes/_general_store.py\u001b[0m in \u001b[0;36m<module>\u001b[0;34m\u001b[0m\n\u001b[1;32m      1\u001b[0m \u001b[0;32mfrom\u001b[0m \u001b[0mtyping\u001b[0m \u001b[0;32mimport\u001b[0m \u001b[0mDict\u001b[0m\u001b[0;34m\u001b[0m\u001b[0;34m\u001b[0m\u001b[0m\n\u001b[1;32m      2\u001b[0m \u001b[0;34m\u001b[0m\u001b[0m\n\u001b[0;32m----> 3\u001b[0;31m \u001b[0;32mfrom\u001b[0m \u001b[0memmet\u001b[0m\u001b[0;34m.\u001b[0m\u001b[0mcore\u001b[0m\u001b[0;34m.\u001b[0m\u001b[0m_general_store\u001b[0m \u001b[0;32mimport\u001b[0m \u001b[0mGeneralStoreDoc\u001b[0m\u001b[0;34m\u001b[0m\u001b[0;34m\u001b[0m\u001b[0m\n\u001b[0m\u001b[1;32m      4\u001b[0m \u001b[0;34m\u001b[0m\u001b[0m\n\u001b[1;32m      5\u001b[0m \u001b[0;32mfrom\u001b[0m \u001b[0mmp_api\u001b[0m\u001b[0;34m.\u001b[0m\u001b[0mclient\u001b[0m\u001b[0;34m.\u001b[0m\u001b[0mcore\u001b[0m \u001b[0;32mimport\u001b[0m \u001b[0mBaseRester\u001b[0m\u001b[0;34m\u001b[0m\u001b[0;34m\u001b[0m\u001b[0m\n",
      "\u001b[0;32m~/opt/anaconda3/lib/python3.9/site-packages/emmet/core/_general_store.py\u001b[0m in \u001b[0;36m<module>\u001b[0;34m\u001b[0m\n\u001b[1;32m      9\u001b[0m \u001b[0;34m\u001b[0m\u001b[0m\n\u001b[1;32m     10\u001b[0m \u001b[0;34m\u001b[0m\u001b[0m\n\u001b[0;32m---> 11\u001b[0;31m \u001b[0;32mclass\u001b[0m \u001b[0mGeneralStoreDoc\u001b[0m\u001b[0;34m(\u001b[0m\u001b[0mBaseModel\u001b[0m\u001b[0;34m)\u001b[0m\u001b[0;34m:\u001b[0m\u001b[0;34m\u001b[0m\u001b[0;34m\u001b[0m\u001b[0m\n\u001b[0m\u001b[1;32m     12\u001b[0m     \"\"\"\n\u001b[1;32m     13\u001b[0m     \u001b[0mDefines\u001b[0m \u001b[0mgeneral\u001b[0m \u001b[0mstore\u001b[0m \u001b[0mdata\u001b[0m\u001b[0;34m\u001b[0m\u001b[0;34m\u001b[0m\u001b[0m\n",
      "\u001b[0;32m~/opt/anaconda3/lib/python3.9/site-packages/pydantic/main.cpython-39-darwin.so\u001b[0m in \u001b[0;36mpydantic.main.ModelMetaclass.__new__\u001b[0;34m()\u001b[0m\n",
      "\u001b[0;32m~/opt/anaconda3/lib/python3.9/site-packages/pydantic/fields.cpython-39-darwin.so\u001b[0m in \u001b[0;36mpydantic.fields.ModelField.infer\u001b[0;34m()\u001b[0m\n",
      "\u001b[0;32m~/opt/anaconda3/lib/python3.9/site-packages/pydantic/fields.cpython-39-darwin.so\u001b[0m in \u001b[0;36mpydantic.fields.ModelField.__init__\u001b[0;34m()\u001b[0m\n",
      "\u001b[0;32m~/opt/anaconda3/lib/python3.9/site-packages/pydantic/fields.cpython-39-darwin.so\u001b[0m in \u001b[0;36mpydantic.fields.ModelField.prepare\u001b[0;34m()\u001b[0m\n",
      "\u001b[0;32m~/opt/anaconda3/lib/python3.9/site-packages/pydantic/fields.cpython-39-darwin.so\u001b[0m in \u001b[0;36mpydantic.fields.ModelField._type_analysis\u001b[0;34m()\u001b[0m\n",
      "\u001b[0;32m~/opt/anaconda3/lib/python3.9/typing.py\u001b[0m in \u001b[0;36m__subclasscheck__\u001b[0;34m(self, cls)\u001b[0m\n\u001b[1;32m    850\u001b[0m             \u001b[0;32mreturn\u001b[0m \u001b[0missubclass\u001b[0m\u001b[0;34m(\u001b[0m\u001b[0mcls\u001b[0m\u001b[0;34m.\u001b[0m\u001b[0m__origin__\u001b[0m\u001b[0;34m,\u001b[0m \u001b[0mself\u001b[0m\u001b[0;34m.\u001b[0m\u001b[0m__origin__\u001b[0m\u001b[0;34m)\u001b[0m\u001b[0;34m\u001b[0m\u001b[0;34m\u001b[0m\u001b[0m\n\u001b[1;32m    851\u001b[0m         \u001b[0;32mif\u001b[0m \u001b[0;32mnot\u001b[0m \u001b[0misinstance\u001b[0m\u001b[0;34m(\u001b[0m\u001b[0mcls\u001b[0m\u001b[0;34m,\u001b[0m \u001b[0m_GenericAlias\u001b[0m\u001b[0;34m)\u001b[0m\u001b[0;34m:\u001b[0m\u001b[0;34m\u001b[0m\u001b[0;34m\u001b[0m\u001b[0m\n\u001b[0;32m--> 852\u001b[0;31m             \u001b[0;32mreturn\u001b[0m \u001b[0missubclass\u001b[0m\u001b[0;34m(\u001b[0m\u001b[0mcls\u001b[0m\u001b[0;34m,\u001b[0m \u001b[0mself\u001b[0m\u001b[0;34m.\u001b[0m\u001b[0m__origin__\u001b[0m\u001b[0;34m)\u001b[0m\u001b[0;34m\u001b[0m\u001b[0;34m\u001b[0m\u001b[0m\n\u001b[0m\u001b[1;32m    853\u001b[0m         \u001b[0;32mreturn\u001b[0m \u001b[0msuper\u001b[0m\u001b[0;34m(\u001b[0m\u001b[0;34m)\u001b[0m\u001b[0;34m.\u001b[0m\u001b[0m__subclasscheck__\u001b[0m\u001b[0;34m(\u001b[0m\u001b[0mcls\u001b[0m\u001b[0;34m)\u001b[0m\u001b[0;34m\u001b[0m\u001b[0;34m\u001b[0m\u001b[0m\n\u001b[1;32m    854\u001b[0m \u001b[0;34m\u001b[0m\u001b[0m\n",
      "\u001b[0;31mTypeError\u001b[0m: issubclass() arg 1 must be a class"
     ]
    }
   ],
   "source": [
    "for i in range(len(elements)):\n",
    "    ele = Element(elements.loc[i, \"Name\"])\n",
    "    ele_prop = ElementProperty.from_preset('magpie')\n",
    "    \n",
    "    elements.loc[i, 'Z'] = ele.Z\n",
    "    elements.loc[i, 'M'] = ele.atomic_mass\n",
    "    elements.loc[i, 'G'] = ele.group\n",
    "    elements.loc[i, 'IEI'] = ele_prop.data_source.get_elemental_property(ele, 'FirstIonizationEnergy')\n",
    "    elements.loc[i, 'IEII'] = ele_prop.data_source.get_elemental_property(ele, 'SecondIonizationEnergy')\n",
    "    elements.loc[i, 'EA'] = ele_prop.data_source.get_elemental_property(ele, 'ElectronAffinity')\n",
    "    elements.loc[i, 'ChiP'] = ele.X\n",
    "    elements.loc[i, 'ChiA'] = ele_prop.data_source.get_elemental_property(ele, 'AllenElectronegativity')\n",
    "    elements.loc[i, 'Rvdw'] = ele.van_der_waals_radius\n",
    "    elements.loc[i, 'Rc'] = ele_prop.data_source.get_elemental_property(ele, 'CovalentRadius')\n",
    "    elements.loc[i, 'Ra'] = ele.atomic_radius\n",
    "    elements.loc[i, 'Rpp_s'] = ele_prop.data_source.get_elemental_property(ele, 'ZungerPP-r_s')\n",
    "    elements.loc[i, 'Rpp_p'] = ele_prop.data_source.get_elemental_property(ele, 'ZungerPP-r_p')\n",
    "    elements.loc[i, 'Rpp_d'] = ele_prop.data_source.get_elemental_property(ele, 'ZungerPP-r_d')\n",
    "    elements.loc[i, 'MP'] = ele.melting_point\n",
    "    elements.loc[i, 'BP'] = ele.boiling_point\n",
    "    elements.loc[i, 'Rho'] = ele.density_of_solid\n",
    "    elements.loc[i, 'MV'] = ele.molar_volume\n",
    "    elements.loc[i, 'Hf'] = ele_prop.data_source.get_elemental_property(ele, 'HeatFusion')\n",
    "    elements.loc[i, 'Hv'] = ele_prop.data_source.get_elemental_property(ele, 'HeatVaporization')\n",
    "    elements.loc[i, 'Kappa'] = ele.thermal_conductivity\n",
    "    elements.loc[i, 'CvM'] = ele_prop.data_source.get_elemental_property(ele, 'HeatCapacityMass')\n",
    "    \n",
    "    elements.loc[i, 'B'] = ele.block\n",
    "    elements.loc[i, 'MendeleevNo'] = ele.mendeleev_no\n",
    "    elements.loc[i, 'PoissonsRatio'] = ele.poissons_ratio\n",
    "    elements.loc[i, 'Kbulk'] = ele.bulk_modulus\n",
    "    elements.loc[i, 'YoungsModulus'] = ele.youngs_modulus\n",
    "    elements.loc[i, 'CoefficientOfLinearThermalExpansion'] = ele.coefficient_of_linear_thermal_expansion\n",
    "    elements.loc[i, 'AverageCationicRadius'] = ele.average_cationic_radius\n",
    "    elements.loc[i, 'AverageAnionicRadius'] = ele.average_anionic_radius\n"
   ]
  },
  {
   "cell_type": "code",
   "execution_count": null,
   "metadata": {},
   "outputs": [],
   "source": [
    "elements.describe()"
   ]
  },
  {
   "cell_type": "code",
   "execution_count": null,
   "metadata": {},
   "outputs": [],
   "source": [
    "elements.info()"
   ]
  },
  {
   "cell_type": "code",
   "execution_count": null,
   "metadata": {},
   "outputs": [],
   "source": [
    "elements.to_csv('elements.csv')"
   ]
  },
  {
   "cell_type": "code",
   "execution_count": 8,
   "metadata": {},
   "outputs": [],
   "source": [
    "from mendeleev.fetch import fetch_table\n",
    "import pandas as pd\n",
    "\n",
    "# Fetch the periodic table data\n",
    "ptable = fetch_table('elements')"
   ]
  },
  {
   "cell_type": "code",
   "execution_count": 9,
   "metadata": {},
   "outputs": [
    {
     "name": "stdout",
     "output_type": "stream",
     "text": [
      "<class 'pandas.core.frame.DataFrame'>\n",
      "RangeIndex: 118 entries, 0 to 117\n",
      "Data columns (total 69 columns):\n",
      " #   Column                         Non-Null Count  Dtype  \n",
      "---  ------                         --------------  -----  \n",
      " 0   annotation                     118 non-null    object \n",
      " 1   atomic_number                  118 non-null    int64  \n",
      " 2   atomic_radius                  90 non-null     float64\n",
      " 3   atomic_volume                  91 non-null     float64\n",
      " 4   block                          118 non-null    object \n",
      " 5   density                        118 non-null    float64\n",
      " 6   description                    109 non-null    object \n",
      " 7   dipole_polarizability          117 non-null    float64\n",
      " 8   electron_affinity              77 non-null     float64\n",
      " 9   electronic_configuration       118 non-null    object \n",
      " 10  evaporation_heat               88 non-null     float64\n",
      " 11  fusion_heat                    75 non-null     float64\n",
      " 12  group_id                       90 non-null     float64\n",
      " 13  lattice_constant               87 non-null     float64\n",
      " 14  lattice_structure              91 non-null     object \n",
      " 15  name                           118 non-null    object \n",
      " 16  period                         118 non-null    int64  \n",
      " 17  series_id                      118 non-null    int64  \n",
      " 18  specific_heat_capacity         85 non-null     float64\n",
      " 19  symbol                         118 non-null    object \n",
      " 20  thermal_conductivity           66 non-null     float64\n",
      " 21  vdw_radius                     103 non-null    float64\n",
      " 22  covalent_radius_cordero        96 non-null     float64\n",
      " 23  covalent_radius_pyykko         118 non-null    float64\n",
      " 24  en_pauling                     85 non-null     float64\n",
      " 25  en_allen                       71 non-null     float64\n",
      " 26  jmol_color                     109 non-null    object \n",
      " 27  cpk_color                      103 non-null    object \n",
      " 28  proton_affinity                32 non-null     float64\n",
      " 29  gas_basicity                   32 non-null     float64\n",
      " 30  heat_of_formation              89 non-null     float64\n",
      " 31  c6                             43 non-null     float64\n",
      " 32  covalent_radius_bragg          37 non-null     float64\n",
      " 33  vdw_radius_bondi               28 non-null     float64\n",
      " 34  vdw_radius_truhlar             16 non-null     float64\n",
      " 35  vdw_radius_rt                  9 non-null      float64\n",
      " 36  vdw_radius_batsanov            65 non-null     float64\n",
      " 37  vdw_radius_dreiding            21 non-null     float64\n",
      " 38  vdw_radius_uff                 103 non-null    float64\n",
      " 39  vdw_radius_mm3                 94 non-null     float64\n",
      " 40  abundance_crust                88 non-null     float64\n",
      " 41  abundance_sea                  81 non-null     float64\n",
      " 42  molcas_gv_color                103 non-null    object \n",
      " 43  en_ghosh                       103 non-null    float64\n",
      " 44  vdw_radius_alvarez             94 non-null     float64\n",
      " 45  c6_gb                          86 non-null     float64\n",
      " 46  atomic_weight                  118 non-null    float64\n",
      " 47  atomic_weight_uncertainty      74 non-null     float64\n",
      " 48  is_monoisotopic                21 non-null     object \n",
      " 49  is_radioactive                 118 non-null    bool   \n",
      " 50  cas                            118 non-null    object \n",
      " 51  atomic_radius_rahm             96 non-null     float64\n",
      " 52  geochemical_class              76 non-null     object \n",
      " 53  goldschmidt_class              118 non-null    object \n",
      " 54  metallic_radius                56 non-null     float64\n",
      " 55  metallic_radius_c12            63 non-null     float64\n",
      " 56  covalent_radius_pyykko_double  108 non-null    float64\n",
      " 57  covalent_radius_pyykko_triple  80 non-null     float64\n",
      " 58  discoverers                    118 non-null    object \n",
      " 59  discovery_year                 105 non-null    float64\n",
      " 60  discovery_location             105 non-null    object \n",
      " 61  name_origin                    118 non-null    object \n",
      " 62  sources                        118 non-null    object \n",
      " 63  uses                           112 non-null    object \n",
      " 64  mendeleev_number               118 non-null    int64  \n",
      " 65  dipole_polarizability_unc      117 non-null    float64\n",
      " 66  pettifor_number                103 non-null    float64\n",
      " 67  glawe_number                   103 non-null    float64\n",
      " 68  molar_heat_capacity            85 non-null     float64\n",
      "dtypes: bool(1), float64(45), int64(4), object(19)\n",
      "memory usage: 62.9+ KB\n"
     ]
    }
   ],
   "source": [
    "ptable.info()"
   ]
  },
  {
   "cell_type": "code",
   "execution_count": 10,
   "metadata": {},
   "outputs": [],
   "source": [
    "# List of properties to include in the dataframe\n",
    "cols = ['symbol', 'atomic_number', 'atomic_weight', 'group_id', 'period', 'electron_affinity', 'en_pauling',\n",
    "        'en_allen', 'vdw_radius', 'covalent_radius_pyykko', 'atomic_radius', 'melting_point', 'boiling_point',\n",
    "        'density', 'atomic_volume', 'fusion_heat', 'evaporation_heat', 'thermal_conductivity', 'specific_heat']\n",
    "\n",
    "# Filter the periodic table data based on the intersection of element names\n",
    "intersection = set(elements[\"Name\"]).intersection(ptable[\"symbol\"])\n",
    "mask = ptable[\"symbol\"].isin(intersection)\n",
    "ptable_filtered = ptable[mask]\n",
    "\n",
    "# Create a dataframe with selected columns\n",
    "ptable_filtered = pd.DataFrame(ptable_filtered, columns=cols)\n",
    "\n",
    "# Rename the \"symbol\" column to \"Name\"\n",
    "ptable_filtered = ptable_filtered.rename(columns={\"symbol\": \"Name\"})"
   ]
  },
  {
   "cell_type": "code",
   "execution_count": 11,
   "metadata": {},
   "outputs": [
    {
     "name": "stdout",
     "output_type": "stream",
     "text": [
      "<class 'pandas.core.frame.DataFrame'>\n",
      "Int64Index: 83 entries, 0 to 93\n",
      "Data columns (total 19 columns):\n",
      " #   Column                  Non-Null Count  Dtype  \n",
      "---  ------                  --------------  -----  \n",
      " 0   Name                    83 non-null     object \n",
      " 1   atomic_number           83 non-null     int64  \n",
      " 2   atomic_weight           83 non-null     float64\n",
      " 3   group_id                64 non-null     float64\n",
      " 4   period                  83 non-null     int64  \n",
      " 5   electron_affinity       68 non-null     float64\n",
      " 6   en_pauling              79 non-null     float64\n",
      " 7   en_allen                63 non-null     float64\n",
      " 8   vdw_radius              83 non-null     float64\n",
      " 9   covalent_radius_pyykko  83 non-null     float64\n",
      " 10  atomic_radius           83 non-null     float64\n",
      " 11  melting_point           0 non-null      float64\n",
      " 12  boiling_point           0 non-null      float64\n",
      " 13  density                 83 non-null     float64\n",
      " 14  atomic_volume           81 non-null     float64\n",
      " 15  fusion_heat             70 non-null     float64\n",
      " 16  evaporation_heat        78 non-null     float64\n",
      " 17  thermal_conductivity    61 non-null     float64\n",
      " 18  specific_heat           0 non-null      float64\n",
      "dtypes: float64(16), int64(2), object(1)\n",
      "memory usage: 13.0+ KB\n"
     ]
    }
   ],
   "source": [
    "ptable_filtered.info()"
   ]
  },
  {
   "cell_type": "code",
   "execution_count": 12,
   "metadata": {},
   "outputs": [],
   "source": [
    "ptable_filtered.to_csv('mendeleve_elements.csv')"
   ]
  }
 ],
 "metadata": {
  "kernelspec": {
   "display_name": "Python 3 (ipykernel)",
   "language": "python",
   "name": "python3"
  },
  "language_info": {
   "codemirror_mode": {
    "name": "ipython",
    "version": 3
   },
   "file_extension": ".py",
   "mimetype": "text/x-python",
   "name": "python",
   "nbconvert_exporter": "python",
   "pygments_lexer": "ipython3",
   "version": "3.9.13"
  }
 },
 "nbformat": 4,
 "nbformat_minor": 4
}
