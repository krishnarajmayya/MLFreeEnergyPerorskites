{
 "cells": [
  {
   "cell_type": "code",
   "execution_count": 1,
   "id": "6bcc19e3",
   "metadata": {},
   "outputs": [],
   "source": [
    "import pandas as pd\n",
    "import numpy as np\n",
    "import sklearn\n",
    "from sklearn.preprocessing import MinMaxScaler\n",
    "from sklearn.model_selection import train_test_split"
   ]
  },
  {
   "cell_type": "code",
   "execution_count": 2,
   "id": "3b4046ea",
   "metadata": {},
   "outputs": [
    {
     "name": "stdout",
     "output_type": "stream",
     "text": [
      "['Name' 'Coef_a' 'Coef_b' 'Coef_c' 'Coef_d' 'A_site' 'B_site' 'X_site'\n",
      " 'Spacegroup' 'Ehull' 'BulkModulus' 'Energy' 'ZPE' 's_A' 's_B' 's_X'\n",
      " 'density' 'mean_A2B' 'mean_A2X' 'mean_B2X' 'mean_X2X' 'std_A2B' 'std_A2X'\n",
      " 'std_B2X' 'std_X2X' 'E_coh' 'TF' 'OF' 'A_Z' 'B_Z' 'X_Z' 'A_M' 'B_M' 'X_M'\n",
      " 'A_G' 'B_G' 'X_G' 'A_IEI' 'B_IEI' 'X_IEI' 'A_IEII' 'B_IEII' 'X_IEII'\n",
      " 'A_EA' 'B_EA' 'X_EA' 'A_ChiP' 'B_ChiP' 'X_ChiP' 'A_ChiA' 'X_ChiA'\n",
      " 'A_Rvdw' 'B_Rvdw' 'X_Rvdw' 'A_Rc' 'B_Rc' 'X_Rc' 'A_Ra' 'B_Ra' 'X_Ra'\n",
      " 'A_MP' 'B_MP' 'X_MP' 'A_BP' 'B_BP' 'X_BP' 'A_Rho' 'B_Rho' 'A_MV' 'B_MV'\n",
      " 'X_MV' 'A_Hf' 'B_Hf' 'X_Hf' 'A_Hv' 'B_Hv' 'X_Hv' 'A_Kappa' 'B_Kappa'\n",
      " 'X_Kappa' 'A_CvM' 'B_CvM' 'X_CvM' 'A_B' 'B_B' 'X_B' 'A_MendeleevNo'\n",
      " 'B_MendeleevNo' 'X_MendeleevNo']\n"
     ]
    }
   ],
   "source": [
    "data = pd.read_csv('Combined_all_3rd_fit.csv', encoding='cp1252')\n",
    "print(data.columns.values)"
   ]
  },
  {
   "cell_type": "code",
   "execution_count": 3,
   "id": "544c55fc",
   "metadata": {},
   "outputs": [],
   "source": [
    "data.drop(['A_site', 'B_site', 'X_site', 'Spacegroup','BulkModulus',\n",
    "           'Ehull','Energy','ZPE','Coef_b', 'Coef_a', 'Coef_d'], axis=1, inplace = True)\n",
    "d=data.copy()\n",
    "d.drop(['Name'], axis=1, inplace = True)"
   ]
  },
  {
   "cell_type": "code",
   "execution_count": 4,
   "id": "4bd18c85",
   "metadata": {},
   "outputs": [],
   "source": [
    "columns = d.columns.values\n",
    "data_std = data.copy()\n",
    "data_std[columns]= MinMaxScaler().fit_transform(d[columns])"
   ]
  },
  {
   "cell_type": "code",
   "execution_count": 5,
   "id": "5f777183",
   "metadata": {},
   "outputs": [
    {
     "name": "stdout",
     "output_type": "stream",
     "text": [
      "['Name' 'Coef_c' 's_A' 's_B' 's_X' 'density' 'mean_A2B' 'mean_A2X'\n",
      " 'mean_B2X' 'mean_X2X' 'std_A2B' 'std_A2X' 'std_B2X' 'std_X2X' 'E_coh'\n",
      " 'TF' 'OF' 'A_Z' 'B_Z' 'X_Z' 'A_G' 'B_G' 'A_IEI' 'B_IEI' 'X_IEI' 'A_IEII'\n",
      " 'B_IEII' 'X_IEII' 'A_EA' 'B_EA' 'X_EA' 'A_ChiP' 'B_ChiP' 'A_ChiA'\n",
      " 'X_ChiA' 'A_Rvdw' 'B_Ra' 'X_Ra' 'B_MP' 'A_BP' 'A_Rho' 'B_Rho' 'B_MV'\n",
      " 'X_MV' 'B_Hf' 'A_Kappa' 'B_Kappa' 'X_Kappa' 'A_CvM' 'B_CvM' 'A_B' 'B_B']\n"
     ]
    }
   ],
   "source": [
    "correlated_features = [\"A_Rc\",\"A_Ra\",\"A_M\",\"A_MP\",\"A_MV\",\"A_MendeleevNo\",\"A_Hf\",\"A_Hv\",\"B_Rc\",\n",
    "                       \"B_Rvdw\",\"B_M\",\"B_BP\",\"B_MendeleevNo\",\"B_Hv\",\"X_Rc\",\"X_Rvdw\",\"X_M\",\"X_BP\",\"X_MP\",\n",
    "                       \"X_MendeleevNo\",\"X_Hf\",\"X_Hv\",\"X_G\",\"X_B\",\"X_CvM\",\"X_ChiP\"]\n",
    "data_std.drop(labels=correlated_features, axis=1, inplace=True)\n",
    "print(data_std.columns.values)"
   ]
  },
  {
   "cell_type": "code",
   "execution_count": 6,
   "id": "7e85a3ba",
   "metadata": {},
   "outputs": [],
   "source": [
    "data_sisso = data_std[['Name','Coef_c','density','E_coh','TF','OF','B_Hf',\n",
    "                      'mean_A2B','mean_A2X','mean_B2X','mean_X2X','std_A2B','std_A2X','std_B2X',\n",
    "                      'std_X2X','A_Rvdw','B_Ra','X_Ra',\n",
    "                      'A_Z','B_Z','X_Z',\n",
    "                       'A_G','B_G',\n",
    "                       'A_EA','B_EA','X_EA',\n",
    "                      'B_MP','A_BP',\n",
    "                      'A_Kappa','B_Kappa','X_Kappa',\n",
    "                      'A_CvM','B_CvM',\n",
    "                      'A_B','B_B',\n",
    "                      'B_MV','X_MV',\n",
    "                      'A_Rho','B_Rho',\n",
    "                      'A_ChiP','B_ChiP',\n",
    "                      'A_ChiA','X_ChiA',\n",
    "                      's_A','s_B','s_X',\n",
    "                      'A_IEI','B_IEI','X_IEI','A_IEII','B_IEII','X_IEII']]"
   ]
  },
  {
   "cell_type": "code",
   "execution_count": 7,
   "id": "a899554e",
   "metadata": {},
   "outputs": [],
   "source": [
    "df_train, df_test = train_test_split(data_sisso, \n",
    "                                     train_size = 0.8, \n",
    "                                     test_size = 0.2, \n",
    "                                     random_state = 50)\n",
    "df_train.reset_index(inplace = True)\n",
    "df_test.reset_index(inplace = True)\n",
    "df_train=df_train.drop('index',axis=1)\n",
    "df_test=df_test.drop('index',axis=1)"
   ]
  },
  {
   "cell_type": "code",
   "execution_count": 8,
   "id": "0dc03198",
   "metadata": {},
   "outputs": [],
   "source": [
    "df_train.to_csv(\"mm_train.csv\")\n",
    "df_test.to_csv(\"mm_test.csv\")"
   ]
  },
  {
   "cell_type": "code",
   "execution_count": null,
   "id": "17733567",
   "metadata": {},
   "outputs": [],
   "source": []
  }
 ],
 "metadata": {
  "kernelspec": {
   "display_name": "Python 3 (ipykernel)",
   "language": "python",
   "name": "python3"
  },
  "language_info": {
   "codemirror_mode": {
    "name": "ipython",
    "version": 3
   },
   "file_extension": ".py",
   "mimetype": "text/x-python",
   "name": "python",
   "nbconvert_exporter": "python",
   "pygments_lexer": "ipython3",
   "version": "3.9.12"
  }
 },
 "nbformat": 4,
 "nbformat_minor": 5
}
