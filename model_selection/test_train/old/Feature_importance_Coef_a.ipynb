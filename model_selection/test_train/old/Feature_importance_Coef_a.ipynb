{
 "cells": [
  {
   "cell_type": "code",
   "execution_count": 23,
   "id": "c3049287",
   "metadata": {},
   "outputs": [],
   "source": [
    "import numpy as np\n",
    "import pandas as pd\n",
    "import matplotlib.pyplot as plt\n",
    "from math import sqrt\n",
    "import seaborn as sns \n",
    "import re\n",
    " \n",
    "import warnings # supress warnings\n",
    "warnings.filterwarnings('ignore')"
   ]
  },
  {
   "cell_type": "code",
   "execution_count": 24,
   "id": "0af1dc92",
   "metadata": {},
   "outputs": [],
   "source": [
    "import sklearn\n",
    "\n",
    "from sklearn.preprocessing import MinMaxScaler, PolynomialFeatures, scale, StandardScaler\n",
    "\n",
    "from sklearn.model_selection import train_test_split, cross_val_score, KFold, GridSearchCV\n",
    "\n",
    "from sklearn.linear_model import LinearRegression, Ridge, Lasso, ElasticNet \n",
    "\n",
    "from sklearn.ensemble import RandomForestRegressor\n",
    "from sklearn.ensemble import GradientBoostingRegressor\n",
    "\n",
    "from sklearn.feature_selection import RFE, SelectKBest, f_regression\n",
    "from sklearn.inspection import permutation_importance\n",
    "\n",
    "from sklearn.gaussian_process import GaussianProcessRegressor\n",
    "from sklearn.gaussian_process.kernels import DotProduct, WhiteKernel, RBF, Matern, RationalQuadratic\n",
    "from sklearn.gaussian_process.kernels import Kernel, Hyperparameter, ConstantKernel\n",
    "from sklearn.gaussian_process.kernels import GenericKernelMixin\n",
    "\n",
    "from sklearn import metrics\n",
    "from sklearn.metrics import mean_squared_error\n",
    "from sklearn.metrics import r2_score  \n",
    "\n",
    "from sklearn.pipeline import make_pipeline\n",
    "\n",
    "from sklearn.base import clone"
   ]
  },
  {
   "cell_type": "code",
   "execution_count": 25,
   "id": "cd48d266",
   "metadata": {},
   "outputs": [],
   "source": [
    "def get_RF_feature_importance():\n",
    "    features= X\n",
    "    feature_list = list(features.columns)\n",
    "    rf = RandomForestRegressor(n_estimators= 15, random_state=1)\n",
    "    rf.fit(X , Y)\n",
    "\n",
    "    # Get numerical feature importances\n",
    "    importances = list(rf.feature_importances_)      \n",
    "    # List of tuples with variable and importance\n",
    "    feature_importances = [(feature, round(importance, 2)) for feature, \n",
    "                           importance in zip(feature_list, importances)]\n",
    "    # Sort the feature importances by most important first\n",
    "    feature_importances = sorted(feature_importances, key = lambda x: x[1], reverse = True)\n",
    "    # Print out the feature and importances \n",
    "    [print('Variable: {:20} Importance: {}'.format(*pair)) for pair in feature_importances];"
   ]
  },
  {
   "cell_type": "code",
   "execution_count": 26,
   "id": "ec168c65",
   "metadata": {},
   "outputs": [],
   "source": [
    "data = pd.read_csv('Combined_all_3rd.csv', encoding='cp1252')  "
   ]
  },
  {
   "cell_type": "code",
   "execution_count": 27,
   "id": "65f8ee82",
   "metadata": {},
   "outputs": [
    {
     "data": {
      "text/plain": [
       "array(['Name', 'Coef_a', 'Coef_b', 'Coef_c', 'Coef_d', 'A_site', 'B_site',\n",
       "       'X_site', 'Spacegroup', 'Ehull', 'BulkModulus', 'Energy', 'ZPE',\n",
       "       's_A', 's_B', 's_X', 'density', 'mean_A2B', 'mean_A2X', 'mean_B2X',\n",
       "       'mean_X2X', 'std_A2B', 'std_A2X', 'std_B2X', 'std_X2X', 'E_coh',\n",
       "       'TF', 'OF', 'A_Z', 'B_Z', 'X_Z', 'A_M', 'B_M', 'X_M', 'A_G', 'B_G',\n",
       "       'X_G', 'A_IEI', 'B_IEI', 'X_IEI', 'A_IEII', 'B_IEII', 'X_IEII',\n",
       "       'A_EA', 'B_EA', 'X_EA', 'A_ChiP', 'B_ChiP', 'X_ChiP', 'A_ChiA',\n",
       "       'X_ChiA', 'A_Rvdw', 'B_Rvdw', 'X_Rvdw', 'A_Rc', 'B_Rc', 'X_Rc',\n",
       "       'A_Ra', 'B_Ra', 'X_Ra', 'A_MP', 'B_MP', 'X_MP', 'A_BP', 'B_BP',\n",
       "       'X_BP', 'A_Rho', 'B_Rho', 'A_MV', 'B_MV', 'X_MV', 'A_Hf', 'B_Hf',\n",
       "       'X_Hf', 'A_Hv', 'B_Hv', 'X_Hv', 'A_Kappa', 'B_Kappa', 'X_Kappa',\n",
       "       'A_CvM', 'B_CvM', 'X_CvM', 'A_B', 'B_B', 'X_B', 'A_MendeleevNo',\n",
       "       'B_MendeleevNo', 'X_MendeleevNo'], dtype=object)"
      ]
     },
     "execution_count": 27,
     "metadata": {},
     "output_type": "execute_result"
    }
   ],
   "source": [
    "data.columns.values"
   ]
  },
  {
   "cell_type": "code",
   "execution_count": 28,
   "id": "7864464a",
   "metadata": {},
   "outputs": [],
   "source": [
    "data.drop(['Name', 'A_site', 'B_site', 'X_site', 'Spacegroup', 'Ehull','BulkModulus', 'Energy','s_A','s_B','s_X','ZPE','Coef_b', 'Coef_c', 'Coef_d'], axis=1, inplace = True)"
   ]
  },
  {
   "cell_type": "code",
   "execution_count": 29,
   "id": "0cb59bb0",
   "metadata": {},
   "outputs": [],
   "source": [
    "data.fillna(0, inplace= True)"
   ]
  },
  {
   "cell_type": "code",
   "execution_count": 30,
   "id": "a616203c",
   "metadata": {},
   "outputs": [
    {
     "data": {
      "text/plain": [
       "array(['Coef_a', 'density', 'mean_A2B', 'mean_A2X', 'mean_B2X',\n",
       "       'mean_X2X', 'std_A2B', 'std_A2X', 'std_B2X', 'std_X2X', 'E_coh',\n",
       "       'TF', 'OF', 'A_Z', 'B_Z', 'X_Z', 'A_M', 'B_M', 'X_M', 'A_G', 'B_G',\n",
       "       'X_G', 'A_IEI', 'B_IEI', 'X_IEI', 'A_IEII', 'B_IEII', 'X_IEII',\n",
       "       'A_EA', 'B_EA', 'X_EA', 'A_ChiP', 'B_ChiP', 'X_ChiP', 'A_ChiA',\n",
       "       'X_ChiA', 'A_Rvdw', 'B_Rvdw', 'X_Rvdw', 'A_Rc', 'B_Rc', 'X_Rc',\n",
       "       'A_Ra', 'B_Ra', 'X_Ra', 'A_MP', 'B_MP', 'X_MP', 'A_BP', 'B_BP',\n",
       "       'X_BP', 'A_Rho', 'B_Rho', 'A_MV', 'B_MV', 'X_MV', 'A_Hf', 'B_Hf',\n",
       "       'X_Hf', 'A_Hv', 'B_Hv', 'X_Hv', 'A_Kappa', 'B_Kappa', 'X_Kappa',\n",
       "       'A_CvM', 'B_CvM', 'X_CvM', 'A_B', 'B_B', 'X_B', 'A_MendeleevNo',\n",
       "       'B_MendeleevNo', 'X_MendeleevNo'], dtype=object)"
      ]
     },
     "execution_count": 30,
     "metadata": {},
     "output_type": "execute_result"
    }
   ],
   "source": [
    "d=data.copy()\n",
    "d.columns.values"
   ]
  },
  {
   "cell_type": "code",
   "execution_count": 31,
   "id": "15a65166",
   "metadata": {},
   "outputs": [],
   "source": [
    "columns = list(d.columns.values)"
   ]
  },
  {
   "cell_type": "code",
   "execution_count": 32,
   "id": "7731e256",
   "metadata": {},
   "outputs": [],
   "source": [
    "data_std=d.copy()\n",
    "scaler=MinMaxScaler()\n",
    "scaler.fit(np.array(data['Coef_a']).reshape(-1, 1))\n",
    "data_zpe_std= scaler.transform(np.array(data['Coef_a']).reshape(-1, 1))\n",
    "data_std[columns]= MinMaxScaler().fit_transform(d[columns])\n",
    "Y = data_std['Coef_a'] \n",
    "X = data_std.drop(['Coef_a'], axis=1)"
   ]
  },
  {
   "cell_type": "code",
   "execution_count": 33,
   "id": "d697e067",
   "metadata": {},
   "outputs": [],
   "source": [
    "corrmat = X.corr()\n",
    "top_corr_features = corrmat.index\n",
    "correlated_features = set()"
   ]
  },
  {
   "cell_type": "code",
   "execution_count": 34,
   "id": "0fd533a0",
   "metadata": {},
   "outputs": [
    {
     "name": "stdout",
     "output_type": "stream",
     "text": [
      "{'X_MendeleevNo', 'X_ChiA', 'X_Hv', 'X_Ra', 'X_CvM', 'X_M', 'A_Ra', 'X_B', 'A_Rc', 'X_IEII', 'X_Rc', 'X_BP', 'A_MendeleevNo', 'B_BP', 'A_Hv', 'A_Hf', 'A_MV', 'X_MP', 'A_M', 'A_BP', 'X_Hf', 'B_M', 'B_Hv'}\n"
     ]
    }
   ],
   "source": [
    "for i in range(len(X.columns)):\n",
    "    for j in range(i):\n",
    "        if abs(corrmat.iloc[i, j]) > 0.9:\n",
    "            colname = corrmat.columns[i]\n",
    "            correlated_features.add(colname)\n",
    "len(correlated_features)\n",
    "print(correlated_features)"
   ]
  },
  {
   "cell_type": "code",
   "execution_count": 35,
   "id": "a03eb5a6",
   "metadata": {},
   "outputs": [
    {
     "data": {
      "text/plain": [
       "(80, 51)"
      ]
     },
     "execution_count": 35,
     "metadata": {},
     "output_type": "execute_result"
    }
   ],
   "source": [
    "data_std.drop(labels=correlated_features, axis=1, inplace=True)\n",
    "data_std.shape"
   ]
  },
  {
   "cell_type": "code",
   "execution_count": 36,
   "id": "414ba69a",
   "metadata": {},
   "outputs": [],
   "source": [
    "# split into train and test\n",
    "df_train, df_test = train_test_split(data_std, \n",
    "                                     train_size = 0.8, \n",
    "                                     test_size = 0.2, \n",
    "                                     random_state = 50)\n",
    "df_train.reset_index(inplace = True)\n",
    "df_test.reset_index(inplace = True)\n",
    "df_train=df_train.drop('index',axis=1)\n",
    "df_test=df_test.drop('index',axis=1)\n",
    "# divide into X_train, y_train, X_test, y_test\n",
    "Y = df_train.pop('Coef_a')\n",
    "X = df_train\n",
    "\n",
    "Y_test = df_test.pop('Coef_a')\n",
    "X_test = df_test"
   ]
  },
  {
   "cell_type": "code",
   "execution_count": 37,
   "id": "640d60b9",
   "metadata": {},
   "outputs": [
    {
     "name": "stdout",
     "output_type": "stream",
     "text": [
      "     Feature       Score\n",
      "1   mean_A2B  109.296724\n",
      "25      X_EA   73.368669\n",
      "14       X_Z   66.718735\n",
      "4   mean_X2X   56.945060\n",
      "32    X_Rvdw   56.130242\n",
      "30    A_Rvdw   51.699207\n",
      "2   mean_A2X   40.526215\n",
      "18     A_IEI   32.506577\n",
      "9      E_coh   30.740923\n",
      "29    A_ChiA   16.249435\n",
      "6    std_A2X   15.249756\n",
      "26    A_ChiP   14.642045\n",
      "23      A_EA   13.518905\n",
      "41      B_Hf   13.440569\n",
      "44   X_Kappa   12.439648\n",
      "36      B_MP   11.182324\n",
      "35      A_MP   10.204076\n",
      "42   A_Kappa    8.683247\n",
      "7    std_B2X    8.580932\n",
      "12       A_Z    8.474870\n",
      "43   B_Kappa    8.031022\n",
      "13       B_Z    6.255140\n",
      "17       X_G    6.249672\n",
      "45     A_CvM    5.656104\n",
      "15       A_G    5.063472\n",
      "11        OF    4.732281\n",
      "34      B_Ra    4.706026\n",
      "20     X_IEI    4.443059\n",
      "47       A_B    4.300002\n",
      "5    std_A2B    3.779552\n"
     ]
    }
   ],
   "source": [
    "#apply SelectKBest class to extract top 10 best features\n",
    "bestfeatures = SelectKBest(score_func=f_regression, k=10)\n",
    "fit = bestfeatures.fit(X,Y)\n",
    "dfscores = pd.DataFrame(fit.scores_)\n",
    "dfcolumns = pd.DataFrame(X.columns)\n",
    "#concat two dataframes for better visualization \n",
    "featureScores = pd.concat([dfcolumns,dfscores],axis=1)\n",
    "featureScores.columns = ['Feature','Score']  #naming the dataframe columns\n",
    "print(featureScores.nlargest(30,'Score'))  #print 10 best features"
   ]
  },
  {
   "cell_type": "code",
   "execution_count": 38,
   "id": "d1df7e92",
   "metadata": {},
   "outputs": [
    {
     "name": "stdout",
     "output_type": "stream",
     "text": [
      "Variable: mean_X2X             Importance: 0.44\n",
      "Variable: mean_A2B             Importance: 0.17\n",
      "Variable: X_Z                  Importance: 0.11\n",
      "Variable: E_coh                Importance: 0.08\n",
      "Variable: X_IEI                Importance: 0.02\n",
      "Variable: A_ChiA               Importance: 0.02\n",
      "Variable: density              Importance: 0.01\n",
      "Variable: TF                   Importance: 0.01\n",
      "Variable: B_Z                  Importance: 0.01\n",
      "Variable: X_G                  Importance: 0.01\n",
      "Variable: B_IEII               Importance: 0.01\n",
      "Variable: X_EA                 Importance: 0.01\n",
      "Variable: X_ChiP               Importance: 0.01\n",
      "Variable: A_Rvdw               Importance: 0.01\n",
      "Variable: B_Rho                Importance: 0.01\n",
      "Variable: B_Hf                 Importance: 0.01\n",
      "Variable: B_CvM                Importance: 0.01\n",
      "Variable: B_MendeleevNo        Importance: 0.01\n",
      "Variable: mean_A2X             Importance: 0.0\n",
      "Variable: mean_B2X             Importance: 0.0\n",
      "Variable: std_A2B              Importance: 0.0\n",
      "Variable: std_A2X              Importance: 0.0\n",
      "Variable: std_B2X              Importance: 0.0\n",
      "Variable: std_X2X              Importance: 0.0\n",
      "Variable: OF                   Importance: 0.0\n",
      "Variable: A_Z                  Importance: 0.0\n",
      "Variable: A_G                  Importance: 0.0\n",
      "Variable: B_G                  Importance: 0.0\n",
      "Variable: A_IEI                Importance: 0.0\n",
      "Variable: B_IEI                Importance: 0.0\n",
      "Variable: A_IEII               Importance: 0.0\n",
      "Variable: A_EA                 Importance: 0.0\n",
      "Variable: B_EA                 Importance: 0.0\n",
      "Variable: A_ChiP               Importance: 0.0\n",
      "Variable: B_ChiP               Importance: 0.0\n",
      "Variable: B_Rvdw               Importance: 0.0\n",
      "Variable: X_Rvdw               Importance: 0.0\n",
      "Variable: B_Rc                 Importance: 0.0\n",
      "Variable: B_Ra                 Importance: 0.0\n",
      "Variable: A_MP                 Importance: 0.0\n",
      "Variable: B_MP                 Importance: 0.0\n",
      "Variable: A_Rho                Importance: 0.0\n",
      "Variable: B_MV                 Importance: 0.0\n",
      "Variable: X_MV                 Importance: 0.0\n",
      "Variable: A_Kappa              Importance: 0.0\n",
      "Variable: B_Kappa              Importance: 0.0\n",
      "Variable: X_Kappa              Importance: 0.0\n",
      "Variable: A_CvM                Importance: 0.0\n",
      "Variable: A_B                  Importance: 0.0\n",
      "Variable: B_B                  Importance: 0.0\n"
     ]
    }
   ],
   "source": [
    "get_RF_feature_importance()"
   ]
  },
  {
   "cell_type": "code",
   "execution_count": 39,
   "id": "6f97b2d6",
   "metadata": {},
   "outputs": [
    {
     "data": {
      "text/plain": [
       "array(['mean_A2B', 'X_EA', 'X_Z', 'mean_X2X', 'X_Rvdw', 'A_Rvdw',\n",
       "       'mean_A2X', 'A_IEI', 'E_coh', 'A_ChiA', 'std_A2X', 'A_ChiP',\n",
       "       'A_EA', 'B_Hf', 'X_Kappa', 'B_MP', 'A_MP', 'A_Kappa', 'std_B2X',\n",
       "       'A_Z', 'B_Kappa', 'B_Z', 'X_G', 'A_CvM', 'A_G', 'OF', 'B_Ra',\n",
       "       'X_IEI', 'A_B', 'std_A2B', 'B_EA', 'B_Rho', 'X_MV', 'density',\n",
       "       'B_IEI', 'B_ChiP', 'B_CvM', 'std_X2X', 'A_Rho', 'B_MV', 'X_ChiP',\n",
       "       'B_MendeleevNo', 'TF', 'B_IEII', 'B_G', 'B_Rvdw', 'A_IEII', 'B_Rc',\n",
       "       'mean_B2X', 'B_B'], dtype=object)"
      ]
     },
     "execution_count": 39,
     "metadata": {},
     "output_type": "execute_result"
    }
   ],
   "source": [
    "featureScores.nlargest(51,'Score')['Feature'].values"
   ]
  },
  {
   "cell_type": "code",
   "execution_count": 40,
   "id": "3c181bb4",
   "metadata": {},
   "outputs": [],
   "source": [
    "X=X[featureScores.nlargest(51,'Score')['Feature'].values]\n",
    "X_test=X_test[featureScores.nlargest(51,'Score')['Feature'].values]"
   ]
  },
  {
   "cell_type": "code",
   "execution_count": 41,
   "id": "1bb6beee",
   "metadata": {},
   "outputs": [
    {
     "name": "stdout",
     "output_type": "stream",
     "text": [
      "GPR-5:  0.9380732107853211\n",
      "RMSE:  0.05872418739360149\n",
      "RMSE unscaled:  7.133946283883212e-09\n",
      "----------------------------------------\n",
      "[[5.97285312e-08]\n",
      " [8.89432730e-08]\n",
      " [1.35615985e-07]\n",
      " [4.46713554e-08]\n",
      " [1.03150689e-07]\n",
      " [7.05937166e-08]\n",
      " [8.97568617e-08]\n",
      " [5.67447135e-08]\n",
      " [3.66520222e-08]\n",
      " [1.03248239e-07]\n",
      " [6.10530521e-08]\n",
      " [7.71354324e-08]\n",
      " [5.66365897e-08]\n",
      " [9.06840477e-08]\n",
      " [1.26198922e-07]\n",
      " [4.03804114e-08]]\n",
      "[[6.15762897e-08]\n",
      " [9.70287030e-08]\n",
      " [1.40050351e-07]\n",
      " [4.28394490e-08]\n",
      " [1.06536143e-07]\n",
      " [7.39440695e-08]\n",
      " [9.40801071e-08]\n",
      " [5.85538436e-08]\n",
      " [5.54334982e-08]\n",
      " [9.13119460e-08]\n",
      " [6.19067824e-08]\n",
      " [8.15742360e-08]\n",
      " [5.68133019e-08]\n",
      " [9.90123222e-08]\n",
      " [1.17486380e-07]\n",
      " [4.44893105e-08]]\n"
     ]
    },
    {
     "data": {
      "image/png": "[encoded data removed]",
      "text/plain": [
       "<Figure size 432x288 with 1 Axes>"
      ]
     },
     "metadata": {
      "needs_background": "light"
     },
     "output_type": "display_data"
    }
   ],
   "source": [
    "#model = GaussianProcessRegressor(kernel=1.0 * RBF(length_scale=100.0, length_scale_bounds=(1e-2, 1e3))+ \n",
    "#                                WhiteKernel(noise_level=1, noise_level_bounds=(1e-10, 1e+1)),alpha=0.0)\n",
    "model = GaussianProcessRegressor(kernel=1.0 * RationalQuadratic(length_scale=1.0, alpha=0.01))\n",
    "model.fit(X,Y)\n",
    "predicted = model.predict(X_test)\n",
    "r2=sklearn.metrics.r2_score(Y_test, predicted)\n",
    "Y_unscaled = scaler.inverse_transform(np.array(Y_test).reshape(-1,1))\n",
    "predicted_unscaled = scaler.inverse_transform(np.array(predicted).reshape(-1,1))\n",
    "err=np.sqrt(mean_squared_error(Y_test,predicted))\n",
    "err_unscaled=np.sqrt(mean_squared_error(Y_unscaled,predicted_unscaled))\n",
    "print(\"GPR-5: \",r2)\n",
    "print(\"RMSE: \",err)\n",
    "print(\"RMSE unscaled: \",err_unscaled)\n",
    "print(\"----------------------------------------\")\n",
    "fig, ax = plt.subplots()\n",
    "ax.scatter(Y_unscaled, predicted_unscaled)\n",
    "print(Y_unscaled)\n",
    "print(predicted_unscaled)\n",
    "ax.plot([Y_unscaled.min(), predicted_unscaled.max()], [Y_unscaled.min(), predicted_unscaled.max()], 'r--', lw=1)\n",
    "#for i in range(len(Y_test)):\n",
    "#    plt.annotate(text[i], (Y_test[i], predicted[i]))\n",
    "ax.set_xlabel(\"Calculated, Coef_a\",fontsize= 20)\n",
    "ax.set_ylabel(\"Predicted, Coef_a\",fontsize= 20)\n",
    "plt.xticks(fontsize=20)\n",
    "plt.yticks(fontsize=20)\n",
    "ax.tick_params(direction='in', length=10, width=2)\n",
    "for axis in ['top','bottom','left','right']:\n",
    "    ax.spines[axis].set_linewidth(2)\n",
    "#plt.savefig('kl_train.eps', format='eps', bbox_inches='tight',pad_inches = 0)\n",
    "plt.show()"
   ]
  },
  {
   "cell_type": "code",
   "execution_count": 42,
   "id": "c93c4a99",
   "metadata": {},
   "outputs": [
    {
     "name": "stdout",
     "output_type": "stream",
     "text": [
      "GPR-2:  0.9999999999999999\n",
      "RMSE:  1.9799556861883715e-09\n",
      "RMSE unscaled:  2.4052946730363707e-16\n",
      "----------------------------------------\n",
      "[[9.18423500e-08]\n",
      " [5.96433360e-08]\n",
      " [6.96472097e-08]\n",
      " [8.73545372e-08]\n",
      " [6.36399270e-08]\n",
      " [6.55162995e-08]\n",
      " [9.37259556e-08]\n",
      " [1.12937348e-07]\n",
      " [6.53675873e-08]\n",
      " [5.92772658e-08]\n",
      " [5.04066537e-08]\n",
      " [7.14007207e-08]\n",
      " [7.27227546e-08]\n",
      " [1.36767297e-07]\n",
      " [6.84621491e-08]\n",
      " [1.20926531e-07]\n",
      " [7.06058011e-08]\n",
      " [1.24745933e-07]\n",
      " [8.88828543e-08]\n",
      " [6.40306211e-08]\n",
      " [3.63271943e-08]\n",
      " [9.79839600e-08]\n",
      " [6.48691027e-08]\n",
      " [8.70294956e-08]\n",
      " [8.97048263e-08]\n",
      " [9.96997256e-08]\n",
      " [1.55514267e-07]\n",
      " [1.30637708e-07]\n",
      " [6.96157068e-08]\n",
      " [5.73160952e-08]\n",
      " [3.40320196e-08]\n",
      " [4.43249198e-08]\n",
      " [1.21581785e-07]\n",
      " [9.35018208e-08]\n",
      " [6.61867860e-08]\n",
      " [5.08485053e-08]\n",
      " [8.06379934e-08]\n",
      " [1.35678832e-07]\n",
      " [1.32945360e-07]\n",
      " [9.31613372e-08]\n",
      " [7.40122036e-08]\n",
      " [5.31711811e-08]\n",
      " [1.27846125e-07]\n",
      " [6.19287781e-08]\n",
      " [5.87606307e-08]\n",
      " [6.66175235e-08]\n",
      " [1.08670340e-07]\n",
      " [3.95093905e-08]\n",
      " [7.08489430e-08]\n",
      " [6.73072451e-08]\n",
      " [1.26617360e-07]\n",
      " [5.11022610e-08]\n",
      " [1.14556029e-07]\n",
      " [8.38011395e-08]\n",
      " [6.51415455e-08]\n",
      " [8.86102822e-08]\n",
      " [7.03035872e-08]\n",
      " [1.24099211e-07]\n",
      " [7.50288628e-08]\n",
      " [6.48675292e-08]\n",
      " [8.04943789e-08]\n",
      " [5.94313268e-08]\n",
      " [1.31725774e-07]\n",
      " [5.90900344e-08]]\n",
      "[[9.18423499e-08]\n",
      " [5.96433360e-08]\n",
      " [6.96472097e-08]\n",
      " [8.73545372e-08]\n",
      " [6.36399270e-08]\n",
      " [6.55162994e-08]\n",
      " [9.37259555e-08]\n",
      " [1.12937348e-07]\n",
      " [6.53675876e-08]\n",
      " [5.92772661e-08]\n",
      " [5.04066538e-08]\n",
      " [7.14007206e-08]\n",
      " [7.27227546e-08]\n",
      " [1.36767297e-07]\n",
      " [6.84621493e-08]\n",
      " [1.20926532e-07]\n",
      " [7.06058017e-08]\n",
      " [1.24745933e-07]\n",
      " [8.88828543e-08]\n",
      " [6.40306212e-08]\n",
      " [3.63271944e-08]\n",
      " [9.79839598e-08]\n",
      " [6.48691025e-08]\n",
      " [8.70294956e-08]\n",
      " [8.97048264e-08]\n",
      " [9.96997251e-08]\n",
      " [1.55514267e-07]\n",
      " [1.30637707e-07]\n",
      " [6.96157068e-08]\n",
      " [5.73160949e-08]\n",
      " [3.40320198e-08]\n",
      " [4.43249198e-08]\n",
      " [1.21581785e-07]\n",
      " [9.35018206e-08]\n",
      " [6.61867860e-08]\n",
      " [5.08485053e-08]\n",
      " [8.06379939e-08]\n",
      " [1.35678832e-07]\n",
      " [1.32945360e-07]\n",
      " [9.31613371e-08]\n",
      " [7.40122036e-08]\n",
      " [5.31711814e-08]\n",
      " [1.27846125e-07]\n",
      " [6.19287781e-08]\n",
      " [5.87606308e-08]\n",
      " [6.66175235e-08]\n",
      " [1.08670340e-07]\n",
      " [3.95093905e-08]\n",
      " [7.08489423e-08]\n",
      " [6.73072451e-08]\n",
      " [1.26617360e-07]\n",
      " [5.11022609e-08]\n",
      " [1.14556029e-07]\n",
      " [8.38011395e-08]\n",
      " [6.51415449e-08]\n",
      " [8.86102820e-08]\n",
      " [7.03035873e-08]\n",
      " [1.24099211e-07]\n",
      " [7.50288628e-08]\n",
      " [6.48675297e-08]\n",
      " [8.04943790e-08]\n",
      " [5.94313269e-08]\n",
      " [1.31725774e-07]\n",
      " [5.90900343e-08]]\n"
     ]
    },
    {
     "data": {
      "image/png": "[encoded data removed]",
      "text/plain": [
       "<Figure size 432x288 with 1 Axes>"
      ]
     },
     "metadata": {
      "needs_background": "light"
     },
     "output_type": "display_data"
    }
   ],
   "source": [
    "predicted = model.predict(X)\n",
    "r2=sklearn.metrics.r2_score(Y, predicted)\n",
    "Y_unscaled = scaler.inverse_transform(np.array(Y).reshape(-1,1))\n",
    "predicted_unscaled = scaler.inverse_transform(np.array(predicted).reshape(-1,1))\n",
    "err=np.sqrt(mean_squared_error(Y,predicted))\n",
    "err_unscaled=np.sqrt(mean_squared_error(Y_unscaled,predicted_unscaled))\n",
    "print(\"GPR-2: \",r2)\n",
    "print(\"RMSE: \",err)\n",
    "print(\"RMSE unscaled: \",err_unscaled)\n",
    "print(\"----------------------------------------\")\n",
    "fig, ax = plt.subplots()\n",
    "ax.scatter(Y_unscaled, predicted_unscaled)\n",
    "print(Y_unscaled)\n",
    "print(predicted_unscaled)\n",
    "ax.plot([Y_unscaled.min(), predicted_unscaled.max()], [Y_unscaled.min(), predicted_unscaled.max()], 'r--', lw=1)\n",
    "#for i in range(len(Y_test)):\n",
    "#    plt.annotate(text[i], (Y_test[i], predicted[i]))\n",
    "ax.set_xlabel(\"Calculated, Coef_a\",fontsize= 20)\n",
    "ax.set_ylabel(\"Predicted, Coef_a\",fontsize= 20)\n",
    "plt.xticks(fontsize=20)\n",
    "plt.yticks(fontsize=20)\n",
    "ax.tick_params(direction='in', length=10, width=2)\n",
    "for axis in ['top','bottom','left','right']:\n",
    "    ax.spines[axis].set_linewidth(2)\n",
    "#plt.savefig('kl_train.eps', format='eps', bbox_inches='tight',pad_inches = 0)\n",
    "plt.show()"
   ]
  },
  {
   "cell_type": "code",
   "execution_count": 43,
   "id": "85aed847",
   "metadata": {},
   "outputs": [
    {
     "name": "stdout",
     "output_type": "stream",
     "text": [
      "Feature: 0, Score: 0.00078\n",
      "Feature: 1, Score: 0.00389\n",
      "Feature: 2, Score: 0.00068\n",
      "Feature: 3, Score: 0.00105\n",
      "Feature: 4, Score: 0.00120\n",
      "Feature: 5, Score: 0.00155\n",
      "Feature: 6, Score: 0.00014\n",
      "Feature: 7, Score: 0.00005\n",
      "Feature: 8, Score: 0.00007\n",
      "Feature: 9, Score: 0.00040\n",
      "Feature: 10, Score: 0.00149\n",
      "Feature: 11, Score: 0.00014\n",
      "Feature: 12, Score: 0.00032\n",
      "Feature: 13, Score: 0.00043\n",
      "Feature: 14, Score: 0.00055\n",
      "Feature: 15, Score: 0.00290\n",
      "Feature: 16, Score: 0.00004\n",
      "Feature: 17, Score: 0.00006\n",
      "Feature: 18, Score: 0.00015\n",
      "Feature: 19, Score: 0.00040\n",
      "Feature: 20, Score: 0.00040\n",
      "Feature: 21, Score: 0.00167\n",
      "Feature: 22, Score: 0.00128\n",
      "Feature: 23, Score: 0.00033\n",
      "Feature: 24, Score: 0.00019\n",
      "Feature: 25, Score: 0.00026\n",
      "Feature: 26, Score: 0.00003\n",
      "Feature: 27, Score: 0.00048\n",
      "Feature: 28, Score: 0.00007\n",
      "Feature: 29, Score: 0.00035\n",
      "Feature: 30, Score: 0.00004\n",
      "Feature: 31, Score: 0.00016\n",
      "Feature: 32, Score: 0.00145\n",
      "Feature: 33, Score: 0.00021\n",
      "Feature: 34, Score: 0.00017\n",
      "Feature: 35, Score: 0.00011\n",
      "Feature: 36, Score: 0.00007\n",
      "Feature: 37, Score: 0.00034\n",
      "Feature: 38, Score: 0.00002\n",
      "Feature: 39, Score: 0.00004\n",
      "Feature: 40, Score: 0.00086\n",
      "Feature: 41, Score: 0.00014\n",
      "Feature: 42, Score: 0.00005\n",
      "Feature: 43, Score: 0.00010\n",
      "Feature: 44, Score: 0.00027\n",
      "Feature: 45, Score: 0.00009\n",
      "Feature: 46, Score: 0.00003\n",
      "Feature: 47, Score: 0.00003\n",
      "Feature: 48, Score: 0.00062\n",
      "Feature: 49, Score: 0.00047\n"
     ]
    },
    {
     "data": {
      "image/png": "[encoded data removed]",
      "text/plain": [
       "<Figure size 432x288 with 1 Axes>"
      ]
     },
     "metadata": {
      "needs_background": "light"
     },
     "output_type": "display_data"
    }
   ],
   "source": [
    "# fit the model\n",
    "feature_scores=[]\n",
    "model.fit(X, Y)\n",
    "# perform permutation importance\n",
    "results = permutation_importance(model, X, Y, scoring='neg_mean_squared_error')\n",
    "# get importance\n",
    "importance = results.importances_mean\n",
    "\n",
    "# summarize feature importance\n",
    "for i,v in enumerate(importance):\n",
    "    feature_scores.append(v)\n",
    "    print('Feature: %0d, Score: %.5f' % (i,v))\n",
    "# plot feature importance\n",
    "plt.bar([x for x in range(len(importance))], importance)\n",
    "plt.show()"
   ]
  },
  {
   "cell_type": "code",
   "execution_count": 44,
   "id": "b695c5a9",
   "metadata": {},
   "outputs": [
    {
     "name": "stdout",
     "output_type": "stream",
     "text": [
      "     Feature     Score\n",
      "1       X_EA  0.003894\n",
      "15      B_MP  0.002899\n",
      "21       B_Z  0.001667\n",
      "5     A_Rvdw  0.001545\n",
      "10   std_A2X  0.001491\n",
      "32      X_MV  0.001451\n",
      "22       X_G  0.001280\n",
      "4     X_Rvdw  0.001198\n",
      "3   mean_X2X  0.001054\n",
      "40    X_ChiP  0.000860\n"
     ]
    }
   ],
   "source": [
    "featureNames = X.columns\n",
    "dfscores = pd.DataFrame(feature_scores)\n",
    "dfcolumns = pd.DataFrame(featureNames)\n",
    "#concat two dataframes for better visualization \n",
    "featureImportance = pd.concat([dfcolumns,dfscores],axis=1)\n",
    "featureImportance.columns = ['Feature','Score']  #naming the dataframe columns\n",
    "print(featureImportance.nlargest(10,'Score'))  #print 10 best features"
   ]
  },
  {
   "cell_type": "code",
   "execution_count": 23,
   "id": "e558c3a2",
   "metadata": {},
   "outputs": [
    {
     "data": {
      "image/png": "[encoded data removed]",
      "text/plain": [
       "<Figure size 1600x1000 with 1 Axes>"
      ]
     },
     "metadata": {},
     "output_type": "display_data"
    }
   ],
   "source": [
    "features = featureImportance.nlargest(10,'Score')['Feature']\n",
    "features_formatted = [\"G-X\",\"EA-X\",\"$\\sigma_{AX}$\",\"r$_{vdw}$-X\",\"r$_{atomic}$-B\",\n",
    "                      \"r$_{vdw}$-A\",\"$\\overline{x}_{XX}$\",\"IE$_{I}$-A\",\"BP-A\",\"$\\sigma_{BX}$\"]\n",
    "Score = featureImportance.nlargest(10,'Score')['Score']\n",
    "# Figure Size\n",
    "plt.rcdefaults()\n",
    "fig, ax = plt.subplots(figsize =(16, 10))\n",
    "\n",
    "#y_pos = np.arange(len(features))\n",
    "importance = Score\n",
    "ax.barh(features, importance, align='center')\n",
    "\n",
    "for axis in ['top','bottom','left','right']:\n",
    "  ax.spines[axis].set_linewidth(2)\n",
    "\n",
    "# Remove x, y Ticks\n",
    "#ax.xaxis.set_ticks_position('none')\n",
    "#ax.yaxis.set_ticks_position('none')\n",
    "\n",
    "ax.tick_params(direction='out', length=10, width=2)\n",
    "\n",
    "\n",
    "# Add padding between axes and labels\n",
    "ax.xaxis.set_tick_params(pad = 5)\n",
    "ax.yaxis.set_tick_params(pad = 5)\n",
    " \n",
    "ax.set_yticklabels(features_formatted, fontsize= 20)\n",
    "plt.xticks(fontsize=30)\n",
    "#ax.set_xticklabels(Score, fontsize= 20)\n",
    "# Add x, y gridlines\n",
    "#ax.grid(b = True, color ='grey',\n",
    "#        linestyle ='-.', linewidth = 0.5,\n",
    " #       alpha = 0.2)\n",
    "\n",
    "# Show top values\n",
    "ax.invert_yaxis()\n",
    "\n",
    "\n",
    "# Add annotation to bars\n",
    "#for i in ax.patches:\n",
    " #   plt.text(i.get_width()+0.2, i.get_y()+0.5,\n",
    " #            str(round((i.get_width()), 2)),\n",
    "#             fontsize = 15, fontweight ='bold',\n",
    "#             color ='black') \n",
    " \n",
    "# Add Plot Title\n",
    "#ax.set_title('Top 10 features',loc ='center', fontsize = 30)\n",
    "#plot save\n",
    "ax.set_xlabel('Feature Importance', fontsize = 30)\n",
    "plt.savefig('imp.png', format='png',dpi=350)\n",
    "# Show Plot\n",
    "plt.show()"
   ]
  },
  {
   "cell_type": "code",
   "execution_count": null,
   "id": "6b6e37f0",
   "metadata": {},
   "outputs": [],
   "source": []
  }
 ],
 "metadata": {
  "kernelspec": {
   "display_name": "Python 3 (ipykernel)",
   "language": "python",
   "name": "python3"
  },
  "language_info": {
   "codemirror_mode": {
    "name": "ipython",
    "version": 3
   },
   "file_extension": ".py",
   "mimetype": "text/x-python",
   "name": "python",
   "nbconvert_exporter": "python",
   "pygments_lexer": "ipython3",
   "version": "3.9.7"
  }
 },
 "nbformat": 4,
 "nbformat_minor": 5
}
