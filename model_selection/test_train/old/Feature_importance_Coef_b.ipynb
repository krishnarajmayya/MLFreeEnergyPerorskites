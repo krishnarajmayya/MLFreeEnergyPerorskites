{
 "cells": [
  {
   "cell_type": "code",
   "execution_count": 1,
   "id": "c3049287",
   "metadata": {},
   "outputs": [],
   "source": [
    "import numpy as np\n",
    "import pandas as pd\n",
    "import matplotlib.pyplot as plt\n",
    "from math import sqrt\n",
    "import seaborn as sns \n",
    "import re\n",
    " \n",
    "import warnings # supress warnings\n",
    "warnings.filterwarnings('ignore')"
   ]
  },
  {
   "cell_type": "code",
   "execution_count": 2,
   "id": "0af1dc92",
   "metadata": {},
   "outputs": [],
   "source": [
    "import sklearn\n",
    "\n",
    "from sklearn.preprocessing import MinMaxScaler, PolynomialFeatures, scale, StandardScaler\n",
    "\n",
    "from sklearn.model_selection import train_test_split, cross_val_score, KFold, GridSearchCV\n",
    "\n",
    "from sklearn.linear_model import LinearRegression, Ridge, Lasso, ElasticNet \n",
    "\n",
    "from sklearn.ensemble import RandomForestRegressor\n",
    "from sklearn.ensemble import GradientBoostingRegressor\n",
    "\n",
    "from sklearn.feature_selection import RFE, SelectKBest, f_regression\n",
    "from sklearn.inspection import permutation_importance\n",
    "\n",
    "from sklearn.gaussian_process import GaussianProcessRegressor\n",
    "from sklearn.gaussian_process.kernels import DotProduct, WhiteKernel, RBF, Matern, RationalQuadratic\n",
    "from sklearn.gaussian_process.kernels import Kernel, Hyperparameter, ConstantKernel\n",
    "from sklearn.gaussian_process.kernels import GenericKernelMixin\n",
    "\n",
    "from sklearn import metrics\n",
    "from sklearn.metrics import mean_squared_error\n",
    "from sklearn.metrics import r2_score  \n",
    "\n",
    "from sklearn.pipeline import make_pipeline\n",
    "\n",
    "from sklearn.base import clone"
   ]
  },
  {
   "cell_type": "code",
   "execution_count": 3,
   "id": "cd48d266",
   "metadata": {},
   "outputs": [],
   "source": [
    "def get_RF_feature_importance():\n",
    "    features= X\n",
    "    feature_list = list(features.columns)\n",
    "    rf = RandomForestRegressor(n_estimators= 15, random_state=1)\n",
    "    rf.fit(X , Y)\n",
    "\n",
    "    # Get numerical feature importances\n",
    "    importances = list(rf.feature_importances_)      \n",
    "    # List of tuples with variable and importance\n",
    "    feature_importances = [(feature, round(importance, 2)) for feature, \n",
    "                           importance in zip(feature_list, importances)]\n",
    "    # Sort the feature importances by most important first\n",
    "    feature_importances = sorted(feature_importances, key = lambda x: x[1], reverse = True)\n",
    "    # Print out the feature and importances \n",
    "    [print('Variable: {:20} Importance: {}'.format(*pair)) for pair in feature_importances];"
   ]
  },
  {
   "cell_type": "code",
   "execution_count": 4,
   "id": "ec168c65",
   "metadata": {},
   "outputs": [],
   "source": [
    "data = pd.read_csv('Combined_all_3rd.csv', encoding='cp1252')  "
   ]
  },
  {
   "cell_type": "code",
   "execution_count": 5,
   "id": "65f8ee82",
   "metadata": {},
   "outputs": [
    {
     "data": {
      "text/plain": [
       "array(['Name', 'Coef_a', 'Coef_b', 'Coef_c', 'Coef_d', 'A_site', 'B_site',\n",
       "       'X_site', 'Spacegroup', 'Ehull', 'BulkModulus', 'Energy', 'ZPE',\n",
       "       's_A', 's_B', 's_X', 'density', 'mean_A2B', 'mean_A2X', 'mean_B2X',\n",
       "       'mean_X2X', 'std_A2B', 'std_A2X', 'std_B2X', 'std_X2X', 'E_coh',\n",
       "       'TF', 'OF', 'A_Z', 'B_Z', 'X_Z', 'A_M', 'B_M', 'X_M', 'A_G', 'B_G',\n",
       "       'X_G', 'A_IEI', 'B_IEI', 'X_IEI', 'A_IEII', 'B_IEII', 'X_IEII',\n",
       "       'A_EA', 'B_EA', 'X_EA', 'A_ChiP', 'B_ChiP', 'X_ChiP', 'A_ChiA',\n",
       "       'X_ChiA', 'A_Rvdw', 'B_Rvdw', 'X_Rvdw', 'A_Rc', 'B_Rc', 'X_Rc',\n",
       "       'A_Ra', 'B_Ra', 'X_Ra', 'A_MP', 'B_MP', 'X_MP', 'A_BP', 'B_BP',\n",
       "       'X_BP', 'A_Rho', 'B_Rho', 'A_MV', 'B_MV', 'X_MV', 'A_Hf', 'B_Hf',\n",
       "       'X_Hf', 'A_Hv', 'B_Hv', 'X_Hv', 'A_Kappa', 'B_Kappa', 'X_Kappa',\n",
       "       'A_CvM', 'B_CvM', 'X_CvM', 'A_B', 'B_B', 'X_B', 'A_MendeleevNo',\n",
       "       'B_MendeleevNo', 'X_MendeleevNo'], dtype=object)"
      ]
     },
     "execution_count": 5,
     "metadata": {},
     "output_type": "execute_result"
    }
   ],
   "source": [
    "data.columns.values"
   ]
  },
  {
   "cell_type": "code",
   "execution_count": 6,
   "id": "7864464a",
   "metadata": {},
   "outputs": [],
   "source": [
    "data.drop(['Name', 'A_site', 'B_site', 'X_site', 'Spacegroup', 'Ehull','BulkModulus', 'Energy','s_A','s_B','s_X','Coef_a','ZPE', 'Coef_c', 'Coef_d'], axis=1, inplace = True)"
   ]
  },
  {
   "cell_type": "code",
   "execution_count": 7,
   "id": "0cb59bb0",
   "metadata": {},
   "outputs": [],
   "source": [
    "data.fillna(0, inplace= True)"
   ]
  },
  {
   "cell_type": "code",
   "execution_count": 8,
   "id": "a616203c",
   "metadata": {},
   "outputs": [
    {
     "data": {
      "text/plain": [
       "array(['Coef_b', 'density', 'mean_A2B', 'mean_A2X', 'mean_B2X',\n",
       "       'mean_X2X', 'std_A2B', 'std_A2X', 'std_B2X', 'std_X2X', 'E_coh',\n",
       "       'TF', 'OF', 'A_Z', 'B_Z', 'X_Z', 'A_M', 'B_M', 'X_M', 'A_G', 'B_G',\n",
       "       'X_G', 'A_IEI', 'B_IEI', 'X_IEI', 'A_IEII', 'B_IEII', 'X_IEII',\n",
       "       'A_EA', 'B_EA', 'X_EA', 'A_ChiP', 'B_ChiP', 'X_ChiP', 'A_ChiA',\n",
       "       'X_ChiA', 'A_Rvdw', 'B_Rvdw', 'X_Rvdw', 'A_Rc', 'B_Rc', 'X_Rc',\n",
       "       'A_Ra', 'B_Ra', 'X_Ra', 'A_MP', 'B_MP', 'X_MP', 'A_BP', 'B_BP',\n",
       "       'X_BP', 'A_Rho', 'B_Rho', 'A_MV', 'B_MV', 'X_MV', 'A_Hf', 'B_Hf',\n",
       "       'X_Hf', 'A_Hv', 'B_Hv', 'X_Hv', 'A_Kappa', 'B_Kappa', 'X_Kappa',\n",
       "       'A_CvM', 'B_CvM', 'X_CvM', 'A_B', 'B_B', 'X_B', 'A_MendeleevNo',\n",
       "       'B_MendeleevNo', 'X_MendeleevNo'], dtype=object)"
      ]
     },
     "execution_count": 8,
     "metadata": {},
     "output_type": "execute_result"
    }
   ],
   "source": [
    "d=data.copy()\n",
    "d.columns.values"
   ]
  },
  {
   "cell_type": "code",
   "execution_count": 9,
   "id": "15a65166",
   "metadata": {},
   "outputs": [],
   "source": [
    "columns = list(d.columns.values)"
   ]
  },
  {
   "cell_type": "code",
   "execution_count": 10,
   "id": "7731e256",
   "metadata": {},
   "outputs": [],
   "source": [
    "data_std=d.copy()\n",
    "scaler=MinMaxScaler()\n",
    "scaler.fit(np.array(data['Coef_b']).reshape(-1, 1))\n",
    "data_zpe_std= scaler.transform(np.array(data['Coef_b']).reshape(-1, 1))\n",
    "data_std[columns]= MinMaxScaler().fit_transform(d[columns])\n",
    "Y = data_std['Coef_b'] \n",
    "X = data_std.drop(['Coef_b'], axis=1)"
   ]
  },
  {
   "cell_type": "code",
   "execution_count": 11,
   "id": "d697e067",
   "metadata": {},
   "outputs": [],
   "source": [
    "corrmat = X.corr()\n",
    "top_corr_features = corrmat.index\n",
    "correlated_features = set()"
   ]
  },
  {
   "cell_type": "code",
   "execution_count": 12,
   "id": "0fd533a0",
   "metadata": {},
   "outputs": [
    {
     "name": "stdout",
     "output_type": "stream",
     "text": [
      "{'X_CvM', 'B_M', 'X_Hv', 'X_Hf', 'A_MendeleevNo', 'X_MP', 'X_ChiA', 'A_M', 'A_Hv', 'A_Hf', 'A_Rc', 'A_MV', 'X_B', 'X_BP', 'X_M', 'A_BP', 'X_MendeleevNo', 'X_IEII', 'X_Rc', 'B_BP', 'X_Ra', 'B_Hv', 'A_Ra'}\n"
     ]
    }
   ],
   "source": [
    "for i in range(len(X.columns)):\n",
    "    for j in range(i):\n",
    "        if abs(corrmat.iloc[i, j]) > 0.9:\n",
    "            colname = corrmat.columns[i]\n",
    "            correlated_features.add(colname)\n",
    "len(correlated_features)\n",
    "print(correlated_features)"
   ]
  },
  {
   "cell_type": "code",
   "execution_count": 13,
   "id": "a03eb5a6",
   "metadata": {},
   "outputs": [
    {
     "data": {
      "text/plain": [
       "(80, 51)"
      ]
     },
     "execution_count": 13,
     "metadata": {},
     "output_type": "execute_result"
    }
   ],
   "source": [
    "data_std.drop(labels=correlated_features, axis=1, inplace=True)\n",
    "data_std.shape"
   ]
  },
  {
   "cell_type": "code",
   "execution_count": 14,
   "id": "414ba69a",
   "metadata": {},
   "outputs": [],
   "source": [
    "# split into train and test\n",
    "df_train, df_test = train_test_split(data_std, \n",
    "                                     train_size = 0.8, \n",
    "                                     test_size = 0.2, \n",
    "                                     random_state = 100)\n",
    "df_train.reset_index(inplace = True)\n",
    "df_test.reset_index(inplace = True)\n",
    "df_train=df_train.drop('index',axis=1)\n",
    "df_test=df_test.drop('index',axis=1)\n",
    "# divide into X_train, y_train, X_test, y_test\n",
    "Y = df_train.pop('Coef_b')\n",
    "X = df_train\n",
    "\n",
    "Y_test = df_test.pop('Coef_b')\n",
    "X_test = df_test"
   ]
  },
  {
   "cell_type": "code",
   "execution_count": 15,
   "id": "640d60b9",
   "metadata": {},
   "outputs": [
    {
     "name": "stdout",
     "output_type": "stream",
     "text": [
      "     Feature      Score\n",
      "1   mean_A2B  84.059383\n",
      "25      X_EA  74.295393\n",
      "14       X_Z  72.236289\n",
      "32    X_Rvdw  60.135654\n",
      "4   mean_X2X  52.111815\n",
      "30    A_Rvdw  38.266002\n",
      "2   mean_A2X  37.337976\n",
      "18     A_IEI  25.262088\n",
      "9      E_coh  19.078389\n",
      "41      B_Hf  14.584107\n",
      "29    A_ChiA  14.291225\n",
      "26    A_ChiP  11.547615\n",
      "17       X_G  11.273347\n",
      "34      B_Ra  10.484972\n",
      "44   X_Kappa   9.962184\n",
      "6    std_A2X   9.665105\n",
      "36      B_MP   9.662584\n",
      "23      A_EA   9.476802\n",
      "7    std_B2X   9.345726\n",
      "35      A_MP   8.307610\n",
      "12       A_Z   7.833143\n",
      "11        OF   7.398681\n",
      "45     A_CvM   5.949536\n",
      "13       B_Z   5.849839\n",
      "39      B_MV   5.720872\n",
      "42   A_Kappa   5.090722\n",
      "40      X_MV   4.778845\n",
      "43   B_Kappa   3.792981\n",
      "47       A_B   3.658663\n",
      "15       A_G   3.167803\n"
     ]
    }
   ],
   "source": [
    "#apply SelectKBest class to extract top 10 best features\n",
    "bestfeatures = SelectKBest(score_func=f_regression, k=10)\n",
    "fit = bestfeatures.fit(X,Y)\n",
    "dfscores = pd.DataFrame(fit.scores_)\n",
    "dfcolumns = pd.DataFrame(X.columns)\n",
    "#concat two dataframes for better visualization \n",
    "featureScores = pd.concat([dfcolumns,dfscores],axis=1)\n",
    "featureScores.columns = ['Feature','Score']  #naming the dataframe columns\n",
    "print(featureScores.nlargest(30,'Score'))  #print 10 best features"
   ]
  },
  {
   "cell_type": "code",
   "execution_count": 16,
   "id": "d1df7e92",
   "metadata": {},
   "outputs": [
    {
     "name": "stdout",
     "output_type": "stream",
     "text": [
      "Variable: X_EA                 Importance: 0.23\n",
      "Variable: X_Z                  Importance: 0.17\n",
      "Variable: X_Rvdw               Importance: 0.13\n",
      "Variable: mean_A2B             Importance: 0.1\n",
      "Variable: X_IEI                Importance: 0.07\n",
      "Variable: X_MV                 Importance: 0.03\n",
      "Variable: density              Importance: 0.02\n",
      "Variable: mean_X2X             Importance: 0.02\n",
      "Variable: E_coh                Importance: 0.02\n",
      "Variable: OF                   Importance: 0.02\n",
      "Variable: B_MP                 Importance: 0.02\n",
      "Variable: B_Rho                Importance: 0.02\n",
      "Variable: B_Kappa              Importance: 0.02\n",
      "Variable: mean_A2X             Importance: 0.01\n",
      "Variable: mean_B2X             Importance: 0.01\n",
      "Variable: std_B2X              Importance: 0.01\n",
      "Variable: TF                   Importance: 0.01\n",
      "Variable: A_Z                  Importance: 0.01\n",
      "Variable: B_Z                  Importance: 0.01\n",
      "Variable: X_ChiP               Importance: 0.01\n",
      "Variable: A_ChiA               Importance: 0.01\n",
      "Variable: B_Rc                 Importance: 0.01\n",
      "Variable: B_MV                 Importance: 0.01\n",
      "Variable: B_CvM                Importance: 0.01\n",
      "Variable: std_A2B              Importance: 0.0\n",
      "Variable: std_A2X              Importance: 0.0\n",
      "Variable: std_X2X              Importance: 0.0\n",
      "Variable: A_G                  Importance: 0.0\n",
      "Variable: B_G                  Importance: 0.0\n",
      "Variable: X_G                  Importance: 0.0\n",
      "Variable: A_IEI                Importance: 0.0\n",
      "Variable: B_IEI                Importance: 0.0\n",
      "Variable: A_IEII               Importance: 0.0\n",
      "Variable: B_IEII               Importance: 0.0\n",
      "Variable: A_EA                 Importance: 0.0\n",
      "Variable: B_EA                 Importance: 0.0\n",
      "Variable: A_ChiP               Importance: 0.0\n",
      "Variable: B_ChiP               Importance: 0.0\n",
      "Variable: A_Rvdw               Importance: 0.0\n",
      "Variable: B_Rvdw               Importance: 0.0\n",
      "Variable: B_Ra                 Importance: 0.0\n",
      "Variable: A_MP                 Importance: 0.0\n",
      "Variable: A_Rho                Importance: 0.0\n",
      "Variable: B_Hf                 Importance: 0.0\n",
      "Variable: A_Kappa              Importance: 0.0\n",
      "Variable: X_Kappa              Importance: 0.0\n",
      "Variable: A_CvM                Importance: 0.0\n",
      "Variable: A_B                  Importance: 0.0\n",
      "Variable: B_B                  Importance: 0.0\n",
      "Variable: B_MendeleevNo        Importance: 0.0\n"
     ]
    }
   ],
   "source": [
    "get_RF_feature_importance()"
   ]
  },
  {
   "cell_type": "code",
   "execution_count": 17,
   "id": "6f97b2d6",
   "metadata": {},
   "outputs": [
    {
     "data": {
      "text/plain": [
       "array(['mean_A2B', 'X_EA', 'X_Z', 'X_Rvdw', 'mean_X2X', 'A_Rvdw',\n",
       "       'mean_A2X', 'A_IEI', 'E_coh', 'B_Hf', 'A_ChiA', 'A_ChiP', 'X_G',\n",
       "       'B_Ra', 'X_Kappa', 'std_A2X', 'B_MP', 'A_EA', 'std_B2X', 'A_MP',\n",
       "       'A_Z', 'OF', 'A_CvM', 'B_Z', 'B_MV', 'A_Kappa', 'X_MV', 'B_Kappa',\n",
       "       'A_B', 'A_G', 'B_CvM', 'std_A2B', 'X_IEI', 'B_EA', 'B_Rvdw',\n",
       "       'std_X2X', 'B_Rho', 'B_Rc', 'B_IEII', 'TF'], dtype=object)"
      ]
     },
     "execution_count": 17,
     "metadata": {},
     "output_type": "execute_result"
    }
   ],
   "source": [
    "featureScores.nlargest(40,'Score')['Feature'].values"
   ]
  },
  {
   "cell_type": "code",
   "execution_count": 18,
   "id": "3c181bb4",
   "metadata": {},
   "outputs": [],
   "source": [
    "X=X[featureScores.nlargest(40,'Score')['Feature'].values]\n",
    "X_test=X_test[featureScores.nlargest(40,'Score')['Feature'].values]"
   ]
  },
  {
   "cell_type": "code",
   "execution_count": 19,
   "id": "1bb6beee",
   "metadata": {},
   "outputs": [
    {
     "name": "stdout",
     "output_type": "stream",
     "text": [
      "GPR-5:  0.9757524143371747\n",
      "RMSE:  0.037760038770321684\n",
      "RMSE unscaled:  8.025806905228536e-06\n",
      "----------------------------------------\n",
      "[[-0.00031439]\n",
      " [-0.00020066]\n",
      " [-0.00025172]\n",
      " [-0.00023064]\n",
      " [-0.00021754]\n",
      " [-0.00034938]\n",
      " [-0.00026607]\n",
      " [-0.0002676 ]\n",
      " [-0.00034012]\n",
      " [-0.00026083]\n",
      " [-0.00022079]\n",
      " [-0.00034739]\n",
      " [-0.0002687 ]\n",
      " [-0.00031325]\n",
      " [-0.00022535]\n",
      " [-0.000182  ]]\n",
      "[[-0.00031506]\n",
      " [-0.00019408]\n",
      " [-0.00025753]\n",
      " [-0.000238  ]\n",
      " [-0.00020919]\n",
      " [-0.00034643]\n",
      " [-0.00027399]\n",
      " [-0.00028566]\n",
      " [-0.00035027]\n",
      " [-0.00024815]\n",
      " [-0.00021538]\n",
      " [-0.00034292]\n",
      " [-0.00026958]\n",
      " [-0.00031751]\n",
      " [-0.00022581]\n",
      " [-0.000172  ]]\n"
     ]
    },
    {
     "data": {
      "image/png": "[encoded data removed]",
      "text/plain": [
       "<Figure size 432x288 with 1 Axes>"
      ]
     },
     "metadata": {
      "needs_background": "light"
     },
     "output_type": "display_data"
    }
   ],
   "source": [
    "#model = GaussianProcessRegressor(kernel=1.0 * RBF(length_scale=100.0, length_scale_bounds=(1e-2, 1e3))+ \n",
    "#                                WhiteKernel(noise_level=1, noise_level_bounds=(1e-10, 1e+1)),alpha=0.0)\n",
    "model = GaussianProcessRegressor(kernel=1.0 * RationalQuadratic(length_scale=1.0, alpha=0.01))\n",
    "model.fit(X,Y)\n",
    "predicted = model.predict(X_test)\n",
    "r2=sklearn.metrics.r2_score(Y_test, predicted)\n",
    "Y_unscaled = scaler.inverse_transform(np.array(Y_test).reshape(-1,1))\n",
    "predicted_unscaled = scaler.inverse_transform(np.array(predicted).reshape(-1,1))\n",
    "err=np.sqrt(mean_squared_error(Y_test,predicted))\n",
    "err_unscaled=np.sqrt(mean_squared_error(Y_unscaled,predicted_unscaled))\n",
    "print(\"GPR-5: \",r2)\n",
    "print(\"RMSE: \",err)\n",
    "print(\"RMSE unscaled: \",err_unscaled)\n",
    "print(\"----------------------------------------\")\n",
    "fig, ax = plt.subplots()\n",
    "ax.scatter(Y_unscaled, predicted_unscaled)\n",
    "print(Y_unscaled)\n",
    "print(predicted_unscaled)\n",
    "ax.plot([Y_unscaled.min(), predicted_unscaled.max()], [Y_unscaled.min(), predicted_unscaled.max()], 'r--', lw=1)\n",
    "#for i in range(len(Y_test)):\n",
    "#    plt.annotate(text[i], (Y_test[i], predicted[i]))\n",
    "ax.set_xlabel(\"Calculated, Coef_b\",fontsize= 20)\n",
    "ax.set_ylabel(\"Predicted, Coef_b\",fontsize= 20)\n",
    "plt.xticks(fontsize=20)\n",
    "plt.yticks(fontsize=20)\n",
    "ax.tick_params(direction='in', length=10, width=2)\n",
    "for axis in ['top','bottom','left','right']:\n",
    "    ax.spines[axis].set_linewidth(2)\n",
    "#plt.savefig('kl_train.eps', format='eps', bbox_inches='tight',pad_inches = 0)\n",
    "plt.show()"
   ]
  },
  {
   "cell_type": "code",
   "execution_count": 20,
   "id": "c93c4a99",
   "metadata": {},
   "outputs": [
    {
     "name": "stdout",
     "output_type": "stream",
     "text": [
      "GPR-2:  1.0\n",
      "RMSE:  1.83530935021406e-09\n",
      "RMSE unscaled:  3.9009066200653e-13\n",
      "----------------------------------------\n",
      "[[-0.00015994]\n",
      " [-0.00019733]\n",
      " [-0.0003302 ]\n",
      " [-0.00022188]\n",
      " [-0.00021916]\n",
      " [-0.00017809]\n",
      " [-0.00022621]\n",
      " [-0.00018673]\n",
      " [-0.00021797]\n",
      " [-0.00025849]\n",
      " [-0.00019198]\n",
      " [-0.00030622]\n",
      " [-0.00017189]\n",
      " [-0.00020899]\n",
      " [-0.00024586]\n",
      " [-0.00020582]\n",
      " [-0.0002636 ]\n",
      " [-0.00023937]\n",
      " [-0.00021392]\n",
      " [-0.00029593]\n",
      " [-0.00028593]\n",
      " [-0.00016142]\n",
      " [-0.00022024]\n",
      " [-0.00027038]\n",
      " [-0.00035189]\n",
      " [-0.00020759]\n",
      " [-0.00028855]\n",
      " [-0.00026507]\n",
      " [-0.00023359]\n",
      " [-0.00023816]\n",
      " [-0.00027747]\n",
      " [-0.00018977]\n",
      " [-0.00021868]\n",
      " [-0.00015128]\n",
      " [-0.0002701 ]\n",
      " [-0.00016466]\n",
      " [-0.00015394]\n",
      " [-0.0001897 ]\n",
      " [-0.00021421]\n",
      " [-0.00035868]\n",
      " [-0.00021315]\n",
      " [-0.00023258]\n",
      " [-0.00024776]\n",
      " [-0.0002319 ]\n",
      " [-0.0002323 ]\n",
      " [-0.00026781]\n",
      " [-0.00033464]\n",
      " [-0.00036383]\n",
      " [-0.00020601]\n",
      " [-0.00029585]\n",
      " [-0.00021121]\n",
      " [-0.00035672]\n",
      " [-0.00023134]\n",
      " [-0.0002209 ]\n",
      " [-0.00033946]\n",
      " [-0.00032597]\n",
      " [-0.00035678]\n",
      " [-0.00027805]\n",
      " [-0.000235  ]\n",
      " [-0.00022913]\n",
      " [-0.0002068 ]\n",
      " [-0.00034251]\n",
      " [-0.00033649]\n",
      " [-0.00020129]]\n",
      "[[-0.00015994]\n",
      " [-0.00019733]\n",
      " [-0.0003302 ]\n",
      " [-0.00022188]\n",
      " [-0.00021916]\n",
      " [-0.00017809]\n",
      " [-0.00022621]\n",
      " [-0.00018673]\n",
      " [-0.00021797]\n",
      " [-0.00025849]\n",
      " [-0.00019198]\n",
      " [-0.00030622]\n",
      " [-0.00017189]\n",
      " [-0.00020899]\n",
      " [-0.00024586]\n",
      " [-0.00020582]\n",
      " [-0.0002636 ]\n",
      " [-0.00023937]\n",
      " [-0.00021392]\n",
      " [-0.00029593]\n",
      " [-0.00028593]\n",
      " [-0.00016142]\n",
      " [-0.00022024]\n",
      " [-0.00027038]\n",
      " [-0.00035189]\n",
      " [-0.00020759]\n",
      " [-0.00028855]\n",
      " [-0.00026507]\n",
      " [-0.00023359]\n",
      " [-0.00023816]\n",
      " [-0.00027747]\n",
      " [-0.00018977]\n",
      " [-0.00021868]\n",
      " [-0.00015128]\n",
      " [-0.0002701 ]\n",
      " [-0.00016466]\n",
      " [-0.00015394]\n",
      " [-0.0001897 ]\n",
      " [-0.00021421]\n",
      " [-0.00035868]\n",
      " [-0.00021315]\n",
      " [-0.00023258]\n",
      " [-0.00024776]\n",
      " [-0.0002319 ]\n",
      " [-0.0002323 ]\n",
      " [-0.00026781]\n",
      " [-0.00033464]\n",
      " [-0.00036383]\n",
      " [-0.00020601]\n",
      " [-0.00029585]\n",
      " [-0.00021121]\n",
      " [-0.00035672]\n",
      " [-0.00023134]\n",
      " [-0.0002209 ]\n",
      " [-0.00033946]\n",
      " [-0.00032597]\n",
      " [-0.00035678]\n",
      " [-0.00027805]\n",
      " [-0.000235  ]\n",
      " [-0.00022913]\n",
      " [-0.0002068 ]\n",
      " [-0.00034251]\n",
      " [-0.00033649]\n",
      " [-0.00020129]]\n"
     ]
    },
    {
     "data": {
      "image/png": "[encoded data removed]",
      "text/plain": [
       "<Figure size 432x288 with 1 Axes>"
      ]
     },
     "metadata": {
      "needs_background": "light"
     },
     "output_type": "display_data"
    }
   ],
   "source": [
    "predicted = model.predict(X)\n",
    "r2=sklearn.metrics.r2_score(Y, predicted)\n",
    "Y_unscaled = scaler.inverse_transform(np.array(Y).reshape(-1,1))\n",
    "predicted_unscaled = scaler.inverse_transform(np.array(predicted).reshape(-1,1))\n",
    "err=np.sqrt(mean_squared_error(Y,predicted))\n",
    "err_unscaled=np.sqrt(mean_squared_error(Y_unscaled,predicted_unscaled))\n",
    "print(\"GPR-2: \",r2)\n",
    "print(\"RMSE: \",err)\n",
    "print(\"RMSE unscaled: \",err_unscaled)\n",
    "print(\"----------------------------------------\")\n",
    "fig, ax = plt.subplots()\n",
    "ax.scatter(Y_unscaled, predicted_unscaled)\n",
    "print(Y_unscaled)\n",
    "print(predicted_unscaled)\n",
    "ax.plot([Y_unscaled.min(), predicted_unscaled.max()], [Y_unscaled.min(), predicted_unscaled.max()], 'r--', lw=1)\n",
    "#for i in range(len(Y_test)):\n",
    "#    plt.annotate(text[i], (Y_test[i], predicted[i]))\n",
    "ax.set_xlabel(\"Calculated, Coef_b\",fontsize= 20)\n",
    "ax.set_ylabel(\"Predicted, Coef_b\",fontsize= 20)\n",
    "plt.xticks(fontsize=20)\n",
    "plt.yticks(fontsize=20)\n",
    "ax.tick_params(direction='in', length=10, width=2)\n",
    "for axis in ['top','bottom','left','right']:\n",
    "    ax.spines[axis].set_linewidth(2)\n",
    "#plt.savefig('kl_train.eps', format='eps', bbox_inches='tight',pad_inches = 0)\n",
    "plt.show()"
   ]
  },
  {
   "cell_type": "code",
   "execution_count": 21,
   "id": "85aed847",
   "metadata": {},
   "outputs": [
    {
     "name": "stdout",
     "output_type": "stream",
     "text": [
      "Feature: 0, Score: 0.00053\n",
      "Feature: 1, Score: 0.00942\n",
      "Feature: 2, Score: 0.00075\n",
      "Feature: 3, Score: 0.00231\n",
      "Feature: 4, Score: 0.00107\n",
      "Feature: 5, Score: 0.00124\n",
      "Feature: 6, Score: 0.00009\n",
      "Feature: 7, Score: 0.00009\n",
      "Feature: 8, Score: 0.00017\n",
      "Feature: 9, Score: 0.00057\n",
      "Feature: 10, Score: 0.00046\n",
      "Feature: 11, Score: 0.00020\n",
      "Feature: 12, Score: 0.00437\n",
      "Feature: 13, Score: 0.00017\n",
      "Feature: 14, Score: 0.00050\n",
      "Feature: 15, Score: 0.00219\n",
      "Feature: 16, Score: 0.00334\n",
      "Feature: 17, Score: 0.00067\n",
      "Feature: 18, Score: 0.00121\n",
      "Feature: 19, Score: 0.00010\n",
      "Feature: 20, Score: 0.00078\n",
      "Feature: 21, Score: 0.00030\n",
      "Feature: 22, Score: 0.00129\n",
      "Feature: 23, Score: 0.00106\n",
      "Feature: 24, Score: 0.00018\n",
      "Feature: 25, Score: 0.00027\n",
      "Feature: 26, Score: 0.00043\n",
      "Feature: 27, Score: 0.00025\n",
      "Feature: 28, Score: 0.00023\n",
      "Feature: 29, Score: 0.00017\n",
      "Feature: 30, Score: 0.00012\n",
      "Feature: 31, Score: 0.00043\n",
      "Feature: 32, Score: 0.00033\n",
      "Feature: 33, Score: 0.00024\n",
      "Feature: 34, Score: 0.00081\n",
      "Feature: 35, Score: 0.00053\n",
      "Feature: 36, Score: 0.00114\n",
      "Feature: 37, Score: 0.00028\n",
      "Feature: 38, Score: 0.00007\n",
      "Feature: 39, Score: 0.00009\n"
     ]
    },
    {
     "data": {
      "image/png": "[encoded data removed]",
      "text/plain": [
       "<Figure size 432x288 with 1 Axes>"
      ]
     },
     "metadata": {
      "needs_background": "light"
     },
     "output_type": "display_data"
    }
   ],
   "source": [
    "# fit the model\n",
    "feature_scores=[]\n",
    "model.fit(X, Y)\n",
    "# perform permutation importance\n",
    "results = permutation_importance(model, X, Y, scoring='neg_mean_squared_error')\n",
    "# get importance\n",
    "importance = results.importances_mean\n",
    "\n",
    "# summarize feature importance\n",
    "for i,v in enumerate(importance):\n",
    "    feature_scores.append(v)\n",
    "    print('Feature: %0d, Score: %.5f' % (i,v))\n",
    "# plot feature importance\n",
    "plt.bar([x for x in range(len(importance))], importance)\n",
    "plt.show()"
   ]
  },
  {
   "cell_type": "code",
   "execution_count": 22,
   "id": "b695c5a9",
   "metadata": {},
   "outputs": [
    {
     "name": "stdout",
     "output_type": "stream",
     "text": [
      "     Feature     Score\n",
      "1       X_EA  0.009424\n",
      "12       X_G  0.004367\n",
      "16      B_MP  0.003335\n",
      "3     X_Rvdw  0.002312\n",
      "15   std_A2X  0.002188\n",
      "22     A_CvM  0.001286\n",
      "5     A_Rvdw  0.001243\n",
      "18   std_B2X  0.001214\n",
      "36     B_Rho  0.001137\n",
      "4   mean_X2X  0.001066\n"
     ]
    }
   ],
   "source": [
    "featureNames = X.columns\n",
    "dfscores = pd.DataFrame(feature_scores)\n",
    "dfcolumns = pd.DataFrame(featureNames)\n",
    "#concat two dataframes for better visualization \n",
    "featureImportance = pd.concat([dfcolumns,dfscores],axis=1)\n",
    "featureImportance.columns = ['Feature','Score']  #naming the dataframe columns\n",
    "print(featureImportance.nlargest(10,'Score'))  #print 10 best features"
   ]
  },
  {
   "cell_type": "code",
   "execution_count": 23,
   "id": "e558c3a2",
   "metadata": {},
   "outputs": [
    {
     "data": {
      "image/png": "[encoded data removed]",
      "text/plain": [
       "<Figure size 1600x1000 with 1 Axes>"
      ]
     },
     "metadata": {},
     "output_type": "display_data"
    }
   ],
   "source": [
    "features = featureImportance.nlargest(10,'Score')['Feature']\n",
    "features_formatted = [\"G-X\",\"EA-X\",\"$\\sigma_{AX}$\",\"r$_{vdw}$-X\",\"r$_{atomic}$-B\",\n",
    "                      \"r$_{vdw}$-A\",\"$\\overline{x}_{XX}$\",\"IE$_{I}$-A\",\"BP-A\",\"$\\sigma_{BX}$\"]\n",
    "Score = featureImportance.nlargest(10,'Score')['Score']\n",
    "# Figure Size\n",
    "plt.rcdefaults()\n",
    "fig, ax = plt.subplots(figsize =(16, 10))\n",
    "\n",
    "#y_pos = np.arange(len(features))\n",
    "importance = Score\n",
    "ax.barh(features, importance, align='center')\n",
    "\n",
    "for axis in ['top','bottom','left','right']:\n",
    "  ax.spines[axis].set_linewidth(2)\n",
    "\n",
    "# Remove x, y Ticks\n",
    "#ax.xaxis.set_ticks_position('none')\n",
    "#ax.yaxis.set_ticks_position('none')\n",
    "\n",
    "ax.tick_params(direction='out', length=10, width=2)\n",
    "\n",
    "\n",
    "# Add padding between axes and labels\n",
    "ax.xaxis.set_tick_params(pad = 5)\n",
    "ax.yaxis.set_tick_params(pad = 5)\n",
    " \n",
    "ax.set_yticklabels(features_formatted, fontsize= 20)\n",
    "plt.xticks(fontsize=30)\n",
    "#ax.set_xticklabels(Score, fontsize= 20)\n",
    "# Add x, y gridlines\n",
    "#ax.grid(b = True, color ='grey',\n",
    "#        linestyle ='-.', linewidth = 0.5,\n",
    " #       alpha = 0.2)\n",
    "\n",
    "# Show top values\n",
    "ax.invert_yaxis()\n",
    "\n",
    "\n",
    "# Add annotation to bars\n",
    "#for i in ax.patches:\n",
    " #   plt.text(i.get_width()+0.2, i.get_y()+0.5,\n",
    " #            str(round((i.get_width()), 2)),\n",
    "#             fontsize = 15, fontweight ='bold',\n",
    "#             color ='black') \n",
    " \n",
    "# Add Plot Title\n",
    "#ax.set_title('Top 10 features',loc ='center', fontsize = 30)\n",
    "#plot save\n",
    "ax.set_xlabel('Feature Importance', fontsize = 30)\n",
    "plt.savefig('imp.png', format='png',dpi=350)\n",
    "# Show Plot\n",
    "plt.show()"
   ]
  },
  {
   "cell_type": "code",
   "execution_count": null,
   "id": "6b6e37f0",
   "metadata": {},
   "outputs": [],
   "source": []
  }
 ],
 "metadata": {
  "kernelspec": {
   "display_name": "Python 3 (ipykernel)",
   "language": "python",
   "name": "python3"
  },
  "language_info": {
   "codemirror_mode": {
    "name": "ipython",
    "version": 3
   },
   "file_extension": ".py",
   "mimetype": "text/x-python",
   "name": "python",
   "nbconvert_exporter": "python",
   "pygments_lexer": "ipython3",
   "version": "3.9.7"
  }
 },
 "nbformat": 4,
 "nbformat_minor": 5
}
