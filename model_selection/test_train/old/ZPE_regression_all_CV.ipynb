{
 "cells": [
  {
   "cell_type": "code",
   "execution_count": 1,
   "metadata": {
    "id": "U1Or_5CpWR5m"
   },
   "outputs": [],
   "source": [
    "import numpy as np\n",
    "import pandas as pd\n",
    "import matplotlib.pyplot as plt\n",
    "from math import sqrt\n",
    "import seaborn as sns \n",
    "import re\n",
    " \n",
    "import warnings # supress warnings\n",
    "warnings.filterwarnings('ignore')"
   ]
  },
  {
   "cell_type": "code",
   "execution_count": 2,
   "metadata": {
    "id": "wd0p9t1imwDC"
   },
   "outputs": [],
   "source": [
    "import sklearn\n",
    "\n",
    "from sklearn.preprocessing import MinMaxScaler, PolynomialFeatures, scale, StandardScaler\n",
    "\n",
    "from sklearn.model_selection import train_test_split, cross_val_score, KFold, GridSearchCV\n",
    "\n",
    "from sklearn.linear_model import LinearRegression, Ridge, Lasso, ElasticNet \n",
    "\n",
    "from sklearn.ensemble import RandomForestRegressor\n",
    "from sklearn.ensemble import GradientBoostingRegressor\n",
    "\n",
    "from sklearn.feature_selection import RFE, SelectKBest, f_regression\n",
    "from sklearn.inspection import permutation_importance\n",
    "\n",
    "from sklearn.gaussian_process import GaussianProcessRegressor\n",
    "from sklearn.gaussian_process.kernels import DotProduct, WhiteKernel, RBF, Matern, RationalQuadratic\n",
    "from sklearn.gaussian_process.kernels import Kernel, Hyperparameter, ConstantKernel\n",
    "from sklearn.gaussian_process.kernels import GenericKernelMixin\n",
    "\n",
    "from sklearn import metrics\n",
    "from sklearn.metrics import mean_squared_error\n",
    "from sklearn.metrics import r2_score  \n",
    "\n",
    "from sklearn.pipeline import make_pipeline\n",
    "\n",
    "from sklearn.base import clone"
   ]
  },
  {
   "cell_type": "code",
   "execution_count": 3,
   "metadata": {},
   "outputs": [],
   "source": [
    "def run_models():\n",
    "    rf = RandomForestRegressor(n_estimators= 100, random_state= 10)\n",
    "    gb = GradientBoostingRegressor(loss='quantile', alpha=0.5,\n",
    "                                n_estimators=100, max_depth=10,\n",
    "                                learning_rate=0.25, min_samples_leaf=9,\n",
    "                                min_samples_split=2)\n",
    "    lr = LinearRegression()\n",
    "    rr = Ridge(alpha=0.01)\n",
    "    lasso = Lasso(alpha=0.01)\n",
    "    gpr1 = GaussianProcessRegressor(kernel=DotProduct() + WhiteKernel(),random_state=0)\n",
    "    gpr2 = GaussianProcessRegressor(kernel=1.0 * RBF(length_scale=100.0, length_scale_bounds=(1e-2, 1e3))+ \n",
    "                                WhiteKernel(noise_level=1, noise_level_bounds=(1e-10, 1e+1)),alpha=0.0)\n",
    "    gpr3 = GaussianProcessRegressor(kernel=ConstantKernel(1.0, (1e-2, 1e3)) * RBF(10, (1e-3, 1e4)),\n",
    "                                n_restarts_optimizer=9)\n",
    "    gpr4 = GaussianProcessRegressor(kernel=1.0 * RBF(length_scale=1.0, length_scale_bounds=(1e-1, 10.0)))\n",
    "    gpr5 = GaussianProcessRegressor(kernel=1.0 * RationalQuadratic(length_scale=1.0, alpha=0.01))\n",
    "    gpr6 = GaussianProcessRegressor(kernel=1.0 * Matern(length_scale=1.0, length_scale_bounds=(1e-2, 10.0),nu=0.35))\n",
    "    models = [rf,gb,lr,rr,lasso,gpr1,gpr2,gpr3,gpr4,gpr5,gpr6]\n",
    "    models_names = [\"RF\",\"GB\",\"LR\",\"RR\",\"LASSO\",\"gpr1\",\"gpr2\",\"gpr3\",\"gpr4\",\"gpr5\",\"gpr6\"]\n",
    "    r2scores=[]\n",
    "    rmse=[]\n",
    "    count=0\n",
    "    for model in models :\n",
    "        predicted_y = []\n",
    "        expected_y = []\n",
    "        kf = KFold(n_splits= 10) \n",
    "        # partition data\n",
    "        for train_index, test_index in kf.split(X, Y):\n",
    "            # specific \".loc\" syntax for working with dataframes\n",
    "            x_train, x_test = X.loc[train_index], X.loc[test_index]\n",
    "            y_train, y_test = Y[train_index], Y[test_index]\n",
    "\n",
    "            # create and fit classifier\n",
    "            model.fit(x_train, y_train)\n",
    "\n",
    "            # store result from classification\n",
    "            predicted_y.extend(model.predict(x_test))\n",
    "\n",
    "            # store expected result for this specific fold\n",
    "            expected_y.extend(y_test)\n",
    "        \n",
    "        r2 = metrics.r2_score(expected_y, predicted_y)\n",
    "        r2scores.append(r2)\n",
    "        \n",
    "        err=np.sqrt(metrics.mean_squared_error(expected_y, predicted_y))\n",
    "        rmse.append(err)\n",
    "        \n",
    "        print(models_names[count])\n",
    "        print(\"R2: \",r2.__str__())\n",
    "        print(\"RMSE: \",err)\n",
    "        print(\"---------------------------------------\")\n",
    "        count+=1\n",
    "    \n",
    "    plt.rcdefaults()\n",
    "    fig, ax = plt.subplots()\n",
    "\n",
    "    x_pos = np.arange(len(models_names))\n",
    "    ax.bar(x_pos, r2scores, align='center')\n",
    "    ax.set_xticks(x_pos)\n",
    "    ax.set_xticklabels(models_names)\n",
    "    ax.set_ylabel('R2 Score')\n",
    "    #plt.savefig('imp.eps', format='eps')\n",
    "    #plt.show()\n",
    "    print(r2scores)"
   ]
  },
  {
   "cell_type": "code",
   "execution_count": 4,
   "metadata": {
    "id": "hjdsOVHoYDJB"
   },
   "outputs": [],
   "source": [
    "data = pd.read_csv('Combined_all_3rd.csv', encoding='cp1252')   "
   ]
  },
  {
   "cell_type": "code",
   "execution_count": 5,
   "metadata": {},
   "outputs": [
    {
     "data": {
      "text/plain": [
       "array(['Name', 'Coef_a', 'Coef_b', 'Coef_c', 'Coef_d', 'A_site', 'B_site',\n",
       "       'X_site', 'Spacegroup', 'Ehull', 'BulkModulus', 'Energy', 'ZPE',\n",
       "       's_A', 's_B', 's_X', 'density', 'mean_A2B', 'mean_A2X', 'mean_B2X',\n",
       "       'mean_X2X', 'std_A2B', 'std_A2X', 'std_B2X', 'std_X2X', 'E_coh',\n",
       "       'TF', 'OF', 'A_Z', 'B_Z', 'X_Z', 'A_M', 'B_M', 'X_M', 'A_G', 'B_G',\n",
       "       'X_G', 'A_IEI', 'B_IEI', 'X_IEI', 'A_IEII', 'B_IEII', 'X_IEII',\n",
       "       'A_EA', 'B_EA', 'X_EA', 'A_ChiP', 'B_ChiP', 'X_ChiP', 'A_ChiA',\n",
       "       'X_ChiA', 'A_Rvdw', 'B_Rvdw', 'X_Rvdw', 'A_Rc', 'B_Rc', 'X_Rc',\n",
       "       'A_Ra', 'B_Ra', 'X_Ra', 'A_MP', 'B_MP', 'X_MP', 'A_BP', 'B_BP',\n",
       "       'X_BP', 'A_Rho', 'B_Rho', 'A_MV', 'B_MV', 'X_MV', 'A_Hf', 'B_Hf',\n",
       "       'X_Hf', 'A_Hv', 'B_Hv', 'X_Hv', 'A_Kappa', 'B_Kappa', 'X_Kappa',\n",
       "       'A_CvM', 'B_CvM', 'X_CvM', 'A_B', 'B_B', 'X_B', 'A_MendeleevNo',\n",
       "       'B_MendeleevNo', 'X_MendeleevNo'], dtype=object)"
      ]
     },
     "execution_count": 5,
     "metadata": {},
     "output_type": "execute_result"
    }
   ],
   "source": [
    "data.columns.values"
   ]
  },
  {
   "cell_type": "code",
   "execution_count": 6,
   "metadata": {
    "id": "5BRaOxKmYmEg"
   },
   "outputs": [],
   "source": [
    "data.drop(['Name', 'A_site', 'B_site', 'X_site', 'Spacegroup', 'Ehull','BulkModulus', 'Energy','s_A','s_B','s_X','Coef_a','Coef_b', 'Coef_c', 'Coef_d'], axis=1, inplace = True)"
   ]
  },
  {
   "cell_type": "code",
   "execution_count": 7,
   "metadata": {},
   "outputs": [],
   "source": [
    "data.fillna(0, inplace= True)\n",
    "#sg_dummies = pd.get_dummies(data.Spacegroup)\n",
    "#d = pd.concat([data, sg_dummies], axis=1)\n",
    "#d.drop(['Spacegroup'], axis=1, inplace=True)"
   ]
  },
  {
   "cell_type": "code",
   "execution_count": 8,
   "metadata": {},
   "outputs": [
    {
     "data": {
      "text/plain": [
       "array(['ZPE', 'density', 'mean_A2B', 'mean_A2X', 'mean_B2X', 'mean_X2X',\n",
       "       'std_A2B', 'std_A2X', 'std_B2X', 'std_X2X', 'E_coh', 'TF', 'OF',\n",
       "       'A_Z', 'B_Z', 'X_Z', 'A_M', 'B_M', 'X_M', 'A_G', 'B_G', 'X_G',\n",
       "       'A_IEI', 'B_IEI', 'X_IEI', 'A_IEII', 'B_IEII', 'X_IEII', 'A_EA',\n",
       "       'B_EA', 'X_EA', 'A_ChiP', 'B_ChiP', 'X_ChiP', 'A_ChiA', 'X_ChiA',\n",
       "       'A_Rvdw', 'B_Rvdw', 'X_Rvdw', 'A_Rc', 'B_Rc', 'X_Rc', 'A_Ra',\n",
       "       'B_Ra', 'X_Ra', 'A_MP', 'B_MP', 'X_MP', 'A_BP', 'B_BP', 'X_BP',\n",
       "       'A_Rho', 'B_Rho', 'A_MV', 'B_MV', 'X_MV', 'A_Hf', 'B_Hf', 'X_Hf',\n",
       "       'A_Hv', 'B_Hv', 'X_Hv', 'A_Kappa', 'B_Kappa', 'X_Kappa', 'A_CvM',\n",
       "       'B_CvM', 'X_CvM', 'A_B', 'B_B', 'X_B', 'A_MendeleevNo',\n",
       "       'B_MendeleevNo', 'X_MendeleevNo'], dtype=object)"
      ]
     },
     "execution_count": 8,
     "metadata": {},
     "output_type": "execute_result"
    }
   ],
   "source": [
    "d=data.copy()\n",
    "d.columns.values"
   ]
  },
  {
   "cell_type": "code",
   "execution_count": 9,
   "metadata": {},
   "outputs": [],
   "source": [
    "columns = list(d.columns.values)"
   ]
  },
  {
   "cell_type": "markdown",
   "metadata": {},
   "source": [
    "# Standard Scaling"
   ]
  },
  {
   "cell_type": "code",
   "execution_count": 10,
   "metadata": {},
   "outputs": [],
   "source": [
    "data_std=d.copy()\n",
    "scalerSTD=StandardScaler()\n",
    "scalerSTD.fit(np.array(data['ZPE']).reshape(-1, 1))\n",
    "data_zpe_std= scalerSTD.transform(np.array(data['ZPE']).reshape(-1, 1))\n",
    "data_std[columns]= StandardScaler().fit_transform(d[columns])\n",
    "Y = data_std['ZPE'] \n",
    "X = data_std.drop(['ZPE'], axis=1)"
   ]
  },
  {
   "cell_type": "code",
   "execution_count": 11,
   "metadata": {
    "colab": {
     "base_uri": "https://localhost:8080/",
     "height": 1000
    },
    "id": "tlOE49vEdBdg",
    "outputId": "de963215-6f9c-4552-d074-9be23315edef"
   },
   "outputs": [],
   "source": [
    "corrmat = X.corr()\n",
    "top_corr_features = corrmat.index\n",
    "correlated_features = set()\n",
    "#plt.figure(figsize=(20,20))\n",
    "#plot heat map\n",
    "#g=sns.heatmap(data[top_corr_features].corr(),annot=True,cmap=\"RdYlGn\" )"
   ]
  },
  {
   "cell_type": "code",
   "execution_count": 12,
   "metadata": {
    "id": "9cMT3J-sVrZP"
   },
   "outputs": [
    {
     "name": "stdout",
     "output_type": "stream",
     "text": [
      "{'A_BP', 'X_BP', 'A_Hf', 'X_MP', 'A_MendeleevNo', 'X_M', 'B_M', 'A_Ra', 'A_MV', 'B_BP', 'B_Hv', 'X_CvM', 'X_ChiA', 'X_B', 'X_MendeleevNo', 'A_M', 'X_Hv', 'X_Ra', 'X_Hf', 'A_Rc', 'A_Hv', 'X_IEII', 'X_Rc'}\n"
     ]
    }
   ],
   "source": [
    "for i in range(len(X.columns)):\n",
    "    for j in range(i):\n",
    "        if abs(corrmat.iloc[i, j]) > 0.9:\n",
    "            colname = corrmat.columns[i]\n",
    "            correlated_features.add(colname)\n",
    "len(correlated_features)\n",
    "print(correlated_features)"
   ]
  },
  {
   "cell_type": "code",
   "execution_count": 13,
   "metadata": {
    "id": "7-nT8kNsWJRO"
   },
   "outputs": [],
   "source": [
    "data_std.drop(labels=correlated_features, axis=1, inplace=True)\n",
    "data_std.shape\n",
    "Y = data_std['ZPE'] \n",
    "X = data_std.drop(['ZPE'], axis=1)"
   ]
  },
  {
   "cell_type": "code",
   "execution_count": 14,
   "metadata": {},
   "outputs": [],
   "source": [
    "#data_std.to_csv(\"scaled_non_correlated.csv\")"
   ]
  },
  {
   "cell_type": "markdown",
   "metadata": {
    "id": "ZaJDp0jdzwnZ"
   },
   "source": [
    "### Using CV technique"
   ]
  },
  {
   "cell_type": "code",
   "execution_count": 15,
   "metadata": {},
   "outputs": [
    {
     "name": "stdout",
     "output_type": "stream",
     "text": [
      "RF\n",
      "R2:  0.9300381469972936\n",
      "RMSE:  0.2645030302335048\n",
      "---------------------------------------\n",
      "GB\n",
      "R2:  0.81126578855507\n",
      "RMSE:  0.43443550895953476\n",
      "---------------------------------------\n",
      "LR\n",
      "R2:  -0.7442925012762842\n",
      "RMSE:  1.320716661996919\n",
      "---------------------------------------\n",
      "RR\n",
      "R2:  0.5844404790217803\n",
      "RMSE:  0.6446390625599877\n",
      "---------------------------------------\n",
      "LASSO\n",
      "R2:  0.9319008685668944\n",
      "RMSE:  0.2609581028309058\n",
      "---------------------------------------\n",
      "gpr1\n",
      "R2:  0.8446874725321197\n",
      "RMSE:  0.39409710410998994\n",
      "---------------------------------------\n",
      "gpr2\n",
      "R2:  0.946943397312303\n",
      "RMSE:  0.23034018904154993\n",
      "---------------------------------------\n",
      "gpr3\n",
      "R2:  0.9439747986830426\n",
      "RMSE:  0.23669643283530362\n",
      "---------------------------------------\n",
      "gpr4\n",
      "R2:  0.94989077333625\n",
      "RMSE:  0.22385090275393107\n",
      "---------------------------------------\n",
      "gpr5\n",
      "R2:  0.951882550784153\n",
      "RMSE:  0.21935689917540102\n",
      "---------------------------------------\n",
      "gpr6\n",
      "R2:  0.8526934304747149\n",
      "RMSE:  0.3838053797503171\n",
      "---------------------------------------\n",
      "[0.9300381469972936, 0.81126578855507, -0.7442925012762842, 0.5844404790217803, 0.9319008685668944, 0.8446874725321197, 0.946943397312303, 0.9439747986830426, 0.94989077333625, 0.951882550784153, 0.8526934304747149]\n"
     ]
    },
    {
     "data": {
      "image/png": "[encoded data removed]",
      "text/plain": [
       "<Figure size 640x480 with 1 Axes>"
      ]
     },
     "metadata": {},
     "output_type": "display_data"
    }
   ],
   "source": [
    "run_models()"
   ]
  },
  {
   "cell_type": "markdown",
   "metadata": {
    "id": "_x7bQR-jz4WE"
   },
   "source": [
    "## Feature selection\n"
   ]
  },
  {
   "cell_type": "code",
   "execution_count": 16,
   "metadata": {
    "colab": {
     "base_uri": "https://localhost:8080/"
    },
    "id": "RpTITR9vz7Th",
    "outputId": "b1c134f4-85a3-49a7-fa3a-34f5d4896d01"
   },
   "outputs": [
    {
     "name": "stdout",
     "output_type": "stream",
     "text": [
      "     Feature       Score\n",
      "25      X_EA  105.609050\n",
      "32    X_Rvdw   95.867663\n",
      "14       X_Z   72.212377\n",
      "1   mean_A2B   65.395072\n",
      "4   mean_X2X   45.275813\n",
      "17       X_G   35.852833\n",
      "30    A_Rvdw   32.817229\n",
      "2   mean_A2X   29.382067\n",
      "18     A_IEI   26.603709\n",
      "34      B_Ra   22.349002\n",
      "41      B_Hf   21.695622\n",
      "11        OF   19.136656\n",
      "13       B_Z   18.951946\n",
      "29    A_ChiA   17.090678\n",
      "7    std_B2X   16.196258\n",
      "9      E_coh   15.939550\n",
      "6    std_A2X   13.265442\n",
      "26    A_ChiP   12.861322\n",
      "36      B_MP   12.465146\n",
      "23      A_EA   11.880101\n",
      "35      A_MP    9.959892\n",
      "33      B_Rc    9.161701\n",
      "46     B_CvM    9.044620\n",
      "31    B_Rvdw    8.706402\n",
      "40      X_MV    8.579672\n",
      "38     B_Rho    7.940778\n",
      "39      B_MV    7.759945\n",
      "12       A_Z    7.542829\n",
      "10        TF    6.791751\n",
      "5    std_A2B    6.754609\n"
     ]
    }
   ],
   "source": [
    "#apply SelectKBest class to extract top 10 best features\n",
    "bestfeatures = SelectKBest(score_func=f_regression, k=10)\n",
    "fit = bestfeatures.fit(X,Y)\n",
    "dfscores = pd.DataFrame(fit.scores_)\n",
    "dfcolumns = pd.DataFrame(X.columns)\n",
    "#concat two dataframes for better visualization \n",
    "featureScores = pd.concat([dfcolumns,dfscores],axis=1)\n",
    "featureScores.columns = ['Feature','Score']  #naming the dataframe columns\n",
    "print(featureScores.nlargest(30,'Score'))  #print 10 best features"
   ]
  },
  {
   "cell_type": "code",
   "execution_count": 17,
   "metadata": {},
   "outputs": [
    {
     "data": {
      "text/plain": [
       "array(['X_EA', 'X_Rvdw', 'X_Z', 'mean_A2B', 'mean_X2X', 'X_G', 'A_Rvdw',\n",
       "       'mean_A2X', 'A_IEI', 'B_Ra', 'B_Hf', 'OF', 'B_Z', 'A_ChiA',\n",
       "       'std_B2X', 'E_coh', 'std_A2X', 'A_ChiP', 'B_MP', 'A_EA', 'A_MP',\n",
       "       'B_Rc', 'B_CvM', 'B_Rvdw', 'X_MV', 'B_Rho', 'B_MV', 'A_Z', 'TF',\n",
       "       'std_A2B', 'A_Kappa', 'std_X2X', 'A_CvM', 'A_B', 'X_Kappa', 'A_G',\n",
       "       'B_Kappa', 'B_EA', 'B_IEII', 'X_ChiP'], dtype=object)"
      ]
     },
     "execution_count": 17,
     "metadata": {},
     "output_type": "execute_result"
    }
   ],
   "source": [
    "featureScores.nlargest(40,'Score')['Feature'].values"
   ]
  },
  {
   "cell_type": "code",
   "execution_count": 18,
   "metadata": {},
   "outputs": [],
   "source": [
    "X=X[featureScores.nlargest(40,'Score')['Feature'].values]"
   ]
  },
  {
   "cell_type": "code",
   "execution_count": 19,
   "metadata": {},
   "outputs": [
    {
     "name": "stdout",
     "output_type": "stream",
     "text": [
      "RF\n",
      "R2:  0.930444527048912\n",
      "RMSE:  0.26373371599226364\n",
      "---------------------------------------\n",
      "GB\n",
      "R2:  0.8049288512055588\n",
      "RMSE:  0.4416685961152788\n",
      "---------------------------------------\n",
      "LR\n",
      "R2:  -0.13978569346289182\n",
      "RMSE:  1.0676074622551548\n",
      "---------------------------------------\n",
      "RR\n",
      "R2:  0.15553620186602457\n",
      "RMSE:  0.9189471138939256\n",
      "---------------------------------------\n",
      "LASSO\n",
      "R2:  0.9246856899653456\n",
      "RMSE:  0.2744345277742113\n",
      "---------------------------------------\n",
      "gpr1\n",
      "R2:  0.5831060356554456\n",
      "RMSE:  0.6456732643873017\n",
      "---------------------------------------\n",
      "gpr2\n",
      "R2:  0.9490577366574585\n",
      "RMSE:  0.2257039285048921\n",
      "---------------------------------------\n",
      "gpr3\n",
      "R2:  0.9458753180760754\n",
      "RMSE:  0.2326471188816329\n",
      "---------------------------------------\n",
      "gpr4\n",
      "R2:  0.9464299112572211\n",
      "RMSE:  0.23145213056435437\n",
      "---------------------------------------\n",
      "gpr5\n",
      "R2:  0.9542684591991213\n",
      "RMSE:  0.21384934136180705\n",
      "---------------------------------------\n",
      "gpr6\n",
      "R2:  0.8696254311048381\n",
      "RMSE:  0.36107418752267767\n",
      "---------------------------------------\n",
      "[0.930444527048912, 0.8049288512055588, -0.13978569346289182, 0.15553620186602457, 0.9246856899653456, 0.5831060356554456, 0.9490577366574585, 0.9458753180760754, 0.9464299112572211, 0.9542684591991213, 0.8696254311048381]\n"
     ]
    },
    {
     "data": {
      "image/png": "[encoded data removed]",
      "text/plain": [
       "<Figure size 640x480 with 1 Axes>"
      ]
     },
     "metadata": {},
     "output_type": "display_data"
    }
   ],
   "source": [
    "run_models()"
   ]
  },
  {
   "cell_type": "code",
   "execution_count": 20,
   "metadata": {},
   "outputs": [
    {
     "data": {
      "text/plain": [
       "array(['X_EA', 'X_Rvdw', 'X_Z', 'mean_A2B', 'mean_X2X', 'X_G', 'A_Rvdw',\n",
       "       'mean_A2X', 'A_IEI', 'B_Ra', 'B_Hf', 'OF', 'B_Z', 'A_ChiA',\n",
       "       'std_B2X', 'E_coh', 'std_A2X', 'A_ChiP', 'B_MP', 'A_EA', 'A_MP',\n",
       "       'B_Rc', 'B_CvM', 'B_Rvdw', 'X_MV', 'B_Rho', 'B_MV', 'A_Z', 'TF',\n",
       "       'std_A2B'], dtype=object)"
      ]
     },
     "execution_count": 20,
     "metadata": {},
     "output_type": "execute_result"
    }
   ],
   "source": [
    "featureScores.nlargest(30,'Score')['Feature'].values"
   ]
  },
  {
   "cell_type": "code",
   "execution_count": 21,
   "metadata": {},
   "outputs": [],
   "source": [
    "X=X[featureScores.nlargest(30,'Score')['Feature'].values]\n",
    "t30_columns = ['X_EA', 'X_Rvdw', 'X_Z', 'mean_A2B', 'mean_X2X', 'X_G', 'A_Rvdw',\n",
    "       'mean_A2X', 'A_IEI', 'B_Ra', 'B_Hf', 'OF', 'B_Z', 'A_ChiA',\n",
    "       'std_B2X', 'E_coh', 'std_A2X', 'A_ChiP', 'B_MP', 'A_EA', 'A_MP',\n",
    "       'B_Rc', 'B_CvM', 'B_Rvdw', 'X_MV', 'B_Rho', 'B_MV', 'A_Z', 'TF',\n",
    "       'std_A2B']\n",
    "data_save=data_std[t30_columns]\n",
    "#data_save.to_csv(\"scaled_top_30.csv\")"
   ]
  },
  {
   "cell_type": "code",
   "execution_count": 22,
   "metadata": {},
   "outputs": [
    {
     "name": "stdout",
     "output_type": "stream",
     "text": [
      "RF\n",
      "R2:  0.9308801753922998\n",
      "RMSE:  0.2629064940386603\n",
      "---------------------------------------\n",
      "GB\n",
      "R2:  0.799246070321993\n",
      "RMSE:  0.4480557216217721\n",
      "---------------------------------------\n",
      "LR\n",
      "R2:  0.7750917269750361\n",
      "RMSE:  0.47424495044751275\n",
      "---------------------------------------\n",
      "RR\n",
      "R2:  0.7794132009230024\n",
      "RMSE:  0.469666689341492\n",
      "---------------------------------------\n",
      "LASSO\n",
      "R2:  0.9169121899089738\n",
      "RMSE:  0.28824956216970415\n",
      "---------------------------------------\n",
      "gpr1\n",
      "R2:  0.8262554041566633\n",
      "RMSE:  0.41682681756736417\n",
      "---------------------------------------\n",
      "gpr2\n",
      "R2:  0.9342944335204564\n",
      "RMSE:  0.2563309705820653\n",
      "---------------------------------------\n",
      "gpr3\n",
      "R2:  0.9377292637264963\n",
      "RMSE:  0.24954105127915058\n",
      "---------------------------------------\n",
      "gpr4\n",
      "R2:  0.9377292664219216\n",
      "RMSE:  0.24954104587838538\n",
      "---------------------------------------\n",
      "gpr5\n",
      "R2:  0.9485230957873744\n",
      "RMSE:  0.22688522255234175\n",
      "---------------------------------------\n",
      "gpr6\n",
      "R2:  0.8914330995184896\n",
      "RMSE:  0.32949491723167806\n",
      "---------------------------------------\n",
      "[0.9308801753922998, 0.799246070321993, 0.7750917269750361, 0.7794132009230024, 0.9169121899089738, 0.8262554041566633, 0.9342944335204564, 0.9377292637264963, 0.9377292664219216, 0.9485230957873744, 0.8914330995184896]\n"
     ]
    },
    {
     "data": {
      "image/png": "[encoded data removed]",
      "text/plain": [
       "<Figure size 640x480 with 1 Axes>"
      ]
     },
     "metadata": {},
     "output_type": "display_data"
    }
   ],
   "source": [
    "run_models()"
   ]
  },
  {
   "cell_type": "code",
   "execution_count": 23,
   "metadata": {},
   "outputs": [
    {
     "data": {
      "text/plain": [
       "array(['X_EA', 'X_Rvdw', 'X_Z', 'mean_A2B', 'mean_X2X', 'X_G', 'A_Rvdw',\n",
       "       'mean_A2X', 'A_IEI', 'B_Ra', 'B_Hf', 'OF', 'B_Z', 'A_ChiA',\n",
       "       'std_B2X', 'E_coh', 'std_A2X', 'A_ChiP', 'B_MP', 'A_EA'],\n",
       "      dtype=object)"
      ]
     },
     "execution_count": 23,
     "metadata": {},
     "output_type": "execute_result"
    }
   ],
   "source": [
    "featureScores.nlargest(20,'Score')['Feature'].values"
   ]
  },
  {
   "cell_type": "code",
   "execution_count": 24,
   "metadata": {},
   "outputs": [],
   "source": [
    "X=X[featureScores.nlargest(20,'Score')['Feature'].values]"
   ]
  },
  {
   "cell_type": "code",
   "execution_count": 25,
   "metadata": {},
   "outputs": [
    {
     "name": "stdout",
     "output_type": "stream",
     "text": [
      "RF\n",
      "R2:  0.9166786843870713\n",
      "RMSE:  0.2886543185419693\n",
      "---------------------------------------\n",
      "GB\n",
      "R2:  0.8040984881796318\n",
      "RMSE:  0.44260762738611753\n",
      "---------------------------------------\n",
      "LR\n",
      "R2:  0.8938136383750462\n",
      "RMSE:  0.32586248882765534\n",
      "---------------------------------------\n",
      "RR\n",
      "R2:  0.8943681921239164\n",
      "RMSE:  0.3250104734867533\n",
      "---------------------------------------\n",
      "LASSO\n",
      "R2:  0.9318949573777837\n",
      "RMSE:  0.2609694285203082\n",
      "---------------------------------------\n",
      "gpr1\n",
      "R2:  0.9153596421387421\n",
      "RMSE:  0.290930159765635\n",
      "---------------------------------------\n",
      "gpr2\n",
      "R2:  0.9222377891961235\n",
      "RMSE:  0.27885876497588613\n",
      "---------------------------------------\n",
      "gpr3\n",
      "R2:  0.8095987635639643\n",
      "RMSE:  0.436349901381948\n",
      "---------------------------------------\n",
      "gpr4\n",
      "R2:  0.9326106364428388\n",
      "RMSE:  0.25959461388318744\n",
      "---------------------------------------\n",
      "gpr5\n",
      "R2:  0.9501507562446072\n",
      "RMSE:  0.2232694420546457\n",
      "---------------------------------------\n",
      "gpr6\n",
      "R2:  0.9173541815980097\n",
      "RMSE:  0.28748185751798366\n",
      "---------------------------------------\n",
      "[0.9166786843870713, 0.8040984881796318, 0.8938136383750462, 0.8943681921239164, 0.9318949573777837, 0.9153596421387421, 0.9222377891961235, 0.8095987635639643, 0.9326106364428388, 0.9501507562446072, 0.9173541815980097]\n"
     ]
    },
    {
     "data": {
      "image/png": "[encoded data removed]",
      "text/plain": [
       "<Figure size 640x480 with 1 Axes>"
      ]
     },
     "metadata": {},
     "output_type": "display_data"
    }
   ],
   "source": [
    "run_models()"
   ]
  },
  {
   "cell_type": "code",
   "execution_count": 26,
   "metadata": {},
   "outputs": [
    {
     "data": {
      "text/plain": [
       "array(['X_EA', 'X_Rvdw', 'X_Z', 'mean_A2B', 'mean_X2X', 'X_G', 'A_Rvdw',\n",
       "       'mean_A2X', 'A_IEI', 'B_Ra'], dtype=object)"
      ]
     },
     "execution_count": 26,
     "metadata": {},
     "output_type": "execute_result"
    }
   ],
   "source": [
    "featureScores.nlargest(10,'Score')['Feature'].values"
   ]
  },
  {
   "cell_type": "code",
   "execution_count": 27,
   "metadata": {},
   "outputs": [],
   "source": [
    "X=X[featureScores.nlargest(10,'Score')['Feature'].values]"
   ]
  },
  {
   "cell_type": "code",
   "execution_count": 28,
   "metadata": {},
   "outputs": [
    {
     "name": "stdout",
     "output_type": "stream",
     "text": [
      "RF\n",
      "R2:  0.9217111152039277\n",
      "RMSE:  0.2798015096386586\n",
      "---------------------------------------\n",
      "GB\n",
      "R2:  0.7319114840966032\n",
      "RMSE:  0.5177726488560368\n",
      "---------------------------------------\n",
      "LR\n",
      "R2:  0.8906224170167029\n",
      "RMSE:  0.33072281896370126\n",
      "---------------------------------------\n",
      "RR\n",
      "R2:  0.8906566547909615\n",
      "RMSE:  0.3306710528743612\n",
      "---------------------------------------\n",
      "LASSO\n",
      "R2:  0.8976064802349125\n",
      "RMSE:  0.3199898744727519\n",
      "---------------------------------------\n",
      "gpr1\n",
      "R2:  0.8992331714262006\n",
      "RMSE:  0.3174379129433019\n",
      "---------------------------------------\n",
      "gpr2\n",
      "R2:  0.9334851918216894\n",
      "RMSE:  0.25790464939258195\n",
      "---------------------------------------\n",
      "gpr3\n",
      "R2:  0.814318119113258\n",
      "RMSE:  0.4309082047104023\n",
      "---------------------------------------\n",
      "gpr4\n",
      "R2:  0.8143181007808713\n",
      "RMSE:  0.43090822598220235\n",
      "---------------------------------------\n",
      "gpr5\n",
      "R2:  0.910428490810571\n",
      "RMSE:  0.2992849965992767\n",
      "---------------------------------------\n",
      "gpr6\n",
      "R2:  0.9154301362682775\n",
      "RMSE:  0.29080898151831974\n",
      "---------------------------------------\n",
      "[0.9217111152039277, 0.7319114840966032, 0.8906224170167029, 0.8906566547909615, 0.8976064802349125, 0.8992331714262006, 0.9334851918216894, 0.814318119113258, 0.8143181007808713, 0.910428490810571, 0.9154301362682775]\n"
     ]
    },
    {
     "data": {
      "image/png": "[encoded data removed]",
      "text/plain": [
       "<Figure size 640x480 with 1 Axes>"
      ]
     },
     "metadata": {},
     "output_type": "display_data"
    }
   ],
   "source": [
    "run_models()"
   ]
  },
  {
   "cell_type": "markdown",
   "metadata": {},
   "source": [
    "# Min-Max scaling"
   ]
  },
  {
   "cell_type": "code",
   "execution_count": 29,
   "metadata": {},
   "outputs": [],
   "source": [
    "data_std=d.copy()\n",
    "scalerMM=MinMaxScaler()\n",
    "scalerMM.fit(np.array(data['ZPE']).reshape(-1, 1))\n",
    "data_zpe_mm= scalerMM.transform(np.array(data['ZPE']).reshape(-1, 1))\n",
    "data_std[columns]= MinMaxScaler().fit_transform(d[columns])\n",
    "Y = data_std['ZPE'] \n",
    "X = data_std.drop(['ZPE'], axis=1)"
   ]
  },
  {
   "cell_type": "code",
   "execution_count": 30,
   "metadata": {},
   "outputs": [],
   "source": [
    "corrmat = X.corr()\n",
    "top_corr_features = corrmat.index\n",
    "correlated_features = set()\n",
    "#plt.figure(figsize=(20,20))\n",
    "#plot heat map\n",
    "#g=sns.heatmap(data[top_corr_features].corr(),annot=True,cmap=\"RdYlGn\" )"
   ]
  },
  {
   "cell_type": "code",
   "execution_count": 31,
   "metadata": {},
   "outputs": [
    {
     "name": "stdout",
     "output_type": "stream",
     "text": [
      "{'A_BP', 'X_BP', 'A_Hf', 'X_MP', 'A_MendeleevNo', 'X_M', 'B_M', 'A_Ra', 'A_MV', 'B_BP', 'B_Hv', 'X_CvM', 'X_ChiA', 'X_B', 'X_MendeleevNo', 'A_M', 'X_Hv', 'X_Ra', 'X_Hf', 'A_Rc', 'A_Hv', 'X_IEII', 'X_Rc'}\n"
     ]
    }
   ],
   "source": [
    "for i in range(len(X.columns)):\n",
    "    for j in range(i):\n",
    "        if abs(corrmat.iloc[i, j]) > 0.9:\n",
    "            colname = corrmat.columns[i]\n",
    "            correlated_features.add(colname)\n",
    "len(correlated_features)\n",
    "print(correlated_features)"
   ]
  },
  {
   "cell_type": "code",
   "execution_count": 32,
   "metadata": {},
   "outputs": [],
   "source": [
    "data_std.drop(labels=correlated_features, axis=1, inplace=True)\n",
    "data_std.shape\n",
    "Y = data_std['ZPE'] \n",
    "X = data_std.drop(['ZPE'], axis=1)\n",
    "data_std.to_csv('Coef_a_scaled_non_corr_all.csv',index=False)"
   ]
  },
  {
   "cell_type": "code",
   "execution_count": 33,
   "metadata": {},
   "outputs": [
    {
     "data": {
      "text/html": [
       "<div>\n",
       "<style scoped>\n",
       "    .dataframe tbody tr th:only-of-type {\n",
       "        vertical-align: middle;\n",
       "    }\n",
       "\n",
       "    .dataframe tbody tr th {\n",
       "        vertical-align: top;\n",
       "    }\n",
       "\n",
       "    .dataframe thead th {\n",
       "        text-align: right;\n",
       "    }\n",
       "</style>\n",
       "<table border=\"1\" class=\"dataframe\">\n",
       "  <thead>\n",
       "    <tr style=\"text-align: right;\">\n",
       "      <th></th>\n",
       "      <th>density</th>\n",
       "      <th>mean_A2B</th>\n",
       "      <th>mean_A2X</th>\n",
       "      <th>mean_B2X</th>\n",
       "      <th>mean_X2X</th>\n",
       "      <th>std_A2B</th>\n",
       "      <th>std_A2X</th>\n",
       "      <th>std_B2X</th>\n",
       "      <th>std_X2X</th>\n",
       "      <th>E_coh</th>\n",
       "      <th>...</th>\n",
       "      <th>X_MV</th>\n",
       "      <th>B_Hf</th>\n",
       "      <th>A_Kappa</th>\n",
       "      <th>B_Kappa</th>\n",
       "      <th>X_Kappa</th>\n",
       "      <th>A_CvM</th>\n",
       "      <th>B_CvM</th>\n",
       "      <th>A_B</th>\n",
       "      <th>B_B</th>\n",
       "      <th>B_MendeleevNo</th>\n",
       "    </tr>\n",
       "  </thead>\n",
       "  <tbody>\n",
       "    <tr>\n",
       "      <th>0</th>\n",
       "      <td>0.672824</td>\n",
       "      <td>0.151484</td>\n",
       "      <td>0.474179</td>\n",
       "      <td>0.702269</td>\n",
       "      <td>0.436373</td>\n",
       "      <td>0.244175</td>\n",
       "      <td>9.343893e-01</td>\n",
       "      <td>5.352915e-01</td>\n",
       "      <td>1.000000e+00</td>\n",
       "      <td>0.000000</td>\n",
       "      <td>...</td>\n",
       "      <td>0.424242</td>\n",
       "      <td>0.070857</td>\n",
       "      <td>1.000000</td>\n",
       "      <td>0.024634</td>\n",
       "      <td>0.034592</td>\n",
       "      <td>0.222415</td>\n",
       "      <td>0.000000</td>\n",
       "      <td>0.333333</td>\n",
       "      <td>0.5</td>\n",
       "      <td>0.872093</td>\n",
       "    </tr>\n",
       "    <tr>\n",
       "      <th>1</th>\n",
       "      <td>0.656093</td>\n",
       "      <td>0.282161</td>\n",
       "      <td>0.440717</td>\n",
       "      <td>0.147937</td>\n",
       "      <td>0.098232</td>\n",
       "      <td>0.000000</td>\n",
       "      <td>0.000000e+00</td>\n",
       "      <td>0.000000e+00</td>\n",
       "      <td>0.000000e+00</td>\n",
       "      <td>0.637222</td>\n",
       "      <td>...</td>\n",
       "      <td>0.424242</td>\n",
       "      <td>0.211538</td>\n",
       "      <td>0.022523</td>\n",
       "      <td>0.071527</td>\n",
       "      <td>0.034592</td>\n",
       "      <td>0.021720</td>\n",
       "      <td>0.006358</td>\n",
       "      <td>0.000000</td>\n",
       "      <td>1.0</td>\n",
       "      <td>0.441860</td>\n",
       "    </tr>\n",
       "    <tr>\n",
       "      <th>2</th>\n",
       "      <td>0.342848</td>\n",
       "      <td>0.220005</td>\n",
       "      <td>0.393242</td>\n",
       "      <td>0.102269</td>\n",
       "      <td>0.028852</td>\n",
       "      <td>0.000000</td>\n",
       "      <td>0.000000e+00</td>\n",
       "      <td>0.000000e+00</td>\n",
       "      <td>0.000000e+00</td>\n",
       "      <td>0.828107</td>\n",
       "      <td>...</td>\n",
       "      <td>0.000000</td>\n",
       "      <td>0.000000</td>\n",
       "      <td>0.022523</td>\n",
       "      <td>0.265350</td>\n",
       "      <td>0.036783</td>\n",
       "      <td>0.021720</td>\n",
       "      <td>1.000000</td>\n",
       "      <td>0.000000</td>\n",
       "      <td>0.0</td>\n",
       "      <td>0.000000</td>\n",
       "    </tr>\n",
       "    <tr>\n",
       "      <th>3</th>\n",
       "      <td>0.211416</td>\n",
       "      <td>0.210569</td>\n",
       "      <td>0.386035</td>\n",
       "      <td>0.095336</td>\n",
       "      <td>0.018319</td>\n",
       "      <td>0.000000</td>\n",
       "      <td>0.000000e+00</td>\n",
       "      <td>0.000000e+00</td>\n",
       "      <td>0.000000e+00</td>\n",
       "      <td>0.947251</td>\n",
       "      <td>...</td>\n",
       "      <td>0.015152</td>\n",
       "      <td>0.000000</td>\n",
       "      <td>0.022523</td>\n",
       "      <td>0.265350</td>\n",
       "      <td>0.335746</td>\n",
       "      <td>0.021720</td>\n",
       "      <td>1.000000</td>\n",
       "      <td>0.000000</td>\n",
       "      <td>0.0</td>\n",
       "      <td>0.000000</td>\n",
       "    </tr>\n",
       "    <tr>\n",
       "      <th>4</th>\n",
       "      <td>0.311994</td>\n",
       "      <td>0.308379</td>\n",
       "      <td>0.413366</td>\n",
       "      <td>0.495881</td>\n",
       "      <td>0.314245</td>\n",
       "      <td>0.058901</td>\n",
       "      <td>1.042090e-01</td>\n",
       "      <td>6.791391e-01</td>\n",
       "      <td>6.494415e-01</td>\n",
       "      <td>0.774473</td>\n",
       "      <td>...</td>\n",
       "      <td>0.424242</td>\n",
       "      <td>0.032255</td>\n",
       "      <td>0.022523</td>\n",
       "      <td>0.001250</td>\n",
       "      <td>0.034592</td>\n",
       "      <td>0.021720</td>\n",
       "      <td>0.057514</td>\n",
       "      <td>0.000000</td>\n",
       "      <td>0.5</td>\n",
       "      <td>0.941860</td>\n",
       "    </tr>\n",
       "    <tr>\n",
       "      <th>...</th>\n",
       "      <td>...</td>\n",
       "      <td>...</td>\n",
       "      <td>...</td>\n",
       "      <td>...</td>\n",
       "      <td>...</td>\n",
       "      <td>...</td>\n",
       "      <td>...</td>\n",
       "      <td>...</td>\n",
       "      <td>...</td>\n",
       "      <td>...</td>\n",
       "      <td>...</td>\n",
       "      <td>...</td>\n",
       "      <td>...</td>\n",
       "      <td>...</td>\n",
       "      <td>...</td>\n",
       "      <td>...</td>\n",
       "      <td>...</td>\n",
       "      <td>...</td>\n",
       "      <td>...</td>\n",
       "      <td>...</td>\n",
       "      <td>...</td>\n",
       "    </tr>\n",
       "    <tr>\n",
       "      <th>75</th>\n",
       "      <td>0.571421</td>\n",
       "      <td>0.187725</td>\n",
       "      <td>0.000000</td>\n",
       "      <td>0.436563</td>\n",
       "      <td>0.042631</td>\n",
       "      <td>0.000000</td>\n",
       "      <td>9.518058e-02</td>\n",
       "      <td>1.121353e-01</td>\n",
       "      <td>1.164861e-01</td>\n",
       "      <td>0.715171</td>\n",
       "      <td>...</td>\n",
       "      <td>0.424242</td>\n",
       "      <td>0.015507</td>\n",
       "      <td>0.040541</td>\n",
       "      <td>0.109041</td>\n",
       "      <td>0.034592</td>\n",
       "      <td>0.114393</td>\n",
       "      <td>0.002312</td>\n",
       "      <td>0.666667</td>\n",
       "      <td>0.5</td>\n",
       "      <td>0.813953</td>\n",
       "    </tr>\n",
       "    <tr>\n",
       "      <th>76</th>\n",
       "      <td>0.722624</td>\n",
       "      <td>0.095381</td>\n",
       "      <td>0.450072</td>\n",
       "      <td>0.644358</td>\n",
       "      <td>0.203585</td>\n",
       "      <td>0.051856</td>\n",
       "      <td>6.635480e-01</td>\n",
       "      <td>6.759343e-01</td>\n",
       "      <td>6.334441e-01</td>\n",
       "      <td>0.766663</td>\n",
       "      <td>...</td>\n",
       "      <td>0.424242</td>\n",
       "      <td>0.157343</td>\n",
       "      <td>0.148649</td>\n",
       "      <td>0.293485</td>\n",
       "      <td>0.034592</td>\n",
       "      <td>0.000000</td>\n",
       "      <td>0.094509</td>\n",
       "      <td>0.333333</td>\n",
       "      <td>1.0</td>\n",
       "      <td>0.523256</td>\n",
       "    </tr>\n",
       "    <tr>\n",
       "      <th>77</th>\n",
       "      <td>0.488903</td>\n",
       "      <td>0.371390</td>\n",
       "      <td>0.396239</td>\n",
       "      <td>0.000000</td>\n",
       "      <td>0.015566</td>\n",
       "      <td>0.000000</td>\n",
       "      <td>4.234665e-12</td>\n",
       "      <td>2.820945e-12</td>\n",
       "      <td>2.216963e-12</td>\n",
       "      <td>0.893497</td>\n",
       "      <td>...</td>\n",
       "      <td>0.424242</td>\n",
       "      <td>0.041608</td>\n",
       "      <td>0.148649</td>\n",
       "      <td>0.001029</td>\n",
       "      <td>0.034592</td>\n",
       "      <td>0.000000</td>\n",
       "      <td>0.026590</td>\n",
       "      <td>0.333333</td>\n",
       "      <td>0.5</td>\n",
       "      <td>0.988372</td>\n",
       "    </tr>\n",
       "    <tr>\n",
       "      <th>78</th>\n",
       "      <td>0.388461</td>\n",
       "      <td>0.060573</td>\n",
       "      <td>0.438923</td>\n",
       "      <td>0.626034</td>\n",
       "      <td>0.261590</td>\n",
       "      <td>0.055900</td>\n",
       "      <td>6.836622e-01</td>\n",
       "      <td>6.365767e-01</td>\n",
       "      <td>7.387098e-01</td>\n",
       "      <td>0.654047</td>\n",
       "      <td>...</td>\n",
       "      <td>0.424242</td>\n",
       "      <td>0.161713</td>\n",
       "      <td>0.018018</td>\n",
       "      <td>0.096536</td>\n",
       "      <td>0.034592</td>\n",
       "      <td>0.048943</td>\n",
       "      <td>0.106069</td>\n",
       "      <td>0.666667</td>\n",
       "      <td>1.0</td>\n",
       "      <td>0.488372</td>\n",
       "    </tr>\n",
       "    <tr>\n",
       "      <th>79</th>\n",
       "      <td>0.631109</td>\n",
       "      <td>0.183784</td>\n",
       "      <td>0.347495</td>\n",
       "      <td>0.388921</td>\n",
       "      <td>0.143249</td>\n",
       "      <td>0.109297</td>\n",
       "      <td>4.894937e-01</td>\n",
       "      <td>5.615005e-01</td>\n",
       "      <td>3.609603e-01</td>\n",
       "      <td>0.614799</td>\n",
       "      <td>...</td>\n",
       "      <td>0.161157</td>\n",
       "      <td>0.431031</td>\n",
       "      <td>0.018018</td>\n",
       "      <td>0.531074</td>\n",
       "      <td>0.033125</td>\n",
       "      <td>0.048943</td>\n",
       "      <td>0.002890</td>\n",
       "      <td>0.666667</td>\n",
       "      <td>1.0</td>\n",
       "      <td>0.500000</td>\n",
       "    </tr>\n",
       "  </tbody>\n",
       "</table>\n",
       "<p>80 rows × 50 columns</p>\n",
       "</div>"
      ],
      "text/plain": [
       "     density  mean_A2B  mean_A2X  mean_B2X  mean_X2X   std_A2B       std_A2X  \\\n",
       "0   0.672824  0.151484  0.474179  0.702269  0.436373  0.244175  9.343893e-01   \n",
       "1   0.656093  0.282161  0.440717  0.147937  0.098232  0.000000  0.000000e+00   \n",
       "2   0.342848  0.220005  0.393242  0.102269  0.028852  0.000000  0.000000e+00   \n",
       "3   0.211416  0.210569  0.386035  0.095336  0.018319  0.000000  0.000000e+00   \n",
       "4   0.311994  0.308379  0.413366  0.495881  0.314245  0.058901  1.042090e-01   \n",
       "..       ...       ...       ...       ...       ...       ...           ...   \n",
       "75  0.571421  0.187725  0.000000  0.436563  0.042631  0.000000  9.518058e-02   \n",
       "76  0.722624  0.095381  0.450072  0.644358  0.203585  0.051856  6.635480e-01   \n",
       "77  0.488903  0.371390  0.396239  0.000000  0.015566  0.000000  4.234665e-12   \n",
       "78  0.388461  0.060573  0.438923  0.626034  0.261590  0.055900  6.836622e-01   \n",
       "79  0.631109  0.183784  0.347495  0.388921  0.143249  0.109297  4.894937e-01   \n",
       "\n",
       "         std_B2X       std_X2X     E_coh  ...      X_MV      B_Hf   A_Kappa  \\\n",
       "0   5.352915e-01  1.000000e+00  0.000000  ...  0.424242  0.070857  1.000000   \n",
       "1   0.000000e+00  0.000000e+00  0.637222  ...  0.424242  0.211538  0.022523   \n",
       "2   0.000000e+00  0.000000e+00  0.828107  ...  0.000000  0.000000  0.022523   \n",
       "3   0.000000e+00  0.000000e+00  0.947251  ...  0.015152  0.000000  0.022523   \n",
       "4   6.791391e-01  6.494415e-01  0.774473  ...  0.424242  0.032255  0.022523   \n",
       "..           ...           ...       ...  ...       ...       ...       ...   \n",
       "75  1.121353e-01  1.164861e-01  0.715171  ...  0.424242  0.015507  0.040541   \n",
       "76  6.759343e-01  6.334441e-01  0.766663  ...  0.424242  0.157343  0.148649   \n",
       "77  2.820945e-12  2.216963e-12  0.893497  ...  0.424242  0.041608  0.148649   \n",
       "78  6.365767e-01  7.387098e-01  0.654047  ...  0.424242  0.161713  0.018018   \n",
       "79  5.615005e-01  3.609603e-01  0.614799  ...  0.161157  0.431031  0.018018   \n",
       "\n",
       "     B_Kappa   X_Kappa     A_CvM     B_CvM       A_B  B_B  B_MendeleevNo  \n",
       "0   0.024634  0.034592  0.222415  0.000000  0.333333  0.5       0.872093  \n",
       "1   0.071527  0.034592  0.021720  0.006358  0.000000  1.0       0.441860  \n",
       "2   0.265350  0.036783  0.021720  1.000000  0.000000  0.0       0.000000  \n",
       "3   0.265350  0.335746  0.021720  1.000000  0.000000  0.0       0.000000  \n",
       "4   0.001250  0.034592  0.021720  0.057514  0.000000  0.5       0.941860  \n",
       "..       ...       ...       ...       ...       ...  ...            ...  \n",
       "75  0.109041  0.034592  0.114393  0.002312  0.666667  0.5       0.813953  \n",
       "76  0.293485  0.034592  0.000000  0.094509  0.333333  1.0       0.523256  \n",
       "77  0.001029  0.034592  0.000000  0.026590  0.333333  0.5       0.988372  \n",
       "78  0.096536  0.034592  0.048943  0.106069  0.666667  1.0       0.488372  \n",
       "79  0.531074  0.033125  0.048943  0.002890  0.666667  1.0       0.500000  \n",
       "\n",
       "[80 rows x 50 columns]"
      ]
     },
     "execution_count": 33,
     "metadata": {},
     "output_type": "execute_result"
    }
   ],
   "source": [
    "X"
   ]
  },
  {
   "cell_type": "markdown",
   "metadata": {
    "id": "ZaJDp0jdzwnZ"
   },
   "source": [
    "### Using CV technique"
   ]
  },
  {
   "cell_type": "code",
   "execution_count": 34,
   "metadata": {},
   "outputs": [
    {
     "name": "stdout",
     "output_type": "stream",
     "text": [
      "RF\n",
      "R2:  0.9240741664278657\n",
      "RMSE:  0.06601215859173608\n",
      "---------------------------------------\n",
      "GB\n",
      "R2:  0.825871932004695\n",
      "RMSE:  0.09996858403589085\n",
      "---------------------------------------\n",
      "LR\n",
      "R2:  -1.0892203433787273\n",
      "RMSE:  0.3462751077481117\n",
      "---------------------------------------\n",
      "RR\n",
      "R2:  0.8970665863262259\n",
      "RMSE:  0.07686123139358275\n",
      "---------------------------------------\n",
      "LASSO\n",
      "R2:  0.7740079837927297\n",
      "RMSE:  0.11388740527894517\n",
      "---------------------------------------\n",
      "gpr1\n",
      "R2:  0.6731971085803119\n",
      "RMSE:  0.13695317191753983\n",
      "---------------------------------------\n",
      "gpr2\n",
      "R2:  0.9363515364891573\n",
      "RMSE:  0.060439813022476536\n",
      "---------------------------------------\n",
      "gpr3\n",
      "R2:  0.9328667457193455\n",
      "RMSE:  0.06207232319168453\n",
      "---------------------------------------\n",
      "gpr4\n",
      "R2:  0.9328667618487625\n",
      "RMSE:  0.06207231573494453\n",
      "---------------------------------------\n",
      "gpr5\n",
      "R2:  0.9539728536140877\n",
      "RMSE:  0.0513968112136369\n",
      "---------------------------------------\n",
      "gpr6\n",
      "R2:  0.8922759646272995\n",
      "RMSE:  0.07862948967144537\n",
      "---------------------------------------\n",
      "[0.9240741664278657, 0.825871932004695, -1.0892203433787273, 0.8970665863262259, 0.7740079837927297, 0.6731971085803119, 0.9363515364891573, 0.9328667457193455, 0.9328667618487625, 0.9539728536140877, 0.8922759646272995]\n"
     ]
    },
    {
     "data": {
      "image/png": "[encoded data removed]",
      "text/plain": [
       "<Figure size 640x480 with 1 Axes>"
      ]
     },
     "metadata": {},
     "output_type": "display_data"
    }
   ],
   "source": [
    "run_models()"
   ]
  },
  {
   "cell_type": "markdown",
   "metadata": {
    "id": "_x7bQR-jz4WE"
   },
   "source": [
    "## Feature selection\n"
   ]
  },
  {
   "cell_type": "code",
   "execution_count": 35,
   "metadata": {
    "colab": {
     "base_uri": "https://localhost:8080/"
    },
    "id": "RpTITR9vz7Th",
    "outputId": "b1c134f4-85a3-49a7-fa3a-34f5d4896d01"
   },
   "outputs": [
    {
     "name": "stdout",
     "output_type": "stream",
     "text": [
      "     Feature       Score\n",
      "25      X_EA  105.609050\n",
      "32    X_Rvdw   95.867663\n",
      "14       X_Z   72.212377\n",
      "1   mean_A2B   65.395072\n",
      "4   mean_X2X   45.275813\n",
      "17       X_G   35.852833\n",
      "30    A_Rvdw   32.817229\n",
      "2   mean_A2X   29.382067\n",
      "18     A_IEI   26.603709\n",
      "34      B_Ra   22.349002\n",
      "41      B_Hf   21.695622\n",
      "11        OF   19.136656\n",
      "13       B_Z   18.951946\n",
      "29    A_ChiA   17.090678\n",
      "7    std_B2X   16.196258\n",
      "9      E_coh   15.939550\n",
      "6    std_A2X   13.265442\n",
      "26    A_ChiP   12.861322\n",
      "36      B_MP   12.465146\n",
      "23      A_EA   11.880101\n",
      "35      A_MP    9.959892\n",
      "33      B_Rc    9.161701\n",
      "46     B_CvM    9.044620\n",
      "31    B_Rvdw    8.706402\n",
      "40      X_MV    8.579672\n",
      "38     B_Rho    7.940778\n",
      "39      B_MV    7.759945\n",
      "12       A_Z    7.542829\n",
      "10        TF    6.791751\n",
      "5    std_A2B    6.754609\n"
     ]
    }
   ],
   "source": [
    "#apply SelectKBest class to extract top 10 best features\n",
    "bestfeatures = SelectKBest(score_func=f_regression, k=10)\n",
    "fit = bestfeatures.fit(X,Y)\n",
    "dfscores = pd.DataFrame(fit.scores_)\n",
    "dfcolumns = pd.DataFrame(X.columns)\n",
    "#concat two dataframes for better visualization \n",
    "featureScores = pd.concat([dfcolumns,dfscores],axis=1)\n",
    "featureScores.columns = ['Feature','Score']  #naming the dataframe columns\n",
    "print(featureScores.nlargest(30,'Score'))  #print 10 best features"
   ]
  },
  {
   "cell_type": "code",
   "execution_count": 36,
   "metadata": {},
   "outputs": [
    {
     "data": {
      "text/plain": [
       "array(['X_EA', 'X_Rvdw', 'X_Z', 'mean_A2B', 'mean_X2X', 'X_G', 'A_Rvdw',\n",
       "       'mean_A2X', 'A_IEI', 'B_Ra', 'B_Hf', 'OF', 'B_Z', 'A_ChiA',\n",
       "       'std_B2X', 'E_coh', 'std_A2X', 'A_ChiP', 'B_MP', 'A_EA', 'A_MP',\n",
       "       'B_Rc', 'B_CvM', 'B_Rvdw', 'X_MV', 'B_Rho', 'B_MV', 'A_Z', 'TF',\n",
       "       'std_A2B', 'A_Kappa', 'std_X2X', 'A_CvM', 'A_B', 'X_Kappa', 'A_G',\n",
       "       'B_Kappa', 'B_EA', 'B_IEII', 'X_ChiP'], dtype=object)"
      ]
     },
     "execution_count": 36,
     "metadata": {},
     "output_type": "execute_result"
    }
   ],
   "source": [
    "featureScores.nlargest(40,'Score')['Feature'].values"
   ]
  },
  {
   "cell_type": "code",
   "execution_count": 37,
   "metadata": {},
   "outputs": [],
   "source": [
    "X=X[featureScores.nlargest(40,'Score')['Feature'].values]"
   ]
  },
  {
   "cell_type": "code",
   "execution_count": 38,
   "metadata": {},
   "outputs": [
    {
     "name": "stdout",
     "output_type": "stream",
     "text": [
      "RF\n",
      "R2:  0.9279531913538037\n",
      "RMSE:  0.06430378313464229\n",
      "---------------------------------------\n",
      "GB\n",
      "R2:  0.8072465002026484\n",
      "RMSE:  0.10517930243140687\n",
      "---------------------------------------\n",
      "LR\n",
      "R2:  -0.1397856934628725\n",
      "RMSE:  0.2557647864085241\n",
      "---------------------------------------\n",
      "RR\n",
      "R2:  0.769884957764042\n",
      "RMSE:  0.1149215975035965\n",
      "---------------------------------------\n",
      "LASSO\n",
      "R2:  0.7740142949064017\n",
      "RMSE:  0.11388581504272645\n",
      "---------------------------------------\n",
      "gpr1\n",
      "R2:  0.27885374884756264\n",
      "RMSE:  0.20344209766963378\n",
      "---------------------------------------\n",
      "gpr2\n",
      "R2:  0.9327581432895848\n",
      "RMSE:  0.06212251054710632\n",
      "---------------------------------------\n",
      "gpr3\n",
      "R2:  0.9312141622141317\n",
      "RMSE:  0.06283167906992355\n",
      "---------------------------------------\n",
      "gpr4\n",
      "R2:  0.9312141586942675\n",
      "RMSE:  0.06283168067751443\n",
      "---------------------------------------\n",
      "gpr5\n",
      "R2:  0.9520989190312156\n",
      "RMSE:  0.052432649898153307\n",
      "---------------------------------------\n",
      "gpr6\n",
      "R2:  0.9009561007616341\n",
      "RMSE:  0.07539508147933552\n",
      "---------------------------------------\n",
      "[0.9279531913538037, 0.8072465002026484, -0.1397856934628725, 0.769884957764042, 0.7740142949064017, 0.27885374884756264, 0.9327581432895848, 0.9312141622141317, 0.9312141586942675, 0.9520989190312156, 0.9009561007616341]\n"
     ]
    },
    {
     "data": {
      "image/png": "[encoded data removed]",
      "text/plain": [
       "<Figure size 640x480 with 1 Axes>"
      ]
     },
     "metadata": {},
     "output_type": "display_data"
    }
   ],
   "source": [
    "run_models()"
   ]
  },
  {
   "cell_type": "code",
   "execution_count": 39,
   "metadata": {},
   "outputs": [
    {
     "data": {
      "text/plain": [
       "array(['X_EA', 'X_Rvdw', 'X_Z', 'mean_A2B', 'mean_X2X', 'X_G', 'A_Rvdw',\n",
       "       'mean_A2X', 'A_IEI', 'B_Ra', 'B_Hf', 'OF', 'B_Z', 'A_ChiA',\n",
       "       'std_B2X', 'E_coh', 'std_A2X', 'A_ChiP', 'B_MP', 'A_EA', 'A_MP',\n",
       "       'B_Rc', 'B_CvM', 'B_Rvdw', 'X_MV', 'B_Rho', 'B_MV', 'A_Z', 'TF',\n",
       "       'std_A2B'], dtype=object)"
      ]
     },
     "execution_count": 39,
     "metadata": {},
     "output_type": "execute_result"
    }
   ],
   "source": [
    "featureScores.nlargest(30,'Score')['Feature'].values"
   ]
  },
  {
   "cell_type": "code",
   "execution_count": 40,
   "metadata": {},
   "outputs": [],
   "source": [
    "X=X[featureScores.nlargest(30,'Score')['Feature'].values]"
   ]
  },
  {
   "cell_type": "code",
   "execution_count": 41,
   "metadata": {},
   "outputs": [
    {
     "name": "stdout",
     "output_type": "stream",
     "text": [
      "RF\n",
      "R2:  0.9260171190958264\n",
      "RMSE:  0.06516205460452779\n",
      "---------------------------------------\n",
      "GB\n",
      "R2:  0.7702965840046545\n",
      "RMSE:  0.11481876650626775\n",
      "---------------------------------------\n",
      "LR\n",
      "R2:  0.7750917269750363\n",
      "RMSE:  0.11361400397137826\n",
      "---------------------------------------\n",
      "RR\n",
      "R2:  0.8422771287095292\n",
      "RMSE:  0.09514292247715239\n",
      "---------------------------------------\n",
      "LASSO\n",
      "R2:  0.7740142949064017\n",
      "RMSE:  0.11388581504272645\n",
      "---------------------------------------\n",
      "gpr1\n",
      "R2:  0.7971635361068717\n",
      "RMSE:  0.10789521019839002\n",
      "---------------------------------------\n",
      "gpr2\n",
      "R2:  0.9250164877610416\n",
      "RMSE:  0.06560123864425156\n",
      "---------------------------------------\n",
      "gpr3\n",
      "R2:  0.9283982365423088\n",
      "RMSE:  0.06410486786320477\n",
      "---------------------------------------\n",
      "gpr4\n",
      "R2:  0.9283982388980573\n",
      "RMSE:  0.0641048668086571\n",
      "---------------------------------------\n",
      "gpr5\n",
      "R2:  0.9528560760734117\n",
      "RMSE:  0.052016606231935984\n",
      "---------------------------------------\n",
      "gpr6\n",
      "R2:  0.9181303503148706\n",
      "RMSE:  0.06854734151047057\n",
      "---------------------------------------\n",
      "[0.9260171190958264, 0.7702965840046545, 0.7750917269750363, 0.8422771287095292, 0.7740142949064017, 0.7971635361068717, 0.9250164877610416, 0.9283982365423088, 0.9283982388980573, 0.9528560760734117, 0.9181303503148706]\n"
     ]
    },
    {
     "data": {
      "image/png": "[encoded data removed]",
      "text/plain": [
       "<Figure size 640x480 with 1 Axes>"
      ]
     },
     "metadata": {},
     "output_type": "display_data"
    }
   ],
   "source": [
    "run_models()"
   ]
  },
  {
   "cell_type": "code",
   "execution_count": 42,
   "metadata": {},
   "outputs": [
    {
     "data": {
      "text/plain": [
       "array(['X_EA', 'X_Rvdw', 'X_Z', 'mean_A2B', 'mean_X2X', 'X_G', 'A_Rvdw',\n",
       "       'mean_A2X', 'A_IEI', 'B_Ra', 'B_Hf', 'OF', 'B_Z', 'A_ChiA',\n",
       "       'std_B2X', 'E_coh', 'std_A2X', 'A_ChiP', 'B_MP', 'A_EA'],\n",
       "      dtype=object)"
      ]
     },
     "execution_count": 42,
     "metadata": {},
     "output_type": "execute_result"
    }
   ],
   "source": [
    "featureScores.nlargest(20,'Score')['Feature'].values"
   ]
  },
  {
   "cell_type": "code",
   "execution_count": 43,
   "metadata": {},
   "outputs": [],
   "source": [
    "X=X[featureScores.nlargest(20,'Score')['Feature'].values]"
   ]
  },
  {
   "cell_type": "code",
   "execution_count": 44,
   "metadata": {},
   "outputs": [
    {
     "name": "stdout",
     "output_type": "stream",
     "text": [
      "RF\n",
      "R2:  0.8999081443368742\n",
      "RMSE:  0.07579289932192951\n",
      "---------------------------------------\n",
      "GB\n",
      "R2:  0.7556209399346135\n",
      "RMSE:  0.11842984069672687\n",
      "---------------------------------------\n",
      "LR\n",
      "R2:  0.8938136383750462\n",
      "RMSE:  0.07806628634601755\n",
      "---------------------------------------\n",
      "RR\n",
      "R2:  0.9052487593848767\n",
      "RMSE:  0.07374313602097936\n",
      "---------------------------------------\n",
      "LASSO\n",
      "R2:  0.7741265277684781\n",
      "RMSE:  0.11385753157601075\n",
      "---------------------------------------\n",
      "gpr1\n",
      "R2:  0.9017842534083576\n",
      "RMSE:  0.07507921293518714\n",
      "---------------------------------------\n",
      "gpr2\n",
      "R2:  0.9007571616461554\n",
      "RMSE:  0.07547076260025752\n",
      "---------------------------------------\n",
      "gpr3\n",
      "R2:  0.900449828426723\n",
      "RMSE:  0.07558753043650658\n",
      "---------------------------------------\n",
      "gpr4\n",
      "R2:  0.9004498060159458\n",
      "RMSE:  0.07558753894465471\n",
      "---------------------------------------\n",
      "gpr5\n",
      "R2:  0.9391898757911463\n",
      "RMSE:  0.05907681800467815\n",
      "---------------------------------------\n",
      "gpr6\n",
      "R2:  0.9189392574928503\n",
      "RMSE:  0.0682078623432761\n",
      "---------------------------------------\n",
      "[0.8999081443368742, 0.7556209399346135, 0.8938136383750462, 0.9052487593848767, 0.7741265277684781, 0.9017842534083576, 0.9007571616461554, 0.900449828426723, 0.9004498060159458, 0.9391898757911463, 0.9189392574928503]\n"
     ]
    },
    {
     "data": {
      "image/png": "[encoded data removed]",
      "text/plain": [
       "<Figure size 640x480 with 1 Axes>"
      ]
     },
     "metadata": {},
     "output_type": "display_data"
    }
   ],
   "source": [
    "run_models()"
   ]
  },
  {
   "cell_type": "code",
   "execution_count": 45,
   "metadata": {},
   "outputs": [
    {
     "data": {
      "text/plain": [
       "array(['X_EA', 'X_Rvdw', 'X_Z', 'mean_A2B', 'mean_X2X', 'X_G', 'A_Rvdw',\n",
       "       'mean_A2X', 'A_IEI', 'B_Ra'], dtype=object)"
      ]
     },
     "execution_count": 45,
     "metadata": {},
     "output_type": "execute_result"
    }
   ],
   "source": [
    "featureScores.nlargest(10,'Score')['Feature'].values"
   ]
  },
  {
   "cell_type": "code",
   "execution_count": 46,
   "metadata": {},
   "outputs": [],
   "source": [
    "X=X[featureScores.nlargest(10,'Score')['Feature'].values]"
   ]
  },
  {
   "cell_type": "code",
   "execution_count": 47,
   "metadata": {},
   "outputs": [
    {
     "name": "stdout",
     "output_type": "stream",
     "text": [
      "RF\n",
      "R2:  0.9206413873154615\n",
      "RMSE:  0.06748794180750255\n",
      "---------------------------------------\n",
      "GB\n",
      "R2:  0.726979318310027\n",
      "RMSE:  0.12517768725587172\n",
      "---------------------------------------\n",
      "LR\n",
      "R2:  0.890622417016703\n",
      "RMSE:  0.0792306668351674\n",
      "---------------------------------------\n",
      "RR\n",
      "R2:  0.891321772643263\n",
      "RMSE:  0.07897696187847902\n",
      "---------------------------------------\n",
      "LASSO\n",
      "R2:  0.7604347470823963\n",
      "RMSE:  0.11725761694768855\n",
      "---------------------------------------\n",
      "gpr1\n",
      "R2:  0.8907846178175387\n",
      "RMSE:  0.07917189772897985\n",
      "---------------------------------------\n",
      "gpr2\n",
      "R2:  0.9285804019374345\n",
      "RMSE:  0.0640232698346003\n",
      "---------------------------------------\n",
      "gpr3\n",
      "R2:  0.7564670843468533\n",
      "RMSE:  0.1182246356358712\n",
      "---------------------------------------\n",
      "gpr4\n",
      "R2:  0.756467090426848\n",
      "RMSE:  0.11822463416008472\n",
      "---------------------------------------\n",
      "gpr5\n",
      "R2:  0.9028264989695577\n",
      "RMSE:  0.07467978777245074\n",
      "---------------------------------------\n",
      "gpr6\n",
      "R2:  0.9099616676341897\n",
      "RMSE:  0.07188576046155486\n",
      "---------------------------------------\n",
      "[0.9206413873154615, 0.726979318310027, 0.890622417016703, 0.891321772643263, 0.7604347470823963, 0.8907846178175387, 0.9285804019374345, 0.7564670843468533, 0.756467090426848, 0.9028264989695577, 0.9099616676341897]\n"
     ]
    },
    {
     "data": {
      "image/png": "[encoded data removed]",
      "text/plain": [
       "<Figure size 640x480 with 1 Axes>"
      ]
     },
     "metadata": {},
     "output_type": "display_data"
    }
   ],
   "source": [
    "run_models()"
   ]
  }
 ],
 "metadata": {
  "colab": {
   "collapsed_sections": [],
   "name": "Final_total.ipynb",
   "provenance": []
  },
  "kernelspec": {
   "display_name": "Python 3 (ipykernel)",
   "language": "python",
   "name": "python3"
  },
  "language_info": {
   "codemirror_mode": {
    "name": "ipython",
    "version": 3
   },
   "file_extension": ".py",
   "mimetype": "text/x-python",
   "name": "python",
   "nbconvert_exporter": "python",
   "pygments_lexer": "ipython3",
   "version": "3.9.12"
  }
 },
 "nbformat": 4,
 "nbformat_minor": 1
}
