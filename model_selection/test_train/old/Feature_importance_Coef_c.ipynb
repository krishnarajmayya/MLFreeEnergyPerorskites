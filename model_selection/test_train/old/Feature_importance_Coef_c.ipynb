{
 "cells": [
  {
   "cell_type": "code",
   "execution_count": 1,
   "id": "c3049287",
   "metadata": {},
   "outputs": [],
   "source": [
    "import numpy as np\n",
    "import pandas as pd\n",
    "import matplotlib.pyplot as plt\n",
    "from math import sqrt\n",
    "import seaborn as sns \n",
    "import re\n",
    " \n",
    "import warnings # supress warnings\n",
    "warnings.filterwarnings('ignore')"
   ]
  },
  {
   "cell_type": "code",
   "execution_count": 2,
   "id": "0af1dc92",
   "metadata": {},
   "outputs": [],
   "source": [
    "import sklearn\n",
    "\n",
    "from sklearn.preprocessing import MinMaxScaler, PolynomialFeatures, scale, StandardScaler\n",
    "\n",
    "from sklearn.model_selection import train_test_split, cross_val_score, KFold, GridSearchCV\n",
    "\n",
    "from sklearn.linear_model import LinearRegression, Ridge, Lasso, ElasticNet \n",
    "\n",
    "from sklearn.ensemble import RandomForestRegressor\n",
    "from sklearn.ensemble import GradientBoostingRegressor\n",
    "\n",
    "from sklearn.feature_selection import RFE, SelectKBest, f_regression\n",
    "from sklearn.inspection import permutation_importance\n",
    "\n",
    "from sklearn.gaussian_process import GaussianProcessRegressor\n",
    "from sklearn.gaussian_process.kernels import DotProduct, WhiteKernel, RBF, Matern, RationalQuadratic\n",
    "from sklearn.gaussian_process.kernels import Kernel, Hyperparameter, ConstantKernel\n",
    "from sklearn.gaussian_process.kernels import GenericKernelMixin\n",
    "\n",
    "from sklearn import metrics\n",
    "from sklearn.metrics import mean_squared_error\n",
    "from sklearn.metrics import r2_score  \n",
    "\n",
    "from sklearn.pipeline import make_pipeline\n",
    "\n",
    "from sklearn.base import clone"
   ]
  },
  {
   "cell_type": "code",
   "execution_count": 3,
   "id": "cd48d266",
   "metadata": {},
   "outputs": [],
   "source": [
    "def get_RF_feature_importance():\n",
    "    features= X\n",
    "    feature_list = list(features.columns)\n",
    "    rf = RandomForestRegressor(n_estimators= 15, random_state=1)\n",
    "    rf.fit(X , Y)\n",
    "\n",
    "    # Get numerical feature importances\n",
    "    importances = list(rf.feature_importances_)      \n",
    "    # List of tuples with variable and importance\n",
    "    feature_importances = [(feature, round(importance, 2)) for feature, \n",
    "                           importance in zip(feature_list, importances)]\n",
    "    # Sort the feature importances by most important first\n",
    "    feature_importances = sorted(feature_importances, key = lambda x: x[1], reverse = True)\n",
    "    # Print out the feature and importances \n",
    "    [print('Variable: {:20} Importance: {}'.format(*pair)) for pair in feature_importances];"
   ]
  },
  {
   "cell_type": "code",
   "execution_count": 4,
   "id": "ec168c65",
   "metadata": {},
   "outputs": [],
   "source": [
    "data = pd.read_csv('Combined_all_3rd.csv', encoding='cp1252')  "
   ]
  },
  {
   "cell_type": "code",
   "execution_count": 5,
   "id": "65f8ee82",
   "metadata": {},
   "outputs": [
    {
     "data": {
      "text/plain": [
       "array(['Name', 'Coef_a', 'Coef_b', 'Coef_c', 'Coef_d', 'A_site', 'B_site',\n",
       "       'X_site', 'Spacegroup', 'Ehull', 'BulkModulus', 'Energy', 'ZPE',\n",
       "       's_A', 's_B', 's_X', 'density', 'mean_A2B', 'mean_A2X', 'mean_B2X',\n",
       "       'mean_X2X', 'std_A2B', 'std_A2X', 'std_B2X', 'std_X2X', 'E_coh',\n",
       "       'TF', 'OF', 'A_Z', 'B_Z', 'X_Z', 'A_M', 'B_M', 'X_M', 'A_G', 'B_G',\n",
       "       'X_G', 'A_IEI', 'B_IEI', 'X_IEI', 'A_IEII', 'B_IEII', 'X_IEII',\n",
       "       'A_EA', 'B_EA', 'X_EA', 'A_ChiP', 'B_ChiP', 'X_ChiP', 'A_ChiA',\n",
       "       'X_ChiA', 'A_Rvdw', 'B_Rvdw', 'X_Rvdw', 'A_Rc', 'B_Rc', 'X_Rc',\n",
       "       'A_Ra', 'B_Ra', 'X_Ra', 'A_MP', 'B_MP', 'X_MP', 'A_BP', 'B_BP',\n",
       "       'X_BP', 'A_Rho', 'B_Rho', 'A_MV', 'B_MV', 'X_MV', 'A_Hf', 'B_Hf',\n",
       "       'X_Hf', 'A_Hv', 'B_Hv', 'X_Hv', 'A_Kappa', 'B_Kappa', 'X_Kappa',\n",
       "       'A_CvM', 'B_CvM', 'X_CvM', 'A_B', 'B_B', 'X_B', 'A_MendeleevNo',\n",
       "       'B_MendeleevNo', 'X_MendeleevNo'], dtype=object)"
      ]
     },
     "execution_count": 5,
     "metadata": {},
     "output_type": "execute_result"
    }
   ],
   "source": [
    "data.columns.values"
   ]
  },
  {
   "cell_type": "code",
   "execution_count": 6,
   "id": "7864464a",
   "metadata": {},
   "outputs": [],
   "source": [
    "data.drop(['Name', 'A_site', 'B_site', 'X_site', 'Spacegroup', 'Ehull','BulkModulus', 'Energy','s_A','s_B','s_X','Coef_a','Coef_b', 'ZPE', 'Coef_d'], axis=1, inplace = True)"
   ]
  },
  {
   "cell_type": "code",
   "execution_count": 7,
   "id": "0cb59bb0",
   "metadata": {},
   "outputs": [],
   "source": [
    "data.fillna(0, inplace= True)"
   ]
  },
  {
   "cell_type": "code",
   "execution_count": 8,
   "id": "a616203c",
   "metadata": {},
   "outputs": [
    {
     "data": {
      "text/plain": [
       "array(['Coef_c', 'density', 'mean_A2B', 'mean_A2X', 'mean_B2X',\n",
       "       'mean_X2X', 'std_A2B', 'std_A2X', 'std_B2X', 'std_X2X', 'E_coh',\n",
       "       'TF', 'OF', 'A_Z', 'B_Z', 'X_Z', 'A_M', 'B_M', 'X_M', 'A_G', 'B_G',\n",
       "       'X_G', 'A_IEI', 'B_IEI', 'X_IEI', 'A_IEII', 'B_IEII', 'X_IEII',\n",
       "       'A_EA', 'B_EA', 'X_EA', 'A_ChiP', 'B_ChiP', 'X_ChiP', 'A_ChiA',\n",
       "       'X_ChiA', 'A_Rvdw', 'B_Rvdw', 'X_Rvdw', 'A_Rc', 'B_Rc', 'X_Rc',\n",
       "       'A_Ra', 'B_Ra', 'X_Ra', 'A_MP', 'B_MP', 'X_MP', 'A_BP', 'B_BP',\n",
       "       'X_BP', 'A_Rho', 'B_Rho', 'A_MV', 'B_MV', 'X_MV', 'A_Hf', 'B_Hf',\n",
       "       'X_Hf', 'A_Hv', 'B_Hv', 'X_Hv', 'A_Kappa', 'B_Kappa', 'X_Kappa',\n",
       "       'A_CvM', 'B_CvM', 'X_CvM', 'A_B', 'B_B', 'X_B', 'A_MendeleevNo',\n",
       "       'B_MendeleevNo', 'X_MendeleevNo'], dtype=object)"
      ]
     },
     "execution_count": 8,
     "metadata": {},
     "output_type": "execute_result"
    }
   ],
   "source": [
    "d=data.copy()\n",
    "d.columns.values"
   ]
  },
  {
   "cell_type": "code",
   "execution_count": 9,
   "id": "15a65166",
   "metadata": {},
   "outputs": [],
   "source": [
    "columns = list(d.columns.values)"
   ]
  },
  {
   "cell_type": "code",
   "execution_count": 10,
   "id": "7731e256",
   "metadata": {},
   "outputs": [],
   "source": [
    "data_std=d.copy()\n",
    "scaler=MinMaxScaler()\n",
    "scaler.fit(np.array(data['Coef_c']).reshape(-1, 1))\n",
    "data_zpe_std= scaler.transform(np.array(data['Coef_c']).reshape(-1, 1))\n",
    "data_std[columns]= MinMaxScaler().fit_transform(d[columns])\n",
    "Y = data_std['Coef_c'] \n",
    "X = data_std.drop(['Coef_c'], axis=1)"
   ]
  },
  {
   "cell_type": "code",
   "execution_count": 11,
   "id": "d697e067",
   "metadata": {},
   "outputs": [],
   "source": [
    "corrmat = X.corr()\n",
    "top_corr_features = corrmat.index\n",
    "correlated_features = set()"
   ]
  },
  {
   "cell_type": "code",
   "execution_count": 12,
   "id": "0fd533a0",
   "metadata": {},
   "outputs": [
    {
     "name": "stdout",
     "output_type": "stream",
     "text": [
      "{'X_MP', 'B_BP', 'X_MendeleevNo', 'X_IEII', 'A_BP', 'A_Rc', 'X_M', 'X_CvM', 'B_M', 'X_Rc', 'A_Hf', 'X_B', 'A_Hv', 'X_BP', 'A_M', 'B_Hv', 'A_MendeleevNo', 'X_Ra', 'A_MV', 'A_Ra', 'X_ChiA', 'X_Hv', 'X_Hf'}\n"
     ]
    }
   ],
   "source": [
    "for i in range(len(X.columns)):\n",
    "    for j in range(i):\n",
    "        if abs(corrmat.iloc[i, j]) > 0.9:\n",
    "            colname = corrmat.columns[i]\n",
    "            correlated_features.add(colname)\n",
    "len(correlated_features)\n",
    "print(correlated_features)"
   ]
  },
  {
   "cell_type": "code",
   "execution_count": 13,
   "id": "a03eb5a6",
   "metadata": {},
   "outputs": [
    {
     "data": {
      "text/plain": [
       "(80, 51)"
      ]
     },
     "execution_count": 13,
     "metadata": {},
     "output_type": "execute_result"
    }
   ],
   "source": [
    "data_std.drop(labels=correlated_features, axis=1, inplace=True)\n",
    "data_std.shape"
   ]
  },
  {
   "cell_type": "code",
   "execution_count": 14,
   "id": "414ba69a",
   "metadata": {},
   "outputs": [],
   "source": [
    "# split into train and test\n",
    "df_train, df_test = train_test_split(data_std, \n",
    "                                     train_size = 0.8, \n",
    "                                     test_size = 0.2, \n",
    "                                     random_state = 100)\n",
    "df_train.reset_index(inplace = True)\n",
    "df_test.reset_index(inplace = True)\n",
    "df_train=df_train.drop('index',axis=1)\n",
    "df_test=df_test.drop('index',axis=1)\n",
    "# divide into X_train, y_train, X_test, y_test\n",
    "Y = df_train.pop('Coef_c')\n",
    "X = df_train\n",
    "\n",
    "Y_test = df_test.pop('Coef_c')\n",
    "X_test = df_test"
   ]
  },
  {
   "cell_type": "code",
   "execution_count": 15,
   "id": "640d60b9",
   "metadata": {},
   "outputs": [
    {
     "name": "stdout",
     "output_type": "stream",
     "text": [
      "     Feature       Score\n",
      "1   mean_A2B  231.128739\n",
      "14       X_Z  176.926471\n",
      "4   mean_X2X   92.210958\n",
      "2   mean_A2X   66.148330\n",
      "32    X_Rvdw   52.648989\n",
      "44   X_Kappa   35.631509\n",
      "30    A_Rvdw   33.021651\n",
      "25      X_EA   26.641739\n",
      "9      E_coh   25.403869\n",
      "18     A_IEI   19.549273\n",
      "20     X_IEI   18.603283\n",
      "40      X_MV   18.091216\n",
      "6    std_A2X   11.326145\n",
      "43   B_Kappa   11.216382\n",
      "24      B_EA   11.007417\n",
      "29    A_ChiA   10.579056\n",
      "12       A_Z   10.172426\n",
      "7    std_B2X   10.018863\n",
      "28    X_ChiP    8.718756\n",
      "26    A_ChiP    8.410498\n",
      "42   A_Kappa    7.269082\n",
      "35      A_MP    6.684227\n",
      "45     A_CvM    6.495909\n",
      "41      B_Hf    5.729254\n",
      "13       B_Z    5.436054\n",
      "36      B_MP    5.239934\n",
      "39      B_MV    4.904610\n",
      "23      A_EA    4.098901\n",
      "47       A_B    3.883831\n",
      "27    B_ChiP    3.720368\n"
     ]
    }
   ],
   "source": [
    "#apply SelectKBest class to extract top 10 best features\n",
    "bestfeatures = SelectKBest(score_func=f_regression, k=10)\n",
    "fit = bestfeatures.fit(X,Y)\n",
    "dfscores = pd.DataFrame(fit.scores_)\n",
    "dfcolumns = pd.DataFrame(X.columns)\n",
    "#concat two dataframes for better visualization \n",
    "featureScores = pd.concat([dfcolumns,dfscores],axis=1)\n",
    "featureScores.columns = ['Feature','Score']  #naming the dataframe columns\n",
    "print(featureScores.nlargest(30,'Score'))  #print 10 best features"
   ]
  },
  {
   "cell_type": "code",
   "execution_count": 16,
   "id": "d1df7e92",
   "metadata": {},
   "outputs": [
    {
     "name": "stdout",
     "output_type": "stream",
     "text": [
      "Variable: mean_X2X             Importance: 0.6\n",
      "Variable: mean_A2X             Importance: 0.12\n",
      "Variable: X_Z                  Importance: 0.12\n",
      "Variable: E_coh                Importance: 0.02\n",
      "Variable: density              Importance: 0.01\n",
      "Variable: mean_A2B             Importance: 0.01\n",
      "Variable: OF                   Importance: 0.01\n",
      "Variable: A_IEI                Importance: 0.01\n",
      "Variable: B_EA                 Importance: 0.01\n",
      "Variable: A_Rvdw               Importance: 0.01\n",
      "Variable: X_Rvdw               Importance: 0.01\n",
      "Variable: B_Kappa              Importance: 0.01\n",
      "Variable: mean_B2X             Importance: 0.0\n",
      "Variable: std_A2B              Importance: 0.0\n",
      "Variable: std_A2X              Importance: 0.0\n",
      "Variable: std_B2X              Importance: 0.0\n",
      "Variable: std_X2X              Importance: 0.0\n",
      "Variable: TF                   Importance: 0.0\n",
      "Variable: A_Z                  Importance: 0.0\n",
      "Variable: B_Z                  Importance: 0.0\n",
      "Variable: A_G                  Importance: 0.0\n",
      "Variable: B_G                  Importance: 0.0\n",
      "Variable: X_G                  Importance: 0.0\n",
      "Variable: B_IEI                Importance: 0.0\n",
      "Variable: X_IEI                Importance: 0.0\n",
      "Variable: A_IEII               Importance: 0.0\n",
      "Variable: B_IEII               Importance: 0.0\n",
      "Variable: A_EA                 Importance: 0.0\n",
      "Variable: X_EA                 Importance: 0.0\n",
      "Variable: A_ChiP               Importance: 0.0\n",
      "Variable: B_ChiP               Importance: 0.0\n",
      "Variable: X_ChiP               Importance: 0.0\n",
      "Variable: A_ChiA               Importance: 0.0\n",
      "Variable: B_Rvdw               Importance: 0.0\n",
      "Variable: B_Rc                 Importance: 0.0\n",
      "Variable: B_Ra                 Importance: 0.0\n",
      "Variable: A_MP                 Importance: 0.0\n",
      "Variable: B_MP                 Importance: 0.0\n",
      "Variable: A_Rho                Importance: 0.0\n",
      "Variable: B_Rho                Importance: 0.0\n",
      "Variable: B_MV                 Importance: 0.0\n",
      "Variable: X_MV                 Importance: 0.0\n",
      "Variable: B_Hf                 Importance: 0.0\n",
      "Variable: A_Kappa              Importance: 0.0\n",
      "Variable: X_Kappa              Importance: 0.0\n",
      "Variable: A_CvM                Importance: 0.0\n",
      "Variable: B_CvM                Importance: 0.0\n",
      "Variable: A_B                  Importance: 0.0\n",
      "Variable: B_B                  Importance: 0.0\n",
      "Variable: B_MendeleevNo        Importance: 0.0\n"
     ]
    }
   ],
   "source": [
    "get_RF_feature_importance()"
   ]
  },
  {
   "cell_type": "code",
   "execution_count": 17,
   "id": "6f97b2d6",
   "metadata": {},
   "outputs": [
    {
     "data": {
      "text/plain": [
       "array(['mean_A2B', 'X_Z', 'mean_X2X', 'mean_A2X', 'X_Rvdw', 'X_Kappa',\n",
       "       'A_Rvdw', 'X_EA', 'E_coh', 'A_IEI', 'X_IEI', 'X_MV', 'std_A2X',\n",
       "       'B_Kappa', 'B_EA', 'A_ChiA', 'A_Z', 'std_B2X', 'X_ChiP', 'A_ChiP',\n",
       "       'A_Kappa', 'A_MP', 'A_CvM', 'B_Hf', 'B_Z', 'B_MP', 'B_MV', 'A_EA',\n",
       "       'A_B', 'B_ChiP'], dtype=object)"
      ]
     },
     "execution_count": 17,
     "metadata": {},
     "output_type": "execute_result"
    }
   ],
   "source": [
    "featureScores.nlargest(30,'Score')['Feature'].values"
   ]
  },
  {
   "cell_type": "code",
   "execution_count": 18,
   "id": "3c181bb4",
   "metadata": {},
   "outputs": [],
   "source": [
    "X=X[featureScores.nlargest(30,'Score')['Feature'].values]\n",
    "X_test=X_test[featureScores.nlargest(30,'Score')['Feature'].values]"
   ]
  },
  {
   "cell_type": "code",
   "execution_count": 19,
   "id": "1bb6beee",
   "metadata": {},
   "outputs": [
    {
     "name": "stdout",
     "output_type": "stream",
     "text": [
      "GPR-5:  0.9874185671686919\n",
      "RMSE:  0.028417997505115814\n",
      "RMSE unscaled:  0.004406617679100369\n",
      "----------------------------------------\n",
      "[[-0.04314208]\n",
      " [ 0.01764971]\n",
      " [ 0.00852819]\n",
      " [ 0.00930115]\n",
      " [-0.00028058]\n",
      " [-0.10512864]\n",
      " [-0.03208215]\n",
      " [-0.03682926]\n",
      " [-0.06667337]\n",
      " [-0.03229775]\n",
      " [ 0.01426476]\n",
      " [-0.09981202]\n",
      " [ 0.00548125]\n",
      " [-0.05416003]\n",
      " [ 0.01328212]\n",
      " [ 0.00416921]]\n",
      "[[-0.04843335]\n",
      " [ 0.01917386]\n",
      " [ 0.00214539]\n",
      " [ 0.01061638]\n",
      " [ 0.01011013]\n",
      " [-0.1046474 ]\n",
      " [-0.02989515]\n",
      " [-0.03642293]\n",
      " [-0.06174826]\n",
      " [-0.03026051]\n",
      " [ 0.01217869]\n",
      " [-0.09537848]\n",
      " [ 0.00065106]\n",
      " [-0.04739847]\n",
      " [ 0.01381165]\n",
      " [ 0.00590435]]\n"
     ]
    },
    {
     "data": {
      "image/png": "[encoded data removed]",
      "text/plain": [
       "<Figure size 432x288 with 1 Axes>"
      ]
     },
     "metadata": {
      "needs_background": "light"
     },
     "output_type": "display_data"
    }
   ],
   "source": [
    "#model = GaussianProcessRegressor(kernel=1.0 * RBF(length_scale=100.0, length_scale_bounds=(1e-2, 1e3))+ \n",
    "#                                WhiteKernel(noise_level=1, noise_level_bounds=(1e-10, 1e+1)),alpha=0.0)\n",
    "model = GaussianProcessRegressor(kernel=1.0 * RationalQuadratic(length_scale=1.0, alpha=0.01))\n",
    "model.fit(X,Y)\n",
    "predicted = model.predict(X_test)\n",
    "r2=sklearn.metrics.r2_score(Y_test, predicted)\n",
    "Y_unscaled = scaler.inverse_transform(np.array(Y_test).reshape(-1,1))\n",
    "predicted_unscaled = scaler.inverse_transform(np.array(predicted).reshape(-1,1))\n",
    "err=np.sqrt(mean_squared_error(Y_test,predicted))\n",
    "err_unscaled=np.sqrt(mean_squared_error(Y_unscaled,predicted_unscaled))\n",
    "print(\"GPR-5: \",r2)\n",
    "print(\"RMSE: \",err)\n",
    "print(\"RMSE unscaled: \",err_unscaled)\n",
    "print(\"----------------------------------------\")\n",
    "fig, ax = plt.subplots()\n",
    "ax.scatter(Y_unscaled, predicted_unscaled)\n",
    "print(Y_unscaled)\n",
    "print(predicted_unscaled)\n",
    "ax.plot([Y_unscaled.min(), predicted_unscaled.max()], [Y_unscaled.min(), predicted_unscaled.max()], 'r--', lw=1)\n",
    "#for i in range(len(Y_test)):\n",
    "#    plt.annotate(text[i], (Y_test[i], predicted[i]))\n",
    "ax.set_xlabel(\"Calculated, Coef_c\",fontsize= 20)\n",
    "ax.set_ylabel(\"Predicted, Coef_c\",fontsize= 20)\n",
    "plt.xticks(fontsize=20)\n",
    "plt.yticks(fontsize=20)\n",
    "ax.tick_params(direction='in', length=10, width=2)\n",
    "for axis in ['top','bottom','left','right']:\n",
    "    ax.spines[axis].set_linewidth(2)\n",
    "#plt.savefig('kl_train.eps', format='eps', bbox_inches='tight',pad_inches = 0)\n",
    "plt.show()"
   ]
  },
  {
   "cell_type": "code",
   "execution_count": 20,
   "id": "c93c4a99",
   "metadata": {},
   "outputs": [
    {
     "name": "stdout",
     "output_type": "stream",
     "text": [
      "GPR-2:  0.9999999999999999\n",
      "RMSE:  2.150056191253122e-09\n",
      "RMSE unscaled:  3.333970177059966e-10\n",
      "----------------------------------------\n",
      "[[ 1.56941847e-02]\n",
      " [-8.24978846e-03]\n",
      " [-8.04513221e-02]\n",
      " [ 8.82657352e-03]\n",
      " [ 7.33022935e-03]\n",
      " [ 2.04638544e-02]\n",
      " [ 1.27977442e-02]\n",
      " [ 5.90784122e-03]\n",
      " [ 1.19163171e-02]\n",
      " [ 7.46909555e-03]\n",
      " [ 2.25317195e-02]\n",
      " [-2.68010310e-02]\n",
      " [ 1.17321075e-02]\n",
      " [ 1.36659473e-02]\n",
      " [ 1.60441899e-02]\n",
      " [ 7.46129458e-03]\n",
      " [-4.15721811e-02]\n",
      " [-1.76200375e-03]\n",
      " [ 9.43575286e-03]\n",
      " [-1.99560360e-02]\n",
      " [-7.17397229e-03]\n",
      " [ 2.31877967e-02]\n",
      " [ 1.41331185e-02]\n",
      " [ 4.59105349e-03]\n",
      " [-8.57862845e-02]\n",
      " [ 1.52270188e-02]\n",
      " [-1.38283373e-02]\n",
      " [ 5.52341936e-03]\n",
      " [ 7.75486204e-03]\n",
      " [ 2.23952058e-03]\n",
      " [-3.00138081e-03]\n",
      " [ 1.75860755e-02]\n",
      " [ 1.54934923e-02]\n",
      " [ 5.96868739e-03]\n",
      " [-4.47152537e-02]\n",
      " [ 1.69534309e-02]\n",
      " [ 8.29168573e-03]\n",
      " [-8.60655402e-03]\n",
      " [ 3.27389757e-03]\n",
      " [-1.31876531e-01]\n",
      " [-6.52414289e-03]\n",
      " [ 1.15178642e-02]\n",
      " [-1.53103792e-02]\n",
      " [ 1.09156848e-02]\n",
      " [ 1.27422040e-02]\n",
      " [-7.60757053e-05]\n",
      " [-8.20297527e-02]\n",
      " [-1.57197755e-02]\n",
      " [ 8.56455182e-03]\n",
      " [-1.31981748e-02]\n",
      " [ 1.19821703e-02]\n",
      " [-1.22676059e-01]\n",
      " [-3.82975469e-03]\n",
      " [ 1.69736465e-02]\n",
      " [-5.97282529e-02]\n",
      " [-7.48300677e-02]\n",
      " [-9.61337223e-02]\n",
      " [-1.44284855e-03]\n",
      " [ 4.89291118e-03]\n",
      " [ 6.37584450e-03]\n",
      " [ 1.45950385e-02]\n",
      " [-6.65684630e-02]\n",
      " [-7.28141514e-02]\n",
      " [ 1.36722728e-02]]\n",
      "[[ 1.56941846e-02]\n",
      " [-8.24978799e-03]\n",
      " [-8.04513221e-02]\n",
      " [ 8.82657375e-03]\n",
      " [ 7.33022879e-03]\n",
      " [ 2.04638546e-02]\n",
      " [ 1.27977439e-02]\n",
      " [ 5.90784149e-03]\n",
      " [ 1.19163177e-02]\n",
      " [ 7.46909504e-03]\n",
      " [ 2.25317194e-02]\n",
      " [-2.68010312e-02]\n",
      " [ 1.17321076e-02]\n",
      " [ 1.36659472e-02]\n",
      " [ 1.60441897e-02]\n",
      " [ 7.46129473e-03]\n",
      " [-4.15721810e-02]\n",
      " [-1.76200377e-03]\n",
      " [ 9.43575284e-03]\n",
      " [-1.99560356e-02]\n",
      " [-7.17397137e-03]\n",
      " [ 2.31877967e-02]\n",
      " [ 1.41331180e-02]\n",
      " [ 4.59105299e-03]\n",
      " [-8.57862845e-02]\n",
      " [ 1.52270187e-02]\n",
      " [-1.38283367e-02]\n",
      " [ 5.52341868e-03]\n",
      " [ 7.75486205e-03]\n",
      " [ 2.23952046e-03]\n",
      " [-3.00138028e-03]\n",
      " [ 1.75860753e-02]\n",
      " [ 1.54934923e-02]\n",
      " [ 5.96868736e-03]\n",
      " [-4.47152536e-02]\n",
      " [ 1.69534308e-02]\n",
      " [ 8.29168568e-03]\n",
      " [-8.60655429e-03]\n",
      " [ 3.27389742e-03]\n",
      " [-1.31876531e-01]\n",
      " [-6.52414271e-03]\n",
      " [ 1.15178645e-02]\n",
      " [-1.53103791e-02]\n",
      " [ 1.09156848e-02]\n",
      " [ 1.27422037e-02]\n",
      " [-7.60757505e-05]\n",
      " [-8.20297519e-02]\n",
      " [-1.57197764e-02]\n",
      " [ 8.56455191e-03]\n",
      " [-1.31981750e-02]\n",
      " [ 1.19821702e-02]\n",
      " [-1.22676059e-01]\n",
      " [-3.82975456e-03]\n",
      " [ 1.69736464e-02]\n",
      " [-5.97282529e-02]\n",
      " [-7.48300674e-02]\n",
      " [-9.61337217e-02]\n",
      " [-1.44284838e-03]\n",
      " [ 4.89291113e-03]\n",
      " [ 6.37584443e-03]\n",
      " [ 1.45950383e-02]\n",
      " [-6.65684636e-02]\n",
      " [-7.28141514e-02]\n",
      " [ 1.36722728e-02]]\n"
     ]
    },
    {
     "data": {
      "image/png": "[encoded data removed]",
      "text/plain": [
       "<Figure size 432x288 with 1 Axes>"
      ]
     },
     "metadata": {
      "needs_background": "light"
     },
     "output_type": "display_data"
    }
   ],
   "source": [
    "predicted = model.predict(X)\n",
    "r2=sklearn.metrics.r2_score(Y, predicted)\n",
    "Y_unscaled = scaler.inverse_transform(np.array(Y).reshape(-1,1))\n",
    "predicted_unscaled = scaler.inverse_transform(np.array(predicted).reshape(-1,1))\n",
    "err=np.sqrt(mean_squared_error(Y,predicted))\n",
    "err_unscaled=np.sqrt(mean_squared_error(Y_unscaled,predicted_unscaled))\n",
    "print(\"GPR-2: \",r2)\n",
    "print(\"RMSE: \",err)\n",
    "print(\"RMSE unscaled: \",err_unscaled)\n",
    "print(\"----------------------------------------\")\n",
    "fig, ax = plt.subplots()\n",
    "ax.scatter(Y_unscaled, predicted_unscaled)\n",
    "print(Y_unscaled)\n",
    "print(predicted_unscaled)\n",
    "ax.plot([Y_unscaled.min(), predicted_unscaled.max()], [Y_unscaled.min(), predicted_unscaled.max()], 'r--', lw=1)\n",
    "#for i in range(len(Y_test)):\n",
    "#    plt.annotate(text[i], (Y_test[i], predicted[i]))\n",
    "ax.set_xlabel(\"Calculated, Coef_c\",fontsize= 20)\n",
    "ax.set_ylabel(\"Predicted, Coef_c\",fontsize= 20)\n",
    "plt.xticks(fontsize=20)\n",
    "plt.yticks(fontsize=20)\n",
    "ax.tick_params(direction='in', length=10, width=2)\n",
    "for axis in ['top','bottom','left','right']:\n",
    "    ax.spines[axis].set_linewidth(2)\n",
    "#plt.savefig('kl_train.eps', format='eps', bbox_inches='tight',pad_inches = 0)\n",
    "plt.show()"
   ]
  },
  {
   "cell_type": "code",
   "execution_count": 21,
   "id": "85aed847",
   "metadata": {},
   "outputs": [
    {
     "name": "stdout",
     "output_type": "stream",
     "text": [
      "Feature: 0, Score: 0.00240\n",
      "Feature: 1, Score: 0.00521\n",
      "Feature: 2, Score: 0.00349\n",
      "Feature: 3, Score: 0.00245\n",
      "Feature: 4, Score: 0.00054\n",
      "Feature: 5, Score: 0.00041\n",
      "Feature: 6, Score: 0.00048\n",
      "Feature: 7, Score: 0.00660\n",
      "Feature: 8, Score: 0.00025\n",
      "Feature: 9, Score: 0.00008\n",
      "Feature: 10, Score: 0.00111\n",
      "Feature: 11, Score: 0.00084\n",
      "Feature: 12, Score: 0.00290\n",
      "Feature: 13, Score: 0.00093\n",
      "Feature: 14, Score: 0.00119\n",
      "Feature: 15, Score: 0.00007\n",
      "Feature: 16, Score: 0.00028\n",
      "Feature: 17, Score: 0.00033\n",
      "Feature: 18, Score: 0.00069\n",
      "Feature: 19, Score: 0.00011\n",
      "Feature: 20, Score: 0.00014\n",
      "Feature: 21, Score: 0.00007\n",
      "Feature: 22, Score: 0.00033\n",
      "Feature: 23, Score: 0.00028\n",
      "Feature: 24, Score: 0.00249\n",
      "Feature: 25, Score: 0.00021\n",
      "Feature: 26, Score: 0.00022\n",
      "Feature: 27, Score: 0.00014\n",
      "Feature: 28, Score: 0.00018\n",
      "Feature: 29, Score: 0.00032\n"
     ]
    },
    {
     "data": {
      "image/png": "[encoded data removed]",
      "text/plain": [
       "<Figure size 432x288 with 1 Axes>"
      ]
     },
     "metadata": {
      "needs_background": "light"
     },
     "output_type": "display_data"
    }
   ],
   "source": [
    "# fit the model\n",
    "feature_scores=[]\n",
    "model.fit(X, Y)\n",
    "# perform permutation importance\n",
    "results = permutation_importance(model, X, Y, scoring='neg_mean_squared_error')\n",
    "# get importance\n",
    "importance = results.importances_mean\n",
    "\n",
    "# summarize feature importance\n",
    "for i,v in enumerate(importance):\n",
    "    feature_scores.append(v)\n",
    "    print('Feature: %0d, Score: %.5f' % (i,v))\n",
    "# plot feature importance\n",
    "plt.bar([x for x in range(len(importance))], importance)\n",
    "plt.show()"
   ]
  },
  {
   "cell_type": "code",
   "execution_count": 22,
   "id": "b695c5a9",
   "metadata": {},
   "outputs": [
    {
     "name": "stdout",
     "output_type": "stream",
     "text": [
      "     Feature     Score\n",
      "7       X_EA  0.006600\n",
      "1        X_Z  0.005208\n",
      "2   mean_X2X  0.003494\n",
      "12   std_A2X  0.002900\n",
      "24       B_Z  0.002494\n",
      "3   mean_A2X  0.002448\n",
      "0   mean_A2B  0.002401\n",
      "14      B_EA  0.001194\n",
      "10     X_IEI  0.001110\n",
      "13   B_Kappa  0.000933\n"
     ]
    }
   ],
   "source": [
    "featureNames = X.columns\n",
    "dfscores = pd.DataFrame(feature_scores)\n",
    "dfcolumns = pd.DataFrame(featureNames)\n",
    "#concat two dataframes for better visualization \n",
    "featureImportance = pd.concat([dfcolumns,dfscores],axis=1)\n",
    "featureImportance.columns = ['Feature','Score']  #naming the dataframe columns\n",
    "print(featureImportance.nlargest(10,'Score'))  #print 10 best features"
   ]
  },
  {
   "cell_type": "code",
   "execution_count": 23,
   "id": "e558c3a2",
   "metadata": {},
   "outputs": [
    {
     "data": {
      "image/png": "[encoded data removed]",
      "text/plain": [
       "<Figure size 1600x1000 with 1 Axes>"
      ]
     },
     "metadata": {},
     "output_type": "display_data"
    }
   ],
   "source": [
    "features = featureImportance.nlargest(10,'Score')['Feature']\n",
    "features_formatted = [\"G-X\",\"EA-X\",\"$\\sigma_{AX}$\",\"r$_{vdw}$-X\",\"r$_{atomic}$-B\",\n",
    "                      \"r$_{vdw}$-A\",\"$\\overline{x}_{XX}$\",\"IE$_{I}$-A\",\"BP-A\",\"$\\sigma_{BX}$\"]\n",
    "Score = featureImportance.nlargest(10,'Score')['Score']\n",
    "# Figure Size\n",
    "plt.rcdefaults()\n",
    "fig, ax = plt.subplots(figsize =(16, 10))\n",
    "\n",
    "#y_pos = np.arange(len(features))\n",
    "importance = Score\n",
    "ax.barh(features, importance, align='center')\n",
    "\n",
    "for axis in ['top','bottom','left','right']:\n",
    "  ax.spines[axis].set_linewidth(2)\n",
    "\n",
    "# Remove x, y Ticks\n",
    "#ax.xaxis.set_ticks_position('none')\n",
    "#ax.yaxis.set_ticks_position('none')\n",
    "\n",
    "ax.tick_params(direction='out', length=10, width=2)\n",
    "\n",
    "\n",
    "# Add padding between axes and labels\n",
    "ax.xaxis.set_tick_params(pad = 5)\n",
    "ax.yaxis.set_tick_params(pad = 5)\n",
    " \n",
    "ax.set_yticklabels(features_formatted, fontsize= 20)\n",
    "plt.xticks(fontsize=30)\n",
    "#ax.set_xticklabels(Score, fontsize= 20)\n",
    "# Add x, y gridlines\n",
    "#ax.grid(b = True, color ='grey',\n",
    "#        linestyle ='-.', linewidth = 0.5,\n",
    " #       alpha = 0.2)\n",
    "\n",
    "# Show top values\n",
    "ax.invert_yaxis()\n",
    "\n",
    "\n",
    "# Add annotation to bars\n",
    "#for i in ax.patches:\n",
    " #   plt.text(i.get_width()+0.2, i.get_y()+0.5,\n",
    " #            str(round((i.get_width()), 2)),\n",
    "#             fontsize = 15, fontweight ='bold',\n",
    "#             color ='black') \n",
    " \n",
    "# Add Plot Title\n",
    "#ax.set_title('Top 10 features',loc ='center', fontsize = 30)\n",
    "#plot save\n",
    "ax.set_xlabel('Feature Importance', fontsize = 30)\n",
    "plt.savefig('imp.png', format='png',dpi=350)\n",
    "# Show Plot\n",
    "plt.show()"
   ]
  },
  {
   "cell_type": "code",
   "execution_count": null,
   "id": "6b6e37f0",
   "metadata": {},
   "outputs": [],
   "source": []
  }
 ],
 "metadata": {
  "kernelspec": {
   "display_name": "Python 3 (ipykernel)",
   "language": "python",
   "name": "python3"
  },
  "language_info": {
   "codemirror_mode": {
    "name": "ipython",
    "version": 3
   },
   "file_extension": ".py",
   "mimetype": "text/x-python",
   "name": "python",
   "nbconvert_exporter": "python",
   "pygments_lexer": "ipython3",
   "version": "3.9.7"
  }
 },
 "nbformat": 4,
 "nbformat_minor": 5
}
