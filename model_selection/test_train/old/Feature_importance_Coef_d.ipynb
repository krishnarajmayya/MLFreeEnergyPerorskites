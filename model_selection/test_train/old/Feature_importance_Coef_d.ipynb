{
 "cells": [
  {
   "cell_type": "code",
   "execution_count": 1,
   "id": "c3049287",
   "metadata": {},
   "outputs": [],
   "source": [
    "import numpy as np\n",
    "import pandas as pd\n",
    "import matplotlib.pyplot as plt\n",
    "from math import sqrt\n",
    "import seaborn as sns \n",
    "import re\n",
    " \n",
    "import warnings # supress warnings\n",
    "warnings.filterwarnings('ignore')"
   ]
  },
  {
   "cell_type": "code",
   "execution_count": 2,
   "id": "0af1dc92",
   "metadata": {},
   "outputs": [],
   "source": [
    "import sklearn\n",
    "\n",
    "from sklearn.preprocessing import MinMaxScaler, PolynomialFeatures, scale, StandardScaler\n",
    "\n",
    "from sklearn.model_selection import train_test_split, cross_val_score, KFold, GridSearchCV\n",
    "\n",
    "from sklearn.linear_model import LinearRegression, Ridge, Lasso, ElasticNet \n",
    "\n",
    "from sklearn.ensemble import RandomForestRegressor\n",
    "from sklearn.ensemble import GradientBoostingRegressor\n",
    "\n",
    "from sklearn.feature_selection import RFE, SelectKBest, f_regression\n",
    "from sklearn.inspection import permutation_importance\n",
    "\n",
    "from sklearn.gaussian_process import GaussianProcessRegressor\n",
    "from sklearn.gaussian_process.kernels import DotProduct, WhiteKernel, RBF, Matern, RationalQuadratic\n",
    "from sklearn.gaussian_process.kernels import Kernel, Hyperparameter, ConstantKernel\n",
    "from sklearn.gaussian_process.kernels import GenericKernelMixin\n",
    "\n",
    "from sklearn import metrics\n",
    "from sklearn.metrics import mean_squared_error\n",
    "from sklearn.metrics import r2_score  \n",
    "\n",
    "from sklearn.pipeline import make_pipeline\n",
    "\n",
    "from sklearn.base import clone"
   ]
  },
  {
   "cell_type": "code",
   "execution_count": 3,
   "id": "cd48d266",
   "metadata": {},
   "outputs": [],
   "source": [
    "def get_RF_feature_importance():\n",
    "    features= X\n",
    "    feature_list = list(features.columns)\n",
    "    rf = RandomForestRegressor(n_estimators= 15, random_state=1)\n",
    "    rf.fit(X , Y)\n",
    "\n",
    "    # Get numerical feature importances\n",
    "    importances = list(rf.feature_importances_)      \n",
    "    # List of tuples with variable and importance\n",
    "    feature_importances = [(feature, round(importance, 2)) for feature, \n",
    "                           importance in zip(feature_list, importances)]\n",
    "    # Sort the feature importances by most important first\n",
    "    feature_importances = sorted(feature_importances, key = lambda x: x[1], reverse = True)\n",
    "    # Print out the feature and importances \n",
    "    [print('Variable: {:20} Importance: {}'.format(*pair)) for pair in feature_importances];"
   ]
  },
  {
   "cell_type": "code",
   "execution_count": 4,
   "id": "ec168c65",
   "metadata": {},
   "outputs": [],
   "source": [
    "data = pd.read_csv('Combined_all_3rd.csv', encoding='cp1252')  "
   ]
  },
  {
   "cell_type": "code",
   "execution_count": 5,
   "id": "65f8ee82",
   "metadata": {},
   "outputs": [
    {
     "data": {
      "text/plain": [
       "array(['Name', 'Coef_a', 'Coef_b', 'Coef_c', 'Coef_d', 'A_site', 'B_site',\n",
       "       'X_site', 'Spacegroup', 'Ehull', 'BulkModulus', 'Energy', 'ZPE',\n",
       "       's_A', 's_B', 's_X', 'density', 'mean_A2B', 'mean_A2X', 'mean_B2X',\n",
       "       'mean_X2X', 'std_A2B', 'std_A2X', 'std_B2X', 'std_X2X', 'E_coh',\n",
       "       'TF', 'OF', 'A_Z', 'B_Z', 'X_Z', 'A_M', 'B_M', 'X_M', 'A_G', 'B_G',\n",
       "       'X_G', 'A_IEI', 'B_IEI', 'X_IEI', 'A_IEII', 'B_IEII', 'X_IEII',\n",
       "       'A_EA', 'B_EA', 'X_EA', 'A_ChiP', 'B_ChiP', 'X_ChiP', 'A_ChiA',\n",
       "       'X_ChiA', 'A_Rvdw', 'B_Rvdw', 'X_Rvdw', 'A_Rc', 'B_Rc', 'X_Rc',\n",
       "       'A_Ra', 'B_Ra', 'X_Ra', 'A_MP', 'B_MP', 'X_MP', 'A_BP', 'B_BP',\n",
       "       'X_BP', 'A_Rho', 'B_Rho', 'A_MV', 'B_MV', 'X_MV', 'A_Hf', 'B_Hf',\n",
       "       'X_Hf', 'A_Hv', 'B_Hv', 'X_Hv', 'A_Kappa', 'B_Kappa', 'X_Kappa',\n",
       "       'A_CvM', 'B_CvM', 'X_CvM', 'A_B', 'B_B', 'X_B', 'A_MendeleevNo',\n",
       "       'B_MendeleevNo', 'X_MendeleevNo'], dtype=object)"
      ]
     },
     "execution_count": 5,
     "metadata": {},
     "output_type": "execute_result"
    }
   ],
   "source": [
    "data.columns.values"
   ]
  },
  {
   "cell_type": "code",
   "execution_count": 6,
   "id": "7864464a",
   "metadata": {},
   "outputs": [],
   "source": [
    "data.drop(['Name', 'A_site', 'B_site', 'X_site', 'Spacegroup', 'Ehull','BulkModulus', 'Energy','s_A','s_B','s_X','Coef_a','Coef_b', 'Coef_c', 'ZPE'], axis=1, inplace = True)"
   ]
  },
  {
   "cell_type": "code",
   "execution_count": 7,
   "id": "0cb59bb0",
   "metadata": {},
   "outputs": [],
   "source": [
    "data.fillna(0, inplace= True)"
   ]
  },
  {
   "cell_type": "code",
   "execution_count": 8,
   "id": "a616203c",
   "metadata": {},
   "outputs": [
    {
     "data": {
      "text/plain": [
       "array(['Coef_d', 'density', 'mean_A2B', 'mean_A2X', 'mean_B2X',\n",
       "       'mean_X2X', 'std_A2B', 'std_A2X', 'std_B2X', 'std_X2X', 'E_coh',\n",
       "       'TF', 'OF', 'A_Z', 'B_Z', 'X_Z', 'A_M', 'B_M', 'X_M', 'A_G', 'B_G',\n",
       "       'X_G', 'A_IEI', 'B_IEI', 'X_IEI', 'A_IEII', 'B_IEII', 'X_IEII',\n",
       "       'A_EA', 'B_EA', 'X_EA', 'A_ChiP', 'B_ChiP', 'X_ChiP', 'A_ChiA',\n",
       "       'X_ChiA', 'A_Rvdw', 'B_Rvdw', 'X_Rvdw', 'A_Rc', 'B_Rc', 'X_Rc',\n",
       "       'A_Ra', 'B_Ra', 'X_Ra', 'A_MP', 'B_MP', 'X_MP', 'A_BP', 'B_BP',\n",
       "       'X_BP', 'A_Rho', 'B_Rho', 'A_MV', 'B_MV', 'X_MV', 'A_Hf', 'B_Hf',\n",
       "       'X_Hf', 'A_Hv', 'B_Hv', 'X_Hv', 'A_Kappa', 'B_Kappa', 'X_Kappa',\n",
       "       'A_CvM', 'B_CvM', 'X_CvM', 'A_B', 'B_B', 'X_B', 'A_MendeleevNo',\n",
       "       'B_MendeleevNo', 'X_MendeleevNo'], dtype=object)"
      ]
     },
     "execution_count": 8,
     "metadata": {},
     "output_type": "execute_result"
    }
   ],
   "source": [
    "d=data.copy()\n",
    "d.columns.values"
   ]
  },
  {
   "cell_type": "code",
   "execution_count": 9,
   "id": "15a65166",
   "metadata": {},
   "outputs": [],
   "source": [
    "columns = list(d.columns.values)"
   ]
  },
  {
   "cell_type": "code",
   "execution_count": 10,
   "id": "7731e256",
   "metadata": {},
   "outputs": [],
   "source": [
    "data_std=d.copy()\n",
    "scaler=MinMaxScaler()\n",
    "scaler.fit(np.array(data['Coef_d']).reshape(-1, 1))\n",
    "data_zpe_std= scaler.transform(np.array(data['Coef_d']).reshape(-1, 1))\n",
    "data_std[columns]= MinMaxScaler().fit_transform(d[columns])\n",
    "Y = data_std['Coef_d'] \n",
    "X = data_std.drop(['Coef_d'], axis=1)"
   ]
  },
  {
   "cell_type": "code",
   "execution_count": 11,
   "id": "d697e067",
   "metadata": {},
   "outputs": [],
   "source": [
    "corrmat = X.corr()\n",
    "top_corr_features = corrmat.index\n",
    "correlated_features = set()"
   ]
  },
  {
   "cell_type": "code",
   "execution_count": 12,
   "id": "0fd533a0",
   "metadata": {},
   "outputs": [
    {
     "name": "stdout",
     "output_type": "stream",
     "text": [
      "{'A_MV', 'B_BP', 'X_MendeleevNo', 'X_IEII', 'A_Rc', 'A_Hv', 'A_BP', 'B_M', 'A_MendeleevNo', 'X_Rc', 'A_M', 'X_MP', 'A_Ra', 'X_CvM', 'X_BP', 'X_ChiA', 'X_Hf', 'B_Hv', 'A_Hf', 'X_Hv', 'X_Ra', 'X_B', 'X_M'}\n"
     ]
    }
   ],
   "source": [
    "for i in range(len(X.columns)):\n",
    "    for j in range(i):\n",
    "        if abs(corrmat.iloc[i, j]) > 0.9:\n",
    "            colname = corrmat.columns[i]\n",
    "            correlated_features.add(colname)\n",
    "len(correlated_features)\n",
    "print(correlated_features)"
   ]
  },
  {
   "cell_type": "code",
   "execution_count": 13,
   "id": "a03eb5a6",
   "metadata": {},
   "outputs": [
    {
     "data": {
      "text/plain": [
       "(80, 51)"
      ]
     },
     "execution_count": 13,
     "metadata": {},
     "output_type": "execute_result"
    }
   ],
   "source": [
    "data_std.drop(labels=correlated_features, axis=1, inplace=True)\n",
    "data_std.shape"
   ]
  },
  {
   "cell_type": "code",
   "execution_count": 14,
   "id": "414ba69a",
   "metadata": {},
   "outputs": [],
   "source": [
    "# split into train and test\n",
    "df_train, df_test = train_test_split(data_std, \n",
    "                                     train_size = 0.8, \n",
    "                                     test_size = 0.2, \n",
    "                                     random_state = 50)\n",
    "df_train.reset_index(inplace = True)\n",
    "df_test.reset_index(inplace = True)\n",
    "df_train=df_train.drop('index',axis=1)\n",
    "df_test=df_test.drop('index',axis=1)\n",
    "# divide into X_train, y_train, X_test, y_test\n",
    "Y = df_train.pop('Coef_d')\n",
    "X = df_train\n",
    "\n",
    "Y_test = df_test.pop('Coef_d')\n",
    "X_test = df_test"
   ]
  },
  {
   "cell_type": "code",
   "execution_count": 15,
   "id": "640d60b9",
   "metadata": {},
   "outputs": [
    {
     "name": "stdout",
     "output_type": "stream",
     "text": [
      "     Feature      Score\n",
      "25      X_EA  81.232938\n",
      "32    X_Rvdw  69.112112\n",
      "14       X_Z  43.753926\n",
      "1   mean_A2B  36.476139\n",
      "17       X_G  32.133586\n",
      "4   mean_X2X  21.756733\n",
      "30    A_Rvdw  21.351495\n",
      "18     A_IEI  18.448048\n",
      "13       B_Z  16.733902\n",
      "41      B_Hf  16.431242\n",
      "2   mean_A2X  14.661730\n",
      "34      B_Ra  14.611618\n",
      "7    std_B2X  14.051080\n",
      "11        OF  12.789702\n",
      "23      A_EA  12.359494\n",
      "29    A_ChiA  12.090829\n",
      "6    std_A2X  10.602250\n",
      "38     B_Rho   9.731500\n",
      "9      E_coh   9.463266\n",
      "26    A_ChiP   9.223658\n",
      "46     B_CvM   8.515155\n",
      "36      B_MP   8.146515\n",
      "33      B_Rc   7.662039\n",
      "10        TF   6.853180\n",
      "31    B_Rvdw   6.627869\n",
      "35      A_MP   5.800927\n",
      "8    std_X2X   5.596058\n",
      "42   A_Kappa   5.555247\n",
      "40      X_MV   5.384953\n",
      "5    std_A2B   5.191784\n"
     ]
    }
   ],
   "source": [
    "#apply SelectKBest class to extract top 10 best features\n",
    "bestfeatures = SelectKBest(score_func=f_regression, k=10)\n",
    "fit = bestfeatures.fit(X,Y)\n",
    "dfscores = pd.DataFrame(fit.scores_)\n",
    "dfcolumns = pd.DataFrame(X.columns)\n",
    "#concat two dataframes for better visualization \n",
    "featureScores = pd.concat([dfcolumns,dfscores],axis=1)\n",
    "featureScores.columns = ['Feature','Score']  #naming the dataframe columns\n",
    "print(featureScores.nlargest(30,'Score'))  #print 10 best features"
   ]
  },
  {
   "cell_type": "code",
   "execution_count": 16,
   "id": "d1df7e92",
   "metadata": {},
   "outputs": [
    {
     "name": "stdout",
     "output_type": "stream",
     "text": [
      "Variable: X_Z                  Importance: 0.23\n",
      "Variable: X_EA                 Importance: 0.23\n",
      "Variable: B_Z                  Importance: 0.1\n",
      "Variable: B_Rho                Importance: 0.09\n",
      "Variable: B_CvM                Importance: 0.06\n",
      "Variable: density              Importance: 0.05\n",
      "Variable: mean_A2B             Importance: 0.05\n",
      "Variable: E_coh                Importance: 0.04\n",
      "Variable: mean_X2X             Importance: 0.03\n",
      "Variable: X_G                  Importance: 0.02\n",
      "Variable: A_ChiA               Importance: 0.02\n",
      "Variable: mean_A2X             Importance: 0.01\n",
      "Variable: std_A2X              Importance: 0.01\n",
      "Variable: std_B2X              Importance: 0.01\n",
      "Variable: std_X2X              Importance: 0.01\n",
      "Variable: OF                   Importance: 0.01\n",
      "Variable: A_Rvdw               Importance: 0.01\n",
      "Variable: mean_B2X             Importance: 0.0\n",
      "Variable: std_A2B              Importance: 0.0\n",
      "Variable: TF                   Importance: 0.0\n",
      "Variable: A_Z                  Importance: 0.0\n",
      "Variable: A_G                  Importance: 0.0\n",
      "Variable: B_G                  Importance: 0.0\n",
      "Variable: A_IEI                Importance: 0.0\n",
      "Variable: B_IEI                Importance: 0.0\n",
      "Variable: X_IEI                Importance: 0.0\n",
      "Variable: A_IEII               Importance: 0.0\n",
      "Variable: B_IEII               Importance: 0.0\n",
      "Variable: A_EA                 Importance: 0.0\n",
      "Variable: B_EA                 Importance: 0.0\n",
      "Variable: A_ChiP               Importance: 0.0\n",
      "Variable: B_ChiP               Importance: 0.0\n",
      "Variable: X_ChiP               Importance: 0.0\n",
      "Variable: B_Rvdw               Importance: 0.0\n",
      "Variable: X_Rvdw               Importance: 0.0\n",
      "Variable: B_Rc                 Importance: 0.0\n",
      "Variable: B_Ra                 Importance: 0.0\n",
      "Variable: A_MP                 Importance: 0.0\n",
      "Variable: B_MP                 Importance: 0.0\n",
      "Variable: A_Rho                Importance: 0.0\n",
      "Variable: B_MV                 Importance: 0.0\n",
      "Variable: X_MV                 Importance: 0.0\n",
      "Variable: B_Hf                 Importance: 0.0\n",
      "Variable: A_Kappa              Importance: 0.0\n",
      "Variable: B_Kappa              Importance: 0.0\n",
      "Variable: X_Kappa              Importance: 0.0\n",
      "Variable: A_CvM                Importance: 0.0\n",
      "Variable: A_B                  Importance: 0.0\n",
      "Variable: B_B                  Importance: 0.0\n",
      "Variable: B_MendeleevNo        Importance: 0.0\n"
     ]
    }
   ],
   "source": [
    "get_RF_feature_importance()"
   ]
  },
  {
   "cell_type": "code",
   "execution_count": 17,
   "id": "6f97b2d6",
   "metadata": {},
   "outputs": [
    {
     "data": {
      "text/plain": [
       "array(['X_EA', 'X_Rvdw', 'X_Z', 'mean_A2B', 'X_G', 'mean_X2X', 'A_Rvdw',\n",
       "       'A_IEI', 'B_Z', 'B_Hf', 'mean_A2X', 'B_Ra', 'std_B2X', 'OF',\n",
       "       'A_EA', 'A_ChiA', 'std_A2X', 'B_Rho', 'E_coh', 'A_ChiP', 'B_CvM',\n",
       "       'B_MP', 'B_Rc', 'TF', 'B_Rvdw', 'A_MP', 'std_X2X', 'A_Kappa',\n",
       "       'X_MV', 'std_A2B'], dtype=object)"
      ]
     },
     "execution_count": 17,
     "metadata": {},
     "output_type": "execute_result"
    }
   ],
   "source": [
    "featureScores.nlargest(30,'Score')['Feature'].values"
   ]
  },
  {
   "cell_type": "code",
   "execution_count": 18,
   "id": "3c181bb4",
   "metadata": {},
   "outputs": [],
   "source": [
    "X=X[featureScores.nlargest(30,'Score')['Feature'].values]\n",
    "X_test=X_test[featureScores.nlargest(30,'Score')['Feature'].values]"
   ]
  },
  {
   "cell_type": "code",
   "execution_count": 19,
   "id": "1bb6beee",
   "metadata": {},
   "outputs": [
    {
     "name": "stdout",
     "output_type": "stream",
     "text": [
      "GPR-5:  0.9717850708844489\n",
      "RMSE:  0.03906895581696741\n",
      "RMSE unscaled:  1.8145938768493106\n",
      "----------------------------------------\n",
      "[[32.9844579 ]\n",
      " [25.6293057 ]\n",
      " [ 9.93530864]\n",
      " [36.39800067]\n",
      " [17.20093281]\n",
      " [27.00269029]\n",
      " [24.67295467]\n",
      " [35.23755744]\n",
      " [50.80204432]\n",
      " [17.254751  ]\n",
      " [30.8614376 ]\n",
      " [23.99705984]\n",
      " [31.15845886]\n",
      " [24.61248239]\n",
      " [11.76081054]\n",
      " [45.73572318]]\n",
      "[[36.61755899]\n",
      " [24.21542993]\n",
      " [ 9.85707817]\n",
      " [38.04112896]\n",
      " [16.64500623]\n",
      " [26.1183332 ]\n",
      " [24.32435793]\n",
      " [36.21179028]\n",
      " [47.54260381]\n",
      " [17.61522419]\n",
      " [30.09911923]\n",
      " [24.16275382]\n",
      " [32.26675954]\n",
      " [22.92496423]\n",
      " [13.47987613]\n",
      " [41.96424422]]\n"
     ]
    },
    {
     "data": {
      "image/png": "[encoded data removed]",
      "text/plain": [
       "<Figure size 432x288 with 1 Axes>"
      ]
     },
     "metadata": {
      "needs_background": "light"
     },
     "output_type": "display_data"
    }
   ],
   "source": [
    "#model = GaussianProcessRegressor(kernel=1.0 * RBF(length_scale=100.0, length_scale_bounds=(1e-2, 1e3))+ \n",
    "#                                WhiteKernel(noise_level=1, noise_level_bounds=(1e-10, 1e+1)),alpha=0.0)\n",
    "model = GaussianProcessRegressor(kernel=1.0 * RationalQuadratic(length_scale=1.0, alpha=0.01))\n",
    "model.fit(X,Y)\n",
    "predicted = model.predict(X_test)\n",
    "r2=sklearn.metrics.r2_score(Y_test, predicted)\n",
    "Y_unscaled = scaler.inverse_transform(np.array(Y_test).reshape(-1,1))\n",
    "predicted_unscaled = scaler.inverse_transform(np.array(predicted).reshape(-1,1))\n",
    "err=np.sqrt(mean_squared_error(Y_test,predicted))\n",
    "err_unscaled=np.sqrt(mean_squared_error(Y_unscaled,predicted_unscaled))\n",
    "print(\"GPR-5: \",r2)\n",
    "print(\"RMSE: \",err)\n",
    "print(\"RMSE unscaled: \",err_unscaled)\n",
    "print(\"----------------------------------------\")\n",
    "fig, ax = plt.subplots()\n",
    "ax.scatter(Y_unscaled, predicted_unscaled)\n",
    "print(Y_unscaled)\n",
    "print(predicted_unscaled)\n",
    "ax.plot([Y_unscaled.min(), predicted_unscaled.max()], [Y_unscaled.min(), predicted_unscaled.max()], 'r--', lw=1)\n",
    "#for i in range(len(Y_test)):\n",
    "#    plt.annotate(text[i], (Y_test[i], predicted[i]))\n",
    "ax.set_xlabel(\"Calculated, Coef_d\",fontsize= 20)\n",
    "ax.set_ylabel(\"Predicted, Coef_d\",fontsize= 20)\n",
    "plt.xticks(fontsize=20)\n",
    "plt.yticks(fontsize=20)\n",
    "ax.tick_params(direction='in', length=10, width=2)\n",
    "for axis in ['top','bottom','left','right']:\n",
    "    ax.spines[axis].set_linewidth(2)\n",
    "#plt.savefig('kl_train.eps', format='eps', bbox_inches='tight',pad_inches = 0)\n",
    "plt.show()"
   ]
  },
  {
   "cell_type": "code",
   "execution_count": 20,
   "id": "c93c4a99",
   "metadata": {},
   "outputs": [
    {
     "name": "stdout",
     "output_type": "stream",
     "text": [
      "GPR-2:  0.9999999999999998\n",
      "RMSE:  3.087946406370199e-09\n",
      "RMSE unscaled:  1.434225337536967e-07\n",
      "----------------------------------------\n",
      "[[24.00136566]\n",
      " [35.1350856 ]\n",
      " [20.16279563]\n",
      " [25.96274738]\n",
      " [33.05202239]\n",
      " [28.63135854]\n",
      " [19.35016826]\n",
      " [14.84554168]\n",
      " [29.34720819]\n",
      " [19.47338775]\n",
      " [34.0345317 ]\n",
      " [26.60880602]\n",
      " [26.28293995]\n",
      " [ 9.86846903]\n",
      " [28.47081059]\n",
      " [11.80547197]\n",
      " [26.59586309]\n",
      " [12.26367222]\n",
      " [20.69711655]\n",
      " [29.18485601]\n",
      " [40.56141431]\n",
      " [18.55294536]\n",
      " [28.46593831]\n",
      " [21.21768879]\n",
      " [20.3470214 ]\n",
      " [18.73071956]\n",
      " [15.6806608 ]\n",
      " [11.07630085]\n",
      " [27.83483144]\n",
      " [41.21891446]\n",
      " [47.66802811]\n",
      " [45.28019001]\n",
      " [13.24872224]\n",
      " [19.49751376]\n",
      " [29.07244311]\n",
      " [34.17055994]\n",
      " [23.95497237]\n",
      " [10.05225226]\n",
      " [10.43951718]\n",
      " [56.31439621]\n",
      " [26.37055848]\n",
      " [41.35904991]\n",
      " [11.42126821]\n",
      " [30.5372257 ]\n",
      " [31.64286624]\n",
      " [36.69426201]\n",
      " [15.9538236 ]\n",
      " [50.87643118]\n",
      " [26.7156864 ]\n",
      " [28.08165123]\n",
      " [11.76191958]\n",
      " [46.87246197]\n",
      " [13.03462924]\n",
      " [22.41563605]\n",
      " [29.034234  ]\n",
      " [21.07425836]\n",
      " [27.76126218]\n",
      " [12.28630393]\n",
      " [26.96431458]\n",
      " [29.12769347]\n",
      " [26.71365313]\n",
      " [31.33004521]\n",
      " [10.87327289]\n",
      " [31.4619198 ]]\n",
      "[[24.00136568]\n",
      " [35.13508559]\n",
      " [20.16279563]\n",
      " [25.96274744]\n",
      " [33.0520224 ]\n",
      " [28.63135856]\n",
      " [19.35016826]\n",
      " [14.84554164]\n",
      " [29.34720812]\n",
      " [19.47338837]\n",
      " [34.03453162]\n",
      " [26.60880605]\n",
      " [26.28293997]\n",
      " [ 9.86846904]\n",
      " [28.4708105 ]\n",
      " [11.80547203]\n",
      " [26.59586313]\n",
      " [12.26367226]\n",
      " [20.69711675]\n",
      " [29.18485599]\n",
      " [40.5614143 ]\n",
      " [18.55294545]\n",
      " [28.4659383 ]\n",
      " [21.21768883]\n",
      " [20.34702144]\n",
      " [18.73071957]\n",
      " [15.68066077]\n",
      " [11.07630086]\n",
      " [27.83483146]\n",
      " [41.21891448]\n",
      " [47.66802809]\n",
      " [45.28018998]\n",
      " [13.2487222 ]\n",
      " [19.49751377]\n",
      " [29.0724431 ]\n",
      " [34.17055994]\n",
      " [23.95497211]\n",
      " [10.05225227]\n",
      " [10.43951718]\n",
      " [56.31439616]\n",
      " [26.37055847]\n",
      " [41.35904986]\n",
      " [11.42126822]\n",
      " [30.5372257 ]\n",
      " [31.64286621]\n",
      " [36.69426198]\n",
      " [15.95382356]\n",
      " [50.87643117]\n",
      " [26.71568677]\n",
      " [28.08165134]\n",
      " [11.76191956]\n",
      " [46.87246197]\n",
      " [13.03462927]\n",
      " [22.41563597]\n",
      " [29.03423381]\n",
      " [21.0742584 ]\n",
      " [27.76126215]\n",
      " [12.28630398]\n",
      " [26.96431458]\n",
      " [29.12769272]\n",
      " [26.71365316]\n",
      " [31.33004522]\n",
      " [10.87327286]\n",
      " [31.46191979]]\n"
     ]
    },
    {
     "data": {
      "image/png": "[encoded data removed]",
      "text/plain": [
       "<Figure size 432x288 with 1 Axes>"
      ]
     },
     "metadata": {
      "needs_background": "light"
     },
     "output_type": "display_data"
    }
   ],
   "source": [
    "predicted = model.predict(X)\n",
    "r2=sklearn.metrics.r2_score(Y, predicted)\n",
    "Y_unscaled = scaler.inverse_transform(np.array(Y).reshape(-1,1))\n",
    "predicted_unscaled = scaler.inverse_transform(np.array(predicted).reshape(-1,1))\n",
    "err=np.sqrt(mean_squared_error(Y,predicted))\n",
    "err_unscaled=np.sqrt(mean_squared_error(Y_unscaled,predicted_unscaled))\n",
    "print(\"GPR-2: \",r2)\n",
    "print(\"RMSE: \",err)\n",
    "print(\"RMSE unscaled: \",err_unscaled)\n",
    "print(\"----------------------------------------\")\n",
    "fig, ax = plt.subplots()\n",
    "ax.scatter(Y_unscaled, predicted_unscaled)\n",
    "print(Y_unscaled)\n",
    "print(predicted_unscaled)\n",
    "ax.plot([Y_unscaled.min(), predicted_unscaled.max()], [Y_unscaled.min(), predicted_unscaled.max()], 'r--', lw=1)\n",
    "#for i in range(len(Y_test)):\n",
    "#    plt.annotate(text[i], (Y_test[i], predicted[i]))\n",
    "ax.set_xlabel(\"Calculated, Coef_d\",fontsize= 20)\n",
    "ax.set_ylabel(\"Predicted, Coef_d\",fontsize= 20)\n",
    "plt.xticks(fontsize=20)\n",
    "plt.yticks(fontsize=20)\n",
    "ax.tick_params(direction='in', length=10, width=2)\n",
    "for axis in ['top','bottom','left','right']:\n",
    "    ax.spines[axis].set_linewidth(2)\n",
    "#plt.savefig('kl_train.eps', format='eps', bbox_inches='tight',pad_inches = 0)\n",
    "plt.show()"
   ]
  },
  {
   "cell_type": "code",
   "execution_count": 21,
   "id": "85aed847",
   "metadata": {},
   "outputs": [
    {
     "name": "stdout",
     "output_type": "stream",
     "text": [
      "Feature: 0, Score: 0.00883\n",
      "Feature: 1, Score: 0.00098\n",
      "Feature: 2, Score: 0.00136\n",
      "Feature: 3, Score: 0.00012\n",
      "Feature: 4, Score: 0.00799\n",
      "Feature: 5, Score: 0.00086\n",
      "Feature: 6, Score: 0.00414\n",
      "Feature: 7, Score: 0.00010\n",
      "Feature: 8, Score: 0.00171\n",
      "Feature: 9, Score: 0.00239\n",
      "Feature: 10, Score: 0.00032\n",
      "Feature: 11, Score: 0.00053\n",
      "Feature: 12, Score: 0.00058\n",
      "Feature: 13, Score: 0.00040\n",
      "Feature: 14, Score: 0.00018\n",
      "Feature: 15, Score: 0.00056\n",
      "Feature: 16, Score: 0.00051\n",
      "Feature: 17, Score: 0.00159\n",
      "Feature: 18, Score: 0.00010\n",
      "Feature: 19, Score: 0.00026\n",
      "Feature: 20, Score: 0.00012\n",
      "Feature: 21, Score: 0.00084\n",
      "Feature: 22, Score: 0.00127\n",
      "Feature: 23, Score: 0.00021\n",
      "Feature: 24, Score: 0.00067\n",
      "Feature: 25, Score: 0.00009\n",
      "Feature: 26, Score: 0.00113\n",
      "Feature: 27, Score: 0.00052\n",
      "Feature: 28, Score: 0.00013\n",
      "Feature: 29, Score: 0.00015\n"
     ]
    },
    {
     "data": {
      "image/png": "[encoded data removed]",
      "text/plain": [
       "<Figure size 432x288 with 1 Axes>"
      ]
     },
     "metadata": {
      "needs_background": "light"
     },
     "output_type": "display_data"
    }
   ],
   "source": [
    "# fit the model\n",
    "feature_scores=[]\n",
    "model.fit(X, Y)\n",
    "# perform permutation importance\n",
    "results = permutation_importance(model, X, Y, scoring='neg_mean_squared_error')\n",
    "# get importance\n",
    "importance = results.importances_mean\n",
    "\n",
    "# summarize feature importance\n",
    "for i,v in enumerate(importance):\n",
    "    feature_scores.append(v)\n",
    "    print('Feature: %0d, Score: %.5f' % (i,v))\n",
    "# plot feature importance\n",
    "plt.bar([x for x in range(len(importance))], importance)\n",
    "plt.show()"
   ]
  },
  {
   "cell_type": "code",
   "execution_count": 22,
   "id": "b695c5a9",
   "metadata": {},
   "outputs": [
    {
     "name": "stdout",
     "output_type": "stream",
     "text": [
      "    Feature     Score\n",
      "0      X_EA  0.008832\n",
      "4       X_G  0.007994\n",
      "6    A_Rvdw  0.004144\n",
      "9      B_Hf  0.002393\n",
      "8       B_Z  0.001713\n",
      "17    B_Rho  0.001588\n",
      "2       X_Z  0.001359\n",
      "22     B_Rc  0.001271\n",
      "26  std_X2X  0.001130\n",
      "1    X_Rvdw  0.000979\n"
     ]
    }
   ],
   "source": [
    "featureNames = X.columns\n",
    "dfscores = pd.DataFrame(feature_scores)\n",
    "dfcolumns = pd.DataFrame(featureNames)\n",
    "#concat two dataframes for better visualization \n",
    "featureImportance = pd.concat([dfcolumns,dfscores],axis=1)\n",
    "featureImportance.columns = ['Feature','Score']  #naming the dataframe columns\n",
    "print(featureImportance.nlargest(10,'Score'))  #print 10 best features"
   ]
  },
  {
   "cell_type": "code",
   "execution_count": 23,
   "id": "e558c3a2",
   "metadata": {},
   "outputs": [
    {
     "data": {
      "image/png": "[encoded data removed]",
      "text/plain": [
       "<Figure size 1600x1000 with 1 Axes>"
      ]
     },
     "metadata": {},
     "output_type": "display_data"
    }
   ],
   "source": [
    "features = featureImportance.nlargest(10,'Score')['Feature']\n",
    "features_formatted = [\"G-X\",\"EA-X\",\"$\\sigma_{AX}$\",\"r$_{vdw}$-X\",\"r$_{atomic}$-B\",\n",
    "                      \"r$_{vdw}$-A\",\"$\\overline{x}_{XX}$\",\"IE$_{I}$-A\",\"BP-A\",\"$\\sigma_{BX}$\"]\n",
    "Score = featureImportance.nlargest(10,'Score')['Score']\n",
    "# Figure Size\n",
    "plt.rcdefaults()\n",
    "fig, ax = plt.subplots(figsize =(16, 10))\n",
    "\n",
    "#y_pos = np.arange(len(features))\n",
    "importance = Score\n",
    "ax.barh(features, importance, align='center')\n",
    "\n",
    "for axis in ['top','bottom','left','right']:\n",
    "  ax.spines[axis].set_linewidth(2)\n",
    "\n",
    "# Remove x, y Ticks\n",
    "#ax.xaxis.set_ticks_position('none')\n",
    "#ax.yaxis.set_ticks_position('none')\n",
    "\n",
    "ax.tick_params(direction='out', length=10, width=2)\n",
    "\n",
    "\n",
    "# Add padding between axes and labels\n",
    "ax.xaxis.set_tick_params(pad = 5)\n",
    "ax.yaxis.set_tick_params(pad = 5)\n",
    " \n",
    "ax.set_yticklabels(features_formatted, fontsize= 20)\n",
    "plt.xticks(fontsize=30)\n",
    "#ax.set_xticklabels(Score, fontsize= 20)\n",
    "# Add x, y gridlines\n",
    "#ax.grid(b = True, color ='grey',\n",
    "#        linestyle ='-.', linewidth = 0.5,\n",
    " #       alpha = 0.2)\n",
    "\n",
    "# Show top values\n",
    "ax.invert_yaxis()\n",
    "\n",
    "\n",
    "# Add annotation to bars\n",
    "#for i in ax.patches:\n",
    " #   plt.text(i.get_width()+0.2, i.get_y()+0.5,\n",
    " #            str(round((i.get_width()), 2)),\n",
    "#             fontsize = 15, fontweight ='bold',\n",
    "#             color ='black') \n",
    " \n",
    "# Add Plot Title\n",
    "#ax.set_title('Top 10 features',loc ='center', fontsize = 30)\n",
    "#plot save\n",
    "ax.set_xlabel('Feature Importance', fontsize = 30)\n",
    "plt.savefig('imp.png', format='png',dpi=350)\n",
    "# Show Plot\n",
    "plt.show()"
   ]
  },
  {
   "cell_type": "code",
   "execution_count": null,
   "id": "6b6e37f0",
   "metadata": {},
   "outputs": [],
   "source": []
  }
 ],
 "metadata": {
  "kernelspec": {
   "display_name": "Python 3 (ipykernel)",
   "language": "python",
   "name": "python3"
  },
  "language_info": {
   "codemirror_mode": {
    "name": "ipython",
    "version": 3
   },
   "file_extension": ".py",
   "mimetype": "text/x-python",
   "name": "python",
   "nbconvert_exporter": "python",
   "pygments_lexer": "ipython3",
   "version": "3.9.7"
  }
 },
 "nbformat": 4,
 "nbformat_minor": 5
}
