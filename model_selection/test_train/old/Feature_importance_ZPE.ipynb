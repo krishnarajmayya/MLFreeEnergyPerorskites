{
 "cells": [
  {
   "cell_type": "code",
   "execution_count": 1,
   "id": "c3049287",
   "metadata": {},
   "outputs": [],
   "source": [
    "import numpy as np\n",
    "import pandas as pd\n",
    "import matplotlib.pyplot as plt\n",
    "from math import sqrt\n",
    "import seaborn as sns \n",
    "import re\n",
    " \n",
    "import warnings # supress warnings\n",
    "warnings.filterwarnings('ignore')"
   ]
  },
  {
   "cell_type": "code",
   "execution_count": 2,
   "id": "0af1dc92",
   "metadata": {},
   "outputs": [],
   "source": [
    "import sklearn\n",
    "\n",
    "from sklearn.preprocessing import MinMaxScaler, PolynomialFeatures, scale, StandardScaler\n",
    "\n",
    "from sklearn.model_selection import train_test_split, cross_val_score, KFold, GridSearchCV\n",
    "\n",
    "from sklearn.linear_model import LinearRegression, Ridge, Lasso, ElasticNet \n",
    "\n",
    "from sklearn.ensemble import RandomForestRegressor\n",
    "from sklearn.ensemble import GradientBoostingRegressor\n",
    "\n",
    "from sklearn.feature_selection import RFE, SelectKBest, f_regression\n",
    "from sklearn.inspection import permutation_importance\n",
    "\n",
    "from sklearn.gaussian_process import GaussianProcessRegressor\n",
    "from sklearn.gaussian_process.kernels import DotProduct, WhiteKernel, RBF, Matern, RationalQuadratic\n",
    "from sklearn.gaussian_process.kernels import Kernel, Hyperparameter, ConstantKernel\n",
    "from sklearn.gaussian_process.kernels import GenericKernelMixin\n",
    "\n",
    "from sklearn import metrics\n",
    "from sklearn.metrics import mean_squared_error\n",
    "from sklearn.metrics import r2_score  \n",
    "\n",
    "from sklearn.pipeline import make_pipeline\n",
    "\n",
    "from sklearn.base import clone"
   ]
  },
  {
   "cell_type": "code",
   "execution_count": 3,
   "id": "cd48d266",
   "metadata": {},
   "outputs": [],
   "source": [
    "def get_RF_feature_importance():\n",
    "    features= X\n",
    "    feature_list = list(features.columns)\n",
    "    rf = RandomForestRegressor(n_estimators= 15, random_state=1)\n",
    "    rf.fit(X , Y)\n",
    "\n",
    "    # Get numerical feature importances\n",
    "    importances = list(rf.feature_importances_)      \n",
    "    # List of tuples with variable and importance\n",
    "    feature_importances = [(feature, round(importance, 2)) for feature, \n",
    "                           importance in zip(feature_list, importances)]\n",
    "    # Sort the feature importances by most important first\n",
    "    feature_importances = sorted(feature_importances, key = lambda x: x[1], reverse = True)\n",
    "    # Print out the feature and importances \n",
    "    [print('Variable: {:20} Importance: {}'.format(*pair)) for pair in feature_importances];"
   ]
  },
  {
   "cell_type": "code",
   "execution_count": 4,
   "id": "ec168c65",
   "metadata": {},
   "outputs": [],
   "source": [
    "data = pd.read_csv('Combined_all_3rd.csv', encoding='cp1252')  "
   ]
  },
  {
   "cell_type": "code",
   "execution_count": 5,
   "id": "65f8ee82",
   "metadata": {},
   "outputs": [
    {
     "data": {
      "text/plain": [
       "array(['Name', 'Coef_a', 'Coef_b', 'Coef_c', 'Coef_d', 'A_site', 'B_site',\n",
       "       'X_site', 'Spacegroup', 'Ehull', 'BulkModulus', 'Energy', 'ZPE',\n",
       "       's_A', 's_B', 's_X', 'density', 'mean_A2B', 'mean_A2X', 'mean_B2X',\n",
       "       'mean_X2X', 'std_A2B', 'std_A2X', 'std_B2X', 'std_X2X', 'E_coh',\n",
       "       'TF', 'OF', 'A_Z', 'B_Z', 'X_Z', 'A_M', 'B_M', 'X_M', 'A_G', 'B_G',\n",
       "       'X_G', 'A_IEI', 'B_IEI', 'X_IEI', 'A_IEII', 'B_IEII', 'X_IEII',\n",
       "       'A_EA', 'B_EA', 'X_EA', 'A_ChiP', 'B_ChiP', 'X_ChiP', 'A_ChiA',\n",
       "       'X_ChiA', 'A_Rvdw', 'B_Rvdw', 'X_Rvdw', 'A_Rc', 'B_Rc', 'X_Rc',\n",
       "       'A_Ra', 'B_Ra', 'X_Ra', 'A_MP', 'B_MP', 'X_MP', 'A_BP', 'B_BP',\n",
       "       'X_BP', 'A_Rho', 'B_Rho', 'A_MV', 'B_MV', 'X_MV', 'A_Hf', 'B_Hf',\n",
       "       'X_Hf', 'A_Hv', 'B_Hv', 'X_Hv', 'A_Kappa', 'B_Kappa', 'X_Kappa',\n",
       "       'A_CvM', 'B_CvM', 'X_CvM', 'A_B', 'B_B', 'X_B', 'A_MendeleevNo',\n",
       "       'B_MendeleevNo', 'X_MendeleevNo'], dtype=object)"
      ]
     },
     "execution_count": 5,
     "metadata": {},
     "output_type": "execute_result"
    }
   ],
   "source": [
    "data.columns.values"
   ]
  },
  {
   "cell_type": "code",
   "execution_count": 6,
   "id": "7864464a",
   "metadata": {},
   "outputs": [],
   "source": [
    "data.drop(['Name', 'A_site', 'B_site', 'X_site', 'Spacegroup', 'Ehull','BulkModulus', 'Energy','s_A','s_B','s_X','Coef_a','Coef_b', 'Coef_c', 'Coef_d'], axis=1, inplace = True)"
   ]
  },
  {
   "cell_type": "code",
   "execution_count": 7,
   "id": "0cb59bb0",
   "metadata": {},
   "outputs": [],
   "source": [
    "data.fillna(0, inplace= True)"
   ]
  },
  {
   "cell_type": "code",
   "execution_count": 8,
   "id": "a616203c",
   "metadata": {},
   "outputs": [
    {
     "data": {
      "text/plain": [
       "array(['ZPE', 'density', 'mean_A2B', 'mean_A2X', 'mean_B2X', 'mean_X2X',\n",
       "       'std_A2B', 'std_A2X', 'std_B2X', 'std_X2X', 'E_coh', 'TF', 'OF',\n",
       "       'A_Z', 'B_Z', 'X_Z', 'A_M', 'B_M', 'X_M', 'A_G', 'B_G', 'X_G',\n",
       "       'A_IEI', 'B_IEI', 'X_IEI', 'A_IEII', 'B_IEII', 'X_IEII', 'A_EA',\n",
       "       'B_EA', 'X_EA', 'A_ChiP', 'B_ChiP', 'X_ChiP', 'A_ChiA', 'X_ChiA',\n",
       "       'A_Rvdw', 'B_Rvdw', 'X_Rvdw', 'A_Rc', 'B_Rc', 'X_Rc', 'A_Ra',\n",
       "       'B_Ra', 'X_Ra', 'A_MP', 'B_MP', 'X_MP', 'A_BP', 'B_BP', 'X_BP',\n",
       "       'A_Rho', 'B_Rho', 'A_MV', 'B_MV', 'X_MV', 'A_Hf', 'B_Hf', 'X_Hf',\n",
       "       'A_Hv', 'B_Hv', 'X_Hv', 'A_Kappa', 'B_Kappa', 'X_Kappa', 'A_CvM',\n",
       "       'B_CvM', 'X_CvM', 'A_B', 'B_B', 'X_B', 'A_MendeleevNo',\n",
       "       'B_MendeleevNo', 'X_MendeleevNo'], dtype=object)"
      ]
     },
     "execution_count": 8,
     "metadata": {},
     "output_type": "execute_result"
    }
   ],
   "source": [
    "d=data.copy()\n",
    "d.columns.values"
   ]
  },
  {
   "cell_type": "code",
   "execution_count": 9,
   "id": "15a65166",
   "metadata": {},
   "outputs": [],
   "source": [
    "columns = list(d.columns.values)"
   ]
  },
  {
   "cell_type": "code",
   "execution_count": 10,
   "id": "7731e256",
   "metadata": {},
   "outputs": [],
   "source": [
    "data_std=d.copy()\n",
    "scaler=MinMaxScaler()\n",
    "scaler.fit(np.array(data['ZPE']).reshape(-1, 1))\n",
    "data_zpe_std= scaler.transform(np.array(data['ZPE']).reshape(-1, 1))\n",
    "data_std[columns]= MinMaxScaler().fit_transform(d[columns])\n",
    "Y = data_std['ZPE'] \n",
    "X = data_std.drop(['ZPE'], axis=1)"
   ]
  },
  {
   "cell_type": "code",
   "execution_count": 11,
   "id": "d697e067",
   "metadata": {},
   "outputs": [],
   "source": [
    "corrmat = X.corr()\n",
    "top_corr_features = corrmat.index\n",
    "correlated_features = set()"
   ]
  },
  {
   "cell_type": "code",
   "execution_count": 12,
   "id": "0fd533a0",
   "metadata": {},
   "outputs": [
    {
     "name": "stdout",
     "output_type": "stream",
     "text": [
      "{'A_MV', 'X_Hf', 'X_BP', 'X_CvM', 'B_BP', 'X_Hv', 'X_Rc', 'X_ChiA', 'A_Ra', 'A_Hv', 'A_M', 'X_M', 'A_Hf', 'X_B', 'X_MP', 'A_BP', 'A_Rc', 'X_IEII', 'A_MendeleevNo', 'B_Hv', 'B_M', 'X_MendeleevNo', 'X_Ra'}\n"
     ]
    }
   ],
   "source": [
    "for i in range(len(X.columns)):\n",
    "    for j in range(i):\n",
    "        if abs(corrmat.iloc[i, j]) > 0.9:\n",
    "            colname = corrmat.columns[i]\n",
    "            correlated_features.add(colname)\n",
    "len(correlated_features)\n",
    "print(correlated_features)"
   ]
  },
  {
   "cell_type": "code",
   "execution_count": 13,
   "id": "a03eb5a6",
   "metadata": {},
   "outputs": [
    {
     "data": {
      "text/plain": [
       "(80, 51)"
      ]
     },
     "execution_count": 13,
     "metadata": {},
     "output_type": "execute_result"
    }
   ],
   "source": [
    "data_std.drop(labels=correlated_features, axis=1, inplace=True)\n",
    "data_std.shape"
   ]
  },
  {
   "cell_type": "code",
   "execution_count": 14,
   "id": "414ba69a",
   "metadata": {},
   "outputs": [],
   "source": [
    "# split into train and test\n",
    "df_train, df_test = train_test_split(data_std, \n",
    "                                     train_size = 0.8, \n",
    "                                     test_size = 0.2, \n",
    "                                     random_state = 50)\n",
    "df_train.reset_index(inplace = True)\n",
    "df_test.reset_index(inplace = True)\n",
    "df_train=df_train.drop('index',axis=1)\n",
    "df_test=df_test.drop('index',axis=1)\n",
    "# divide into X_train, y_train, X_test, y_test\n",
    "Y = df_train.pop('ZPE')\n",
    "X = df_train\n",
    "\n",
    "Y_test = df_test.pop('ZPE')\n",
    "X_test = df_test"
   ]
  },
  {
   "cell_type": "code",
   "execution_count": 15,
   "id": "640d60b9",
   "metadata": {},
   "outputs": [
    {
     "name": "stdout",
     "output_type": "stream",
     "text": [
      "     Feature      Score\n",
      "25      X_EA  92.731602\n",
      "32    X_Rvdw  78.252722\n",
      "14       X_Z  56.410866\n",
      "1   mean_A2B  50.922633\n",
      "4   mean_X2X  30.227587\n",
      "17       X_G  27.028217\n",
      "30    A_Rvdw  25.470189\n",
      "18     A_IEI  20.253029\n",
      "2   mean_A2X  20.187025\n",
      "41      B_Hf  16.502777\n",
      "13       B_Z  15.285802\n",
      "7    std_B2X  13.488784\n",
      "34      B_Ra  13.013335\n",
      "29    A_ChiA  12.911391\n",
      "9      E_coh  12.906501\n",
      "11        OF  12.359339\n",
      "23      A_EA  12.040753\n",
      "6    std_A2X  11.184092\n",
      "26    A_ChiP   9.894678\n",
      "36      B_MP   9.555513\n",
      "38     B_Rho   8.828042\n",
      "46     B_CvM   7.511897\n",
      "10        TF   6.732381\n",
      "42   A_Kappa   6.485563\n",
      "35      A_MP   6.292825\n",
      "40      X_MV   5.978844\n",
      "33      B_Rc   5.532563\n",
      "31    B_Rvdw   5.346255\n",
      "8    std_X2X   4.906579\n",
      "5    std_A2B   4.709590\n"
     ]
    }
   ],
   "source": [
    "#apply SelectKBest class to extract top 10 best features\n",
    "bestfeatures = SelectKBest(score_func=f_regression, k=10)\n",
    "fit = bestfeatures.fit(X,Y)\n",
    "dfscores = pd.DataFrame(fit.scores_)\n",
    "dfcolumns = pd.DataFrame(X.columns)\n",
    "#concat two dataframes for better visualization \n",
    "featureScores = pd.concat([dfcolumns,dfscores],axis=1)\n",
    "featureScores.columns = ['Feature','Score']  #naming the dataframe columns\n",
    "print(featureScores.nlargest(30,'Score'))  #print 10 best features"
   ]
  },
  {
   "cell_type": "code",
   "execution_count": 16,
   "id": "d1df7e92",
   "metadata": {},
   "outputs": [
    {
     "name": "stdout",
     "output_type": "stream",
     "text": [
      "Variable: X_Z                  Importance: 0.3\n",
      "Variable: X_EA                 Importance: 0.24\n",
      "Variable: B_Rho                Importance: 0.11\n",
      "Variable: mean_A2B             Importance: 0.06\n",
      "Variable: mean_X2X             Importance: 0.05\n",
      "Variable: B_Z                  Importance: 0.05\n",
      "Variable: density              Importance: 0.04\n",
      "Variable: E_coh                Importance: 0.04\n",
      "Variable: B_CvM                Importance: 0.03\n",
      "Variable: A_ChiA               Importance: 0.02\n",
      "Variable: mean_A2X             Importance: 0.01\n",
      "Variable: std_X2X              Importance: 0.01\n",
      "Variable: B_Kappa              Importance: 0.01\n",
      "Variable: mean_B2X             Importance: 0.0\n",
      "Variable: std_A2B              Importance: 0.0\n",
      "Variable: std_A2X              Importance: 0.0\n",
      "Variable: std_B2X              Importance: 0.0\n",
      "Variable: TF                   Importance: 0.0\n",
      "Variable: OF                   Importance: 0.0\n",
      "Variable: A_Z                  Importance: 0.0\n",
      "Variable: A_G                  Importance: 0.0\n",
      "Variable: B_G                  Importance: 0.0\n",
      "Variable: X_G                  Importance: 0.0\n",
      "Variable: A_IEI                Importance: 0.0\n",
      "Variable: B_IEI                Importance: 0.0\n",
      "Variable: X_IEI                Importance: 0.0\n",
      "Variable: A_IEII               Importance: 0.0\n",
      "Variable: B_IEII               Importance: 0.0\n",
      "Variable: A_EA                 Importance: 0.0\n",
      "Variable: B_EA                 Importance: 0.0\n",
      "Variable: A_ChiP               Importance: 0.0\n",
      "Variable: B_ChiP               Importance: 0.0\n",
      "Variable: X_ChiP               Importance: 0.0\n",
      "Variable: A_Rvdw               Importance: 0.0\n",
      "Variable: B_Rvdw               Importance: 0.0\n",
      "Variable: X_Rvdw               Importance: 0.0\n",
      "Variable: B_Rc                 Importance: 0.0\n",
      "Variable: B_Ra                 Importance: 0.0\n",
      "Variable: A_MP                 Importance: 0.0\n",
      "Variable: B_MP                 Importance: 0.0\n",
      "Variable: A_Rho                Importance: 0.0\n",
      "Variable: B_MV                 Importance: 0.0\n",
      "Variable: X_MV                 Importance: 0.0\n",
      "Variable: B_Hf                 Importance: 0.0\n",
      "Variable: A_Kappa              Importance: 0.0\n",
      "Variable: X_Kappa              Importance: 0.0\n",
      "Variable: A_CvM                Importance: 0.0\n",
      "Variable: A_B                  Importance: 0.0\n",
      "Variable: B_B                  Importance: 0.0\n",
      "Variable: B_MendeleevNo        Importance: 0.0\n"
     ]
    }
   ],
   "source": [
    "get_RF_feature_importance()"
   ]
  },
  {
   "cell_type": "code",
   "execution_count": 17,
   "id": "6f97b2d6",
   "metadata": {},
   "outputs": [
    {
     "data": {
      "text/plain": [
       "array(['X_EA', 'X_Rvdw', 'X_Z', 'mean_A2B', 'mean_X2X', 'X_G', 'A_Rvdw',\n",
       "       'A_IEI', 'mean_A2X', 'B_Hf', 'B_Z', 'std_B2X', 'B_Ra', 'A_ChiA',\n",
       "       'E_coh', 'OF', 'A_EA', 'std_A2X', 'A_ChiP', 'B_MP', 'B_Rho',\n",
       "       'B_CvM', 'TF', 'A_Kappa', 'A_MP', 'X_MV', 'B_Rc', 'B_Rvdw',\n",
       "       'std_X2X', 'std_A2B'], dtype=object)"
      ]
     },
     "execution_count": 17,
     "metadata": {},
     "output_type": "execute_result"
    }
   ],
   "source": [
    "featureScores.nlargest(30,'Score')['Feature'].values"
   ]
  },
  {
   "cell_type": "code",
   "execution_count": 18,
   "id": "3c181bb4",
   "metadata": {},
   "outputs": [],
   "source": [
    "X=X[featureScores.nlargest(30,'Score')['Feature'].values]\n",
    "X_test=X_test[featureScores.nlargest(30,'Score')['Feature'].values]"
   ]
  },
  {
   "cell_type": "code",
   "execution_count": 19,
   "id": "1bb6beee",
   "metadata": {},
   "outputs": [
    {
     "name": "stdout",
     "output_type": "stream",
     "text": [
      "GPR-5:  0.9704767060670169\n",
      "RMSE:  0.04183560136992241\n",
      "RMSE unscaled:  2.0471089724344784\n",
      "----------------------------------------\n",
      "[[33.42      ]\n",
      " [23.87      ]\n",
      " [ 5.8380683 ]\n",
      " [36.9297267 ]\n",
      " [15.7748079 ]\n",
      " [26.87242305]\n",
      " [22.6       ]\n",
      " [35.32471825]\n",
      " [50.8166236 ]\n",
      " [15.6856663 ]\n",
      " [30.8809408 ]\n",
      " [23.93696502]\n",
      " [31.41689598]\n",
      " [22.5       ]\n",
      " [ 8.68189005]\n",
      " [46.0813441 ]]\n",
      "[[33.94178916]\n",
      " [21.4748607 ]\n",
      " [ 5.61118963]\n",
      " [40.15544861]\n",
      " [14.52252499]\n",
      " [26.14000522]\n",
      " [21.68154639]\n",
      " [38.24063492]\n",
      " [48.87343863]\n",
      " [17.86249073]\n",
      " [30.39186499]\n",
      " [23.43075237]\n",
      " [33.38406166]\n",
      " [20.72842383]\n",
      " [10.98757099]\n",
      " [41.86238349]]\n"
     ]
    },
    {
     "data": {
      "image/png": "[encoded data removed]",
      "text/plain": [
       "<Figure size 432x288 with 1 Axes>"
      ]
     },
     "metadata": {
      "needs_background": "light"
     },
     "output_type": "display_data"
    }
   ],
   "source": [
    "#model = GaussianProcessRegressor(kernel=1.0 * RBF(length_scale=100.0, length_scale_bounds=(1e-2, 1e3))+ \n",
    "#                                WhiteKernel(noise_level=1, noise_level_bounds=(1e-10, 1e+1)),alpha=0.0)\n",
    "model = GaussianProcessRegressor(kernel=1.0 * RationalQuadratic(length_scale=1.0, alpha=0.01))\n",
    "model.fit(X,Y)\n",
    "predicted = model.predict(X_test)\n",
    "r2=sklearn.metrics.r2_score(Y_test, predicted)\n",
    "Y_unscaled = scaler.inverse_transform(np.array(Y_test).reshape(-1,1))\n",
    "predicted_unscaled = scaler.inverse_transform(np.array(predicted).reshape(-1,1))\n",
    "err=np.sqrt(mean_squared_error(Y_test,predicted))\n",
    "err_unscaled=np.sqrt(mean_squared_error(Y_unscaled,predicted_unscaled))\n",
    "print(\"GPR-5: \",r2)\n",
    "print(\"RMSE: \",err)\n",
    "print(\"RMSE unscaled: \",err_unscaled)\n",
    "print(\"----------------------------------------\")\n",
    "fig, ax = plt.subplots()\n",
    "ax.scatter(Y_unscaled, predicted_unscaled)\n",
    "print(Y_unscaled)\n",
    "print(predicted_unscaled)\n",
    "ax.plot([Y_unscaled.min(), predicted_unscaled.max()], [Y_unscaled.min(), predicted_unscaled.max()], 'r--', lw=1)\n",
    "#for i in range(len(Y_test)):\n",
    "#    plt.annotate(text[i], (Y_test[i], predicted[i]))\n",
    "ax.set_xlabel(\"Calculated, ZPE (kJ/mol)\",fontsize= 20)\n",
    "ax.set_ylabel(\"Predicted, ZPE (kJ/mol)\",fontsize= 20)\n",
    "plt.xticks(fontsize=20)\n",
    "plt.yticks(fontsize=20)\n",
    "ax.tick_params(direction='in', length=10, width=2)\n",
    "for axis in ['top','bottom','left','right']:\n",
    "    ax.spines[axis].set_linewidth(2)\n",
    "#plt.savefig('kl_train.eps', format='eps', bbox_inches='tight',pad_inches = 0)\n",
    "plt.show()"
   ]
  },
  {
   "cell_type": "code",
   "execution_count": 20,
   "id": "c93c4a99",
   "metadata": {},
   "outputs": [
    {
     "name": "stdout",
     "output_type": "stream",
     "text": [
      "GPR-2:  0.9999999999999997\n",
      "RMSE:  4.413649899931643e-09\n",
      "RMSE unscaled:  2.1596970072460753e-07\n",
      "----------------------------------------\n",
      "[[22.06      ]\n",
      " [34.99597655]\n",
      " [19.3823906 ]\n",
      " [24.44      ]\n",
      " [32.68424487]\n",
      " [28.54429217]\n",
      " [18.49596025]\n",
      " [12.58451505]\n",
      " [29.14399078]\n",
      " [27.07      ]\n",
      " [34.39904833]\n",
      " [26.39191275]\n",
      " [25.95160828]\n",
      " [ 5.24777708]\n",
      " [28.3858273 ]\n",
      " [ 8.8       ]\n",
      " [26.5228052 ]\n",
      " [ 9.0333859 ]\n",
      " [20.1085789 ]\n",
      " [29.29279902]\n",
      " [41.2670353 ]\n",
      " [17.4065927 ]\n",
      " [28.61822302]\n",
      " [20.6696547 ]\n",
      " [19.73080107]\n",
      " [17.3132009 ]\n",
      " [13.97      ]\n",
      " [ 7.1844583 ]\n",
      " [27.56722682]\n",
      " [40.5487446 ]\n",
      " [47.721477  ]\n",
      " [45.37909632]\n",
      " [ 9.97486128]\n",
      " [18.60086272]\n",
      " [28.92860965]\n",
      " [34.6857921 ]\n",
      " [23.5574754 ]\n",
      " [ 5.62231637]\n",
      " [ 6.63804332]\n",
      " [54.18      ]\n",
      " [25.9260651 ]\n",
      " [40.7533565 ]\n",
      " [ 8.17305587]\n",
      " [30.4940185 ]\n",
      " [31.79467752]\n",
      " [36.18213492]\n",
      " [14.0750994 ]\n",
      " [50.56      ]\n",
      " [26.5950365 ]\n",
      " [28.0701563 ]\n",
      " [ 8.5345507 ]\n",
      " [45.79      ]\n",
      " [10.37263913]\n",
      " [21.9558147 ]\n",
      " [29.0647247 ]\n",
      " [20.3287001 ]\n",
      " [27.56391397]\n",
      " [ 8.93198143]\n",
      " [26.1       ]\n",
      " [29.1606002 ]\n",
      " [25.75      ]\n",
      " [31.4388998 ]\n",
      " [ 6.83728895]\n",
      " [31.59610152]]\n",
      "[[22.06000005]\n",
      " [34.99597653]\n",
      " [19.38239072]\n",
      " [24.44000015]\n",
      " [32.68424488]\n",
      " [28.54429228]\n",
      " [18.49596022]\n",
      " [12.58451506]\n",
      " [29.14399061]\n",
      " [27.07000036]\n",
      " [34.39904808]\n",
      " [26.3919128 ]\n",
      " [25.95160836]\n",
      " [ 5.24777709]\n",
      " [28.38582719]\n",
      " [ 8.80000015]\n",
      " [26.52280483]\n",
      " [ 9.03338592]\n",
      " [20.10857953]\n",
      " [29.29279895]\n",
      " [41.26703525]\n",
      " [17.40659302]\n",
      " [28.61822295]\n",
      " [20.66965452]\n",
      " [19.73080095]\n",
      " [17.31320114]\n",
      " [13.96999983]\n",
      " [ 7.18445837]\n",
      " [27.56722683]\n",
      " [40.54874475]\n",
      " [47.72147698]\n",
      " [45.37909624]\n",
      " [ 9.97486115]\n",
      " [18.60086296]\n",
      " [28.92860965]\n",
      " [34.68579217]\n",
      " [23.55747457]\n",
      " [ 5.62231638]\n",
      " [ 6.63804333]\n",
      " [54.17999994]\n",
      " [25.92606506]\n",
      " [40.75335636]\n",
      " [ 8.17305584]\n",
      " [30.4940185 ]\n",
      " [31.7946774 ]\n",
      " [36.18213492]\n",
      " [14.07509918]\n",
      " [50.56      ]\n",
      " [26.59503707]\n",
      " [28.07015668]\n",
      " [ 8.53455072]\n",
      " [45.79000002]\n",
      " [10.37263922]\n",
      " [21.95581467]\n",
      " [29.06472477]\n",
      " [20.32870017]\n",
      " [27.5639138 ]\n",
      " [ 8.93198157]\n",
      " [26.09999998]\n",
      " [29.16059953]\n",
      " [25.75000008]\n",
      " [31.43889985]\n",
      " [ 6.83728883]\n",
      " [31.59610148]]\n"
     ]
    },
    {
     "data": {
      "image/png": "[encoded data removed]",
      "text/plain": [
       "<Figure size 432x288 with 1 Axes>"
      ]
     },
     "metadata": {
      "needs_background": "light"
     },
     "output_type": "display_data"
    }
   ],
   "source": [
    "predicted = model.predict(X)\n",
    "r2=sklearn.metrics.r2_score(Y, predicted)\n",
    "Y_unscaled = scaler.inverse_transform(np.array(Y).reshape(-1,1))\n",
    "predicted_unscaled = scaler.inverse_transform(np.array(predicted).reshape(-1,1))\n",
    "err=np.sqrt(mean_squared_error(Y,predicted))\n",
    "err_unscaled=np.sqrt(mean_squared_error(Y_unscaled,predicted_unscaled))\n",
    "print(\"GPR-2: \",r2)\n",
    "print(\"RMSE: \",err)\n",
    "print(\"RMSE unscaled: \",err_unscaled)\n",
    "print(\"----------------------------------------\")\n",
    "fig, ax = plt.subplots()\n",
    "ax.scatter(Y_unscaled, predicted_unscaled)\n",
    "print(Y_unscaled)\n",
    "print(predicted_unscaled)\n",
    "ax.plot([Y_unscaled.min(), predicted_unscaled.max()], [Y_unscaled.min(), predicted_unscaled.max()], 'r--', lw=1)\n",
    "#for i in range(len(Y_test)):\n",
    "#    plt.annotate(text[i], (Y_test[i], predicted[i]))\n",
    "ax.set_xlabel(\"Calculated, ZPE (kJ/mol)\",fontsize= 20)\n",
    "ax.set_ylabel(\"Predicted, ZPE (kJ/mol)\",fontsize= 20)\n",
    "plt.xticks(fontsize=20)\n",
    "plt.yticks(fontsize=20)\n",
    "ax.tick_params(direction='in', length=10, width=2)\n",
    "for axis in ['top','bottom','left','right']:\n",
    "    ax.spines[axis].set_linewidth(2)\n",
    "#plt.savefig('kl_train.eps', format='eps', bbox_inches='tight',pad_inches = 0)\n",
    "plt.show()"
   ]
  },
  {
   "cell_type": "code",
   "execution_count": 21,
   "id": "85aed847",
   "metadata": {},
   "outputs": [
    {
     "name": "stdout",
     "output_type": "stream",
     "text": [
      "Feature: 0, Score: 0.01204\n",
      "Feature: 1, Score: 0.00069\n",
      "Feature: 2, Score: 0.00347\n",
      "Feature: 3, Score: 0.00037\n",
      "Feature: 4, Score: 0.00272\n",
      "Feature: 5, Score: 0.00585\n",
      "Feature: 6, Score: 0.00722\n",
      "Feature: 7, Score: 0.00020\n",
      "Feature: 8, Score: 0.00067\n",
      "Feature: 9, Score: 0.00126\n",
      "Feature: 10, Score: 0.00415\n",
      "Feature: 11, Score: 0.00031\n",
      "Feature: 12, Score: 0.00012\n",
      "Feature: 13, Score: 0.00044\n",
      "Feature: 14, Score: 0.00011\n",
      "Feature: 15, Score: 0.00070\n",
      "Feature: 16, Score: 0.00053\n",
      "Feature: 17, Score: 0.00037\n",
      "Feature: 18, Score: 0.00066\n",
      "Feature: 19, Score: 0.00102\n",
      "Feature: 20, Score: 0.00072\n",
      "Feature: 21, Score: 0.00012\n",
      "Feature: 22, Score: 0.00074\n",
      "Feature: 23, Score: 0.00028\n",
      "Feature: 24, Score: 0.00019\n",
      "Feature: 25, Score: 0.00021\n",
      "Feature: 26, Score: 0.00054\n",
      "Feature: 27, Score: 0.00031\n",
      "Feature: 28, Score: 0.00180\n",
      "Feature: 29, Score: 0.00019\n"
     ]
    },
    {
     "data": {
      "image/png": "[encoded data removed]",
      "text/plain": [
       "<Figure size 432x288 with 1 Axes>"
      ]
     },
     "metadata": {
      "needs_background": "light"
     },
     "output_type": "display_data"
    }
   ],
   "source": [
    "# fit the model\n",
    "feature_scores=[]\n",
    "model.fit(X, Y)\n",
    "# perform permutation importance\n",
    "results = permutation_importance(model, X, Y, scoring='neg_mean_squared_error')\n",
    "# get importance\n",
    "importance = results.importances_mean\n",
    "\n",
    "# summarize feature importance\n",
    "for i,v in enumerate(importance):\n",
    "    feature_scores.append(v)\n",
    "    print('Feature: %0d, Score: %.5f' % (i,v))\n",
    "# plot feature importance\n",
    "plt.bar([x for x in range(len(importance))], importance)\n",
    "plt.show()"
   ]
  },
  {
   "cell_type": "code",
   "execution_count": 22,
   "id": "b695c5a9",
   "metadata": {},
   "outputs": [
    {
     "name": "stdout",
     "output_type": "stream",
     "text": [
      "     Feature     Score\n",
      "0       X_EA  0.012042\n",
      "6     A_Rvdw  0.007217\n",
      "5        X_G  0.005846\n",
      "10       B_Z  0.004151\n",
      "2        X_Z  0.003473\n",
      "4   mean_X2X  0.002720\n",
      "28   std_X2X  0.001796\n",
      "9       B_Hf  0.001255\n",
      "19      B_MP  0.001015\n",
      "22        TF  0.000736\n"
     ]
    }
   ],
   "source": [
    "featureNames = X.columns\n",
    "dfscores = pd.DataFrame(feature_scores)\n",
    "dfcolumns = pd.DataFrame(featureNames)\n",
    "#concat two dataframes for better visualization \n",
    "featureImportance = pd.concat([dfcolumns,dfscores],axis=1)\n",
    "featureImportance.columns = ['Feature','Score']  #naming the dataframe columns\n",
    "print(featureImportance.nlargest(10,'Score'))  #print 10 best features"
   ]
  },
  {
   "cell_type": "code",
   "execution_count": 23,
   "id": "e558c3a2",
   "metadata": {},
   "outputs": [
    {
     "data": {
      "image/png": "[encoded data removed]",
      "text/plain": [
       "<Figure size 1600x1000 with 1 Axes>"
      ]
     },
     "metadata": {},
     "output_type": "display_data"
    }
   ],
   "source": [
    "features = featureImportance.nlargest(10,'Score')['Feature']\n",
    "features_formatted = [\"G-X\",\"EA-X\",\"$\\sigma_{AX}$\",\"r$_{vdw}$-X\",\"r$_{atomic}$-B\",\n",
    "                      \"r$_{vdw}$-A\",\"$\\overline{x}_{XX}$\",\"IE$_{I}$-A\",\"BP-A\",\"$\\sigma_{BX}$\"]\n",
    "Score = featureImportance.nlargest(10,'Score')['Score']\n",
    "# Figure Size\n",
    "plt.rcdefaults()\n",
    "fig, ax = plt.subplots(figsize =(16, 10))\n",
    "\n",
    "#y_pos = np.arange(len(features))\n",
    "importance = Score\n",
    "ax.barh(features, importance, align='center')\n",
    "\n",
    "for axis in ['top','bottom','left','right']:\n",
    "  ax.spines[axis].set_linewidth(2)\n",
    "\n",
    "# Remove x, y Ticks\n",
    "#ax.xaxis.set_ticks_position('none')\n",
    "#ax.yaxis.set_ticks_position('none')\n",
    "\n",
    "ax.tick_params(direction='out', length=10, width=2)\n",
    "\n",
    "\n",
    "# Add padding between axes and labels\n",
    "ax.xaxis.set_tick_params(pad = 5)\n",
    "ax.yaxis.set_tick_params(pad = 5)\n",
    " \n",
    "ax.set_yticklabels(features_formatted, fontsize= 20)\n",
    "plt.xticks(fontsize=30)\n",
    "#ax.set_xticklabels(Score, fontsize= 20)\n",
    "# Add x, y gridlines\n",
    "#ax.grid(b = True, color ='grey',\n",
    "#        linestyle ='-.', linewidth = 0.5,\n",
    " #       alpha = 0.2)\n",
    "\n",
    "# Show top values\n",
    "ax.invert_yaxis()\n",
    "\n",
    "\n",
    "# Add annotation to bars\n",
    "#for i in ax.patches:\n",
    " #   plt.text(i.get_width()+0.2, i.get_y()+0.5,\n",
    " #            str(round((i.get_width()), 2)),\n",
    "#             fontsize = 15, fontweight ='bold',\n",
    "#             color ='black') \n",
    " \n",
    "# Add Plot Title\n",
    "#ax.set_title('Top 10 features',loc ='center', fontsize = 30)\n",
    "#plot save\n",
    "ax.set_xlabel('Feature Importance', fontsize = 30)\n",
    "plt.savefig('imp.png', format='png',dpi=350)\n",
    "# Show Plot\n",
    "plt.show()"
   ]
  },
  {
   "cell_type": "code",
   "execution_count": null,
   "id": "6b6e37f0",
   "metadata": {},
   "outputs": [],
   "source": []
  }
 ],
 "metadata": {
  "kernelspec": {
   "display_name": "Python 3 (ipykernel)",
   "language": "python",
   "name": "python3"
  },
  "language_info": {
   "codemirror_mode": {
    "name": "ipython",
    "version": 3
   },
   "file_extension": ".py",
   "mimetype": "text/x-python",
   "name": "python",
   "nbconvert_exporter": "python",
   "pygments_lexer": "ipython3",
   "version": "3.9.12"
  }
 },
 "nbformat": 4,
 "nbformat_minor": 5
}
