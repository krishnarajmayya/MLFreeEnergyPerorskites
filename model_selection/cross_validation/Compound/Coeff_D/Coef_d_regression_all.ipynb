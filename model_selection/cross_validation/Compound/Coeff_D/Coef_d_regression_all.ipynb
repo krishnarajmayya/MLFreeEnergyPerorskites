{
 "cells": [
  {
   "cell_type": "code",
   "execution_count": 1,
   "metadata": {
    "id": "U1Or_5CpWR5m"
   },
   "outputs": [],
   "source": [
    "import numpy as np\n",
    "import pandas as pd\n",
    "import matplotlib.pyplot as plt\n",
    "from math import sqrt\n",
    "import seaborn as sns \n",
    "import re\n",
    " \n",
    "import warnings # supress warnings\n",
    "warnings.filterwarnings('ignore')"
   ]
  },
  {
   "cell_type": "code",
   "execution_count": 2,
   "metadata": {
    "id": "wd0p9t1imwDC"
   },
   "outputs": [],
   "source": [
    "import sklearn\n",
    "\n",
    "from sklearn.preprocessing import MinMaxScaler, PolynomialFeatures, scale, StandardScaler\n",
    "\n",
    "from sklearn.model_selection import train_test_split, cross_val_score, KFold, GridSearchCV\n",
    "\n",
    "from sklearn.linear_model import LinearRegression, Ridge, Lasso, ElasticNet \n",
    "\n",
    "from sklearn.ensemble import RandomForestRegressor\n",
    "from sklearn.ensemble import GradientBoostingRegressor\n",
    "\n",
    "from sklearn.feature_selection import RFE, SelectKBest, f_regression\n",
    "from sklearn.inspection import permutation_importance\n",
    "\n",
    "from sklearn.gaussian_process import GaussianProcessRegressor\n",
    "from sklearn.gaussian_process.kernels import DotProduct, WhiteKernel, RBF, Matern, RationalQuadratic\n",
    "from sklearn.gaussian_process.kernels import Kernel, Hyperparameter, ConstantKernel\n",
    "from sklearn.gaussian_process.kernels import GenericKernelMixin\n",
    "\n",
    "from sklearn import metrics\n",
    "from sklearn.metrics import mean_squared_error\n",
    "from sklearn.metrics import r2_score  \n",
    "\n",
    "from sklearn.pipeline import make_pipeline\n",
    "\n",
    "from sklearn.base import clone"
   ]
  },
  {
   "cell_type": "code",
   "execution_count": 3,
   "metadata": {},
   "outputs": [],
   "source": [
    "def run_models():\n",
    "    rf = RandomForestRegressor(n_estimators= 100, random_state= 10)\n",
    "    gb = GradientBoostingRegressor(loss='quantile', alpha=0.5,\n",
    "                                n_estimators=100, max_depth=10,\n",
    "                                learning_rate=0.25, min_samples_leaf=9,\n",
    "                                min_samples_split=2)\n",
    "    lr = LinearRegression()\n",
    "    rr = Ridge(alpha=0.01)\n",
    "    lasso = Lasso(alpha=0.01)\n",
    "    gpr1 = GaussianProcessRegressor(kernel=DotProduct() + WhiteKernel(),random_state=0)\n",
    "    gpr2 = GaussianProcessRegressor(kernel=1.0 * RBF(length_scale=100.0, length_scale_bounds=(1e-2, 1e3))+ \n",
    "                                WhiteKernel(noise_level=1, noise_level_bounds=(1e-10, 1e+1)),alpha=0.0)\n",
    "    gpr3 = GaussianProcessRegressor(kernel=ConstantKernel(1.0, (1e-2, 1e3)) * RBF(10, (1e-3, 1e4)),\n",
    "                                n_restarts_optimizer=9)\n",
    "    gpr4 = GaussianProcessRegressor(kernel=1.0 * RBF(length_scale=1.0, length_scale_bounds=(1e-1, 10.0)))\n",
    "    gpr5 = GaussianProcessRegressor(kernel=1.0 * RationalQuadratic(length_scale=1.0, alpha=0.01))\n",
    "    gpr6 = GaussianProcessRegressor(kernel=1.0 * Matern(length_scale=1.0, length_scale_bounds=(1e-2, 10.0),nu=0.35))\n",
    "    models = [rf,gb,lr,rr,lasso,gpr1,gpr2,gpr3,gpr4,gpr5,gpr6]\n",
    "    models_names = [\"RF\",\"GB\",\"LR\",\"RR\",\"LASSO\",\"gpr1\",\"gpr2\",\"gpr3\",\"gpr4\",\"gpr5\",\"gpr6\"]\n",
    "    r2scores=[]\n",
    "    rmse=[]\n",
    "    count=0\n",
    "    for model in models :\n",
    "        predicted_y = []\n",
    "        expected_y = []\n",
    "        kf = KFold(n_splits= 10) \n",
    "        # partition data\n",
    "        for train_index, test_index in kf.split(X, Y):\n",
    "            # specific \".loc\" syntax for working with dataframes\n",
    "            x_train, x_test = X.loc[train_index], X.loc[test_index]\n",
    "            y_train, y_test = Y[train_index], Y[test_index]\n",
    "\n",
    "            # create and fit classifier\n",
    "            model.fit(x_train, y_train)\n",
    "\n",
    "            # store result from classification\n",
    "            predicted_y.extend(model.predict(x_test))\n",
    "\n",
    "            # store expected result for this specific fold\n",
    "            expected_y.extend(y_test)\n",
    "        \n",
    "        r2 = metrics.r2_score(expected_y, predicted_y)\n",
    "        r2scores.append(r2)\n",
    "        \n",
    "        err=np.sqrt(metrics.mean_squared_error(expected_y, predicted_y))\n",
    "        rmse.append(err)\n",
    "        \n",
    "        print(models_names[count])\n",
    "        print(\"R2: \",r2.__str__())\n",
    "        print(\"RMSE: \",err)\n",
    "        print(\"---------------------------------------\")\n",
    "        count+=1\n",
    "    \n",
    "    plt.rcdefaults()\n",
    "    fig, ax = plt.subplots()\n",
    "\n",
    "    x_pos = np.arange(len(models_names))\n",
    "    ax.bar(x_pos, r2scores, align='center')\n",
    "    ax.set_xticks(x_pos)\n",
    "    ax.set_xticklabels(models_names)\n",
    "    ax.set_ylabel('R2 Score')\n",
    "    #plt.savefig('imp.eps', format='eps')\n",
    "    #plt.show()\n",
    "    print(r2scores)"
   ]
  },
  {
   "cell_type": "markdown",
   "metadata": {},
   "source": [
    "# Standard Scaling"
   ]
  },
  {
   "cell_type": "code",
   "execution_count": 4,
   "metadata": {
    "id": "hjdsOVHoYDJB"
   },
   "outputs": [],
   "source": [
    "data_std = pd.read_csv('scaled_standard_Coeff_D.csv', encoding='cp1252')   "
   ]
  },
  {
   "cell_type": "code",
   "execution_count": 5,
   "metadata": {},
   "outputs": [
    {
     "data": {
      "text/plain": [
       "array(['Name', 'density', 'mean_A2B', 'mean_A2X', 'mean_B2X', 'mean_X2X',\n",
       "       'std_A2B', 'std_A2X', 'std_B2X', 'std_X2X', 'E_coh', 'TF', 'OF',\n",
       "       'A_Z', 'B_Z', 'X_Z', 'A_G', 'B_G', 'X_G', 'A_IEI', 'B_IEI',\n",
       "       'X_IEI', 'A_IEII', 'B_IEII', 'X_IEII', 'A_EA', 'B_EA', 'X_EA',\n",
       "       'A_ChiP', 'B_ChiP', 'X_ChiP', 'A_ChiA', 'B_ChiA', 'A_Rvdw',\n",
       "       'B_Rvdw', 'X_Rvdw', 'B_Rc', 'B_Ra', 'A_MP', 'B_MP', 'A_Rho',\n",
       "       'B_Rho', 'X_Rho', 'B_MV', 'X_MV', 'B_Hf', 'A_Kappa', 'B_Kappa',\n",
       "       'X_Kappa', 'A_CvM', 'B_CvM', 'A_B', 'B_B', 'B_MendeleevNo',\n",
       "       'Coeff_D'], dtype=object)"
      ]
     },
     "execution_count": 5,
     "metadata": {},
     "output_type": "execute_result"
    }
   ],
   "source": [
    "data_std.columns.values"
   ]
  },
  {
   "cell_type": "code",
   "execution_count": 6,
   "metadata": {},
   "outputs": [],
   "source": [
    "data_std.drop(['A_Z', 'B_Z', 'X_Z', 'A_G', 'B_G', 'X_G', 'A_IEI', 'B_IEI',\n",
    "       'X_IEI', 'A_IEII', 'B_IEII', 'X_IEII', 'A_EA', 'B_EA', 'X_EA',\n",
    "       'A_ChiP', 'B_ChiP', 'X_ChiP', 'A_ChiA', 'B_ChiA', 'A_Rvdw',\n",
    "       'B_Rvdw', 'X_Rvdw', 'B_Rc', 'B_Ra', 'A_MP', 'B_MP', 'A_Rho',\n",
    "       'B_Rho', 'X_Rho', 'B_MV', 'X_MV', 'B_Hf', 'A_Kappa', 'B_Kappa',\n",
    "       'X_Kappa', 'A_CvM', 'B_CvM', 'A_B', 'B_B', 'B_MendeleevNo'\n",
    "          ], axis=1, inplace = True)"
   ]
  },
  {
   "cell_type": "code",
   "execution_count": 7,
   "metadata": {},
   "outputs": [],
   "source": [
    "data_std.fillna(0, inplace= True)"
   ]
  },
  {
   "cell_type": "code",
   "execution_count": 8,
   "metadata": {},
   "outputs": [],
   "source": [
    "Y = data_std['Coeff_D'] \n",
    "X = data_std.drop(['Coeff_D','Name'], axis=1)"
   ]
  },
  {
   "cell_type": "markdown",
   "metadata": {
    "id": "ZaJDp0jdzwnZ"
   },
   "source": [
    "### Using CV technique"
   ]
  },
  {
   "cell_type": "code",
   "execution_count": 9,
   "metadata": {},
   "outputs": [
    {
     "name": "stdout",
     "output_type": "stream",
     "text": [
      "RF\n",
      "R2:  0.7743138762076085\n",
      "RMSE:  0.47506433647706237\n",
      "---------------------------------------\n",
      "GB\n",
      "R2:  0.6189731010045356\n",
      "RMSE:  0.617273763410907\n",
      "---------------------------------------\n",
      "LR\n",
      "R2:  0.5328297734849293\n",
      "RMSE:  0.683498519760702\n",
      "---------------------------------------\n",
      "RR\n",
      "R2:  0.5331377410776712\n",
      "RMSE:  0.6832731949391317\n",
      "---------------------------------------\n",
      "LASSO\n",
      "R2:  0.5543475125228123\n",
      "RMSE:  0.6675720841056699\n",
      "---------------------------------------\n",
      "gpr1\n",
      "R2:  0.5550675895359474\n",
      "RMSE:  0.6670325407834709\n",
      "---------------------------------------\n",
      "gpr2\n",
      "R2:  0.5413415412530279\n",
      "RMSE:  0.6772432788496111\n",
      "---------------------------------------\n",
      "gpr3\n",
      "R2:  0.27941543410529424\n",
      "RMSE:  0.8488725262927914\n",
      "---------------------------------------\n",
      "gpr4\n",
      "R2:  0.3198662374801404\n",
      "RMSE:  0.8247022265762713\n",
      "---------------------------------------\n",
      "gpr5\n",
      "R2:  0.2428796880972015\n",
      "RMSE:  0.8701266068238567\n",
      "---------------------------------------\n",
      "gpr6\n",
      "R2:  0.7320902348695898\n",
      "RMSE:  0.5176000049559604\n",
      "---------------------------------------\n",
      "[0.7743138762076085, 0.6189731010045356, 0.5328297734849293, 0.5331377410776712, 0.5543475125228123, 0.5550675895359474, 0.5413415412530279, 0.27941543410529424, 0.3198662374801404, 0.2428796880972015, 0.7320902348695898]\n"
     ]
    },
    {
     "data": {
      "image/png": "[encoded data removed]",
      "text/plain": [
       "<Figure size 640x480 with 1 Axes>"
      ]
     },
     "metadata": {},
     "output_type": "display_data"
    }
   ],
   "source": [
    "run_models()"
   ]
  },
  {
   "cell_type": "markdown",
   "metadata": {
    "id": "_x7bQR-jz4WE"
   },
   "source": [
    "## Feature selection\n"
   ]
  },
  {
   "cell_type": "code",
   "execution_count": 10,
   "metadata": {
    "colab": {
     "base_uri": "https://localhost:8080/"
    },
    "id": "RpTITR9vz7Th",
    "outputId": "b1c134f4-85a3-49a7-fa3a-34f5d4896d01"
   },
   "outputs": [
    {
     "name": "stdout",
     "output_type": "stream",
     "text": [
      "     Feature      Score\n",
      "1   mean_A2B  47.599974\n",
      "4   mean_X2X  33.749541\n",
      "2   mean_A2X  21.966084\n",
      "11        OF  19.573438\n",
      "7    std_B2X  16.294713\n",
      "6    std_A2X  12.148069\n",
      "9      E_coh  11.712526\n",
      "10        TF   7.108773\n",
      "5    std_A2B   7.056710\n",
      "8    std_X2X   5.471454\n",
      "0    density   1.218888\n",
      "3   mean_B2X   0.044770\n"
     ]
    }
   ],
   "source": [
    "#apply SelectKBest class to extract top 10 best features\n",
    "bestfeatures = SelectKBest(score_func=f_regression, k=10)\n",
    "fit = bestfeatures.fit(X,Y)\n",
    "dfscores = pd.DataFrame(fit.scores_)\n",
    "dfcolumns = pd.DataFrame(X.columns)\n",
    "#concat two dataframes for better visualization \n",
    "featureScores = pd.concat([dfcolumns,dfscores],axis=1)\n",
    "featureScores.columns = ['Feature','Score']  #naming the dataframe columns\n",
    "print(featureScores.nlargest(30,'Score'))  #print 10 best features"
   ]
  },
  {
   "cell_type": "code",
   "execution_count": 11,
   "metadata": {},
   "outputs": [
    {
     "data": {
      "text/plain": [
       "array(['mean_A2B', 'mean_X2X', 'mean_A2X', 'OF', 'std_B2X', 'std_A2X',\n",
       "       'E_coh', 'TF', 'std_A2B', 'std_X2X', 'density', 'mean_B2X'],\n",
       "      dtype=object)"
      ]
     },
     "execution_count": 11,
     "metadata": {},
     "output_type": "execute_result"
    }
   ],
   "source": [
    "featureScores.nlargest(40,'Score')['Feature'].values"
   ]
  },
  {
   "cell_type": "code",
   "execution_count": 12,
   "metadata": {},
   "outputs": [],
   "source": [
    "X=X[featureScores.nlargest(40,'Score')['Feature'].values]"
   ]
  },
  {
   "cell_type": "code",
   "execution_count": 13,
   "metadata": {},
   "outputs": [
    {
     "name": "stdout",
     "output_type": "stream",
     "text": [
      "RF\n",
      "R2:  0.7773763478662994\n",
      "RMSE:  0.4718301093971226\n",
      "---------------------------------------\n",
      "GB\n",
      "R2:  0.6342542420316815\n",
      "RMSE:  0.6047691774291399\n",
      "---------------------------------------\n",
      "LR\n",
      "R2:  0.5328297734849292\n",
      "RMSE:  0.6834985197607021\n",
      "---------------------------------------\n",
      "RR\n",
      "R2:  0.5331377410776714\n",
      "RMSE:  0.6832731949391316\n",
      "---------------------------------------\n",
      "LASSO\n",
      "R2:  0.5543761121647648\n",
      "RMSE:  0.6675506631224594\n",
      "---------------------------------------\n",
      "gpr1\n",
      "R2:  0.555067589539809\n",
      "RMSE:  0.6670325407805763\n",
      "---------------------------------------\n",
      "gpr2\n",
      "R2:  0.5413415412530291\n",
      "RMSE:  0.6772432788496102\n",
      "---------------------------------------\n",
      "gpr3\n",
      "R2:  0.2128124917001022\n",
      "RMSE:  0.8872358808681589\n",
      "---------------------------------------\n",
      "gpr4\n",
      "R2:  0.31986623748014387\n",
      "RMSE:  0.8247022265762692\n",
      "---------------------------------------\n",
      "gpr5\n",
      "R2:  0.24287968809671479\n",
      "RMSE:  0.8701266068241363\n",
      "---------------------------------------\n",
      "gpr6\n",
      "R2:  0.7320902348695881\n",
      "RMSE:  0.517600004955962\n",
      "---------------------------------------\n",
      "[0.7773763478662994, 0.6342542420316815, 0.5328297734849292, 0.5331377410776714, 0.5543761121647648, 0.555067589539809, 0.5413415412530291, 0.2128124917001022, 0.31986623748014387, 0.24287968809671479, 0.7320902348695881]\n"
     ]
    },
    {
     "data": {
      "image/png": "[encoded data removed]",
      "text/plain": [
       "<Figure size 640x480 with 1 Axes>"
      ]
     },
     "metadata": {},
     "output_type": "display_data"
    }
   ],
   "source": [
    "run_models()"
   ]
  },
  {
   "cell_type": "code",
   "execution_count": 14,
   "metadata": {},
   "outputs": [
    {
     "data": {
      "text/plain": [
       "array(['mean_A2B', 'mean_X2X', 'mean_A2X', 'OF', 'std_B2X', 'std_A2X',\n",
       "       'E_coh', 'TF', 'std_A2B', 'std_X2X', 'density', 'mean_B2X'],\n",
       "      dtype=object)"
      ]
     },
     "execution_count": 14,
     "metadata": {},
     "output_type": "execute_result"
    }
   ],
   "source": [
    "featureScores.nlargest(30,'Score')['Feature'].values"
   ]
  },
  {
   "cell_type": "code",
   "execution_count": 15,
   "metadata": {},
   "outputs": [],
   "source": [
    "X=X[featureScores.nlargest(30,'Score')['Feature'].values]"
   ]
  },
  {
   "cell_type": "code",
   "execution_count": 16,
   "metadata": {},
   "outputs": [
    {
     "name": "stdout",
     "output_type": "stream",
     "text": [
      "RF\n",
      "R2:  0.7773763478662994\n",
      "RMSE:  0.4718301093971226\n",
      "---------------------------------------\n",
      "GB\n",
      "R2:  0.6114018932072616\n",
      "RMSE:  0.6233763765116052\n",
      "---------------------------------------\n",
      "LR\n",
      "R2:  0.5328297734849292\n",
      "RMSE:  0.6834985197607021\n",
      "---------------------------------------\n",
      "RR\n",
      "R2:  0.5331377410776714\n",
      "RMSE:  0.6832731949391316\n",
      "---------------------------------------\n",
      "LASSO\n",
      "R2:  0.5543761121647648\n",
      "RMSE:  0.6675506631224594\n",
      "---------------------------------------\n",
      "gpr1\n",
      "R2:  0.555067589539809\n",
      "RMSE:  0.6670325407805763\n",
      "---------------------------------------\n",
      "gpr2\n",
      "R2:  0.5413415412530291\n",
      "RMSE:  0.6772432788496102\n",
      "---------------------------------------\n",
      "gpr3\n",
      "R2:  0.16906107964342443\n",
      "RMSE:  0.9115585117569664\n",
      "---------------------------------------\n",
      "gpr4\n",
      "R2:  0.31986623748014387\n",
      "RMSE:  0.8247022265762692\n",
      "---------------------------------------\n",
      "gpr5\n",
      "R2:  0.24287968809671479\n",
      "RMSE:  0.8701266068241363\n",
      "---------------------------------------\n",
      "gpr6\n",
      "R2:  0.7320902348695881\n",
      "RMSE:  0.517600004955962\n",
      "---------------------------------------\n",
      "[0.7773763478662994, 0.6114018932072616, 0.5328297734849292, 0.5331377410776714, 0.5543761121647648, 0.555067589539809, 0.5413415412530291, 0.16906107964342443, 0.31986623748014387, 0.24287968809671479, 0.7320902348695881]\n"
     ]
    },
    {
     "data": {
      "image/png": "[encoded data removed]",
      "text/plain": [
       "<Figure size 640x480 with 1 Axes>"
      ]
     },
     "metadata": {},
     "output_type": "display_data"
    }
   ],
   "source": [
    "run_models()"
   ]
  },
  {
   "cell_type": "code",
   "execution_count": 17,
   "metadata": {},
   "outputs": [
    {
     "data": {
      "text/plain": [
       "array(['mean_A2B', 'mean_X2X', 'mean_A2X', 'OF', 'std_B2X', 'std_A2X',\n",
       "       'E_coh', 'TF', 'std_A2B', 'std_X2X', 'density', 'mean_B2X'],\n",
       "      dtype=object)"
      ]
     },
     "execution_count": 17,
     "metadata": {},
     "output_type": "execute_result"
    }
   ],
   "source": [
    "featureScores.nlargest(20,'Score')['Feature'].values"
   ]
  },
  {
   "cell_type": "code",
   "execution_count": 18,
   "metadata": {},
   "outputs": [],
   "source": [
    "X=X[featureScores.nlargest(20,'Score')['Feature'].values]"
   ]
  },
  {
   "cell_type": "code",
   "execution_count": 19,
   "metadata": {},
   "outputs": [
    {
     "name": "stdout",
     "output_type": "stream",
     "text": [
      "RF\n",
      "R2:  0.7773763478662994\n",
      "RMSE:  0.4718301093971226\n",
      "---------------------------------------\n",
      "GB\n",
      "R2:  0.5573406293450761\n",
      "RMSE:  0.6653265143182886\n",
      "---------------------------------------\n",
      "LR\n",
      "R2:  0.5328297734849292\n",
      "RMSE:  0.6834985197607021\n",
      "---------------------------------------\n",
      "RR\n",
      "R2:  0.5331377410776714\n",
      "RMSE:  0.6832731949391316\n",
      "---------------------------------------\n",
      "LASSO\n",
      "R2:  0.5543761121647648\n",
      "RMSE:  0.6675506631224594\n",
      "---------------------------------------\n",
      "gpr1\n",
      "R2:  0.555067589539809\n",
      "RMSE:  0.6670325407805763\n",
      "---------------------------------------\n",
      "gpr2\n",
      "R2:  0.5413415412530291\n",
      "RMSE:  0.6772432788496102\n",
      "---------------------------------------\n",
      "gpr3\n",
      "R2:  0.2837704365511563\n",
      "RMSE:  0.846303470067826\n",
      "---------------------------------------\n",
      "gpr4\n",
      "R2:  0.31986623748014387\n",
      "RMSE:  0.8247022265762692\n",
      "---------------------------------------\n",
      "gpr5\n",
      "R2:  0.24287968809671479\n",
      "RMSE:  0.8701266068241363\n",
      "---------------------------------------\n",
      "gpr6\n",
      "R2:  0.7320902348695881\n",
      "RMSE:  0.517600004955962\n",
      "---------------------------------------\n",
      "[0.7773763478662994, 0.5573406293450761, 0.5328297734849292, 0.5331377410776714, 0.5543761121647648, 0.555067589539809, 0.5413415412530291, 0.2837704365511563, 0.31986623748014387, 0.24287968809671479, 0.7320902348695881]\n"
     ]
    },
    {
     "data": {
      "image/png": "[encoded data removed]",
      "text/plain": [
       "<Figure size 640x480 with 1 Axes>"
      ]
     },
     "metadata": {},
     "output_type": "display_data"
    }
   ],
   "source": [
    "run_models()"
   ]
  },
  {
   "cell_type": "code",
   "execution_count": 20,
   "metadata": {},
   "outputs": [
    {
     "data": {
      "text/plain": [
       "array(['mean_A2B', 'mean_X2X', 'mean_A2X', 'OF', 'std_B2X', 'std_A2X',\n",
       "       'E_coh', 'TF', 'std_A2B', 'std_X2X'], dtype=object)"
      ]
     },
     "execution_count": 20,
     "metadata": {},
     "output_type": "execute_result"
    }
   ],
   "source": [
    "featureScores.nlargest(10,'Score')['Feature'].values"
   ]
  },
  {
   "cell_type": "code",
   "execution_count": 21,
   "metadata": {},
   "outputs": [],
   "source": [
    "X=X[featureScores.nlargest(10,'Score')['Feature'].values]"
   ]
  },
  {
   "cell_type": "code",
   "execution_count": 22,
   "metadata": {},
   "outputs": [
    {
     "name": "stdout",
     "output_type": "stream",
     "text": [
      "RF\n",
      "R2:  0.844858420655348\n",
      "RMSE:  0.39388015860747805\n",
      "---------------------------------------\n",
      "GB\n",
      "R2:  0.48252724613285536\n",
      "RMSE:  0.7193557908762149\n",
      "---------------------------------------\n",
      "LR\n",
      "R2:  0.3425679585734821\n",
      "RMSE:  0.810821830876869\n",
      "---------------------------------------\n",
      "RR\n",
      "R2:  0.34285294182621173\n",
      "RMSE:  0.8106460745441183\n",
      "---------------------------------------\n",
      "LASSO\n",
      "R2:  0.3814446230348528\n",
      "RMSE:  0.786482915876211\n",
      "---------------------------------------\n",
      "gpr1\n",
      "R2:  0.3805414401991062\n",
      "RMSE:  0.7870568974355626\n",
      "---------------------------------------\n",
      "gpr2\n",
      "R2:  0.630909211125374\n",
      "RMSE:  0.6075284263922356\n",
      "---------------------------------------\n",
      "gpr3\n",
      "R2:  0.31793017093459053\n",
      "RMSE:  0.8258751897625993\n",
      "---------------------------------------\n",
      "gpr4\n",
      "R2:  0.3350478149838393\n",
      "RMSE:  0.815446003740383\n",
      "---------------------------------------\n",
      "gpr5\n",
      "R2:  0.6104162818628245\n",
      "RMSE:  0.6241664186234113\n",
      "---------------------------------------\n",
      "gpr6\n",
      "R2:  0.7084472826096532\n",
      "RMSE:  0.5399562180310056\n",
      "---------------------------------------\n",
      "[0.844858420655348, 0.48252724613285536, 0.3425679585734821, 0.34285294182621173, 0.3814446230348528, 0.3805414401991062, 0.630909211125374, 0.31793017093459053, 0.3350478149838393, 0.6104162818628245, 0.7084472826096532]\n"
     ]
    },
    {
     "data": {
      "image/png": "[encoded data removed]",
      "text/plain": [
       "<Figure size 640x480 with 1 Axes>"
      ]
     },
     "metadata": {},
     "output_type": "display_data"
    }
   ],
   "source": [
    "run_models()"
   ]
  },
  {
   "cell_type": "markdown",
   "metadata": {},
   "source": [
    "# Min-Max scaling"
   ]
  },
  {
   "cell_type": "code",
   "execution_count": 23,
   "metadata": {},
   "outputs": [],
   "source": [
    "data_mm = pd.read_csv('scaled_minmax_Coeff_D.csv', encoding='cp1252')"
   ]
  },
  {
   "cell_type": "code",
   "execution_count": 24,
   "metadata": {},
   "outputs": [],
   "source": [
    "data_mm.drop(['A_Z', 'B_Z', 'X_Z', 'A_G', 'B_G', 'X_G', 'A_IEI', 'B_IEI',\n",
    "       'X_IEI', 'A_IEII', 'B_IEII', 'X_IEII', 'A_EA', 'B_EA', 'X_EA',\n",
    "       'A_ChiP', 'B_ChiP', 'X_ChiP', 'A_ChiA', 'B_ChiA', 'A_Rvdw',\n",
    "       'B_Rvdw', 'X_Rvdw', 'B_Rc', 'B_Ra', 'A_MP', 'B_MP', 'A_Rho',\n",
    "       'B_Rho', 'X_Rho', 'B_MV', 'X_MV', 'B_Hf', 'A_Kappa', 'B_Kappa',\n",
    "       'X_Kappa', 'A_CvM', 'B_CvM', 'A_B', 'B_B', 'B_MendeleevNo'\n",
    "          ], axis=1, inplace = True)"
   ]
  },
  {
   "cell_type": "code",
   "execution_count": 25,
   "metadata": {},
   "outputs": [],
   "source": [
    "data_mm.fillna(0, inplace= True)"
   ]
  },
  {
   "cell_type": "code",
   "execution_count": 26,
   "metadata": {},
   "outputs": [],
   "source": [
    "Y = data_mm['Coeff_D'] \n",
    "X = data_mm.drop(['Coeff_D','Name'], axis=1)"
   ]
  },
  {
   "cell_type": "markdown",
   "metadata": {
    "id": "ZaJDp0jdzwnZ"
   },
   "source": [
    "### Using CV technique"
   ]
  },
  {
   "cell_type": "code",
   "execution_count": 27,
   "metadata": {},
   "outputs": [
    {
     "name": "stdout",
     "output_type": "stream",
     "text": [
      "RF\n",
      "R2:  0.7742441330991284\n",
      "RMSE:  0.10924448369209835\n",
      "---------------------------------------\n",
      "GB\n",
      "R2:  0.6209902710409717\n",
      "RMSE:  0.14154846784474798\n",
      "---------------------------------------\n",
      "LR\n",
      "R2:  0.5328297734849294\n",
      "RMSE:  0.15715115312510558\n",
      "---------------------------------------\n",
      "RR\n",
      "R2:  0.53735766897802\n",
      "RMSE:  0.15638773059249314\n",
      "---------------------------------------\n",
      "LASSO\n",
      "R2:  0.3733137500491286\n",
      "RMSE:  0.18201411850140764\n",
      "---------------------------------------\n",
      "gpr1\n",
      "R2:  0.5355914520385829\n",
      "RMSE:  0.1566859647986228\n",
      "---------------------------------------\n",
      "gpr2\n",
      "R2:  0.625922784359507\n",
      "RMSE:  0.1406243804802682\n",
      "---------------------------------------\n",
      "gpr3\n",
      "R2:  -0.17888986282788455\n",
      "RMSE:  0.24964140050976408\n",
      "---------------------------------------\n",
      "gpr4\n",
      "R2:  -0.1288455194524818\n",
      "RMSE:  0.2442852531091275\n",
      "---------------------------------------\n",
      "gpr5\n",
      "R2:  0.6378276738844711\n",
      "RMSE:  0.13836862489267673\n",
      "---------------------------------------\n",
      "gpr6\n",
      "R2:  0.7207609811764446\n",
      "RMSE:  0.1214976968502112\n",
      "---------------------------------------\n",
      "[0.7742441330991284, 0.6209902710409717, 0.5328297734849294, 0.53735766897802, 0.3733137500491286, 0.5355914520385829, 0.625922784359507, -0.17888986282788455, -0.1288455194524818, 0.6378276738844711, 0.7207609811764446]\n"
     ]
    },
    {
     "data": {
      "image/png": "[encoded data removed]",
      "text/plain": [
       "<Figure size 640x480 with 1 Axes>"
      ]
     },
     "metadata": {},
     "output_type": "display_data"
    }
   ],
   "source": [
    "run_models()"
   ]
  },
  {
   "cell_type": "markdown",
   "metadata": {
    "id": "_x7bQR-jz4WE"
   },
   "source": [
    "## Feature selection\n"
   ]
  },
  {
   "cell_type": "code",
   "execution_count": 28,
   "metadata": {
    "colab": {
     "base_uri": "https://localhost:8080/"
    },
    "id": "RpTITR9vz7Th",
    "outputId": "b1c134f4-85a3-49a7-fa3a-34f5d4896d01"
   },
   "outputs": [
    {
     "name": "stdout",
     "output_type": "stream",
     "text": [
      "     Feature      Score\n",
      "1   mean_A2B  47.599974\n",
      "4   mean_X2X  33.749541\n",
      "2   mean_A2X  21.966084\n",
      "11        OF  19.573438\n",
      "7    std_B2X  16.294713\n",
      "6    std_A2X  12.148069\n",
      "9      E_coh  11.712526\n",
      "10        TF   7.108773\n",
      "5    std_A2B   7.056710\n",
      "8    std_X2X   5.471454\n",
      "0    density   1.218888\n",
      "3   mean_B2X   0.044770\n"
     ]
    }
   ],
   "source": [
    "#apply SelectKBest class to extract top 10 best features\n",
    "bestfeatures = SelectKBest(score_func=f_regression, k=10)\n",
    "fit = bestfeatures.fit(X,Y)\n",
    "dfscores = pd.DataFrame(fit.scores_)\n",
    "dfcolumns = pd.DataFrame(X.columns)\n",
    "#concat two dataframes for better visualization \n",
    "featureScores = pd.concat([dfcolumns,dfscores],axis=1)\n",
    "featureScores.columns = ['Feature','Score']  #naming the dataframe columns\n",
    "print(featureScores.nlargest(30,'Score'))  #print 10 best features"
   ]
  },
  {
   "cell_type": "code",
   "execution_count": 29,
   "metadata": {},
   "outputs": [
    {
     "data": {
      "text/plain": [
       "array(['mean_A2B', 'mean_X2X', 'mean_A2X', 'OF', 'std_B2X', 'std_A2X',\n",
       "       'E_coh', 'TF', 'std_A2B', 'std_X2X', 'density', 'mean_B2X'],\n",
       "      dtype=object)"
      ]
     },
     "execution_count": 29,
     "metadata": {},
     "output_type": "execute_result"
    }
   ],
   "source": [
    "featureScores.nlargest(40,'Score')['Feature'].values"
   ]
  },
  {
   "cell_type": "code",
   "execution_count": 30,
   "metadata": {},
   "outputs": [],
   "source": [
    "X=X[featureScores.nlargest(40,'Score')['Feature'].values]"
   ]
  },
  {
   "cell_type": "code",
   "execution_count": 31,
   "metadata": {},
   "outputs": [
    {
     "name": "stdout",
     "output_type": "stream",
     "text": [
      "RF\n",
      "R2:  0.7669338763260504\n",
      "RMSE:  0.11099912883022142\n",
      "---------------------------------------\n",
      "GB\n",
      "R2:  0.6179762069968873\n",
      "RMSE:  0.1421101833733123\n",
      "---------------------------------------\n",
      "LR\n",
      "R2:  0.5328297734849297\n",
      "RMSE:  0.15715115312510555\n",
      "---------------------------------------\n",
      "RR\n",
      "R2:  0.53735766897802\n",
      "RMSE:  0.15638773059249314\n",
      "---------------------------------------\n",
      "LASSO\n",
      "R2:  0.37331934958161495\n",
      "RMSE:  0.18201330533832463\n",
      "---------------------------------------\n",
      "gpr1\n",
      "R2:  0.5355914520385487\n",
      "RMSE:  0.15668596479862856\n",
      "---------------------------------------\n",
      "gpr2\n",
      "R2:  0.625922784359507\n",
      "RMSE:  0.1406243804802682\n",
      "---------------------------------------\n",
      "gpr3\n",
      "R2:  -0.12884579670939855\n",
      "RMSE:  0.24428528310870262\n",
      "---------------------------------------\n",
      "gpr4\n",
      "R2:  -0.12884551945272582\n",
      "RMSE:  0.2442852531091539\n",
      "---------------------------------------\n",
      "gpr5\n",
      "R2:  0.6378276738846116\n",
      "RMSE:  0.13836862489264992\n",
      "---------------------------------------\n",
      "gpr6\n",
      "R2:  0.7207610175466193\n",
      "RMSE:  0.12149768893782739\n",
      "---------------------------------------\n",
      "[0.7669338763260504, 0.6179762069968873, 0.5328297734849297, 0.53735766897802, 0.37331934958161495, 0.5355914520385487, 0.625922784359507, -0.12884579670939855, -0.12884551945272582, 0.6378276738846116, 0.7207610175466193]\n"
     ]
    },
    {
     "data": {
      "image/png": "[encoded data removed]",
      "text/plain": [
       "<Figure size 640x480 with 1 Axes>"
      ]
     },
     "metadata": {},
     "output_type": "display_data"
    }
   ],
   "source": [
    "run_models()"
   ]
  },
  {
   "cell_type": "code",
   "execution_count": 32,
   "metadata": {},
   "outputs": [
    {
     "data": {
      "text/plain": [
       "array(['mean_A2B', 'mean_X2X', 'mean_A2X', 'OF', 'std_B2X', 'std_A2X',\n",
       "       'E_coh', 'TF', 'std_A2B', 'std_X2X', 'density', 'mean_B2X'],\n",
       "      dtype=object)"
      ]
     },
     "execution_count": 32,
     "metadata": {},
     "output_type": "execute_result"
    }
   ],
   "source": [
    "featureScores.nlargest(30,'Score')['Feature'].values"
   ]
  },
  {
   "cell_type": "code",
   "execution_count": 33,
   "metadata": {},
   "outputs": [],
   "source": [
    "X=X[featureScores.nlargest(30,'Score')['Feature'].values]"
   ]
  },
  {
   "cell_type": "code",
   "execution_count": 34,
   "metadata": {},
   "outputs": [
    {
     "name": "stdout",
     "output_type": "stream",
     "text": [
      "RF\n",
      "R2:  0.7669338763260504\n",
      "RMSE:  0.11099912883022142\n",
      "---------------------------------------\n",
      "GB\n",
      "R2:  0.6170140309337564\n",
      "RMSE:  0.14228903221904052\n",
      "---------------------------------------\n",
      "LR\n",
      "R2:  0.5328297734849297\n",
      "RMSE:  0.15715115312510555\n",
      "---------------------------------------\n",
      "RR\n",
      "R2:  0.53735766897802\n",
      "RMSE:  0.15638773059249314\n",
      "---------------------------------------\n",
      "LASSO\n",
      "R2:  0.37331934958161495\n",
      "RMSE:  0.18201330533832463\n",
      "---------------------------------------\n",
      "gpr1\n",
      "R2:  0.5355914520385487\n",
      "RMSE:  0.15668596479862856\n",
      "---------------------------------------\n",
      "gpr2\n",
      "R2:  0.625922784359507\n",
      "RMSE:  0.1406243804802682\n",
      "---------------------------------------\n",
      "gpr3\n",
      "R2:  -0.1288458555908214\n",
      "RMSE:  0.24428528947975212\n",
      "---------------------------------------\n",
      "gpr4\n",
      "R2:  -0.12884551945272582\n",
      "RMSE:  0.2442852531091539\n",
      "---------------------------------------\n",
      "gpr5\n",
      "R2:  0.6378276738846116\n",
      "RMSE:  0.13836862489264992\n",
      "---------------------------------------\n",
      "gpr6\n",
      "R2:  0.7207610175466193\n",
      "RMSE:  0.12149768893782739\n",
      "---------------------------------------\n",
      "[0.7669338763260504, 0.6170140309337564, 0.5328297734849297, 0.53735766897802, 0.37331934958161495, 0.5355914520385487, 0.625922784359507, -0.1288458555908214, -0.12884551945272582, 0.6378276738846116, 0.7207610175466193]\n"
     ]
    },
    {
     "data": {
      "image/png": "[encoded data removed]",
      "text/plain": [
       "<Figure size 640x480 with 1 Axes>"
      ]
     },
     "metadata": {},
     "output_type": "display_data"
    }
   ],
   "source": [
    "run_models()"
   ]
  },
  {
   "cell_type": "code",
   "execution_count": 35,
   "metadata": {},
   "outputs": [
    {
     "data": {
      "text/plain": [
       "array(['mean_A2B', 'mean_X2X', 'mean_A2X', 'OF', 'std_B2X', 'std_A2X',\n",
       "       'E_coh', 'TF', 'std_A2B', 'std_X2X', 'density', 'mean_B2X'],\n",
       "      dtype=object)"
      ]
     },
     "execution_count": 35,
     "metadata": {},
     "output_type": "execute_result"
    }
   ],
   "source": [
    "featureScores.nlargest(20,'Score')['Feature'].values"
   ]
  },
  {
   "cell_type": "code",
   "execution_count": 36,
   "metadata": {},
   "outputs": [],
   "source": [
    "X=X[featureScores.nlargest(20,'Score')['Feature'].values]"
   ]
  },
  {
   "cell_type": "code",
   "execution_count": 37,
   "metadata": {},
   "outputs": [
    {
     "name": "stdout",
     "output_type": "stream",
     "text": [
      "RF\n",
      "R2:  0.7669338763260504\n",
      "RMSE:  0.11099912883022142\n",
      "---------------------------------------\n",
      "GB\n",
      "R2:  0.6082876403991071\n",
      "RMSE:  0.14390094010491972\n",
      "---------------------------------------\n",
      "LR\n",
      "R2:  0.5328297734849297\n",
      "RMSE:  0.15715115312510555\n",
      "---------------------------------------\n",
      "RR\n",
      "R2:  0.53735766897802\n",
      "RMSE:  0.15638773059249314\n",
      "---------------------------------------\n",
      "LASSO\n",
      "R2:  0.37331934958161495\n",
      "RMSE:  0.18201330533832463\n",
      "---------------------------------------\n",
      "gpr1\n",
      "R2:  0.5355914520385487\n",
      "RMSE:  0.15668596479862856\n",
      "---------------------------------------\n",
      "gpr2\n",
      "R2:  0.625922784359507\n",
      "RMSE:  0.1406243804802682\n",
      "---------------------------------------\n",
      "gpr3\n",
      "R2:  -0.12884580908992893\n",
      "RMSE:  0.24428528444829276\n",
      "---------------------------------------\n",
      "gpr4\n",
      "R2:  -0.12884551945272582\n",
      "RMSE:  0.2442852531091539\n",
      "---------------------------------------\n",
      "gpr5\n",
      "R2:  0.6378276738846116\n",
      "RMSE:  0.13836862489264992\n",
      "---------------------------------------\n",
      "gpr6\n",
      "R2:  0.7207610175466193\n",
      "RMSE:  0.12149768893782739\n",
      "---------------------------------------\n",
      "[0.7669338763260504, 0.6082876403991071, 0.5328297734849297, 0.53735766897802, 0.37331934958161495, 0.5355914520385487, 0.625922784359507, -0.12884580908992893, -0.12884551945272582, 0.6378276738846116, 0.7207610175466193]\n"
     ]
    },
    {
     "data": {
      "image/png": "[encoded data removed]",
      "text/plain": [
       "<Figure size 640x480 with 1 Axes>"
      ]
     },
     "metadata": {},
     "output_type": "display_data"
    }
   ],
   "source": [
    "run_models()"
   ]
  },
  {
   "cell_type": "code",
   "execution_count": 38,
   "metadata": {},
   "outputs": [
    {
     "data": {
      "text/plain": [
       "array(['mean_A2B', 'mean_X2X', 'mean_A2X', 'OF', 'std_B2X', 'std_A2X',\n",
       "       'E_coh', 'TF', 'std_A2B', 'std_X2X'], dtype=object)"
      ]
     },
     "execution_count": 38,
     "metadata": {},
     "output_type": "execute_result"
    }
   ],
   "source": [
    "featureScores.nlargest(10,'Score')['Feature'].values"
   ]
  },
  {
   "cell_type": "code",
   "execution_count": 39,
   "metadata": {},
   "outputs": [],
   "source": [
    "X=X[featureScores.nlargest(10,'Score')['Feature'].values]"
   ]
  },
  {
   "cell_type": "code",
   "execution_count": 40,
   "metadata": {},
   "outputs": [
    {
     "name": "stdout",
     "output_type": "stream",
     "text": [
      "RF\n",
      "R2:  0.8506465510170924\n",
      "RMSE:  0.08885617655128013\n",
      "---------------------------------------\n",
      "GB\n",
      "R2:  0.45505995008760336\n",
      "RMSE:  0.16972833750442215\n",
      "---------------------------------------\n",
      "LR\n",
      "R2:  0.3425679585734821\n",
      "RMSE:  0.18642554741145684\n",
      "---------------------------------------\n",
      "RR\n",
      "R2:  0.35042469944426013\n",
      "RMSE:  0.18530824593271208\n",
      "---------------------------------------\n",
      "LASSO\n",
      "R2:  0.37396043663355993\n",
      "RMSE:  0.1819201827640658\n",
      "---------------------------------------\n",
      "gpr1\n",
      "R2:  0.3284250893531585\n",
      "RMSE:  0.18842009794026632\n",
      "---------------------------------------\n",
      "gpr2\n",
      "R2:  0.5996953057871601\n",
      "RMSE:  0.14547063519687795\n",
      "---------------------------------------\n",
      "gpr3\n",
      "R2:  -0.7753098116381056\n",
      "RMSE:  0.30634942559697503\n",
      "---------------------------------------\n",
      "gpr4\n",
      "R2:  -0.7753098467669095\n",
      "RMSE:  0.30634942862790765\n",
      "---------------------------------------\n",
      "gpr5\n",
      "R2:  0.6576100418578728\n",
      "RMSE:  0.13453661708136783\n",
      "---------------------------------------\n",
      "gpr6\n",
      "R2:  0.6940101412381995\n",
      "RMSE:  0.12718430183052853\n",
      "---------------------------------------\n",
      "[0.8506465510170924, 0.45505995008760336, 0.3425679585734821, 0.35042469944426013, 0.37396043663355993, 0.3284250893531585, 0.5996953057871601, -0.7753098116381056, -0.7753098467669095, 0.6576100418578728, 0.6940101412381995]\n"
     ]
    },
    {
     "data": {
      "image/png": "[encoded data removed]",
      "text/plain": [
       "<Figure size 640x480 with 1 Axes>"
      ]
     },
     "metadata": {},
     "output_type": "display_data"
    }
   ],
   "source": [
    "run_models()"
   ]
  }
 ],
 "metadata": {
  "colab": {
   "collapsed_sections": [],
   "name": "Final_total.ipynb",
   "provenance": []
  },
  "kernelspec": {
   "display_name": "Python 3 (ipykernel)",
   "language": "python",
   "name": "python3"
  },
  "language_info": {
   "codemirror_mode": {
    "name": "ipython",
    "version": 3
   },
   "file_extension": ".py",
   "mimetype": "text/x-python",
   "name": "python",
   "nbconvert_exporter": "python",
   "pygments_lexer": "ipython3",
   "version": "3.9.13"
  }
 },
 "nbformat": 4,
 "nbformat_minor": 1
}
