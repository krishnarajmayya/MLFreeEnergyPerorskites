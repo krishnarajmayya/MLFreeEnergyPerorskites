{
 "cells": [
  {
   "cell_type": "code",
   "execution_count": 1,
   "metadata": {
    "id": "U1Or_5CpWR5m"
   },
   "outputs": [],
   "source": [
    "import numpy as np\n",
    "import pandas as pd\n",
    "import matplotlib.pyplot as plt\n",
    "from math import sqrt\n",
    "import seaborn as sns \n",
    "import re\n",
    " \n",
    "import warnings # supress warnings\n",
    "warnings.filterwarnings('ignore')"
   ]
  },
  {
   "cell_type": "code",
   "execution_count": 2,
   "metadata": {
    "id": "wd0p9t1imwDC"
   },
   "outputs": [],
   "source": [
    "import sklearn\n",
    "\n",
    "from sklearn.preprocessing import MinMaxScaler, PolynomialFeatures, scale, StandardScaler\n",
    "\n",
    "from sklearn.model_selection import train_test_split, cross_val_score, KFold, GridSearchCV\n",
    "\n",
    "from sklearn.linear_model import LinearRegression, Ridge, Lasso, ElasticNet \n",
    "\n",
    "from sklearn.ensemble import RandomForestRegressor\n",
    "from sklearn.ensemble import GradientBoostingRegressor\n",
    "\n",
    "from sklearn.feature_selection import RFE, SelectKBest, f_regression\n",
    "from sklearn.inspection import permutation_importance\n",
    "\n",
    "from sklearn.gaussian_process import GaussianProcessRegressor\n",
    "from sklearn.gaussian_process.kernels import DotProduct, WhiteKernel, RBF, Matern, RationalQuadratic\n",
    "from sklearn.gaussian_process.kernels import Kernel, Hyperparameter, ConstantKernel\n",
    "from sklearn.gaussian_process.kernels import GenericKernelMixin\n",
    "\n",
    "from sklearn import metrics\n",
    "from sklearn.metrics import mean_squared_error\n",
    "from sklearn.metrics import r2_score  \n",
    "\n",
    "from sklearn.pipeline import make_pipeline\n",
    "\n",
    "from sklearn.base import clone"
   ]
  },
  {
   "cell_type": "code",
   "execution_count": 3,
   "metadata": {},
   "outputs": [],
   "source": [
    "def run_models():\n",
    "    rf = RandomForestRegressor(n_estimators= 100, random_state= 10)\n",
    "    gb = GradientBoostingRegressor(loss='quantile', alpha=0.5,\n",
    "                                n_estimators=100, max_depth=10,\n",
    "                                learning_rate=0.25, min_samples_leaf=9,\n",
    "                                min_samples_split=2)\n",
    "    lr = LinearRegression()\n",
    "    rr = Ridge(alpha=0.01)\n",
    "    lasso = Lasso(alpha=0.01)\n",
    "    gpr1 = GaussianProcessRegressor(kernel=DotProduct() + WhiteKernel(),random_state=0)\n",
    "    gpr2 = GaussianProcessRegressor(kernel=1.0 * RBF(length_scale=100.0, length_scale_bounds=(1e-2, 1e3))+ \n",
    "                                WhiteKernel(noise_level=1, noise_level_bounds=(1e-10, 1e+1)),alpha=0.0)\n",
    "    gpr3 = GaussianProcessRegressor(kernel=ConstantKernel(1.0, (1e-2, 1e3)) * RBF(10, (1e-3, 1e4)),\n",
    "                                n_restarts_optimizer=9)\n",
    "    gpr4 = GaussianProcessRegressor(kernel=1.0 * RBF(length_scale=1.0, length_scale_bounds=(1e-1, 10.0)))\n",
    "    gpr5 = GaussianProcessRegressor(kernel=1.0 * RationalQuadratic(length_scale=1.0, alpha=0.01))\n",
    "    gpr6 = GaussianProcessRegressor(kernel=1.0 * Matern(length_scale=1.0, length_scale_bounds=(1e-2, 10.0),nu=0.35))\n",
    "    models = [rf,gb,lr,rr,lasso,gpr1,gpr2,gpr3,gpr4,gpr5,gpr6]\n",
    "    models_names = [\"RF\",\"GB\",\"LR\",\"RR\",\"LASSO\",\"gpr1\",\"gpr2\",\"gpr3\",\"gpr4\",\"gpr5\",\"gpr6\"]\n",
    "    r2scores=[]\n",
    "    rmse=[]\n",
    "    count=0\n",
    "    for model in models :\n",
    "        predicted_y = []\n",
    "        expected_y = []\n",
    "        kf = KFold(n_splits= 10) \n",
    "        # partition data\n",
    "        for train_index, test_index in kf.split(X, Y):\n",
    "            # specific \".loc\" syntax for working with dataframes\n",
    "            x_train, x_test = X.loc[train_index], X.loc[test_index]\n",
    "            y_train, y_test = Y[train_index], Y[test_index]\n",
    "\n",
    "            # create and fit classifier\n",
    "            model.fit(x_train, y_train)\n",
    "\n",
    "            # store result from classification\n",
    "            predicted_y.extend(model.predict(x_test))\n",
    "\n",
    "            # store expected result for this specific fold\n",
    "            expected_y.extend(y_test)\n",
    "        \n",
    "        r2 = metrics.r2_score(expected_y, predicted_y)\n",
    "        r2scores.append(r2)\n",
    "        \n",
    "        err=np.sqrt(metrics.mean_squared_error(expected_y, predicted_y))\n",
    "        rmse.append(err)\n",
    "        \n",
    "        print(models_names[count])\n",
    "        print(\"R2: \",r2.__str__())\n",
    "        print(\"RMSE: \",err)\n",
    "        print(\"---------------------------------------\")\n",
    "        count+=1\n",
    "    \n",
    "    plt.rcdefaults()\n",
    "    fig, ax = plt.subplots()\n",
    "\n",
    "    x_pos = np.arange(len(models_names))\n",
    "    ax.bar(x_pos, r2scores, align='center')\n",
    "    ax.set_xticks(x_pos)\n",
    "    ax.set_xticklabels(models_names)\n",
    "    ax.set_ylabel('R2 Score')\n",
    "    #plt.savefig('imp.eps', format='eps')\n",
    "    #plt.show()\n",
    "    print(r2scores)"
   ]
  },
  {
   "cell_type": "markdown",
   "metadata": {},
   "source": [
    "# Standard Scaling"
   ]
  },
  {
   "cell_type": "code",
   "execution_count": 4,
   "metadata": {
    "id": "hjdsOVHoYDJB"
   },
   "outputs": [],
   "source": [
    "data_std = pd.read_csv('scaled_standard_Coeff_A.csv', encoding='cp1252')   "
   ]
  },
  {
   "cell_type": "code",
   "execution_count": 5,
   "metadata": {},
   "outputs": [
    {
     "data": {
      "text/plain": [
       "array(['Name', 'density', 'mean_A2B', 'mean_A2X', 'mean_B2X', 'mean_X2X',\n",
       "       'std_A2B', 'std_A2X', 'std_B2X', 'std_X2X', 'E_coh', 'TF', 'OF',\n",
       "       'A_Z', 'B_Z', 'X_Z', 'A_G', 'B_G', 'X_G', 'A_IEI', 'B_IEI',\n",
       "       'X_IEI', 'A_IEII', 'B_IEII', 'X_IEII', 'A_EA', 'B_EA', 'X_EA',\n",
       "       'A_ChiP', 'B_ChiP', 'X_ChiP', 'A_ChiA', 'B_ChiA', 'A_Rvdw',\n",
       "       'B_Rvdw', 'X_Rvdw', 'B_Rc', 'B_Ra', 'A_MP', 'B_MP', 'A_Rho',\n",
       "       'B_Rho', 'X_Rho', 'B_MV', 'X_MV', 'B_Hf', 'A_Kappa', 'B_Kappa',\n",
       "       'X_Kappa', 'A_CvM', 'B_CvM', 'A_B', 'B_B', 'B_MendeleevNo',\n",
       "       'Coeff_A'], dtype=object)"
      ]
     },
     "execution_count": 5,
     "metadata": {},
     "output_type": "execute_result"
    }
   ],
   "source": [
    "data_std.columns.values"
   ]
  },
  {
   "cell_type": "code",
   "execution_count": 6,
   "metadata": {},
   "outputs": [],
   "source": [
    "data_std.drop(['A_Z', 'B_Z', 'X_Z', 'A_G', 'B_G', 'X_G', 'A_IEI', 'B_IEI',\n",
    "       'X_IEI', 'A_IEII', 'B_IEII', 'X_IEII', 'A_EA', 'B_EA', 'X_EA',\n",
    "       'A_ChiP', 'B_ChiP', 'X_ChiP', 'A_ChiA', 'B_ChiA', 'A_Rvdw',\n",
    "       'B_Rvdw', 'X_Rvdw', 'B_Rc', 'B_Ra', 'A_MP', 'B_MP', 'A_Rho',\n",
    "       'B_Rho', 'X_Rho', 'B_MV', 'X_MV', 'B_Hf', 'A_Kappa', 'B_Kappa',\n",
    "       'X_Kappa', 'A_CvM', 'B_CvM', 'A_B', 'B_B', 'B_MendeleevNo'\n",
    "          ], axis=1, inplace = True)"
   ]
  },
  {
   "cell_type": "code",
   "execution_count": 7,
   "metadata": {},
   "outputs": [],
   "source": [
    "data_std.fillna(0, inplace= True)"
   ]
  },
  {
   "cell_type": "code",
   "execution_count": 8,
   "metadata": {},
   "outputs": [],
   "source": [
    "Y = data_std['Coeff_A'] \n",
    "X = data_std.drop(['Coeff_A','Name'], axis=1)"
   ]
  },
  {
   "cell_type": "markdown",
   "metadata": {
    "id": "ZaJDp0jdzwnZ"
   },
   "source": [
    "### Using CV technique"
   ]
  },
  {
   "cell_type": "code",
   "execution_count": 9,
   "metadata": {},
   "outputs": [
    {
     "name": "stdout",
     "output_type": "stream",
     "text": [
      "RF\n",
      "R2:  0.8392427536298988\n",
      "RMSE:  0.40094544064012166\n",
      "---------------------------------------\n",
      "GB\n",
      "R2:  0.7578004569662065\n",
      "RMSE:  0.49213772770820313\n",
      "---------------------------------------\n",
      "LR\n",
      "R2:  0.7544959398371425\n",
      "RMSE:  0.4954836628617109\n",
      "---------------------------------------\n",
      "RR\n",
      "R2:  0.7546018297499612\n",
      "RMSE:  0.49537679623700465\n",
      "---------------------------------------\n",
      "LASSO\n",
      "R2:  0.75475610395934\n",
      "RMSE:  0.4952210577516468\n",
      "---------------------------------------\n",
      "gpr1\n",
      "R2:  0.7618300417674011\n",
      "RMSE:  0.4880265958250624\n",
      "---------------------------------------\n",
      "gpr2\n",
      "R2:  0.8133016735573393\n",
      "RMSE:  0.43208601741165\n",
      "---------------------------------------\n",
      "gpr3\n",
      "R2:  0.42925529881747804\n",
      "RMSE:  0.7554764729510257\n",
      "---------------------------------------\n",
      "gpr4\n",
      "R2:  0.543486564973392\n",
      "RMSE:  0.6756577795205262\n",
      "---------------------------------------\n",
      "gpr5\n",
      "R2:  0.7924571233513786\n",
      "RMSE:  0.4555687397623122\n",
      "---------------------------------------\n",
      "gpr6\n",
      "R2:  0.842708967488014\n",
      "RMSE:  0.3965993349868176\n",
      "---------------------------------------\n",
      "[0.8392427536298988, 0.7578004569662065, 0.7544959398371425, 0.7546018297499612, 0.75475610395934, 0.7618300417674011, 0.8133016735573393, 0.42925529881747804, 0.543486564973392, 0.7924571233513786, 0.842708967488014]\n"
     ]
    },
    {
     "data": {
      "image/png": "[encoded data removed]",
      "text/plain": [
       "<Figure size 640x480 with 1 Axes>"
      ]
     },
     "metadata": {},
     "output_type": "display_data"
    }
   ],
   "source": [
    "run_models()"
   ]
  },
  {
   "cell_type": "markdown",
   "metadata": {
    "id": "_x7bQR-jz4WE"
   },
   "source": [
    "## Feature selection\n"
   ]
  },
  {
   "cell_type": "code",
   "execution_count": 10,
   "metadata": {
    "colab": {
     "base_uri": "https://localhost:8080/"
    },
    "id": "RpTITR9vz7Th",
    "outputId": "b1c134f4-85a3-49a7-fa3a-34f5d4896d01"
   },
   "outputs": [
    {
     "name": "stdout",
     "output_type": "stream",
     "text": [
      "     Feature       Score\n",
      "1   mean_A2B  142.353080\n",
      "4   mean_X2X   79.003498\n",
      "2   mean_A2X   55.191431\n",
      "9      E_coh   34.402479\n",
      "6    std_A2X   18.021854\n",
      "7    std_B2X   16.580759\n",
      "11        OF   14.513522\n",
      "5    std_A2B    5.578229\n",
      "8    std_X2X    4.707386\n",
      "10        TF    3.235088\n",
      "0    density    0.786164\n",
      "3   mean_B2X    0.122504\n"
     ]
    }
   ],
   "source": [
    "#apply SelectKBest class to extract top 10 best features\n",
    "bestfeatures = SelectKBest(score_func=f_regression, k=10)\n",
    "fit = bestfeatures.fit(X,Y)\n",
    "dfscores = pd.DataFrame(fit.scores_)\n",
    "dfcolumns = pd.DataFrame(X.columns)\n",
    "#concat two dataframes for better visualization \n",
    "featureScores = pd.concat([dfcolumns,dfscores],axis=1)\n",
    "featureScores.columns = ['Feature','Score']  #naming the dataframe columns\n",
    "print(featureScores.nlargest(30,'Score'))  #print 10 best features"
   ]
  },
  {
   "cell_type": "code",
   "execution_count": 11,
   "metadata": {},
   "outputs": [
    {
     "data": {
      "text/plain": [
       "array(['mean_A2B', 'mean_X2X', 'mean_A2X', 'E_coh', 'std_A2X', 'std_B2X',\n",
       "       'OF', 'std_A2B', 'std_X2X', 'TF', 'density', 'mean_B2X'],\n",
       "      dtype=object)"
      ]
     },
     "execution_count": 11,
     "metadata": {},
     "output_type": "execute_result"
    }
   ],
   "source": [
    "featureScores.nlargest(40,'Score')['Feature'].values"
   ]
  },
  {
   "cell_type": "code",
   "execution_count": 12,
   "metadata": {},
   "outputs": [],
   "source": [
    "X=X[featureScores.nlargest(40,'Score')['Feature'].values]"
   ]
  },
  {
   "cell_type": "code",
   "execution_count": 13,
   "metadata": {},
   "outputs": [
    {
     "name": "stdout",
     "output_type": "stream",
     "text": [
      "RF\n",
      "R2:  0.8378237264353112\n",
      "RMSE:  0.4027111540107733\n",
      "---------------------------------------\n",
      "GB\n",
      "R2:  0.748082336458145\n",
      "RMSE:  0.5019140001452987\n",
      "---------------------------------------\n",
      "LR\n",
      "R2:  0.7544959398371422\n",
      "RMSE:  0.495483662861711\n",
      "---------------------------------------\n",
      "RR\n",
      "R2:  0.7546018297499612\n",
      "RMSE:  0.49537679623700465\n",
      "---------------------------------------\n",
      "LASSO\n",
      "R2:  0.754736041816652\n",
      "RMSE:  0.4952413130821661\n",
      "---------------------------------------\n",
      "gpr1\n",
      "R2:  0.7618300417673955\n",
      "RMSE:  0.4880265958250682\n",
      "---------------------------------------\n",
      "gpr2\n",
      "R2:  0.8133016735573402\n",
      "RMSE:  0.4320860174116489\n",
      "---------------------------------------\n",
      "gpr3\n",
      "R2:  0.4366238437406629\n",
      "RMSE:  0.75058387689807\n",
      "---------------------------------------\n",
      "gpr4\n",
      "R2:  0.5434865649733933\n",
      "RMSE:  0.6756577795205253\n",
      "---------------------------------------\n",
      "gpr5\n",
      "R2:  0.792457123350981\n",
      "RMSE:  0.45556873976274875\n",
      "---------------------------------------\n",
      "gpr6\n",
      "R2:  0.8427089674880144\n",
      "RMSE:  0.39659933498681715\n",
      "---------------------------------------\n",
      "[0.8378237264353112, 0.748082336458145, 0.7544959398371422, 0.7546018297499612, 0.754736041816652, 0.7618300417673955, 0.8133016735573402, 0.4366238437406629, 0.5434865649733933, 0.792457123350981, 0.8427089674880144]\n"
     ]
    },
    {
     "data": {
      "image/png": "[encoded data removed]",
      "text/plain": [
       "<Figure size 640x480 with 1 Axes>"
      ]
     },
     "metadata": {},
     "output_type": "display_data"
    }
   ],
   "source": [
    "run_models()"
   ]
  },
  {
   "cell_type": "code",
   "execution_count": 14,
   "metadata": {},
   "outputs": [
    {
     "data": {
      "text/plain": [
       "array(['mean_A2B', 'mean_X2X', 'mean_A2X', 'E_coh', 'std_A2X', 'std_B2X',\n",
       "       'OF', 'std_A2B', 'std_X2X', 'TF', 'density', 'mean_B2X'],\n",
       "      dtype=object)"
      ]
     },
     "execution_count": 14,
     "metadata": {},
     "output_type": "execute_result"
    }
   ],
   "source": [
    "featureScores.nlargest(30,'Score')['Feature'].values"
   ]
  },
  {
   "cell_type": "code",
   "execution_count": 15,
   "metadata": {},
   "outputs": [],
   "source": [
    "X=X[featureScores.nlargest(30,'Score')['Feature'].values]"
   ]
  },
  {
   "cell_type": "code",
   "execution_count": 16,
   "metadata": {},
   "outputs": [
    {
     "name": "stdout",
     "output_type": "stream",
     "text": [
      "RF\n",
      "R2:  0.8378237264353112\n",
      "RMSE:  0.4027111540107733\n",
      "---------------------------------------\n",
      "GB\n",
      "R2:  0.7561864151018479\n",
      "RMSE:  0.49377483218381235\n",
      "---------------------------------------\n",
      "LR\n",
      "R2:  0.7544959398371422\n",
      "RMSE:  0.495483662861711\n",
      "---------------------------------------\n",
      "RR\n",
      "R2:  0.7546018297499612\n",
      "RMSE:  0.49537679623700465\n",
      "---------------------------------------\n",
      "LASSO\n",
      "R2:  0.754736041816652\n",
      "RMSE:  0.4952413130821661\n",
      "---------------------------------------\n",
      "gpr1\n",
      "R2:  0.7618300417673955\n",
      "RMSE:  0.4880265958250682\n",
      "---------------------------------------\n",
      "gpr2\n",
      "R2:  0.8133016735573402\n",
      "RMSE:  0.4320860174116489\n",
      "---------------------------------------\n",
      "gpr3\n",
      "R2:  0.45126218771740023\n",
      "RMSE:  0.7407683931449828\n",
      "---------------------------------------\n",
      "gpr4\n",
      "R2:  0.5434865649733933\n",
      "RMSE:  0.6756577795205253\n",
      "---------------------------------------\n",
      "gpr5\n",
      "R2:  0.792457123350981\n",
      "RMSE:  0.45556873976274875\n",
      "---------------------------------------\n",
      "gpr6\n",
      "R2:  0.8427089674880144\n",
      "RMSE:  0.39659933498681715\n",
      "---------------------------------------\n",
      "[0.8378237264353112, 0.7561864151018479, 0.7544959398371422, 0.7546018297499612, 0.754736041816652, 0.7618300417673955, 0.8133016735573402, 0.45126218771740023, 0.5434865649733933, 0.792457123350981, 0.8427089674880144]\n"
     ]
    },
    {
     "data": {
      "image/png": "[encoded data removed]",
      "text/plain": [
       "<Figure size 640x480 with 1 Axes>"
      ]
     },
     "metadata": {},
     "output_type": "display_data"
    }
   ],
   "source": [
    "run_models()"
   ]
  },
  {
   "cell_type": "code",
   "execution_count": 17,
   "metadata": {},
   "outputs": [
    {
     "data": {
      "text/plain": [
       "array(['mean_A2B', 'mean_X2X', 'mean_A2X', 'E_coh', 'std_A2X', 'std_B2X',\n",
       "       'OF', 'std_A2B', 'std_X2X', 'TF', 'density', 'mean_B2X'],\n",
       "      dtype=object)"
      ]
     },
     "execution_count": 17,
     "metadata": {},
     "output_type": "execute_result"
    }
   ],
   "source": [
    "featureScores.nlargest(20,'Score')['Feature'].values"
   ]
  },
  {
   "cell_type": "code",
   "execution_count": 18,
   "metadata": {},
   "outputs": [],
   "source": [
    "X=X[featureScores.nlargest(20,'Score')['Feature'].values]"
   ]
  },
  {
   "cell_type": "code",
   "execution_count": 19,
   "metadata": {},
   "outputs": [
    {
     "name": "stdout",
     "output_type": "stream",
     "text": [
      "RF\n",
      "R2:  0.8378237264353112\n",
      "RMSE:  0.4027111540107733\n",
      "---------------------------------------\n",
      "GB\n",
      "R2:  0.7503023453509453\n",
      "RMSE:  0.49969756318102526\n",
      "---------------------------------------\n",
      "LR\n",
      "R2:  0.7544959398371422\n",
      "RMSE:  0.495483662861711\n",
      "---------------------------------------\n",
      "RR\n",
      "R2:  0.7546018297499612\n",
      "RMSE:  0.49537679623700465\n",
      "---------------------------------------\n",
      "LASSO\n",
      "R2:  0.754736041816652\n",
      "RMSE:  0.4952413130821661\n",
      "---------------------------------------\n",
      "gpr1\n",
      "R2:  0.7618300417673955\n",
      "RMSE:  0.4880265958250682\n",
      "---------------------------------------\n",
      "gpr2\n",
      "R2:  0.8133016735573402\n",
      "RMSE:  0.4320860174116489\n",
      "---------------------------------------\n",
      "gpr3\n",
      "R2:  0.4691766132206162\n",
      "RMSE:  0.7285762738240821\n",
      "---------------------------------------\n",
      "gpr4\n",
      "R2:  0.5434865649733933\n",
      "RMSE:  0.6756577795205253\n",
      "---------------------------------------\n",
      "gpr5\n",
      "R2:  0.792457123350981\n",
      "RMSE:  0.45556873976274875\n",
      "---------------------------------------\n",
      "gpr6\n",
      "R2:  0.8427089674880144\n",
      "RMSE:  0.39659933498681715\n",
      "---------------------------------------\n",
      "[0.8378237264353112, 0.7503023453509453, 0.7544959398371422, 0.7546018297499612, 0.754736041816652, 0.7618300417673955, 0.8133016735573402, 0.4691766132206162, 0.5434865649733933, 0.792457123350981, 0.8427089674880144]\n"
     ]
    },
    {
     "data": {
      "image/png": "[encoded data removed]",
      "text/plain": [
       "<Figure size 640x480 with 1 Axes>"
      ]
     },
     "metadata": {},
     "output_type": "display_data"
    }
   ],
   "source": [
    "run_models()"
   ]
  },
  {
   "cell_type": "code",
   "execution_count": 20,
   "metadata": {},
   "outputs": [
    {
     "data": {
      "text/plain": [
       "array(['mean_A2B', 'mean_X2X', 'mean_A2X', 'E_coh', 'std_A2X', 'std_B2X',\n",
       "       'OF', 'std_A2B', 'std_X2X', 'TF'], dtype=object)"
      ]
     },
     "execution_count": 20,
     "metadata": {},
     "output_type": "execute_result"
    }
   ],
   "source": [
    "featureScores.nlargest(10,'Score')['Feature'].values"
   ]
  },
  {
   "cell_type": "code",
   "execution_count": 21,
   "metadata": {},
   "outputs": [],
   "source": [
    "X=X[featureScores.nlargest(10,'Score')['Feature'].values]"
   ]
  },
  {
   "cell_type": "code",
   "execution_count": 22,
   "metadata": {},
   "outputs": [
    {
     "name": "stdout",
     "output_type": "stream",
     "text": [
      "RF\n",
      "R2:  0.8619135641273268\n",
      "RMSE:  0.371599832982569\n",
      "---------------------------------------\n",
      "GB\n",
      "R2:  0.7099270313676935\n",
      "RMSE:  0.5385842261265237\n",
      "---------------------------------------\n",
      "LR\n",
      "R2:  0.6954685551505982\n",
      "RMSE:  0.5518436779101503\n",
      "---------------------------------------\n",
      "RR\n",
      "R2:  0.6955865951687041\n",
      "RMSE:  0.5517367169504817\n",
      "---------------------------------------\n",
      "LASSO\n",
      "R2:  0.7085217193469427\n",
      "RMSE:  0.5398872851374231\n",
      "---------------------------------------\n",
      "gpr1\n",
      "R2:  0.7105509938023312\n",
      "RMSE:  0.5380046525799463\n",
      "---------------------------------------\n",
      "gpr2\n",
      "R2:  0.773443967064692\n",
      "RMSE:  0.47597902573044965\n",
      "---------------------------------------\n",
      "gpr3\n",
      "R2:  0.45042464890861333\n",
      "RMSE:  0.741333495190516\n",
      "---------------------------------------\n",
      "gpr4\n",
      "R2:  0.4754648189888797\n",
      "RMSE:  0.72424801070567\n",
      "---------------------------------------\n",
      "gpr5\n",
      "R2:  0.8233076211420055\n",
      "RMSE:  0.4203479259589542\n",
      "---------------------------------------\n",
      "gpr6\n",
      "R2:  0.8348193992963306\n",
      "RMSE:  0.40642416353321\n",
      "---------------------------------------\n",
      "[0.8619135641273268, 0.7099270313676935, 0.6954685551505982, 0.6955865951687041, 0.7085217193469427, 0.7105509938023312, 0.773443967064692, 0.45042464890861333, 0.4754648189888797, 0.8233076211420055, 0.8348193992963306]\n"
     ]
    },
    {
     "data": {
      "image/png": "[encoded data removed]",
      "text/plain": [
       "<Figure size 640x480 with 1 Axes>"
      ]
     },
     "metadata": {},
     "output_type": "display_data"
    }
   ],
   "source": [
    "run_models()"
   ]
  },
  {
   "cell_type": "markdown",
   "metadata": {},
   "source": [
    "# Min-Max scaling"
   ]
  },
  {
   "cell_type": "code",
   "execution_count": 23,
   "metadata": {},
   "outputs": [],
   "source": [
    "data_mm = pd.read_csv('scaled_minmax_Coeff_A.csv', encoding='cp1252')"
   ]
  },
  {
   "cell_type": "code",
   "execution_count": 24,
   "metadata": {},
   "outputs": [],
   "source": [
    "data_mm.drop(['A_Z', 'B_Z', 'X_Z', 'A_G', 'B_G', 'X_G', 'A_IEI', 'B_IEI',\n",
    "       'X_IEI', 'A_IEII', 'B_IEII', 'X_IEII', 'A_EA', 'B_EA', 'X_EA',\n",
    "       'A_ChiP', 'B_ChiP', 'X_ChiP', 'A_ChiA', 'B_ChiA', 'A_Rvdw',\n",
    "       'B_Rvdw', 'X_Rvdw', 'B_Rc', 'B_Ra', 'A_MP', 'B_MP', 'A_Rho',\n",
    "       'B_Rho', 'X_Rho', 'B_MV', 'X_MV', 'B_Hf', 'A_Kappa', 'B_Kappa',\n",
    "       'X_Kappa', 'A_CvM', 'B_CvM', 'A_B', 'B_B', 'B_MendeleevNo'\n",
    "          ], axis=1, inplace = True)"
   ]
  },
  {
   "cell_type": "code",
   "execution_count": 25,
   "metadata": {},
   "outputs": [],
   "source": [
    "data_mm.fillna(0, inplace= True)"
   ]
  },
  {
   "cell_type": "code",
   "execution_count": 26,
   "metadata": {},
   "outputs": [],
   "source": [
    "Y = data_mm['Coeff_A'] \n",
    "X = data_mm.drop(['Coeff_A','Name'], axis=1)"
   ]
  },
  {
   "cell_type": "markdown",
   "metadata": {
    "id": "ZaJDp0jdzwnZ"
   },
   "source": [
    "### Using CV technique"
   ]
  },
  {
   "cell_type": "code",
   "execution_count": 27,
   "metadata": {},
   "outputs": [
    {
     "name": "stdout",
     "output_type": "stream",
     "text": [
      "RF\n",
      "R2:  0.8497913240208543\n",
      "RMSE:  0.10463184216830453\n",
      "---------------------------------------\n",
      "GB\n",
      "R2:  0.7698029149858445\n",
      "RMSE:  0.12952877926692533\n",
      "---------------------------------------\n",
      "LR\n",
      "R2:  0.7544959398371424\n",
      "RMSE:  0.13376598815062407\n",
      "---------------------------------------\n",
      "RR\n",
      "R2:  0.7565029491500896\n",
      "RMSE:  0.13321809389882233\n",
      "---------------------------------------\n",
      "LASSO\n",
      "R2:  0.6659243280157197\n",
      "RMSE:  0.15604102267700892\n",
      "---------------------------------------\n",
      "gpr1\n",
      "R2:  0.7612262238744454\n",
      "RMSE:  0.13191970652715446\n",
      "---------------------------------------\n",
      "gpr2\n",
      "R2:  0.7969577940181628\n",
      "RMSE:  0.12164927479706182\n",
      "---------------------------------------\n",
      "gpr3\n",
      "R2:  -0.24073141901409634\n",
      "RMSE:  0.30071511141657187\n",
      "---------------------------------------\n",
      "gpr4\n",
      "R2:  -0.24073148121391807\n",
      "RMSE:  0.30071511895423303\n",
      "---------------------------------------\n",
      "gpr5\n",
      "R2:  0.7687218845921668\n",
      "RMSE:  0.1298325636078653\n",
      "---------------------------------------\n",
      "gpr6\n",
      "R2:  0.8359651661922813\n",
      "RMSE:  0.10934134306303364\n",
      "---------------------------------------\n",
      "[0.8497913240208543, 0.7698029149858445, 0.7544959398371424, 0.7565029491500896, 0.6659243280157197, 0.7612262238744454, 0.7969577940181628, -0.24073141901409634, -0.24073148121391807, 0.7687218845921668, 0.8359651661922813]\n"
     ]
    },
    {
     "data": {
      "image/png": "[encoded data removed]",
      "text/plain": [
       "<Figure size 640x480 with 1 Axes>"
      ]
     },
     "metadata": {},
     "output_type": "display_data"
    }
   ],
   "source": [
    "run_models()"
   ]
  },
  {
   "cell_type": "markdown",
   "metadata": {
    "id": "_x7bQR-jz4WE"
   },
   "source": [
    "## Feature selection\n"
   ]
  },
  {
   "cell_type": "code",
   "execution_count": 28,
   "metadata": {
    "colab": {
     "base_uri": "https://localhost:8080/"
    },
    "id": "RpTITR9vz7Th",
    "outputId": "b1c134f4-85a3-49a7-fa3a-34f5d4896d01"
   },
   "outputs": [
    {
     "name": "stdout",
     "output_type": "stream",
     "text": [
      "     Feature       Score\n",
      "1   mean_A2B  142.353080\n",
      "4   mean_X2X   79.003498\n",
      "2   mean_A2X   55.191431\n",
      "9      E_coh   34.402479\n",
      "6    std_A2X   18.021854\n",
      "7    std_B2X   16.580759\n",
      "11        OF   14.513522\n",
      "5    std_A2B    5.578229\n",
      "8    std_X2X    4.707386\n",
      "10        TF    3.235088\n",
      "0    density    0.786164\n",
      "3   mean_B2X    0.122504\n"
     ]
    }
   ],
   "source": [
    "#apply SelectKBest class to extract top 10 best features\n",
    "bestfeatures = SelectKBest(score_func=f_regression, k=10)\n",
    "fit = bestfeatures.fit(X,Y)\n",
    "dfscores = pd.DataFrame(fit.scores_)\n",
    "dfcolumns = pd.DataFrame(X.columns)\n",
    "#concat two dataframes for better visualization \n",
    "featureScores = pd.concat([dfcolumns,dfscores],axis=1)\n",
    "featureScores.columns = ['Feature','Score']  #naming the dataframe columns\n",
    "print(featureScores.nlargest(30,'Score'))  #print 10 best features"
   ]
  },
  {
   "cell_type": "code",
   "execution_count": 29,
   "metadata": {},
   "outputs": [
    {
     "data": {
      "text/plain": [
       "array(['mean_A2B', 'mean_X2X', 'mean_A2X', 'E_coh', 'std_A2X', 'std_B2X',\n",
       "       'OF', 'std_A2B', 'std_X2X', 'TF', 'density', 'mean_B2X'],\n",
       "      dtype=object)"
      ]
     },
     "execution_count": 29,
     "metadata": {},
     "output_type": "execute_result"
    }
   ],
   "source": [
    "featureScores.nlargest(40,'Score')['Feature'].values"
   ]
  },
  {
   "cell_type": "code",
   "execution_count": 30,
   "metadata": {},
   "outputs": [],
   "source": [
    "X=X[featureScores.nlargest(40,'Score')['Feature'].values]"
   ]
  },
  {
   "cell_type": "code",
   "execution_count": 31,
   "metadata": {},
   "outputs": [
    {
     "name": "stdout",
     "output_type": "stream",
     "text": [
      "RF\n",
      "R2:  0.8482797787187242\n",
      "RMSE:  0.10515697787937243\n",
      "---------------------------------------\n",
      "GB\n",
      "R2:  0.7393332515815614\n",
      "RMSE:  0.13783489505489827\n",
      "---------------------------------------\n",
      "LR\n",
      "R2:  0.7544959398371427\n",
      "RMSE:  0.13376598815062402\n",
      "---------------------------------------\n",
      "RR\n",
      "R2:  0.7565029491500898\n",
      "RMSE:  0.13321809389882233\n",
      "---------------------------------------\n",
      "LASSO\n",
      "R2:  0.665924589847622\n",
      "RMSE:  0.15604096152839914\n",
      "---------------------------------------\n",
      "gpr1\n",
      "R2:  0.7612262238748457\n",
      "RMSE:  0.13191970652704385\n",
      "---------------------------------------\n",
      "gpr2\n",
      "R2:  0.796957794018166\n",
      "RMSE:  0.12164927479706084\n",
      "---------------------------------------\n",
      "gpr3\n",
      "R2:  -0.24073118761168244\n",
      "RMSE:  0.3007150833741588\n",
      "---------------------------------------\n",
      "gpr4\n",
      "R2:  -0.24073148121390853\n",
      "RMSE:  0.30071511895423186\n",
      "---------------------------------------\n",
      "gpr5\n",
      "R2:  0.768721884592144\n",
      "RMSE:  0.1298325636078717\n",
      "---------------------------------------\n",
      "gpr6\n",
      "R2:  0.8359651308980607\n",
      "RMSE:  0.10934135482613662\n",
      "---------------------------------------\n",
      "[0.8482797787187242, 0.7393332515815614, 0.7544959398371427, 0.7565029491500898, 0.665924589847622, 0.7612262238748457, 0.796957794018166, -0.24073118761168244, -0.24073148121390853, 0.768721884592144, 0.8359651308980607]\n"
     ]
    },
    {
     "data": {
      "image/png": "[encoded data removed]",
      "text/plain": [
       "<Figure size 640x480 with 1 Axes>"
      ]
     },
     "metadata": {},
     "output_type": "display_data"
    }
   ],
   "source": [
    "run_models()"
   ]
  },
  {
   "cell_type": "code",
   "execution_count": 32,
   "metadata": {},
   "outputs": [
    {
     "data": {
      "text/plain": [
       "array(['mean_A2B', 'mean_X2X', 'mean_A2X', 'E_coh', 'std_A2X', 'std_B2X',\n",
       "       'OF', 'std_A2B', 'std_X2X', 'TF', 'density', 'mean_B2X'],\n",
       "      dtype=object)"
      ]
     },
     "execution_count": 32,
     "metadata": {},
     "output_type": "execute_result"
    }
   ],
   "source": [
    "featureScores.nlargest(30,'Score')['Feature'].values"
   ]
  },
  {
   "cell_type": "code",
   "execution_count": 33,
   "metadata": {},
   "outputs": [],
   "source": [
    "X=X[featureScores.nlargest(30,'Score')['Feature'].values]"
   ]
  },
  {
   "cell_type": "code",
   "execution_count": 34,
   "metadata": {},
   "outputs": [
    {
     "name": "stdout",
     "output_type": "stream",
     "text": [
      "RF\n",
      "R2:  0.8482797787187242\n",
      "RMSE:  0.10515697787937243\n",
      "---------------------------------------\n",
      "GB\n",
      "R2:  0.7486433694843774\n",
      "RMSE:  0.13535102083093337\n",
      "---------------------------------------\n",
      "LR\n",
      "R2:  0.7544959398371427\n",
      "RMSE:  0.13376598815062402\n",
      "---------------------------------------\n",
      "RR\n",
      "R2:  0.7565029491500898\n",
      "RMSE:  0.13321809389882233\n",
      "---------------------------------------\n",
      "LASSO\n",
      "R2:  0.665924589847622\n",
      "RMSE:  0.15604096152839914\n",
      "---------------------------------------\n",
      "gpr1\n",
      "R2:  0.7612262238748457\n",
      "RMSE:  0.13191970652704385\n",
      "---------------------------------------\n",
      "gpr2\n",
      "R2:  0.796957794018166\n",
      "RMSE:  0.12164927479706084\n",
      "---------------------------------------\n",
      "gpr3\n",
      "R2:  -0.24073149925969228\n",
      "RMSE:  0.3007151211411031\n",
      "---------------------------------------\n",
      "gpr4\n",
      "R2:  -0.24073148121390853\n",
      "RMSE:  0.30071511895423186\n",
      "---------------------------------------\n",
      "gpr5\n",
      "R2:  0.768721884592144\n",
      "RMSE:  0.1298325636078717\n",
      "---------------------------------------\n",
      "gpr6\n",
      "R2:  0.8359651308980607\n",
      "RMSE:  0.10934135482613662\n",
      "---------------------------------------\n",
      "[0.8482797787187242, 0.7486433694843774, 0.7544959398371427, 0.7565029491500898, 0.665924589847622, 0.7612262238748457, 0.796957794018166, -0.24073149925969228, -0.24073148121390853, 0.768721884592144, 0.8359651308980607]\n"
     ]
    },
    {
     "data": {
      "image/png": "[encoded data removed]",
      "text/plain": [
       "<Figure size 640x480 with 1 Axes>"
      ]
     },
     "metadata": {},
     "output_type": "display_data"
    }
   ],
   "source": [
    "run_models()"
   ]
  },
  {
   "cell_type": "code",
   "execution_count": 35,
   "metadata": {},
   "outputs": [
    {
     "data": {
      "text/plain": [
       "array(['mean_A2B', 'mean_X2X', 'mean_A2X', 'E_coh', 'std_A2X', 'std_B2X',\n",
       "       'OF', 'std_A2B', 'std_X2X', 'TF', 'density', 'mean_B2X'],\n",
       "      dtype=object)"
      ]
     },
     "execution_count": 35,
     "metadata": {},
     "output_type": "execute_result"
    }
   ],
   "source": [
    "featureScores.nlargest(20,'Score')['Feature'].values"
   ]
  },
  {
   "cell_type": "code",
   "execution_count": 36,
   "metadata": {},
   "outputs": [],
   "source": [
    "X=X[featureScores.nlargest(20,'Score')['Feature'].values]"
   ]
  },
  {
   "cell_type": "code",
   "execution_count": 37,
   "metadata": {},
   "outputs": [
    {
     "name": "stdout",
     "output_type": "stream",
     "text": [
      "RF\n",
      "R2:  0.8482797787187242\n",
      "RMSE:  0.10515697787937243\n",
      "---------------------------------------\n",
      "GB\n",
      "R2:  0.7707242944559047\n",
      "RMSE:  0.1292692954872695\n",
      "---------------------------------------\n",
      "LR\n",
      "R2:  0.7544959398371427\n",
      "RMSE:  0.13376598815062402\n",
      "---------------------------------------\n",
      "RR\n",
      "R2:  0.7565029491500898\n",
      "RMSE:  0.13321809389882233\n",
      "---------------------------------------\n",
      "LASSO\n",
      "R2:  0.665924589847622\n",
      "RMSE:  0.15604096152839914\n",
      "---------------------------------------\n",
      "gpr1\n",
      "R2:  0.7612262238748457\n",
      "RMSE:  0.13191970652704385\n",
      "---------------------------------------\n",
      "gpr2\n",
      "R2:  0.796957794018166\n",
      "RMSE:  0.12164927479706084\n",
      "---------------------------------------\n",
      "gpr3\n",
      "R2:  -0.24073148119525434\n",
      "RMSE:  0.3007151189519713\n",
      "---------------------------------------\n",
      "gpr4\n",
      "R2:  -0.24073148121390853\n",
      "RMSE:  0.30071511895423186\n",
      "---------------------------------------\n",
      "gpr5\n",
      "R2:  0.768721884592144\n",
      "RMSE:  0.1298325636078717\n",
      "---------------------------------------\n",
      "gpr6\n",
      "R2:  0.8359651308980607\n",
      "RMSE:  0.10934135482613662\n",
      "---------------------------------------\n",
      "[0.8482797787187242, 0.7707242944559047, 0.7544959398371427, 0.7565029491500898, 0.665924589847622, 0.7612262238748457, 0.796957794018166, -0.24073148119525434, -0.24073148121390853, 0.768721884592144, 0.8359651308980607]\n"
     ]
    },
    {
     "data": {
      "image/png": "[encoded data removed]",
      "text/plain": [
       "<Figure size 640x480 with 1 Axes>"
      ]
     },
     "metadata": {},
     "output_type": "display_data"
    }
   ],
   "source": [
    "run_models()"
   ]
  },
  {
   "cell_type": "code",
   "execution_count": 38,
   "metadata": {},
   "outputs": [
    {
     "data": {
      "text/plain": [
       "array(['mean_A2B', 'mean_X2X', 'mean_A2X', 'E_coh', 'std_A2X', 'std_B2X',\n",
       "       'OF', 'std_A2B', 'std_X2X', 'TF'], dtype=object)"
      ]
     },
     "execution_count": 38,
     "metadata": {},
     "output_type": "execute_result"
    }
   ],
   "source": [
    "featureScores.nlargest(10,'Score')['Feature'].values"
   ]
  },
  {
   "cell_type": "code",
   "execution_count": 39,
   "metadata": {},
   "outputs": [],
   "source": [
    "X=X[featureScores.nlargest(10,'Score')['Feature'].values]"
   ]
  },
  {
   "cell_type": "code",
   "execution_count": 40,
   "metadata": {},
   "outputs": [
    {
     "name": "stdout",
     "output_type": "stream",
     "text": [
      "RF\n",
      "R2:  0.8773223746088061\n",
      "RMSE:  0.09455816662217692\n",
      "---------------------------------------\n",
      "GB\n",
      "R2:  0.7470540944448197\n",
      "RMSE:  0.13577824458361387\n",
      "---------------------------------------\n",
      "LR\n",
      "R2:  0.6954685551505981\n",
      "RMSE:  0.14898153140707793\n",
      "---------------------------------------\n",
      "RR\n",
      "R2:  0.6980424371600937\n",
      "RMSE:  0.1483506038305225\n",
      "---------------------------------------\n",
      "LASSO\n",
      "R2:  0.665924589847622\n",
      "RMSE:  0.15604096152839914\n",
      "---------------------------------------\n",
      "gpr1\n",
      "R2:  0.7019403479455499\n",
      "RMSE:  0.14738997924965733\n",
      "---------------------------------------\n",
      "gpr2\n",
      "R2:  0.7559254175337166\n",
      "RMSE:  0.13337598512224244\n",
      "---------------------------------------\n",
      "gpr3\n",
      "R2:  -0.9423600073531546\n",
      "RMSE:  0.3762540872647385\n",
      "---------------------------------------\n",
      "gpr4\n",
      "R2:  -0.9423599758090779\n",
      "RMSE:  0.37625408420954076\n",
      "---------------------------------------\n",
      "gpr5\n",
      "R2:  0.7993649194088517\n",
      "RMSE:  0.12092603077606753\n",
      "---------------------------------------\n",
      "gpr6\n",
      "R2:  0.8207950656537655\n",
      "RMSE:  0.11428555573296856\n",
      "---------------------------------------\n",
      "[0.8773223746088061, 0.7470540944448197, 0.6954685551505981, 0.6980424371600937, 0.665924589847622, 0.7019403479455499, 0.7559254175337166, -0.9423600073531546, -0.9423599758090779, 0.7993649194088517, 0.8207950656537655]\n"
     ]
    },
    {
     "data": {
      "image/png": "[encoded data removed]",
      "text/plain": [
       "<Figure size 640x480 with 1 Axes>"
      ]
     },
     "metadata": {},
     "output_type": "display_data"
    }
   ],
   "source": [
    "run_models()"
   ]
  }
 ],
 "metadata": {
  "colab": {
   "collapsed_sections": [],
   "name": "Final_total.ipynb",
   "provenance": []
  },
  "kernelspec": {
   "display_name": "Python 3 (ipykernel)",
   "language": "python",
   "name": "python3"
  },
  "language_info": {
   "codemirror_mode": {
    "name": "ipython",
    "version": 3
   },
   "file_extension": ".py",
   "mimetype": "text/x-python",
   "name": "python",
   "nbconvert_exporter": "python",
   "pygments_lexer": "ipython3",
   "version": "3.9.13"
  }
 },
 "nbformat": 4,
 "nbformat_minor": 1
}
