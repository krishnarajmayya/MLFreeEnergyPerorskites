{
 "cells": [
  {
   "cell_type": "code",
   "execution_count": 1,
   "metadata": {
    "id": "U1Or_5CpWR5m"
   },
   "outputs": [],
   "source": [
    "import numpy as np\n",
    "import pandas as pd\n",
    "import matplotlib.pyplot as plt\n",
    "from math import sqrt\n",
    "import seaborn as sns \n",
    "import re\n",
    " \n",
    "import warnings # supress warnings\n",
    "warnings.filterwarnings('ignore')"
   ]
  },
  {
   "cell_type": "code",
   "execution_count": 2,
   "metadata": {
    "id": "wd0p9t1imwDC"
   },
   "outputs": [],
   "source": [
    "import sklearn\n",
    "\n",
    "from sklearn.preprocessing import MinMaxScaler, PolynomialFeatures, scale, StandardScaler\n",
    "\n",
    "from sklearn.model_selection import train_test_split, cross_val_score, KFold, GridSearchCV\n",
    "\n",
    "from sklearn.linear_model import LinearRegression, Ridge, Lasso, ElasticNet \n",
    "\n",
    "from sklearn.ensemble import RandomForestRegressor\n",
    "from sklearn.ensemble import GradientBoostingRegressor\n",
    "\n",
    "from sklearn.feature_selection import RFE, SelectKBest, f_regression\n",
    "from sklearn.inspection import permutation_importance\n",
    "\n",
    "from sklearn.gaussian_process import GaussianProcessRegressor\n",
    "from sklearn.gaussian_process.kernels import DotProduct, WhiteKernel, RBF, Matern, RationalQuadratic\n",
    "from sklearn.gaussian_process.kernels import Kernel, Hyperparameter, ConstantKernel\n",
    "from sklearn.gaussian_process.kernels import GenericKernelMixin\n",
    "\n",
    "from sklearn import metrics\n",
    "from sklearn.metrics import mean_squared_error\n",
    "from sklearn.metrics import r2_score  \n",
    "\n",
    "from sklearn.pipeline import make_pipeline\n",
    "\n",
    "from sklearn.base import clone"
   ]
  },
  {
   "cell_type": "code",
   "execution_count": 3,
   "metadata": {},
   "outputs": [],
   "source": [
    "def run_models():\n",
    "    rf = RandomForestRegressor(n_estimators= 100, random_state= 10)\n",
    "    gb = GradientBoostingRegressor(loss='quantile', alpha=0.5,\n",
    "                                n_estimators=100, max_depth=10,\n",
    "                                learning_rate=0.25, min_samples_leaf=9,\n",
    "                                min_samples_split=2)\n",
    "    lr = LinearRegression()\n",
    "    rr = Ridge(alpha=0.01)\n",
    "    lasso = Lasso(alpha=0.01)\n",
    "    gpr1 = GaussianProcessRegressor(kernel=DotProduct() + WhiteKernel(),random_state=0)\n",
    "    gpr2 = GaussianProcessRegressor(kernel=1.0 * RBF(length_scale=100.0, length_scale_bounds=(1e-2, 1e3))+ \n",
    "                                WhiteKernel(noise_level=1, noise_level_bounds=(1e-10, 1e+1)),alpha=0.0)\n",
    "    gpr3 = GaussianProcessRegressor(kernel=ConstantKernel(1.0, (1e-2, 1e3)) * RBF(10, (1e-3, 1e4)),\n",
    "                                n_restarts_optimizer=9)\n",
    "    gpr4 = GaussianProcessRegressor(kernel=1.0 * RBF(length_scale=1.0, length_scale_bounds=(1e-1, 10.0)))\n",
    "    gpr5 = GaussianProcessRegressor(kernel=1.0 * RationalQuadratic(length_scale=1.0, alpha=0.01))\n",
    "    gpr6 = GaussianProcessRegressor(kernel=1.0 * Matern(length_scale=1.0, length_scale_bounds=(1e-2, 10.0),nu=0.35))\n",
    "    models = [rf,gb,lr,rr,lasso,gpr1,gpr2,gpr3,gpr4,gpr5,gpr6]\n",
    "    models_names = [\"RF\",\"GB\",\"LR\",\"RR\",\"LASSO\",\"gpr1\",\"gpr2\",\"gpr3\",\"gpr4\",\"gpr5\",\"gpr6\"]\n",
    "    r2scores=[]\n",
    "    rmse=[]\n",
    "    count=0\n",
    "    for model in models :\n",
    "        predicted_y = []\n",
    "        expected_y = []\n",
    "        kf = KFold(n_splits= 10) \n",
    "        # partition data\n",
    "        for train_index, test_index in kf.split(X, Y):\n",
    "            # specific \".loc\" syntax for working with dataframes\n",
    "            x_train, x_test = X.loc[train_index], X.loc[test_index]\n",
    "            y_train, y_test = Y[train_index], Y[test_index]\n",
    "\n",
    "            # create and fit classifier\n",
    "            model.fit(x_train, y_train)\n",
    "\n",
    "            # store result from classification\n",
    "            predicted_y.extend(model.predict(x_test))\n",
    "\n",
    "            # store expected result for this specific fold\n",
    "            expected_y.extend(y_test)\n",
    "        \n",
    "        r2 = metrics.r2_score(expected_y, predicted_y)\n",
    "        r2scores.append(r2)\n",
    "        \n",
    "        err=np.sqrt(metrics.mean_squared_error(expected_y, predicted_y))\n",
    "        rmse.append(err)\n",
    "        \n",
    "        print(models_names[count])\n",
    "        print(\"R2: \",r2.__str__())\n",
    "        print(\"RMSE: \",err)\n",
    "        print(\"---------------------------------------\")\n",
    "        count+=1\n",
    "    \n",
    "    plt.rcdefaults()\n",
    "    fig, ax = plt.subplots()\n",
    "\n",
    "    x_pos = np.arange(len(models_names))\n",
    "    ax.bar(x_pos, r2scores, align='center')\n",
    "    ax.set_xticks(x_pos)\n",
    "    ax.set_xticklabels(models_names)\n",
    "    ax.set_ylabel('R2 Score')\n",
    "    #plt.savefig('imp.eps', format='eps')\n",
    "    #plt.show()\n",
    "    print(r2scores)"
   ]
  },
  {
   "cell_type": "markdown",
   "metadata": {},
   "source": [
    "# Standard Scaling"
   ]
  },
  {
   "cell_type": "code",
   "execution_count": 4,
   "metadata": {
    "id": "hjdsOVHoYDJB"
   },
   "outputs": [],
   "source": [
    "data_std = pd.read_csv('scaled_standard_Coeff_B.csv', encoding='cp1252')   "
   ]
  },
  {
   "cell_type": "code",
   "execution_count": 5,
   "metadata": {},
   "outputs": [
    {
     "data": {
      "text/plain": [
       "array(['Name', 'density', 'mean_A2B', 'mean_A2X', 'mean_B2X', 'mean_X2X',\n",
       "       'std_A2B', 'std_A2X', 'std_B2X', 'std_X2X', 'E_coh', 'TF', 'OF',\n",
       "       'A_Z', 'B_Z', 'X_Z', 'A_G', 'B_G', 'X_G', 'A_IEI', 'B_IEI',\n",
       "       'X_IEI', 'A_IEII', 'B_IEII', 'X_IEII', 'A_EA', 'B_EA', 'X_EA',\n",
       "       'A_ChiP', 'B_ChiP', 'X_ChiP', 'A_ChiA', 'B_ChiA', 'A_Rvdw',\n",
       "       'B_Rvdw', 'X_Rvdw', 'B_Rc', 'B_Ra', 'A_MP', 'B_MP', 'A_Rho',\n",
       "       'B_Rho', 'X_Rho', 'B_MV', 'X_MV', 'B_Hf', 'A_Kappa', 'B_Kappa',\n",
       "       'X_Kappa', 'A_CvM', 'B_CvM', 'A_B', 'B_B', 'B_MendeleevNo',\n",
       "       'Coeff_B'], dtype=object)"
      ]
     },
     "execution_count": 5,
     "metadata": {},
     "output_type": "execute_result"
    }
   ],
   "source": [
    "data_std.columns.values"
   ]
  },
  {
   "cell_type": "code",
   "execution_count": 6,
   "metadata": {},
   "outputs": [],
   "source": [
    "data_std.drop(['A_Z', 'B_Z', 'X_Z', 'A_G', 'B_G', 'X_G', 'A_IEI', 'B_IEI',\n",
    "       'X_IEI', 'A_IEII', 'B_IEII', 'X_IEII', 'A_EA', 'B_EA', 'X_EA',\n",
    "       'A_ChiP', 'B_ChiP', 'X_ChiP', 'A_ChiA', 'B_ChiA', 'A_Rvdw',\n",
    "       'B_Rvdw', 'X_Rvdw', 'B_Rc', 'B_Ra', 'A_MP', 'B_MP', 'A_Rho',\n",
    "       'B_Rho', 'X_Rho', 'B_MV', 'X_MV', 'B_Hf', 'A_Kappa', 'B_Kappa',\n",
    "       'X_Kappa', 'A_CvM', 'B_CvM', 'A_B', 'B_B', 'B_MendeleevNo'\n",
    "          ], axis=1, inplace = True)"
   ]
  },
  {
   "cell_type": "code",
   "execution_count": 7,
   "metadata": {},
   "outputs": [],
   "source": [
    "data_std.fillna(0, inplace= True)"
   ]
  },
  {
   "cell_type": "code",
   "execution_count": 8,
   "metadata": {},
   "outputs": [],
   "source": [
    "Y = data_std['Coeff_B'] \n",
    "X = data_std.drop(['Coeff_B','Name'], axis=1)"
   ]
  },
  {
   "cell_type": "markdown",
   "metadata": {
    "id": "ZaJDp0jdzwnZ"
   },
   "source": [
    "### Using CV technique"
   ]
  },
  {
   "cell_type": "code",
   "execution_count": 9,
   "metadata": {},
   "outputs": [
    {
     "name": "stdout",
     "output_type": "stream",
     "text": [
      "RF\n",
      "R2:  0.8290482207863523\n",
      "RMSE:  0.4134631533929567\n",
      "---------------------------------------\n",
      "GB\n",
      "R2:  0.7191630624252262\n",
      "RMSE:  0.5299405038065819\n",
      "---------------------------------------\n",
      "LR\n",
      "R2:  0.7324638117455715\n",
      "RMSE:  0.517239004962337\n",
      "---------------------------------------\n",
      "RR\n",
      "R2:  0.7325727540314673\n",
      "RMSE:  0.5171336828795169\n",
      "---------------------------------------\n",
      "LASSO\n",
      "R2:  0.7331899688516358\n",
      "RMSE:  0.5165365729049244\n",
      "---------------------------------------\n",
      "gpr1\n",
      "R2:  0.7400510088085523\n",
      "RMSE:  0.5098519306538396\n",
      "---------------------------------------\n",
      "gpr2\n",
      "R2:  0.7852909665341683\n",
      "RMSE:  0.4633670612655065\n",
      "---------------------------------------\n",
      "gpr3\n",
      "R2:  0.503714444454599\n",
      "RMSE:  0.7044753761100533\n",
      "---------------------------------------\n",
      "gpr4\n",
      "R2:  0.5037139547238922\n",
      "RMSE:  0.7044757236953646\n",
      "---------------------------------------\n",
      "gpr5\n",
      "R2:  0.7710304059129207\n",
      "RMSE:  0.4785076740106466\n",
      "---------------------------------------\n",
      "gpr6\n",
      "R2:  0.8256331178945349\n",
      "RMSE:  0.4175726069864559\n",
      "---------------------------------------\n",
      "[0.8290482207863523, 0.7191630624252262, 0.7324638117455715, 0.7325727540314673, 0.7331899688516358, 0.7400510088085523, 0.7852909665341683, 0.503714444454599, 0.5037139547238922, 0.7710304059129207, 0.8256331178945349]\n"
     ]
    },
    {
     "data": {
      "image/png": "[encoded data removed]",
      "text/plain": [
       "<Figure size 640x480 with 1 Axes>"
      ]
     },
     "metadata": {},
     "output_type": "display_data"
    }
   ],
   "source": [
    "run_models()"
   ]
  },
  {
   "cell_type": "markdown",
   "metadata": {
    "id": "_x7bQR-jz4WE"
   },
   "source": [
    "## Feature selection\n"
   ]
  },
  {
   "cell_type": "code",
   "execution_count": 10,
   "metadata": {
    "colab": {
     "base_uri": "https://localhost:8080/"
    },
    "id": "RpTITR9vz7Th",
    "outputId": "b1c134f4-85a3-49a7-fa3a-34f5d4896d01"
   },
   "outputs": [
    {
     "name": "stdout",
     "output_type": "stream",
     "text": [
      "     Feature       Score\n",
      "1   mean_A2B  123.813866\n",
      "4   mean_X2X   73.889589\n",
      "2   mean_A2X   50.449602\n",
      "9      E_coh   31.896431\n",
      "6    std_A2X   16.320932\n",
      "7    std_B2X   15.556831\n",
      "11        OF   15.234473\n",
      "5    std_A2B    5.573858\n",
      "8    std_X2X    4.457868\n",
      "10        TF    3.748590\n",
      "0    density    0.519052\n",
      "3   mean_B2X    0.216528\n"
     ]
    }
   ],
   "source": [
    "#apply SelectKBest class to extract top 10 best features\n",
    "bestfeatures = SelectKBest(score_func=f_regression, k=10)\n",
    "fit = bestfeatures.fit(X,Y)\n",
    "dfscores = pd.DataFrame(fit.scores_)\n",
    "dfcolumns = pd.DataFrame(X.columns)\n",
    "#concat two dataframes for better visualization \n",
    "featureScores = pd.concat([dfcolumns,dfscores],axis=1)\n",
    "featureScores.columns = ['Feature','Score']  #naming the dataframe columns\n",
    "print(featureScores.nlargest(30,'Score'))  #print 10 best features"
   ]
  },
  {
   "cell_type": "code",
   "execution_count": 11,
   "metadata": {},
   "outputs": [
    {
     "data": {
      "text/plain": [
       "array(['mean_A2B', 'mean_X2X', 'mean_A2X', 'E_coh', 'std_A2X', 'std_B2X',\n",
       "       'OF', 'std_A2B', 'std_X2X', 'TF', 'density', 'mean_B2X'],\n",
       "      dtype=object)"
      ]
     },
     "execution_count": 11,
     "metadata": {},
     "output_type": "execute_result"
    }
   ],
   "source": [
    "featureScores.nlargest(40,'Score')['Feature'].values"
   ]
  },
  {
   "cell_type": "code",
   "execution_count": 12,
   "metadata": {},
   "outputs": [],
   "source": [
    "X=X[featureScores.nlargest(40,'Score')['Feature'].values]"
   ]
  },
  {
   "cell_type": "code",
   "execution_count": 13,
   "metadata": {},
   "outputs": [
    {
     "name": "stdout",
     "output_type": "stream",
     "text": [
      "RF\n",
      "R2:  0.8405348490776499\n",
      "RMSE:  0.3993308789992957\n",
      "---------------------------------------\n",
      "GB\n",
      "R2:  0.730915755620253\n",
      "RMSE:  0.5187333075673346\n",
      "---------------------------------------\n",
      "LR\n",
      "R2:  0.7324638117455714\n",
      "RMSE:  0.5172390049623371\n",
      "---------------------------------------\n",
      "RR\n",
      "R2:  0.7325727540314673\n",
      "RMSE:  0.5171336828795168\n",
      "---------------------------------------\n",
      "LASSO\n",
      "R2:  0.733166921084627\n",
      "RMSE:  0.5165588823313108\n",
      "---------------------------------------\n",
      "gpr1\n",
      "R2:  0.740051008808556\n",
      "RMSE:  0.509851930653836\n",
      "---------------------------------------\n",
      "gpr2\n",
      "R2:  0.7852909665341994\n",
      "RMSE:  0.463367061265473\n",
      "---------------------------------------\n",
      "gpr3\n",
      "R2:  0.503713454616179\n",
      "RMSE:  0.7044760786455571\n",
      "---------------------------------------\n",
      "gpr4\n",
      "R2:  0.5037139547238934\n",
      "RMSE:  0.7044757236953639\n",
      "---------------------------------------\n",
      "gpr5\n",
      "R2:  0.7710304059207733\n",
      "RMSE:  0.47850767400244126\n",
      "---------------------------------------\n",
      "gpr6\n",
      "R2:  0.8256331178945345\n",
      "RMSE:  0.41757260698645626\n",
      "---------------------------------------\n",
      "[0.8405348490776499, 0.730915755620253, 0.7324638117455714, 0.7325727540314673, 0.733166921084627, 0.740051008808556, 0.7852909665341994, 0.503713454616179, 0.5037139547238934, 0.7710304059207733, 0.8256331178945345]\n"
     ]
    },
    {
     "data": {
      "image/png": "[encoded data removed]",
      "text/plain": [
       "<Figure size 640x480 with 1 Axes>"
      ]
     },
     "metadata": {},
     "output_type": "display_data"
    }
   ],
   "source": [
    "run_models()"
   ]
  },
  {
   "cell_type": "code",
   "execution_count": 14,
   "metadata": {},
   "outputs": [
    {
     "data": {
      "text/plain": [
       "array(['mean_A2B', 'mean_X2X', 'mean_A2X', 'E_coh', 'std_A2X', 'std_B2X',\n",
       "       'OF', 'std_A2B', 'std_X2X', 'TF', 'density', 'mean_B2X'],\n",
       "      dtype=object)"
      ]
     },
     "execution_count": 14,
     "metadata": {},
     "output_type": "execute_result"
    }
   ],
   "source": [
    "featureScores.nlargest(30,'Score')['Feature'].values"
   ]
  },
  {
   "cell_type": "code",
   "execution_count": 15,
   "metadata": {},
   "outputs": [],
   "source": [
    "X=X[featureScores.nlargest(30,'Score')['Feature'].values]"
   ]
  },
  {
   "cell_type": "code",
   "execution_count": 16,
   "metadata": {},
   "outputs": [
    {
     "name": "stdout",
     "output_type": "stream",
     "text": [
      "RF\n",
      "R2:  0.8405348490776499\n",
      "RMSE:  0.3993308789992957\n",
      "---------------------------------------\n",
      "GB\n",
      "R2:  0.7308725592583154\n",
      "RMSE:  0.5187749422839201\n",
      "---------------------------------------\n",
      "LR\n",
      "R2:  0.7324638117455714\n",
      "RMSE:  0.5172390049623371\n",
      "---------------------------------------\n",
      "RR\n",
      "R2:  0.7325727540314673\n",
      "RMSE:  0.5171336828795168\n",
      "---------------------------------------\n",
      "LASSO\n",
      "R2:  0.733166921084627\n",
      "RMSE:  0.5165588823313108\n",
      "---------------------------------------\n",
      "gpr1\n",
      "R2:  0.740051008808556\n",
      "RMSE:  0.509851930653836\n",
      "---------------------------------------\n",
      "gpr2\n",
      "R2:  0.7852909665341994\n",
      "RMSE:  0.463367061265473\n",
      "---------------------------------------\n",
      "gpr3\n",
      "R2:  0.5037136724207512\n",
      "RMSE:  0.7044759240593313\n",
      "---------------------------------------\n",
      "gpr4\n",
      "R2:  0.5037139547238934\n",
      "RMSE:  0.7044757236953639\n",
      "---------------------------------------\n",
      "gpr5\n",
      "R2:  0.7710304059207733\n",
      "RMSE:  0.47850767400244126\n",
      "---------------------------------------\n",
      "gpr6\n",
      "R2:  0.8256331178945345\n",
      "RMSE:  0.41757260698645626\n",
      "---------------------------------------\n",
      "[0.8405348490776499, 0.7308725592583154, 0.7324638117455714, 0.7325727540314673, 0.733166921084627, 0.740051008808556, 0.7852909665341994, 0.5037136724207512, 0.5037139547238934, 0.7710304059207733, 0.8256331178945345]\n"
     ]
    },
    {
     "data": {
      "image/png": "[encoded data removed]",
      "text/plain": [
       "<Figure size 640x480 with 1 Axes>"
      ]
     },
     "metadata": {},
     "output_type": "display_data"
    }
   ],
   "source": [
    "run_models()"
   ]
  },
  {
   "cell_type": "code",
   "execution_count": 17,
   "metadata": {},
   "outputs": [
    {
     "data": {
      "text/plain": [
       "array(['mean_A2B', 'mean_X2X', 'mean_A2X', 'E_coh', 'std_A2X', 'std_B2X',\n",
       "       'OF', 'std_A2B', 'std_X2X', 'TF', 'density', 'mean_B2X'],\n",
       "      dtype=object)"
      ]
     },
     "execution_count": 17,
     "metadata": {},
     "output_type": "execute_result"
    }
   ],
   "source": [
    "featureScores.nlargest(20,'Score')['Feature'].values"
   ]
  },
  {
   "cell_type": "code",
   "execution_count": 18,
   "metadata": {},
   "outputs": [],
   "source": [
    "X=X[featureScores.nlargest(20,'Score')['Feature'].values]"
   ]
  },
  {
   "cell_type": "code",
   "execution_count": 19,
   "metadata": {},
   "outputs": [
    {
     "name": "stdout",
     "output_type": "stream",
     "text": [
      "RF\n",
      "R2:  0.8405348490776499\n",
      "RMSE:  0.3993308789992957\n",
      "---------------------------------------\n",
      "GB\n",
      "R2:  0.7251295509276683\n",
      "RMSE:  0.5242808875710917\n",
      "---------------------------------------\n",
      "LR\n",
      "R2:  0.7324638117455714\n",
      "RMSE:  0.5172390049623371\n",
      "---------------------------------------\n",
      "RR\n",
      "R2:  0.7325727540314673\n",
      "RMSE:  0.5171336828795168\n",
      "---------------------------------------\n",
      "LASSO\n",
      "R2:  0.733166921084627\n",
      "RMSE:  0.5165588823313108\n",
      "---------------------------------------\n",
      "gpr1\n",
      "R2:  0.740051008808556\n",
      "RMSE:  0.509851930653836\n",
      "---------------------------------------\n",
      "gpr2\n",
      "R2:  0.7852909665341994\n",
      "RMSE:  0.463367061265473\n",
      "---------------------------------------\n",
      "gpr3\n",
      "R2:  0.5037139503894169\n",
      "RMSE:  0.7044757267717484\n",
      "---------------------------------------\n",
      "gpr4\n",
      "R2:  0.5037139547238934\n",
      "RMSE:  0.7044757236953639\n",
      "---------------------------------------\n",
      "gpr5\n",
      "R2:  0.7710304059207733\n",
      "RMSE:  0.47850767400244126\n",
      "---------------------------------------\n",
      "gpr6\n",
      "R2:  0.8256331178945345\n",
      "RMSE:  0.41757260698645626\n",
      "---------------------------------------\n",
      "[0.8405348490776499, 0.7251295509276683, 0.7324638117455714, 0.7325727540314673, 0.733166921084627, 0.740051008808556, 0.7852909665341994, 0.5037139503894169, 0.5037139547238934, 0.7710304059207733, 0.8256331178945345]\n"
     ]
    },
    {
     "data": {
      "image/png": "[encoded data removed]",
      "text/plain": [
       "<Figure size 640x480 with 1 Axes>"
      ]
     },
     "metadata": {},
     "output_type": "display_data"
    }
   ],
   "source": [
    "run_models()"
   ]
  },
  {
   "cell_type": "code",
   "execution_count": 20,
   "metadata": {},
   "outputs": [
    {
     "data": {
      "text/plain": [
       "array(['mean_A2B', 'mean_X2X', 'mean_A2X', 'E_coh', 'std_A2X', 'std_B2X',\n",
       "       'OF', 'std_A2B', 'std_X2X', 'TF'], dtype=object)"
      ]
     },
     "execution_count": 20,
     "metadata": {},
     "output_type": "execute_result"
    }
   ],
   "source": [
    "featureScores.nlargest(10,'Score')['Feature'].values"
   ]
  },
  {
   "cell_type": "code",
   "execution_count": 21,
   "metadata": {},
   "outputs": [],
   "source": [
    "X=X[featureScores.nlargest(10,'Score')['Feature'].values]"
   ]
  },
  {
   "cell_type": "code",
   "execution_count": 22,
   "metadata": {},
   "outputs": [
    {
     "name": "stdout",
     "output_type": "stream",
     "text": [
      "RF\n",
      "R2:  0.8640119500254738\n",
      "RMSE:  0.3687655759076845\n",
      "---------------------------------------\n",
      "GB\n",
      "R2:  0.6645917913600636\n",
      "RMSE:  0.5791443763345513\n",
      "---------------------------------------\n",
      "LR\n",
      "R2:  0.656726606184012\n",
      "RMSE:  0.5858953778755964\n",
      "---------------------------------------\n",
      "RR\n",
      "R2:  0.6568469596311709\n",
      "RMSE:  0.5857926598796106\n",
      "---------------------------------------\n",
      "LASSO\n",
      "R2:  0.6728592260861702\n",
      "RMSE:  0.5719622137115613\n",
      "---------------------------------------\n",
      "gpr1\n",
      "R2:  0.6744763422945363\n",
      "RMSE:  0.5705468058849016\n",
      "---------------------------------------\n",
      "gpr2\n",
      "R2:  0.7415709035100122\n",
      "RMSE:  0.5083592199321144\n",
      "---------------------------------------\n",
      "gpr3\n",
      "R2:  0.4161644395758456\n",
      "RMSE:  0.7640913298972541\n",
      "---------------------------------------\n",
      "gpr4\n",
      "R2:  0.416164608147529\n",
      "RMSE:  0.7640912195886503\n",
      "---------------------------------------\n",
      "gpr5\n",
      "R2:  0.8037876348979793\n",
      "RMSE:  0.4429586494268067\n",
      "---------------------------------------\n",
      "gpr6\n",
      "R2:  0.8157783660058451\n",
      "RMSE:  0.4292104774981093\n",
      "---------------------------------------\n",
      "[0.8640119500254738, 0.6645917913600636, 0.656726606184012, 0.6568469596311709, 0.6728592260861702, 0.6744763422945363, 0.7415709035100122, 0.4161644395758456, 0.416164608147529, 0.8037876348979793, 0.8157783660058451]\n"
     ]
    },
    {
     "data": {
      "image/png": "[encoded data removed]",
      "text/plain": [
       "<Figure size 640x480 with 1 Axes>"
      ]
     },
     "metadata": {},
     "output_type": "display_data"
    }
   ],
   "source": [
    "run_models()"
   ]
  },
  {
   "cell_type": "markdown",
   "metadata": {},
   "source": [
    "# Min-Max scaling"
   ]
  },
  {
   "cell_type": "code",
   "execution_count": 23,
   "metadata": {},
   "outputs": [],
   "source": [
    "data_mm = pd.read_csv('scaled_minmax_Coeff_B.csv', encoding='cp1252')"
   ]
  },
  {
   "cell_type": "code",
   "execution_count": 24,
   "metadata": {},
   "outputs": [],
   "source": [
    "data_mm.drop(['A_Z', 'B_Z', 'X_Z', 'A_G', 'B_G', 'X_G', 'A_IEI', 'B_IEI',\n",
    "       'X_IEI', 'A_IEII', 'B_IEII', 'X_IEII', 'A_EA', 'B_EA', 'X_EA',\n",
    "       'A_ChiP', 'B_ChiP', 'X_ChiP', 'A_ChiA', 'B_ChiA', 'A_Rvdw',\n",
    "       'B_Rvdw', 'X_Rvdw', 'B_Rc', 'B_Ra', 'A_MP', 'B_MP', 'A_Rho',\n",
    "       'B_Rho', 'X_Rho', 'B_MV', 'X_MV', 'B_Hf', 'A_Kappa', 'B_Kappa',\n",
    "       'X_Kappa', 'A_CvM', 'B_CvM', 'A_B', 'B_B', 'B_MendeleevNo'\n",
    "          ], axis=1, inplace = True)"
   ]
  },
  {
   "cell_type": "code",
   "execution_count": 25,
   "metadata": {},
   "outputs": [],
   "source": [
    "data_mm.fillna(0, inplace= True)"
   ]
  },
  {
   "cell_type": "code",
   "execution_count": 26,
   "metadata": {},
   "outputs": [],
   "source": [
    "Y = data_mm['Coeff_B'] \n",
    "X = data_mm.drop(['Coeff_B','Name'], axis=1)"
   ]
  },
  {
   "cell_type": "markdown",
   "metadata": {
    "id": "ZaJDp0jdzwnZ"
   },
   "source": [
    "### Using CV technique"
   ]
  },
  {
   "cell_type": "code",
   "execution_count": 27,
   "metadata": {},
   "outputs": [
    {
     "name": "stdout",
     "output_type": "stream",
     "text": [
      "RF\n",
      "R2:  0.8427162352564153\n",
      "RMSE:  0.10714612749413133\n",
      "---------------------------------------\n",
      "GB\n",
      "R2:  0.7083538723024152\n",
      "RMSE:  0.14590246811809104\n",
      "---------------------------------------\n",
      "LR\n",
      "R2:  0.7324638117455717\n",
      "RMSE:  0.13974162812202182\n",
      "---------------------------------------\n",
      "RR\n",
      "R2:  0.7344357568550874\n",
      "RMSE:  0.1392256746002555\n",
      "---------------------------------------\n",
      "LASSO\n",
      "R2:  0.6267541578185725\n",
      "RMSE:  0.165056267740283\n",
      "---------------------------------------\n",
      "gpr1\n",
      "R2:  0.7369589245455126\n",
      "RMSE:  0.1385626935414095\n",
      "---------------------------------------\n",
      "gpr2\n",
      "R2:  0.750520970190337\n",
      "RMSE:  0.13494337086325553\n",
      "---------------------------------------\n",
      "gpr3\n",
      "R2:  -0.4276075481130228\n",
      "RMSE:  0.32280403082537606\n",
      "---------------------------------------\n",
      "gpr4\n",
      "R2:  -0.18796488641347064\n",
      "RMSE:  0.2944667976307778\n",
      "---------------------------------------\n",
      "gpr5\n",
      "R2:  0.7497020659620968\n",
      "RMSE:  0.13516466233418434\n",
      "---------------------------------------\n",
      "gpr6\n",
      "R2:  0.8135603308993085\n",
      "RMSE:  0.11665508999569295\n",
      "---------------------------------------\n",
      "[0.8427162352564153, 0.7083538723024152, 0.7324638117455717, 0.7344357568550874, 0.6267541578185725, 0.7369589245455126, 0.750520970190337, -0.4276075481130228, -0.18796488641347064, 0.7497020659620968, 0.8135603308993085]\n"
     ]
    },
    {
     "data": {
      "image/png": "[encoded data removed]",
      "text/plain": [
       "<Figure size 640x480 with 1 Axes>"
      ]
     },
     "metadata": {},
     "output_type": "display_data"
    }
   ],
   "source": [
    "run_models()"
   ]
  },
  {
   "cell_type": "markdown",
   "metadata": {
    "id": "_x7bQR-jz4WE"
   },
   "source": [
    "## Feature selection\n"
   ]
  },
  {
   "cell_type": "code",
   "execution_count": 28,
   "metadata": {
    "colab": {
     "base_uri": "https://localhost:8080/"
    },
    "id": "RpTITR9vz7Th",
    "outputId": "b1c134f4-85a3-49a7-fa3a-34f5d4896d01"
   },
   "outputs": [
    {
     "name": "stdout",
     "output_type": "stream",
     "text": [
      "     Feature       Score\n",
      "1   mean_A2B  123.813866\n",
      "4   mean_X2X   73.889589\n",
      "2   mean_A2X   50.449602\n",
      "9      E_coh   31.896431\n",
      "6    std_A2X   16.320932\n",
      "7    std_B2X   15.556831\n",
      "11        OF   15.234473\n",
      "5    std_A2B    5.573858\n",
      "8    std_X2X    4.457868\n",
      "10        TF    3.748590\n",
      "0    density    0.519052\n",
      "3   mean_B2X    0.216528\n"
     ]
    }
   ],
   "source": [
    "#apply SelectKBest class to extract top 10 best features\n",
    "bestfeatures = SelectKBest(score_func=f_regression, k=10)\n",
    "fit = bestfeatures.fit(X,Y)\n",
    "dfscores = pd.DataFrame(fit.scores_)\n",
    "dfcolumns = pd.DataFrame(X.columns)\n",
    "#concat two dataframes for better visualization \n",
    "featureScores = pd.concat([dfcolumns,dfscores],axis=1)\n",
    "featureScores.columns = ['Feature','Score']  #naming the dataframe columns\n",
    "print(featureScores.nlargest(30,'Score'))  #print 10 best features"
   ]
  },
  {
   "cell_type": "code",
   "execution_count": 29,
   "metadata": {},
   "outputs": [
    {
     "data": {
      "text/plain": [
       "array(['mean_A2B', 'mean_X2X', 'mean_A2X', 'E_coh', 'std_A2X', 'std_B2X',\n",
       "       'OF', 'std_A2B', 'std_X2X', 'TF', 'density', 'mean_B2X'],\n",
       "      dtype=object)"
      ]
     },
     "execution_count": 29,
     "metadata": {},
     "output_type": "execute_result"
    }
   ],
   "source": [
    "featureScores.nlargest(40,'Score')['Feature'].values"
   ]
  },
  {
   "cell_type": "code",
   "execution_count": 30,
   "metadata": {},
   "outputs": [],
   "source": [
    "X=X[featureScores.nlargest(40,'Score')['Feature'].values]"
   ]
  },
  {
   "cell_type": "code",
   "execution_count": 31,
   "metadata": {},
   "outputs": [
    {
     "name": "stdout",
     "output_type": "stream",
     "text": [
      "RF\n",
      "R2:  0.8405910988082123\n",
      "RMSE:  0.10786755017995549\n",
      "---------------------------------------\n",
      "GB\n",
      "R2:  0.730756753050334\n",
      "RMSE:  0.14018674145368018\n",
      "---------------------------------------\n",
      "LR\n",
      "R2:  0.7324638117455717\n",
      "RMSE:  0.1397416281220218\n",
      "---------------------------------------\n",
      "RR\n",
      "R2:  0.7344357568550874\n",
      "RMSE:  0.1392256746002555\n",
      "---------------------------------------\n",
      "LASSO\n",
      "R2:  0.6267542534553168\n",
      "RMSE:  0.16505624659410628\n",
      "---------------------------------------\n",
      "gpr1\n",
      "R2:  0.7369589245454992\n",
      "RMSE:  0.13856269354141304\n",
      "---------------------------------------\n",
      "gpr2\n",
      "R2:  0.7505209701910407\n",
      "RMSE:  0.13494337086306524\n",
      "---------------------------------------\n",
      "gpr3\n",
      "R2:  -1.2803880005953285\n",
      "RMSE:  0.40798002934894095\n",
      "---------------------------------------\n",
      "gpr4\n",
      "R2:  -0.18796488641362408\n",
      "RMSE:  0.2944667976307968\n",
      "---------------------------------------\n",
      "gpr5\n",
      "R2:  0.7497020659621036\n",
      "RMSE:  0.1351646623341825\n",
      "---------------------------------------\n",
      "gpr6\n",
      "R2:  0.8135603308993072\n",
      "RMSE:  0.11665508999569336\n",
      "---------------------------------------\n",
      "[0.8405910988082123, 0.730756753050334, 0.7324638117455717, 0.7344357568550874, 0.6267542534553168, 0.7369589245454992, 0.7505209701910407, -1.2803880005953285, -0.18796488641362408, 0.7497020659621036, 0.8135603308993072]\n"
     ]
    },
    {
     "data": {
      "image/png": "[encoded data removed]",
      "text/plain": [
       "<Figure size 640x480 with 1 Axes>"
      ]
     },
     "metadata": {},
     "output_type": "display_data"
    }
   ],
   "source": [
    "run_models()"
   ]
  },
  {
   "cell_type": "code",
   "execution_count": 32,
   "metadata": {},
   "outputs": [
    {
     "data": {
      "text/plain": [
       "array(['mean_A2B', 'mean_X2X', 'mean_A2X', 'E_coh', 'std_A2X', 'std_B2X',\n",
       "       'OF', 'std_A2B', 'std_X2X', 'TF', 'density', 'mean_B2X'],\n",
       "      dtype=object)"
      ]
     },
     "execution_count": 32,
     "metadata": {},
     "output_type": "execute_result"
    }
   ],
   "source": [
    "featureScores.nlargest(30,'Score')['Feature'].values"
   ]
  },
  {
   "cell_type": "code",
   "execution_count": 33,
   "metadata": {},
   "outputs": [],
   "source": [
    "X=X[featureScores.nlargest(30,'Score')['Feature'].values]"
   ]
  },
  {
   "cell_type": "code",
   "execution_count": 34,
   "metadata": {},
   "outputs": [
    {
     "name": "stdout",
     "output_type": "stream",
     "text": [
      "RF\n",
      "R2:  0.8405910988082123\n",
      "RMSE:  0.10786755017995549\n",
      "---------------------------------------\n",
      "GB\n",
      "R2:  0.7185950222420122\n",
      "RMSE:  0.14331789441572904\n",
      "---------------------------------------\n",
      "LR\n",
      "R2:  0.7324638117455717\n",
      "RMSE:  0.1397416281220218\n",
      "---------------------------------------\n",
      "RR\n",
      "R2:  0.7344357568550874\n",
      "RMSE:  0.1392256746002555\n",
      "---------------------------------------\n",
      "LASSO\n",
      "R2:  0.6267542534553168\n",
      "RMSE:  0.16505624659410628\n",
      "---------------------------------------\n",
      "gpr1\n",
      "R2:  0.7369589245454992\n",
      "RMSE:  0.13856269354141304\n",
      "---------------------------------------\n",
      "gpr2\n",
      "R2:  0.7505209701910407\n",
      "RMSE:  0.13494337086306524\n",
      "---------------------------------------\n",
      "gpr3\n",
      "R2:  -0.18796474378827988\n",
      "RMSE:  0.29446677995416765\n",
      "---------------------------------------\n",
      "gpr4\n",
      "R2:  -0.18796488641362408\n",
      "RMSE:  0.2944667976307968\n",
      "---------------------------------------\n",
      "gpr5\n",
      "R2:  0.7497020659621036\n",
      "RMSE:  0.1351646623341825\n",
      "---------------------------------------\n",
      "gpr6\n",
      "R2:  0.8135603308993072\n",
      "RMSE:  0.11665508999569336\n",
      "---------------------------------------\n",
      "[0.8405910988082123, 0.7185950222420122, 0.7324638117455717, 0.7344357568550874, 0.6267542534553168, 0.7369589245454992, 0.7505209701910407, -0.18796474378827988, -0.18796488641362408, 0.7497020659621036, 0.8135603308993072]\n"
     ]
    },
    {
     "data": {
      "image/png": "[encoded data removed]",
      "text/plain": [
       "<Figure size 640x480 with 1 Axes>"
      ]
     },
     "metadata": {},
     "output_type": "display_data"
    }
   ],
   "source": [
    "run_models()"
   ]
  },
  {
   "cell_type": "code",
   "execution_count": 35,
   "metadata": {},
   "outputs": [
    {
     "data": {
      "text/plain": [
       "array(['mean_A2B', 'mean_X2X', 'mean_A2X', 'E_coh', 'std_A2X', 'std_B2X',\n",
       "       'OF', 'std_A2B', 'std_X2X', 'TF', 'density', 'mean_B2X'],\n",
       "      dtype=object)"
      ]
     },
     "execution_count": 35,
     "metadata": {},
     "output_type": "execute_result"
    }
   ],
   "source": [
    "featureScores.nlargest(20,'Score')['Feature'].values"
   ]
  },
  {
   "cell_type": "code",
   "execution_count": 36,
   "metadata": {},
   "outputs": [],
   "source": [
    "X=X[featureScores.nlargest(20,'Score')['Feature'].values]"
   ]
  },
  {
   "cell_type": "code",
   "execution_count": 37,
   "metadata": {},
   "outputs": [
    {
     "name": "stdout",
     "output_type": "stream",
     "text": [
      "RF\n",
      "R2:  0.8405910988082123\n",
      "RMSE:  0.10786755017995549\n",
      "---------------------------------------\n",
      "GB\n",
      "R2:  0.7206928775439785\n",
      "RMSE:  0.14278268239501432\n",
      "---------------------------------------\n",
      "LR\n",
      "R2:  0.7324638117455717\n",
      "RMSE:  0.1397416281220218\n",
      "---------------------------------------\n",
      "RR\n",
      "R2:  0.7344357568550874\n",
      "RMSE:  0.1392256746002555\n",
      "---------------------------------------\n",
      "LASSO\n",
      "R2:  0.6267542534553168\n",
      "RMSE:  0.16505624659410628\n",
      "---------------------------------------\n",
      "gpr1\n",
      "R2:  0.7369589245454992\n",
      "RMSE:  0.13856269354141304\n",
      "---------------------------------------\n",
      "gpr2\n",
      "R2:  0.7505209701910407\n",
      "RMSE:  0.13494337086306524\n",
      "---------------------------------------\n",
      "gpr3\n",
      "R2:  -0.18796468072086392\n",
      "RMSE:  0.2944667721377492\n",
      "---------------------------------------\n",
      "gpr4\n",
      "R2:  -0.18796488641362408\n",
      "RMSE:  0.2944667976307968\n",
      "---------------------------------------\n",
      "gpr5\n",
      "R2:  0.7497020659621036\n",
      "RMSE:  0.1351646623341825\n",
      "---------------------------------------\n",
      "gpr6\n",
      "R2:  0.8135603308993072\n",
      "RMSE:  0.11665508999569336\n",
      "---------------------------------------\n",
      "[0.8405910988082123, 0.7206928775439785, 0.7324638117455717, 0.7344357568550874, 0.6267542534553168, 0.7369589245454992, 0.7505209701910407, -0.18796468072086392, -0.18796488641362408, 0.7497020659621036, 0.8135603308993072]\n"
     ]
    },
    {
     "data": {
      "image/png": "[encoded data removed]",
      "text/plain": [
       "<Figure size 640x480 with 1 Axes>"
      ]
     },
     "metadata": {},
     "output_type": "display_data"
    }
   ],
   "source": [
    "run_models()"
   ]
  },
  {
   "cell_type": "code",
   "execution_count": 38,
   "metadata": {},
   "outputs": [
    {
     "data": {
      "text/plain": [
       "array(['mean_A2B', 'mean_X2X', 'mean_A2X', 'E_coh', 'std_A2X', 'std_B2X',\n",
       "       'OF', 'std_A2B', 'std_X2X', 'TF'], dtype=object)"
      ]
     },
     "execution_count": 38,
     "metadata": {},
     "output_type": "execute_result"
    }
   ],
   "source": [
    "featureScores.nlargest(10,'Score')['Feature'].values"
   ]
  },
  {
   "cell_type": "code",
   "execution_count": 39,
   "metadata": {},
   "outputs": [],
   "source": [
    "X=X[featureScores.nlargest(10,'Score')['Feature'].values]"
   ]
  },
  {
   "cell_type": "code",
   "execution_count": 40,
   "metadata": {},
   "outputs": [
    {
     "name": "stdout",
     "output_type": "stream",
     "text": [
      "RF\n",
      "R2:  0.8735649310597899\n",
      "RMSE:  0.09606568993680403\n",
      "---------------------------------------\n",
      "GB\n",
      "R2:  0.6700288266612118\n",
      "RMSE:  0.15519314415433888\n",
      "---------------------------------------\n",
      "LR\n",
      "R2:  0.6567266061840121\n",
      "RMSE:  0.15829040971004257\n",
      "---------------------------------------\n",
      "RR\n",
      "R2:  0.659408655518767\n",
      "RMSE:  0.15767082309777236\n",
      "---------------------------------------\n",
      "LASSO\n",
      "R2:  0.6267542534553168\n",
      "RMSE:  0.16505624659410628\n",
      "---------------------------------------\n",
      "gpr1\n",
      "R2:  0.6624427400463611\n",
      "RMSE:  0.15696696378721187\n",
      "---------------------------------------\n",
      "gpr2\n",
      "R2:  0.7046428617764802\n",
      "RMSE:  0.14682779170065458\n",
      "---------------------------------------\n",
      "gpr3\n",
      "R2:  -0.638078767771503\n",
      "RMSE:  0.34578163374006127\n",
      "---------------------------------------\n",
      "gpr4\n",
      "R2:  -0.6380798845604345\n",
      "RMSE:  0.345781751611388\n",
      "---------------------------------------\n",
      "gpr5\n",
      "R2:  0.7769570571425086\n",
      "RMSE:  0.12759356579579095\n",
      "---------------------------------------\n",
      "gpr6\n",
      "R2:  0.7988714613110589\n",
      "RMSE:  0.12116338012094381\n",
      "---------------------------------------\n",
      "[0.8735649310597899, 0.6700288266612118, 0.6567266061840121, 0.659408655518767, 0.6267542534553168, 0.6624427400463611, 0.7046428617764802, -0.638078767771503, -0.6380798845604345, 0.7769570571425086, 0.7988714613110589]\n"
     ]
    },
    {
     "data": {
      "image/png": "[encoded data removed]",
      "text/plain": [
       "<Figure size 640x480 with 1 Axes>"
      ]
     },
     "metadata": {},
     "output_type": "display_data"
    }
   ],
   "source": [
    "run_models()"
   ]
  }
 ],
 "metadata": {
  "colab": {
   "collapsed_sections": [],
   "name": "Final_total.ipynb",
   "provenance": []
  },
  "kernelspec": {
   "display_name": "Python 3 (ipykernel)",
   "language": "python",
   "name": "python3"
  },
  "language_info": {
   "codemirror_mode": {
    "name": "ipython",
    "version": 3
   },
   "file_extension": ".py",
   "mimetype": "text/x-python",
   "name": "python",
   "nbconvert_exporter": "python",
   "pygments_lexer": "ipython3",
   "version": "3.9.13"
  }
 },
 "nbformat": 4,
 "nbformat_minor": 1
}
