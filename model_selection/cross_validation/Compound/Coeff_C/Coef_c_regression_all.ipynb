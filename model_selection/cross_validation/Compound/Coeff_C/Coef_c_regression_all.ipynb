{
 "cells": [
  {
   "cell_type": "code",
   "execution_count": 1,
   "metadata": {
    "id": "U1Or_5CpWR5m"
   },
   "outputs": [],
   "source": [
    "import numpy as np\n",
    "import pandas as pd\n",
    "import matplotlib.pyplot as plt\n",
    "from math import sqrt\n",
    "import seaborn as sns \n",
    "import re\n",
    " \n",
    "import warnings # supress warnings\n",
    "warnings.filterwarnings('ignore')"
   ]
  },
  {
   "cell_type": "code",
   "execution_count": 2,
   "metadata": {
    "id": "wd0p9t1imwDC"
   },
   "outputs": [],
   "source": [
    "import sklearn\n",
    "\n",
    "from sklearn.preprocessing import MinMaxScaler, PolynomialFeatures, scale, StandardScaler\n",
    "\n",
    "from sklearn.model_selection import train_test_split, cross_val_score, KFold, GridSearchCV\n",
    "\n",
    "from sklearn.linear_model import LinearRegression, Ridge, Lasso, ElasticNet \n",
    "\n",
    "from sklearn.ensemble import RandomForestRegressor\n",
    "from sklearn.ensemble import GradientBoostingRegressor\n",
    "\n",
    "from sklearn.feature_selection import RFE, SelectKBest, f_regression\n",
    "from sklearn.inspection import permutation_importance\n",
    "\n",
    "from sklearn.gaussian_process import GaussianProcessRegressor\n",
    "from sklearn.gaussian_process.kernels import DotProduct, WhiteKernel, RBF, Matern, RationalQuadratic\n",
    "from sklearn.gaussian_process.kernels import Kernel, Hyperparameter, ConstantKernel\n",
    "from sklearn.gaussian_process.kernels import GenericKernelMixin\n",
    "\n",
    "from sklearn import metrics\n",
    "from sklearn.metrics import mean_squared_error\n",
    "from sklearn.metrics import r2_score  \n",
    "\n",
    "from sklearn.pipeline import make_pipeline\n",
    "\n",
    "from sklearn.base import clone"
   ]
  },
  {
   "cell_type": "code",
   "execution_count": 3,
   "metadata": {},
   "outputs": [],
   "source": [
    "def run_models():\n",
    "    rf = RandomForestRegressor(n_estimators= 100, random_state= 10)\n",
    "    gb = GradientBoostingRegressor(loss='quantile', alpha=0.5,\n",
    "                                n_estimators=100, max_depth=10,\n",
    "                                learning_rate=0.25, min_samples_leaf=9,\n",
    "                                min_samples_split=2)\n",
    "    lr = LinearRegression()\n",
    "    rr = Ridge(alpha=0.01)\n",
    "    lasso = Lasso(alpha=0.01)\n",
    "    gpr1 = GaussianProcessRegressor(kernel=DotProduct() + WhiteKernel(),random_state=0)\n",
    "    gpr2 = GaussianProcessRegressor(kernel=1.0 * RBF(length_scale=100.0, length_scale_bounds=(1e-2, 1e3))+ \n",
    "                                WhiteKernel(noise_level=1, noise_level_bounds=(1e-10, 1e+1)),alpha=0.0)\n",
    "    gpr3 = GaussianProcessRegressor(kernel=ConstantKernel(1.0, (1e-2, 1e3)) * RBF(10, (1e-3, 1e4)),\n",
    "                                n_restarts_optimizer=9)\n",
    "    gpr4 = GaussianProcessRegressor(kernel=1.0 * RBF(length_scale=1.0, length_scale_bounds=(1e-1, 10.0)))\n",
    "    gpr5 = GaussianProcessRegressor(kernel=1.0 * RationalQuadratic(length_scale=1.0, alpha=0.01))\n",
    "    gpr6 = GaussianProcessRegressor(kernel=1.0 * Matern(length_scale=1.0, length_scale_bounds=(1e-2, 10.0),nu=0.35))\n",
    "    models = [rf,gb,lr,rr,lasso,gpr1,gpr2,gpr3,gpr4,gpr5,gpr6]\n",
    "    models_names = [\"RF\",\"GB\",\"LR\",\"RR\",\"LASSO\",\"gpr1\",\"gpr2\",\"gpr3\",\"gpr4\",\"gpr5\",\"gpr6\"]\n",
    "    r2scores=[]\n",
    "    rmse=[]\n",
    "    count=0\n",
    "    for model in models :\n",
    "        predicted_y = []\n",
    "        expected_y = []\n",
    "        kf = KFold(n_splits= 10) \n",
    "        # partition data\n",
    "        for train_index, test_index in kf.split(X, Y):\n",
    "            # specific \".loc\" syntax for working with dataframes\n",
    "            x_train, x_test = X.loc[train_index], X.loc[test_index]\n",
    "            y_train, y_test = Y[train_index], Y[test_index]\n",
    "\n",
    "            # create and fit classifier\n",
    "            model.fit(x_train, y_train)\n",
    "\n",
    "            # store result from classification\n",
    "            predicted_y.extend(model.predict(x_test))\n",
    "\n",
    "            # store expected result for this specific fold\n",
    "            expected_y.extend(y_test)\n",
    "        \n",
    "        r2 = metrics.r2_score(expected_y, predicted_y)\n",
    "        r2scores.append(r2)\n",
    "        \n",
    "        err=np.sqrt(metrics.mean_squared_error(expected_y, predicted_y))\n",
    "        rmse.append(err)\n",
    "        \n",
    "        print(models_names[count])\n",
    "        print(\"R2: \",r2.__str__())\n",
    "        print(\"RMSE: \",err)\n",
    "        print(\"---------------------------------------\")\n",
    "        count+=1\n",
    "    \n",
    "    plt.rcdefaults()\n",
    "    fig, ax = plt.subplots()\n",
    "\n",
    "    x_pos = np.arange(len(models_names))\n",
    "    ax.bar(x_pos, r2scores, align='center')\n",
    "    ax.set_xticks(x_pos)\n",
    "    ax.set_xticklabels(models_names)\n",
    "    ax.set_ylabel('R2 Score')\n",
    "    #plt.savefig('imp.eps', format='eps')\n",
    "    #plt.show()\n",
    "    print(r2scores)"
   ]
  },
  {
   "cell_type": "markdown",
   "metadata": {},
   "source": [
    "# Standard Scaling"
   ]
  },
  {
   "cell_type": "code",
   "execution_count": 4,
   "metadata": {
    "id": "hjdsOVHoYDJB"
   },
   "outputs": [],
   "source": [
    "data_std = pd.read_csv('scaled_standard_Coeff_C.csv', encoding='cp1252')   "
   ]
  },
  {
   "cell_type": "code",
   "execution_count": 5,
   "metadata": {},
   "outputs": [
    {
     "data": {
      "text/plain": [
       "array(['Name', 'density', 'mean_A2B', 'mean_A2X', 'mean_B2X', 'mean_X2X',\n",
       "       'std_A2B', 'std_A2X', 'std_B2X', 'std_X2X', 'E_coh', 'TF', 'OF',\n",
       "       'A_Z', 'B_Z', 'X_Z', 'A_G', 'B_G', 'X_G', 'A_IEI', 'B_IEI',\n",
       "       'X_IEI', 'A_IEII', 'B_IEII', 'X_IEII', 'A_EA', 'B_EA', 'X_EA',\n",
       "       'A_ChiP', 'B_ChiP', 'X_ChiP', 'A_ChiA', 'B_ChiA', 'A_Rvdw',\n",
       "       'B_Rvdw', 'X_Rvdw', 'B_Rc', 'B_Ra', 'A_MP', 'B_MP', 'A_Rho',\n",
       "       'B_Rho', 'X_Rho', 'B_MV', 'X_MV', 'B_Hf', 'A_Kappa', 'B_Kappa',\n",
       "       'X_Kappa', 'A_CvM', 'B_CvM', 'A_B', 'B_B', 'B_MendeleevNo',\n",
       "       'Coeff_C'], dtype=object)"
      ]
     },
     "execution_count": 5,
     "metadata": {},
     "output_type": "execute_result"
    }
   ],
   "source": [
    "data_std.columns.values"
   ]
  },
  {
   "cell_type": "code",
   "execution_count": 6,
   "metadata": {},
   "outputs": [],
   "source": [
    "data_std.drop(['A_Z', 'B_Z', 'X_Z', 'A_G', 'B_G', 'X_G', 'A_IEI', 'B_IEI',\n",
    "       'X_IEI', 'A_IEII', 'B_IEII', 'X_IEII', 'A_EA', 'B_EA', 'X_EA',\n",
    "       'A_ChiP', 'B_ChiP', 'X_ChiP', 'A_ChiA', 'B_ChiA', 'A_Rvdw',\n",
    "       'B_Rvdw', 'X_Rvdw', 'B_Rc', 'B_Ra', 'A_MP', 'B_MP', 'A_Rho',\n",
    "       'B_Rho', 'X_Rho', 'B_MV', 'X_MV', 'B_Hf', 'A_Kappa', 'B_Kappa',\n",
    "       'X_Kappa', 'A_CvM', 'B_CvM', 'A_B', 'B_B', 'B_MendeleevNo'\n",
    "          ], axis=1, inplace = True)"
   ]
  },
  {
   "cell_type": "code",
   "execution_count": 7,
   "metadata": {},
   "outputs": [],
   "source": [
    "data_std.fillna(0, inplace= True)"
   ]
  },
  {
   "cell_type": "code",
   "execution_count": 8,
   "metadata": {},
   "outputs": [],
   "source": [
    "Y = data_std['Coeff_C'] \n",
    "X = data_std.drop(['Coeff_C','Name'], axis=1)"
   ]
  },
  {
   "cell_type": "markdown",
   "metadata": {
    "id": "ZaJDp0jdzwnZ"
   },
   "source": [
    "### Using CV technique"
   ]
  },
  {
   "cell_type": "code",
   "execution_count": 9,
   "metadata": {},
   "outputs": [
    {
     "name": "stdout",
     "output_type": "stream",
     "text": [
      "RF\n",
      "R2:  0.9008372673747731\n",
      "RMSE:  0.31490114738632957\n",
      "---------------------------------------\n",
      "GB\n",
      "R2:  0.89060482901605\n",
      "RMSE:  0.3307494081384728\n",
      "---------------------------------------\n",
      "LR\n",
      "R2:  0.7898220185602088\n",
      "RMSE:  0.45845172203820017\n",
      "---------------------------------------\n",
      "RR\n",
      "R2:  0.7901013674712555\n",
      "RMSE:  0.4581469551669469\n",
      "---------------------------------------\n",
      "LASSO\n",
      "R2:  0.8201449410831614\n",
      "RMSE:  0.4240932196072446\n",
      "---------------------------------------\n",
      "gpr1\n",
      "R2:  0.8092133199681941\n",
      "RMSE:  0.4367913461045284\n",
      "---------------------------------------\n",
      "gpr2\n",
      "R2:  0.9154324101386038\n",
      "RMSE:  0.29080507193203536\n",
      "---------------------------------------\n",
      "gpr3\n",
      "R2:  0.8368220791771456\n",
      "RMSE:  0.4039528695564056\n",
      "---------------------------------------\n",
      "gpr4\n",
      "R2:  0.8368220175732745\n",
      "RMSE:  0.4039529458077085\n",
      "---------------------------------------\n",
      "gpr5\n",
      "R2:  0.9155234977411864\n",
      "RMSE:  0.2906484169212239\n",
      "---------------------------------------\n",
      "gpr6\n",
      "R2:  0.9152786547559038\n",
      "RMSE:  0.29106931347034204\n",
      "---------------------------------------\n",
      "[0.9008372673747731, 0.89060482901605, 0.7898220185602088, 0.7901013674712555, 0.8201449410831614, 0.8092133199681941, 0.9154324101386038, 0.8368220791771456, 0.8368220175732745, 0.9155234977411864, 0.9152786547559038]\n"
     ]
    },
    {
     "data": {
      "image/png": "[encoded data removed]",
      "text/plain": [
       "<Figure size 640x480 with 1 Axes>"
      ]
     },
     "metadata": {},
     "output_type": "display_data"
    }
   ],
   "source": [
    "run_models()"
   ]
  },
  {
   "cell_type": "markdown",
   "metadata": {
    "id": "_x7bQR-jz4WE"
   },
   "source": [
    "## Feature selection\n"
   ]
  },
  {
   "cell_type": "code",
   "execution_count": 10,
   "metadata": {
    "colab": {
     "base_uri": "https://localhost:8080/"
    },
    "id": "RpTITR9vz7Th",
    "outputId": "b1c134f4-85a3-49a7-fa3a-34f5d4896d01"
   },
   "outputs": [
    {
     "name": "stdout",
     "output_type": "stream",
     "text": [
      "     Feature       Score\n",
      "1   mean_A2B  368.385508\n",
      "4   mean_X2X  150.127121\n",
      "2   mean_A2X   99.679846\n",
      "9      E_coh   44.870201\n",
      "6    std_A2X   17.303038\n",
      "7    std_B2X   10.212695\n",
      "11        OF    4.883700\n",
      "0    density    4.063805\n",
      "5    std_A2B    2.834262\n",
      "10        TF    2.337026\n",
      "8    std_X2X    1.479729\n",
      "3   mean_B2X    0.423421\n"
     ]
    }
   ],
   "source": [
    "#apply SelectKBest class to extract top 10 best features\n",
    "bestfeatures = SelectKBest(score_func=f_regression, k=10)\n",
    "fit = bestfeatures.fit(X,Y)\n",
    "dfscores = pd.DataFrame(fit.scores_)\n",
    "dfcolumns = pd.DataFrame(X.columns)\n",
    "#concat two dataframes for better visualization \n",
    "featureScores = pd.concat([dfcolumns,dfscores],axis=1)\n",
    "featureScores.columns = ['Feature','Score']  #naming the dataframe columns\n",
    "print(featureScores.nlargest(30,'Score'))  #print 10 best features"
   ]
  },
  {
   "cell_type": "code",
   "execution_count": 11,
   "metadata": {},
   "outputs": [
    {
     "data": {
      "text/plain": [
       "array(['mean_A2B', 'mean_X2X', 'mean_A2X', 'E_coh', 'std_A2X', 'std_B2X',\n",
       "       'OF', 'density', 'std_A2B', 'TF', 'std_X2X', 'mean_B2X'],\n",
       "      dtype=object)"
      ]
     },
     "execution_count": 11,
     "metadata": {},
     "output_type": "execute_result"
    }
   ],
   "source": [
    "featureScores.nlargest(40,'Score')['Feature'].values"
   ]
  },
  {
   "cell_type": "code",
   "execution_count": 12,
   "metadata": {},
   "outputs": [],
   "source": [
    "X=X[featureScores.nlargest(40,'Score')['Feature'].values]"
   ]
  },
  {
   "cell_type": "code",
   "execution_count": 13,
   "metadata": {},
   "outputs": [
    {
     "name": "stdout",
     "output_type": "stream",
     "text": [
      "RF\n",
      "R2:  0.9015021045140341\n",
      "RMSE:  0.3138437437419549\n",
      "---------------------------------------\n",
      "GB\n",
      "R2:  0.90651995520002\n",
      "RMSE:  0.3057450650459954\n",
      "---------------------------------------\n",
      "LR\n",
      "R2:  0.7898220185602087\n",
      "RMSE:  0.4584517220382002\n",
      "---------------------------------------\n",
      "RR\n",
      "R2:  0.7901013674712556\n",
      "RMSE:  0.4581469551669469\n",
      "---------------------------------------\n",
      "LASSO\n",
      "R2:  0.8200693592455341\n",
      "RMSE:  0.4241823201813884\n",
      "---------------------------------------\n",
      "gpr1\n",
      "R2:  0.8092133199691671\n",
      "RMSE:  0.43679134610341463\n",
      "---------------------------------------\n",
      "gpr2\n",
      "R2:  0.9154324101386029\n",
      "RMSE:  0.2908050719320369\n",
      "---------------------------------------\n",
      "gpr3\n",
      "R2:  0.7769709650260974\n",
      "RMSE:  0.4722594996121333\n",
      "---------------------------------------\n",
      "gpr4\n",
      "R2:  0.836822017573265\n",
      "RMSE:  0.40395294580772023\n",
      "---------------------------------------\n",
      "gpr5\n",
      "R2:  0.9155234977422831\n",
      "RMSE:  0.2906484169193371\n",
      "---------------------------------------\n",
      "gpr6\n",
      "R2:  0.9152786547559039\n",
      "RMSE:  0.29106931347034193\n",
      "---------------------------------------\n",
      "[0.9015021045140341, 0.90651995520002, 0.7898220185602087, 0.7901013674712556, 0.8200693592455341, 0.8092133199691671, 0.9154324101386029, 0.7769709650260974, 0.836822017573265, 0.9155234977422831, 0.9152786547559039]\n"
     ]
    },
    {
     "data": {
      "image/png": "[encoded data removed]",
      "text/plain": [
       "<Figure size 640x480 with 1 Axes>"
      ]
     },
     "metadata": {},
     "output_type": "display_data"
    }
   ],
   "source": [
    "run_models()"
   ]
  },
  {
   "cell_type": "code",
   "execution_count": 14,
   "metadata": {},
   "outputs": [
    {
     "data": {
      "text/plain": [
       "array(['mean_A2B', 'mean_X2X', 'mean_A2X', 'E_coh', 'std_A2X', 'std_B2X',\n",
       "       'OF', 'density', 'std_A2B', 'TF', 'std_X2X', 'mean_B2X'],\n",
       "      dtype=object)"
      ]
     },
     "execution_count": 14,
     "metadata": {},
     "output_type": "execute_result"
    }
   ],
   "source": [
    "featureScores.nlargest(30,'Score')['Feature'].values"
   ]
  },
  {
   "cell_type": "code",
   "execution_count": 15,
   "metadata": {},
   "outputs": [],
   "source": [
    "X=X[featureScores.nlargest(30,'Score')['Feature'].values]"
   ]
  },
  {
   "cell_type": "code",
   "execution_count": 16,
   "metadata": {},
   "outputs": [
    {
     "name": "stdout",
     "output_type": "stream",
     "text": [
      "RF\n",
      "R2:  0.9015021045140341\n",
      "RMSE:  0.3138437437419549\n",
      "---------------------------------------\n",
      "GB\n",
      "R2:  0.8935693011005095\n",
      "RMSE:  0.3262371819696377\n",
      "---------------------------------------\n",
      "LR\n",
      "R2:  0.7898220185602087\n",
      "RMSE:  0.4584517220382002\n",
      "---------------------------------------\n",
      "RR\n",
      "R2:  0.7901013674712556\n",
      "RMSE:  0.4581469551669469\n",
      "---------------------------------------\n",
      "LASSO\n",
      "R2:  0.8200693592455341\n",
      "RMSE:  0.4241823201813884\n",
      "---------------------------------------\n",
      "gpr1\n",
      "R2:  0.8092133199691671\n",
      "RMSE:  0.43679134610341463\n",
      "---------------------------------------\n",
      "gpr2\n",
      "R2:  0.9154324101386029\n",
      "RMSE:  0.2908050719320369\n",
      "---------------------------------------\n",
      "gpr3\n",
      "R2:  0.7928483293981816\n",
      "RMSE:  0.45513917717750724\n",
      "---------------------------------------\n",
      "gpr4\n",
      "R2:  0.836822017573265\n",
      "RMSE:  0.40395294580772023\n",
      "---------------------------------------\n",
      "gpr5\n",
      "R2:  0.9155234977422831\n",
      "RMSE:  0.2906484169193371\n",
      "---------------------------------------\n",
      "gpr6\n",
      "R2:  0.9152786547559039\n",
      "RMSE:  0.29106931347034193\n",
      "---------------------------------------\n",
      "[0.9015021045140341, 0.8935693011005095, 0.7898220185602087, 0.7901013674712556, 0.8200693592455341, 0.8092133199691671, 0.9154324101386029, 0.7928483293981816, 0.836822017573265, 0.9155234977422831, 0.9152786547559039]\n"
     ]
    },
    {
     "data": {
      "image/png": "[encoded data removed]",
      "text/plain": [
       "<Figure size 640x480 with 1 Axes>"
      ]
     },
     "metadata": {},
     "output_type": "display_data"
    }
   ],
   "source": [
    "run_models()"
   ]
  },
  {
   "cell_type": "code",
   "execution_count": 17,
   "metadata": {},
   "outputs": [
    {
     "data": {
      "text/plain": [
       "array(['mean_A2B', 'mean_X2X', 'mean_A2X', 'E_coh', 'std_A2X', 'std_B2X',\n",
       "       'OF', 'density', 'std_A2B', 'TF', 'std_X2X', 'mean_B2X'],\n",
       "      dtype=object)"
      ]
     },
     "execution_count": 17,
     "metadata": {},
     "output_type": "execute_result"
    }
   ],
   "source": [
    "featureScores.nlargest(20,'Score')['Feature'].values"
   ]
  },
  {
   "cell_type": "code",
   "execution_count": 18,
   "metadata": {},
   "outputs": [],
   "source": [
    "X=X[featureScores.nlargest(20,'Score')['Feature'].values]"
   ]
  },
  {
   "cell_type": "code",
   "execution_count": 19,
   "metadata": {},
   "outputs": [
    {
     "name": "stdout",
     "output_type": "stream",
     "text": [
      "RF\n",
      "R2:  0.9015021045140341\n",
      "RMSE:  0.3138437437419549\n",
      "---------------------------------------\n",
      "GB\n",
      "R2:  0.8860861551379229\n",
      "RMSE:  0.33751125145997296\n",
      "---------------------------------------\n",
      "LR\n",
      "R2:  0.7898220185602087\n",
      "RMSE:  0.4584517220382002\n",
      "---------------------------------------\n",
      "RR\n",
      "R2:  0.7901013674712556\n",
      "RMSE:  0.4581469551669469\n",
      "---------------------------------------\n",
      "LASSO\n",
      "R2:  0.8200693592455341\n",
      "RMSE:  0.4241823201813884\n",
      "---------------------------------------\n",
      "gpr1\n",
      "R2:  0.8092133199691671\n",
      "RMSE:  0.43679134610341463\n",
      "---------------------------------------\n",
      "gpr2\n",
      "R2:  0.9154324101386029\n",
      "RMSE:  0.2908050719320369\n",
      "---------------------------------------\n",
      "gpr3\n",
      "R2:  0.7751779780012682\n",
      "RMSE:  0.47415400662520163\n",
      "---------------------------------------\n",
      "gpr4\n",
      "R2:  0.836822017573265\n",
      "RMSE:  0.40395294580772023\n",
      "---------------------------------------\n",
      "gpr5\n",
      "R2:  0.9155234977422831\n",
      "RMSE:  0.2906484169193371\n",
      "---------------------------------------\n",
      "gpr6\n",
      "R2:  0.9152786547559039\n",
      "RMSE:  0.29106931347034193\n",
      "---------------------------------------\n",
      "[0.9015021045140341, 0.8860861551379229, 0.7898220185602087, 0.7901013674712556, 0.8200693592455341, 0.8092133199691671, 0.9154324101386029, 0.7751779780012682, 0.836822017573265, 0.9155234977422831, 0.9152786547559039]\n"
     ]
    },
    {
     "data": {
      "image/png": "[encoded data removed]",
      "text/plain": [
       "<Figure size 640x480 with 1 Axes>"
      ]
     },
     "metadata": {},
     "output_type": "display_data"
    }
   ],
   "source": [
    "run_models()"
   ]
  },
  {
   "cell_type": "code",
   "execution_count": 20,
   "metadata": {},
   "outputs": [
    {
     "data": {
      "text/plain": [
       "array(['mean_A2B', 'mean_X2X', 'mean_A2X', 'E_coh', 'std_A2X', 'std_B2X',\n",
       "       'OF', 'density', 'std_A2B', 'TF'], dtype=object)"
      ]
     },
     "execution_count": 20,
     "metadata": {},
     "output_type": "execute_result"
    }
   ],
   "source": [
    "featureScores.nlargest(10,'Score')['Feature'].values"
   ]
  },
  {
   "cell_type": "code",
   "execution_count": 21,
   "metadata": {},
   "outputs": [],
   "source": [
    "X=X[featureScores.nlargest(10,'Score')['Feature'].values]"
   ]
  },
  {
   "cell_type": "code",
   "execution_count": 22,
   "metadata": {},
   "outputs": [
    {
     "name": "stdout",
     "output_type": "stream",
     "text": [
      "RF\n",
      "R2:  0.905712910575318\n",
      "RMSE:  0.3070620286272498\n",
      "---------------------------------------\n",
      "GB\n",
      "R2:  0.8897104703863455\n",
      "RMSE:  0.3320986745135464\n",
      "---------------------------------------\n",
      "LR\n",
      "R2:  0.8158329933938084\n",
      "RMSE:  0.4291468357173237\n",
      "---------------------------------------\n",
      "RR\n",
      "R2:  0.8159411724870104\n",
      "RMSE:  0.4290207774840161\n",
      "---------------------------------------\n",
      "LASSO\n",
      "R2:  0.8238026660260844\n",
      "RMSE:  0.41975866158295727\n",
      "---------------------------------------\n",
      "gpr1\n",
      "R2:  0.8311102382674554\n",
      "RMSE:  0.4109619954844299\n",
      "---------------------------------------\n",
      "gpr2\n",
      "R2:  0.9226908320040171\n",
      "RMSE:  0.2780452624951248\n",
      "---------------------------------------\n",
      "gpr3\n",
      "R2:  0.7366835298981631\n",
      "RMSE:  0.5131437129127053\n",
      "---------------------------------------\n",
      "gpr4\n",
      "R2:  0.8387583146964415\n",
      "RMSE:  0.40154910696396595\n",
      "---------------------------------------\n",
      "gpr5\n",
      "R2:  0.9127567674920218\n",
      "RMSE:  0.2953696540065993\n",
      "---------------------------------------\n",
      "gpr6\n",
      "R2:  0.9158239255029844\n",
      "RMSE:  0.29013113327772255\n",
      "---------------------------------------\n",
      "[0.905712910575318, 0.8897104703863455, 0.8158329933938084, 0.8159411724870104, 0.8238026660260844, 0.8311102382674554, 0.9226908320040171, 0.7366835298981631, 0.8387583146964415, 0.9127567674920218, 0.9158239255029844]\n"
     ]
    },
    {
     "data": {
      "image/png": "[encoded data removed]",
      "text/plain": [
       "<Figure size 640x480 with 1 Axes>"
      ]
     },
     "metadata": {},
     "output_type": "display_data"
    }
   ],
   "source": [
    "run_models()"
   ]
  },
  {
   "cell_type": "markdown",
   "metadata": {},
   "source": [
    "# Min-Max scaling"
   ]
  },
  {
   "cell_type": "code",
   "execution_count": 23,
   "metadata": {},
   "outputs": [],
   "source": [
    "data_mm = pd.read_csv('scaled_minmax_Coeff_C.csv', encoding='cp1252')"
   ]
  },
  {
   "cell_type": "code",
   "execution_count": 24,
   "metadata": {},
   "outputs": [],
   "source": [
    "data_mm.drop(['A_Z', 'B_Z', 'X_Z', 'A_G', 'B_G', 'X_G', 'A_IEI', 'B_IEI',\n",
    "       'X_IEI', 'A_IEII', 'B_IEII', 'X_IEII', 'A_EA', 'B_EA', 'X_EA',\n",
    "       'A_ChiP', 'B_ChiP', 'X_ChiP', 'A_ChiA', 'B_ChiA', 'A_Rvdw',\n",
    "       'B_Rvdw', 'X_Rvdw', 'B_Rc', 'B_Ra', 'A_MP', 'B_MP', 'A_Rho',\n",
    "       'B_Rho', 'X_Rho', 'B_MV', 'X_MV', 'B_Hf', 'A_Kappa', 'B_Kappa',\n",
    "       'X_Kappa', 'A_CvM', 'B_CvM', 'A_B', 'B_B', 'B_MendeleevNo'\n",
    "          ], axis=1, inplace = True)"
   ]
  },
  {
   "cell_type": "code",
   "execution_count": 25,
   "metadata": {},
   "outputs": [],
   "source": [
    "data_mm.fillna(0, inplace= True)"
   ]
  },
  {
   "cell_type": "code",
   "execution_count": 26,
   "metadata": {},
   "outputs": [],
   "source": [
    "Y = data_mm['Coeff_C'] \n",
    "X = data_mm.drop(['Coeff_C','Name'], axis=1)"
   ]
  },
  {
   "cell_type": "markdown",
   "metadata": {
    "id": "ZaJDp0jdzwnZ"
   },
   "source": [
    "### Using CV technique"
   ]
  },
  {
   "cell_type": "code",
   "execution_count": 27,
   "metadata": {},
   "outputs": [
    {
     "name": "stdout",
     "output_type": "stream",
     "text": [
      "RF\n",
      "R2:  0.8956400093030108\n",
      "RMSE:  0.07858447004095283\n",
      "---------------------------------------\n",
      "GB\n",
      "R2:  0.8885640006287496\n",
      "RMSE:  0.08120494358392318\n",
      "---------------------------------------\n",
      "LR\n",
      "R2:  0.789822018560209\n",
      "RMSE:  0.1115227117954698\n",
      "---------------------------------------\n",
      "RR\n",
      "R2:  0.7963582591138108\n",
      "RMSE:  0.10977491598335717\n",
      "---------------------------------------\n",
      "LASSO\n",
      "R2:  0.807755776205331\n",
      "RMSE:  0.10665871884282366\n",
      "---------------------------------------\n",
      "gpr1\n",
      "R2:  0.7951790152782949\n",
      "RMSE:  0.11009229818367844\n",
      "---------------------------------------\n",
      "gpr2\n",
      "R2:  0.8614893065549909\n",
      "RMSE:  0.09053392822766433\n",
      "---------------------------------------\n",
      "gpr3\n",
      "R2:  -0.66347897458007\n",
      "RMSE:  0.3137461251438382\n",
      "---------------------------------------\n",
      "gpr4\n",
      "R2:  0.5451143335289127\n",
      "RMSE:  0.1640668496556088\n",
      "---------------------------------------\n",
      "gpr5\n",
      "R2:  0.9178242472341497\n",
      "RMSE:  0.06973351524459892\n",
      "---------------------------------------\n",
      "gpr6\n",
      "R2:  0.9169791594002239\n",
      "RMSE:  0.07009116459590643\n",
      "---------------------------------------\n",
      "[0.8956400093030108, 0.8885640006287496, 0.789822018560209, 0.7963582591138108, 0.807755776205331, 0.7951790152782949, 0.8614893065549909, -0.66347897458007, 0.5451143335289127, 0.9178242472341497, 0.9169791594002239]\n"
     ]
    },
    {
     "data": {
      "image/png": "[encoded data removed]",
      "text/plain": [
       "<Figure size 640x480 with 1 Axes>"
      ]
     },
     "metadata": {},
     "output_type": "display_data"
    }
   ],
   "source": [
    "run_models()"
   ]
  },
  {
   "cell_type": "markdown",
   "metadata": {
    "id": "_x7bQR-jz4WE"
   },
   "source": [
    "## Feature selection\n"
   ]
  },
  {
   "cell_type": "code",
   "execution_count": 28,
   "metadata": {
    "colab": {
     "base_uri": "https://localhost:8080/"
    },
    "id": "RpTITR9vz7Th",
    "outputId": "b1c134f4-85a3-49a7-fa3a-34f5d4896d01"
   },
   "outputs": [
    {
     "name": "stdout",
     "output_type": "stream",
     "text": [
      "     Feature       Score\n",
      "1   mean_A2B  368.385508\n",
      "4   mean_X2X  150.127121\n",
      "2   mean_A2X   99.679846\n",
      "9      E_coh   44.870201\n",
      "6    std_A2X   17.303038\n",
      "7    std_B2X   10.212695\n",
      "11        OF    4.883700\n",
      "0    density    4.063805\n",
      "5    std_A2B    2.834262\n",
      "10        TF    2.337026\n",
      "8    std_X2X    1.479729\n",
      "3   mean_B2X    0.423421\n"
     ]
    }
   ],
   "source": [
    "#apply SelectKBest class to extract top 10 best features\n",
    "bestfeatures = SelectKBest(score_func=f_regression, k=10)\n",
    "fit = bestfeatures.fit(X,Y)\n",
    "dfscores = pd.DataFrame(fit.scores_)\n",
    "dfcolumns = pd.DataFrame(X.columns)\n",
    "#concat two dataframes for better visualization \n",
    "featureScores = pd.concat([dfcolumns,dfscores],axis=1)\n",
    "featureScores.columns = ['Feature','Score']  #naming the dataframe columns\n",
    "print(featureScores.nlargest(30,'Score'))  #print 10 best features"
   ]
  },
  {
   "cell_type": "code",
   "execution_count": 29,
   "metadata": {},
   "outputs": [
    {
     "data": {
      "text/plain": [
       "array(['mean_A2B', 'mean_X2X', 'mean_A2X', 'E_coh', 'std_A2X', 'std_B2X',\n",
       "       'OF', 'density', 'std_A2B', 'TF', 'std_X2X', 'mean_B2X'],\n",
       "      dtype=object)"
      ]
     },
     "execution_count": 29,
     "metadata": {},
     "output_type": "execute_result"
    }
   ],
   "source": [
    "featureScores.nlargest(40,'Score')['Feature'].values"
   ]
  },
  {
   "cell_type": "code",
   "execution_count": 30,
   "metadata": {},
   "outputs": [],
   "source": [
    "X=X[featureScores.nlargest(40,'Score')['Feature'].values]"
   ]
  },
  {
   "cell_type": "code",
   "execution_count": 31,
   "metadata": {},
   "outputs": [
    {
     "name": "stdout",
     "output_type": "stream",
     "text": [
      "RF\n",
      "R2:  0.8966996678529939\n",
      "RMSE:  0.07818448356013297\n",
      "---------------------------------------\n",
      "GB\n",
      "R2:  0.864618608462217\n",
      "RMSE:  0.08950539216016336\n",
      "---------------------------------------\n",
      "LR\n",
      "R2:  0.7898220185602086\n",
      "RMSE:  0.1115227117954699\n",
      "---------------------------------------\n",
      "RR\n",
      "R2:  0.7963582591138106\n",
      "RMSE:  0.10977491598335722\n",
      "---------------------------------------\n",
      "LASSO\n",
      "R2:  0.8077555264687271\n",
      "RMSE:  0.10665878812078958\n",
      "---------------------------------------\n",
      "gpr1\n",
      "R2:  0.7951790152783413\n",
      "RMSE:  0.11009229818366598\n",
      "---------------------------------------\n",
      "gpr2\n",
      "R2:  0.8614893065549946\n",
      "RMSE:  0.09053392822766312\n",
      "---------------------------------------\n",
      "gpr3\n",
      "R2:  0.5451143536947161\n",
      "RMSE:  0.16406684601893687\n",
      "---------------------------------------\n",
      "gpr4\n",
      "R2:  0.5451143194733297\n",
      "RMSE:  0.16406685219037234\n",
      "---------------------------------------\n",
      "gpr5\n",
      "R2:  0.9178242472341325\n",
      "RMSE:  0.06973351524460622\n",
      "---------------------------------------\n",
      "gpr6\n",
      "R2:  0.9169791594002238\n",
      "RMSE:  0.07009116459590647\n",
      "---------------------------------------\n",
      "[0.8966996678529939, 0.864618608462217, 0.7898220185602086, 0.7963582591138106, 0.8077555264687271, 0.7951790152783413, 0.8614893065549946, 0.5451143536947161, 0.5451143194733297, 0.9178242472341325, 0.9169791594002238]\n"
     ]
    },
    {
     "data": {
      "image/png": "[encoded data removed]",
      "text/plain": [
       "<Figure size 640x480 with 1 Axes>"
      ]
     },
     "metadata": {},
     "output_type": "display_data"
    }
   ],
   "source": [
    "run_models()"
   ]
  },
  {
   "cell_type": "code",
   "execution_count": 32,
   "metadata": {},
   "outputs": [
    {
     "data": {
      "text/plain": [
       "array(['mean_A2B', 'mean_X2X', 'mean_A2X', 'E_coh', 'std_A2X', 'std_B2X',\n",
       "       'OF', 'density', 'std_A2B', 'TF', 'std_X2X', 'mean_B2X'],\n",
       "      dtype=object)"
      ]
     },
     "execution_count": 32,
     "metadata": {},
     "output_type": "execute_result"
    }
   ],
   "source": [
    "featureScores.nlargest(30,'Score')['Feature'].values"
   ]
  },
  {
   "cell_type": "code",
   "execution_count": 33,
   "metadata": {},
   "outputs": [],
   "source": [
    "X=X[featureScores.nlargest(30,'Score')['Feature'].values]"
   ]
  },
  {
   "cell_type": "code",
   "execution_count": 34,
   "metadata": {},
   "outputs": [
    {
     "name": "stdout",
     "output_type": "stream",
     "text": [
      "RF\n",
      "R2:  0.8966996678529939\n",
      "RMSE:  0.07818448356013297\n",
      "---------------------------------------\n",
      "GB\n",
      "R2:  0.9103297750966803\n",
      "RMSE:  0.07284400950486544\n",
      "---------------------------------------\n",
      "LR\n",
      "R2:  0.7898220185602086\n",
      "RMSE:  0.1115227117954699\n",
      "---------------------------------------\n",
      "RR\n",
      "R2:  0.7963582591138106\n",
      "RMSE:  0.10977491598335722\n",
      "---------------------------------------\n",
      "LASSO\n",
      "R2:  0.8077555264687271\n",
      "RMSE:  0.10665878812078958\n",
      "---------------------------------------\n",
      "gpr1\n",
      "R2:  0.7951790152783413\n",
      "RMSE:  0.11009229818366598\n",
      "---------------------------------------\n",
      "gpr2\n",
      "R2:  0.8614893065549946\n",
      "RMSE:  0.09053392822766312\n",
      "---------------------------------------\n",
      "gpr3\n",
      "R2:  0.545114319795972\n",
      "RMSE:  0.1640668521321875\n",
      "---------------------------------------\n",
      "gpr4\n",
      "R2:  0.5451143194733297\n",
      "RMSE:  0.16406685219037234\n",
      "---------------------------------------\n",
      "gpr5\n",
      "R2:  0.9178242472341325\n",
      "RMSE:  0.06973351524460622\n",
      "---------------------------------------\n",
      "gpr6\n",
      "R2:  0.9169791594002238\n",
      "RMSE:  0.07009116459590647\n",
      "---------------------------------------\n",
      "[0.8966996678529939, 0.9103297750966803, 0.7898220185602086, 0.7963582591138106, 0.8077555264687271, 0.7951790152783413, 0.8614893065549946, 0.545114319795972, 0.5451143194733297, 0.9178242472341325, 0.9169791594002238]\n"
     ]
    },
    {
     "data": {
      "image/png": "[encoded data removed]",
      "text/plain": [
       "<Figure size 640x480 with 1 Axes>"
      ]
     },
     "metadata": {},
     "output_type": "display_data"
    }
   ],
   "source": [
    "run_models()"
   ]
  },
  {
   "cell_type": "code",
   "execution_count": 35,
   "metadata": {},
   "outputs": [
    {
     "data": {
      "text/plain": [
       "array(['mean_A2B', 'mean_X2X', 'mean_A2X', 'E_coh', 'std_A2X', 'std_B2X',\n",
       "       'OF', 'density', 'std_A2B', 'TF', 'std_X2X', 'mean_B2X'],\n",
       "      dtype=object)"
      ]
     },
     "execution_count": 35,
     "metadata": {},
     "output_type": "execute_result"
    }
   ],
   "source": [
    "featureScores.nlargest(20,'Score')['Feature'].values"
   ]
  },
  {
   "cell_type": "code",
   "execution_count": 36,
   "metadata": {},
   "outputs": [],
   "source": [
    "X=X[featureScores.nlargest(20,'Score')['Feature'].values]"
   ]
  },
  {
   "cell_type": "code",
   "execution_count": 37,
   "metadata": {},
   "outputs": [
    {
     "name": "stdout",
     "output_type": "stream",
     "text": [
      "RF\n",
      "R2:  0.8966996678529939\n",
      "RMSE:  0.07818448356013297\n",
      "---------------------------------------\n",
      "GB\n",
      "R2:  0.8918032034317189\n",
      "RMSE:  0.08001601417852601\n",
      "---------------------------------------\n",
      "LR\n",
      "R2:  0.7898220185602086\n",
      "RMSE:  0.1115227117954699\n",
      "---------------------------------------\n",
      "RR\n",
      "R2:  0.7963582591138106\n",
      "RMSE:  0.10977491598335722\n",
      "---------------------------------------\n",
      "LASSO\n",
      "R2:  0.8077555264687271\n",
      "RMSE:  0.10665878812078958\n",
      "---------------------------------------\n",
      "gpr1\n",
      "R2:  0.7951790152783413\n",
      "RMSE:  0.11009229818366598\n",
      "---------------------------------------\n",
      "gpr2\n",
      "R2:  0.8614893065549946\n",
      "RMSE:  0.09053392822766312\n",
      "---------------------------------------\n",
      "gpr3\n",
      "R2:  0.5451142200429446\n",
      "RMSE:  0.16406687012150328\n",
      "---------------------------------------\n",
      "gpr4\n",
      "R2:  0.5451143194733297\n",
      "RMSE:  0.16406685219037234\n",
      "---------------------------------------\n",
      "gpr5\n",
      "R2:  0.9178242472341325\n",
      "RMSE:  0.06973351524460622\n",
      "---------------------------------------\n",
      "gpr6\n",
      "R2:  0.9169791594002238\n",
      "RMSE:  0.07009116459590647\n",
      "---------------------------------------\n",
      "[0.8966996678529939, 0.8918032034317189, 0.7898220185602086, 0.7963582591138106, 0.8077555264687271, 0.7951790152783413, 0.8614893065549946, 0.5451142200429446, 0.5451143194733297, 0.9178242472341325, 0.9169791594002238]\n"
     ]
    },
    {
     "data": {
      "image/png": "[encoded data removed]",
      "text/plain": [
       "<Figure size 640x480 with 1 Axes>"
      ]
     },
     "metadata": {},
     "output_type": "display_data"
    }
   ],
   "source": [
    "run_models()"
   ]
  },
  {
   "cell_type": "code",
   "execution_count": 38,
   "metadata": {},
   "outputs": [
    {
     "data": {
      "text/plain": [
       "array(['mean_A2B', 'mean_X2X', 'mean_A2X', 'E_coh', 'std_A2X', 'std_B2X',\n",
       "       'OF', 'density', 'std_A2B', 'TF'], dtype=object)"
      ]
     },
     "execution_count": 38,
     "metadata": {},
     "output_type": "execute_result"
    }
   ],
   "source": [
    "featureScores.nlargest(10,'Score')['Feature'].values"
   ]
  },
  {
   "cell_type": "code",
   "execution_count": 39,
   "metadata": {},
   "outputs": [],
   "source": [
    "X=X[featureScores.nlargest(10,'Score')['Feature'].values]"
   ]
  },
  {
   "cell_type": "code",
   "execution_count": 40,
   "metadata": {},
   "outputs": [
    {
     "name": "stdout",
     "output_type": "stream",
     "text": [
      "RF\n",
      "R2:  0.902234641683476\n",
      "RMSE:  0.07606103154032527\n",
      "---------------------------------------\n",
      "GB\n",
      "R2:  0.9033579949658368\n",
      "RMSE:  0.07562278698300898\n",
      "---------------------------------------\n",
      "LR\n",
      "R2:  0.8158329933938083\n",
      "RMSE:  0.1043940213919691\n",
      "---------------------------------------\n",
      "RR\n",
      "R2:  0.8197140416827835\n",
      "RMSE:  0.10328818933901586\n",
      "---------------------------------------\n",
      "LASSO\n",
      "R2:  0.8077555264687271\n",
      "RMSE:  0.10665878812078958\n",
      "---------------------------------------\n",
      "gpr1\n",
      "R2:  0.8193871276507491\n",
      "RMSE:  0.10338179359253392\n",
      "---------------------------------------\n",
      "gpr2\n",
      "R2:  0.9079851656930341\n",
      "RMSE:  0.0737901914383084\n",
      "---------------------------------------\n",
      "gpr3\n",
      "R2:  -0.32972993276488927\n",
      "RMSE:  0.28051199400848326\n",
      "---------------------------------------\n",
      "gpr4\n",
      "R2:  0.6422108531418556\n",
      "RMSE:  0.14550680146596384\n",
      "---------------------------------------\n",
      "gpr5\n",
      "R2:  0.9192504679286577\n",
      "RMSE:  0.06912572830372678\n",
      "---------------------------------------\n",
      "gpr6\n",
      "R2:  0.9199002934339136\n",
      "RMSE:  0.06884702452987185\n",
      "---------------------------------------\n",
      "[0.902234641683476, 0.9033579949658368, 0.8158329933938083, 0.8197140416827835, 0.8077555264687271, 0.8193871276507491, 0.9079851656930341, -0.32972993276488927, 0.6422108531418556, 0.9192504679286577, 0.9199002934339136]\n"
     ]
    },
    {
     "data": {
      "image/png": "[encoded data removed]",
      "text/plain": [
       "<Figure size 640x480 with 1 Axes>"
      ]
     },
     "metadata": {},
     "output_type": "display_data"
    }
   ],
   "source": [
    "run_models()"
   ]
  }
 ],
 "metadata": {
  "colab": {
   "collapsed_sections": [],
   "name": "Final_total.ipynb",
   "provenance": []
  },
  "kernelspec": {
   "display_name": "Python 3 (ipykernel)",
   "language": "python",
   "name": "python3"
  },
  "language_info": {
   "codemirror_mode": {
    "name": "ipython",
    "version": 3
   },
   "file_extension": ".py",
   "mimetype": "text/x-python",
   "name": "python",
   "nbconvert_exporter": "python",
   "pygments_lexer": "ipython3",
   "version": "3.9.13"
  }
 },
 "nbformat": 4,
 "nbformat_minor": 1
}
