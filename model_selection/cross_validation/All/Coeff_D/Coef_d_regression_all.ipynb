{
 "cells": [
  {
   "cell_type": "code",
   "execution_count": 1,
   "metadata": {
    "id": "U1Or_5CpWR5m"
   },
   "outputs": [],
   "source": [
    "import numpy as np\n",
    "import pandas as pd\n",
    "import matplotlib.pyplot as plt\n",
    "from math import sqrt\n",
    "import seaborn as sns \n",
    "import re\n",
    " \n",
    "import warnings # supress warnings\n",
    "warnings.filterwarnings('ignore')"
   ]
  },
  {
   "cell_type": "code",
   "execution_count": 2,
   "metadata": {
    "id": "wd0p9t1imwDC"
   },
   "outputs": [],
   "source": [
    "import sklearn\n",
    "\n",
    "from sklearn.preprocessing import MinMaxScaler, PolynomialFeatures, scale, StandardScaler\n",
    "\n",
    "from sklearn.model_selection import train_test_split, cross_val_score, KFold, GridSearchCV\n",
    "\n",
    "from sklearn.linear_model import LinearRegression, Ridge, Lasso, ElasticNet \n",
    "\n",
    "from sklearn.ensemble import RandomForestRegressor\n",
    "from sklearn.ensemble import GradientBoostingRegressor\n",
    "\n",
    "from sklearn.feature_selection import RFE, SelectKBest, f_regression\n",
    "from sklearn.inspection import permutation_importance\n",
    "\n",
    "from sklearn.gaussian_process import GaussianProcessRegressor\n",
    "from sklearn.gaussian_process.kernels import DotProduct, WhiteKernel, RBF, Matern, RationalQuadratic\n",
    "from sklearn.gaussian_process.kernels import Kernel, Hyperparameter, ConstantKernel\n",
    "from sklearn.gaussian_process.kernels import GenericKernelMixin\n",
    "\n",
    "from sklearn import metrics\n",
    "from sklearn.metrics import mean_squared_error\n",
    "from sklearn.metrics import r2_score  \n",
    "\n",
    "from sklearn.pipeline import make_pipeline\n",
    "\n",
    "from sklearn.base import clone"
   ]
  },
  {
   "cell_type": "code",
   "execution_count": 3,
   "metadata": {},
   "outputs": [],
   "source": [
    "def run_models():\n",
    "    rf = RandomForestRegressor(n_estimators= 100, random_state= 10)\n",
    "    gb = GradientBoostingRegressor(loss='quantile', alpha=0.5,\n",
    "                                n_estimators=100, max_depth=10,\n",
    "                                learning_rate=0.25, min_samples_leaf=9,\n",
    "                                min_samples_split=2)\n",
    "    lr = LinearRegression()\n",
    "    rr = Ridge(alpha=0.01)\n",
    "    lasso = Lasso(alpha=0.01)\n",
    "    gpr1 = GaussianProcessRegressor(kernel=DotProduct() + WhiteKernel(),random_state=0)\n",
    "    gpr2 = GaussianProcessRegressor(kernel=1.0 * RBF(length_scale=100.0, length_scale_bounds=(1e-2, 1e3))+ \n",
    "                                WhiteKernel(noise_level=1, noise_level_bounds=(1e-10, 1e+1)),alpha=0.0)\n",
    "    gpr3 = GaussianProcessRegressor(kernel=ConstantKernel(1.0, (1e-2, 1e3)) * RBF(10, (1e-3, 1e4)),\n",
    "                                n_restarts_optimizer=9)\n",
    "    gpr4 = GaussianProcessRegressor(kernel=1.0 * RBF(length_scale=1.0, length_scale_bounds=(1e-1, 10.0)))\n",
    "    gpr5 = GaussianProcessRegressor(kernel=1.0 * RationalQuadratic(length_scale=1.0, alpha=0.01))\n",
    "    gpr6 = GaussianProcessRegressor(kernel=1.0 * Matern(length_scale=1.0, length_scale_bounds=(1e-2, 10.0),nu=0.35))\n",
    "    models = [rf,gb,lr,rr,lasso,gpr1,gpr2,gpr3,gpr4,gpr5,gpr6]\n",
    "    models_names = [\"RF\",\"GB\",\"LR\",\"RR\",\"LASSO\",\"gpr1\",\"gpr2\",\"gpr3\",\"gpr4\",\"gpr5\",\"gpr6\"]\n",
    "    r2scores=[]\n",
    "    rmse=[]\n",
    "    count=0\n",
    "    for model in models :\n",
    "        predicted_y = []\n",
    "        expected_y = []\n",
    "        kf = KFold(n_splits= 10) \n",
    "        # partition data\n",
    "        for train_index, test_index in kf.split(X, Y):\n",
    "            # specific \".loc\" syntax for working with dataframes\n",
    "            x_train, x_test = X.loc[train_index], X.loc[test_index]\n",
    "            y_train, y_test = Y[train_index], Y[test_index]\n",
    "\n",
    "            # create and fit classifier\n",
    "            model.fit(x_train, y_train)\n",
    "\n",
    "            # store result from classification\n",
    "            predicted_y.extend(model.predict(x_test))\n",
    "\n",
    "            # store expected result for this specific fold\n",
    "            expected_y.extend(y_test)\n",
    "        \n",
    "        r2 = metrics.r2_score(expected_y, predicted_y)\n",
    "        r2scores.append(r2)\n",
    "        \n",
    "        err=np.sqrt(metrics.mean_squared_error(expected_y, predicted_y))\n",
    "        rmse.append(err)\n",
    "        \n",
    "        print(models_names[count])\n",
    "        print(\"R2: \",r2.__str__())\n",
    "        print(\"RMSE: \",err)\n",
    "        print(\"---------------------------------------\")\n",
    "        count+=1\n",
    "    \n",
    "    plt.rcdefaults()\n",
    "    fig, ax = plt.subplots()\n",
    "\n",
    "    x_pos = np.arange(len(models_names))\n",
    "    ax.bar(x_pos, r2scores, align='center')\n",
    "    ax.set_xticks(x_pos)\n",
    "    ax.set_xticklabels(models_names)\n",
    "    ax.set_ylabel('R2 Score')\n",
    "    #plt.savefig('imp.eps', format='eps')\n",
    "    #plt.show()\n",
    "    print(r2scores)"
   ]
  },
  {
   "cell_type": "markdown",
   "metadata": {},
   "source": [
    "# Standard Scaling"
   ]
  },
  {
   "cell_type": "code",
   "execution_count": 4,
   "metadata": {
    "id": "hjdsOVHoYDJB"
   },
   "outputs": [],
   "source": [
    "data_std = pd.read_csv('scaled_standard_Coeff_D.csv', encoding='cp1252')   "
   ]
  },
  {
   "cell_type": "code",
   "execution_count": 5,
   "metadata": {},
   "outputs": [
    {
     "data": {
      "text/plain": [
       "array(['Name', 'density', 'mean_A2B', 'mean_A2X', 'mean_B2X', 'mean_X2X',\n",
       "       'std_A2B', 'std_A2X', 'std_B2X', 'std_X2X', 'E_coh', 'TF', 'OF',\n",
       "       'A_Z', 'B_Z', 'X_Z', 'A_G', 'B_G', 'X_G', 'A_IEI', 'B_IEI',\n",
       "       'X_IEI', 'A_IEII', 'B_IEII', 'X_IEII', 'A_EA', 'B_EA', 'X_EA',\n",
       "       'A_ChiP', 'B_ChiP', 'X_ChiP', 'A_ChiA', 'B_ChiA', 'A_Rvdw',\n",
       "       'B_Rvdw', 'X_Rvdw', 'B_Rc', 'B_Ra', 'A_MP', 'B_MP', 'A_Rho',\n",
       "       'B_Rho', 'X_Rho', 'B_MV', 'X_MV', 'B_Hf', 'A_Kappa', 'B_Kappa',\n",
       "       'X_Kappa', 'A_CvM', 'B_CvM', 'A_B', 'B_B', 'B_MendeleevNo',\n",
       "       'Coeff_D'], dtype=object)"
      ]
     },
     "execution_count": 5,
     "metadata": {},
     "output_type": "execute_result"
    }
   ],
   "source": [
    "data_std.columns.values"
   ]
  },
  {
   "cell_type": "code",
   "execution_count": 6,
   "metadata": {},
   "outputs": [],
   "source": [
    "data_std.fillna(0, inplace= True)"
   ]
  },
  {
   "cell_type": "code",
   "execution_count": 7,
   "metadata": {},
   "outputs": [],
   "source": [
    "Y = data_std['Coeff_D'] \n",
    "X = data_std.drop(['Coeff_D','Name'], axis=1)"
   ]
  },
  {
   "cell_type": "markdown",
   "metadata": {
    "id": "ZaJDp0jdzwnZ"
   },
   "source": [
    "### Using CV technique"
   ]
  },
  {
   "cell_type": "code",
   "execution_count": 8,
   "metadata": {},
   "outputs": [
    {
     "name": "stdout",
     "output_type": "stream",
     "text": [
      "RF\n",
      "R2:  0.9090479883259389\n",
      "RMSE:  0.3015825122152494\n",
      "---------------------------------------\n",
      "GB\n",
      "R2:  0.8107226203054645\n",
      "RMSE:  0.43506020237955056\n",
      "---------------------------------------\n",
      "LR\n",
      "R2:  0.006362358103266685\n",
      "RMSE:  0.996813744837386\n",
      "---------------------------------------\n",
      "RR\n",
      "R2:  0.7479600535936469\n",
      "RMSE:  0.5020358019169082\n",
      "---------------------------------------\n",
      "LASSO\n",
      "R2:  0.9182201519713367\n",
      "RMSE:  0.28597176089373466\n",
      "---------------------------------------\n",
      "gpr1\n",
      "R2:  0.9057962329370401\n",
      "RMSE:  0.3069263218802842\n",
      "---------------------------------------\n",
      "gpr2\n",
      "R2:  0.9321053760592286\n",
      "RMSE:  0.26056596850082203\n",
      "---------------------------------------\n",
      "gpr3\n",
      "R2:  0.9186282475981375\n",
      "RMSE:  0.2852573441681431\n",
      "---------------------------------------\n",
      "gpr4\n",
      "R2:  0.9190944354699762\n",
      "RMSE:  0.28443903482121413\n",
      "---------------------------------------\n",
      "gpr5\n",
      "R2:  0.5677555376438266\n",
      "RMSE:  0.6574530115195863\n",
      "---------------------------------------\n",
      "gpr6\n",
      "R2:  0.8255255233116643\n",
      "RMSE:  0.4177014205007397\n",
      "---------------------------------------\n",
      "[0.9090479883259389, 0.8107226203054645, 0.006362358103266685, 0.7479600535936469, 0.9182201519713367, 0.9057962329370401, 0.9321053760592286, 0.9186282475981375, 0.9190944354699762, 0.5677555376438266, 0.8255255233116643]\n"
     ]
    },
    {
     "data": {
      "image/png": "[encoded data removed]",
      "text/plain": [
       "<Figure size 640x480 with 1 Axes>"
      ]
     },
     "metadata": {},
     "output_type": "display_data"
    }
   ],
   "source": [
    "run_models()"
   ]
  },
  {
   "cell_type": "markdown",
   "metadata": {
    "id": "_x7bQR-jz4WE"
   },
   "source": [
    "## Feature selection\n"
   ]
  },
  {
   "cell_type": "code",
   "execution_count": 9,
   "metadata": {
    "colab": {
     "base_uri": "https://localhost:8080/"
    },
    "id": "RpTITR9vz7Th",
    "outputId": "b1c134f4-85a3-49a7-fa3a-34f5d4896d01"
   },
   "outputs": [
    {
     "name": "stdout",
     "output_type": "stream",
     "text": [
      "     Feature      Score\n",
      "26      X_EA  95.321460\n",
      "34    X_Rvdw  86.377832\n",
      "14       X_Z  57.377112\n",
      "1   mean_A2B  47.599974\n",
      "17       X_G  42.601054\n",
      "4   mean_X2X  33.749541\n",
      "23    X_IEII  29.416755\n",
      "32    A_Rvdw  27.279924\n",
      "36      B_Ra  24.281635\n",
      "30    A_ChiA  23.793760\n",
      "18     A_IEI  23.778238\n",
      "2   mean_A2X  21.966084\n",
      "44      B_Hf  21.103010\n",
      "13       B_Z  20.453363\n",
      "11        OF  19.573438\n",
      "7    std_B2X  16.294713\n",
      "6    std_A2X  12.148069\n",
      "24      A_EA  12.141141\n",
      "35      B_Rc  11.926378\n",
      "27    A_ChiP  11.798528\n",
      "9      E_coh  11.712526\n",
      "49     B_CvM  10.535518\n",
      "38      B_MP  10.479821\n",
      "33    B_Rvdw  10.461311\n",
      "40     B_Rho   9.209004\n",
      "37      A_MP   9.098591\n",
      "43      X_MV   7.751609\n",
      "42      B_MV   7.176187\n",
      "10        TF   7.108773\n",
      "5    std_A2B   7.056710\n"
     ]
    }
   ],
   "source": [
    "#apply SelectKBest class to extract top 10 best features\n",
    "bestfeatures = SelectKBest(score_func=f_regression, k=10)\n",
    "fit = bestfeatures.fit(X,Y)\n",
    "dfscores = pd.DataFrame(fit.scores_)\n",
    "dfcolumns = pd.DataFrame(X.columns)\n",
    "#concat two dataframes for better visualization \n",
    "featureScores = pd.concat([dfcolumns,dfscores],axis=1)\n",
    "featureScores.columns = ['Feature','Score']  #naming the dataframe columns\n",
    "print(featureScores.nlargest(30,'Score'))  #print 10 best features"
   ]
  },
  {
   "cell_type": "code",
   "execution_count": 10,
   "metadata": {},
   "outputs": [
    {
     "data": {
      "text/plain": [
       "array(['X_EA', 'X_Rvdw', 'X_Z', 'mean_A2B', 'X_G', 'mean_X2X', 'X_IEII',\n",
       "       'A_Rvdw', 'B_Ra', 'A_ChiA', 'A_IEI', 'mean_A2X', 'B_Hf', 'B_Z',\n",
       "       'OF', 'std_B2X', 'std_A2X', 'A_EA', 'B_Rc', 'A_ChiP', 'E_coh',\n",
       "       'B_CvM', 'B_MP', 'B_Rvdw', 'B_Rho', 'A_MP', 'X_MV', 'B_MV', 'TF',\n",
       "       'std_A2B', 'A_Z', 'A_Kappa', 'std_X2X', 'X_ChiP', 'A_CvM', 'A_B',\n",
       "       'A_G', 'B_IEII', 'X_Kappa', 'B_B'], dtype=object)"
      ]
     },
     "execution_count": 10,
     "metadata": {},
     "output_type": "execute_result"
    }
   ],
   "source": [
    "featureScores.nlargest(40,'Score')['Feature'].values"
   ]
  },
  {
   "cell_type": "code",
   "execution_count": 11,
   "metadata": {},
   "outputs": [],
   "source": [
    "X=X[featureScores.nlargest(40,'Score')['Feature'].values]"
   ]
  },
  {
   "cell_type": "code",
   "execution_count": 12,
   "metadata": {},
   "outputs": [
    {
     "name": "stdout",
     "output_type": "stream",
     "text": [
      "RF\n",
      "R2:  0.9108600444759574\n",
      "RMSE:  0.29856315165144315\n",
      "---------------------------------------\n",
      "GB\n",
      "R2:  0.7357486286991108\n",
      "RMSE:  0.5140538603112413\n",
      "---------------------------------------\n",
      "LR\n",
      "R2:  -2.3855606793347524e+20\n",
      "RMSE:  15445260371.177795\n",
      "---------------------------------------\n",
      "RR\n",
      "R2:  0.23441696003880053\n",
      "RMSE:  0.8749760225064454\n",
      "---------------------------------------\n",
      "LASSO\n",
      "R2:  0.9212006279612325\n",
      "RMSE:  0.2807122584405025\n",
      "---------------------------------------\n",
      "gpr1\n",
      "R2:  0.6348492102108595\n",
      "RMSE:  0.6042770803109617\n",
      "---------------------------------------\n",
      "gpr2\n",
      "R2:  0.9310666100630328\n",
      "RMSE:  0.26255169002877743\n",
      "---------------------------------------\n",
      "gpr3\n",
      "R2:  0.8837437163597444\n",
      "RMSE:  0.3409637570772819\n",
      "---------------------------------------\n",
      "gpr4\n",
      "R2:  0.8837437494629823\n",
      "RMSE:  0.3409637085336469\n",
      "---------------------------------------\n",
      "gpr5\n",
      "R2:  0.9204525321172723\n",
      "RMSE:  0.2820416066517983\n",
      "---------------------------------------\n",
      "gpr6\n",
      "R2:  0.8462504344224315\n",
      "RMSE:  0.3921091245783097\n",
      "---------------------------------------\n",
      "[0.9108600444759574, 0.7357486286991108, -2.3855606793347524e+20, 0.23441696003880053, 0.9212006279612325, 0.6348492102108595, 0.9310666100630328, 0.8837437163597444, 0.8837437494629823, 0.9204525321172723, 0.8462504344224315]\n"
     ]
    },
    {
     "data": {
      "image/png": "[encoded data removed]",
      "text/plain": [
       "<Figure size 640x480 with 1 Axes>"
      ]
     },
     "metadata": {},
     "output_type": "display_data"
    }
   ],
   "source": [
    "run_models()"
   ]
  },
  {
   "cell_type": "code",
   "execution_count": 13,
   "metadata": {},
   "outputs": [
    {
     "data": {
      "text/plain": [
       "array(['X_EA', 'X_Rvdw', 'X_Z', 'mean_A2B', 'X_G', 'mean_X2X', 'X_IEII',\n",
       "       'A_Rvdw', 'B_Ra', 'A_ChiA', 'A_IEI', 'mean_A2X', 'B_Hf', 'B_Z',\n",
       "       'OF', 'std_B2X', 'std_A2X', 'A_EA', 'B_Rc', 'A_ChiP', 'E_coh',\n",
       "       'B_CvM', 'B_MP', 'B_Rvdw', 'B_Rho', 'A_MP', 'X_MV', 'B_MV', 'TF',\n",
       "       'std_A2B'], dtype=object)"
      ]
     },
     "execution_count": 13,
     "metadata": {},
     "output_type": "execute_result"
    }
   ],
   "source": [
    "featureScores.nlargest(30,'Score')['Feature'].values"
   ]
  },
  {
   "cell_type": "code",
   "execution_count": 14,
   "metadata": {},
   "outputs": [],
   "source": [
    "X=X[featureScores.nlargest(30,'Score')['Feature'].values]"
   ]
  },
  {
   "cell_type": "code",
   "execution_count": 15,
   "metadata": {},
   "outputs": [
    {
     "name": "stdout",
     "output_type": "stream",
     "text": [
      "RF\n",
      "R2:  0.9154534410855812\n",
      "RMSE:  0.29076890981399434\n",
      "---------------------------------------\n",
      "GB\n",
      "R2:  0.7464407706611681\n",
      "RMSE:  0.5035466506082946\n",
      "---------------------------------------\n",
      "LR\n",
      "R2:  0.6001493545378453\n",
      "RMSE:  0.6323374458800891\n",
      "---------------------------------------\n",
      "RR\n",
      "R2:  0.6212460708196936\n",
      "RMSE:  0.6154298734870663\n",
      "---------------------------------------\n",
      "LASSO\n",
      "R2:  0.8854745012760304\n",
      "RMSE:  0.3384161620312623\n",
      "---------------------------------------\n",
      "gpr1\n",
      "R2:  0.6682892954597147\n",
      "RMSE:  0.5759433171244244\n",
      "---------------------------------------\n",
      "gpr2\n",
      "R2:  0.9154776219902351\n",
      "RMSE:  0.2907273258738588\n",
      "---------------------------------------\n",
      "gpr3\n",
      "R2:  0.7797019434735214\n",
      "RMSE:  0.46935919776486595\n",
      "---------------------------------------\n",
      "gpr4\n",
      "R2:  0.8702260625990159\n",
      "RMSE:  0.3602414987213219\n",
      "---------------------------------------\n",
      "gpr5\n",
      "R2:  0.9116343251948035\n",
      "RMSE:  0.29726364528007215\n",
      "---------------------------------------\n",
      "gpr6\n",
      "R2:  0.8637924912857695\n",
      "RMSE:  0.3690630145574473\n",
      "---------------------------------------\n",
      "[0.9154534410855812, 0.7464407706611681, 0.6001493545378453, 0.6212460708196936, 0.8854745012760304, 0.6682892954597147, 0.9154776219902351, 0.7797019434735214, 0.8702260625990159, 0.9116343251948035, 0.8637924912857695]\n"
     ]
    },
    {
     "data": {
      "image/png": "[encoded data removed]",
      "text/plain": [
       "<Figure size 640x480 with 1 Axes>"
      ]
     },
     "metadata": {},
     "output_type": "display_data"
    }
   ],
   "source": [
    "run_models()"
   ]
  },
  {
   "cell_type": "code",
   "execution_count": 16,
   "metadata": {},
   "outputs": [
    {
     "data": {
      "text/plain": [
       "array(['X_EA', 'X_Rvdw', 'X_Z', 'mean_A2B', 'X_G', 'mean_X2X', 'X_IEII',\n",
       "       'A_Rvdw', 'B_Ra', 'A_ChiA', 'A_IEI', 'mean_A2X', 'B_Hf', 'B_Z',\n",
       "       'OF', 'std_B2X', 'std_A2X', 'A_EA', 'B_Rc', 'A_ChiP'], dtype=object)"
      ]
     },
     "execution_count": 16,
     "metadata": {},
     "output_type": "execute_result"
    }
   ],
   "source": [
    "featureScores.nlargest(20,'Score')['Feature'].values"
   ]
  },
  {
   "cell_type": "code",
   "execution_count": 17,
   "metadata": {},
   "outputs": [],
   "source": [
    "X=X[featureScores.nlargest(20,'Score')['Feature'].values]"
   ]
  },
  {
   "cell_type": "code",
   "execution_count": 18,
   "metadata": {},
   "outputs": [
    {
     "name": "stdout",
     "output_type": "stream",
     "text": [
      "RF\n",
      "R2:  0.893956334105193\n",
      "RMSE:  0.3256434643821474\n",
      "---------------------------------------\n",
      "GB\n",
      "R2:  0.7863480781968142\n",
      "RMSE:  0.46222496882274317\n",
      "---------------------------------------\n",
      "LR\n",
      "R2:  0.9113212301295809\n",
      "RMSE:  0.29778980820440976\n",
      "---------------------------------------\n",
      "RR\n",
      "R2:  0.9115851060895181\n",
      "RMSE:  0.2973464207124106\n",
      "---------------------------------------\n",
      "LASSO\n",
      "R2:  0.9309862435956442\n",
      "RMSE:  0.26270469429447935\n",
      "---------------------------------------\n",
      "gpr1\n",
      "R2:  0.9183928564754897\n",
      "RMSE:  0.2856696405369501\n",
      "---------------------------------------\n",
      "gpr2\n",
      "R2:  0.9281006920187609\n",
      "RMSE:  0.2681404631554872\n",
      "---------------------------------------\n",
      "gpr3\n",
      "R2:  0.8703764862690428\n",
      "RMSE:  0.36003265647848837\n",
      "---------------------------------------\n",
      "gpr4\n",
      "R2:  0.8703764993821972\n",
      "RMSE:  0.3600326382674255\n",
      "---------------------------------------\n",
      "gpr5\n",
      "R2:  0.9212793773563606\n",
      "RMSE:  0.2805719562672639\n",
      "---------------------------------------\n",
      "gpr6\n",
      "R2:  0.8953758480374298\n",
      "RMSE:  0.3234565688969235\n",
      "---------------------------------------\n",
      "[0.893956334105193, 0.7863480781968142, 0.9113212301295809, 0.9115851060895181, 0.9309862435956442, 0.9183928564754897, 0.9281006920187609, 0.8703764862690428, 0.8703764993821972, 0.9212793773563606, 0.8953758480374298]\n"
     ]
    },
    {
     "data": {
      "image/png": "[encoded data removed]",
      "text/plain": [
       "<Figure size 640x480 with 1 Axes>"
      ]
     },
     "metadata": {},
     "output_type": "display_data"
    }
   ],
   "source": [
    "run_models()"
   ]
  },
  {
   "cell_type": "code",
   "execution_count": 19,
   "metadata": {},
   "outputs": [
    {
     "data": {
      "text/plain": [
       "array(['X_EA', 'X_Rvdw', 'X_Z', 'mean_A2B', 'X_G', 'mean_X2X', 'X_IEII',\n",
       "       'A_Rvdw', 'B_Ra', 'A_ChiA'], dtype=object)"
      ]
     },
     "execution_count": 19,
     "metadata": {},
     "output_type": "execute_result"
    }
   ],
   "source": [
    "featureScores.nlargest(10,'Score')['Feature'].values"
   ]
  },
  {
   "cell_type": "code",
   "execution_count": 20,
   "metadata": {},
   "outputs": [],
   "source": [
    "X=X[featureScores.nlargest(10,'Score')['Feature'].values]"
   ]
  },
  {
   "cell_type": "code",
   "execution_count": 21,
   "metadata": {},
   "outputs": [
    {
     "name": "stdout",
     "output_type": "stream",
     "text": [
      "RF\n",
      "R2:  0.907530133475583\n",
      "RMSE:  0.3040885833509982\n",
      "---------------------------------------\n",
      "GB\n",
      "R2:  0.7080945964906162\n",
      "RMSE:  0.5402827070241873\n",
      "---------------------------------------\n",
      "LR\n",
      "R2:  0.8879077485786948\n",
      "RMSE:  0.3348018091667146\n",
      "---------------------------------------\n",
      "RR\n",
      "R2:  0.8879624362950767\n",
      "RMSE:  0.3347201274272632\n",
      "---------------------------------------\n",
      "LASSO\n",
      "R2:  0.8921206442399855\n",
      "RMSE:  0.3284499288476319\n",
      "---------------------------------------\n",
      "gpr1\n",
      "R2:  0.8945671624606117\n",
      "RMSE:  0.3247042308615462\n",
      "---------------------------------------\n",
      "gpr2\n",
      "R2:  0.9293149765966549\n",
      "RMSE:  0.26586655187019126\n",
      "---------------------------------------\n",
      "gpr3\n",
      "R2:  0.7518418788464054\n",
      "RMSE:  0.49815471608085227\n",
      "---------------------------------------\n",
      "gpr4\n",
      "R2:  0.7518419722023187\n",
      "RMSE:  0.4981546223791176\n",
      "---------------------------------------\n",
      "gpr5\n",
      "R2:  0.8959748286648807\n",
      "RMSE:  0.3225293340691964\n",
      "---------------------------------------\n",
      "gpr6\n",
      "R2:  0.9115365309819098\n",
      "RMSE:  0.2974280904993512\n",
      "---------------------------------------\n",
      "[0.907530133475583, 0.7080945964906162, 0.8879077485786948, 0.8879624362950767, 0.8921206442399855, 0.8945671624606117, 0.9293149765966549, 0.7518418788464054, 0.7518419722023187, 0.8959748286648807, 0.9115365309819098]\n"
     ]
    },
    {
     "data": {
      "image/png": "[encoded data removed]",
      "text/plain": [
       "<Figure size 640x480 with 1 Axes>"
      ]
     },
     "metadata": {},
     "output_type": "display_data"
    }
   ],
   "source": [
    "run_models()"
   ]
  },
  {
   "cell_type": "markdown",
   "metadata": {},
   "source": [
    "# Min-Max scaling"
   ]
  },
  {
   "cell_type": "code",
   "execution_count": 22,
   "metadata": {},
   "outputs": [],
   "source": [
    "data_mm = pd.read_csv('scaled_minmax_Coeff_D.csv', encoding='cp1252')"
   ]
  },
  {
   "cell_type": "code",
   "execution_count": 23,
   "metadata": {},
   "outputs": [],
   "source": [
    "data_mm.fillna(0, inplace= True)"
   ]
  },
  {
   "cell_type": "code",
   "execution_count": 24,
   "metadata": {},
   "outputs": [],
   "source": [
    "Y = data_mm['Coeff_D'] \n",
    "X = data_mm.drop(['Coeff_D','Name'], axis=1)"
   ]
  },
  {
   "cell_type": "markdown",
   "metadata": {
    "id": "ZaJDp0jdzwnZ"
   },
   "source": [
    "### Using CV technique"
   ]
  },
  {
   "cell_type": "code",
   "execution_count": 25,
   "metadata": {},
   "outputs": [
    {
     "name": "stdout",
     "output_type": "stream",
     "text": [
      "RF\n",
      "R2:  0.9006365113849212\n",
      "RMSE:  0.07247586531056058\n",
      "---------------------------------------\n",
      "GB\n",
      "R2:  0.7948176940819753\n",
      "RMSE:  0.10414776317411664\n",
      "---------------------------------------\n",
      "LR\n",
      "R2:  -2.2613416209974195\n",
      "RMSE:  0.4152198815173667\n",
      "---------------------------------------\n",
      "RR\n",
      "R2:  0.8840205182891984\n",
      "RMSE:  0.07830158901980341\n",
      "---------------------------------------\n",
      "LASSO\n",
      "R2:  0.7427284926968173\n",
      "RMSE:  0.11662075244764741\n",
      "---------------------------------------\n",
      "gpr1\n",
      "R2:  0.746120581760951\n",
      "RMSE:  0.11584938721958449\n",
      "---------------------------------------\n",
      "gpr2\n",
      "R2:  0.9240460992018658\n",
      "RMSE:  0.06336581648386802\n",
      "---------------------------------------\n",
      "gpr3\n",
      "R2:  0.8956591187862071\n",
      "RMSE:  0.0742689431346191\n",
      "---------------------------------------\n",
      "gpr4\n",
      "R2:  0.8956591510143319\n",
      "RMSE:  0.07426893166476699\n",
      "---------------------------------------\n",
      "gpr5\n",
      "R2:  0.9265169160061778\n",
      "RMSE:  0.06232663515151612\n",
      "---------------------------------------\n",
      "gpr6\n",
      "R2:  0.8649170978522444\n",
      "RMSE:  0.08450456781884712\n",
      "---------------------------------------\n",
      "[0.9006365113849212, 0.7948176940819753, -2.2613416209974195, 0.8840205182891984, 0.7427284926968173, 0.746120581760951, 0.9240460992018658, 0.8956591187862071, 0.8956591510143319, 0.9265169160061778, 0.8649170978522444]\n"
     ]
    },
    {
     "data": {
      "image/png": "[encoded data removed]",
      "text/plain": [
       "<Figure size 640x480 with 1 Axes>"
      ]
     },
     "metadata": {},
     "output_type": "display_data"
    }
   ],
   "source": [
    "run_models()"
   ]
  },
  {
   "cell_type": "markdown",
   "metadata": {
    "id": "_x7bQR-jz4WE"
   },
   "source": [
    "## Feature selection\n"
   ]
  },
  {
   "cell_type": "code",
   "execution_count": 26,
   "metadata": {
    "colab": {
     "base_uri": "https://localhost:8080/"
    },
    "id": "RpTITR9vz7Th",
    "outputId": "b1c134f4-85a3-49a7-fa3a-34f5d4896d01"
   },
   "outputs": [
    {
     "name": "stdout",
     "output_type": "stream",
     "text": [
      "     Feature      Score\n",
      "26      X_EA  95.321460\n",
      "34    X_Rvdw  86.377832\n",
      "14       X_Z  57.377112\n",
      "1   mean_A2B  47.599974\n",
      "17       X_G  42.601054\n",
      "4   mean_X2X  33.749541\n",
      "32    A_Rvdw  27.279924\n",
      "36      B_Ra  24.281635\n",
      "18     A_IEI  23.778238\n",
      "30    A_ChiA  23.196933\n",
      "2   mean_A2X  21.966084\n",
      "44      B_Hf  21.103010\n",
      "13       B_Z  20.453363\n",
      "11        OF  19.573438\n",
      "7    std_B2X  16.294713\n",
      "6    std_A2X  12.148069\n",
      "24      A_EA  12.141141\n",
      "35      B_Rc  11.926378\n",
      "27    A_ChiP  11.798528\n",
      "9      E_coh  11.712526\n",
      "38      B_MP  10.479821\n",
      "33    B_Rvdw  10.461311\n",
      "49     B_CvM  10.060408\n",
      "31    B_ChiA   9.105932\n",
      "37      A_MP   9.098591\n",
      "40     B_Rho   8.712494\n",
      "43      X_MV   7.751609\n",
      "42      B_MV   7.176187\n",
      "10        TF   7.108773\n",
      "5    std_A2B   7.056710\n"
     ]
    }
   ],
   "source": [
    "#apply SelectKBest class to extract top 10 best features\n",
    "bestfeatures = SelectKBest(score_func=f_regression, k=10)\n",
    "fit = bestfeatures.fit(X,Y)\n",
    "dfscores = pd.DataFrame(fit.scores_)\n",
    "dfcolumns = pd.DataFrame(X.columns)\n",
    "#concat two dataframes for better visualization \n",
    "featureScores = pd.concat([dfcolumns,dfscores],axis=1)\n",
    "featureScores.columns = ['Feature','Score']  #naming the dataframe columns\n",
    "print(featureScores.nlargest(30,'Score'))  #print 10 best features"
   ]
  },
  {
   "cell_type": "code",
   "execution_count": 27,
   "metadata": {},
   "outputs": [
    {
     "data": {
      "text/plain": [
       "array(['X_EA', 'X_Rvdw', 'X_Z', 'mean_A2B', 'X_G', 'mean_X2X', 'A_Rvdw',\n",
       "       'B_Ra', 'A_IEI', 'A_ChiA', 'mean_A2X', 'B_Hf', 'B_Z', 'OF',\n",
       "       'std_B2X', 'std_A2X', 'A_EA', 'B_Rc', 'A_ChiP', 'E_coh', 'B_MP',\n",
       "       'B_Rvdw', 'B_CvM', 'B_ChiA', 'A_MP', 'B_Rho', 'X_MV', 'B_MV', 'TF',\n",
       "       'std_A2B', 'X_Rho', 'A_Z', 'A_Kappa', 'std_X2X', 'X_ChiP', 'A_CvM',\n",
       "       'A_B', 'A_G', 'X_IEII', 'B_IEII'], dtype=object)"
      ]
     },
     "execution_count": 27,
     "metadata": {},
     "output_type": "execute_result"
    }
   ],
   "source": [
    "featureScores.nlargest(40,'Score')['Feature'].values"
   ]
  },
  {
   "cell_type": "code",
   "execution_count": 28,
   "metadata": {},
   "outputs": [],
   "source": [
    "X=X[featureScores.nlargest(40,'Score')['Feature'].values]"
   ]
  },
  {
   "cell_type": "code",
   "execution_count": 29,
   "metadata": {},
   "outputs": [
    {
     "name": "stdout",
     "output_type": "stream",
     "text": [
      "RF\n",
      "R2:  0.8956476530442187\n",
      "RMSE:  0.07427302363086138\n",
      "---------------------------------------\n",
      "GB\n",
      "R2:  0.7420019684871673\n",
      "RMSE:  0.11678530247543677\n",
      "---------------------------------------\n",
      "LR\n",
      "R2:  -1.0170652048234912e+20\n",
      "RMSE:  2318752483.445911\n",
      "---------------------------------------\n",
      "RR\n",
      "R2:  0.5688681301527148\n",
      "RMSE:  0.15096805420430925\n",
      "---------------------------------------\n",
      "LASSO\n",
      "R2:  0.742887530903483\n",
      "RMSE:  0.11658470099611667\n",
      "---------------------------------------\n",
      "gpr1\n",
      "R2:  -0.15027680276218502\n",
      "RMSE:  0.24659324435012947\n",
      "---------------------------------------\n",
      "gpr2\n",
      "R2:  0.9080501647252432\n",
      "RMSE:  0.06971969386690564\n",
      "---------------------------------------\n",
      "gpr3\n",
      "R2:  0.8725139714162076\n",
      "RMSE:  0.0820939759634252\n",
      "---------------------------------------\n",
      "gpr4\n",
      "R2:  0.8725139902333754\n",
      "RMSE:  0.08209396990481548\n",
      "---------------------------------------\n",
      "gpr5\n",
      "R2:  0.9096558830376482\n",
      "RMSE:  0.06910825585013525\n",
      "---------------------------------------\n",
      "gpr6\n",
      "R2:  0.8780322232876875\n",
      "RMSE:  0.08029759675917393\n",
      "---------------------------------------\n",
      "[0.8956476530442187, 0.7420019684871673, -1.0170652048234912e+20, 0.5688681301527148, 0.742887530903483, -0.15027680276218502, 0.9080501647252432, 0.8725139714162076, 0.8725139902333754, 0.9096558830376482, 0.8780322232876875]\n"
     ]
    },
    {
     "data": {
      "image/png": "[encoded data removed]",
      "text/plain": [
       "<Figure size 640x480 with 1 Axes>"
      ]
     },
     "metadata": {},
     "output_type": "display_data"
    }
   ],
   "source": [
    "run_models()"
   ]
  },
  {
   "cell_type": "code",
   "execution_count": 30,
   "metadata": {},
   "outputs": [
    {
     "data": {
      "text/plain": [
       "array(['X_EA', 'X_Rvdw', 'X_Z', 'mean_A2B', 'X_G', 'mean_X2X', 'A_Rvdw',\n",
       "       'B_Ra', 'A_IEI', 'A_ChiA', 'mean_A2X', 'B_Hf', 'B_Z', 'OF',\n",
       "       'std_B2X', 'std_A2X', 'A_EA', 'B_Rc', 'A_ChiP', 'E_coh', 'B_MP',\n",
       "       'B_Rvdw', 'B_CvM', 'B_ChiA', 'A_MP', 'B_Rho', 'X_MV', 'B_MV', 'TF',\n",
       "       'std_A2B'], dtype=object)"
      ]
     },
     "execution_count": 30,
     "metadata": {},
     "output_type": "execute_result"
    }
   ],
   "source": [
    "featureScores.nlargest(30,'Score')['Feature'].values"
   ]
  },
  {
   "cell_type": "code",
   "execution_count": 31,
   "metadata": {},
   "outputs": [],
   "source": [
    "X=X[featureScores.nlargest(30,'Score')['Feature'].values]"
   ]
  },
  {
   "cell_type": "code",
   "execution_count": 32,
   "metadata": {},
   "outputs": [
    {
     "name": "stdout",
     "output_type": "stream",
     "text": [
      "RF\n",
      "R2:  0.8975266211460389\n",
      "RMSE:  0.07360130621994454\n",
      "---------------------------------------\n",
      "GB\n",
      "R2:  0.7582646772412477\n",
      "RMSE:  0.11304465978429815\n",
      "---------------------------------------\n",
      "LR\n",
      "R2:  0.6374286387627696\n",
      "RMSE:  0.13844482997107138\n",
      "---------------------------------------\n",
      "RR\n",
      "R2:  0.7773427913155628\n",
      "RMSE:  0.10849216451879828\n",
      "---------------------------------------\n",
      "LASSO\n",
      "R2:  0.742887530903483\n",
      "RMSE:  0.11658470099611667\n",
      "---------------------------------------\n",
      "gpr1\n",
      "R2:  0.6500664565486551\n",
      "RMSE:  0.13601060766861572\n",
      "---------------------------------------\n",
      "gpr2\n",
      "R2:  0.8914838452557493\n",
      "RMSE:  0.07574032979222195\n",
      "---------------------------------------\n",
      "gpr3\n",
      "R2:  0.6485514807310105\n",
      "RMSE:  0.13630470671904354\n",
      "---------------------------------------\n",
      "gpr4\n",
      "R2:  0.8864173537915916\n",
      "RMSE:  0.07748827357032037\n",
      "---------------------------------------\n",
      "gpr5\n",
      "R2:  0.9163984205256945\n",
      "RMSE:  0.06647942202423437\n",
      "---------------------------------------\n",
      "gpr6\n",
      "R2:  0.8882155249782082\n",
      "RMSE:  0.0768724529770749\n",
      "---------------------------------------\n",
      "[0.8975266211460389, 0.7582646772412477, 0.6374286387627696, 0.7773427913155628, 0.742887530903483, 0.6500664565486551, 0.8914838452557493, 0.6485514807310105, 0.8864173537915916, 0.9163984205256945, 0.8882155249782082]\n"
     ]
    },
    {
     "data": {
      "image/png": "[encoded data removed]",
      "text/plain": [
       "<Figure size 640x480 with 1 Axes>"
      ]
     },
     "metadata": {},
     "output_type": "display_data"
    }
   ],
   "source": [
    "run_models()"
   ]
  },
  {
   "cell_type": "code",
   "execution_count": 33,
   "metadata": {},
   "outputs": [
    {
     "data": {
      "text/plain": [
       "array(['X_EA', 'X_Rvdw', 'X_Z', 'mean_A2B', 'X_G', 'mean_X2X', 'A_Rvdw',\n",
       "       'B_Ra', 'A_IEI', 'A_ChiA', 'mean_A2X', 'B_Hf', 'B_Z', 'OF',\n",
       "       'std_B2X', 'std_A2X', 'A_EA', 'B_Rc', 'A_ChiP', 'E_coh'],\n",
       "      dtype=object)"
      ]
     },
     "execution_count": 33,
     "metadata": {},
     "output_type": "execute_result"
    }
   ],
   "source": [
    "featureScores.nlargest(20,'Score')['Feature'].values"
   ]
  },
  {
   "cell_type": "code",
   "execution_count": 34,
   "metadata": {},
   "outputs": [],
   "source": [
    "X=X[featureScores.nlargest(20,'Score')['Feature'].values]"
   ]
  },
  {
   "cell_type": "code",
   "execution_count": 35,
   "metadata": {},
   "outputs": [
    {
     "name": "stdout",
     "output_type": "stream",
     "text": [
      "RF\n",
      "R2:  0.878683080307713\n",
      "RMSE:  0.08008306401777768\n",
      "---------------------------------------\n",
      "GB\n",
      "R2:  0.7448143288566429\n",
      "RMSE:  0.11614703727302497\n",
      "---------------------------------------\n",
      "LR\n",
      "R2:  0.9097901767630356\n",
      "RMSE:  0.0690568731097963\n",
      "---------------------------------------\n",
      "RR\n",
      "R2:  0.9136415791677792\n",
      "RMSE:  0.06756664267858675\n",
      "---------------------------------------\n",
      "LASSO\n",
      "R2:  0.744546273395712\n",
      "RMSE:  0.1162080236045817\n",
      "---------------------------------------\n",
      "gpr1\n",
      "R2:  0.9125652912428504\n",
      "RMSE:  0.06798638160162802\n",
      "---------------------------------------\n",
      "gpr2\n",
      "R2:  0.9177442276189114\n",
      "RMSE:  0.06594216262793196\n",
      "---------------------------------------\n",
      "gpr3\n",
      "R2:  0.6069221116387511\n",
      "RMSE:  0.14415154480558875\n",
      "---------------------------------------\n",
      "gpr4\n",
      "R2:  0.8431394053853404\n",
      "RMSE:  0.09106194499921726\n",
      "---------------------------------------\n",
      "gpr5\n",
      "R2:  0.9117326999930688\n",
      "RMSE:  0.06830931256921137\n",
      "---------------------------------------\n",
      "gpr6\n",
      "R2:  0.8998707389905676\n",
      "RMSE:  0.07275460701022772\n",
      "---------------------------------------\n",
      "[0.878683080307713, 0.7448143288566429, 0.9097901767630356, 0.9136415791677792, 0.744546273395712, 0.9125652912428504, 0.9177442276189114, 0.6069221116387511, 0.8431394053853404, 0.9117326999930688, 0.8998707389905676]\n"
     ]
    },
    {
     "data": {
      "image/png": "[encoded data removed]",
      "text/plain": [
       "<Figure size 640x480 with 1 Axes>"
      ]
     },
     "metadata": {},
     "output_type": "display_data"
    }
   ],
   "source": [
    "run_models()"
   ]
  },
  {
   "cell_type": "code",
   "execution_count": 36,
   "metadata": {},
   "outputs": [
    {
     "data": {
      "text/plain": [
       "array(['X_EA', 'X_Rvdw', 'X_Z', 'mean_A2B', 'X_G', 'mean_X2X', 'A_Rvdw',\n",
       "       'B_Ra', 'A_IEI', 'A_ChiA'], dtype=object)"
      ]
     },
     "execution_count": 36,
     "metadata": {},
     "output_type": "execute_result"
    }
   ],
   "source": [
    "featureScores.nlargest(10,'Score')['Feature'].values"
   ]
  },
  {
   "cell_type": "code",
   "execution_count": 37,
   "metadata": {},
   "outputs": [],
   "source": [
    "X=X[featureScores.nlargest(10,'Score')['Feature'].values]"
   ]
  },
  {
   "cell_type": "code",
   "execution_count": 38,
   "metadata": {},
   "outputs": [
    {
     "name": "stdout",
     "output_type": "stream",
     "text": [
      "RF\n",
      "R2:  0.9059756100922438\n",
      "RMSE:  0.07050180820703414\n",
      "---------------------------------------\n",
      "GB\n",
      "R2:  0.6578077990948688\n",
      "RMSE:  0.13449775870971717\n",
      "---------------------------------------\n",
      "LR\n",
      "R2:  0.8828308314342744\n",
      "RMSE:  0.07870216289289851\n",
      "---------------------------------------\n",
      "RR\n",
      "R2:  0.8835313768602537\n",
      "RMSE:  0.0784665330794563\n",
      "---------------------------------------\n",
      "LASSO\n",
      "R2:  0.7398117963084141\n",
      "RMSE:  0.11727995620440741\n",
      "---------------------------------------\n",
      "gpr1\n",
      "R2:  0.8831536684918924\n",
      "RMSE:  0.07859366378492186\n",
      "---------------------------------------\n",
      "gpr2\n",
      "R2:  0.9078825633831306\n",
      "RMSE:  0.06978320564113932\n",
      "---------------------------------------\n",
      "gpr3\n",
      "R2:  0.6591473134157404\n",
      "RMSE:  0.13423425426619312\n",
      "---------------------------------------\n",
      "gpr4\n",
      "R2:  0.659147470815629\n",
      "RMSE:  0.13423422327265846\n",
      "---------------------------------------\n",
      "gpr5\n",
      "R2:  0.8850227528735888\n",
      "RMSE:  0.07796253406661924\n",
      "---------------------------------------\n",
      "gpr6\n",
      "R2:  0.8970021932421993\n",
      "RMSE:  0.0737894005384827\n",
      "---------------------------------------\n",
      "[0.9059756100922438, 0.6578077990948688, 0.8828308314342744, 0.8835313768602537, 0.7398117963084141, 0.8831536684918924, 0.9078825633831306, 0.6591473134157404, 0.659147470815629, 0.8850227528735888, 0.8970021932421993]\n"
     ]
    },
    {
     "data": {
      "image/png": "[encoded data removed]",
      "text/plain": [
       "<Figure size 640x480 with 1 Axes>"
      ]
     },
     "metadata": {},
     "output_type": "display_data"
    }
   ],
   "source": [
    "run_models()"
   ]
  }
 ],
 "metadata": {
  "colab": {
   "collapsed_sections": [],
   "name": "Final_total.ipynb",
   "provenance": []
  },
  "kernelspec": {
   "display_name": "Python 3 (ipykernel)",
   "language": "python",
   "name": "python3"
  },
  "language_info": {
   "codemirror_mode": {
    "name": "ipython",
    "version": 3
   },
   "file_extension": ".py",
   "mimetype": "text/x-python",
   "name": "python",
   "nbconvert_exporter": "python",
   "pygments_lexer": "ipython3",
   "version": "3.9.13"
  }
 },
 "nbformat": 4,
 "nbformat_minor": 1
}
