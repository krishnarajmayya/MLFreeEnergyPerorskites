{
 "cells": [
  {
   "cell_type": "code",
   "execution_count": 1,
   "metadata": {
    "id": "U1Or_5CpWR5m"
   },
   "outputs": [],
   "source": [
    "import numpy as np\n",
    "import pandas as pd\n",
    "import matplotlib.pyplot as plt\n",
    "from math import sqrt\n",
    "import seaborn as sns \n",
    "import re\n",
    " \n",
    "import warnings # supress warnings\n",
    "warnings.filterwarnings('ignore')"
   ]
  },
  {
   "cell_type": "code",
   "execution_count": 2,
   "metadata": {
    "id": "wd0p9t1imwDC"
   },
   "outputs": [],
   "source": [
    "import sklearn\n",
    "\n",
    "from sklearn.preprocessing import MinMaxScaler, PolynomialFeatures, scale, StandardScaler\n",
    "\n",
    "from sklearn.model_selection import train_test_split, cross_val_score, KFold, GridSearchCV\n",
    "\n",
    "from sklearn.linear_model import LinearRegression, Ridge, Lasso, ElasticNet \n",
    "\n",
    "from sklearn.ensemble import RandomForestRegressor\n",
    "from sklearn.ensemble import GradientBoostingRegressor\n",
    "\n",
    "from sklearn.feature_selection import RFE, SelectKBest, f_regression\n",
    "from sklearn.inspection import permutation_importance\n",
    "\n",
    "from sklearn.gaussian_process import GaussianProcessRegressor\n",
    "from sklearn.gaussian_process.kernels import DotProduct, WhiteKernel, RBF, Matern, RationalQuadratic\n",
    "from sklearn.gaussian_process.kernels import Kernel, Hyperparameter, ConstantKernel\n",
    "from sklearn.gaussian_process.kernels import GenericKernelMixin\n",
    "\n",
    "from sklearn import metrics\n",
    "from sklearn.metrics import mean_squared_error\n",
    "from sklearn.metrics import r2_score  \n",
    "\n",
    "from sklearn.pipeline import make_pipeline\n",
    "\n",
    "from sklearn.base import clone"
   ]
  },
  {
   "cell_type": "code",
   "execution_count": 3,
   "metadata": {},
   "outputs": [],
   "source": [
    "def run_models():\n",
    "    rf = RandomForestRegressor(n_estimators= 100, random_state= 10)\n",
    "    gb = GradientBoostingRegressor(loss='quantile', alpha=0.5,\n",
    "                                n_estimators=100, max_depth=10,\n",
    "                                learning_rate=0.25, min_samples_leaf=9,\n",
    "                                min_samples_split=2)\n",
    "    lr = LinearRegression()\n",
    "    rr = Ridge(alpha=0.01)\n",
    "    lasso = Lasso(alpha=0.01)\n",
    "    gpr1 = GaussianProcessRegressor(kernel=DotProduct() + WhiteKernel(),random_state=0)\n",
    "    gpr2 = GaussianProcessRegressor(kernel=1.0 * RBF(length_scale=100.0, length_scale_bounds=(1e-2, 1e3))+ \n",
    "                                WhiteKernel(noise_level=1, noise_level_bounds=(1e-10, 1e+1)),alpha=0.0)\n",
    "    gpr3 = GaussianProcessRegressor(kernel=ConstantKernel(1.0, (1e-2, 1e3)) * RBF(10, (1e-3, 1e4)),\n",
    "                                n_restarts_optimizer=9)\n",
    "    gpr4 = GaussianProcessRegressor(kernel=1.0 * RBF(length_scale=1.0, length_scale_bounds=(1e-1, 10.0)))\n",
    "    gpr5 = GaussianProcessRegressor(kernel=1.0 * RationalQuadratic(length_scale=1.0, alpha=0.01))\n",
    "    gpr6 = GaussianProcessRegressor(kernel=1.0 * Matern(length_scale=1.0, length_scale_bounds=(1e-2, 10.0),nu=0.35))\n",
    "    models = [rf,gb,lr,rr,lasso,gpr1,gpr2,gpr3,gpr4,gpr5,gpr6]\n",
    "    models_names = [\"RF\",\"GB\",\"LR\",\"RR\",\"LASSO\",\"gpr1\",\"gpr2\",\"gpr3\",\"gpr4\",\"gpr5\",\"gpr6\"]\n",
    "    r2scores=[]\n",
    "    rmse=[]\n",
    "    count=0\n",
    "    for model in models :\n",
    "        predicted_y = []\n",
    "        expected_y = []\n",
    "        kf = KFold(n_splits= 10) \n",
    "        # partition data\n",
    "        for train_index, test_index in kf.split(X, Y):\n",
    "            # specific \".loc\" syntax for working with dataframes\n",
    "            x_train, x_test = X.loc[train_index], X.loc[test_index]\n",
    "            y_train, y_test = Y[train_index], Y[test_index]\n",
    "\n",
    "            # create and fit classifier\n",
    "            model.fit(x_train, y_train)\n",
    "\n",
    "            # store result from classification\n",
    "            predicted_y.extend(model.predict(x_test))\n",
    "\n",
    "            # store expected result for this specific fold\n",
    "            expected_y.extend(y_test)\n",
    "        \n",
    "        r2 = metrics.r2_score(expected_y, predicted_y)\n",
    "        r2scores.append(r2)\n",
    "        \n",
    "        err=np.sqrt(metrics.mean_squared_error(expected_y, predicted_y))\n",
    "        rmse.append(err)\n",
    "        \n",
    "        print(models_names[count])\n",
    "        print(\"R2: \",r2.__str__())\n",
    "        print(\"RMSE: \",err)\n",
    "        print(\"---------------------------------------\")\n",
    "        count+=1\n",
    "    \n",
    "    plt.rcdefaults()\n",
    "    fig, ax = plt.subplots()\n",
    "\n",
    "    x_pos = np.arange(len(models_names))\n",
    "    ax.bar(x_pos, r2scores, align='center')\n",
    "    ax.set_xticks(x_pos)\n",
    "    ax.set_xticklabels(models_names)\n",
    "    ax.set_ylabel('R2 Score')\n",
    "    #plt.savefig('imp.eps', format='eps')\n",
    "    #plt.show()\n",
    "    print(r2scores)"
   ]
  },
  {
   "cell_type": "markdown",
   "metadata": {},
   "source": [
    "# Standard Scaling"
   ]
  },
  {
   "cell_type": "code",
   "execution_count": 4,
   "metadata": {
    "id": "hjdsOVHoYDJB"
   },
   "outputs": [],
   "source": [
    "data_std = pd.read_csv('scaled_standard_Coeff_B.csv', encoding='cp1252')   "
   ]
  },
  {
   "cell_type": "code",
   "execution_count": 5,
   "metadata": {},
   "outputs": [
    {
     "data": {
      "text/plain": [
       "array(['Name', 'density', 'mean_A2B', 'mean_A2X', 'mean_B2X', 'mean_X2X',\n",
       "       'std_A2B', 'std_A2X', 'std_B2X', 'std_X2X', 'E_coh', 'TF', 'OF',\n",
       "       'A_Z', 'B_Z', 'X_Z', 'A_G', 'B_G', 'X_G', 'A_IEI', 'B_IEI',\n",
       "       'X_IEI', 'A_IEII', 'B_IEII', 'X_IEII', 'A_EA', 'B_EA', 'X_EA',\n",
       "       'A_ChiP', 'B_ChiP', 'X_ChiP', 'A_ChiA', 'B_ChiA', 'A_Rvdw',\n",
       "       'B_Rvdw', 'X_Rvdw', 'B_Rc', 'B_Ra', 'A_MP', 'B_MP', 'A_Rho',\n",
       "       'B_Rho', 'X_Rho', 'B_MV', 'X_MV', 'B_Hf', 'A_Kappa', 'B_Kappa',\n",
       "       'X_Kappa', 'A_CvM', 'B_CvM', 'A_B', 'B_B', 'B_MendeleevNo',\n",
       "       'Coeff_B'], dtype=object)"
      ]
     },
     "execution_count": 5,
     "metadata": {},
     "output_type": "execute_result"
    }
   ],
   "source": [
    "data_std.columns.values"
   ]
  },
  {
   "cell_type": "code",
   "execution_count": 6,
   "metadata": {},
   "outputs": [],
   "source": [
    "data_std.fillna(0, inplace= True)"
   ]
  },
  {
   "cell_type": "code",
   "execution_count": 7,
   "metadata": {},
   "outputs": [],
   "source": [
    "Y = data_std['Coeff_B'] \n",
    "X = data_std.drop(['Coeff_B','Name'], axis=1)"
   ]
  },
  {
   "cell_type": "markdown",
   "metadata": {
    "id": "ZaJDp0jdzwnZ"
   },
   "source": [
    "### Using CV technique"
   ]
  },
  {
   "cell_type": "code",
   "execution_count": 8,
   "metadata": {},
   "outputs": [
    {
     "name": "stdout",
     "output_type": "stream",
     "text": [
      "RF\n",
      "R2:  0.9040453154443587\n",
      "RMSE:  0.3097655315809705\n",
      "---------------------------------------\n",
      "GB\n",
      "R2:  0.8445987140439155\n",
      "RMSE:  0.3942096979477857\n",
      "---------------------------------------\n",
      "LR\n",
      "R2:  -5.580204438660056\n",
      "RMSE:  2.565190916610313\n",
      "---------------------------------------\n",
      "RR\n",
      "R2:  -0.46745016571684994\n",
      "RMSE:  1.2113835749740254\n",
      "---------------------------------------\n",
      "LASSO\n",
      "R2:  0.8888182400511636\n",
      "RMSE:  0.333439289749778\n",
      "---------------------------------------\n",
      "gpr1\n",
      "R2:  0.4689857341936998\n",
      "RMSE:  0.7287072565895719\n",
      "---------------------------------------\n",
      "gpr2\n",
      "R2:  0.9390411008409811\n",
      "RMSE:  0.24689856046364245\n",
      "---------------------------------------\n",
      "gpr3\n",
      "R2:  0.9432185995920211\n",
      "RMSE:  0.23828848148405918\n",
      "---------------------------------------\n",
      "gpr4\n",
      "R2:  0.9432185991565915\n",
      "RMSE:  0.23828848239772002\n",
      "---------------------------------------\n",
      "gpr5\n",
      "R2:  0.9434956302262537\n",
      "RMSE:  0.23770647819053298\n",
      "---------------------------------------\n",
      "gpr6\n",
      "R2:  0.8705185354579944\n",
      "RMSE:  0.3598353297579402\n",
      "---------------------------------------\n",
      "[0.9040453154443587, 0.8445987140439155, -5.580204438660056, -0.46745016571684994, 0.8888182400511636, 0.4689857341936998, 0.9390411008409811, 0.9432185995920211, 0.9432185991565915, 0.9434956302262537, 0.8705185354579944]\n"
     ]
    },
    {
     "data": {
      "image/png": "[encoded data removed]",
      "text/plain": [
       "<Figure size 640x480 with 1 Axes>"
      ]
     },
     "metadata": {},
     "output_type": "display_data"
    }
   ],
   "source": [
    "run_models()"
   ]
  },
  {
   "cell_type": "markdown",
   "metadata": {
    "id": "_x7bQR-jz4WE"
   },
   "source": [
    "## Feature selection\n"
   ]
  },
  {
   "cell_type": "code",
   "execution_count": 9,
   "metadata": {
    "colab": {
     "base_uri": "https://localhost:8080/"
    },
    "id": "RpTITR9vz7Th",
    "outputId": "b1c134f4-85a3-49a7-fa3a-34f5d4896d01"
   },
   "outputs": [
    {
     "name": "stdout",
     "output_type": "stream",
     "text": [
      "     Feature       Score\n",
      "1   mean_A2B  123.813866\n",
      "26      X_EA  117.183506\n",
      "14       X_Z   99.651797\n",
      "34    X_Rvdw   87.228516\n",
      "4   mean_X2X   73.889589\n",
      "23    X_IEII   71.960813\n",
      "32    A_Rvdw   51.441835\n",
      "2   mean_A2X   50.449602\n",
      "18     A_IEI   35.525431\n",
      "30    A_ChiA   32.735412\n",
      "9      E_coh   31.896431\n",
      "44      B_Hf   19.545691\n",
      "17       X_G   17.821495\n",
      "6    std_A2X   16.320932\n",
      "27    A_ChiP   15.809368\n",
      "38      B_MP   15.701586\n",
      "7    std_B2X   15.556831\n",
      "11        OF   15.234473\n",
      "36      B_Ra   14.704776\n",
      "37      A_MP   12.747613\n",
      "24      A_EA   11.971525\n",
      "13       B_Z   11.111687\n",
      "12       A_Z   11.021670\n",
      "47   X_Kappa    8.465232\n",
      "48     A_CvM    8.222969\n",
      "45   A_Kappa    7.662938\n",
      "42      B_MV    7.438268\n",
      "43      X_MV    7.201300\n",
      "46   B_Kappa    6.859575\n",
      "5    std_A2B    5.573858\n"
     ]
    }
   ],
   "source": [
    "#apply SelectKBest class to extract top 10 best features\n",
    "bestfeatures = SelectKBest(score_func=f_regression, k=10)\n",
    "fit = bestfeatures.fit(X,Y)\n",
    "dfscores = pd.DataFrame(fit.scores_)\n",
    "dfcolumns = pd.DataFrame(X.columns)\n",
    "#concat two dataframes for better visualization \n",
    "featureScores = pd.concat([dfcolumns,dfscores],axis=1)\n",
    "featureScores.columns = ['Feature','Score']  #naming the dataframe columns\n",
    "print(featureScores.nlargest(30,'Score'))  #print 10 best features"
   ]
  },
  {
   "cell_type": "code",
   "execution_count": 10,
   "metadata": {},
   "outputs": [
    {
     "data": {
      "text/plain": [
       "array(['mean_A2B', 'X_EA', 'X_Z', 'X_Rvdw', 'mean_X2X', 'X_IEII',\n",
       "       'A_Rvdw', 'mean_A2X', 'A_IEI', 'A_ChiA', 'E_coh', 'B_Hf', 'X_G',\n",
       "       'std_A2X', 'A_ChiP', 'B_MP', 'std_B2X', 'OF', 'B_Ra', 'A_MP',\n",
       "       'A_EA', 'B_Z', 'A_Z', 'X_Kappa', 'A_CvM', 'A_Kappa', 'B_MV',\n",
       "       'X_MV', 'B_Kappa', 'std_A2B', 'A_B', 'B_CvM', 'B_Rho', 'std_X2X',\n",
       "       'A_G', 'TF', 'B_EA', 'B_Rvdw', 'X_IEI', 'B_Rc'], dtype=object)"
      ]
     },
     "execution_count": 10,
     "metadata": {},
     "output_type": "execute_result"
    }
   ],
   "source": [
    "featureScores.nlargest(40,'Score')['Feature'].values"
   ]
  },
  {
   "cell_type": "code",
   "execution_count": 11,
   "metadata": {},
   "outputs": [],
   "source": [
    "X=X[featureScores.nlargest(40,'Score')['Feature'].values]"
   ]
  },
  {
   "cell_type": "code",
   "execution_count": 12,
   "metadata": {},
   "outputs": [
    {
     "name": "stdout",
     "output_type": "stream",
     "text": [
      "RF\n",
      "R2:  0.9069796711940419\n",
      "RMSE:  0.3049923422087154\n",
      "---------------------------------------\n",
      "GB\n",
      "R2:  0.8330061316132444\n",
      "RMSE:  0.40864883260172846\n",
      "---------------------------------------\n",
      "LR\n",
      "R2:  -2.1698120503407248\n",
      "RMSE:  1.7803965991712984\n",
      "---------------------------------------\n",
      "RR\n",
      "R2:  0.2733691734384124\n",
      "RMSE:  0.8524264346919256\n",
      "---------------------------------------\n",
      "LASSO\n",
      "R2:  0.8996086482539054\n",
      "RMSE:  0.31684594323755294\n",
      "---------------------------------------\n",
      "gpr1\n",
      "R2:  0.7263399531932688\n",
      "RMSE:  0.5231252687518843\n",
      "---------------------------------------\n",
      "gpr2\n",
      "R2:  0.9489249642848782\n",
      "RMSE:  0.22599786661630641\n",
      "---------------------------------------\n",
      "gpr3\n",
      "R2:  0.9510524726772582\n",
      "RMSE:  0.2212408807674154\n",
      "---------------------------------------\n",
      "gpr4\n",
      "R2:  0.9510524725832195\n",
      "RMSE:  0.22124088097994135\n",
      "---------------------------------------\n",
      "gpr5\n",
      "R2:  0.9515369472321833\n",
      "RMSE:  0.22014325510407243\n",
      "---------------------------------------\n",
      "gpr6\n",
      "R2:  0.8948288985948674\n",
      "RMSE:  0.32430094265224174\n",
      "---------------------------------------\n",
      "[0.9069796711940419, 0.8330061316132444, -2.1698120503407248, 0.2733691734384124, 0.8996086482539054, 0.7263399531932688, 0.9489249642848782, 0.9510524726772582, 0.9510524725832195, 0.9515369472321833, 0.8948288985948674]\n"
     ]
    },
    {
     "data": {
      "image/png": "[encoded data removed]",
      "text/plain": [
       "<Figure size 640x480 with 1 Axes>"
      ]
     },
     "metadata": {},
     "output_type": "display_data"
    }
   ],
   "source": [
    "run_models()"
   ]
  },
  {
   "cell_type": "code",
   "execution_count": 13,
   "metadata": {},
   "outputs": [
    {
     "data": {
      "text/plain": [
       "array(['mean_A2B', 'X_EA', 'X_Z', 'X_Rvdw', 'mean_X2X', 'X_IEII',\n",
       "       'A_Rvdw', 'mean_A2X', 'A_IEI', 'A_ChiA', 'E_coh', 'B_Hf', 'X_G',\n",
       "       'std_A2X', 'A_ChiP', 'B_MP', 'std_B2X', 'OF', 'B_Ra', 'A_MP',\n",
       "       'A_EA', 'B_Z', 'A_Z', 'X_Kappa', 'A_CvM', 'A_Kappa', 'B_MV',\n",
       "       'X_MV', 'B_Kappa', 'std_A2B'], dtype=object)"
      ]
     },
     "execution_count": 13,
     "metadata": {},
     "output_type": "execute_result"
    }
   ],
   "source": [
    "featureScores.nlargest(30,'Score')['Feature'].values"
   ]
  },
  {
   "cell_type": "code",
   "execution_count": 14,
   "metadata": {},
   "outputs": [],
   "source": [
    "X=X[featureScores.nlargest(30,'Score')['Feature'].values]"
   ]
  },
  {
   "cell_type": "code",
   "execution_count": 15,
   "metadata": {},
   "outputs": [
    {
     "name": "stdout",
     "output_type": "stream",
     "text": [
      "RF\n",
      "R2:  0.8998491982470521\n",
      "RMSE:  0.3164661146994222\n",
      "---------------------------------------\n",
      "GB\n",
      "R2:  0.8466702061455559\n",
      "RMSE:  0.39157348461616254\n",
      "---------------------------------------\n",
      "LR\n",
      "R2:  0.6553256314604707\n",
      "RMSE:  0.5870897448768198\n",
      "---------------------------------------\n",
      "RR\n",
      "R2:  0.6653386016424313\n",
      "RMSE:  0.5784992639213715\n",
      "---------------------------------------\n",
      "LASSO\n",
      "R2:  0.8937370786143087\n",
      "RMSE:  0.32597994015842635\n",
      "---------------------------------------\n",
      "gpr1\n",
      "R2:  0.7313984050981863\n",
      "RMSE:  0.5182678794810784\n",
      "---------------------------------------\n",
      "gpr2\n",
      "R2:  0.9282475435083468\n",
      "RMSE:  0.26786649004989993\n",
      "---------------------------------------\n",
      "gpr3\n",
      "R2:  0.9400037403584771\n",
      "RMSE:  0.24494133918455435\n",
      "---------------------------------------\n",
      "gpr4\n",
      "R2:  0.9400037419744399\n",
      "RMSE:  0.2449413358858812\n",
      "---------------------------------------\n",
      "gpr5\n",
      "R2:  0.9408357060274536\n",
      "RMSE:  0.24323711471020706\n",
      "---------------------------------------\n",
      "gpr6\n",
      "R2:  0.906240723367562\n",
      "RMSE:  0.30620136615050886\n",
      "---------------------------------------\n",
      "[0.8998491982470521, 0.8466702061455559, 0.6553256314604707, 0.6653386016424313, 0.8937370786143087, 0.7313984050981863, 0.9282475435083468, 0.9400037403584771, 0.9400037419744399, 0.9408357060274536, 0.906240723367562]\n"
     ]
    },
    {
     "data": {
      "image/png": "[encoded data removed]",
      "text/plain": [
       "<Figure size 640x480 with 1 Axes>"
      ]
     },
     "metadata": {},
     "output_type": "display_data"
    }
   ],
   "source": [
    "run_models()"
   ]
  },
  {
   "cell_type": "code",
   "execution_count": 16,
   "metadata": {},
   "outputs": [
    {
     "data": {
      "text/plain": [
       "array(['mean_A2B', 'X_EA', 'X_Z', 'X_Rvdw', 'mean_X2X', 'X_IEII',\n",
       "       'A_Rvdw', 'mean_A2X', 'A_IEI', 'A_ChiA', 'E_coh', 'B_Hf', 'X_G',\n",
       "       'std_A2X', 'A_ChiP', 'B_MP', 'std_B2X', 'OF', 'B_Ra', 'A_MP'],\n",
       "      dtype=object)"
      ]
     },
     "execution_count": 16,
     "metadata": {},
     "output_type": "execute_result"
    }
   ],
   "source": [
    "featureScores.nlargest(20,'Score')['Feature'].values"
   ]
  },
  {
   "cell_type": "code",
   "execution_count": 17,
   "metadata": {},
   "outputs": [],
   "source": [
    "X=X[featureScores.nlargest(20,'Score')['Feature'].values]"
   ]
  },
  {
   "cell_type": "code",
   "execution_count": 18,
   "metadata": {},
   "outputs": [
    {
     "name": "stdout",
     "output_type": "stream",
     "text": [
      "RF\n",
      "R2:  0.8777658713890886\n",
      "RMSE:  0.34961997741964257\n",
      "---------------------------------------\n",
      "GB\n",
      "R2:  0.8086772351357466\n",
      "RMSE:  0.43740457801016824\n",
      "---------------------------------------\n",
      "LR\n",
      "R2:  0.8195185093395743\n",
      "RMSE:  0.42483113193412014\n",
      "---------------------------------------\n",
      "RR\n",
      "R2:  0.8200369448059193\n",
      "RMSE:  0.4242205266062461\n",
      "---------------------------------------\n",
      "LASSO\n",
      "R2:  0.881663378866629\n",
      "RMSE:  0.3440009028089476\n",
      "---------------------------------------\n",
      "gpr1\n",
      "R2:  0.8555004061247118\n",
      "RMSE:  0.38013102198490484\n",
      "---------------------------------------\n",
      "gpr2\n",
      "R2:  0.9229382155928397\n",
      "RMSE:  0.2776000439610201\n",
      "---------------------------------------\n",
      "gpr3\n",
      "R2:  0.8040970336002515\n",
      "RMSE:  0.44260927057592064\n",
      "---------------------------------------\n",
      "gpr4\n",
      "R2:  0.9151224151856353\n",
      "RMSE:  0.29133757878853295\n",
      "---------------------------------------\n",
      "gpr5\n",
      "R2:  0.9306881793136887\n",
      "RMSE:  0.2632713822015435\n",
      "---------------------------------------\n",
      "gpr6\n",
      "R2:  0.9237637788625572\n",
      "RMSE:  0.27610907471041723\n",
      "---------------------------------------\n",
      "[0.8777658713890886, 0.8086772351357466, 0.8195185093395743, 0.8200369448059193, 0.881663378866629, 0.8555004061247118, 0.9229382155928397, 0.8040970336002515, 0.9151224151856353, 0.9306881793136887, 0.9237637788625572]\n"
     ]
    },
    {
     "data": {
      "image/png": "[encoded data removed]",
      "text/plain": [
       "<Figure size 640x480 with 1 Axes>"
      ]
     },
     "metadata": {},
     "output_type": "display_data"
    }
   ],
   "source": [
    "run_models()"
   ]
  },
  {
   "cell_type": "code",
   "execution_count": 19,
   "metadata": {},
   "outputs": [
    {
     "data": {
      "text/plain": [
       "array(['mean_A2B', 'X_EA', 'X_Z', 'X_Rvdw', 'mean_X2X', 'X_IEII',\n",
       "       'A_Rvdw', 'mean_A2X', 'A_IEI', 'A_ChiA'], dtype=object)"
      ]
     },
     "execution_count": 19,
     "metadata": {},
     "output_type": "execute_result"
    }
   ],
   "source": [
    "featureScores.nlargest(10,'Score')['Feature'].values"
   ]
  },
  {
   "cell_type": "code",
   "execution_count": 20,
   "metadata": {},
   "outputs": [],
   "source": [
    "X=X[featureScores.nlargest(10,'Score')['Feature'].values]"
   ]
  },
  {
   "cell_type": "code",
   "execution_count": 21,
   "metadata": {},
   "outputs": [
    {
     "name": "stdout",
     "output_type": "stream",
     "text": [
      "RF\n",
      "R2:  0.8572433568993887\n",
      "RMSE:  0.3778315009374037\n",
      "---------------------------------------\n",
      "GB\n",
      "R2:  0.801612542256012\n",
      "RMSE:  0.4454070697058905\n",
      "---------------------------------------\n",
      "LR\n",
      "R2:  0.8517160365954504\n",
      "RMSE:  0.38507656823617503\n",
      "---------------------------------------\n",
      "RR\n",
      "R2:  0.851761369307936\n",
      "RMSE:  0.3850177017905332\n",
      "---------------------------------------\n",
      "LASSO\n",
      "R2:  0.8547612035465528\n",
      "RMSE:  0.38110208140791774\n",
      "---------------------------------------\n",
      "gpr1\n",
      "R2:  0.8623884958253317\n",
      "RMSE:  0.3709602460839547\n",
      "---------------------------------------\n",
      "gpr2\n",
      "R2:  0.8571258108858765\n",
      "RMSE:  0.37798702241495474\n",
      "---------------------------------------\n",
      "gpr3\n",
      "R2:  0.44485110304728914\n",
      "RMSE:  0.7450831476772984\n",
      "---------------------------------------\n",
      "gpr4\n",
      "R2:  0.4571322462618914\n",
      "RMSE:  0.736795598343332\n",
      "---------------------------------------\n",
      "gpr5\n",
      "R2:  0.8433540021996703\n",
      "RMSE:  0.39578529255181993\n",
      "---------------------------------------\n",
      "gpr6\n",
      "R2:  0.8532580829007448\n",
      "RMSE:  0.38306907614587626\n",
      "---------------------------------------\n",
      "[0.8572433568993887, 0.801612542256012, 0.8517160365954504, 0.851761369307936, 0.8547612035465528, 0.8623884958253317, 0.8571258108858765, 0.44485110304728914, 0.4571322462618914, 0.8433540021996703, 0.8532580829007448]\n"
     ]
    },
    {
     "data": {
      "image/png": "[encoded data removed]",
      "text/plain": [
       "<Figure size 640x480 with 1 Axes>"
      ]
     },
     "metadata": {},
     "output_type": "display_data"
    }
   ],
   "source": [
    "run_models()"
   ]
  },
  {
   "cell_type": "markdown",
   "metadata": {},
   "source": [
    "# Min-Max scaling"
   ]
  },
  {
   "cell_type": "code",
   "execution_count": 22,
   "metadata": {},
   "outputs": [],
   "source": [
    "data_mm = pd.read_csv('scaled_minmax_Coeff_B.csv', encoding='cp1252')"
   ]
  },
  {
   "cell_type": "code",
   "execution_count": 23,
   "metadata": {},
   "outputs": [],
   "source": [
    "data_mm.fillna(0, inplace= True)"
   ]
  },
  {
   "cell_type": "code",
   "execution_count": 24,
   "metadata": {},
   "outputs": [],
   "source": [
    "Y = data_mm['Coeff_B'] \n",
    "X = data_mm.drop(['Coeff_B','Name'], axis=1)"
   ]
  },
  {
   "cell_type": "markdown",
   "metadata": {
    "id": "ZaJDp0jdzwnZ"
   },
   "source": [
    "### Using CV technique"
   ]
  },
  {
   "cell_type": "code",
   "execution_count": 25,
   "metadata": {},
   "outputs": [
    {
     "name": "stdout",
     "output_type": "stream",
     "text": [
      "RF\n",
      "R2:  0.9046890987335664\n",
      "RMSE:  0.08340763738057017\n",
      "---------------------------------------\n",
      "GB\n",
      "R2:  0.8597818674643691\n",
      "RMSE:  0.10116647565500346\n",
      "---------------------------------------\n",
      "LR\n",
      "R2:  -7.055989780300152\n",
      "RMSE:  0.7668209766247539\n",
      "---------------------------------------\n",
      "RR\n",
      "R2:  0.7504676687718039\n",
      "RMSE:  0.13495778547949583\n",
      "---------------------------------------\n",
      "LASSO\n",
      "R2:  0.8267494157499651\n",
      "RMSE:  0.11245321732162042\n",
      "---------------------------------------\n",
      "gpr1\n",
      "R2:  0.6335938001798578\n",
      "RMSE:  0.16353696668737283\n",
      "---------------------------------------\n",
      "gpr2\n",
      "R2:  0.9400514084006424\n",
      "RMSE:  0.0661491127706708\n",
      "---------------------------------------\n",
      "gpr3\n",
      "R2:  0.940709379949343\n",
      "RMSE:  0.06578509821223873\n",
      "---------------------------------------\n",
      "gpr4\n",
      "R2:  0.9407093828949686\n",
      "RMSE:  0.06578509657809933\n",
      "---------------------------------------\n",
      "gpr5\n",
      "R2:  0.9542901561745804\n",
      "RMSE:  0.05776162465059937\n",
      "---------------------------------------\n",
      "gpr6\n",
      "R2:  0.901597353514233\n",
      "RMSE:  0.08474965143456356\n",
      "---------------------------------------\n",
      "[0.9046890987335664, 0.8597818674643691, -7.055989780300152, 0.7504676687718039, 0.8267494157499651, 0.6335938001798578, 0.9400514084006424, 0.940709379949343, 0.9407093828949686, 0.9542901561745804, 0.901597353514233]\n"
     ]
    },
    {
     "data": {
      "image/png": "[encoded data removed]",
      "text/plain": [
       "<Figure size 640x480 with 1 Axes>"
      ]
     },
     "metadata": {},
     "output_type": "display_data"
    }
   ],
   "source": [
    "run_models()"
   ]
  },
  {
   "cell_type": "markdown",
   "metadata": {
    "id": "_x7bQR-jz4WE"
   },
   "source": [
    "## Feature selection\n"
   ]
  },
  {
   "cell_type": "code",
   "execution_count": 26,
   "metadata": {
    "colab": {
     "base_uri": "https://localhost:8080/"
    },
    "id": "RpTITR9vz7Th",
    "outputId": "b1c134f4-85a3-49a7-fa3a-34f5d4896d01"
   },
   "outputs": [
    {
     "name": "stdout",
     "output_type": "stream",
     "text": [
      "     Feature       Score\n",
      "1   mean_A2B  123.813866\n",
      "26      X_EA  117.183506\n",
      "14       X_Z   99.651797\n",
      "34    X_Rvdw   87.228516\n",
      "4   mean_X2X   73.889589\n",
      "32    A_Rvdw   51.441835\n",
      "2   mean_A2X   50.449602\n",
      "18     A_IEI   35.525431\n",
      "9      E_coh   31.896431\n",
      "30    A_ChiA   31.410595\n",
      "44      B_Hf   19.545691\n",
      "17       X_G   17.821495\n",
      "6    std_A2X   16.320932\n",
      "23    X_IEII   15.947207\n",
      "27    A_ChiP   15.809368\n",
      "38      B_MP   15.701586\n",
      "7    std_B2X   15.556831\n",
      "11        OF   15.234473\n",
      "36      B_Ra   14.704776\n",
      "37      A_MP   12.747613\n",
      "24      A_EA   11.971525\n",
      "13       B_Z   11.111687\n",
      "12       A_Z   11.021670\n",
      "41     X_Rho   10.709519\n",
      "47   X_Kappa    8.465232\n",
      "48     A_CvM    8.222969\n",
      "31    B_ChiA    7.956686\n",
      "45   A_Kappa    7.662938\n",
      "42      B_MV    7.438268\n",
      "43      X_MV    7.201300\n"
     ]
    }
   ],
   "source": [
    "#apply SelectKBest class to extract top 10 best features\n",
    "bestfeatures = SelectKBest(score_func=f_regression, k=10)\n",
    "fit = bestfeatures.fit(X,Y)\n",
    "dfscores = pd.DataFrame(fit.scores_)\n",
    "dfcolumns = pd.DataFrame(X.columns)\n",
    "#concat two dataframes for better visualization \n",
    "featureScores = pd.concat([dfcolumns,dfscores],axis=1)\n",
    "featureScores.columns = ['Feature','Score']  #naming the dataframe columns\n",
    "print(featureScores.nlargest(30,'Score'))  #print 10 best features"
   ]
  },
  {
   "cell_type": "code",
   "execution_count": 27,
   "metadata": {},
   "outputs": [
    {
     "data": {
      "text/plain": [
       "array(['mean_A2B', 'X_EA', 'X_Z', 'X_Rvdw', 'mean_X2X', 'A_Rvdw',\n",
       "       'mean_A2X', 'A_IEI', 'E_coh', 'A_ChiA', 'B_Hf', 'X_G', 'std_A2X',\n",
       "       'X_IEII', 'A_ChiP', 'B_MP', 'std_B2X', 'OF', 'B_Ra', 'A_MP',\n",
       "       'A_EA', 'B_Z', 'A_Z', 'X_Rho', 'X_Kappa', 'A_CvM', 'B_ChiA',\n",
       "       'A_Kappa', 'B_MV', 'X_MV', 'B_Kappa', 'std_A2B', 'A_B', 'B_CvM',\n",
       "       'std_X2X', 'A_G', 'B_Rho', 'TF', 'B_EA', 'B_Rvdw'], dtype=object)"
      ]
     },
     "execution_count": 27,
     "metadata": {},
     "output_type": "execute_result"
    }
   ],
   "source": [
    "featureScores.nlargest(40,'Score')['Feature'].values"
   ]
  },
  {
   "cell_type": "code",
   "execution_count": 28,
   "metadata": {},
   "outputs": [],
   "source": [
    "X=X[featureScores.nlargest(40,'Score')['Feature'].values]"
   ]
  },
  {
   "cell_type": "code",
   "execution_count": 29,
   "metadata": {},
   "outputs": [
    {
     "name": "stdout",
     "output_type": "stream",
     "text": [
      "RF\n",
      "R2:  0.9068889488197633\n",
      "RMSE:  0.0824394614767302\n",
      "---------------------------------------\n",
      "GB\n",
      "R2:  0.8343136058409388\n",
      "RMSE:  0.10997094437244626\n",
      "---------------------------------------\n",
      "LR\n",
      "R2:  -0.11916547670577438\n",
      "RMSE:  0.2858128060381948\n",
      "---------------------------------------\n",
      "RR\n",
      "R2:  0.8381158221701527\n",
      "RMSE:  0.10870179940777458\n",
      "---------------------------------------\n",
      "LASSO\n",
      "R2:  0.8267591204380129\n",
      "RMSE:  0.11245006772566975\n",
      "---------------------------------------\n",
      "gpr1\n",
      "R2:  0.7828903771425757\n",
      "RMSE:  0.12588502421921335\n",
      "---------------------------------------\n",
      "gpr2\n",
      "R2:  0.9399788187664813\n",
      "RMSE:  0.06618914946780627\n",
      "---------------------------------------\n",
      "gpr3\n",
      "R2:  0.9341862212524027\n",
      "RMSE:  0.06930952855161004\n",
      "---------------------------------------\n",
      "gpr4\n",
      "R2:  0.934186223129284\n",
      "RMSE:  0.06930952756332338\n",
      "---------------------------------------\n",
      "gpr5\n",
      "R2:  0.9482546437365745\n",
      "RMSE:  0.061456839456776234\n",
      "---------------------------------------\n",
      "gpr6\n",
      "R2:  0.9101585674901828\n",
      "RMSE:  0.0809790850166743\n",
      "---------------------------------------\n",
      "[0.9068889488197633, 0.8343136058409388, -0.11916547670577438, 0.8381158221701527, 0.8267591204380129, 0.7828903771425757, 0.9399788187664813, 0.9341862212524027, 0.934186223129284, 0.9482546437365745, 0.9101585674901828]\n"
     ]
    },
    {
     "data": {
      "image/png": "[encoded data removed]",
      "text/plain": [
       "<Figure size 640x480 with 1 Axes>"
      ]
     },
     "metadata": {},
     "output_type": "display_data"
    }
   ],
   "source": [
    "run_models()"
   ]
  },
  {
   "cell_type": "code",
   "execution_count": 30,
   "metadata": {},
   "outputs": [
    {
     "data": {
      "text/plain": [
       "array(['mean_A2B', 'X_EA', 'X_Z', 'X_Rvdw', 'mean_X2X', 'A_Rvdw',\n",
       "       'mean_A2X', 'A_IEI', 'E_coh', 'A_ChiA', 'B_Hf', 'X_G', 'std_A2X',\n",
       "       'X_IEII', 'A_ChiP', 'B_MP', 'std_B2X', 'OF', 'B_Ra', 'A_MP',\n",
       "       'A_EA', 'B_Z', 'A_Z', 'X_Rho', 'X_Kappa', 'A_CvM', 'B_ChiA',\n",
       "       'A_Kappa', 'B_MV', 'X_MV'], dtype=object)"
      ]
     },
     "execution_count": 30,
     "metadata": {},
     "output_type": "execute_result"
    }
   ],
   "source": [
    "featureScores.nlargest(30,'Score')['Feature'].values"
   ]
  },
  {
   "cell_type": "code",
   "execution_count": 31,
   "metadata": {},
   "outputs": [],
   "source": [
    "X=X[featureScores.nlargest(30,'Score')['Feature'].values]"
   ]
  },
  {
   "cell_type": "code",
   "execution_count": 32,
   "metadata": {},
   "outputs": [
    {
     "name": "stdout",
     "output_type": "stream",
     "text": [
      "RF\n",
      "R2:  0.8964288422858656\n",
      "RMSE:  0.08694686885278366\n",
      "---------------------------------------\n",
      "GB\n",
      "R2:  0.8369491926668786\n",
      "RMSE:  0.10909277977641023\n",
      "---------------------------------------\n",
      "LR\n",
      "R2:  0.7622540827258542\n",
      "RMSE:  0.1317319331743408\n",
      "---------------------------------------\n",
      "RR\n",
      "R2:  0.8319806842670687\n",
      "RMSE:  0.11074245250284948\n",
      "---------------------------------------\n",
      "LASSO\n",
      "R2:  0.8267591091412199\n",
      "RMSE:  0.11245007139202472\n",
      "---------------------------------------\n",
      "gpr1\n",
      "R2:  0.8402390867153269\n",
      "RMSE:  0.10798658287790433\n",
      "---------------------------------------\n",
      "gpr2\n",
      "R2:  0.9229082651280768\n",
      "RMSE:  0.07501332926705917\n",
      "---------------------------------------\n",
      "gpr3\n",
      "R2:  0.911224569808235\n",
      "RMSE:  0.08049722777781108\n",
      "---------------------------------------\n",
      "gpr4\n",
      "R2:  0.9112245616999702\n",
      "RMSE:  0.08049723145390039\n",
      "---------------------------------------\n",
      "gpr5\n",
      "R2:  0.9372227854876503\n",
      "RMSE:  0.06769172043947899\n",
      "---------------------------------------\n",
      "gpr6\n",
      "R2:  0.9193155061400643\n",
      "RMSE:  0.07674137402635359\n",
      "---------------------------------------\n",
      "[0.8964288422858656, 0.8369491926668786, 0.7622540827258542, 0.8319806842670687, 0.8267591091412199, 0.8402390867153269, 0.9229082651280768, 0.911224569808235, 0.9112245616999702, 0.9372227854876503, 0.9193155061400643]\n"
     ]
    },
    {
     "data": {
      "image/png": "[encoded data removed]",
      "text/plain": [
       "<Figure size 640x480 with 1 Axes>"
      ]
     },
     "metadata": {},
     "output_type": "display_data"
    }
   ],
   "source": [
    "run_models()"
   ]
  },
  {
   "cell_type": "code",
   "execution_count": 33,
   "metadata": {},
   "outputs": [
    {
     "data": {
      "text/plain": [
       "array(['mean_A2B', 'X_EA', 'X_Z', 'X_Rvdw', 'mean_X2X', 'A_Rvdw',\n",
       "       'mean_A2X', 'A_IEI', 'E_coh', 'A_ChiA', 'B_Hf', 'X_G', 'std_A2X',\n",
       "       'X_IEII', 'A_ChiP', 'B_MP', 'std_B2X', 'OF', 'B_Ra', 'A_MP'],\n",
       "      dtype=object)"
      ]
     },
     "execution_count": 33,
     "metadata": {},
     "output_type": "execute_result"
    }
   ],
   "source": [
    "featureScores.nlargest(20,'Score')['Feature'].values"
   ]
  },
  {
   "cell_type": "code",
   "execution_count": 34,
   "metadata": {},
   "outputs": [],
   "source": [
    "X=X[featureScores.nlargest(20,'Score')['Feature'].values]"
   ]
  },
  {
   "cell_type": "code",
   "execution_count": 35,
   "metadata": {},
   "outputs": [
    {
     "name": "stdout",
     "output_type": "stream",
     "text": [
      "RF\n",
      "R2:  0.8866632195122127\n",
      "RMSE:  0.09095361544868656\n",
      "---------------------------------------\n",
      "GB\n",
      "R2:  0.790936812108644\n",
      "RMSE:  0.12353024863377672\n",
      "---------------------------------------\n",
      "LR\n",
      "R2:  0.8337931482062833\n",
      "RMSE:  0.11014353048373748\n",
      "---------------------------------------\n",
      "RR\n",
      "R2:  0.8546178034861199\n",
      "RMSE:  0.10301255152859673\n",
      "---------------------------------------\n",
      "LASSO\n",
      "R2:  0.8108589802780296\n",
      "RMSE:  0.1174971667366398\n",
      "---------------------------------------\n",
      "gpr1\n",
      "R2:  0.8565726718164348\n",
      "RMSE:  0.10231763318512019\n",
      "---------------------------------------\n",
      "gpr2\n",
      "R2:  0.9174921459787427\n",
      "RMSE:  0.07760365514629254\n",
      "---------------------------------------\n",
      "gpr3\n",
      "R2:  0.8528809146632059\n",
      "RMSE:  0.10362607273862162\n",
      "---------------------------------------\n",
      "gpr4\n",
      "R2:  0.8528809034552292\n",
      "RMSE:  0.10362607668589532\n",
      "---------------------------------------\n",
      "gpr5\n",
      "R2:  0.9254192068511937\n",
      "RMSE:  0.07378159341154529\n",
      "---------------------------------------\n",
      "gpr6\n",
      "R2:  0.9292251839525596\n",
      "RMSE:  0.0718743459956714\n",
      "---------------------------------------\n",
      "[0.8866632195122127, 0.790936812108644, 0.8337931482062833, 0.8546178034861199, 0.8108589802780296, 0.8565726718164348, 0.9174921459787427, 0.8528809146632059, 0.8528809034552292, 0.9254192068511937, 0.9292251839525596]\n"
     ]
    },
    {
     "data": {
      "image/png": "[encoded data removed]",
      "text/plain": [
       "<Figure size 640x480 with 1 Axes>"
      ]
     },
     "metadata": {},
     "output_type": "display_data"
    }
   ],
   "source": [
    "run_models()"
   ]
  },
  {
   "cell_type": "code",
   "execution_count": 36,
   "metadata": {},
   "outputs": [
    {
     "data": {
      "text/plain": [
       "array(['mean_A2B', 'X_EA', 'X_Z', 'X_Rvdw', 'mean_X2X', 'A_Rvdw',\n",
       "       'mean_A2X', 'A_IEI', 'E_coh', 'A_ChiA'], dtype=object)"
      ]
     },
     "execution_count": 36,
     "metadata": {},
     "output_type": "execute_result"
    }
   ],
   "source": [
    "featureScores.nlargest(10,'Score')['Feature'].values"
   ]
  },
  {
   "cell_type": "code",
   "execution_count": 37,
   "metadata": {},
   "outputs": [],
   "source": [
    "X=X[featureScores.nlargest(10,'Score')['Feature'].values]"
   ]
  },
  {
   "cell_type": "code",
   "execution_count": 38,
   "metadata": {},
   "outputs": [
    {
     "name": "stdout",
     "output_type": "stream",
     "text": [
      "RF\n",
      "R2:  0.8945498579750752\n",
      "RMSE:  0.087732017347502\n",
      "---------------------------------------\n",
      "GB\n",
      "R2:  0.7649907142760421\n",
      "RMSE:  0.13097157271645204\n",
      "---------------------------------------\n",
      "LR\n",
      "R2:  0.8241938723203222\n",
      "RMSE:  0.11327955529858266\n",
      "---------------------------------------\n",
      "RR\n",
      "R2:  0.8289892107435505\n",
      "RMSE:  0.11172395134481314\n",
      "---------------------------------------\n",
      "LASSO\n",
      "R2:  0.8031867917687119\n",
      "RMSE:  0.11985651663114033\n",
      "---------------------------------------\n",
      "gpr1\n",
      "R2:  0.8301547603994477\n",
      "RMSE:  0.11134256471959061\n",
      "---------------------------------------\n",
      "gpr2\n",
      "R2:  0.8492050174007728\n",
      "RMSE:  0.10491267899179486\n",
      "---------------------------------------\n",
      "gpr3\n",
      "R2:  0.5295579455240402\n",
      "RMSE:  0.18530519731371822\n",
      "---------------------------------------\n",
      "gpr4\n",
      "R2:  0.5295579799152645\n",
      "RMSE:  0.18530519054043695\n",
      "---------------------------------------\n",
      "gpr5\n",
      "R2:  0.8734872065266155\n",
      "RMSE:  0.09609521305016243\n",
      "---------------------------------------\n",
      "gpr6\n",
      "R2:  0.8721522128459926\n",
      "RMSE:  0.09660089253510232\n",
      "---------------------------------------\n",
      "[0.8945498579750752, 0.7649907142760421, 0.8241938723203222, 0.8289892107435505, 0.8031867917687119, 0.8301547603994477, 0.8492050174007728, 0.5295579455240402, 0.5295579799152645, 0.8734872065266155, 0.8721522128459926]\n"
     ]
    },
    {
     "data": {
      "image/png": "[encoded data removed]",
      "text/plain": [
       "<Figure size 640x480 with 1 Axes>"
      ]
     },
     "metadata": {},
     "output_type": "display_data"
    }
   ],
   "source": [
    "run_models()"
   ]
  }
 ],
 "metadata": {
  "colab": {
   "collapsed_sections": [],
   "name": "Final_total.ipynb",
   "provenance": []
  },
  "kernelspec": {
   "display_name": "Python 3 (ipykernel)",
   "language": "python",
   "name": "python3"
  },
  "language_info": {
   "codemirror_mode": {
    "name": "ipython",
    "version": 3
   },
   "file_extension": ".py",
   "mimetype": "text/x-python",
   "name": "python",
   "nbconvert_exporter": "python",
   "pygments_lexer": "ipython3",
   "version": "3.9.13"
  }
 },
 "nbformat": 4,
 "nbformat_minor": 1
}
