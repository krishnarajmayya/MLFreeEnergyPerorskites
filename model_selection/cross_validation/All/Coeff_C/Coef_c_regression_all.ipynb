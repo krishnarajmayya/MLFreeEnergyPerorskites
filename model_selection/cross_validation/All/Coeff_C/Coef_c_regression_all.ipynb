{
 "cells": [
  {
   "cell_type": "code",
   "execution_count": 1,
   "metadata": {
    "id": "U1Or_5CpWR5m"
   },
   "outputs": [],
   "source": [
    "import numpy as np\n",
    "import pandas as pd\n",
    "import matplotlib.pyplot as plt\n",
    "from math import sqrt\n",
    "import seaborn as sns \n",
    "import re\n",
    " \n",
    "import warnings # supress warnings\n",
    "warnings.filterwarnings('ignore')"
   ]
  },
  {
   "cell_type": "code",
   "execution_count": 2,
   "metadata": {
    "id": "wd0p9t1imwDC"
   },
   "outputs": [],
   "source": [
    "import sklearn\n",
    "\n",
    "from sklearn.preprocessing import MinMaxScaler, PolynomialFeatures, scale, StandardScaler\n",
    "\n",
    "from sklearn.model_selection import train_test_split, cross_val_score, KFold, GridSearchCV\n",
    "\n",
    "from sklearn.linear_model import LinearRegression, Ridge, Lasso, ElasticNet \n",
    "\n",
    "from sklearn.ensemble import RandomForestRegressor\n",
    "from sklearn.ensemble import GradientBoostingRegressor\n",
    "\n",
    "from sklearn.feature_selection import RFE, SelectKBest, f_regression\n",
    "from sklearn.inspection import permutation_importance\n",
    "\n",
    "from sklearn.gaussian_process import GaussianProcessRegressor\n",
    "from sklearn.gaussian_process.kernels import DotProduct, WhiteKernel, RBF, Matern, RationalQuadratic\n",
    "from sklearn.gaussian_process.kernels import Kernel, Hyperparameter, ConstantKernel\n",
    "from sklearn.gaussian_process.kernels import GenericKernelMixin\n",
    "\n",
    "from sklearn import metrics\n",
    "from sklearn.metrics import mean_squared_error\n",
    "from sklearn.metrics import r2_score  \n",
    "\n",
    "from sklearn.pipeline import make_pipeline\n",
    "\n",
    "from sklearn.base import clone"
   ]
  },
  {
   "cell_type": "code",
   "execution_count": 3,
   "metadata": {},
   "outputs": [],
   "source": [
    "def run_models():\n",
    "    rf = RandomForestRegressor(n_estimators= 100, random_state= 10)\n",
    "    gb = GradientBoostingRegressor(loss='quantile', alpha=0.5,\n",
    "                                n_estimators=100, max_depth=10,\n",
    "                                learning_rate=0.25, min_samples_leaf=9,\n",
    "                                min_samples_split=2)\n",
    "    lr = LinearRegression()\n",
    "    rr = Ridge(alpha=0.01)\n",
    "    lasso = Lasso(alpha=0.01)\n",
    "    gpr1 = GaussianProcessRegressor(kernel=DotProduct() + WhiteKernel(),random_state=0)\n",
    "    gpr2 = GaussianProcessRegressor(kernel=1.0 * RBF(length_scale=100.0, length_scale_bounds=(1e-2, 1e3))+ \n",
    "                                WhiteKernel(noise_level=1, noise_level_bounds=(1e-10, 1e+1)),alpha=0.0)\n",
    "    gpr3 = GaussianProcessRegressor(kernel=ConstantKernel(1.0, (1e-2, 1e3)) * RBF(10, (1e-3, 1e4)),\n",
    "                                n_restarts_optimizer=9)\n",
    "    gpr4 = GaussianProcessRegressor(kernel=1.0 * RBF(length_scale=1.0, length_scale_bounds=(1e-1, 10.0)))\n",
    "    gpr5 = GaussianProcessRegressor(kernel=1.0 * RationalQuadratic(length_scale=1.0, alpha=0.01))\n",
    "    gpr6 = GaussianProcessRegressor(kernel=1.0 * Matern(length_scale=1.0, length_scale_bounds=(1e-2, 10.0),nu=0.35))\n",
    "    models = [rf,gb,lr,rr,lasso,gpr1,gpr2,gpr3,gpr4,gpr5,gpr6]\n",
    "    models_names = [\"RF\",\"GB\",\"LR\",\"RR\",\"LASSO\",\"gpr1\",\"gpr2\",\"gpr3\",\"gpr4\",\"gpr5\",\"gpr6\"]\n",
    "    r2scores=[]\n",
    "    rmse=[]\n",
    "    count=0\n",
    "    for model in models :\n",
    "        predicted_y = []\n",
    "        expected_y = []\n",
    "        kf = KFold(n_splits= 10) \n",
    "        # partition data\n",
    "        for train_index, test_index in kf.split(X, Y):\n",
    "            # specific \".loc\" syntax for working with dataframes\n",
    "            x_train, x_test = X.loc[train_index], X.loc[test_index]\n",
    "            y_train, y_test = Y[train_index], Y[test_index]\n",
    "\n",
    "            # create and fit classifier\n",
    "            model.fit(x_train, y_train)\n",
    "\n",
    "            # store result from classification\n",
    "            predicted_y.extend(model.predict(x_test))\n",
    "\n",
    "            # store expected result for this specific fold\n",
    "            expected_y.extend(y_test)\n",
    "        \n",
    "        r2 = metrics.r2_score(expected_y, predicted_y)\n",
    "        r2scores.append(r2)\n",
    "        \n",
    "        err=np.sqrt(metrics.mean_squared_error(expected_y, predicted_y))\n",
    "        rmse.append(err)\n",
    "        \n",
    "        print(models_names[count])\n",
    "        print(\"R2: \",r2.__str__())\n",
    "        print(\"RMSE: \",err)\n",
    "        print(\"---------------------------------------\")\n",
    "        count+=1\n",
    "    \n",
    "    plt.rcdefaults()\n",
    "    fig, ax = plt.subplots()\n",
    "\n",
    "    x_pos = np.arange(len(models_names))\n",
    "    ax.bar(x_pos, r2scores, align='center')\n",
    "    ax.set_xticks(x_pos)\n",
    "    ax.set_xticklabels(models_names)\n",
    "    ax.set_ylabel('R2 Score')\n",
    "    #plt.savefig('imp.eps', format='eps')\n",
    "    #plt.show()\n",
    "    print(r2scores)"
   ]
  },
  {
   "cell_type": "markdown",
   "metadata": {},
   "source": [
    "# Standard Scaling"
   ]
  },
  {
   "cell_type": "code",
   "execution_count": 4,
   "metadata": {
    "id": "hjdsOVHoYDJB"
   },
   "outputs": [],
   "source": [
    "data_std = pd.read_csv('scaled_standard_Coeff_C.csv', encoding='cp1252')   "
   ]
  },
  {
   "cell_type": "code",
   "execution_count": 5,
   "metadata": {},
   "outputs": [
    {
     "data": {
      "text/plain": [
       "array(['Name', 'density', 'mean_A2B', 'mean_A2X', 'mean_B2X', 'mean_X2X',\n",
       "       'std_A2B', 'std_A2X', 'std_B2X', 'std_X2X', 'E_coh', 'TF', 'OF',\n",
       "       'A_Z', 'B_Z', 'X_Z', 'A_G', 'B_G', 'X_G', 'A_IEI', 'B_IEI',\n",
       "       'X_IEI', 'A_IEII', 'B_IEII', 'X_IEII', 'A_EA', 'B_EA', 'X_EA',\n",
       "       'A_ChiP', 'B_ChiP', 'X_ChiP', 'A_ChiA', 'B_ChiA', 'A_Rvdw',\n",
       "       'B_Rvdw', 'X_Rvdw', 'B_Rc', 'B_Ra', 'A_MP', 'B_MP', 'A_Rho',\n",
       "       'B_Rho', 'X_Rho', 'B_MV', 'X_MV', 'B_Hf', 'A_Kappa', 'B_Kappa',\n",
       "       'X_Kappa', 'A_CvM', 'B_CvM', 'A_B', 'B_B', 'B_MendeleevNo',\n",
       "       'Coeff_C'], dtype=object)"
      ]
     },
     "execution_count": 5,
     "metadata": {},
     "output_type": "execute_result"
    }
   ],
   "source": [
    "data_std.columns.values"
   ]
  },
  {
   "cell_type": "code",
   "execution_count": 6,
   "metadata": {},
   "outputs": [],
   "source": [
    "data_std.fillna(0, inplace= True)"
   ]
  },
  {
   "cell_type": "code",
   "execution_count": 7,
   "metadata": {},
   "outputs": [],
   "source": [
    "Y = data_std['Coeff_C'] \n",
    "X = data_std.drop(['Coeff_C','Name'], axis=1)"
   ]
  },
  {
   "cell_type": "markdown",
   "metadata": {
    "id": "ZaJDp0jdzwnZ"
   },
   "source": [
    "### Using CV technique"
   ]
  },
  {
   "cell_type": "code",
   "execution_count": 8,
   "metadata": {},
   "outputs": [
    {
     "name": "stdout",
     "output_type": "stream",
     "text": [
      "RF\n",
      "R2:  0.910584610712601\n",
      "RMSE:  0.29902406138536575\n",
      "---------------------------------------\n",
      "GB\n",
      "R2:  0.8829944185898897\n",
      "RMSE:  0.3420607861332695\n",
      "---------------------------------------\n",
      "LR\n",
      "R2:  0.1544816320859056\n",
      "RMSE:  0.9195207272890016\n",
      "---------------------------------------\n",
      "RR\n",
      "R2:  0.6137255169681429\n",
      "RMSE:  0.6215098414601792\n",
      "---------------------------------------\n",
      "LASSO\n",
      "R2:  0.941662027543342\n",
      "RMSE:  0.24153254947658287\n",
      "---------------------------------------\n",
      "gpr1\n",
      "R2:  0.8566976903304696\n",
      "RMSE:  0.3785529152833596\n",
      "---------------------------------------\n",
      "gpr2\n",
      "R2:  0.9383194819186278\n",
      "RMSE:  0.2483556282458125\n",
      "---------------------------------------\n",
      "gpr3\n",
      "R2:  0.9363754469981249\n",
      "RMSE:  0.2522390790537325\n",
      "---------------------------------------\n",
      "gpr4\n",
      "R2:  0.9381657309101507\n",
      "RMSE:  0.24866497358866083\n",
      "---------------------------------------\n",
      "gpr5\n",
      "R2:  0.9384113345475668\n",
      "RMSE:  0.24817063777254803\n",
      "---------------------------------------\n",
      "gpr6\n",
      "R2:  0.9075708600298269\n",
      "RMSE:  0.30402161102489594\n",
      "---------------------------------------\n",
      "[0.910584610712601, 0.8829944185898897, 0.1544816320859056, 0.6137255169681429, 0.941662027543342, 0.8566976903304696, 0.9383194819186278, 0.9363754469981249, 0.9381657309101507, 0.9384113345475668, 0.9075708600298269]\n"
     ]
    },
    {
     "data": {
      "image/png": "[encoded data removed]",
      "text/plain": [
       "<Figure size 640x480 with 1 Axes>"
      ]
     },
     "metadata": {},
     "output_type": "display_data"
    }
   ],
   "source": [
    "run_models()"
   ]
  },
  {
   "cell_type": "markdown",
   "metadata": {
    "id": "_x7bQR-jz4WE"
   },
   "source": [
    "## Feature selection\n"
   ]
  },
  {
   "cell_type": "code",
   "execution_count": 9,
   "metadata": {
    "colab": {
     "base_uri": "https://localhost:8080/"
    },
    "id": "RpTITR9vz7Th",
    "outputId": "b1c134f4-85a3-49a7-fa3a-34f5d4896d01"
   },
   "outputs": [
    {
     "name": "stdout",
     "output_type": "stream",
     "text": [
      "     Feature       Score\n",
      "1   mean_A2B  368.385508\n",
      "23    X_IEII  203.126963\n",
      "14       X_Z  192.050449\n",
      "4   mean_X2X  150.127121\n",
      "2   mean_A2X   99.679846\n",
      "34    X_Rvdw   70.210147\n",
      "32    A_Rvdw   48.519931\n",
      "9      E_coh   44.870201\n",
      "26      X_EA   41.399538\n",
      "47   X_Kappa   36.035444\n",
      "18     A_IEI   29.198819\n",
      "30    A_ChiA   25.074064\n",
      "20     X_IEI   22.200166\n",
      "46   B_Kappa   19.185480\n",
      "43      X_MV   17.753147\n",
      "6    std_A2X   17.303038\n",
      "25      B_EA   14.125248\n",
      "12       A_Z   13.564614\n",
      "27    A_ChiP   12.686824\n",
      "29    X_ChiP   12.304828\n",
      "37      A_MP   10.884241\n",
      "7    std_B2X   10.212695\n",
      "38      B_MP    9.520593\n",
      "45   A_Kappa    8.983803\n",
      "13       B_Z    8.916444\n",
      "48     A_CvM    8.776297\n",
      "44      B_Hf    8.513339\n",
      "28    B_ChiP    7.290453\n",
      "50       A_B    5.706843\n",
      "40     B_Rho    5.638959\n"
     ]
    }
   ],
   "source": [
    "#apply SelectKBest class to extract top 10 best features\n",
    "bestfeatures = SelectKBest(score_func=f_regression, k=10)\n",
    "fit = bestfeatures.fit(X,Y)\n",
    "dfscores = pd.DataFrame(fit.scores_)\n",
    "dfcolumns = pd.DataFrame(X.columns)\n",
    "#concat two dataframes for better visualization \n",
    "featureScores = pd.concat([dfcolumns,dfscores],axis=1)\n",
    "featureScores.columns = ['Feature','Score']  #naming the dataframe columns\n",
    "print(featureScores.nlargest(30,'Score'))  #print 10 best features"
   ]
  },
  {
   "cell_type": "code",
   "execution_count": 10,
   "metadata": {},
   "outputs": [
    {
     "data": {
      "text/plain": [
       "array(['mean_A2B', 'X_IEII', 'X_Z', 'mean_X2X', 'mean_A2X', 'X_Rvdw',\n",
       "       'A_Rvdw', 'E_coh', 'X_EA', 'X_Kappa', 'A_IEI', 'A_ChiA', 'X_IEI',\n",
       "       'B_Kappa', 'X_MV', 'std_A2X', 'B_EA', 'A_Z', 'A_ChiP', 'X_ChiP',\n",
       "       'A_MP', 'std_B2X', 'B_MP', 'A_Kappa', 'B_Z', 'A_CvM', 'B_Hf',\n",
       "       'B_ChiP', 'A_B', 'B_Rho', 'A_EA', 'B_IEI', 'OF', 'B_MV', 'density',\n",
       "       'B_Ra', 'A_G', 'std_A2B', 'X_Rho', 'TF'], dtype=object)"
      ]
     },
     "execution_count": 10,
     "metadata": {},
     "output_type": "execute_result"
    }
   ],
   "source": [
    "featureScores.nlargest(40,'Score')['Feature'].values"
   ]
  },
  {
   "cell_type": "code",
   "execution_count": 11,
   "metadata": {},
   "outputs": [],
   "source": [
    "X=X[featureScores.nlargest(40,'Score')['Feature'].values]"
   ]
  },
  {
   "cell_type": "code",
   "execution_count": 12,
   "metadata": {},
   "outputs": [
    {
     "name": "stdout",
     "output_type": "stream",
     "text": [
      "RF\n",
      "R2:  0.9077802279863093\n",
      "RMSE:  0.30367708509811986\n",
      "---------------------------------------\n",
      "GB\n",
      "R2:  0.8938672687481884\n",
      "RMSE:  0.3257801885502118\n",
      "---------------------------------------\n",
      "LR\n",
      "R2:  0.21824744805111285\n",
      "RMSE:  0.8841677170926833\n",
      "---------------------------------------\n",
      "RR\n",
      "R2:  0.8178547803479345\n",
      "RMSE:  0.42678474627388635\n",
      "---------------------------------------\n",
      "LASSO\n",
      "R2:  0.9405639091794201\n",
      "RMSE:  0.2437951821110906\n",
      "---------------------------------------\n",
      "gpr1\n",
      "R2:  0.878341197115898\n",
      "RMSE:  0.34879621971016544\n",
      "---------------------------------------\n",
      "gpr2\n",
      "R2:  0.9495388281627456\n",
      "RMSE:  0.22463564240176662\n",
      "---------------------------------------\n",
      "gpr3\n",
      "R2:  0.9475006814822903\n",
      "RMSE:  0.22912729762668985\n",
      "---------------------------------------\n",
      "gpr4\n",
      "R2:  0.9490451437387878\n",
      "RMSE:  0.2257318237670803\n",
      "---------------------------------------\n",
      "gpr5\n",
      "R2:  0.9461351836842415\n",
      "RMSE:  0.23208794952723943\n",
      "---------------------------------------\n",
      "gpr6\n",
      "R2:  0.9207951271710726\n",
      "RMSE:  0.28143360287806335\n",
      "---------------------------------------\n",
      "[0.9077802279863093, 0.8938672687481884, 0.21824744805111285, 0.8178547803479345, 0.9405639091794201, 0.878341197115898, 0.9495388281627456, 0.9475006814822903, 0.9490451437387878, 0.9461351836842415, 0.9207951271710726]\n"
     ]
    },
    {
     "data": {
      "image/png": "[encoded data removed]",
      "text/plain": [
       "<Figure size 640x480 with 1 Axes>"
      ]
     },
     "metadata": {},
     "output_type": "display_data"
    }
   ],
   "source": [
    "run_models()"
   ]
  },
  {
   "cell_type": "code",
   "execution_count": 13,
   "metadata": {},
   "outputs": [
    {
     "data": {
      "text/plain": [
       "array(['mean_A2B', 'X_IEII', 'X_Z', 'mean_X2X', 'mean_A2X', 'X_Rvdw',\n",
       "       'A_Rvdw', 'E_coh', 'X_EA', 'X_Kappa', 'A_IEI', 'A_ChiA', 'X_IEI',\n",
       "       'B_Kappa', 'X_MV', 'std_A2X', 'B_EA', 'A_Z', 'A_ChiP', 'X_ChiP',\n",
       "       'A_MP', 'std_B2X', 'B_MP', 'A_Kappa', 'B_Z', 'A_CvM', 'B_Hf',\n",
       "       'B_ChiP', 'A_B', 'B_Rho'], dtype=object)"
      ]
     },
     "execution_count": 13,
     "metadata": {},
     "output_type": "execute_result"
    }
   ],
   "source": [
    "featureScores.nlargest(30,'Score')['Feature'].values"
   ]
  },
  {
   "cell_type": "code",
   "execution_count": 14,
   "metadata": {},
   "outputs": [],
   "source": [
    "X=X[featureScores.nlargest(30,'Score')['Feature'].values]"
   ]
  },
  {
   "cell_type": "code",
   "execution_count": 15,
   "metadata": {},
   "outputs": [
    {
     "name": "stdout",
     "output_type": "stream",
     "text": [
      "RF\n",
      "R2:  0.9115105787740058\n",
      "RMSE:  0.2974717150016018\n",
      "---------------------------------------\n",
      "GB\n",
      "R2:  0.8947577219017641\n",
      "RMSE:  0.3244106627381967\n",
      "---------------------------------------\n",
      "LR\n",
      "R2:  0.8387857817895915\n",
      "RMSE:  0.40151490409498936\n",
      "---------------------------------------\n",
      "RR\n",
      "R2:  0.8469013169401209\n",
      "RMSE:  0.39127826806491456\n",
      "---------------------------------------\n",
      "LASSO\n",
      "R2:  0.9339513716883944\n",
      "RMSE:  0.25699927686981067\n",
      "---------------------------------------\n",
      "gpr1\n",
      "R2:  0.8634927197605938\n",
      "RMSE:  0.3694689164725582\n",
      "---------------------------------------\n",
      "gpr2\n",
      "R2:  0.947768724098519\n",
      "RMSE:  0.22854162837759118\n",
      "---------------------------------------\n",
      "gpr3\n",
      "R2:  0.9463901057529835\n",
      "RMSE:  0.2315381053887597\n",
      "---------------------------------------\n",
      "gpr4\n",
      "R2:  0.9463901060571345\n",
      "RMSE:  0.23153810473195457\n",
      "---------------------------------------\n",
      "gpr5\n",
      "R2:  0.9477531633644989\n",
      "RMSE:  0.22857566938653195\n",
      "---------------------------------------\n",
      "gpr6\n",
      "R2:  0.9248510596682648\n",
      "RMSE:  0.27413307048171925\n",
      "---------------------------------------\n",
      "[0.9115105787740058, 0.8947577219017641, 0.8387857817895915, 0.8469013169401209, 0.9339513716883944, 0.8634927197605938, 0.947768724098519, 0.9463901057529835, 0.9463901060571345, 0.9477531633644989, 0.9248510596682648]\n"
     ]
    },
    {
     "data": {
      "image/png": "[encoded data removed]",
      "text/plain": [
       "<Figure size 640x480 with 1 Axes>"
      ]
     },
     "metadata": {},
     "output_type": "display_data"
    }
   ],
   "source": [
    "run_models()"
   ]
  },
  {
   "cell_type": "code",
   "execution_count": 16,
   "metadata": {},
   "outputs": [
    {
     "data": {
      "text/plain": [
       "array(['mean_A2B', 'X_IEII', 'X_Z', 'mean_X2X', 'mean_A2X', 'X_Rvdw',\n",
       "       'A_Rvdw', 'E_coh', 'X_EA', 'X_Kappa', 'A_IEI', 'A_ChiA', 'X_IEI',\n",
       "       'B_Kappa', 'X_MV', 'std_A2X', 'B_EA', 'A_Z', 'A_ChiP', 'X_ChiP'],\n",
       "      dtype=object)"
      ]
     },
     "execution_count": 16,
     "metadata": {},
     "output_type": "execute_result"
    }
   ],
   "source": [
    "featureScores.nlargest(20,'Score')['Feature'].values"
   ]
  },
  {
   "cell_type": "code",
   "execution_count": 17,
   "metadata": {},
   "outputs": [],
   "source": [
    "X=X[featureScores.nlargest(20,'Score')['Feature'].values]"
   ]
  },
  {
   "cell_type": "code",
   "execution_count": 18,
   "metadata": {},
   "outputs": [
    {
     "name": "stdout",
     "output_type": "stream",
     "text": [
      "RF\n",
      "R2:  0.908787931195312\n",
      "RMSE:  0.30201335865270607\n",
      "---------------------------------------\n",
      "GB\n",
      "R2:  0.9019363652199406\n",
      "RMSE:  0.3131511372804822\n",
      "---------------------------------------\n",
      "LR\n",
      "R2:  0.8732542812967681\n",
      "RMSE:  0.3560136496024161\n",
      "---------------------------------------\n",
      "RR\n",
      "R2:  0.8742367477290636\n",
      "RMSE:  0.35463114960608916\n",
      "---------------------------------------\n",
      "LASSO\n",
      "R2:  0.9208001200151614\n",
      "RMSE:  0.2814247323616717\n",
      "---------------------------------------\n",
      "gpr1\n",
      "R2:  0.8891754870644356\n",
      "RMSE:  0.33290315849442514\n",
      "---------------------------------------\n",
      "gpr2\n",
      "R2:  0.9297078697614815\n",
      "RMSE:  0.265126630572107\n",
      "---------------------------------------\n",
      "gpr3\n",
      "R2:  0.9168992982932901\n",
      "RMSE:  0.2882719232022257\n",
      "---------------------------------------\n",
      "gpr4\n",
      "R2:  0.9168993160312412\n",
      "RMSE:  0.28827189243621854\n",
      "---------------------------------------\n",
      "gpr5\n",
      "R2:  0.9320000224051073\n",
      "RMSE:  0.2607680532482703\n",
      "---------------------------------------\n",
      "gpr6\n",
      "R2:  0.9116743056489318\n",
      "RMSE:  0.29719639020531224\n",
      "---------------------------------------\n",
      "[0.908787931195312, 0.9019363652199406, 0.8732542812967681, 0.8742367477290636, 0.9208001200151614, 0.8891754870644356, 0.9297078697614815, 0.9168992982932901, 0.9168993160312412, 0.9320000224051073, 0.9116743056489318]\n"
     ]
    },
    {
     "data": {
      "image/png": "[encoded data removed]",
      "text/plain": [
       "<Figure size 640x480 with 1 Axes>"
      ]
     },
     "metadata": {},
     "output_type": "display_data"
    }
   ],
   "source": [
    "run_models()"
   ]
  },
  {
   "cell_type": "code",
   "execution_count": 19,
   "metadata": {},
   "outputs": [
    {
     "data": {
      "text/plain": [
       "array(['mean_A2B', 'X_IEII', 'X_Z', 'mean_X2X', 'mean_A2X', 'X_Rvdw',\n",
       "       'A_Rvdw', 'E_coh', 'X_EA', 'X_Kappa'], dtype=object)"
      ]
     },
     "execution_count": 19,
     "metadata": {},
     "output_type": "execute_result"
    }
   ],
   "source": [
    "featureScores.nlargest(10,'Score')['Feature'].values"
   ]
  },
  {
   "cell_type": "code",
   "execution_count": 20,
   "metadata": {},
   "outputs": [],
   "source": [
    "X=X[featureScores.nlargest(10,'Score')['Feature'].values]"
   ]
  },
  {
   "cell_type": "code",
   "execution_count": 21,
   "metadata": {},
   "outputs": [
    {
     "name": "stdout",
     "output_type": "stream",
     "text": [
      "RF\n",
      "R2:  0.8963218474467453\n",
      "RMSE:  0.32199091998572676\n",
      "---------------------------------------\n",
      "GB\n",
      "R2:  0.8479835999565719\n",
      "RMSE:  0.3898928058369738\n",
      "---------------------------------------\n",
      "LR\n",
      "R2:  0.816232277488449\n",
      "RMSE:  0.4286813764458996\n",
      "---------------------------------------\n",
      "RR\n",
      "R2:  0.8163353338148727\n",
      "RMSE:  0.42856115804529854\n",
      "---------------------------------------\n",
      "LASSO\n",
      "R2:  0.8240051376876709\n",
      "RMSE:  0.41951741598213665\n",
      "---------------------------------------\n",
      "gpr1\n",
      "R2:  0.835595834634839\n",
      "RMSE:  0.4054678351795134\n",
      "---------------------------------------\n",
      "gpr2\n",
      "R2:  0.8787442274865489\n",
      "RMSE:  0.3482179956772067\n",
      "---------------------------------------\n",
      "gpr3\n",
      "R2:  0.7887156792841603\n",
      "RMSE:  0.4596567422717084\n",
      "---------------------------------------\n",
      "gpr4\n",
      "R2:  0.78871570006092\n",
      "RMSE:  0.4596567196714088\n",
      "---------------------------------------\n",
      "gpr5\n",
      "R2:  0.8868430366648251\n",
      "RMSE:  0.33638811414075687\n",
      "---------------------------------------\n",
      "gpr6\n",
      "R2:  0.8849473451987023\n",
      "RMSE:  0.3391941255406669\n",
      "---------------------------------------\n",
      "[0.8963218474467453, 0.8479835999565719, 0.816232277488449, 0.8163353338148727, 0.8240051376876709, 0.835595834634839, 0.8787442274865489, 0.7887156792841603, 0.78871570006092, 0.8868430366648251, 0.8849473451987023]\n"
     ]
    },
    {
     "data": {
      "image/png": "[encoded data removed]",
      "text/plain": [
       "<Figure size 640x480 with 1 Axes>"
      ]
     },
     "metadata": {},
     "output_type": "display_data"
    }
   ],
   "source": [
    "run_models()"
   ]
  },
  {
   "cell_type": "markdown",
   "metadata": {},
   "source": [
    "# Min-Max scaling"
   ]
  },
  {
   "cell_type": "code",
   "execution_count": 22,
   "metadata": {},
   "outputs": [],
   "source": [
    "data_mm = pd.read_csv('scaled_minmax_Coeff_C.csv', encoding='cp1252')"
   ]
  },
  {
   "cell_type": "code",
   "execution_count": 23,
   "metadata": {},
   "outputs": [],
   "source": [
    "data_mm.fillna(0, inplace= True)"
   ]
  },
  {
   "cell_type": "code",
   "execution_count": 24,
   "metadata": {},
   "outputs": [],
   "source": [
    "Y = data_mm['Coeff_C'] \n",
    "X = data_mm.drop(['Coeff_C','Name'], axis=1)"
   ]
  },
  {
   "cell_type": "markdown",
   "metadata": {
    "id": "ZaJDp0jdzwnZ"
   },
   "source": [
    "### Using CV technique"
   ]
  },
  {
   "cell_type": "code",
   "execution_count": 25,
   "metadata": {},
   "outputs": [
    {
     "name": "stdout",
     "output_type": "stream",
     "text": [
      "RF\n",
      "R2:  0.9096453450275059\n",
      "RMSE:  0.07312148096273739\n",
      "---------------------------------------\n",
      "GB\n",
      "R2:  0.9076664766519726\n",
      "RMSE:  0.07391786541046257\n",
      "---------------------------------------\n",
      "LR\n",
      "R2:  0.633408885163877\n",
      "RMSE:  0.1472857329074798\n",
      "---------------------------------------\n",
      "RR\n",
      "R2:  0.9397433602603114\n",
      "RMSE:  0.059713450522010623\n",
      "---------------------------------------\n",
      "LASSO\n",
      "R2:  0.7951592630192701\n",
      "RMSE:  0.11009760652444422\n",
      "---------------------------------------\n",
      "gpr1\n",
      "R2:  0.7683436937669323\n",
      "RMSE:  0.11708244321008399\n",
      "---------------------------------------\n",
      "gpr2\n",
      "R2:  0.9512360317760197\n",
      "RMSE:  0.05371792551099134\n",
      "---------------------------------------\n",
      "gpr3\n",
      "R2:  0.9415602963634526\n",
      "RMSE:  0.05880628106234004\n",
      "---------------------------------------\n",
      "gpr4\n",
      "R2:  0.9415602789448333\n",
      "RMSE:  0.05880628982628034\n",
      "---------------------------------------\n",
      "gpr5\n",
      "R2:  0.9458017035539357\n",
      "RMSE:  0.05663208235636685\n",
      "---------------------------------------\n",
      "gpr6\n",
      "R2:  0.9261584915609834\n",
      "RMSE:  0.06610282084795789\n",
      "---------------------------------------\n",
      "[0.9096453450275059, 0.9076664766519726, 0.633408885163877, 0.9397433602603114, 0.7951592630192701, 0.7683436937669323, 0.9512360317760197, 0.9415602963634526, 0.9415602789448333, 0.9458017035539357, 0.9261584915609834]\n"
     ]
    },
    {
     "data": {
      "image/png": "[encoded data removed]",
      "text/plain": [
       "<Figure size 640x480 with 1 Axes>"
      ]
     },
     "metadata": {},
     "output_type": "display_data"
    }
   ],
   "source": [
    "run_models()"
   ]
  },
  {
   "cell_type": "markdown",
   "metadata": {
    "id": "_x7bQR-jz4WE"
   },
   "source": [
    "## Feature selection\n"
   ]
  },
  {
   "cell_type": "code",
   "execution_count": 26,
   "metadata": {
    "colab": {
     "base_uri": "https://localhost:8080/"
    },
    "id": "RpTITR9vz7Th",
    "outputId": "b1c134f4-85a3-49a7-fa3a-34f5d4896d01"
   },
   "outputs": [
    {
     "name": "stdout",
     "output_type": "stream",
     "text": [
      "     Feature       Score\n",
      "1   mean_A2B  368.385508\n",
      "14       X_Z  192.050449\n",
      "4   mean_X2X  150.127121\n",
      "2   mean_A2X   99.679846\n",
      "23    X_IEII   70.574654\n",
      "34    X_Rvdw   70.210147\n",
      "32    A_Rvdw   48.519931\n",
      "9      E_coh   44.870201\n",
      "26      X_EA   41.399538\n",
      "47   X_Kappa   36.035444\n",
      "18     A_IEI   29.198819\n",
      "41     X_Rho   26.477661\n",
      "30    A_ChiA   23.955108\n",
      "20     X_IEI   22.200166\n",
      "46   B_Kappa   19.185480\n",
      "43      X_MV   17.753147\n",
      "6    std_A2X   17.303038\n",
      "25      B_EA   14.125248\n",
      "12       A_Z   13.564614\n",
      "27    A_ChiP   12.686824\n",
      "29    X_ChiP   12.304828\n",
      "37      A_MP   10.884241\n",
      "7    std_B2X   10.212695\n",
      "38      B_MP    9.520593\n",
      "45   A_Kappa    8.983803\n",
      "13       B_Z    8.916444\n",
      "48     A_CvM    8.776297\n",
      "44      B_Hf    8.513339\n",
      "28    B_ChiP    7.290453\n",
      "50       A_B    5.706843\n"
     ]
    }
   ],
   "source": [
    "#apply SelectKBest class to extract top 10 best features\n",
    "bestfeatures = SelectKBest(score_func=f_regression, k=10)\n",
    "fit = bestfeatures.fit(X,Y)\n",
    "dfscores = pd.DataFrame(fit.scores_)\n",
    "dfcolumns = pd.DataFrame(X.columns)\n",
    "#concat two dataframes for better visualization \n",
    "featureScores = pd.concat([dfcolumns,dfscores],axis=1)\n",
    "featureScores.columns = ['Feature','Score']  #naming the dataframe columns\n",
    "print(featureScores.nlargest(30,'Score'))  #print 10 best features"
   ]
  },
  {
   "cell_type": "code",
   "execution_count": 27,
   "metadata": {},
   "outputs": [
    {
     "data": {
      "text/plain": [
       "array(['mean_A2B', 'X_Z', 'mean_X2X', 'mean_A2X', 'X_IEII', 'X_Rvdw',\n",
       "       'A_Rvdw', 'E_coh', 'X_EA', 'X_Kappa', 'A_IEI', 'X_Rho', 'A_ChiA',\n",
       "       'X_IEI', 'B_Kappa', 'X_MV', 'std_A2X', 'B_EA', 'A_Z', 'A_ChiP',\n",
       "       'X_ChiP', 'A_MP', 'std_B2X', 'B_MP', 'A_Kappa', 'B_Z', 'A_CvM',\n",
       "       'B_Hf', 'B_ChiP', 'A_B', 'A_EA', 'B_ChiA', 'B_IEI', 'OF', 'B_MV',\n",
       "       'B_Rho', 'density', 'B_Ra', 'A_G', 'std_A2B'], dtype=object)"
      ]
     },
     "execution_count": 27,
     "metadata": {},
     "output_type": "execute_result"
    }
   ],
   "source": [
    "featureScores.nlargest(40,'Score')['Feature'].values"
   ]
  },
  {
   "cell_type": "code",
   "execution_count": 28,
   "metadata": {},
   "outputs": [],
   "source": [
    "X=X[featureScores.nlargest(40,'Score')['Feature'].values]"
   ]
  },
  {
   "cell_type": "code",
   "execution_count": 29,
   "metadata": {},
   "outputs": [
    {
     "name": "stdout",
     "output_type": "stream",
     "text": [
      "RF\n",
      "R2:  0.9088625829039474\n",
      "RMSE:  0.07343753162022323\n",
      "---------------------------------------\n",
      "GB\n",
      "R2:  0.9022111302552411\n",
      "RMSE:  0.07607017688593497\n",
      "---------------------------------------\n",
      "LR\n",
      "R2:  0.5902939829752829\n",
      "RMSE:  0.15570619211986128\n",
      "---------------------------------------\n",
      "RR\n",
      "R2:  0.958152790560441\n",
      "RMSE:  0.04976258863580285\n",
      "---------------------------------------\n",
      "LASSO\n",
      "R2:  0.7951729075560567\n",
      "RMSE:  0.11009393963698474\n",
      "---------------------------------------\n",
      "gpr1\n",
      "R2:  0.6733696035898799\n",
      "RMSE:  0.13902663519638236\n",
      "---------------------------------------\n",
      "gpr2\n",
      "R2:  0.9599899113308448\n",
      "RMSE:  0.048658024168695246\n",
      "---------------------------------------\n",
      "gpr3\n",
      "R2:  0.9467364068393624\n",
      "RMSE:  0.0561416203674295\n",
      "---------------------------------------\n",
      "gpr4\n",
      "R2:  0.946736395093136\n",
      "RMSE:  0.05614162655788821\n",
      "---------------------------------------\n",
      "gpr5\n",
      "R2:  0.9521442102530019\n",
      "RMSE:  0.053215354141409085\n",
      "---------------------------------------\n",
      "gpr6\n",
      "R2:  0.9362208258342294\n",
      "RMSE:  0.061434051667136745\n",
      "---------------------------------------\n",
      "[0.9088625829039474, 0.9022111302552411, 0.5902939829752829, 0.958152790560441, 0.7951729075560567, 0.6733696035898799, 0.9599899113308448, 0.9467364068393624, 0.946736395093136, 0.9521442102530019, 0.9362208258342294]\n"
     ]
    },
    {
     "data": {
      "image/png": "[encoded data removed]",
      "text/plain": [
       "<Figure size 640x480 with 1 Axes>"
      ]
     },
     "metadata": {},
     "output_type": "display_data"
    }
   ],
   "source": [
    "run_models()"
   ]
  },
  {
   "cell_type": "code",
   "execution_count": 30,
   "metadata": {},
   "outputs": [
    {
     "data": {
      "text/plain": [
       "array(['mean_A2B', 'X_Z', 'mean_X2X', 'mean_A2X', 'X_IEII', 'X_Rvdw',\n",
       "       'A_Rvdw', 'E_coh', 'X_EA', 'X_Kappa', 'A_IEI', 'X_Rho', 'A_ChiA',\n",
       "       'X_IEI', 'B_Kappa', 'X_MV', 'std_A2X', 'B_EA', 'A_Z', 'A_ChiP',\n",
       "       'X_ChiP', 'A_MP', 'std_B2X', 'B_MP', 'A_Kappa', 'B_Z', 'A_CvM',\n",
       "       'B_Hf', 'B_ChiP', 'A_B'], dtype=object)"
      ]
     },
     "execution_count": 30,
     "metadata": {},
     "output_type": "execute_result"
    }
   ],
   "source": [
    "featureScores.nlargest(30,'Score')['Feature'].values"
   ]
  },
  {
   "cell_type": "code",
   "execution_count": 31,
   "metadata": {},
   "outputs": [],
   "source": [
    "X=X[featureScores.nlargest(30,'Score')['Feature'].values]"
   ]
  },
  {
   "cell_type": "code",
   "execution_count": 32,
   "metadata": {},
   "outputs": [
    {
     "name": "stdout",
     "output_type": "stream",
     "text": [
      "RF\n",
      "R2:  0.911858838553522\n",
      "RMSE:  0.07222026827140196\n",
      "---------------------------------------\n",
      "GB\n",
      "R2:  0.8904962671571814\n",
      "RMSE:  0.0804978303153269\n",
      "---------------------------------------\n",
      "LR\n",
      "R2:  0.7925068280091461\n",
      "RMSE:  0.11080812796473222\n",
      "---------------------------------------\n",
      "RR\n",
      "R2:  0.888767110850532\n",
      "RMSE:  0.08113090522739103\n",
      "---------------------------------------\n",
      "LASSO\n",
      "R2:  0.7951729017919925\n",
      "RMSE:  0.11009394118606822\n",
      "---------------------------------------\n",
      "gpr1\n",
      "R2:  0.7982251919791855\n",
      "RMSE:  0.10927056388611728\n",
      "---------------------------------------\n",
      "gpr2\n",
      "R2:  0.9467822844066647\n",
      "RMSE:  0.05611743690859181\n",
      "---------------------------------------\n",
      "gpr3\n",
      "R2:  0.9372220310859821\n",
      "RMSE:  0.06094994852616643\n",
      "---------------------------------------\n",
      "gpr4\n",
      "R2:  0.9372220208482405\n",
      "RMSE:  0.06094995349598158\n",
      "---------------------------------------\n",
      "gpr5\n",
      "R2:  0.9510251164973459\n",
      "RMSE:  0.05383397130187311\n",
      "---------------------------------------\n",
      "gpr6\n",
      "R2:  0.9387180855118492\n",
      "RMSE:  0.060219323878734306\n",
      "---------------------------------------\n",
      "[0.911858838553522, 0.8904962671571814, 0.7925068280091461, 0.888767110850532, 0.7951729017919925, 0.7982251919791855, 0.9467822844066647, 0.9372220310859821, 0.9372220208482405, 0.9510251164973459, 0.9387180855118492]\n"
     ]
    },
    {
     "data": {
      "image/png": "[encoded data removed]",
      "text/plain": [
       "<Figure size 640x480 with 1 Axes>"
      ]
     },
     "metadata": {},
     "output_type": "display_data"
    }
   ],
   "source": [
    "run_models()"
   ]
  },
  {
   "cell_type": "code",
   "execution_count": 33,
   "metadata": {},
   "outputs": [
    {
     "data": {
      "text/plain": [
       "array(['mean_A2B', 'X_Z', 'mean_X2X', 'mean_A2X', 'X_IEII', 'X_Rvdw',\n",
       "       'A_Rvdw', 'E_coh', 'X_EA', 'X_Kappa', 'A_IEI', 'X_Rho', 'A_ChiA',\n",
       "       'X_IEI', 'B_Kappa', 'X_MV', 'std_A2X', 'B_EA', 'A_Z', 'A_ChiP'],\n",
       "      dtype=object)"
      ]
     },
     "execution_count": 33,
     "metadata": {},
     "output_type": "execute_result"
    }
   ],
   "source": [
    "featureScores.nlargest(20,'Score')['Feature'].values"
   ]
  },
  {
   "cell_type": "code",
   "execution_count": 34,
   "metadata": {},
   "outputs": [],
   "source": [
    "X=X[featureScores.nlargest(20,'Score')['Feature'].values]"
   ]
  },
  {
   "cell_type": "code",
   "execution_count": 35,
   "metadata": {},
   "outputs": [
    {
     "name": "stdout",
     "output_type": "stream",
     "text": [
      "RF\n",
      "R2:  0.909921855568421\n",
      "RMSE:  0.07300950912897956\n",
      "---------------------------------------\n",
      "GB\n",
      "R2:  0.8931368938468652\n",
      "RMSE:  0.07952132534147706\n",
      "---------------------------------------\n",
      "LR\n",
      "R2:  0.8739672884322403\n",
      "RMSE:  0.08635974532171939\n",
      "---------------------------------------\n",
      "RR\n",
      "R2:  0.8864795749672971\n",
      "RMSE:  0.08196089970338859\n",
      "---------------------------------------\n",
      "LASSO\n",
      "R2:  0.7962279772476815\n",
      "RMSE:  0.10981002517601676\n",
      "---------------------------------------\n",
      "gpr1\n",
      "R2:  0.8769806148834967\n",
      "RMSE:  0.08532110842791847\n",
      "---------------------------------------\n",
      "gpr2\n",
      "R2:  0.9267806077504465\n",
      "RMSE:  0.06582377306332152\n",
      "---------------------------------------\n",
      "gpr3\n",
      "R2:  0.876854350674175\n",
      "RMSE:  0.08536488299000236\n",
      "---------------------------------------\n",
      "gpr4\n",
      "R2:  0.87685440025351\n",
      "RMSE:  0.08536486580573896\n",
      "---------------------------------------\n",
      "gpr5\n",
      "R2:  0.9389872818897598\n",
      "RMSE:  0.06008691396829628\n",
      "---------------------------------------\n",
      "gpr6\n",
      "R2:  0.9243534429012276\n",
      "RMSE:  0.06690588138257436\n",
      "---------------------------------------\n",
      "[0.909921855568421, 0.8931368938468652, 0.8739672884322403, 0.8864795749672971, 0.7962279772476815, 0.8769806148834967, 0.9267806077504465, 0.876854350674175, 0.87685440025351, 0.9389872818897598, 0.9243534429012276]\n"
     ]
    },
    {
     "data": {
      "image/png": "[encoded data removed]",
      "text/plain": [
       "<Figure size 640x480 with 1 Axes>"
      ]
     },
     "metadata": {},
     "output_type": "display_data"
    }
   ],
   "source": [
    "run_models()"
   ]
  },
  {
   "cell_type": "code",
   "execution_count": 36,
   "metadata": {},
   "outputs": [
    {
     "data": {
      "text/plain": [
       "array(['mean_A2B', 'X_Z', 'mean_X2X', 'mean_A2X', 'X_IEII', 'X_Rvdw',\n",
       "       'A_Rvdw', 'E_coh', 'X_EA', 'X_Kappa'], dtype=object)"
      ]
     },
     "execution_count": 36,
     "metadata": {},
     "output_type": "execute_result"
    }
   ],
   "source": [
    "featureScores.nlargest(10,'Score')['Feature'].values"
   ]
  },
  {
   "cell_type": "code",
   "execution_count": 37,
   "metadata": {},
   "outputs": [],
   "source": [
    "X=X[featureScores.nlargest(10,'Score')['Feature'].values]"
   ]
  },
  {
   "cell_type": "code",
   "execution_count": 38,
   "metadata": {},
   "outputs": [
    {
     "name": "stdout",
     "output_type": "stream",
     "text": [
      "RF\n",
      "R2:  0.8907609814351936\n",
      "RMSE:  0.08040047373160232\n",
      "---------------------------------------\n",
      "GB\n",
      "R2:  0.8647758550852402\n",
      "RMSE:  0.08945339642513553\n",
      "---------------------------------------\n",
      "LR\n",
      "R2:  0.8149217617619757\n",
      "RMSE:  0.10465196595437759\n",
      "---------------------------------------\n",
      "RR\n",
      "R2:  0.8197551005763024\n",
      "RMSE:  0.10327642708006395\n",
      "---------------------------------------\n",
      "LASSO\n",
      "R2:  0.7799801858347661\n",
      "RMSE:  0.11410393179954838\n",
      "---------------------------------------\n",
      "gpr1\n",
      "R2:  0.8198233341256249\n",
      "RMSE:  0.10325687705603981\n",
      "---------------------------------------\n",
      "gpr2\n",
      "R2:  0.8783593460311118\n",
      "RMSE:  0.08484164608232339\n",
      "---------------------------------------\n",
      "gpr3\n",
      "R2:  0.48693450625044343\n",
      "RMSE:  0.1742433115610644\n",
      "---------------------------------------\n",
      "gpr4\n",
      "R2:  0.48693450351521583\n",
      "RMSE:  0.17424331202552276\n",
      "---------------------------------------\n",
      "gpr5\n",
      "R2:  0.8853338266660274\n",
      "RMSE:  0.08237347216714017\n",
      "---------------------------------------\n",
      "gpr6\n",
      "R2:  0.8892798227465746\n",
      "RMSE:  0.08094370868444496\n",
      "---------------------------------------\n",
      "[0.8907609814351936, 0.8647758550852402, 0.8149217617619757, 0.8197551005763024, 0.7799801858347661, 0.8198233341256249, 0.8783593460311118, 0.48693450625044343, 0.48693450351521583, 0.8853338266660274, 0.8892798227465746]\n"
     ]
    },
    {
     "data": {
      "image/png": "[encoded data removed]",
      "text/plain": [
       "<Figure size 640x480 with 1 Axes>"
      ]
     },
     "metadata": {},
     "output_type": "display_data"
    }
   ],
   "source": [
    "run_models()"
   ]
  }
 ],
 "metadata": {
  "colab": {
   "collapsed_sections": [],
   "name": "Final_total.ipynb",
   "provenance": []
  },
  "kernelspec": {
   "display_name": "Python 3 (ipykernel)",
   "language": "python",
   "name": "python3"
  },
  "language_info": {
   "codemirror_mode": {
    "name": "ipython",
    "version": 3
   },
   "file_extension": ".py",
   "mimetype": "text/x-python",
   "name": "python",
   "nbconvert_exporter": "python",
   "pygments_lexer": "ipython3",
   "version": "3.9.13"
  }
 },
 "nbformat": 4,
 "nbformat_minor": 1
}
