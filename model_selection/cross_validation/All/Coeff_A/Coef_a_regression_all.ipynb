{
 "cells": [
  {
   "cell_type": "code",
   "execution_count": 1,
   "metadata": {
    "id": "U1Or_5CpWR5m"
   },
   "outputs": [],
   "source": [
    "import numpy as np\n",
    "import pandas as pd\n",
    "import matplotlib.pyplot as plt\n",
    "from math import sqrt\n",
    "import seaborn as sns \n",
    "import re\n",
    " \n",
    "import warnings # supress warnings\n",
    "warnings.filterwarnings('ignore')"
   ]
  },
  {
   "cell_type": "code",
   "execution_count": 2,
   "metadata": {
    "id": "wd0p9t1imwDC"
   },
   "outputs": [],
   "source": [
    "import sklearn\n",
    "\n",
    "from sklearn.preprocessing import MinMaxScaler, PolynomialFeatures, scale, StandardScaler\n",
    "\n",
    "from sklearn.model_selection import train_test_split, cross_val_score, KFold, GridSearchCV\n",
    "\n",
    "from sklearn.linear_model import LinearRegression, Ridge, Lasso, ElasticNet \n",
    "\n",
    "from sklearn.ensemble import RandomForestRegressor\n",
    "from sklearn.ensemble import GradientBoostingRegressor\n",
    "\n",
    "from sklearn.feature_selection import RFE, SelectKBest, f_regression\n",
    "from sklearn.inspection import permutation_importance\n",
    "\n",
    "from sklearn.gaussian_process import GaussianProcessRegressor\n",
    "from sklearn.gaussian_process.kernels import DotProduct, WhiteKernel, RBF, Matern, RationalQuadratic\n",
    "from sklearn.gaussian_process.kernels import Kernel, Hyperparameter, ConstantKernel\n",
    "from sklearn.gaussian_process.kernels import GenericKernelMixin\n",
    "\n",
    "from sklearn import metrics\n",
    "from sklearn.metrics import mean_squared_error\n",
    "from sklearn.metrics import r2_score  \n",
    "\n",
    "from sklearn.pipeline import make_pipeline\n",
    "\n",
    "from sklearn.base import clone"
   ]
  },
  {
   "cell_type": "code",
   "execution_count": 3,
   "metadata": {},
   "outputs": [],
   "source": [
    "def run_models():\n",
    "    rf = RandomForestRegressor(n_estimators= 100, random_state= 10)\n",
    "    gb = GradientBoostingRegressor(loss='quantile', alpha=0.5,\n",
    "                                n_estimators=100, max_depth=10,\n",
    "                                learning_rate=0.25, min_samples_leaf=9,\n",
    "                                min_samples_split=2)\n",
    "    lr = LinearRegression()\n",
    "    rr = Ridge(alpha=0.01)\n",
    "    lasso = Lasso(alpha=0.01)\n",
    "    gpr1 = GaussianProcessRegressor(kernel=DotProduct() + WhiteKernel(),random_state=0)\n",
    "    gpr2 = GaussianProcessRegressor(kernel=1.0 * RBF(length_scale=100.0, length_scale_bounds=(1e-2, 1e3))+ \n",
    "                                WhiteKernel(noise_level=1, noise_level_bounds=(1e-10, 1e+1)),alpha=0.0)\n",
    "    gpr3 = GaussianProcessRegressor(kernel=ConstantKernel(1.0, (1e-2, 1e3)) * RBF(10, (1e-3, 1e4)),\n",
    "                                n_restarts_optimizer=9)\n",
    "    gpr4 = GaussianProcessRegressor(kernel=1.0 * RBF(length_scale=1.0, length_scale_bounds=(1e-1, 10.0)))\n",
    "    gpr5 = GaussianProcessRegressor(kernel=1.0 * RationalQuadratic(length_scale=1.0, alpha=0.01))\n",
    "    gpr6 = GaussianProcessRegressor(kernel=1.0 * Matern(length_scale=1.0, length_scale_bounds=(1e-2, 10.0),nu=0.35))\n",
    "    models = [rf,gb,lr,rr,lasso,gpr1,gpr2,gpr3,gpr4,gpr5,gpr6]\n",
    "    models_names = [\"RF\",\"GB\",\"LR\",\"RR\",\"LASSO\",\"gpr1\",\"gpr2\",\"gpr3\",\"gpr4\",\"gpr5\",\"gpr6\"]\n",
    "    r2scores=[]\n",
    "    rmse=[]\n",
    "    count=0\n",
    "    for model in models :\n",
    "        predicted_y = []\n",
    "        expected_y = []\n",
    "        kf = KFold(n_splits= 10) \n",
    "        # partition data\n",
    "        for train_index, test_index in kf.split(X, Y):\n",
    "            # specific \".loc\" syntax for working with dataframes\n",
    "            x_train, x_test = X.loc[train_index], X.loc[test_index]\n",
    "            y_train, y_test = Y[train_index], Y[test_index]\n",
    "\n",
    "            # create and fit classifier\n",
    "            model.fit(x_train, y_train)\n",
    "\n",
    "            # store result from classification\n",
    "            predicted_y.extend(model.predict(x_test))\n",
    "\n",
    "            # store expected result for this specific fold\n",
    "            expected_y.extend(y_test)\n",
    "        \n",
    "        r2 = metrics.r2_score(expected_y, predicted_y)\n",
    "        r2scores.append(r2)\n",
    "        \n",
    "        err=np.sqrt(metrics.mean_squared_error(expected_y, predicted_y))\n",
    "        rmse.append(err)\n",
    "        \n",
    "        print(models_names[count])\n",
    "        print(\"R2: \",r2.__str__())\n",
    "        print(\"RMSE: \",err)\n",
    "        print(\"---------------------------------------\")\n",
    "        count+=1\n",
    "    \n",
    "    plt.rcdefaults()\n",
    "    fig, ax = plt.subplots()\n",
    "\n",
    "    x_pos = np.arange(len(models_names))\n",
    "    ax.bar(x_pos, r2scores, align='center')\n",
    "    ax.set_xticks(x_pos)\n",
    "    ax.set_xticklabels(models_names)\n",
    "    ax.set_ylabel('R2 Score')\n",
    "    #plt.savefig('imp.eps', format='eps')\n",
    "    #plt.show()\n",
    "    print(r2scores)"
   ]
  },
  {
   "cell_type": "markdown",
   "metadata": {},
   "source": [
    "# Standard Scaling"
   ]
  },
  {
   "cell_type": "code",
   "execution_count": 4,
   "metadata": {
    "id": "hjdsOVHoYDJB"
   },
   "outputs": [],
   "source": [
    "data_std = pd.read_csv('scaled_standard_Coeff_A.csv', encoding='cp1252')   "
   ]
  },
  {
   "cell_type": "code",
   "execution_count": 5,
   "metadata": {},
   "outputs": [
    {
     "data": {
      "text/plain": [
       "array(['Name', 'density', 'mean_A2B', 'mean_A2X', 'mean_B2X', 'mean_X2X',\n",
       "       'std_A2B', 'std_A2X', 'std_B2X', 'std_X2X', 'E_coh', 'TF', 'OF',\n",
       "       'A_Z', 'B_Z', 'X_Z', 'A_G', 'B_G', 'X_G', 'A_IEI', 'B_IEI',\n",
       "       'X_IEI', 'A_IEII', 'B_IEII', 'X_IEII', 'A_EA', 'B_EA', 'X_EA',\n",
       "       'A_ChiP', 'B_ChiP', 'X_ChiP', 'A_ChiA', 'B_ChiA', 'A_Rvdw',\n",
       "       'B_Rvdw', 'X_Rvdw', 'B_Rc', 'B_Ra', 'A_MP', 'B_MP', 'A_Rho',\n",
       "       'B_Rho', 'X_Rho', 'B_MV', 'X_MV', 'B_Hf', 'A_Kappa', 'B_Kappa',\n",
       "       'X_Kappa', 'A_CvM', 'B_CvM', 'A_B', 'B_B', 'B_MendeleevNo',\n",
       "       'Coeff_A'], dtype=object)"
      ]
     },
     "execution_count": 5,
     "metadata": {},
     "output_type": "execute_result"
    }
   ],
   "source": [
    "data_std.columns.values"
   ]
  },
  {
   "cell_type": "code",
   "execution_count": 6,
   "metadata": {},
   "outputs": [],
   "source": [
    "data_std.fillna(0, inplace= True)"
   ]
  },
  {
   "cell_type": "code",
   "execution_count": 7,
   "metadata": {},
   "outputs": [],
   "source": [
    "Y = data_std['Coeff_A'] \n",
    "X = data_std.drop(['Coeff_A','Name'], axis=1)"
   ]
  },
  {
   "cell_type": "markdown",
   "metadata": {
    "id": "ZaJDp0jdzwnZ"
   },
   "source": [
    "### Using CV technique"
   ]
  },
  {
   "cell_type": "code",
   "execution_count": 8,
   "metadata": {},
   "outputs": [
    {
     "name": "stdout",
     "output_type": "stream",
     "text": [
      "RF\n",
      "R2:  0.8942563088843241\n",
      "RMSE:  0.3251825504477076\n",
      "---------------------------------------\n",
      "GB\n",
      "R2:  0.8474170271810111\n",
      "RMSE:  0.3906187051575857\n",
      "---------------------------------------\n",
      "LR\n",
      "R2:  -3.8101967514623825\n",
      "RMSE:  2.193216074959871\n",
      "---------------------------------------\n",
      "RR\n",
      "R2:  -0.12918504014149468\n",
      "RMSE:  1.062631187261834\n",
      "---------------------------------------\n",
      "LASSO\n",
      "R2:  0.9027129855111254\n",
      "RMSE:  0.3119086636964009\n",
      "---------------------------------------\n",
      "gpr1\n",
      "R2:  0.49017038862648\n",
      "RMSE:  0.7140235369884665\n",
      "---------------------------------------\n",
      "gpr2\n",
      "R2:  0.9472376295038519\n",
      "RMSE:  0.22970061056981994\n",
      "---------------------------------------\n",
      "gpr3\n",
      "R2:  0.9516822533724986\n",
      "RMSE:  0.21981298102592\n",
      "---------------------------------------\n",
      "gpr4\n",
      "R2:  0.9517028140038968\n",
      "RMSE:  0.21976620758456758\n",
      "---------------------------------------\n",
      "gpr5\n",
      "R2:  0.9503632030446623\n",
      "RMSE:  0.2227931708004932\n",
      "---------------------------------------\n",
      "gpr6\n",
      "R2:  0.8800637916229233\n",
      "RMSE:  0.34631807399712305\n",
      "---------------------------------------\n",
      "[0.8942563088843241, 0.8474170271810111, -3.8101967514623825, -0.12918504014149468, 0.9027129855111254, 0.49017038862648, 0.9472376295038519, 0.9516822533724986, 0.9517028140038968, 0.9503632030446623, 0.8800637916229233]\n"
     ]
    },
    {
     "data": {
      "image/png": "[encoded data removed]",
      "text/plain": [
       "<Figure size 640x480 with 1 Axes>"
      ]
     },
     "metadata": {},
     "output_type": "display_data"
    }
   ],
   "source": [
    "run_models()"
   ]
  },
  {
   "cell_type": "markdown",
   "metadata": {
    "id": "_x7bQR-jz4WE"
   },
   "source": [
    "## Feature selection\n"
   ]
  },
  {
   "cell_type": "code",
   "execution_count": 9,
   "metadata": {
    "colab": {
     "base_uri": "https://localhost:8080/"
    },
    "id": "RpTITR9vz7Th",
    "outputId": "b1c134f4-85a3-49a7-fa3a-34f5d4896d01"
   },
   "outputs": [
    {
     "name": "stdout",
     "output_type": "stream",
     "text": [
      "     Feature       Score\n",
      "1   mean_A2B  142.353080\n",
      "26      X_EA  112.702665\n",
      "14       X_Z  106.612941\n",
      "34    X_Rvdw   86.120704\n",
      "23    X_IEII   80.598055\n",
      "4   mean_X2X   79.003498\n",
      "32    A_Rvdw   56.376662\n",
      "2   mean_A2X   55.191431\n",
      "18     A_IEI   38.414491\n",
      "30    A_ChiA   35.147717\n",
      "9      E_coh   34.402479\n",
      "44      B_Hf   18.081523\n",
      "6    std_A2X   18.021854\n",
      "27    A_ChiP   17.250853\n",
      "7    std_B2X   16.580759\n",
      "17       X_G   15.282633\n",
      "38      B_MP   14.690246\n",
      "11        OF   14.513522\n",
      "36      B_Ra   13.703676\n",
      "37      A_MP   13.495857\n",
      "24      A_EA   11.836644\n",
      "12       A_Z   11.590484\n",
      "13       B_Z   11.204890\n",
      "47   X_Kappa    9.959958\n",
      "48     A_CvM    8.849576\n",
      "45   A_Kappa    8.078728\n",
      "46   B_Kappa    7.615863\n",
      "43      X_MV    7.419386\n",
      "42      B_MV    7.256271\n",
      "50       A_B    5.603181\n"
     ]
    }
   ],
   "source": [
    "#apply SelectKBest class to extract top 10 best features\n",
    "bestfeatures = SelectKBest(score_func=f_regression, k=10)\n",
    "fit = bestfeatures.fit(X,Y)\n",
    "dfscores = pd.DataFrame(fit.scores_)\n",
    "dfcolumns = pd.DataFrame(X.columns)\n",
    "#concat two dataframes for better visualization \n",
    "featureScores = pd.concat([dfcolumns,dfscores],axis=1)\n",
    "featureScores.columns = ['Feature','Score']  #naming the dataframe columns\n",
    "print(featureScores.nlargest(30,'Score'))  #print 10 best features"
   ]
  },
  {
   "cell_type": "code",
   "execution_count": 10,
   "metadata": {},
   "outputs": [
    {
     "data": {
      "text/plain": [
       "array(['mean_A2B', 'X_EA', 'X_Z', 'X_Rvdw', 'X_IEII', 'mean_X2X',\n",
       "       'A_Rvdw', 'mean_A2X', 'A_IEI', 'A_ChiA', 'E_coh', 'B_Hf',\n",
       "       'std_A2X', 'A_ChiP', 'std_B2X', 'X_G', 'B_MP', 'OF', 'B_Ra',\n",
       "       'A_MP', 'A_EA', 'A_Z', 'B_Z', 'X_Kappa', 'A_CvM', 'A_Kappa',\n",
       "       'B_Kappa', 'X_MV', 'B_MV', 'A_B', 'std_A2B', 'A_G', 'B_Rho',\n",
       "       'std_X2X', 'B_CvM', 'B_EA', 'X_IEI', 'B_Rvdw', 'TF', 'B_Rc'],\n",
       "      dtype=object)"
      ]
     },
     "execution_count": 10,
     "metadata": {},
     "output_type": "execute_result"
    }
   ],
   "source": [
    "featureScores.nlargest(40,'Score')['Feature'].values"
   ]
  },
  {
   "cell_type": "code",
   "execution_count": 11,
   "metadata": {},
   "outputs": [],
   "source": [
    "X=X[featureScores.nlargest(40,'Score')['Feature'].values]"
   ]
  },
  {
   "cell_type": "code",
   "execution_count": 12,
   "metadata": {},
   "outputs": [
    {
     "name": "stdout",
     "output_type": "stream",
     "text": [
      "RF\n",
      "R2:  0.8997679541661592\n",
      "RMSE:  0.31659445009955683\n",
      "---------------------------------------\n",
      "GB\n",
      "R2:  0.859045762829973\n",
      "RMSE:  0.37543872625240327\n",
      "---------------------------------------\n",
      "LR\n",
      "R2:  -1.0376988331680765\n",
      "RMSE:  1.4274798888839297\n",
      "---------------------------------------\n",
      "RR\n",
      "R2:  0.49764774650828725\n",
      "RMSE:  0.7087681239246816\n",
      "---------------------------------------\n",
      "LASSO\n",
      "R2:  0.9077274129814878\n",
      "RMSE:  0.3037640318051368\n",
      "---------------------------------------\n",
      "gpr1\n",
      "R2:  0.7984215108499154\n",
      "RMSE:  0.4489749315385933\n",
      "---------------------------------------\n",
      "gpr2\n",
      "R2:  0.9555001712365926\n",
      "RMSE:  0.2109498252272503\n",
      "---------------------------------------\n",
      "gpr3\n",
      "R2:  0.9584370731973139\n",
      "RMSE:  0.2038698771341322\n",
      "---------------------------------------\n",
      "gpr4\n",
      "R2:  0.9584370701137203\n",
      "RMSE:  0.20386988469678327\n",
      "---------------------------------------\n",
      "gpr5\n",
      "R2:  0.9567311862582761\n",
      "RMSE:  0.2080115711726727\n",
      "---------------------------------------\n",
      "gpr6\n",
      "R2:  0.9030985311849934\n",
      "RMSE:  0.31129000757333436\n",
      "---------------------------------------\n",
      "[0.8997679541661592, 0.859045762829973, -1.0376988331680765, 0.49764774650828725, 0.9077274129814878, 0.7984215108499154, 0.9555001712365926, 0.9584370731973139, 0.9584370701137203, 0.9567311862582761, 0.9030985311849934]\n"
     ]
    },
    {
     "data": {
      "image/png": "[encoded data removed]",
      "text/plain": [
       "<Figure size 640x480 with 1 Axes>"
      ]
     },
     "metadata": {},
     "output_type": "display_data"
    }
   ],
   "source": [
    "run_models()"
   ]
  },
  {
   "cell_type": "code",
   "execution_count": 13,
   "metadata": {},
   "outputs": [
    {
     "data": {
      "text/plain": [
       "array(['mean_A2B', 'X_EA', 'X_Z', 'X_Rvdw', 'X_IEII', 'mean_X2X',\n",
       "       'A_Rvdw', 'mean_A2X', 'A_IEI', 'A_ChiA', 'E_coh', 'B_Hf',\n",
       "       'std_A2X', 'A_ChiP', 'std_B2X', 'X_G', 'B_MP', 'OF', 'B_Ra',\n",
       "       'A_MP', 'A_EA', 'A_Z', 'B_Z', 'X_Kappa', 'A_CvM', 'A_Kappa',\n",
       "       'B_Kappa', 'X_MV', 'B_MV', 'A_B'], dtype=object)"
      ]
     },
     "execution_count": 13,
     "metadata": {},
     "output_type": "execute_result"
    }
   ],
   "source": [
    "featureScores.nlargest(30,'Score')['Feature'].values"
   ]
  },
  {
   "cell_type": "code",
   "execution_count": 14,
   "metadata": {},
   "outputs": [],
   "source": [
    "X=X[featureScores.nlargest(30,'Score')['Feature'].values]"
   ]
  },
  {
   "cell_type": "code",
   "execution_count": 15,
   "metadata": {},
   "outputs": [
    {
     "name": "stdout",
     "output_type": "stream",
     "text": [
      "RF\n",
      "R2:  0.9030731798830216\n",
      "RMSE:  0.31133072465945016\n",
      "---------------------------------------\n",
      "GB\n",
      "R2:  0.8649425322623823\n",
      "RMSE:  0.36750165678213986\n",
      "---------------------------------------\n",
      "LR\n",
      "R2:  0.7739674021411092\n",
      "RMSE:  0.47542885677974034\n",
      "---------------------------------------\n",
      "RR\n",
      "R2:  0.7761629736017426\n",
      "RMSE:  0.4731141790289711\n",
      "---------------------------------------\n",
      "LASSO\n",
      "R2:  0.8970920707401726\n",
      "RMSE:  0.32079265773989807\n",
      "---------------------------------------\n",
      "gpr1\n",
      "R2:  0.8507139856697536\n",
      "RMSE:  0.38637548360402774\n",
      "---------------------------------------\n",
      "gpr2\n",
      "R2:  0.9368997330286468\n",
      "RMSE:  0.25119766513913544\n",
      "---------------------------------------\n",
      "gpr3\n",
      "R2:  0.9480867668959682\n",
      "RMSE:  0.2278447565866545\n",
      "---------------------------------------\n",
      "gpr4\n",
      "R2:  0.9480867684807274\n",
      "RMSE:  0.22784475310893745\n",
      "---------------------------------------\n",
      "gpr5\n",
      "R2:  0.9498139661846552\n",
      "RMSE:  0.22402239578967284\n",
      "---------------------------------------\n",
      "gpr6\n",
      "R2:  0.9161089263441969\n",
      "RMSE:  0.28963955816808434\n",
      "---------------------------------------\n",
      "[0.9030731798830216, 0.8649425322623823, 0.7739674021411092, 0.7761629736017426, 0.8970920707401726, 0.8507139856697536, 0.9368997330286468, 0.9480867668959682, 0.9480867684807274, 0.9498139661846552, 0.9161089263441969]\n"
     ]
    },
    {
     "data": {
      "image/png": "[encoded data removed]",
      "text/plain": [
       "<Figure size 640x480 with 1 Axes>"
      ]
     },
     "metadata": {},
     "output_type": "display_data"
    }
   ],
   "source": [
    "run_models()"
   ]
  },
  {
   "cell_type": "code",
   "execution_count": 16,
   "metadata": {},
   "outputs": [
    {
     "data": {
      "text/plain": [
       "array(['mean_A2B', 'X_EA', 'X_Z', 'X_Rvdw', 'X_IEII', 'mean_X2X',\n",
       "       'A_Rvdw', 'mean_A2X', 'A_IEI', 'A_ChiA', 'E_coh', 'B_Hf',\n",
       "       'std_A2X', 'A_ChiP', 'std_B2X', 'X_G', 'B_MP', 'OF', 'B_Ra',\n",
       "       'A_MP'], dtype=object)"
      ]
     },
     "execution_count": 16,
     "metadata": {},
     "output_type": "execute_result"
    }
   ],
   "source": [
    "featureScores.nlargest(20,'Score')['Feature'].values"
   ]
  },
  {
   "cell_type": "code",
   "execution_count": 17,
   "metadata": {},
   "outputs": [],
   "source": [
    "X=X[featureScores.nlargest(20,'Score')['Feature'].values]"
   ]
  },
  {
   "cell_type": "code",
   "execution_count": 18,
   "metadata": {},
   "outputs": [
    {
     "name": "stdout",
     "output_type": "stream",
     "text": [
      "RF\n",
      "R2:  0.8816853869353267\n",
      "RMSE:  0.34396891293352844\n",
      "---------------------------------------\n",
      "GB\n",
      "R2:  0.8186906537144922\n",
      "RMSE:  0.4258043521213795\n",
      "---------------------------------------\n",
      "LR\n",
      "R2:  0.8201938867165827\n",
      "RMSE:  0.42403550946049007\n",
      "---------------------------------------\n",
      "RR\n",
      "R2:  0.8206349698654622\n",
      "RMSE:  0.42351508843787106\n",
      "---------------------------------------\n",
      "LASSO\n",
      "R2:  0.8781490090818238\n",
      "RMSE:  0.34907161287932914\n",
      "---------------------------------------\n",
      "gpr1\n",
      "R2:  0.8565828785837779\n",
      "RMSE:  0.3787045304933942\n",
      "---------------------------------------\n",
      "gpr2\n",
      "R2:  0.9240341549265867\n",
      "RMSE:  0.27561902161028967\n",
      "---------------------------------------\n",
      "gpr3\n",
      "R2:  0.8093968647305001\n",
      "RMSE:  0.4365811897797475\n",
      "---------------------------------------\n",
      "gpr4\n",
      "R2:  0.923184988571201\n",
      "RMSE:  0.2771552118016167\n",
      "---------------------------------------\n",
      "gpr5\n",
      "R2:  0.9329967516960336\n",
      "RMSE:  0.25884985668137134\n",
      "---------------------------------------\n",
      "gpr6\n",
      "R2:  0.9275838398721286\n",
      "RMSE:  0.2691025085871024\n",
      "---------------------------------------\n",
      "[0.8816853869353267, 0.8186906537144922, 0.8201938867165827, 0.8206349698654622, 0.8781490090818238, 0.8565828785837779, 0.9240341549265867, 0.8093968647305001, 0.923184988571201, 0.9329967516960336, 0.9275838398721286]\n"
     ]
    },
    {
     "data": {
      "image/png": "[encoded data removed]",
      "text/plain": [
       "<Figure size 640x480 with 1 Axes>"
      ]
     },
     "metadata": {},
     "output_type": "display_data"
    }
   ],
   "source": [
    "run_models()"
   ]
  },
  {
   "cell_type": "code",
   "execution_count": 19,
   "metadata": {},
   "outputs": [
    {
     "data": {
      "text/plain": [
       "array(['mean_A2B', 'X_EA', 'X_Z', 'X_Rvdw', 'X_IEII', 'mean_X2X',\n",
       "       'A_Rvdw', 'mean_A2X', 'A_IEI', 'A_ChiA'], dtype=object)"
      ]
     },
     "execution_count": 19,
     "metadata": {},
     "output_type": "execute_result"
    }
   ],
   "source": [
    "featureScores.nlargest(10,'Score')['Feature'].values"
   ]
  },
  {
   "cell_type": "code",
   "execution_count": 20,
   "metadata": {},
   "outputs": [],
   "source": [
    "X=X[featureScores.nlargest(10,'Score')['Feature'].values]"
   ]
  },
  {
   "cell_type": "code",
   "execution_count": 21,
   "metadata": {},
   "outputs": [
    {
     "name": "stdout",
     "output_type": "stream",
     "text": [
      "RF\n",
      "R2:  0.8659780243137765\n",
      "RMSE:  0.3660901196238755\n",
      "---------------------------------------\n",
      "GB\n",
      "R2:  0.8191097723770643\n",
      "RMSE:  0.4253119180353823\n",
      "---------------------------------------\n",
      "LR\n",
      "R2:  0.8631840751956871\n",
      "RMSE:  0.3698863674215542\n",
      "---------------------------------------\n",
      "RR\n",
      "R2:  0.8632269190071513\n",
      "RMSE:  0.36982844805781057\n",
      "---------------------------------------\n",
      "LASSO\n",
      "R2:  0.8681956453847558\n",
      "RMSE:  0.3630486945510812\n",
      "---------------------------------------\n",
      "gpr1\n",
      "R2:  0.8730252929036139\n",
      "RMSE:  0.3563351050575653\n",
      "---------------------------------------\n",
      "gpr2\n",
      "R2:  0.8691844064372551\n",
      "RMSE:  0.3616843839077724\n",
      "---------------------------------------\n",
      "gpr3\n",
      "R2:  0.42511006524242845\n",
      "RMSE:  0.7582149660601349\n",
      "---------------------------------------\n",
      "gpr4\n",
      "R2:  0.464395636057227\n",
      "RMSE:  0.7318499599936951\n",
      "---------------------------------------\n",
      "gpr5\n",
      "R2:  0.8554324002279785\n",
      "RMSE:  0.38022046206381566\n",
      "---------------------------------------\n",
      "gpr6\n",
      "R2:  0.8665315312575935\n",
      "RMSE:  0.3653333665878419\n",
      "---------------------------------------\n",
      "[0.8659780243137765, 0.8191097723770643, 0.8631840751956871, 0.8632269190071513, 0.8681956453847558, 0.8730252929036139, 0.8691844064372551, 0.42511006524242845, 0.464395636057227, 0.8554324002279785, 0.8665315312575935]\n"
     ]
    },
    {
     "data": {
      "image/png": "[encoded data removed]",
      "text/plain": [
       "<Figure size 640x480 with 1 Axes>"
      ]
     },
     "metadata": {},
     "output_type": "display_data"
    }
   ],
   "source": [
    "run_models()"
   ]
  },
  {
   "cell_type": "markdown",
   "metadata": {},
   "source": [
    "# Min-Max scaling"
   ]
  },
  {
   "cell_type": "code",
   "execution_count": 22,
   "metadata": {},
   "outputs": [],
   "source": [
    "data_mm = pd.read_csv('scaled_minmax_Coeff_A.csv', encoding='cp1252')"
   ]
  },
  {
   "cell_type": "code",
   "execution_count": 23,
   "metadata": {},
   "outputs": [],
   "source": [
    "data_mm.fillna(0, inplace= True)"
   ]
  },
  {
   "cell_type": "code",
   "execution_count": 24,
   "metadata": {},
   "outputs": [],
   "source": [
    "Y = data_mm['Coeff_A'] \n",
    "X = data_mm.drop(['Coeff_A','Name'], axis=1)"
   ]
  },
  {
   "cell_type": "markdown",
   "metadata": {
    "id": "ZaJDp0jdzwnZ"
   },
   "source": [
    "### Using CV technique"
   ]
  },
  {
   "cell_type": "code",
   "execution_count": 25,
   "metadata": {},
   "outputs": [
    {
     "name": "stdout",
     "output_type": "stream",
     "text": [
      "RF\n",
      "R2:  0.9038011378999172\n",
      "RMSE:  0.0837339020622228\n",
      "---------------------------------------\n",
      "GB\n",
      "R2:  0.84967037863887\n",
      "RMSE:  0.10467395755118179\n",
      "---------------------------------------\n",
      "LR\n",
      "R2:  -5.30473593261072\n",
      "RMSE:  0.6778753057064372\n",
      "---------------------------------------\n",
      "RR\n",
      "R2:  0.7663727616415736\n",
      "RMSE:  0.13049026115930848\n",
      "---------------------------------------\n",
      "LASSO\n",
      "R2:  0.8330080544028047\n",
      "RMSE:  0.11032250767385846\n",
      "---------------------------------------\n",
      "gpr1\n",
      "R2:  0.7323284011846536\n",
      "RMSE:  0.13967462342630552\n",
      "---------------------------------------\n",
      "gpr2\n",
      "R2:  0.9534065348508163\n",
      "RMSE:  0.05827454183147076\n",
      "---------------------------------------\n",
      "gpr3\n",
      "R2:  0.9563958936016743\n",
      "RMSE:  0.056374156655938416\n",
      "---------------------------------------\n",
      "gpr4\n",
      "R2:  0.956395893549201\n",
      "RMSE:  0.05637415668985882\n",
      "---------------------------------------\n",
      "gpr5\n",
      "R2:  0.9581595277775274\n",
      "RMSE:  0.05522232039456448\n",
      "---------------------------------------\n",
      "gpr6\n",
      "R2:  0.9129573250677359\n",
      "RMSE:  0.07964939422883478\n",
      "---------------------------------------\n",
      "[0.9038011378999172, 0.84967037863887, -5.30473593261072, 0.7663727616415736, 0.8330080544028047, 0.7323284011846536, 0.9534065348508163, 0.9563958936016743, 0.956395893549201, 0.9581595277775274, 0.9129573250677359]\n"
     ]
    },
    {
     "data": {
      "image/png": "[encoded data removed]",
      "text/plain": [
       "<Figure size 640x480 with 1 Axes>"
      ]
     },
     "metadata": {},
     "output_type": "display_data"
    }
   ],
   "source": [
    "run_models()"
   ]
  },
  {
   "cell_type": "markdown",
   "metadata": {
    "id": "_x7bQR-jz4WE"
   },
   "source": [
    "## Feature selection\n"
   ]
  },
  {
   "cell_type": "code",
   "execution_count": 26,
   "metadata": {
    "colab": {
     "base_uri": "https://localhost:8080/"
    },
    "id": "RpTITR9vz7Th",
    "outputId": "b1c134f4-85a3-49a7-fa3a-34f5d4896d01"
   },
   "outputs": [
    {
     "name": "stdout",
     "output_type": "stream",
     "text": [
      "     Feature       Score\n",
      "1   mean_A2B  142.353080\n",
      "26      X_EA  112.702665\n",
      "14       X_Z  106.612941\n",
      "34    X_Rvdw   86.120704\n",
      "4   mean_X2X   79.003498\n",
      "32    A_Rvdw   56.376662\n",
      "2   mean_A2X   55.191431\n",
      "18     A_IEI   38.414491\n",
      "9      E_coh   34.402479\n",
      "30    A_ChiA   33.512107\n",
      "23    X_IEII   19.080411\n",
      "44      B_Hf   18.081523\n",
      "6    std_A2X   18.021854\n",
      "27    A_ChiP   17.250853\n",
      "7    std_B2X   16.580759\n",
      "17       X_G   15.282633\n",
      "38      B_MP   14.690246\n",
      "11        OF   14.513522\n",
      "36      B_Ra   13.703676\n",
      "37      A_MP   13.495857\n",
      "24      A_EA   11.836644\n",
      "12       A_Z   11.590484\n",
      "41     X_Rho   11.571776\n",
      "13       B_Z   11.204890\n",
      "47   X_Kappa    9.959958\n",
      "48     A_CvM    8.849576\n",
      "45   A_Kappa    8.078728\n",
      "31    B_ChiA    7.713379\n",
      "46   B_Kappa    7.615863\n",
      "43      X_MV    7.419386\n"
     ]
    }
   ],
   "source": [
    "#apply SelectKBest class to extract top 10 best features\n",
    "bestfeatures = SelectKBest(score_func=f_regression, k=10)\n",
    "fit = bestfeatures.fit(X,Y)\n",
    "dfscores = pd.DataFrame(fit.scores_)\n",
    "dfcolumns = pd.DataFrame(X.columns)\n",
    "#concat two dataframes for better visualization \n",
    "featureScores = pd.concat([dfcolumns,dfscores],axis=1)\n",
    "featureScores.columns = ['Feature','Score']  #naming the dataframe columns\n",
    "print(featureScores.nlargest(30,'Score'))  #print 10 best features"
   ]
  },
  {
   "cell_type": "code",
   "execution_count": 27,
   "metadata": {},
   "outputs": [
    {
     "data": {
      "text/plain": [
       "array(['mean_A2B', 'X_EA', 'X_Z', 'X_Rvdw', 'mean_X2X', 'A_Rvdw',\n",
       "       'mean_A2X', 'A_IEI', 'E_coh', 'A_ChiA', 'X_IEII', 'B_Hf',\n",
       "       'std_A2X', 'A_ChiP', 'std_B2X', 'X_G', 'B_MP', 'OF', 'B_Ra',\n",
       "       'A_MP', 'A_EA', 'A_Z', 'X_Rho', 'B_Z', 'X_Kappa', 'A_CvM',\n",
       "       'A_Kappa', 'B_ChiA', 'B_Kappa', 'X_MV', 'B_MV', 'A_B', 'std_A2B',\n",
       "       'A_G', 'std_X2X', 'B_CvM', 'B_Rho', 'B_EA', 'X_IEI', 'B_Rvdw'],\n",
       "      dtype=object)"
      ]
     },
     "execution_count": 27,
     "metadata": {},
     "output_type": "execute_result"
    }
   ],
   "source": [
    "featureScores.nlargest(40,'Score')['Feature'].values"
   ]
  },
  {
   "cell_type": "code",
   "execution_count": 28,
   "metadata": {},
   "outputs": [],
   "source": [
    "X=X[featureScores.nlargest(40,'Score')['Feature'].values]"
   ]
  },
  {
   "cell_type": "code",
   "execution_count": 29,
   "metadata": {},
   "outputs": [
    {
     "name": "stdout",
     "output_type": "stream",
     "text": [
      "RF\n",
      "R2:  0.9017855494028253\n",
      "RMSE:  0.08460656407429427\n",
      "---------------------------------------\n",
      "GB\n",
      "R2:  0.8572459811574603\n",
      "RMSE:  0.10200243382849881\n",
      "---------------------------------------\n",
      "LR\n",
      "R2:  -0.03784715163092223\n",
      "RMSE:  0.2750318952165235\n",
      "---------------------------------------\n",
      "RR\n",
      "R2:  0.8388457285780495\n",
      "RMSE:  0.10837703695757059\n",
      "---------------------------------------\n",
      "LASSO\n",
      "R2:  0.8330132712163163\n",
      "RMSE:  0.11032078442774146\n",
      "---------------------------------------\n",
      "gpr1\n",
      "R2:  0.7559125254906788\n",
      "RMSE:  0.13337950754194247\n",
      "---------------------------------------\n",
      "gpr2\n",
      "R2:  0.9496614090019874\n",
      "RMSE:  0.06057129937957502\n",
      "---------------------------------------\n",
      "gpr3\n",
      "R2:  0.9491407104000359\n",
      "RMSE:  0.0608837659100095\n",
      "---------------------------------------\n",
      "gpr4\n",
      "R2:  0.9491407060447595\n",
      "RMSE:  0.06088376851686488\n",
      "---------------------------------------\n",
      "gpr5\n",
      "R2:  0.9551701809325958\n",
      "RMSE:  0.0571610049684827\n",
      "---------------------------------------\n",
      "gpr6\n",
      "R2:  0.923210266688361\n",
      "RMSE:  0.07481142759733359\n",
      "---------------------------------------\n",
      "[0.9017855494028253, 0.8572459811574603, -0.03784715163092223, 0.8388457285780495, 0.8330132712163163, 0.7559125254906788, 0.9496614090019874, 0.9491407104000359, 0.9491407060447595, 0.9551701809325958, 0.923210266688361]\n"
     ]
    },
    {
     "data": {
      "image/png": "[encoded data removed]",
      "text/plain": [
       "<Figure size 640x480 with 1 Axes>"
      ]
     },
     "metadata": {},
     "output_type": "display_data"
    }
   ],
   "source": [
    "run_models()"
   ]
  },
  {
   "cell_type": "code",
   "execution_count": 30,
   "metadata": {},
   "outputs": [
    {
     "data": {
      "text/plain": [
       "array(['mean_A2B', 'X_EA', 'X_Z', 'X_Rvdw', 'mean_X2X', 'A_Rvdw',\n",
       "       'mean_A2X', 'A_IEI', 'E_coh', 'A_ChiA', 'X_IEII', 'B_Hf',\n",
       "       'std_A2X', 'A_ChiP', 'std_B2X', 'X_G', 'B_MP', 'OF', 'B_Ra',\n",
       "       'A_MP', 'A_EA', 'A_Z', 'X_Rho', 'B_Z', 'X_Kappa', 'A_CvM',\n",
       "       'A_Kappa', 'B_ChiA', 'B_Kappa', 'X_MV'], dtype=object)"
      ]
     },
     "execution_count": 30,
     "metadata": {},
     "output_type": "execute_result"
    }
   ],
   "source": [
    "featureScores.nlargest(30,'Score')['Feature'].values"
   ]
  },
  {
   "cell_type": "code",
   "execution_count": 31,
   "metadata": {},
   "outputs": [],
   "source": [
    "X=X[featureScores.nlargest(30,'Score')['Feature'].values]"
   ]
  },
  {
   "cell_type": "code",
   "execution_count": 32,
   "metadata": {},
   "outputs": [
    {
     "name": "stdout",
     "output_type": "stream",
     "text": [
      "RF\n",
      "R2:  0.9035568205834625\n",
      "RMSE:  0.08384016459560825\n",
      "---------------------------------------\n",
      "GB\n",
      "R2:  0.8751425033275478\n",
      "RMSE:  0.09539457429947348\n",
      "---------------------------------------\n",
      "LR\n",
      "R2:  0.7236830270400261\n",
      "RMSE:  0.1419123343524651\n",
      "---------------------------------------\n",
      "RR\n",
      "R2:  0.8092300011835003\n",
      "RMSE:  0.11791563691312029\n",
      "---------------------------------------\n",
      "LASSO\n",
      "R2:  0.8330132448292316\n",
      "RMSE:  0.11032079314413407\n",
      "---------------------------------------\n",
      "gpr1\n",
      "R2:  0.8269795068491146\n",
      "RMSE:  0.11229621939919927\n",
      "---------------------------------------\n",
      "gpr2\n",
      "R2:  0.9418002581124967\n",
      "RMSE:  0.06512937220396743\n",
      "---------------------------------------\n",
      "gpr3\n",
      "R2:  0.9416992466896271\n",
      "RMSE:  0.06518586694323632\n",
      "---------------------------------------\n",
      "gpr4\n",
      "R2:  0.9416992476338059\n",
      "RMSE:  0.0651858664153949\n",
      "---------------------------------------\n",
      "gpr5\n",
      "R2:  0.9499222052383294\n",
      "RMSE:  0.06041419049053012\n",
      "---------------------------------------\n",
      "gpr6\n",
      "R2:  0.9277102842410059\n",
      "RMSE:  0.07258629362855608\n",
      "---------------------------------------\n",
      "[0.9035568205834625, 0.8751425033275478, 0.7236830270400261, 0.8092300011835003, 0.8330132448292316, 0.8269795068491146, 0.9418002581124967, 0.9416992466896271, 0.9416992476338059, 0.9499222052383294, 0.9277102842410059]\n"
     ]
    },
    {
     "data": {
      "image/png": "[encoded data removed]",
      "text/plain": [
       "<Figure size 640x480 with 1 Axes>"
      ]
     },
     "metadata": {},
     "output_type": "display_data"
    }
   ],
   "source": [
    "run_models()"
   ]
  },
  {
   "cell_type": "code",
   "execution_count": 33,
   "metadata": {},
   "outputs": [
    {
     "data": {
      "text/plain": [
       "array(['mean_A2B', 'X_EA', 'X_Z', 'X_Rvdw', 'mean_X2X', 'A_Rvdw',\n",
       "       'mean_A2X', 'A_IEI', 'E_coh', 'A_ChiA', 'X_IEII', 'B_Hf',\n",
       "       'std_A2X', 'A_ChiP', 'std_B2X', 'X_G', 'B_MP', 'OF', 'B_Ra',\n",
       "       'A_MP'], dtype=object)"
      ]
     },
     "execution_count": 33,
     "metadata": {},
     "output_type": "execute_result"
    }
   ],
   "source": [
    "featureScores.nlargest(20,'Score')['Feature'].values"
   ]
  },
  {
   "cell_type": "code",
   "execution_count": 34,
   "metadata": {},
   "outputs": [],
   "source": [
    "X=X[featureScores.nlargest(20,'Score')['Feature'].values]"
   ]
  },
  {
   "cell_type": "code",
   "execution_count": 35,
   "metadata": {},
   "outputs": [
    {
     "name": "stdout",
     "output_type": "stream",
     "text": [
      "RF\n",
      "R2:  0.8919889568485031\n",
      "RMSE:  0.08872590602922598\n",
      "---------------------------------------\n",
      "GB\n",
      "R2:  0.8195437269924835\n",
      "RMSE:  0.11468387387339712\n",
      "---------------------------------------\n",
      "LR\n",
      "R2:  0.8325440502777389\n",
      "RMSE:  0.11047567251230847\n",
      "---------------------------------------\n",
      "RR\n",
      "R2:  0.8514332779140297\n",
      "RMSE:  0.10405839746548692\n",
      "---------------------------------------\n",
      "LASSO\n",
      "R2:  0.8161442160571082\n",
      "RMSE:  0.11575906522436968\n",
      "---------------------------------------\n",
      "gpr1\n",
      "R2:  0.8764297011734098\n",
      "RMSE:  0.09490157303432108\n",
      "---------------------------------------\n",
      "gpr2\n",
      "R2:  0.9245661359060131\n",
      "RMSE:  0.07414801688137257\n",
      "---------------------------------------\n",
      "gpr3\n",
      "R2:  0.8923345266627749\n",
      "RMSE:  0.0885838577838431\n",
      "---------------------------------------\n",
      "gpr4\n",
      "R2:  0.8923345287220603\n",
      "RMSE:  0.08858385693668461\n",
      "---------------------------------------\n",
      "gpr5\n",
      "R2:  0.9304056198127306\n",
      "RMSE:  0.07122024253725918\n",
      "---------------------------------------\n",
      "gpr6\n",
      "R2:  0.9350406623394413\n",
      "RMSE:  0.06880771830631013\n",
      "---------------------------------------\n",
      "[0.8919889568485031, 0.8195437269924835, 0.8325440502777389, 0.8514332779140297, 0.8161442160571082, 0.8764297011734098, 0.9245661359060131, 0.8923345266627749, 0.8923345287220603, 0.9304056198127306, 0.9350406623394413]\n"
     ]
    },
    {
     "data": {
      "image/png": "[encoded data removed]",
      "text/plain": [
       "<Figure size 640x480 with 1 Axes>"
      ]
     },
     "metadata": {},
     "output_type": "display_data"
    }
   ],
   "source": [
    "run_models()"
   ]
  },
  {
   "cell_type": "code",
   "execution_count": 36,
   "metadata": {},
   "outputs": [
    {
     "data": {
      "text/plain": [
       "array(['mean_A2B', 'X_EA', 'X_Z', 'X_Rvdw', 'mean_X2X', 'A_Rvdw',\n",
       "       'mean_A2X', 'A_IEI', 'E_coh', 'A_ChiA'], dtype=object)"
      ]
     },
     "execution_count": 36,
     "metadata": {},
     "output_type": "execute_result"
    }
   ],
   "source": [
    "featureScores.nlargest(10,'Score')['Feature'].values"
   ]
  },
  {
   "cell_type": "code",
   "execution_count": 37,
   "metadata": {},
   "outputs": [],
   "source": [
    "X=X[featureScores.nlargest(10,'Score')['Feature'].values]"
   ]
  },
  {
   "cell_type": "code",
   "execution_count": 38,
   "metadata": {},
   "outputs": [
    {
     "name": "stdout",
     "output_type": "stream",
     "text": [
      "RF\n",
      "R2:  0.8968372947973969\n",
      "RMSE:  0.08671170457203832\n",
      "---------------------------------------\n",
      "GB\n",
      "R2:  0.7991684068752161\n",
      "RMSE:  0.12098523693450199\n",
      "---------------------------------------\n",
      "LR\n",
      "R2:  0.8367154726986699\n",
      "RMSE:  0.10909098907427724\n",
      "---------------------------------------\n",
      "RR\n",
      "R2:  0.8411398777574848\n",
      "RMSE:  0.10760285855151258\n",
      "---------------------------------------\n",
      "LASSO\n",
      "R2:  0.81676762742244\n",
      "RMSE:  0.11556264280750433\n",
      "---------------------------------------\n",
      "gpr1\n",
      "R2:  0.8464117069681806\n",
      "RMSE:  0.10580237569658454\n",
      "---------------------------------------\n",
      "gpr2\n",
      "R2:  0.857969199928738\n",
      "RMSE:  0.10174372396462383\n",
      "---------------------------------------\n",
      "gpr3\n",
      "R2:  0.8065272944042572\n",
      "RMSE:  0.11874797576393041\n",
      "---------------------------------------\n",
      "gpr4\n",
      "R2:  0.8065273604765417\n",
      "RMSE:  0.11874795548729582\n",
      "---------------------------------------\n",
      "gpr5\n",
      "R2:  0.881535030413896\n",
      "RMSE:  0.09292045682999445\n",
      "---------------------------------------\n",
      "gpr6\n",
      "R2:  0.8809505057852013\n",
      "RMSE:  0.09314941675670979\n",
      "---------------------------------------\n",
      "[0.8968372947973969, 0.7991684068752161, 0.8367154726986699, 0.8411398777574848, 0.81676762742244, 0.8464117069681806, 0.857969199928738, 0.8065272944042572, 0.8065273604765417, 0.881535030413896, 0.8809505057852013]\n"
     ]
    },
    {
     "data": {
      "image/png": "[encoded data removed]",
      "text/plain": [
       "<Figure size 640x480 with 1 Axes>"
      ]
     },
     "metadata": {},
     "output_type": "display_data"
    }
   ],
   "source": [
    "run_models()"
   ]
  }
 ],
 "metadata": {
  "colab": {
   "collapsed_sections": [],
   "name": "Final_total.ipynb",
   "provenance": []
  },
  "kernelspec": {
   "display_name": "Python 3 (ipykernel)",
   "language": "python",
   "name": "python3"
  },
  "language_info": {
   "codemirror_mode": {
    "name": "ipython",
    "version": 3
   },
   "file_extension": ".py",
   "mimetype": "text/x-python",
   "name": "python",
   "nbconvert_exporter": "python",
   "pygments_lexer": "ipython3",
   "version": "3.9.13"
  }
 },
 "nbformat": 4,
 "nbformat_minor": 1
}
