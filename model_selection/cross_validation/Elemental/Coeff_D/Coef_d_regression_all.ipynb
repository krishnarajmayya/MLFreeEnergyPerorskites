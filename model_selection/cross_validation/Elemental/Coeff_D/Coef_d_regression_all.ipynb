{
 "cells": [
  {
   "cell_type": "code",
   "execution_count": 1,
   "metadata": {
    "id": "U1Or_5CpWR5m"
   },
   "outputs": [],
   "source": [
    "import numpy as np\n",
    "import pandas as pd\n",
    "import matplotlib.pyplot as plt\n",
    "from math import sqrt\n",
    "import seaborn as sns \n",
    "import re\n",
    " \n",
    "import warnings # supress warnings\n",
    "warnings.filterwarnings('ignore')"
   ]
  },
  {
   "cell_type": "code",
   "execution_count": 2,
   "metadata": {
    "id": "wd0p9t1imwDC"
   },
   "outputs": [],
   "source": [
    "import sklearn\n",
    "\n",
    "from sklearn.preprocessing import MinMaxScaler, PolynomialFeatures, scale, StandardScaler\n",
    "\n",
    "from sklearn.model_selection import train_test_split, cross_val_score, KFold, GridSearchCV\n",
    "\n",
    "from sklearn.linear_model import LinearRegression, Ridge, Lasso, ElasticNet \n",
    "\n",
    "from sklearn.ensemble import RandomForestRegressor\n",
    "from sklearn.ensemble import GradientBoostingRegressor\n",
    "\n",
    "from sklearn.feature_selection import RFE, SelectKBest, f_regression\n",
    "from sklearn.inspection import permutation_importance\n",
    "\n",
    "from sklearn.gaussian_process import GaussianProcessRegressor\n",
    "from sklearn.gaussian_process.kernels import DotProduct, WhiteKernel, RBF, Matern, RationalQuadratic\n",
    "from sklearn.gaussian_process.kernels import Kernel, Hyperparameter, ConstantKernel\n",
    "from sklearn.gaussian_process.kernels import GenericKernelMixin\n",
    "\n",
    "from sklearn import metrics\n",
    "from sklearn.metrics import mean_squared_error\n",
    "from sklearn.metrics import r2_score  \n",
    "\n",
    "from sklearn.pipeline import make_pipeline\n",
    "\n",
    "from sklearn.base import clone"
   ]
  },
  {
   "cell_type": "code",
   "execution_count": 3,
   "metadata": {},
   "outputs": [],
   "source": [
    "def run_models():\n",
    "    rf = RandomForestRegressor(n_estimators= 100, random_state= 10)\n",
    "    gb = GradientBoostingRegressor(loss='quantile', alpha=0.5,\n",
    "                                n_estimators=100, max_depth=10,\n",
    "                                learning_rate=0.25, min_samples_leaf=9,\n",
    "                                min_samples_split=2)\n",
    "    lr = LinearRegression()\n",
    "    rr = Ridge(alpha=0.01)\n",
    "    lasso = Lasso(alpha=0.01)\n",
    "    gpr1 = GaussianProcessRegressor(kernel=DotProduct() + WhiteKernel(),random_state=0)\n",
    "    gpr2 = GaussianProcessRegressor(kernel=1.0 * RBF(length_scale=100.0, length_scale_bounds=(1e-2, 1e3))+ \n",
    "                                WhiteKernel(noise_level=1, noise_level_bounds=(1e-10, 1e+1)),alpha=0.0)\n",
    "    gpr3 = GaussianProcessRegressor(kernel=ConstantKernel(1.0, (1e-2, 1e3)) * RBF(10, (1e-3, 1e4)),\n",
    "                                n_restarts_optimizer=9)\n",
    "    gpr4 = GaussianProcessRegressor(kernel=1.0 * RBF(length_scale=1.0, length_scale_bounds=(1e-1, 10.0)))\n",
    "    gpr5 = GaussianProcessRegressor(kernel=1.0 * RationalQuadratic(length_scale=1.0, alpha=0.01))\n",
    "    gpr6 = GaussianProcessRegressor(kernel=1.0 * Matern(length_scale=1.0, length_scale_bounds=(1e-2, 10.0),nu=0.35))\n",
    "    models = [rf,gb,lr,rr,lasso,gpr1,gpr2,gpr3,gpr4,gpr5,gpr6]\n",
    "    models_names = [\"RF\",\"GB\",\"LR\",\"RR\",\"LASSO\",\"gpr1\",\"gpr2\",\"gpr3\",\"gpr4\",\"gpr5\",\"gpr6\"]\n",
    "    r2scores=[]\n",
    "    rmse=[]\n",
    "    count=0\n",
    "    for model in models :\n",
    "        predicted_y = []\n",
    "        expected_y = []\n",
    "        kf = KFold(n_splits= 10) \n",
    "        # partition data\n",
    "        for train_index, test_index in kf.split(X, Y):\n",
    "            # specific \".loc\" syntax for working with dataframes\n",
    "            x_train, x_test = X.loc[train_index], X.loc[test_index]\n",
    "            y_train, y_test = Y[train_index], Y[test_index]\n",
    "\n",
    "            # create and fit classifier\n",
    "            model.fit(x_train, y_train)\n",
    "\n",
    "            # store result from classification\n",
    "            predicted_y.extend(model.predict(x_test))\n",
    "\n",
    "            # store expected result for this specific fold\n",
    "            expected_y.extend(y_test)\n",
    "        \n",
    "        r2 = metrics.r2_score(expected_y, predicted_y)\n",
    "        r2scores.append(r2)\n",
    "        \n",
    "        err=np.sqrt(metrics.mean_squared_error(expected_y, predicted_y))\n",
    "        rmse.append(err)\n",
    "        \n",
    "        print(models_names[count])\n",
    "        print(\"R2: \",r2.__str__())\n",
    "        print(\"RMSE: \",err)\n",
    "        print(\"---------------------------------------\")\n",
    "        count+=1\n",
    "    \n",
    "    plt.rcdefaults()\n",
    "    fig, ax = plt.subplots()\n",
    "\n",
    "    x_pos = np.arange(len(models_names))\n",
    "    ax.bar(x_pos, r2scores, align='center')\n",
    "    ax.set_xticks(x_pos)\n",
    "    ax.set_xticklabels(models_names)\n",
    "    ax.set_ylabel('R2 Score')\n",
    "    #plt.savefig('imp.eps', format='eps')\n",
    "    #plt.show()\n",
    "    print(r2scores)"
   ]
  },
  {
   "cell_type": "markdown",
   "metadata": {},
   "source": [
    "# Standard Scaling"
   ]
  },
  {
   "cell_type": "code",
   "execution_count": 4,
   "metadata": {
    "id": "hjdsOVHoYDJB"
   },
   "outputs": [],
   "source": [
    "data_std = pd.read_csv('scaled_standard_Coeff_D.csv', encoding='cp1252')   "
   ]
  },
  {
   "cell_type": "code",
   "execution_count": 5,
   "metadata": {},
   "outputs": [
    {
     "data": {
      "text/plain": [
       "array(['Name', 'density', 'mean_A2B', 'mean_A2X', 'mean_B2X', 'mean_X2X',\n",
       "       'std_A2B', 'std_A2X', 'std_B2X', 'std_X2X', 'E_coh', 'TF', 'OF',\n",
       "       'A_Z', 'B_Z', 'X_Z', 'A_G', 'B_G', 'X_G', 'A_IEI', 'B_IEI',\n",
       "       'X_IEI', 'A_IEII', 'B_IEII', 'X_IEII', 'A_EA', 'B_EA', 'X_EA',\n",
       "       'A_ChiP', 'B_ChiP', 'X_ChiP', 'A_ChiA', 'B_ChiA', 'A_Rvdw',\n",
       "       'B_Rvdw', 'X_Rvdw', 'B_Rc', 'B_Ra', 'A_MP', 'B_MP', 'A_Rho',\n",
       "       'B_Rho', 'X_Rho', 'B_MV', 'X_MV', 'B_Hf', 'A_Kappa', 'B_Kappa',\n",
       "       'X_Kappa', 'A_CvM', 'B_CvM', 'A_B', 'B_B', 'B_MendeleevNo',\n",
       "       'Coeff_D'], dtype=object)"
      ]
     },
     "execution_count": 5,
     "metadata": {},
     "output_type": "execute_result"
    }
   ],
   "source": [
    "data_std.columns.values"
   ]
  },
  {
   "cell_type": "code",
   "execution_count": 6,
   "metadata": {},
   "outputs": [],
   "source": [
    "data_std.drop(['density', 'mean_A2B', 'mean_A2X', 'mean_B2X', 'mean_X2X',\n",
    "           'std_A2B', 'std_A2X', 'std_B2X', 'std_X2X', 'E_coh', 'TF', 'OF'\n",
    "          ], axis=1, inplace = True)"
   ]
  },
  {
   "cell_type": "code",
   "execution_count": 7,
   "metadata": {},
   "outputs": [],
   "source": [
    "data_std.fillna(0, inplace= True)"
   ]
  },
  {
   "cell_type": "code",
   "execution_count": 8,
   "metadata": {},
   "outputs": [],
   "source": [
    "Y = data_std['Coeff_D'] \n",
    "X = data_std.drop(['Coeff_D','Name'], axis=1)"
   ]
  },
  {
   "cell_type": "markdown",
   "metadata": {
    "id": "ZaJDp0jdzwnZ"
   },
   "source": [
    "### Using CV technique"
   ]
  },
  {
   "cell_type": "code",
   "execution_count": 9,
   "metadata": {},
   "outputs": [
    {
     "name": "stdout",
     "output_type": "stream",
     "text": [
      "RF\n",
      "R2:  0.9100458667887377\n",
      "RMSE:  0.29992354560998097\n",
      "---------------------------------------\n",
      "GB\n",
      "R2:  0.8634502397493096\n",
      "RMSE:  0.3695263999373934\n",
      "---------------------------------------\n",
      "LR\n",
      "R2:  -2.4630901415524535e+23\n",
      "RMSE:  496295289273.6796\n",
      "---------------------------------------\n",
      "RR\n",
      "R2:  0.6166937703685604\n",
      "RMSE:  0.6191172987661059\n",
      "---------------------------------------\n",
      "LASSO\n",
      "R2:  0.9236649903965249\n",
      "RMSE:  0.27628791070815073\n",
      "---------------------------------------\n",
      "gpr1\n",
      "R2:  0.8694797485715102\n",
      "RMSE:  0.3612758661030236\n",
      "---------------------------------------\n",
      "gpr2\n",
      "R2:  0.9390292011111486\n",
      "RMSE:  0.2469226577065202\n",
      "---------------------------------------\n",
      "gpr3\n",
      "R2:  0.8982908535586606\n",
      "RMSE:  0.31891871447335823\n",
      "---------------------------------------\n",
      "gpr4\n",
      "R2:  0.8982908652549789\n",
      "RMSE:  0.3189186961358977\n",
      "---------------------------------------\n",
      "gpr5\n",
      "R2:  0.9324642419720284\n",
      "RMSE:  0.25987642838082026\n",
      "---------------------------------------\n",
      "gpr6\n",
      "R2:  0.8582748182959409\n",
      "RMSE:  0.37646405101159275\n",
      "---------------------------------------\n",
      "[0.9100458667887377, 0.8634502397493096, -2.4630901415524535e+23, 0.6166937703685604, 0.9236649903965249, 0.8694797485715102, 0.9390292011111486, 0.8982908535586606, 0.8982908652549789, 0.9324642419720284, 0.8582748182959409]\n"
     ]
    },
    {
     "data": {
      "image/png": "[encoded data removed]",
      "text/plain": [
       "<Figure size 640x480 with 1 Axes>"
      ]
     },
     "metadata": {},
     "output_type": "display_data"
    }
   ],
   "source": [
    "run_models()"
   ]
  },
  {
   "cell_type": "markdown",
   "metadata": {
    "id": "_x7bQR-jz4WE"
   },
   "source": [
    "## Feature selection\n"
   ]
  },
  {
   "cell_type": "code",
   "execution_count": 10,
   "metadata": {
    "colab": {
     "base_uri": "https://localhost:8080/"
    },
    "id": "RpTITR9vz7Th",
    "outputId": "b1c134f4-85a3-49a7-fa3a-34f5d4896d01"
   },
   "outputs": [
    {
     "name": "stdout",
     "output_type": "stream",
     "text": [
      "    Feature      Score\n",
      "14     X_EA  95.321460\n",
      "22   X_Rvdw  86.377832\n",
      "2       X_Z  57.377112\n",
      "5       X_G  42.601054\n",
      "11   X_IEII  29.416755\n",
      "20   A_Rvdw  27.279924\n",
      "24     B_Ra  24.281635\n",
      "18   A_ChiA  23.793760\n",
      "6     A_IEI  23.778238\n",
      "32     B_Hf  21.103010\n",
      "1       B_Z  20.453363\n",
      "12     A_EA  12.141141\n",
      "23     B_Rc  11.926378\n",
      "15   A_ChiP  11.798528\n",
      "37    B_CvM  10.535518\n",
      "26     B_MP  10.479821\n",
      "21   B_Rvdw  10.461311\n",
      "28    B_Rho   9.209004\n",
      "25     A_MP   9.098591\n",
      "31     X_MV   7.751609\n",
      "30     B_MV   7.176187\n",
      "0       A_Z   5.914470\n",
      "33  A_Kappa   5.550168\n",
      "17   X_ChiP   3.858279\n",
      "36    A_CvM   3.560528\n",
      "38      A_B   3.512358\n",
      "3       A_G   3.435873\n",
      "10   B_IEII   2.581042\n",
      "35  X_Kappa   2.245766\n",
      "39      B_B   1.987794\n"
     ]
    }
   ],
   "source": [
    "#apply SelectKBest class to extract top 10 best features\n",
    "bestfeatures = SelectKBest(score_func=f_regression, k=10)\n",
    "fit = bestfeatures.fit(X,Y)\n",
    "dfscores = pd.DataFrame(fit.scores_)\n",
    "dfcolumns = pd.DataFrame(X.columns)\n",
    "#concat two dataframes for better visualization \n",
    "featureScores = pd.concat([dfcolumns,dfscores],axis=1)\n",
    "featureScores.columns = ['Feature','Score']  #naming the dataframe columns\n",
    "print(featureScores.nlargest(30,'Score'))  #print 10 best features"
   ]
  },
  {
   "cell_type": "code",
   "execution_count": 11,
   "metadata": {},
   "outputs": [
    {
     "data": {
      "text/plain": [
       "array(['X_EA', 'X_Rvdw', 'X_Z', 'X_G', 'X_IEII', 'A_Rvdw', 'B_Ra',\n",
       "       'A_ChiA', 'A_IEI', 'B_Hf', 'B_Z', 'A_EA', 'B_Rc', 'A_ChiP',\n",
       "       'B_CvM', 'B_MP', 'B_Rvdw', 'B_Rho', 'A_MP', 'X_MV', 'B_MV', 'A_Z',\n",
       "       'A_Kappa', 'X_ChiP', 'A_CvM', 'A_B', 'A_G', 'B_IEII', 'X_Kappa',\n",
       "       'B_B', 'B_Kappa', 'B_EA', 'B_G', 'A_Rho', 'X_IEI', 'B_ChiP',\n",
       "       'B_ChiA', 'A_IEII', 'X_Rho', 'B_IEI'], dtype=object)"
      ]
     },
     "execution_count": 11,
     "metadata": {},
     "output_type": "execute_result"
    }
   ],
   "source": [
    "featureScores.nlargest(40,'Score')['Feature'].values"
   ]
  },
  {
   "cell_type": "code",
   "execution_count": 12,
   "metadata": {},
   "outputs": [],
   "source": [
    "X=X[featureScores.nlargest(40,'Score')['Feature'].values]"
   ]
  },
  {
   "cell_type": "code",
   "execution_count": 13,
   "metadata": {},
   "outputs": [
    {
     "name": "stdout",
     "output_type": "stream",
     "text": [
      "RF\n",
      "R2:  0.9087798449488369\n",
      "RMSE:  0.30202674558913334\n",
      "---------------------------------------\n",
      "GB\n",
      "R2:  0.8574282736902461\n",
      "RMSE:  0.3775867136298017\n",
      "---------------------------------------\n",
      "LR\n",
      "R2:  -4.9039761875639604e+22\n",
      "RMSE:  221449230921.3098\n",
      "---------------------------------------\n",
      "RR\n",
      "R2:  0.5487428999547534\n",
      "RMSE:  0.6717567268328963\n",
      "---------------------------------------\n",
      "LASSO\n",
      "R2:  0.923868021859718\n",
      "RMSE:  0.27592023872902477\n",
      "---------------------------------------\n",
      "gpr1\n",
      "R2:  0.8634951956022149\n",
      "RMSE:  0.3694655659162097\n",
      "---------------------------------------\n",
      "gpr2\n",
      "R2:  0.9393531219934214\n",
      "RMSE:  0.24626586853760035\n",
      "---------------------------------------\n",
      "gpr3\n",
      "R2:  0.9013844946909495\n",
      "RMSE:  0.3140310578733424\n",
      "---------------------------------------\n",
      "gpr4\n",
      "R2:  0.9013844903174941\n",
      "RMSE:  0.31403106483675447\n",
      "---------------------------------------\n",
      "gpr5\n",
      "R2:  0.9332970699344297\n",
      "RMSE:  0.2582691039702006\n",
      "---------------------------------------\n",
      "gpr6\n",
      "R2:  0.8617921916804079\n",
      "RMSE:  0.3717631077979527\n",
      "---------------------------------------\n",
      "[0.9087798449488369, 0.8574282736902461, -4.9039761875639604e+22, 0.5487428999547534, 0.923868021859718, 0.8634951956022149, 0.9393531219934214, 0.9013844946909495, 0.9013844903174941, 0.9332970699344297, 0.8617921916804079]\n"
     ]
    },
    {
     "data": {
      "image/png": "[encoded data removed]",
      "text/plain": [
       "<Figure size 640x480 with 1 Axes>"
      ]
     },
     "metadata": {},
     "output_type": "display_data"
    }
   ],
   "source": [
    "run_models()"
   ]
  },
  {
   "cell_type": "code",
   "execution_count": 14,
   "metadata": {},
   "outputs": [
    {
     "data": {
      "text/plain": [
       "array(['X_EA', 'X_Rvdw', 'X_Z', 'X_G', 'X_IEII', 'A_Rvdw', 'B_Ra',\n",
       "       'A_ChiA', 'A_IEI', 'B_Hf', 'B_Z', 'A_EA', 'B_Rc', 'A_ChiP',\n",
       "       'B_CvM', 'B_MP', 'B_Rvdw', 'B_Rho', 'A_MP', 'X_MV', 'B_MV', 'A_Z',\n",
       "       'A_Kappa', 'X_ChiP', 'A_CvM', 'A_B', 'A_G', 'B_IEII', 'X_Kappa',\n",
       "       'B_B'], dtype=object)"
      ]
     },
     "execution_count": 14,
     "metadata": {},
     "output_type": "execute_result"
    }
   ],
   "source": [
    "featureScores.nlargest(30,'Score')['Feature'].values"
   ]
  },
  {
   "cell_type": "code",
   "execution_count": 15,
   "metadata": {},
   "outputs": [],
   "source": [
    "X=X[featureScores.nlargest(30,'Score')['Feature'].values]"
   ]
  },
  {
   "cell_type": "code",
   "execution_count": 16,
   "metadata": {},
   "outputs": [
    {
     "name": "stdout",
     "output_type": "stream",
     "text": [
      "RF\n",
      "R2:  0.9137664011135802\n",
      "RMSE:  0.2936555786740987\n",
      "---------------------------------------\n",
      "GB\n",
      "R2:  0.8658542982029185\n",
      "RMSE:  0.36625906377464773\n",
      "---------------------------------------\n",
      "LR\n",
      "R2:  -3.754897581027469e+21\n",
      "RMSE:  61277219103.248055\n",
      "---------------------------------------\n",
      "RR\n",
      "R2:  0.8180252969545149\n",
      "RMSE:  0.42658493063572367\n",
      "---------------------------------------\n",
      "LASSO\n",
      "R2:  0.9248629182237883\n",
      "RMSE:  0.27411144043292274\n",
      "---------------------------------------\n",
      "gpr1\n",
      "R2:  0.9296534152065314\n",
      "RMSE:  0.2652293060607529\n",
      "---------------------------------------\n",
      "gpr2\n",
      "R2:  0.9387225124870606\n",
      "RMSE:  0.2475429003484837\n",
      "---------------------------------------\n",
      "gpr3\n",
      "R2:  0.7524878247131404\n",
      "RMSE:  0.4975059550265299\n",
      "---------------------------------------\n",
      "gpr4\n",
      "R2:  0.8376853548155903\n",
      "RMSE:  0.40288291746413085\n",
      "---------------------------------------\n",
      "gpr5\n",
      "R2:  0.9266153813032143\n",
      "RMSE:  0.2708959554825168\n",
      "---------------------------------------\n",
      "gpr6\n",
      "R2:  0.8793581766855406\n",
      "RMSE:  0.3473353182653031\n",
      "---------------------------------------\n",
      "[0.9137664011135802, 0.8658542982029185, -3.754897581027469e+21, 0.8180252969545149, 0.9248629182237883, 0.9296534152065314, 0.9387225124870606, 0.7524878247131404, 0.8376853548155903, 0.9266153813032143, 0.8793581766855406]\n"
     ]
    },
    {
     "data": {
      "image/png": "[encoded data removed]",
      "text/plain": [
       "<Figure size 640x480 with 1 Axes>"
      ]
     },
     "metadata": {},
     "output_type": "display_data"
    }
   ],
   "source": [
    "run_models()"
   ]
  },
  {
   "cell_type": "code",
   "execution_count": 17,
   "metadata": {},
   "outputs": [
    {
     "data": {
      "text/plain": [
       "array(['X_EA', 'X_Rvdw', 'X_Z', 'X_G', 'X_IEII', 'A_Rvdw', 'B_Ra',\n",
       "       'A_ChiA', 'A_IEI', 'B_Hf', 'B_Z', 'A_EA', 'B_Rc', 'A_ChiP',\n",
       "       'B_CvM', 'B_MP', 'B_Rvdw', 'B_Rho', 'A_MP', 'X_MV'], dtype=object)"
      ]
     },
     "execution_count": 17,
     "metadata": {},
     "output_type": "execute_result"
    }
   ],
   "source": [
    "featureScores.nlargest(20,'Score')['Feature'].values"
   ]
  },
  {
   "cell_type": "code",
   "execution_count": 18,
   "metadata": {},
   "outputs": [],
   "source": [
    "X=X[featureScores.nlargest(20,'Score')['Feature'].values]"
   ]
  },
  {
   "cell_type": "code",
   "execution_count": 19,
   "metadata": {},
   "outputs": [
    {
     "name": "stdout",
     "output_type": "stream",
     "text": [
      "RF\n",
      "R2:  0.9094638671457381\n",
      "RMSE:  0.30089222797251164\n",
      "---------------------------------------\n",
      "GB\n",
      "R2:  0.854704421153356\n",
      "RMSE:  0.3811765717441774\n",
      "---------------------------------------\n",
      "LR\n",
      "R2:  0.7815993411447805\n",
      "RMSE:  0.46733356273139587\n",
      "---------------------------------------\n",
      "RR\n",
      "R2:  0.7836660054698571\n",
      "RMSE:  0.46511718365390775\n",
      "---------------------------------------\n",
      "LASSO\n",
      "R2:  0.8796922453324653\n",
      "RMSE:  0.34685408267387413\n",
      "---------------------------------------\n",
      "gpr1\n",
      "R2:  0.8165407377482108\n",
      "RMSE:  0.4283214473404165\n",
      "---------------------------------------\n",
      "gpr2\n",
      "R2:  0.9330322693424729\n",
      "RMSE:  0.2587812409304955\n",
      "---------------------------------------\n",
      "gpr3\n",
      "R2:  0.7375289279999022\n",
      "RMSE:  0.5123193066829492\n",
      "---------------------------------------\n",
      "gpr4\n",
      "R2:  0.8273928278174592\n",
      "RMSE:  0.41546019325868133\n",
      "---------------------------------------\n",
      "gpr5\n",
      "R2:  0.9202028091149087\n",
      "RMSE:  0.2824839657132619\n",
      "---------------------------------------\n",
      "gpr6\n",
      "R2:  0.8975651540438871\n",
      "RMSE:  0.3200544421752538\n",
      "---------------------------------------\n",
      "[0.9094638671457381, 0.854704421153356, 0.7815993411447805, 0.7836660054698571, 0.8796922453324653, 0.8165407377482108, 0.9330322693424729, 0.7375289279999022, 0.8273928278174592, 0.9202028091149087, 0.8975651540438871]\n"
     ]
    },
    {
     "data": {
      "image/png": "[encoded data removed]",
      "text/plain": [
       "<Figure size 640x480 with 1 Axes>"
      ]
     },
     "metadata": {},
     "output_type": "display_data"
    }
   ],
   "source": [
    "run_models()"
   ]
  },
  {
   "cell_type": "code",
   "execution_count": 20,
   "metadata": {},
   "outputs": [
    {
     "data": {
      "text/plain": [
       "array(['X_EA', 'X_Rvdw', 'X_Z', 'X_G', 'X_IEII', 'A_Rvdw', 'B_Ra',\n",
       "       'A_ChiA', 'A_IEI', 'B_Hf'], dtype=object)"
      ]
     },
     "execution_count": 20,
     "metadata": {},
     "output_type": "execute_result"
    }
   ],
   "source": [
    "featureScores.nlargest(10,'Score')['Feature'].values"
   ]
  },
  {
   "cell_type": "code",
   "execution_count": 21,
   "metadata": {},
   "outputs": [],
   "source": [
    "X=X[featureScores.nlargest(10,'Score')['Feature'].values]"
   ]
  },
  {
   "cell_type": "code",
   "execution_count": 22,
   "metadata": {},
   "outputs": [
    {
     "name": "stdout",
     "output_type": "stream",
     "text": [
      "RF\n",
      "R2:  0.908989620385948\n",
      "RMSE:  0.3016792661321821\n",
      "---------------------------------------\n",
      "GB\n",
      "R2:  0.7637980673332464\n",
      "RMSE:  0.4860061035282927\n",
      "---------------------------------------\n",
      "LR\n",
      "R2:  0.9088656566091211\n",
      "RMSE:  0.3018846524599734\n",
      "---------------------------------------\n",
      "RR\n",
      "R2:  0.9089285350973778\n",
      "RMSE:  0.3017804912558501\n",
      "---------------------------------------\n",
      "LASSO\n",
      "R2:  0.9122684846030693\n",
      "RMSE:  0.296195063086694\n",
      "---------------------------------------\n",
      "gpr1\n",
      "R2:  0.9138000118899706\n",
      "RMSE:  0.293598344869363\n",
      "---------------------------------------\n",
      "gpr2\n",
      "R2:  0.9317062383924424\n",
      "RMSE:  0.2613307513622491\n",
      "---------------------------------------\n",
      "gpr3\n",
      "R2:  0.4204499190687857\n",
      "RMSE:  0.7612818669397126\n",
      "---------------------------------------\n",
      "gpr4\n",
      "R2:  0.42044993573343203\n",
      "RMSE:  0.7612818559945902\n",
      "---------------------------------------\n",
      "gpr5\n",
      "R2:  0.8807002654873924\n",
      "RMSE:  0.34539793646257877\n",
      "---------------------------------------\n",
      "gpr6\n",
      "R2:  0.9029429988606451\n",
      "RMSE:  0.3115397264224178\n",
      "---------------------------------------\n",
      "[0.908989620385948, 0.7637980673332464, 0.9088656566091211, 0.9089285350973778, 0.9122684846030693, 0.9138000118899706, 0.9317062383924424, 0.4204499190687857, 0.42044993573343203, 0.8807002654873924, 0.9029429988606451]\n"
     ]
    },
    {
     "data": {
      "image/png": "[encoded data removed]",
      "text/plain": [
       "<Figure size 640x480 with 1 Axes>"
      ]
     },
     "metadata": {},
     "output_type": "display_data"
    }
   ],
   "source": [
    "run_models()"
   ]
  },
  {
   "cell_type": "markdown",
   "metadata": {},
   "source": [
    "# Min-Max scaling"
   ]
  },
  {
   "cell_type": "code",
   "execution_count": 23,
   "metadata": {},
   "outputs": [],
   "source": [
    "data_mm = pd.read_csv('scaled_minmax_Coeff_D.csv', encoding='cp1252')"
   ]
  },
  {
   "cell_type": "code",
   "execution_count": 24,
   "metadata": {},
   "outputs": [],
   "source": [
    "data_mm.drop(['density', 'mean_A2B', 'mean_A2X', 'mean_B2X', 'mean_X2X',\n",
    "           'std_A2B', 'std_A2X', 'std_B2X', 'std_X2X', 'E_coh', 'TF', 'OF'\n",
    "          ], axis=1, inplace = True)"
   ]
  },
  {
   "cell_type": "code",
   "execution_count": 25,
   "metadata": {},
   "outputs": [],
   "source": [
    "data_mm.fillna(0, inplace= True)"
   ]
  },
  {
   "cell_type": "code",
   "execution_count": 26,
   "metadata": {},
   "outputs": [],
   "source": [
    "Y = data_mm['Coeff_D'] \n",
    "X = data_mm.drop(['Coeff_D','Name'], axis=1)"
   ]
  },
  {
   "cell_type": "markdown",
   "metadata": {
    "id": "ZaJDp0jdzwnZ"
   },
   "source": [
    "### Using CV technique"
   ]
  },
  {
   "cell_type": "code",
   "execution_count": 27,
   "metadata": {},
   "outputs": [
    {
     "name": "stdout",
     "output_type": "stream",
     "text": [
      "RF\n",
      "R2:  0.894536940844513\n",
      "RMSE:  0.07466725336060477\n",
      "---------------------------------------\n",
      "GB\n",
      "R2:  0.8849211141266472\n",
      "RMSE:  0.0779969855083392\n",
      "---------------------------------------\n",
      "LR\n",
      "R2:  -7.78035021721665e+23\n",
      "RMSE:  202805424436.30466\n",
      "---------------------------------------\n",
      "RR\n",
      "R2:  0.7861312777136417\n",
      "RMSE:  0.10632946559283138\n",
      "---------------------------------------\n",
      "LASSO\n",
      "R2:  0.7444662632681744\n",
      "RMSE:  0.11622622081585257\n",
      "---------------------------------------\n",
      "gpr1\n",
      "R2:  0.45289082688959736\n",
      "RMSE:  0.1700658021820144\n",
      "---------------------------------------\n",
      "gpr2\n",
      "R2:  0.9348304545422546\n",
      "RMSE:  0.058695166601792644\n",
      "---------------------------------------\n",
      "gpr3\n",
      "R2:  0.8665114012128233\n",
      "RMSE:  0.08400440902696188\n",
      "---------------------------------------\n",
      "gpr4\n",
      "R2:  0.8665113896885946\n",
      "RMSE:  0.08400441265306183\n",
      "---------------------------------------\n",
      "gpr5\n",
      "R2:  0.9294160391297256\n",
      "RMSE:  0.061084778926167975\n",
      "---------------------------------------\n",
      "gpr6\n",
      "R2:  0.8879702918788697\n",
      "RMSE:  0.07695672828456934\n",
      "---------------------------------------\n",
      "[0.894536940844513, 0.8849211141266472, -7.78035021721665e+23, 0.7861312777136417, 0.7444662632681744, 0.45289082688959736, 0.9348304545422546, 0.8665114012128233, 0.8665113896885946, 0.9294160391297256, 0.8879702918788697]\n"
     ]
    },
    {
     "data": {
      "image/png": "[encoded data removed]",
      "text/plain": [
       "<Figure size 640x480 with 1 Axes>"
      ]
     },
     "metadata": {},
     "output_type": "display_data"
    }
   ],
   "source": [
    "run_models()"
   ]
  },
  {
   "cell_type": "markdown",
   "metadata": {
    "id": "_x7bQR-jz4WE"
   },
   "source": [
    "## Feature selection\n"
   ]
  },
  {
   "cell_type": "code",
   "execution_count": 28,
   "metadata": {
    "colab": {
     "base_uri": "https://localhost:8080/"
    },
    "id": "RpTITR9vz7Th",
    "outputId": "b1c134f4-85a3-49a7-fa3a-34f5d4896d01"
   },
   "outputs": [
    {
     "name": "stdout",
     "output_type": "stream",
     "text": [
      "    Feature      Score\n",
      "14     X_EA  95.321460\n",
      "22   X_Rvdw  86.377832\n",
      "2       X_Z  57.377112\n",
      "5       X_G  42.601054\n",
      "20   A_Rvdw  27.279924\n",
      "24     B_Ra  24.281635\n",
      "6     A_IEI  23.778238\n",
      "18   A_ChiA  23.196933\n",
      "32     B_Hf  21.103010\n",
      "1       B_Z  20.453363\n",
      "12     A_EA  12.141141\n",
      "23     B_Rc  11.926378\n",
      "15   A_ChiP  11.798528\n",
      "26     B_MP  10.479821\n",
      "21   B_Rvdw  10.461311\n",
      "37    B_CvM  10.060408\n",
      "19   B_ChiA   9.105932\n",
      "25     A_MP   9.098591\n",
      "28    B_Rho   8.712494\n",
      "31     X_MV   7.751609\n",
      "30     B_MV   7.176187\n",
      "29    X_Rho   7.000829\n",
      "0       A_Z   5.914470\n",
      "33  A_Kappa   5.550168\n",
      "17   X_ChiP   3.858279\n",
      "36    A_CvM   3.560528\n",
      "38      A_B   3.512358\n",
      "3       A_G   3.435873\n",
      "11   X_IEII   2.463861\n",
      "10   B_IEII   2.462788\n"
     ]
    }
   ],
   "source": [
    "#apply SelectKBest class to extract top 10 best features\n",
    "bestfeatures = SelectKBest(score_func=f_regression, k=10)\n",
    "fit = bestfeatures.fit(X,Y)\n",
    "dfscores = pd.DataFrame(fit.scores_)\n",
    "dfcolumns = pd.DataFrame(X.columns)\n",
    "#concat two dataframes for better visualization \n",
    "featureScores = pd.concat([dfcolumns,dfscores],axis=1)\n",
    "featureScores.columns = ['Feature','Score']  #naming the dataframe columns\n",
    "print(featureScores.nlargest(30,'Score'))  #print 10 best features"
   ]
  },
  {
   "cell_type": "code",
   "execution_count": 29,
   "metadata": {},
   "outputs": [
    {
     "data": {
      "text/plain": [
       "array(['X_EA', 'X_Rvdw', 'X_Z', 'X_G', 'A_Rvdw', 'B_Ra', 'A_IEI',\n",
       "       'A_ChiA', 'B_Hf', 'B_Z', 'A_EA', 'B_Rc', 'A_ChiP', 'B_MP',\n",
       "       'B_Rvdw', 'B_CvM', 'B_ChiA', 'A_MP', 'B_Rho', 'X_MV', 'B_MV',\n",
       "       'X_Rho', 'A_Z', 'A_Kappa', 'X_ChiP', 'A_CvM', 'A_B', 'A_G',\n",
       "       'X_IEII', 'B_IEII', 'X_Kappa', 'B_B', 'B_Kappa', 'B_EA', 'B_G',\n",
       "       'A_Rho', 'X_IEI', 'B_ChiP', 'A_IEII', 'B_IEI'], dtype=object)"
      ]
     },
     "execution_count": 29,
     "metadata": {},
     "output_type": "execute_result"
    }
   ],
   "source": [
    "featureScores.nlargest(40,'Score')['Feature'].values"
   ]
  },
  {
   "cell_type": "code",
   "execution_count": 30,
   "metadata": {},
   "outputs": [],
   "source": [
    "X=X[featureScores.nlargest(40,'Score')['Feature'].values]"
   ]
  },
  {
   "cell_type": "code",
   "execution_count": 31,
   "metadata": {},
   "outputs": [
    {
     "name": "stdout",
     "output_type": "stream",
     "text": [
      "RF\n",
      "R2:  0.8948967156703596\n",
      "RMSE:  0.07453978527944917\n",
      "---------------------------------------\n",
      "GB\n",
      "R2:  0.8663215312511401\n",
      "RMSE:  0.08406413040554685\n",
      "---------------------------------------\n",
      "LR\n",
      "R2:  -9.003360352656399e+20\n",
      "RMSE:  6898939081.959181\n",
      "---------------------------------------\n",
      "RR\n",
      "R2:  0.716561281947967\n",
      "RMSE:  0.12240793774345891\n",
      "---------------------------------------\n",
      "LASSO\n",
      "R2:  0.7444554864569173\n",
      "RMSE:  0.11622867163674028\n",
      "---------------------------------------\n",
      "gpr1\n",
      "R2:  0.09956188756605411\n",
      "RMSE:  0.21817597636675837\n",
      "---------------------------------------\n",
      "gpr2\n",
      "R2:  0.9345639714557956\n",
      "RMSE:  0.05881504861169597\n",
      "---------------------------------------\n",
      "gpr3\n",
      "R2:  0.8682158994853663\n",
      "RMSE:  0.08346636535944477\n",
      "---------------------------------------\n",
      "gpr4\n",
      "R2:  0.8682159183662799\n",
      "RMSE:  0.08346635938026638\n",
      "---------------------------------------\n",
      "gpr5\n",
      "R2:  0.9316443034263304\n",
      "RMSE:  0.06011285438131577\n",
      "---------------------------------------\n",
      "gpr6\n",
      "R2:  0.891673631039632\n",
      "RMSE:  0.0756740690206214\n",
      "---------------------------------------\n",
      "[0.8948967156703596, 0.8663215312511401, -9.003360352656399e+20, 0.716561281947967, 0.7444554864569173, 0.09956188756605411, 0.9345639714557956, 0.8682158994853663, 0.8682159183662799, 0.9316443034263304, 0.891673631039632]\n"
     ]
    },
    {
     "data": {
      "image/png": "[encoded data removed]",
      "text/plain": [
       "<Figure size 640x480 with 1 Axes>"
      ]
     },
     "metadata": {},
     "output_type": "display_data"
    }
   ],
   "source": [
    "run_models()"
   ]
  },
  {
   "cell_type": "code",
   "execution_count": 32,
   "metadata": {},
   "outputs": [
    {
     "data": {
      "text/plain": [
       "array(['X_EA', 'X_Rvdw', 'X_Z', 'X_G', 'A_Rvdw', 'B_Ra', 'A_IEI',\n",
       "       'A_ChiA', 'B_Hf', 'B_Z', 'A_EA', 'B_Rc', 'A_ChiP', 'B_MP',\n",
       "       'B_Rvdw', 'B_CvM', 'B_ChiA', 'A_MP', 'B_Rho', 'X_MV', 'B_MV',\n",
       "       'X_Rho', 'A_Z', 'A_Kappa', 'X_ChiP', 'A_CvM', 'A_B', 'A_G',\n",
       "       'X_IEII', 'B_IEII'], dtype=object)"
      ]
     },
     "execution_count": 32,
     "metadata": {},
     "output_type": "execute_result"
    }
   ],
   "source": [
    "featureScores.nlargest(30,'Score')['Feature'].values"
   ]
  },
  {
   "cell_type": "code",
   "execution_count": 33,
   "metadata": {},
   "outputs": [],
   "source": [
    "X=X[featureScores.nlargest(30,'Score')['Feature'].values]"
   ]
  },
  {
   "cell_type": "code",
   "execution_count": 34,
   "metadata": {},
   "outputs": [
    {
     "name": "stdout",
     "output_type": "stream",
     "text": [
      "RF\n",
      "R2:  0.8941375918440861\n",
      "RMSE:  0.07480848821042277\n",
      "---------------------------------------\n",
      "GB\n",
      "R2:  0.8611801121395093\n",
      "RMSE:  0.0856654771746599\n",
      "---------------------------------------\n",
      "LR\n",
      "R2:  -5.212695533410525e+20\n",
      "RMSE:  5249418207.654139\n",
      "---------------------------------------\n",
      "RR\n",
      "R2:  0.6211257965653716\n",
      "RMSE:  0.14152315827606624\n",
      "---------------------------------------\n",
      "LASSO\n",
      "R2:  0.7445940825160887\n",
      "RMSE:  0.11619714871261051\n",
      "---------------------------------------\n",
      "gpr1\n",
      "R2:  0.2733509820007579\n",
      "RMSE:  0.19599380268735528\n",
      "---------------------------------------\n",
      "gpr2\n",
      "R2:  0.9174600689449838\n",
      "RMSE:  0.06605596547637217\n",
      "---------------------------------------\n",
      "gpr3\n",
      "R2:  0.7734273554296991\n",
      "RMSE:  0.10944192683109444\n",
      "---------------------------------------\n",
      "gpr4\n",
      "R2:  0.7734273392478651\n",
      "RMSE:  0.1094419307392694\n",
      "---------------------------------------\n",
      "gpr5\n",
      "R2:  0.9216989269913053\n",
      "RMSE:  0.06433745099652244\n",
      "---------------------------------------\n",
      "gpr6\n",
      "R2:  0.9045887511044143\n",
      "RMSE:  0.07101985545096964\n",
      "---------------------------------------\n",
      "[0.8941375918440861, 0.8611801121395093, -5.212695533410525e+20, 0.6211257965653716, 0.7445940825160887, 0.2733509820007579, 0.9174600689449838, 0.7734273554296991, 0.7734273392478651, 0.9216989269913053, 0.9045887511044143]\n"
     ]
    },
    {
     "data": {
      "image/png": "[encoded data removed]",
      "text/plain": [
       "<Figure size 640x480 with 1 Axes>"
      ]
     },
     "metadata": {},
     "output_type": "display_data"
    }
   ],
   "source": [
    "run_models()"
   ]
  },
  {
   "cell_type": "code",
   "execution_count": 35,
   "metadata": {},
   "outputs": [
    {
     "data": {
      "text/plain": [
       "array(['X_EA', 'X_Rvdw', 'X_Z', 'X_G', 'A_Rvdw', 'B_Ra', 'A_IEI',\n",
       "       'A_ChiA', 'B_Hf', 'B_Z', 'A_EA', 'B_Rc', 'A_ChiP', 'B_MP',\n",
       "       'B_Rvdw', 'B_CvM', 'B_ChiA', 'A_MP', 'B_Rho', 'X_MV'], dtype=object)"
      ]
     },
     "execution_count": 35,
     "metadata": {},
     "output_type": "execute_result"
    }
   ],
   "source": [
    "featureScores.nlargest(20,'Score')['Feature'].values"
   ]
  },
  {
   "cell_type": "code",
   "execution_count": 36,
   "metadata": {},
   "outputs": [],
   "source": [
    "X=X[featureScores.nlargest(20,'Score')['Feature'].values]"
   ]
  },
  {
   "cell_type": "code",
   "execution_count": 37,
   "metadata": {},
   "outputs": [
    {
     "name": "stdout",
     "output_type": "stream",
     "text": [
      "RF\n",
      "R2:  0.8912792855003118\n",
      "RMSE:  0.07581168381656407\n",
      "---------------------------------------\n",
      "GB\n",
      "R2:  0.807405806663299\n",
      "RMSE:  0.10090242139100614\n",
      "---------------------------------------\n",
      "LR\n",
      "R2:  0.6473084575290055\n",
      "RMSE:  0.13654553909663553\n",
      "---------------------------------------\n",
      "RR\n",
      "R2:  0.7610035127454665\n",
      "RMSE:  0.11240244355414936\n",
      "---------------------------------------\n",
      "LASSO\n",
      "R2:  0.7445940825160887\n",
      "RMSE:  0.11619714871261051\n",
      "---------------------------------------\n",
      "gpr1\n",
      "R2:  0.6659168281678184\n",
      "RMSE:  0.13289458761911616\n",
      "---------------------------------------\n",
      "gpr2\n",
      "R2:  0.9122394781864848\n",
      "RMSE:  0.06811293462588959\n",
      "---------------------------------------\n",
      "gpr3\n",
      "R2:  0.4645933211255233\n",
      "RMSE:  0.16823714353485802\n",
      "---------------------------------------\n",
      "gpr4\n",
      "R2:  0.8408352610867296\n",
      "RMSE:  0.09172831679336123\n",
      "---------------------------------------\n",
      "gpr5\n",
      "R2:  0.9252291647293989\n",
      "RMSE:  0.06287038354819384\n",
      "---------------------------------------\n",
      "gpr6\n",
      "R2:  0.9135752856446197\n",
      "RMSE:  0.06759257165836222\n",
      "---------------------------------------\n",
      "[0.8912792855003118, 0.807405806663299, 0.6473084575290055, 0.7610035127454665, 0.7445940825160887, 0.6659168281678184, 0.9122394781864848, 0.4645933211255233, 0.8408352610867296, 0.9252291647293989, 0.9135752856446197]\n"
     ]
    },
    {
     "data": {
      "image/png": "[encoded data removed]",
      "text/plain": [
       "<Figure size 640x480 with 1 Axes>"
      ]
     },
     "metadata": {},
     "output_type": "display_data"
    }
   ],
   "source": [
    "run_models()"
   ]
  },
  {
   "cell_type": "code",
   "execution_count": 38,
   "metadata": {},
   "outputs": [
    {
     "data": {
      "text/plain": [
       "array(['X_EA', 'X_Rvdw', 'X_Z', 'X_G', 'A_Rvdw', 'B_Ra', 'A_IEI',\n",
       "       'A_ChiA', 'B_Hf', 'B_Z'], dtype=object)"
      ]
     },
     "execution_count": 38,
     "metadata": {},
     "output_type": "execute_result"
    }
   ],
   "source": [
    "featureScores.nlargest(10,'Score')['Feature'].values"
   ]
  },
  {
   "cell_type": "code",
   "execution_count": 39,
   "metadata": {},
   "outputs": [],
   "source": [
    "X=X[featureScores.nlargest(10,'Score')['Feature'].values]"
   ]
  },
  {
   "cell_type": "code",
   "execution_count": 40,
   "metadata": {},
   "outputs": [
    {
     "name": "stdout",
     "output_type": "stream",
     "text": [
      "RF\n",
      "R2:  0.8725440293090839\n",
      "RMSE:  0.08208429757973404\n",
      "---------------------------------------\n",
      "GB\n",
      "R2:  0.8483301018144244\n",
      "RMSE:  0.08954259808835338\n",
      "---------------------------------------\n",
      "LR\n",
      "R2:  0.918819429438325\n",
      "RMSE:  0.06550976528350366\n",
      "---------------------------------------\n",
      "RR\n",
      "R2:  0.9192970709874413\n",
      "RMSE:  0.06531676129919771\n",
      "---------------------------------------\n",
      "LASSO\n",
      "R2:  0.7470838468068366\n",
      "RMSE:  0.11562940145023091\n",
      "---------------------------------------\n",
      "gpr1\n",
      "R2:  0.9189916461393282\n",
      "RMSE:  0.06544024208793767\n",
      "---------------------------------------\n",
      "gpr2\n",
      "R2:  0.9276511639359675\n",
      "RMSE:  0.061843743187373616\n",
      "---------------------------------------\n",
      "gpr3\n",
      "R2:  0.279038016509939\n",
      "RMSE:  0.19522533473655976\n",
      "---------------------------------------\n",
      "gpr4\n",
      "R2:  0.6824137524993774\n",
      "RMSE:  0.12957190312178463\n",
      "---------------------------------------\n",
      "gpr5\n",
      "R2:  0.9153482493686946\n",
      "RMSE:  0.06689566350960649\n",
      "---------------------------------------\n",
      "gpr6\n",
      "R2:  0.9188935710694802\n",
      "RMSE:  0.06547984365143222\n",
      "---------------------------------------\n",
      "[0.8725440293090839, 0.8483301018144244, 0.918819429438325, 0.9192970709874413, 0.7470838468068366, 0.9189916461393282, 0.9276511639359675, 0.279038016509939, 0.6824137524993774, 0.9153482493686946, 0.9188935710694802]\n"
     ]
    },
    {
     "data": {
      "image/png": "[encoded data removed]",
      "text/plain": [
       "<Figure size 640x480 with 1 Axes>"
      ]
     },
     "metadata": {},
     "output_type": "display_data"
    }
   ],
   "source": [
    "run_models()"
   ]
  }
 ],
 "metadata": {
  "colab": {
   "collapsed_sections": [],
   "name": "Final_total.ipynb",
   "provenance": []
  },
  "kernelspec": {
   "display_name": "Python 3 (ipykernel)",
   "language": "python",
   "name": "python3"
  },
  "language_info": {
   "codemirror_mode": {
    "name": "ipython",
    "version": 3
   },
   "file_extension": ".py",
   "mimetype": "text/x-python",
   "name": "python",
   "nbconvert_exporter": "python",
   "pygments_lexer": "ipython3",
   "version": "3.9.13"
  }
 },
 "nbformat": 4,
 "nbformat_minor": 1
}
