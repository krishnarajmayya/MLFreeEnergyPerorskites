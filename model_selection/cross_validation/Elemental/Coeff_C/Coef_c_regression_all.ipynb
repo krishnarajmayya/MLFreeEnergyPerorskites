{
 "cells": [
  {
   "cell_type": "code",
   "execution_count": 1,
   "metadata": {
    "id": "U1Or_5CpWR5m"
   },
   "outputs": [],
   "source": [
    "import numpy as np\n",
    "import pandas as pd\n",
    "import matplotlib.pyplot as plt\n",
    "from math import sqrt\n",
    "import seaborn as sns \n",
    "import re\n",
    " \n",
    "import warnings # supress warnings\n",
    "warnings.filterwarnings('ignore')"
   ]
  },
  {
   "cell_type": "code",
   "execution_count": 2,
   "metadata": {
    "id": "wd0p9t1imwDC"
   },
   "outputs": [],
   "source": [
    "import sklearn\n",
    "\n",
    "from sklearn.preprocessing import MinMaxScaler, PolynomialFeatures, scale, StandardScaler\n",
    "\n",
    "from sklearn.model_selection import train_test_split, cross_val_score, KFold, GridSearchCV\n",
    "\n",
    "from sklearn.linear_model import LinearRegression, Ridge, Lasso, ElasticNet \n",
    "\n",
    "from sklearn.ensemble import RandomForestRegressor\n",
    "from sklearn.ensemble import GradientBoostingRegressor\n",
    "\n",
    "from sklearn.feature_selection import RFE, SelectKBest, f_regression\n",
    "from sklearn.inspection import permutation_importance\n",
    "\n",
    "from sklearn.gaussian_process import GaussianProcessRegressor\n",
    "from sklearn.gaussian_process.kernels import DotProduct, WhiteKernel, RBF, Matern, RationalQuadratic\n",
    "from sklearn.gaussian_process.kernels import Kernel, Hyperparameter, ConstantKernel\n",
    "from sklearn.gaussian_process.kernels import GenericKernelMixin\n",
    "\n",
    "from sklearn import metrics\n",
    "from sklearn.metrics import mean_squared_error\n",
    "from sklearn.metrics import r2_score  \n",
    "\n",
    "from sklearn.pipeline import make_pipeline\n",
    "\n",
    "from sklearn.base import clone"
   ]
  },
  {
   "cell_type": "code",
   "execution_count": 3,
   "metadata": {},
   "outputs": [],
   "source": [
    "def run_models():\n",
    "    rf = RandomForestRegressor(n_estimators= 100, random_state= 10)\n",
    "    gb = GradientBoostingRegressor(loss='quantile', alpha=0.5,\n",
    "                                n_estimators=100, max_depth=10,\n",
    "                                learning_rate=0.25, min_samples_leaf=9,\n",
    "                                min_samples_split=2)\n",
    "    lr = LinearRegression()\n",
    "    rr = Ridge(alpha=0.01)\n",
    "    lasso = Lasso(alpha=0.01)\n",
    "    gpr1 = GaussianProcessRegressor(kernel=DotProduct() + WhiteKernel(),random_state=0)\n",
    "    gpr2 = GaussianProcessRegressor(kernel=1.0 * RBF(length_scale=100.0, length_scale_bounds=(1e-2, 1e3))+ \n",
    "                                WhiteKernel(noise_level=1, noise_level_bounds=(1e-10, 1e+1)),alpha=0.0)\n",
    "    gpr3 = GaussianProcessRegressor(kernel=ConstantKernel(1.0, (1e-2, 1e3)) * RBF(10, (1e-3, 1e4)),\n",
    "                                n_restarts_optimizer=9)\n",
    "    gpr4 = GaussianProcessRegressor(kernel=1.0 * RBF(length_scale=1.0, length_scale_bounds=(1e-1, 10.0)))\n",
    "    gpr5 = GaussianProcessRegressor(kernel=1.0 * RationalQuadratic(length_scale=1.0, alpha=0.01))\n",
    "    gpr6 = GaussianProcessRegressor(kernel=1.0 * Matern(length_scale=1.0, length_scale_bounds=(1e-2, 10.0),nu=0.35))\n",
    "    models = [rf,gb,lr,rr,lasso,gpr1,gpr2,gpr3,gpr4,gpr5,gpr6]\n",
    "    models_names = [\"RF\",\"GB\",\"LR\",\"RR\",\"LASSO\",\"gpr1\",\"gpr2\",\"gpr3\",\"gpr4\",\"gpr5\",\"gpr6\"]\n",
    "    r2scores=[]\n",
    "    rmse=[]\n",
    "    count=0\n",
    "    for model in models :\n",
    "        predicted_y = []\n",
    "        expected_y = []\n",
    "        kf = KFold(n_splits= 10) \n",
    "        # partition data\n",
    "        for train_index, test_index in kf.split(X, Y):\n",
    "            # specific \".loc\" syntax for working with dataframes\n",
    "            x_train, x_test = X.loc[train_index], X.loc[test_index]\n",
    "            y_train, y_test = Y[train_index], Y[test_index]\n",
    "\n",
    "            # create and fit classifier\n",
    "            model.fit(x_train, y_train)\n",
    "\n",
    "            # store result from classification\n",
    "            predicted_y.extend(model.predict(x_test))\n",
    "\n",
    "            # store expected result for this specific fold\n",
    "            expected_y.extend(y_test)\n",
    "        \n",
    "        r2 = metrics.r2_score(expected_y, predicted_y)\n",
    "        r2scores.append(r2)\n",
    "        \n",
    "        err=np.sqrt(metrics.mean_squared_error(expected_y, predicted_y))\n",
    "        rmse.append(err)\n",
    "        \n",
    "        print(models_names[count])\n",
    "        print(\"R2: \",r2.__str__())\n",
    "        print(\"RMSE: \",err)\n",
    "        print(\"---------------------------------------\")\n",
    "        count+=1\n",
    "    \n",
    "    plt.rcdefaults()\n",
    "    fig, ax = plt.subplots()\n",
    "\n",
    "    x_pos = np.arange(len(models_names))\n",
    "    ax.bar(x_pos, r2scores, align='center')\n",
    "    ax.set_xticks(x_pos)\n",
    "    ax.set_xticklabels(models_names)\n",
    "    ax.set_ylabel('R2 Score')\n",
    "    #plt.savefig('imp.eps', format='eps')\n",
    "    #plt.show()\n",
    "    print(r2scores)"
   ]
  },
  {
   "cell_type": "markdown",
   "metadata": {},
   "source": [
    "# Standard Scaling"
   ]
  },
  {
   "cell_type": "code",
   "execution_count": 4,
   "metadata": {
    "id": "hjdsOVHoYDJB"
   },
   "outputs": [],
   "source": [
    "data_std = pd.read_csv('scaled_standard_Coeff_C.csv', encoding='cp1252')   "
   ]
  },
  {
   "cell_type": "code",
   "execution_count": 5,
   "metadata": {},
   "outputs": [
    {
     "data": {
      "text/plain": [
       "array(['Name', 'density', 'mean_A2B', 'mean_A2X', 'mean_B2X', 'mean_X2X',\n",
       "       'std_A2B', 'std_A2X', 'std_B2X', 'std_X2X', 'E_coh', 'TF', 'OF',\n",
       "       'A_Z', 'B_Z', 'X_Z', 'A_G', 'B_G', 'X_G', 'A_IEI', 'B_IEI',\n",
       "       'X_IEI', 'A_IEII', 'B_IEII', 'X_IEII', 'A_EA', 'B_EA', 'X_EA',\n",
       "       'A_ChiP', 'B_ChiP', 'X_ChiP', 'A_ChiA', 'B_ChiA', 'A_Rvdw',\n",
       "       'B_Rvdw', 'X_Rvdw', 'B_Rc', 'B_Ra', 'A_MP', 'B_MP', 'A_Rho',\n",
       "       'B_Rho', 'X_Rho', 'B_MV', 'X_MV', 'B_Hf', 'A_Kappa', 'B_Kappa',\n",
       "       'X_Kappa', 'A_CvM', 'B_CvM', 'A_B', 'B_B', 'B_MendeleevNo',\n",
       "       'Coeff_C'], dtype=object)"
      ]
     },
     "execution_count": 5,
     "metadata": {},
     "output_type": "execute_result"
    }
   ],
   "source": [
    "data_std.columns.values"
   ]
  },
  {
   "cell_type": "code",
   "execution_count": 6,
   "metadata": {},
   "outputs": [],
   "source": [
    "data_std.drop(['density', 'mean_A2B', 'mean_A2X', 'mean_B2X', 'mean_X2X',\n",
    "           'std_A2B', 'std_A2X', 'std_B2X', 'std_X2X', 'E_coh', 'TF', 'OF'\n",
    "          ], axis=1, inplace = True)"
   ]
  },
  {
   "cell_type": "code",
   "execution_count": 7,
   "metadata": {},
   "outputs": [],
   "source": [
    "data_std.fillna(0, inplace= True)"
   ]
  },
  {
   "cell_type": "code",
   "execution_count": 8,
   "metadata": {},
   "outputs": [],
   "source": [
    "Y = data_std['Coeff_C'] \n",
    "X = data_std.drop(['Coeff_C','Name'], axis=1)"
   ]
  },
  {
   "cell_type": "markdown",
   "metadata": {
    "id": "ZaJDp0jdzwnZ"
   },
   "source": [
    "### Using CV technique"
   ]
  },
  {
   "cell_type": "code",
   "execution_count": 9,
   "metadata": {},
   "outputs": [
    {
     "name": "stdout",
     "output_type": "stream",
     "text": [
      "RF\n",
      "R2:  0.9093073814263013\n",
      "RMSE:  0.3011521518662929\n",
      "---------------------------------------\n",
      "GB\n",
      "R2:  0.8595118183215977\n",
      "RMSE:  0.3748175311780418\n",
      "---------------------------------------\n",
      "LR\n",
      "R2:  -6.495434796411277e+21\n",
      "RMSE:  80594260319.27632\n",
      "---------------------------------------\n",
      "RR\n",
      "R2:  0.7058109296061279\n",
      "RMSE:  0.5423919896107169\n",
      "---------------------------------------\n",
      "LASSO\n",
      "R2:  0.9342631793642734\n",
      "RMSE:  0.25639192778971537\n",
      "---------------------------------------\n",
      "gpr1\n",
      "R2:  0.873115089867607\n",
      "RMSE:  0.356209082046476\n",
      "---------------------------------------\n",
      "gpr2\n",
      "R2:  0.9248060108977364\n",
      "RMSE:  0.27421522405268384\n",
      "---------------------------------------\n",
      "gpr3\n",
      "R2:  0.9087292058532292\n",
      "RMSE:  0.30211056609587605\n",
      "---------------------------------------\n",
      "gpr4\n",
      "R2:  0.9087292062431476\n",
      "RMSE:  0.3021105654505522\n",
      "---------------------------------------\n",
      "gpr5\n",
      "R2:  0.9239847884318624\n",
      "RMSE:  0.27570856273996575\n",
      "---------------------------------------\n",
      "gpr6\n",
      "R2:  0.8895290124465202\n",
      "RMSE:  0.3323717610650458\n",
      "---------------------------------------\n",
      "[0.9093073814263013, 0.8595118183215977, -6.495434796411277e+21, 0.7058109296061279, 0.9342631793642734, 0.873115089867607, 0.9248060108977364, 0.9087292058532292, 0.9087292062431476, 0.9239847884318624, 0.8895290124465202]\n"
     ]
    },
    {
     "data": {
      "image/png": "[encoded data removed]",
      "text/plain": [
       "<Figure size 640x480 with 1 Axes>"
      ]
     },
     "metadata": {},
     "output_type": "display_data"
    }
   ],
   "source": [
    "run_models()"
   ]
  },
  {
   "cell_type": "markdown",
   "metadata": {
    "id": "_x7bQR-jz4WE"
   },
   "source": [
    "## Feature selection\n"
   ]
  },
  {
   "cell_type": "code",
   "execution_count": 10,
   "metadata": {
    "colab": {
     "base_uri": "https://localhost:8080/"
    },
    "id": "RpTITR9vz7Th",
    "outputId": "b1c134f4-85a3-49a7-fa3a-34f5d4896d01"
   },
   "outputs": [
    {
     "name": "stdout",
     "output_type": "stream",
     "text": [
      "    Feature       Score\n",
      "11   X_IEII  203.126963\n",
      "2       X_Z  192.050449\n",
      "22   X_Rvdw   70.210147\n",
      "20   A_Rvdw   48.519931\n",
      "14     X_EA   41.399538\n",
      "35  X_Kappa   36.035444\n",
      "6     A_IEI   29.198819\n",
      "18   A_ChiA   25.074064\n",
      "8     X_IEI   22.200166\n",
      "34  B_Kappa   19.185480\n",
      "31     X_MV   17.753147\n",
      "13     B_EA   14.125248\n",
      "0       A_Z   13.564614\n",
      "15   A_ChiP   12.686824\n",
      "17   X_ChiP   12.304828\n",
      "25     A_MP   10.884241\n",
      "26     B_MP    9.520593\n",
      "33  A_Kappa    8.983803\n",
      "1       B_Z    8.916444\n",
      "36    A_CvM    8.776297\n",
      "32     B_Hf    8.513339\n",
      "16   B_ChiP    7.290453\n",
      "38      A_B    5.706843\n",
      "28    B_Rho    5.638959\n",
      "12     A_EA    5.616784\n",
      "7     B_IEI    5.026239\n",
      "30     B_MV    4.629268\n",
      "24     B_Ra    3.358732\n",
      "3       A_G    3.234213\n",
      "29    X_Rho    2.459135\n"
     ]
    }
   ],
   "source": [
    "#apply SelectKBest class to extract top 10 best features\n",
    "bestfeatures = SelectKBest(score_func=f_regression, k=10)\n",
    "fit = bestfeatures.fit(X,Y)\n",
    "dfscores = pd.DataFrame(fit.scores_)\n",
    "dfcolumns = pd.DataFrame(X.columns)\n",
    "#concat two dataframes for better visualization \n",
    "featureScores = pd.concat([dfcolumns,dfscores],axis=1)\n",
    "featureScores.columns = ['Feature','Score']  #naming the dataframe columns\n",
    "print(featureScores.nlargest(30,'Score'))  #print 10 best features"
   ]
  },
  {
   "cell_type": "code",
   "execution_count": 11,
   "metadata": {},
   "outputs": [
    {
     "data": {
      "text/plain": [
       "array(['X_IEII', 'X_Z', 'X_Rvdw', 'A_Rvdw', 'X_EA', 'X_Kappa', 'A_IEI',\n",
       "       'A_ChiA', 'X_IEI', 'B_Kappa', 'X_MV', 'B_EA', 'A_Z', 'A_ChiP',\n",
       "       'X_ChiP', 'A_MP', 'B_MP', 'A_Kappa', 'B_Z', 'A_CvM', 'B_Hf',\n",
       "       'B_ChiP', 'A_B', 'B_Rho', 'A_EA', 'B_IEI', 'B_MV', 'B_Ra', 'A_G',\n",
       "       'X_Rho', 'B_CvM', 'X_G', 'B_G', 'B_Rvdw', 'A_Rho', 'A_IEII',\n",
       "       'B_ChiA', 'B_MendeleevNo', 'B_IEII', 'B_B'], dtype=object)"
      ]
     },
     "execution_count": 11,
     "metadata": {},
     "output_type": "execute_result"
    }
   ],
   "source": [
    "featureScores.nlargest(40,'Score')['Feature'].values"
   ]
  },
  {
   "cell_type": "code",
   "execution_count": 12,
   "metadata": {},
   "outputs": [],
   "source": [
    "X=X[featureScores.nlargest(40,'Score')['Feature'].values]"
   ]
  },
  {
   "cell_type": "code",
   "execution_count": 13,
   "metadata": {},
   "outputs": [
    {
     "name": "stdout",
     "output_type": "stream",
     "text": [
      "RF\n",
      "R2:  0.9038149587492821\n",
      "RMSE:  0.3101371329762334\n",
      "---------------------------------------\n",
      "GB\n",
      "R2:  0.8599754900738503\n",
      "RMSE:  0.3741984900105152\n",
      "---------------------------------------\n",
      "LR\n",
      "R2:  -5.966160068431178e+22\n",
      "RMSE:  244257242849.2383\n",
      "---------------------------------------\n",
      "RR\n",
      "R2:  0.8143399623402998\n",
      "RMSE:  0.4308828583962237\n",
      "---------------------------------------\n",
      "LASSO\n",
      "R2:  0.9342554517904225\n",
      "RMSE:  0.2564069971930906\n",
      "---------------------------------------\n",
      "gpr1\n",
      "R2:  0.8915084127327533\n",
      "RMSE:  0.32938061155333165\n",
      "---------------------------------------\n",
      "gpr2\n",
      "R2:  0.9146257453364874\n",
      "RMSE:  0.2921887312397804\n",
      "---------------------------------------\n",
      "gpr3\n",
      "R2:  0.9087343069169789\n",
      "RMSE:  0.3021021235989927\n",
      "---------------------------------------\n",
      "gpr4\n",
      "R2:  0.9087343147289323\n",
      "RMSE:  0.3021021106696669\n",
      "---------------------------------------\n",
      "gpr5\n",
      "R2:  0.922182454693381\n",
      "RMSE:  0.27895796333250455\n",
      "---------------------------------------\n",
      "gpr6\n",
      "R2:  0.8911042472251204\n",
      "RMSE:  0.32999356474767755\n",
      "---------------------------------------\n",
      "[0.9038149587492821, 0.8599754900738503, -5.966160068431178e+22, 0.8143399623402998, 0.9342554517904225, 0.8915084127327533, 0.9146257453364874, 0.9087343069169789, 0.9087343147289323, 0.922182454693381, 0.8911042472251204]\n"
     ]
    },
    {
     "data": {
      "image/png": "[encoded data removed]",
      "text/plain": [
       "<Figure size 640x480 with 1 Axes>"
      ]
     },
     "metadata": {},
     "output_type": "display_data"
    }
   ],
   "source": [
    "run_models()"
   ]
  },
  {
   "cell_type": "code",
   "execution_count": 14,
   "metadata": {},
   "outputs": [
    {
     "data": {
      "text/plain": [
       "array(['X_IEII', 'X_Z', 'X_Rvdw', 'A_Rvdw', 'X_EA', 'X_Kappa', 'A_IEI',\n",
       "       'A_ChiA', 'X_IEI', 'B_Kappa', 'X_MV', 'B_EA', 'A_Z', 'A_ChiP',\n",
       "       'X_ChiP', 'A_MP', 'B_MP', 'A_Kappa', 'B_Z', 'A_CvM', 'B_Hf',\n",
       "       'B_ChiP', 'A_B', 'B_Rho', 'A_EA', 'B_IEI', 'B_MV', 'B_Ra', 'A_G',\n",
       "       'X_Rho'], dtype=object)"
      ]
     },
     "execution_count": 14,
     "metadata": {},
     "output_type": "execute_result"
    }
   ],
   "source": [
    "featureScores.nlargest(30,'Score')['Feature'].values"
   ]
  },
  {
   "cell_type": "code",
   "execution_count": 15,
   "metadata": {},
   "outputs": [],
   "source": [
    "X=X[featureScores.nlargest(30,'Score')['Feature'].values]"
   ]
  },
  {
   "cell_type": "code",
   "execution_count": 16,
   "metadata": {},
   "outputs": [
    {
     "name": "stdout",
     "output_type": "stream",
     "text": [
      "RF\n",
      "R2:  0.9103737874401708\n",
      "RMSE:  0.2993763727481331\n",
      "---------------------------------------\n",
      "GB\n",
      "R2:  0.8414994918016017\n",
      "RMSE:  0.39812122299420105\n",
      "---------------------------------------\n",
      "LR\n",
      "R2:  -5.811627971652187e+23\n",
      "RMSE:  762340342081.6838\n",
      "---------------------------------------\n",
      "RR\n",
      "R2:  0.919386299782773\n",
      "RMSE:  0.28392551878481614\n",
      "---------------------------------------\n",
      "LASSO\n",
      "R2:  0.9302043836039507\n",
      "RMSE:  0.2641886000493761\n",
      "---------------------------------------\n",
      "gpr1\n",
      "R2:  0.923127857155088\n",
      "RMSE:  0.2772582601923917\n",
      "---------------------------------------\n",
      "gpr2\n",
      "R2:  0.9308996261241775\n",
      "RMSE:  0.2628694997062657\n",
      "---------------------------------------\n",
      "gpr3\n",
      "R2:  0.653526629510941\n",
      "RMSE:  0.5886198862500817\n",
      "---------------------------------------\n",
      "gpr4\n",
      "R2:  0.922425594537361\n",
      "RMSE:  0.2785218222377541\n",
      "---------------------------------------\n",
      "gpr5\n",
      "R2:  0.9367922326991207\n",
      "RMSE:  0.25141154965689083\n",
      "---------------------------------------\n",
      "gpr6\n",
      "R2:  0.9070109579723362\n",
      "RMSE:  0.3049410468068604\n",
      "---------------------------------------\n",
      "[0.9103737874401708, 0.8414994918016017, -5.811627971652187e+23, 0.919386299782773, 0.9302043836039507, 0.923127857155088, 0.9308996261241775, 0.653526629510941, 0.922425594537361, 0.9367922326991207, 0.9070109579723362]\n"
     ]
    },
    {
     "data": {
      "image/png": "[encoded data removed]",
      "text/plain": [
       "<Figure size 640x480 with 1 Axes>"
      ]
     },
     "metadata": {},
     "output_type": "display_data"
    }
   ],
   "source": [
    "run_models()"
   ]
  },
  {
   "cell_type": "code",
   "execution_count": 17,
   "metadata": {},
   "outputs": [
    {
     "data": {
      "text/plain": [
       "array(['X_IEII', 'X_Z', 'X_Rvdw', 'A_Rvdw', 'X_EA', 'X_Kappa', 'A_IEI',\n",
       "       'A_ChiA', 'X_IEI', 'B_Kappa', 'X_MV', 'B_EA', 'A_Z', 'A_ChiP',\n",
       "       'X_ChiP', 'A_MP', 'B_MP', 'A_Kappa', 'B_Z', 'A_CvM'], dtype=object)"
      ]
     },
     "execution_count": 17,
     "metadata": {},
     "output_type": "execute_result"
    }
   ],
   "source": [
    "featureScores.nlargest(20,'Score')['Feature'].values"
   ]
  },
  {
   "cell_type": "code",
   "execution_count": 18,
   "metadata": {},
   "outputs": [],
   "source": [
    "X=X[featureScores.nlargest(20,'Score')['Feature'].values]"
   ]
  },
  {
   "cell_type": "code",
   "execution_count": 19,
   "metadata": {},
   "outputs": [
    {
     "name": "stdout",
     "output_type": "stream",
     "text": [
      "RF\n",
      "R2:  0.9022632877521738\n",
      "RMSE:  0.31262871308922696\n",
      "---------------------------------------\n",
      "GB\n",
      "R2:  0.8677039241366169\n",
      "RMSE:  0.3637252752605779\n",
      "---------------------------------------\n",
      "LR\n",
      "R2:  0.9157751890115507\n",
      "RMSE:  0.2902151115783761\n",
      "---------------------------------------\n",
      "RR\n",
      "R2:  0.9162884748366843\n",
      "RMSE:  0.28932944054021825\n",
      "---------------------------------------\n",
      "LASSO\n",
      "R2:  0.9229194512219178\n",
      "RMSE:  0.27763383939657327\n",
      "---------------------------------------\n",
      "gpr1\n",
      "R2:  0.9222789889082667\n",
      "RMSE:  0.27878488318367145\n",
      "---------------------------------------\n",
      "gpr2\n",
      "R2:  0.9400651182541113\n",
      "RMSE:  0.24481601611391493\n",
      "---------------------------------------\n",
      "gpr3\n",
      "R2:  0.8219071072995916\n",
      "RMSE:  0.4220105362433602\n",
      "---------------------------------------\n",
      "gpr4\n",
      "R2:  0.9316847895302997\n",
      "RMSE:  0.26137178590984206\n",
      "---------------------------------------\n",
      "gpr5\n",
      "R2:  0.9418841750680372\n",
      "RMSE:  0.24107224006916017\n",
      "---------------------------------------\n",
      "gpr6\n",
      "R2:  0.917970133142663\n",
      "RMSE:  0.28640856631277123\n",
      "---------------------------------------\n",
      "[0.9022632877521738, 0.8677039241366169, 0.9157751890115507, 0.9162884748366843, 0.9229194512219178, 0.9222789889082667, 0.9400651182541113, 0.8219071072995916, 0.9316847895302997, 0.9418841750680372, 0.917970133142663]\n"
     ]
    },
    {
     "data": {
      "image/png": "[encoded data removed]",
      "text/plain": [
       "<Figure size 640x480 with 1 Axes>"
      ]
     },
     "metadata": {},
     "output_type": "display_data"
    }
   ],
   "source": [
    "run_models()"
   ]
  },
  {
   "cell_type": "code",
   "execution_count": 20,
   "metadata": {},
   "outputs": [
    {
     "data": {
      "text/plain": [
       "array(['X_IEII', 'X_Z', 'X_Rvdw', 'A_Rvdw', 'X_EA', 'X_Kappa', 'A_IEI',\n",
       "       'A_ChiA', 'X_IEI', 'B_Kappa'], dtype=object)"
      ]
     },
     "execution_count": 20,
     "metadata": {},
     "output_type": "execute_result"
    }
   ],
   "source": [
    "featureScores.nlargest(10,'Score')['Feature'].values"
   ]
  },
  {
   "cell_type": "code",
   "execution_count": 21,
   "metadata": {},
   "outputs": [],
   "source": [
    "X=X[featureScores.nlargest(10,'Score')['Feature'].values]"
   ]
  },
  {
   "cell_type": "code",
   "execution_count": 22,
   "metadata": {},
   "outputs": [
    {
     "name": "stdout",
     "output_type": "stream",
     "text": [
      "RF\n",
      "R2:  0.8843211404878589\n",
      "RMSE:  0.34011595009958157\n",
      "---------------------------------------\n",
      "GB\n",
      "R2:  0.7708965346512604\n",
      "RMSE:  0.4786475377025768\n",
      "---------------------------------------\n",
      "LR\n",
      "R2:  0.800242827391463\n",
      "RMSE:  0.4469420237665474\n",
      "---------------------------------------\n",
      "RR\n",
      "R2:  0.8002819372243342\n",
      "RMSE:  0.4468982689333959\n",
      "---------------------------------------\n",
      "LASSO\n",
      "R2:  0.8044469813414866\n",
      "RMSE:  0.44221377031760706\n",
      "---------------------------------------\n",
      "gpr1\n",
      "R2:  0.8137792355227598\n",
      "RMSE:  0.43153303984427455\n",
      "---------------------------------------\n",
      "gpr2\n",
      "R2:  0.8240788972724047\n",
      "RMSE:  0.41942949673049384\n",
      "---------------------------------------\n",
      "gpr3\n",
      "R2:  0.02409571171465963\n",
      "RMSE:  0.9878786809549746\n",
      "---------------------------------------\n",
      "gpr4\n",
      "R2:  0.009280233975823449\n",
      "RMSE:  0.9953490674251805\n",
      "---------------------------------------\n",
      "gpr5\n",
      "R2:  0.7602199710175481\n",
      "RMSE:  0.48967339011064487\n",
      "---------------------------------------\n",
      "gpr6\n",
      "R2:  0.8484329838903928\n",
      "RMSE:  0.38931608765835407\n",
      "---------------------------------------\n",
      "[0.8843211404878589, 0.7708965346512604, 0.800242827391463, 0.8002819372243342, 0.8044469813414866, 0.8137792355227598, 0.8240788972724047, 0.02409571171465963, 0.009280233975823449, 0.7602199710175481, 0.8484329838903928]\n"
     ]
    },
    {
     "data": {
      "image/png": "[encoded data removed]",
      "text/plain": [
       "<Figure size 640x480 with 1 Axes>"
      ]
     },
     "metadata": {},
     "output_type": "display_data"
    }
   ],
   "source": [
    "run_models()"
   ]
  },
  {
   "cell_type": "markdown",
   "metadata": {},
   "source": [
    "# Min-Max scaling"
   ]
  },
  {
   "cell_type": "code",
   "execution_count": 23,
   "metadata": {},
   "outputs": [],
   "source": [
    "data_mm = pd.read_csv('scaled_minmax_Coeff_C.csv', encoding='cp1252')"
   ]
  },
  {
   "cell_type": "code",
   "execution_count": 24,
   "metadata": {},
   "outputs": [],
   "source": [
    "data_mm.drop(['density', 'mean_A2B', 'mean_A2X', 'mean_B2X', 'mean_X2X',\n",
    "           'std_A2B', 'std_A2X', 'std_B2X', 'std_X2X', 'E_coh', 'TF', 'OF'\n",
    "          ], axis=1, inplace = True)"
   ]
  },
  {
   "cell_type": "code",
   "execution_count": 25,
   "metadata": {},
   "outputs": [],
   "source": [
    "data_mm.fillna(0, inplace= True)"
   ]
  },
  {
   "cell_type": "code",
   "execution_count": 26,
   "metadata": {},
   "outputs": [],
   "source": [
    "Y = data_mm['Coeff_C'] \n",
    "X = data_mm.drop(['Coeff_C','Name'], axis=1)"
   ]
  },
  {
   "cell_type": "markdown",
   "metadata": {
    "id": "ZaJDp0jdzwnZ"
   },
   "source": [
    "### Using CV technique"
   ]
  },
  {
   "cell_type": "code",
   "execution_count": 27,
   "metadata": {},
   "outputs": [
    {
     "name": "stdout",
     "output_type": "stream",
     "text": [
      "RF\n",
      "R2:  0.9048075501617704\n",
      "RMSE:  0.07505350260595632\n",
      "---------------------------------------\n",
      "GB\n",
      "R2:  0.9089920912266412\n",
      "RMSE:  0.07338533487708532\n",
      "---------------------------------------\n",
      "LR\n",
      "R2:  -3.227624647904592e+23\n",
      "RMSE:  138201012404.2213\n",
      "---------------------------------------\n",
      "RR\n",
      "R2:  0.9551196811622037\n",
      "RMSE:  0.051534454061450706\n",
      "---------------------------------------\n",
      "LASSO\n",
      "R2:  0.8048310373294782\n",
      "RMSE:  0.10746699116515038\n",
      "---------------------------------------\n",
      "gpr1\n",
      "R2:  0.8876876198801348\n",
      "RMSE:  0.08152363357750227\n",
      "---------------------------------------\n",
      "gpr2\n",
      "R2:  0.9349002525635371\n",
      "RMSE:  0.06206680140057754\n",
      "---------------------------------------\n",
      "gpr3\n",
      "R2:  0.9103385682128466\n",
      "RMSE:  0.07284043785361977\n",
      "---------------------------------------\n",
      "gpr4\n",
      "R2:  0.9103385689791991\n",
      "RMSE:  0.07284043754232956\n",
      "---------------------------------------\n",
      "gpr5\n",
      "R2:  0.9336156566449705\n",
      "RMSE:  0.06267618369415064\n",
      "---------------------------------------\n",
      "gpr6\n",
      "R2:  0.9055228301173928\n",
      "RMSE:  0.0747709933669495\n",
      "---------------------------------------\n",
      "[0.9048075501617704, 0.9089920912266412, -3.227624647904592e+23, 0.9551196811622037, 0.8048310373294782, 0.8876876198801348, 0.9349002525635371, 0.9103385682128466, 0.9103385689791991, 0.9336156566449705, 0.9055228301173928]\n"
     ]
    },
    {
     "data": {
      "image/png": "[encoded data removed]",
      "text/plain": [
       "<Figure size 640x480 with 1 Axes>"
      ]
     },
     "metadata": {},
     "output_type": "display_data"
    }
   ],
   "source": [
    "run_models()"
   ]
  },
  {
   "cell_type": "markdown",
   "metadata": {
    "id": "_x7bQR-jz4WE"
   },
   "source": [
    "## Feature selection\n"
   ]
  },
  {
   "cell_type": "code",
   "execution_count": 28,
   "metadata": {
    "colab": {
     "base_uri": "https://localhost:8080/"
    },
    "id": "RpTITR9vz7Th",
    "outputId": "b1c134f4-85a3-49a7-fa3a-34f5d4896d01"
   },
   "outputs": [
    {
     "name": "stdout",
     "output_type": "stream",
     "text": [
      "    Feature       Score\n",
      "2       X_Z  192.050449\n",
      "11   X_IEII   70.574654\n",
      "22   X_Rvdw   70.210147\n",
      "20   A_Rvdw   48.519931\n",
      "14     X_EA   41.399538\n",
      "35  X_Kappa   36.035444\n",
      "6     A_IEI   29.198819\n",
      "29    X_Rho   26.477661\n",
      "18   A_ChiA   23.955108\n",
      "8     X_IEI   22.200166\n",
      "34  B_Kappa   19.185480\n",
      "31     X_MV   17.753147\n",
      "13     B_EA   14.125248\n",
      "0       A_Z   13.564614\n",
      "15   A_ChiP   12.686824\n",
      "17   X_ChiP   12.304828\n",
      "25     A_MP   10.884241\n",
      "26     B_MP    9.520593\n",
      "33  A_Kappa    8.983803\n",
      "1       B_Z    8.916444\n",
      "36    A_CvM    8.776297\n",
      "32     B_Hf    8.513339\n",
      "16   B_ChiP    7.290453\n",
      "38      A_B    5.706843\n",
      "12     A_EA    5.616784\n",
      "19   B_ChiA    5.284866\n",
      "7     B_IEI    5.026239\n",
      "30     B_MV    4.629268\n",
      "28    B_Rho    4.540251\n",
      "24     B_Ra    3.358732\n"
     ]
    }
   ],
   "source": [
    "#apply SelectKBest class to extract top 10 best features\n",
    "bestfeatures = SelectKBest(score_func=f_regression, k=10)\n",
    "fit = bestfeatures.fit(X,Y)\n",
    "dfscores = pd.DataFrame(fit.scores_)\n",
    "dfcolumns = pd.DataFrame(X.columns)\n",
    "#concat two dataframes for better visualization \n",
    "featureScores = pd.concat([dfcolumns,dfscores],axis=1)\n",
    "featureScores.columns = ['Feature','Score']  #naming the dataframe columns\n",
    "print(featureScores.nlargest(30,'Score'))  #print 10 best features"
   ]
  },
  {
   "cell_type": "code",
   "execution_count": 29,
   "metadata": {},
   "outputs": [
    {
     "data": {
      "text/plain": [
       "array(['X_Z', 'X_IEII', 'X_Rvdw', 'A_Rvdw', 'X_EA', 'X_Kappa', 'A_IEI',\n",
       "       'X_Rho', 'A_ChiA', 'X_IEI', 'B_Kappa', 'X_MV', 'B_EA', 'A_Z',\n",
       "       'A_ChiP', 'X_ChiP', 'A_MP', 'B_MP', 'A_Kappa', 'B_Z', 'A_CvM',\n",
       "       'B_Hf', 'B_ChiP', 'A_B', 'A_EA', 'B_ChiA', 'B_IEI', 'B_MV',\n",
       "       'B_Rho', 'B_Ra', 'A_G', 'B_CvM', 'X_G', 'B_G', 'B_Rvdw', 'A_Rho',\n",
       "       'A_IEII', 'B_MendeleevNo', 'B_B', 'B_Rc'], dtype=object)"
      ]
     },
     "execution_count": 29,
     "metadata": {},
     "output_type": "execute_result"
    }
   ],
   "source": [
    "featureScores.nlargest(40,'Score')['Feature'].values"
   ]
  },
  {
   "cell_type": "code",
   "execution_count": 30,
   "metadata": {},
   "outputs": [],
   "source": [
    "X=X[featureScores.nlargest(40,'Score')['Feature'].values]"
   ]
  },
  {
   "cell_type": "code",
   "execution_count": 31,
   "metadata": {},
   "outputs": [
    {
     "name": "stdout",
     "output_type": "stream",
     "text": [
      "RF\n",
      "R2:  0.9053423814528458\n",
      "RMSE:  0.07484236452240256\n",
      "---------------------------------------\n",
      "GB\n",
      "R2:  0.8959076073541232\n",
      "RMSE:  0.07848365291370979\n",
      "---------------------------------------\n",
      "LR\n",
      "R2:  -1.2576147104422342e+23\n",
      "RMSE:  86266765971.68535\n",
      "---------------------------------------\n",
      "RR\n",
      "R2:  0.9441200379209559\n",
      "RMSE:  0.05750396144131474\n",
      "---------------------------------------\n",
      "LASSO\n",
      "R2:  0.8048293077815627\n",
      "RMSE:  0.10746746733947708\n",
      "---------------------------------------\n",
      "gpr1\n",
      "R2:  0.927239020925581\n",
      "RMSE:  0.06561739425071267\n",
      "---------------------------------------\n",
      "gpr2\n",
      "R2:  0.9357237762982823\n",
      "RMSE:  0.0616729737326793\n",
      "---------------------------------------\n",
      "gpr3\n",
      "R2:  0.9204204218608456\n",
      "RMSE:  0.06862313097495948\n",
      "---------------------------------------\n",
      "gpr4\n",
      "R2:  0.9204204233217097\n",
      "RMSE:  0.06862313034509267\n",
      "---------------------------------------\n",
      "gpr5\n",
      "R2:  0.9359146267863877\n",
      "RMSE:  0.06158134523746691\n",
      "---------------------------------------\n",
      "gpr6\n",
      "R2:  0.9080147720450574\n",
      "RMSE:  0.07377831925400127\n",
      "---------------------------------------\n",
      "[0.9053423814528458, 0.8959076073541232, -1.2576147104422342e+23, 0.9441200379209559, 0.8048293077815627, 0.927239020925581, 0.9357237762982823, 0.9204204218608456, 0.9204204233217097, 0.9359146267863877, 0.9080147720450574]\n"
     ]
    },
    {
     "data": {
      "image/png": "[encoded data removed]",
      "text/plain": [
       "<Figure size 640x480 with 1 Axes>"
      ]
     },
     "metadata": {},
     "output_type": "display_data"
    }
   ],
   "source": [
    "run_models()"
   ]
  },
  {
   "cell_type": "code",
   "execution_count": 32,
   "metadata": {},
   "outputs": [
    {
     "data": {
      "text/plain": [
       "array(['X_Z', 'X_IEII', 'X_Rvdw', 'A_Rvdw', 'X_EA', 'X_Kappa', 'A_IEI',\n",
       "       'X_Rho', 'A_ChiA', 'X_IEI', 'B_Kappa', 'X_MV', 'B_EA', 'A_Z',\n",
       "       'A_ChiP', 'X_ChiP', 'A_MP', 'B_MP', 'A_Kappa', 'B_Z', 'A_CvM',\n",
       "       'B_Hf', 'B_ChiP', 'A_B', 'A_EA', 'B_ChiA', 'B_IEI', 'B_MV',\n",
       "       'B_Rho', 'B_Ra'], dtype=object)"
      ]
     },
     "execution_count": 32,
     "metadata": {},
     "output_type": "execute_result"
    }
   ],
   "source": [
    "featureScores.nlargest(30,'Score')['Feature'].values"
   ]
  },
  {
   "cell_type": "code",
   "execution_count": 33,
   "metadata": {},
   "outputs": [],
   "source": [
    "X=X[featureScores.nlargest(30,'Score')['Feature'].values]"
   ]
  },
  {
   "cell_type": "code",
   "execution_count": 34,
   "metadata": {},
   "outputs": [
    {
     "name": "stdout",
     "output_type": "stream",
     "text": [
      "RF\n",
      "R2:  0.9076019718560223\n",
      "RMSE:  0.07394368065174467\n",
      "---------------------------------------\n",
      "GB\n",
      "R2:  0.8930545256373783\n",
      "RMSE:  0.07955196626023943\n",
      "---------------------------------------\n",
      "LR\n",
      "R2:  -9.631325028738165e+23\n",
      "RMSE:  238733152222.61832\n",
      "---------------------------------------\n",
      "RR\n",
      "R2:  0.9126487029050057\n",
      "RMSE:  0.07189594426284972\n",
      "---------------------------------------\n",
      "LASSO\n",
      "R2:  0.8055991669557685\n",
      "RMSE:  0.10725530289053323\n",
      "---------------------------------------\n",
      "gpr1\n",
      "R2:  0.8832278234270968\n",
      "RMSE:  0.08312648188842423\n",
      "---------------------------------------\n",
      "gpr2\n",
      "R2:  0.9465802911065089\n",
      "RMSE:  0.05622383578722075\n",
      "---------------------------------------\n",
      "gpr3\n",
      "R2:  0.25061087670827253\n",
      "RMSE:  0.21058304709961778\n",
      "---------------------------------------\n",
      "gpr4\n",
      "R2:  0.9373359446531491\n",
      "RMSE:  0.0608946251488115\n",
      "---------------------------------------\n",
      "gpr5\n",
      "R2:  0.9430460466309374\n",
      "RMSE:  0.05805393342101944\n",
      "---------------------------------------\n",
      "gpr6\n",
      "R2:  0.9201922336757319\n",
      "RMSE:  0.06872144626460877\n",
      "---------------------------------------\n",
      "[0.9076019718560223, 0.8930545256373783, -9.631325028738165e+23, 0.9126487029050057, 0.8055991669557685, 0.8832278234270968, 0.9465802911065089, 0.25061087670827253, 0.9373359446531491, 0.9430460466309374, 0.9201922336757319]\n"
     ]
    },
    {
     "data": {
      "image/png": "[encoded data removed]",
      "text/plain": [
       "<Figure size 640x480 with 1 Axes>"
      ]
     },
     "metadata": {},
     "output_type": "display_data"
    }
   ],
   "source": [
    "run_models()"
   ]
  },
  {
   "cell_type": "code",
   "execution_count": 35,
   "metadata": {},
   "outputs": [
    {
     "data": {
      "text/plain": [
       "array(['X_Z', 'X_IEII', 'X_Rvdw', 'A_Rvdw', 'X_EA', 'X_Kappa', 'A_IEI',\n",
       "       'X_Rho', 'A_ChiA', 'X_IEI', 'B_Kappa', 'X_MV', 'B_EA', 'A_Z',\n",
       "       'A_ChiP', 'X_ChiP', 'A_MP', 'B_MP', 'A_Kappa', 'B_Z'], dtype=object)"
      ]
     },
     "execution_count": 35,
     "metadata": {},
     "output_type": "execute_result"
    }
   ],
   "source": [
    "featureScores.nlargest(20,'Score')['Feature'].values"
   ]
  },
  {
   "cell_type": "code",
   "execution_count": 36,
   "metadata": {},
   "outputs": [],
   "source": [
    "X=X[featureScores.nlargest(20,'Score')['Feature'].values]"
   ]
  },
  {
   "cell_type": "code",
   "execution_count": 37,
   "metadata": {},
   "outputs": [
    {
     "name": "stdout",
     "output_type": "stream",
     "text": [
      "RF\n",
      "R2:  0.9026431623488868\n",
      "RMSE:  0.07590195151695939\n",
      "---------------------------------------\n",
      "GB\n",
      "R2:  0.888249722233896\n",
      "RMSE:  0.08131937245281257\n",
      "---------------------------------------\n",
      "LR\n",
      "R2:  -3.542852287863458e+24\n",
      "RMSE:  457874266229.9826\n",
      "---------------------------------------\n",
      "RR\n",
      "R2:  0.9255755837919883\n",
      "RMSE:  0.06636321709613836\n",
      "---------------------------------------\n",
      "LASSO\n",
      "R2:  0.805599188594203\n",
      "RMSE:  0.10725529692132807\n",
      "---------------------------------------\n",
      "gpr1\n",
      "R2:  0.9241902068009727\n",
      "RMSE:  0.06697802987243225\n",
      "---------------------------------------\n",
      "gpr2\n",
      "R2:  0.9321815440966361\n",
      "RMSE:  0.06334956857791184\n",
      "---------------------------------------\n",
      "gpr3\n",
      "R2:  0.22011766705299518\n",
      "RMSE:  0.21482471976721887\n",
      "---------------------------------------\n",
      "gpr4\n",
      "R2:  0.8969154318822026\n",
      "RMSE:  0.07810278867658654\n",
      "---------------------------------------\n",
      "gpr5\n",
      "R2:  0.9378394497487899\n",
      "RMSE:  0.060649487866415774\n",
      "---------------------------------------\n",
      "gpr6\n",
      "R2:  0.927544258673669\n",
      "RMSE:  0.06547961466214161\n",
      "---------------------------------------\n",
      "[0.9026431623488868, 0.888249722233896, -3.542852287863458e+24, 0.9255755837919883, 0.805599188594203, 0.9241902068009727, 0.9321815440966361, 0.22011766705299518, 0.8969154318822026, 0.9378394497487899, 0.927544258673669]\n"
     ]
    },
    {
     "data": {
      "image/png": "[encoded data removed]",
      "text/plain": [
       "<Figure size 640x480 with 1 Axes>"
      ]
     },
     "metadata": {},
     "output_type": "display_data"
    }
   ],
   "source": [
    "run_models()"
   ]
  },
  {
   "cell_type": "code",
   "execution_count": 38,
   "metadata": {},
   "outputs": [
    {
     "data": {
      "text/plain": [
       "array(['X_Z', 'X_IEII', 'X_Rvdw', 'A_Rvdw', 'X_EA', 'X_Kappa', 'A_IEI',\n",
       "       'X_Rho', 'A_ChiA', 'X_IEI'], dtype=object)"
      ]
     },
     "execution_count": 38,
     "metadata": {},
     "output_type": "execute_result"
    }
   ],
   "source": [
    "featureScores.nlargest(10,'Score')['Feature'].values"
   ]
  },
  {
   "cell_type": "code",
   "execution_count": 39,
   "metadata": {},
   "outputs": [],
   "source": [
    "X=X[featureScores.nlargest(10,'Score')['Feature'].values]"
   ]
  },
  {
   "cell_type": "code",
   "execution_count": 40,
   "metadata": {},
   "outputs": [
    {
     "name": "stdout",
     "output_type": "stream",
     "text": [
      "RF\n",
      "R2:  0.7215961399407471\n",
      "RMSE:  0.1283533886922916\n",
      "---------------------------------------\n",
      "GB\n",
      "R2:  0.6630271110078805\n",
      "RMSE:  0.1412105659149206\n",
      "---------------------------------------\n",
      "LR\n",
      "R2:  0.819367415531656\n",
      "RMSE:  0.10338743499173318\n",
      "---------------------------------------\n",
      "RR\n",
      "R2:  0.8184594514150664\n",
      "RMSE:  0.10364695188074081\n",
      "---------------------------------------\n",
      "LASSO\n",
      "R2:  0.7414637633993283\n",
      "RMSE:  0.12368881369321362\n",
      "---------------------------------------\n",
      "gpr1\n",
      "R2:  0.8192834230948096\n",
      "RMSE:  0.10341146928598204\n",
      "---------------------------------------\n",
      "gpr2\n",
      "R2:  0.8097160425552766\n",
      "RMSE:  0.10611353935450123\n",
      "---------------------------------------\n",
      "gpr3\n",
      "R2:  -5.316481266081417\n",
      "RMSE:  0.6113744977634642\n",
      "---------------------------------------\n",
      "gpr4\n",
      "R2:  -1.1165845923156712\n",
      "RMSE:  0.35390567604043066\n",
      "---------------------------------------\n",
      "gpr5\n",
      "R2:  -0.4002710588625158\n",
      "RMSE:  0.28785632016749957\n",
      "---------------------------------------\n",
      "gpr6\n",
      "R2:  -2.2994983038436496\n",
      "RMSE:  0.44186913587293714\n",
      "---------------------------------------\n",
      "[0.7215961399407471, 0.6630271110078805, 0.819367415531656, 0.8184594514150664, 0.7414637633993283, 0.8192834230948096, 0.8097160425552766, -5.316481266081417, -1.1165845923156712, -0.4002710588625158, -2.2994983038436496]\n"
     ]
    },
    {
     "data": {
      "image/png": "[encoded data removed]",
      "text/plain": [
       "<Figure size 640x480 with 1 Axes>"
      ]
     },
     "metadata": {},
     "output_type": "display_data"
    }
   ],
   "source": [
    "run_models()"
   ]
  }
 ],
 "metadata": {
  "colab": {
   "collapsed_sections": [],
   "name": "Final_total.ipynb",
   "provenance": []
  },
  "kernelspec": {
   "display_name": "Python 3 (ipykernel)",
   "language": "python",
   "name": "python3"
  },
  "language_info": {
   "codemirror_mode": {
    "name": "ipython",
    "version": 3
   },
   "file_extension": ".py",
   "mimetype": "text/x-python",
   "name": "python",
   "nbconvert_exporter": "python",
   "pygments_lexer": "ipython3",
   "version": "3.9.13"
  }
 },
 "nbformat": 4,
 "nbformat_minor": 1
}
