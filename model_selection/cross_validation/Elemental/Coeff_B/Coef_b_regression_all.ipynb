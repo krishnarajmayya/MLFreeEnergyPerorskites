{
 "cells": [
  {
   "cell_type": "code",
   "execution_count": 1,
   "metadata": {
    "id": "U1Or_5CpWR5m"
   },
   "outputs": [],
   "source": [
    "import numpy as np\n",
    "import pandas as pd\n",
    "import matplotlib.pyplot as plt\n",
    "from math import sqrt\n",
    "import seaborn as sns \n",
    "import re\n",
    " \n",
    "import warnings # supress warnings\n",
    "warnings.filterwarnings('ignore')"
   ]
  },
  {
   "cell_type": "code",
   "execution_count": 2,
   "metadata": {
    "id": "wd0p9t1imwDC"
   },
   "outputs": [],
   "source": [
    "import sklearn\n",
    "\n",
    "from sklearn.preprocessing import MinMaxScaler, PolynomialFeatures, scale, StandardScaler\n",
    "\n",
    "from sklearn.model_selection import train_test_split, cross_val_score, KFold, GridSearchCV\n",
    "\n",
    "from sklearn.linear_model import LinearRegression, Ridge, Lasso, ElasticNet \n",
    "\n",
    "from sklearn.ensemble import RandomForestRegressor\n",
    "from sklearn.ensemble import GradientBoostingRegressor\n",
    "\n",
    "from sklearn.feature_selection import RFE, SelectKBest, f_regression\n",
    "from sklearn.inspection import permutation_importance\n",
    "\n",
    "from sklearn.gaussian_process import GaussianProcessRegressor\n",
    "from sklearn.gaussian_process.kernels import DotProduct, WhiteKernel, RBF, Matern, RationalQuadratic\n",
    "from sklearn.gaussian_process.kernels import Kernel, Hyperparameter, ConstantKernel\n",
    "from sklearn.gaussian_process.kernels import GenericKernelMixin\n",
    "\n",
    "from sklearn import metrics\n",
    "from sklearn.metrics import mean_squared_error\n",
    "from sklearn.metrics import r2_score  \n",
    "\n",
    "from sklearn.pipeline import make_pipeline\n",
    "\n",
    "from sklearn.base import clone"
   ]
  },
  {
   "cell_type": "code",
   "execution_count": 3,
   "metadata": {},
   "outputs": [],
   "source": [
    "def run_models():\n",
    "    rf = RandomForestRegressor(n_estimators= 100, random_state= 10)\n",
    "    gb = GradientBoostingRegressor(loss='quantile', alpha=0.5,\n",
    "                                n_estimators=100, max_depth=10,\n",
    "                                learning_rate=0.25, min_samples_leaf=9,\n",
    "                                min_samples_split=2)\n",
    "    lr = LinearRegression()\n",
    "    rr = Ridge(alpha=0.01)\n",
    "    lasso = Lasso(alpha=0.01)\n",
    "    gpr1 = GaussianProcessRegressor(kernel=DotProduct() + WhiteKernel(),random_state=0)\n",
    "    gpr2 = GaussianProcessRegressor(kernel=1.0 * RBF(length_scale=100.0, length_scale_bounds=(1e-2, 1e3))+ \n",
    "                                WhiteKernel(noise_level=1, noise_level_bounds=(1e-10, 1e+1)),alpha=0.0)\n",
    "    gpr3 = GaussianProcessRegressor(kernel=ConstantKernel(1.0, (1e-2, 1e3)) * RBF(10, (1e-3, 1e4)),\n",
    "                                n_restarts_optimizer=9)\n",
    "    gpr4 = GaussianProcessRegressor(kernel=1.0 * RBF(length_scale=1.0, length_scale_bounds=(1e-1, 10.0)))\n",
    "    gpr5 = GaussianProcessRegressor(kernel=1.0 * RationalQuadratic(length_scale=1.0, alpha=0.01))\n",
    "    gpr6 = GaussianProcessRegressor(kernel=1.0 * Matern(length_scale=1.0, length_scale_bounds=(1e-2, 10.0),nu=0.35))\n",
    "    models = [rf,gb,lr,rr,lasso,gpr1,gpr2,gpr3,gpr4,gpr5,gpr6]\n",
    "    models_names = [\"RF\",\"GB\",\"LR\",\"RR\",\"LASSO\",\"gpr1\",\"gpr2\",\"gpr3\",\"gpr4\",\"gpr5\",\"gpr6\"]\n",
    "    r2scores=[]\n",
    "    rmse=[]\n",
    "    count=0\n",
    "    for model in models :\n",
    "        predicted_y = []\n",
    "        expected_y = []\n",
    "        kf = KFold(n_splits= 10) \n",
    "        # partition data\n",
    "        for train_index, test_index in kf.split(X, Y):\n",
    "            # specific \".loc\" syntax for working with dataframes\n",
    "            x_train, x_test = X.loc[train_index], X.loc[test_index]\n",
    "            y_train, y_test = Y[train_index], Y[test_index]\n",
    "\n",
    "            # create and fit classifier\n",
    "            model.fit(x_train, y_train)\n",
    "\n",
    "            # store result from classification\n",
    "            predicted_y.extend(model.predict(x_test))\n",
    "\n",
    "            # store expected result for this specific fold\n",
    "            expected_y.extend(y_test)\n",
    "        \n",
    "        r2 = metrics.r2_score(expected_y, predicted_y)\n",
    "        r2scores.append(r2)\n",
    "        \n",
    "        err=np.sqrt(metrics.mean_squared_error(expected_y, predicted_y))\n",
    "        rmse.append(err)\n",
    "        \n",
    "        print(models_names[count])\n",
    "        print(\"R2: \",r2.__str__())\n",
    "        print(\"RMSE: \",err)\n",
    "        print(\"---------------------------------------\")\n",
    "        count+=1\n",
    "    \n",
    "    plt.rcdefaults()\n",
    "    fig, ax = plt.subplots()\n",
    "\n",
    "    x_pos = np.arange(len(models_names))\n",
    "    ax.bar(x_pos, r2scores, align='center')\n",
    "    ax.set_xticks(x_pos)\n",
    "    ax.set_xticklabels(models_names)\n",
    "    ax.set_ylabel('R2 Score')\n",
    "    #plt.savefig('imp.eps', format='eps')\n",
    "    #plt.show()\n",
    "    print(r2scores)"
   ]
  },
  {
   "cell_type": "markdown",
   "metadata": {},
   "source": [
    "# Standard Scaling"
   ]
  },
  {
   "cell_type": "code",
   "execution_count": 4,
   "metadata": {
    "id": "hjdsOVHoYDJB"
   },
   "outputs": [],
   "source": [
    "data_std = pd.read_csv('scaled_standard_Coeff_B.csv', encoding='cp1252')   "
   ]
  },
  {
   "cell_type": "code",
   "execution_count": 5,
   "metadata": {},
   "outputs": [
    {
     "data": {
      "text/plain": [
       "array(['Name', 'density', 'mean_A2B', 'mean_A2X', 'mean_B2X', 'mean_X2X',\n",
       "       'std_A2B', 'std_A2X', 'std_B2X', 'std_X2X', 'E_coh', 'TF', 'OF',\n",
       "       'A_Z', 'B_Z', 'X_Z', 'A_G', 'B_G', 'X_G', 'A_IEI', 'B_IEI',\n",
       "       'X_IEI', 'A_IEII', 'B_IEII', 'X_IEII', 'A_EA', 'B_EA', 'X_EA',\n",
       "       'A_ChiP', 'B_ChiP', 'X_ChiP', 'A_ChiA', 'B_ChiA', 'A_Rvdw',\n",
       "       'B_Rvdw', 'X_Rvdw', 'B_Rc', 'B_Ra', 'A_MP', 'B_MP', 'A_Rho',\n",
       "       'B_Rho', 'X_Rho', 'B_MV', 'X_MV', 'B_Hf', 'A_Kappa', 'B_Kappa',\n",
       "       'X_Kappa', 'A_CvM', 'B_CvM', 'A_B', 'B_B', 'B_MendeleevNo',\n",
       "       'Coeff_B'], dtype=object)"
      ]
     },
     "execution_count": 5,
     "metadata": {},
     "output_type": "execute_result"
    }
   ],
   "source": [
    "data_std.columns.values"
   ]
  },
  {
   "cell_type": "code",
   "execution_count": 6,
   "metadata": {},
   "outputs": [],
   "source": [
    "data_std.drop(['density', 'mean_A2B', 'mean_A2X', 'mean_B2X', 'mean_X2X',\n",
    "           'std_A2B', 'std_A2X', 'std_B2X', 'std_X2X', 'E_coh', 'TF', 'OF'\n",
    "          ], axis=1, inplace = True)"
   ]
  },
  {
   "cell_type": "code",
   "execution_count": 7,
   "metadata": {},
   "outputs": [],
   "source": [
    "data_std.fillna(0, inplace= True)"
   ]
  },
  {
   "cell_type": "code",
   "execution_count": 8,
   "metadata": {},
   "outputs": [],
   "source": [
    "Y = data_std['Coeff_B'] \n",
    "X = data_std.drop(['Coeff_B','Name'], axis=1)"
   ]
  },
  {
   "cell_type": "markdown",
   "metadata": {
    "id": "ZaJDp0jdzwnZ"
   },
   "source": [
    "### Using CV technique"
   ]
  },
  {
   "cell_type": "code",
   "execution_count": 9,
   "metadata": {},
   "outputs": [
    {
     "name": "stdout",
     "output_type": "stream",
     "text": [
      "RF\n",
      "R2:  0.913585090041637\n",
      "RMSE:  0.293964130394106\n",
      "---------------------------------------\n",
      "GB\n",
      "R2:  0.9032923740376834\n",
      "RMSE:  0.31097849758836477\n",
      "---------------------------------------\n",
      "LR\n",
      "R2:  -2.1334339472331592e+24\n",
      "RMSE:  1460627929088.4312\n",
      "---------------------------------------\n",
      "RR\n",
      "R2:  0.32314700617947634\n",
      "RMSE:  0.8227107595142558\n",
      "---------------------------------------\n",
      "LASSO\n",
      "R2:  0.9179374953183495\n",
      "RMSE:  0.2864655383840272\n",
      "---------------------------------------\n",
      "gpr1\n",
      "R2:  0.8783848879694313\n",
      "RMSE:  0.34873358316997344\n",
      "---------------------------------------\n",
      "gpr2\n",
      "R2:  0.925995961795524\n",
      "RMSE:  0.27203683244089577\n",
      "---------------------------------------\n",
      "gpr3\n",
      "R2:  0.8869332594446679\n",
      "RMSE:  0.3362539822148312\n",
      "---------------------------------------\n",
      "gpr4\n",
      "R2:  0.8869333046511664\n",
      "RMSE:  0.33625391499406154\n",
      "---------------------------------------\n",
      "gpr5\n",
      "R2:  0.9197072901026302\n",
      "RMSE:  0.28335968290737795\n",
      "---------------------------------------\n",
      "gpr6\n",
      "R2:  0.8730178879936044\n",
      "RMSE:  0.35634549528006604\n",
      "---------------------------------------\n",
      "[0.913585090041637, 0.9032923740376834, -2.1334339472331592e+24, 0.32314700617947634, 0.9179374953183495, 0.8783848879694313, 0.925995961795524, 0.8869332594446679, 0.8869333046511664, 0.9197072901026302, 0.8730178879936044]\n"
     ]
    },
    {
     "data": {
      "image/png": "[encoded data removed]",
      "text/plain": [
       "<Figure size 640x480 with 1 Axes>"
      ]
     },
     "metadata": {},
     "output_type": "display_data"
    }
   ],
   "source": [
    "run_models()"
   ]
  },
  {
   "cell_type": "markdown",
   "metadata": {
    "id": "_x7bQR-jz4WE"
   },
   "source": [
    "## Feature selection\n"
   ]
  },
  {
   "cell_type": "code",
   "execution_count": 10,
   "metadata": {
    "colab": {
     "base_uri": "https://localhost:8080/"
    },
    "id": "RpTITR9vz7Th",
    "outputId": "b1c134f4-85a3-49a7-fa3a-34f5d4896d01"
   },
   "outputs": [
    {
     "name": "stdout",
     "output_type": "stream",
     "text": [
      "    Feature       Score\n",
      "14     X_EA  117.183506\n",
      "2       X_Z   99.651797\n",
      "22   X_Rvdw   87.228516\n",
      "11   X_IEII   71.960813\n",
      "20   A_Rvdw   51.441835\n",
      "6     A_IEI   35.525431\n",
      "18   A_ChiA   32.735412\n",
      "32     B_Hf   19.545691\n",
      "5       X_G   17.821495\n",
      "15   A_ChiP   15.809368\n",
      "26     B_MP   15.701586\n",
      "24     B_Ra   14.704776\n",
      "25     A_MP   12.747613\n",
      "12     A_EA   11.971525\n",
      "1       B_Z   11.111687\n",
      "0       A_Z   11.021670\n",
      "35  X_Kappa    8.465232\n",
      "36    A_CvM    8.222969\n",
      "33  A_Kappa    7.662938\n",
      "30     B_MV    7.438268\n",
      "31     X_MV    7.201300\n",
      "34  B_Kappa    6.859575\n",
      "38      A_B    4.970973\n",
      "37    B_CvM    4.905911\n",
      "28    B_Rho    4.575892\n",
      "3       A_G    4.430506\n",
      "13     B_EA    3.575124\n",
      "21   B_Rvdw    3.474726\n",
      "8     X_IEI    2.907641\n",
      "23     B_Rc    2.869415\n"
     ]
    }
   ],
   "source": [
    "#apply SelectKBest class to extract top 10 best features\n",
    "bestfeatures = SelectKBest(score_func=f_regression, k=10)\n",
    "fit = bestfeatures.fit(X,Y)\n",
    "dfscores = pd.DataFrame(fit.scores_)\n",
    "dfcolumns = pd.DataFrame(X.columns)\n",
    "#concat two dataframes for better visualization \n",
    "featureScores = pd.concat([dfcolumns,dfscores],axis=1)\n",
    "featureScores.columns = ['Feature','Score']  #naming the dataframe columns\n",
    "print(featureScores.nlargest(30,'Score'))  #print 10 best features"
   ]
  },
  {
   "cell_type": "code",
   "execution_count": 11,
   "metadata": {},
   "outputs": [
    {
     "data": {
      "text/plain": [
       "array(['X_EA', 'X_Z', 'X_Rvdw', 'X_IEII', 'A_Rvdw', 'A_IEI', 'A_ChiA',\n",
       "       'B_Hf', 'X_G', 'A_ChiP', 'B_MP', 'B_Ra', 'A_MP', 'A_EA', 'B_Z',\n",
       "       'A_Z', 'X_Kappa', 'A_CvM', 'A_Kappa', 'B_MV', 'X_MV', 'B_Kappa',\n",
       "       'A_B', 'B_CvM', 'B_Rho', 'A_G', 'B_EA', 'B_Rvdw', 'X_IEI', 'B_Rc',\n",
       "       'B_ChiP', 'B_IEII', 'B_G', 'A_Rho', 'B_IEI', 'X_Rho',\n",
       "       'B_MendeleevNo', 'B_ChiA', 'B_B', 'X_ChiP'], dtype=object)"
      ]
     },
     "execution_count": 11,
     "metadata": {},
     "output_type": "execute_result"
    }
   ],
   "source": [
    "featureScores.nlargest(40,'Score')['Feature'].values"
   ]
  },
  {
   "cell_type": "code",
   "execution_count": 12,
   "metadata": {},
   "outputs": [],
   "source": [
    "X=X[featureScores.nlargest(40,'Score')['Feature'].values]"
   ]
  },
  {
   "cell_type": "code",
   "execution_count": 13,
   "metadata": {},
   "outputs": [
    {
     "name": "stdout",
     "output_type": "stream",
     "text": [
      "RF\n",
      "R2:  0.9143932595829243\n",
      "RMSE:  0.2925862956754395\n",
      "---------------------------------------\n",
      "GB\n",
      "R2:  0.889744399733473\n",
      "RMSE:  0.3320475873523659\n",
      "---------------------------------------\n",
      "LR\n",
      "R2:  -1.3005805000591255e+23\n",
      "RMSE:  360635619435.8962\n",
      "---------------------------------------\n",
      "RR\n",
      "R2:  0.2333364962686083\n",
      "RMSE:  0.8755932296057295\n",
      "---------------------------------------\n",
      "LASSO\n",
      "R2:  0.9180342541673691\n",
      "RMSE:  0.28629660464740225\n",
      "---------------------------------------\n",
      "gpr1\n",
      "R2:  0.6846667905604383\n",
      "RMSE:  0.5615453761180494\n",
      "---------------------------------------\n",
      "gpr2\n",
      "R2:  0.9243906131819042\n",
      "RMSE:  0.27497161093119377\n",
      "---------------------------------------\n",
      "gpr3\n",
      "R2:  0.8818978751784234\n",
      "RMSE:  0.3436598970225891\n",
      "---------------------------------------\n",
      "gpr4\n",
      "R2:  0.8818979391483714\n",
      "RMSE:  0.3436598039509837\n",
      "---------------------------------------\n",
      "gpr5\n",
      "R2:  0.9176420941772678\n",
      "RMSE:  0.28698067151418427\n",
      "---------------------------------------\n",
      "gpr6\n",
      "R2:  0.8771231268226845\n",
      "RMSE:  0.35053797679754406\n",
      "---------------------------------------\n",
      "[0.9143932595829243, 0.889744399733473, -1.3005805000591255e+23, 0.2333364962686083, 0.9180342541673691, 0.6846667905604383, 0.9243906131819042, 0.8818978751784234, 0.8818979391483714, 0.9176420941772678, 0.8771231268226845]\n"
     ]
    },
    {
     "data": {
      "image/png": "[encoded data removed]",
      "text/plain": [
       "<Figure size 640x480 with 1 Axes>"
      ]
     },
     "metadata": {},
     "output_type": "display_data"
    }
   ],
   "source": [
    "run_models()"
   ]
  },
  {
   "cell_type": "code",
   "execution_count": 14,
   "metadata": {},
   "outputs": [
    {
     "data": {
      "text/plain": [
       "array(['X_EA', 'X_Z', 'X_Rvdw', 'X_IEII', 'A_Rvdw', 'A_IEI', 'A_ChiA',\n",
       "       'B_Hf', 'X_G', 'A_ChiP', 'B_MP', 'B_Ra', 'A_MP', 'A_EA', 'B_Z',\n",
       "       'A_Z', 'X_Kappa', 'A_CvM', 'A_Kappa', 'B_MV', 'X_MV', 'B_Kappa',\n",
       "       'A_B', 'B_CvM', 'B_Rho', 'A_G', 'B_EA', 'B_Rvdw', 'X_IEI', 'B_Rc'],\n",
       "      dtype=object)"
      ]
     },
     "execution_count": 14,
     "metadata": {},
     "output_type": "execute_result"
    }
   ],
   "source": [
    "featureScores.nlargest(30,'Score')['Feature'].values"
   ]
  },
  {
   "cell_type": "code",
   "execution_count": 15,
   "metadata": {},
   "outputs": [],
   "source": [
    "X=X[featureScores.nlargest(30,'Score')['Feature'].values]"
   ]
  },
  {
   "cell_type": "code",
   "execution_count": 16,
   "metadata": {},
   "outputs": [
    {
     "name": "stdout",
     "output_type": "stream",
     "text": [
      "RF\n",
      "R2:  0.918822585580537\n",
      "RMSE:  0.28491650429461435\n",
      "---------------------------------------\n",
      "GB\n",
      "R2:  0.9162476264863512\n",
      "RMSE:  0.28940002334769915\n",
      "---------------------------------------\n",
      "LR\n",
      "R2:  -3.282924273423875e+20\n",
      "RMSE:  18118841777.066975\n",
      "---------------------------------------\n",
      "RR\n",
      "R2:  0.8833795699243824\n",
      "RMSE:  0.3414973353858235\n",
      "---------------------------------------\n",
      "LASSO\n",
      "R2:  0.917965486173445\n",
      "RMSE:  0.28641667868082504\n",
      "---------------------------------------\n",
      "gpr1\n",
      "R2:  0.9134447361768774\n",
      "RMSE:  0.29420275971364146\n",
      "---------------------------------------\n",
      "gpr2\n",
      "R2:  0.9352514483154313\n",
      "RMSE:  0.25445736712575007\n",
      "---------------------------------------\n",
      "gpr3\n",
      "R2:  0.8933391239825316\n",
      "RMSE:  0.32658976716588717\n",
      "---------------------------------------\n",
      "gpr4\n",
      "R2:  0.8933391286558228\n",
      "RMSE:  0.3265897600112062\n",
      "---------------------------------------\n",
      "gpr5\n",
      "R2:  0.9310794278621001\n",
      "RMSE:  0.2625272788452657\n",
      "---------------------------------------\n",
      "gpr6\n",
      "R2:  0.8998832208495033\n",
      "RMSE:  0.3164123561912471\n",
      "---------------------------------------\n",
      "[0.918822585580537, 0.9162476264863512, -3.282924273423875e+20, 0.8833795699243824, 0.917965486173445, 0.9134447361768774, 0.9352514483154313, 0.8933391239825316, 0.8933391286558228, 0.9310794278621001, 0.8998832208495033]\n"
     ]
    },
    {
     "data": {
      "image/png": "[encoded data removed]",
      "text/plain": [
       "<Figure size 640x480 with 1 Axes>"
      ]
     },
     "metadata": {},
     "output_type": "display_data"
    }
   ],
   "source": [
    "run_models()"
   ]
  },
  {
   "cell_type": "code",
   "execution_count": 17,
   "metadata": {},
   "outputs": [
    {
     "data": {
      "text/plain": [
       "array(['X_EA', 'X_Z', 'X_Rvdw', 'X_IEII', 'A_Rvdw', 'A_IEI', 'A_ChiA',\n",
       "       'B_Hf', 'X_G', 'A_ChiP', 'B_MP', 'B_Ra', 'A_MP', 'A_EA', 'B_Z',\n",
       "       'A_Z', 'X_Kappa', 'A_CvM', 'A_Kappa', 'B_MV'], dtype=object)"
      ]
     },
     "execution_count": 17,
     "metadata": {},
     "output_type": "execute_result"
    }
   ],
   "source": [
    "featureScores.nlargest(20,'Score')['Feature'].values"
   ]
  },
  {
   "cell_type": "code",
   "execution_count": 18,
   "metadata": {},
   "outputs": [],
   "source": [
    "X=X[featureScores.nlargest(20,'Score')['Feature'].values]"
   ]
  },
  {
   "cell_type": "code",
   "execution_count": 19,
   "metadata": {},
   "outputs": [
    {
     "name": "stdout",
     "output_type": "stream",
     "text": [
      "RF\n",
      "R2:  0.913713244689431\n",
      "RMSE:  0.2937460728428024\n",
      "---------------------------------------\n",
      "GB\n",
      "R2:  0.9153202392216404\n",
      "RMSE:  0.29099787074540534\n",
      "---------------------------------------\n",
      "LR\n",
      "R2:  0.8799562949632198\n",
      "RMSE:  0.3464732385578721\n",
      "---------------------------------------\n",
      "RR\n",
      "R2:  0.8803951351536365\n",
      "RMSE:  0.34583936277752336\n",
      "---------------------------------------\n",
      "LASSO\n",
      "R2:  0.9056238147677516\n",
      "RMSE:  0.3072070722367056\n",
      "---------------------------------------\n",
      "gpr1\n",
      "R2:  0.9044714531233407\n",
      "RMSE:  0.30907692711792534\n",
      "---------------------------------------\n",
      "gpr2\n",
      "R2:  0.9146910011864934\n",
      "RMSE:  0.29207704259922\n",
      "---------------------------------------\n",
      "gpr3\n",
      "R2:  0.7969188924647734\n",
      "RMSE:  0.4506452124845294\n",
      "---------------------------------------\n",
      "gpr4\n",
      "R2:  0.8837894604977165\n",
      "RMSE:  0.3408966698316127\n",
      "---------------------------------------\n",
      "gpr5\n",
      "R2:  0.925454898687233\n",
      "RMSE:  0.27302948799125537\n",
      "---------------------------------------\n",
      "gpr6\n",
      "R2:  0.9136043225354172\n",
      "RMSE:  0.29393141625995467\n",
      "---------------------------------------\n",
      "[0.913713244689431, 0.9153202392216404, 0.8799562949632198, 0.8803951351536365, 0.9056238147677516, 0.9044714531233407, 0.9146910011864934, 0.7969188924647734, 0.8837894604977165, 0.925454898687233, 0.9136043225354172]\n"
     ]
    },
    {
     "data": {
      "image/png": "[encoded data removed]",
      "text/plain": [
       "<Figure size 640x480 with 1 Axes>"
      ]
     },
     "metadata": {},
     "output_type": "display_data"
    }
   ],
   "source": [
    "run_models()"
   ]
  },
  {
   "cell_type": "code",
   "execution_count": 20,
   "metadata": {},
   "outputs": [
    {
     "data": {
      "text/plain": [
       "array(['X_EA', 'X_Z', 'X_Rvdw', 'X_IEII', 'A_Rvdw', 'A_IEI', 'A_ChiA',\n",
       "       'B_Hf', 'X_G', 'A_ChiP'], dtype=object)"
      ]
     },
     "execution_count": 20,
     "metadata": {},
     "output_type": "execute_result"
    }
   ],
   "source": [
    "featureScores.nlargest(10,'Score')['Feature'].values"
   ]
  },
  {
   "cell_type": "code",
   "execution_count": 21,
   "metadata": {},
   "outputs": [],
   "source": [
    "X=X[featureScores.nlargest(10,'Score')['Feature'].values]"
   ]
  },
  {
   "cell_type": "code",
   "execution_count": 22,
   "metadata": {},
   "outputs": [
    {
     "name": "stdout",
     "output_type": "stream",
     "text": [
      "RF\n",
      "R2:  0.9168166868101244\n",
      "RMSE:  0.28841517503397013\n",
      "---------------------------------------\n",
      "GB\n",
      "R2:  0.8724705486555726\n",
      "RMSE:  0.3571126591769429\n",
      "---------------------------------------\n",
      "LR\n",
      "R2:  0.8980023718869586\n",
      "RMSE:  0.31937067509876566\n",
      "---------------------------------------\n",
      "RR\n",
      "R2:  0.8980428068814663\n",
      "RMSE:  0.3193073646481298\n",
      "---------------------------------------\n",
      "LASSO\n",
      "R2:  0.9006250061658067\n",
      "RMSE:  0.3152379955433566\n",
      "---------------------------------------\n",
      "gpr1\n",
      "R2:  0.9062834839763142\n",
      "RMSE:  0.3061315338603422\n",
      "---------------------------------------\n",
      "gpr2\n",
      "R2:  0.9033814780829911\n",
      "RMSE:  0.31083520057581787\n",
      "---------------------------------------\n",
      "gpr3\n",
      "R2:  0.22772582861700985\n",
      "RMSE:  0.8787913127603106\n",
      "---------------------------------------\n",
      "gpr4\n",
      "R2:  0.227725657327026\n",
      "RMSE:  0.8787914102180187\n",
      "---------------------------------------\n",
      "gpr5\n",
      "R2:  0.8687288104682097\n",
      "RMSE:  0.3623136618067145\n",
      "---------------------------------------\n",
      "gpr6\n",
      "R2:  0.9075957815576167\n",
      "RMSE:  0.30398062182050906\n",
      "---------------------------------------\n",
      "[0.9168166868101244, 0.8724705486555726, 0.8980023718869586, 0.8980428068814663, 0.9006250061658067, 0.9062834839763142, 0.9033814780829911, 0.22772582861700985, 0.227725657327026, 0.8687288104682097, 0.9075957815576167]\n"
     ]
    },
    {
     "data": {
      "image/png": "[encoded data removed]",
      "text/plain": [
       "<Figure size 640x480 with 1 Axes>"
      ]
     },
     "metadata": {},
     "output_type": "display_data"
    }
   ],
   "source": [
    "run_models()"
   ]
  },
  {
   "cell_type": "markdown",
   "metadata": {},
   "source": [
    "# Min-Max scaling"
   ]
  },
  {
   "cell_type": "code",
   "execution_count": 23,
   "metadata": {},
   "outputs": [],
   "source": [
    "data_mm = pd.read_csv('scaled_minmax_Coeff_B.csv', encoding='cp1252')"
   ]
  },
  {
   "cell_type": "code",
   "execution_count": 24,
   "metadata": {},
   "outputs": [],
   "source": [
    "data_mm.drop(['density', 'mean_A2B', 'mean_A2X', 'mean_B2X', 'mean_X2X',\n",
    "           'std_A2B', 'std_A2X', 'std_B2X', 'std_X2X', 'E_coh', 'TF', 'OF'\n",
    "          ], axis=1, inplace = True)"
   ]
  },
  {
   "cell_type": "code",
   "execution_count": 25,
   "metadata": {},
   "outputs": [],
   "source": [
    "data_mm.fillna(0, inplace= True)"
   ]
  },
  {
   "cell_type": "code",
   "execution_count": 26,
   "metadata": {},
   "outputs": [],
   "source": [
    "Y = data_mm['Coeff_B'] \n",
    "X = data_mm.drop(['Coeff_B','Name'], axis=1)"
   ]
  },
  {
   "cell_type": "markdown",
   "metadata": {
    "id": "ZaJDp0jdzwnZ"
   },
   "source": [
    "### Using CV technique"
   ]
  },
  {
   "cell_type": "code",
   "execution_count": 27,
   "metadata": {},
   "outputs": [
    {
     "name": "stdout",
     "output_type": "stream",
     "text": [
      "RF\n",
      "R2:  0.9128997334194577\n",
      "RMSE:  0.07973413248689058\n",
      "---------------------------------------\n",
      "GB\n",
      "R2:  0.9018304352449279\n",
      "RMSE:  0.08464922066686734\n",
      "---------------------------------------\n",
      "LR\n",
      "R2:  -8.622484643627052e+23\n",
      "RMSE:  250871164716.43918\n",
      "---------------------------------------\n",
      "RR\n",
      "R2:  0.8770568891550191\n",
      "RMSE:  0.09472980215867824\n",
      "---------------------------------------\n",
      "LASSO\n",
      "R2:  0.8297273826771018\n",
      "RMSE:  0.11148256109202896\n",
      "---------------------------------------\n",
      "gpr1\n",
      "R2:  0.7832578396259131\n",
      "RMSE:  0.12577844761346432\n",
      "---------------------------------------\n",
      "gpr2\n",
      "R2:  0.9261387492557452\n",
      "RMSE:  0.07342481485881779\n",
      "---------------------------------------\n",
      "gpr3\n",
      "R2:  0.22996460846059574\n",
      "RMSE:  0.2370772464366353\n",
      "---------------------------------------\n",
      "gpr4\n",
      "R2:  0.8501010348793168\n",
      "RMSE:  0.10460052121887224\n",
      "---------------------------------------\n",
      "gpr5\n",
      "R2:  0.9209779138059891\n",
      "RMSE:  0.0759466770809758\n",
      "---------------------------------------\n",
      "gpr6\n",
      "R2:  0.8971053358372935\n",
      "RMSE:  0.08666244914050414\n",
      "---------------------------------------\n",
      "[0.9128997334194577, 0.9018304352449279, -8.622484643627052e+23, 0.8770568891550191, 0.8297273826771018, 0.7832578396259131, 0.9261387492557452, 0.22996460846059574, 0.8501010348793168, 0.9209779138059891, 0.8971053358372935]\n"
     ]
    },
    {
     "data": {
      "image/png": "[encoded data removed]",
      "text/plain": [
       "<Figure size 640x480 with 1 Axes>"
      ]
     },
     "metadata": {},
     "output_type": "display_data"
    }
   ],
   "source": [
    "run_models()"
   ]
  },
  {
   "cell_type": "markdown",
   "metadata": {
    "id": "_x7bQR-jz4WE"
   },
   "source": [
    "## Feature selection\n"
   ]
  },
  {
   "cell_type": "code",
   "execution_count": 28,
   "metadata": {
    "colab": {
     "base_uri": "https://localhost:8080/"
    },
    "id": "RpTITR9vz7Th",
    "outputId": "b1c134f4-85a3-49a7-fa3a-34f5d4896d01"
   },
   "outputs": [
    {
     "name": "stdout",
     "output_type": "stream",
     "text": [
      "    Feature       Score\n",
      "14     X_EA  117.183506\n",
      "2       X_Z   99.651797\n",
      "22   X_Rvdw   87.228516\n",
      "20   A_Rvdw   51.441835\n",
      "6     A_IEI   35.525431\n",
      "18   A_ChiA   31.410595\n",
      "32     B_Hf   19.545691\n",
      "5       X_G   17.821495\n",
      "11   X_IEII   15.947207\n",
      "15   A_ChiP   15.809368\n",
      "26     B_MP   15.701586\n",
      "24     B_Ra   14.704776\n",
      "25     A_MP   12.747613\n",
      "12     A_EA   11.971525\n",
      "1       B_Z   11.111687\n",
      "0       A_Z   11.021670\n",
      "29    X_Rho   10.709519\n",
      "35  X_Kappa    8.465232\n",
      "36    A_CvM    8.222969\n",
      "19   B_ChiA    7.956686\n",
      "33  A_Kappa    7.662938\n",
      "30     B_MV    7.438268\n",
      "31     X_MV    7.201300\n",
      "34  B_Kappa    6.859575\n",
      "38      A_B    4.970973\n",
      "37    B_CvM    4.619891\n",
      "3       A_G    4.430506\n",
      "28    B_Rho    4.070215\n",
      "13     B_EA    3.575124\n",
      "21   B_Rvdw    3.474726\n"
     ]
    }
   ],
   "source": [
    "#apply SelectKBest class to extract top 10 best features\n",
    "bestfeatures = SelectKBest(score_func=f_regression, k=10)\n",
    "fit = bestfeatures.fit(X,Y)\n",
    "dfscores = pd.DataFrame(fit.scores_)\n",
    "dfcolumns = pd.DataFrame(X.columns)\n",
    "#concat two dataframes for better visualization \n",
    "featureScores = pd.concat([dfcolumns,dfscores],axis=1)\n",
    "featureScores.columns = ['Feature','Score']  #naming the dataframe columns\n",
    "print(featureScores.nlargest(30,'Score'))  #print 10 best features"
   ]
  },
  {
   "cell_type": "code",
   "execution_count": 29,
   "metadata": {},
   "outputs": [
    {
     "data": {
      "text/plain": [
       "array(['X_EA', 'X_Z', 'X_Rvdw', 'A_Rvdw', 'A_IEI', 'A_ChiA', 'B_Hf',\n",
       "       'X_G', 'X_IEII', 'A_ChiP', 'B_MP', 'B_Ra', 'A_MP', 'A_EA', 'B_Z',\n",
       "       'A_Z', 'X_Rho', 'X_Kappa', 'A_CvM', 'B_ChiA', 'A_Kappa', 'B_MV',\n",
       "       'X_MV', 'B_Kappa', 'A_B', 'B_CvM', 'A_G', 'B_Rho', 'B_EA',\n",
       "       'B_Rvdw', 'X_IEI', 'B_Rc', 'B_ChiP', 'B_G', 'A_Rho', 'B_IEII',\n",
       "       'B_IEI', 'B_MendeleevNo', 'B_B', 'X_ChiP'], dtype=object)"
      ]
     },
     "execution_count": 29,
     "metadata": {},
     "output_type": "execute_result"
    }
   ],
   "source": [
    "featureScores.nlargest(40,'Score')['Feature'].values"
   ]
  },
  {
   "cell_type": "code",
   "execution_count": 30,
   "metadata": {},
   "outputs": [],
   "source": [
    "X=X[featureScores.nlargest(40,'Score')['Feature'].values]"
   ]
  },
  {
   "cell_type": "code",
   "execution_count": 31,
   "metadata": {},
   "outputs": [
    {
     "name": "stdout",
     "output_type": "stream",
     "text": [
      "RF\n",
      "R2:  0.9142425420354445\n",
      "RMSE:  0.07911712201791266\n",
      "---------------------------------------\n",
      "GB\n",
      "R2:  0.8978163284133458\n",
      "RMSE:  0.08636251537505632\n",
      "---------------------------------------\n",
      "LR\n",
      "R2:  -1.0061862839982429e+21\n",
      "RMSE:  8569860010.92329\n",
      "---------------------------------------\n",
      "RR\n",
      "R2:  0.7373945246865108\n",
      "RMSE:  0.13844791500754303\n",
      "---------------------------------------\n",
      "LASSO\n",
      "R2:  0.8297319978403244\n",
      "RMSE:  0.11148105023928456\n",
      "---------------------------------------\n",
      "gpr1\n",
      "R2:  0.5244280236966319\n",
      "RMSE:  0.18631278554935993\n",
      "---------------------------------------\n",
      "gpr2\n",
      "R2:  0.9228972759811517\n",
      "RMSE:  0.07501867551541978\n",
      "---------------------------------------\n",
      "gpr3\n",
      "R2:  0.8331513331487009\n",
      "RMSE:  0.11035598761831376\n",
      "---------------------------------------\n",
      "gpr4\n",
      "R2:  0.8331513381495024\n",
      "RMSE:  0.11035598596451456\n",
      "---------------------------------------\n",
      "gpr5\n",
      "R2:  0.9196404741238937\n",
      "RMSE:  0.07658667484004379\n",
      "---------------------------------------\n",
      "gpr6\n",
      "R2:  0.9004875773472638\n",
      "RMSE:  0.08522621101318874\n",
      "---------------------------------------\n",
      "[0.9142425420354445, 0.8978163284133458, -1.0061862839982429e+21, 0.7373945246865108, 0.8297319978403244, 0.5244280236966319, 0.9228972759811517, 0.8331513331487009, 0.8331513381495024, 0.9196404741238937, 0.9004875773472638]\n"
     ]
    },
    {
     "data": {
      "image/png": "[encoded data removed]",
      "text/plain": [
       "<Figure size 640x480 with 1 Axes>"
      ]
     },
     "metadata": {},
     "output_type": "display_data"
    }
   ],
   "source": [
    "run_models()"
   ]
  },
  {
   "cell_type": "code",
   "execution_count": 32,
   "metadata": {},
   "outputs": [
    {
     "data": {
      "text/plain": [
       "array(['X_EA', 'X_Z', 'X_Rvdw', 'A_Rvdw', 'A_IEI', 'A_ChiA', 'B_Hf',\n",
       "       'X_G', 'X_IEII', 'A_ChiP', 'B_MP', 'B_Ra', 'A_MP', 'A_EA', 'B_Z',\n",
       "       'A_Z', 'X_Rho', 'X_Kappa', 'A_CvM', 'B_ChiA', 'A_Kappa', 'B_MV',\n",
       "       'X_MV', 'B_Kappa', 'A_B', 'B_CvM', 'A_G', 'B_Rho', 'B_EA',\n",
       "       'B_Rvdw'], dtype=object)"
      ]
     },
     "execution_count": 32,
     "metadata": {},
     "output_type": "execute_result"
    }
   ],
   "source": [
    "featureScores.nlargest(30,'Score')['Feature'].values"
   ]
  },
  {
   "cell_type": "code",
   "execution_count": 33,
   "metadata": {},
   "outputs": [],
   "source": [
    "X=X[featureScores.nlargest(30,'Score')['Feature'].values]"
   ]
  },
  {
   "cell_type": "code",
   "execution_count": 34,
   "metadata": {},
   "outputs": [
    {
     "name": "stdout",
     "output_type": "stream",
     "text": [
      "RF\n",
      "R2:  0.9167080329877629\n",
      "RMSE:  0.0779715361546092\n",
      "---------------------------------------\n",
      "GB\n",
      "R2:  0.9065792639402765\n",
      "RMSE:  0.08257644339971941\n",
      "---------------------------------------\n",
      "LR\n",
      "R2:  -4.3267754434233736e+20\n",
      "RMSE:  5619746291.915983\n",
      "---------------------------------------\n",
      "RR\n",
      "R2:  0.8815645661552155\n",
      "RMSE:  0.09297696357307358\n",
      "---------------------------------------\n",
      "LASSO\n",
      "R2:  0.8297320120142445\n",
      "RMSE:  0.11148104559917747\n",
      "---------------------------------------\n",
      "gpr1\n",
      "R2:  0.8437151275634938\n",
      "RMSE:  0.10680534879276156\n",
      "---------------------------------------\n",
      "gpr2\n",
      "R2:  0.9225533955368517\n",
      "RMSE:  0.07518578216052745\n",
      "---------------------------------------\n",
      "gpr3\n",
      "R2:  0.8359974513088158\n",
      "RMSE:  0.10941070840031664\n",
      "---------------------------------------\n",
      "gpr4\n",
      "R2:  0.835997453579039\n",
      "RMSE:  0.10941070764305177\n",
      "---------------------------------------\n",
      "gpr5\n",
      "R2:  0.9197910569120781\n",
      "RMSE:  0.0765148847030102\n",
      "---------------------------------------\n",
      "gpr6\n",
      "R2:  0.9132660324365462\n",
      "RMSE:  0.07956629542296129\n",
      "---------------------------------------\n",
      "[0.9167080329877629, 0.9065792639402765, -4.3267754434233736e+20, 0.8815645661552155, 0.8297320120142445, 0.8437151275634938, 0.9225533955368517, 0.8359974513088158, 0.835997453579039, 0.9197910569120781, 0.9132660324365462]\n"
     ]
    },
    {
     "data": {
      "image/png": "[encoded data removed]",
      "text/plain": [
       "<Figure size 640x480 with 1 Axes>"
      ]
     },
     "metadata": {},
     "output_type": "display_data"
    }
   ],
   "source": [
    "run_models()"
   ]
  },
  {
   "cell_type": "code",
   "execution_count": 35,
   "metadata": {},
   "outputs": [
    {
     "data": {
      "text/plain": [
       "array(['X_EA', 'X_Z', 'X_Rvdw', 'A_Rvdw', 'A_IEI', 'A_ChiA', 'B_Hf',\n",
       "       'X_G', 'X_IEII', 'A_ChiP', 'B_MP', 'B_Ra', 'A_MP', 'A_EA', 'B_Z',\n",
       "       'A_Z', 'X_Rho', 'X_Kappa', 'A_CvM', 'B_ChiA'], dtype=object)"
      ]
     },
     "execution_count": 35,
     "metadata": {},
     "output_type": "execute_result"
    }
   ],
   "source": [
    "featureScores.nlargest(20,'Score')['Feature'].values"
   ]
  },
  {
   "cell_type": "code",
   "execution_count": 36,
   "metadata": {},
   "outputs": [],
   "source": [
    "X=X[featureScores.nlargest(20,'Score')['Feature'].values]"
   ]
  },
  {
   "cell_type": "code",
   "execution_count": 37,
   "metadata": {},
   "outputs": [
    {
     "name": "stdout",
     "output_type": "stream",
     "text": [
      "RF\n",
      "R2:  0.9016675306172841\n",
      "RMSE:  0.08471942589696775\n",
      "---------------------------------------\n",
      "GB\n",
      "R2:  0.8852743464292967\n",
      "RMSE:  0.0915092090436235\n",
      "---------------------------------------\n",
      "LR\n",
      "R2:  0.8893473476042767\n",
      "RMSE:  0.08987014567060853\n",
      "---------------------------------------\n",
      "RR\n",
      "R2:  0.8841258692527687\n",
      "RMSE:  0.09196610130330711\n",
      "---------------------------------------\n",
      "LASSO\n",
      "R2:  0.8297320963926618\n",
      "RMSE:  0.11148101797626533\n",
      "---------------------------------------\n",
      "gpr1\n",
      "R2:  0.8874792475995728\n",
      "RMSE:  0.09062558960629859\n",
      "---------------------------------------\n",
      "gpr2\n",
      "R2:  0.9027882644984488\n",
      "RMSE:  0.08423525203187018\n",
      "---------------------------------------\n",
      "gpr3\n",
      "R2:  0.7561376709038834\n",
      "RMSE:  0.13341568489165836\n",
      "---------------------------------------\n",
      "gpr4\n",
      "R2:  0.7561376375607203\n",
      "RMSE:  0.1334156940125849\n",
      "---------------------------------------\n",
      "gpr5\n",
      "R2:  0.9260454316396677\n",
      "RMSE:  0.07347118332536874\n",
      "---------------------------------------\n",
      "gpr6\n",
      "R2:  0.9201587929277697\n",
      "RMSE:  0.07633928331539055\n",
      "---------------------------------------\n",
      "[0.9016675306172841, 0.8852743464292967, 0.8893473476042767, 0.8841258692527687, 0.8297320963926618, 0.8874792475995728, 0.9027882644984488, 0.7561376709038834, 0.7561376375607203, 0.9260454316396677, 0.9201587929277697]\n"
     ]
    },
    {
     "data": {
      "image/png": "[encoded data removed]",
      "text/plain": [
       "<Figure size 640x480 with 1 Axes>"
      ]
     },
     "metadata": {},
     "output_type": "display_data"
    }
   ],
   "source": [
    "run_models()"
   ]
  },
  {
   "cell_type": "code",
   "execution_count": 38,
   "metadata": {},
   "outputs": [
    {
     "data": {
      "text/plain": [
       "array(['X_EA', 'X_Z', 'X_Rvdw', 'A_Rvdw', 'A_IEI', 'A_ChiA', 'B_Hf',\n",
       "       'X_G', 'X_IEII', 'A_ChiP'], dtype=object)"
      ]
     },
     "execution_count": 38,
     "metadata": {},
     "output_type": "execute_result"
    }
   ],
   "source": [
    "featureScores.nlargest(10,'Score')['Feature'].values"
   ]
  },
  {
   "cell_type": "code",
   "execution_count": 39,
   "metadata": {},
   "outputs": [],
   "source": [
    "X=X[featureScores.nlargest(10,'Score')['Feature'].values]"
   ]
  },
  {
   "cell_type": "code",
   "execution_count": 40,
   "metadata": {},
   "outputs": [
    {
     "name": "stdout",
     "output_type": "stream",
     "text": [
      "RF\n",
      "R2:  0.9232469966067488\n",
      "RMSE:  0.07484834822932782\n",
      "---------------------------------------\n",
      "GB\n",
      "R2:  0.88245979808286\n",
      "RMSE:  0.09262489902507616\n",
      "---------------------------------------\n",
      "LR\n",
      "R2:  0.8999535759540451\n",
      "RMSE:  0.08545457458105331\n",
      "---------------------------------------\n",
      "RR\n",
      "R2:  0.8995395290853131\n",
      "RMSE:  0.08563122090894665\n",
      "---------------------------------------\n",
      "LASSO\n",
      "R2:  0.8037860160524454\n",
      "RMSE:  0.11967391789582478\n",
      "---------------------------------------\n",
      "gpr1\n",
      "R2:  0.8998124996743555\n",
      "RMSE:  0.08551480345301612\n",
      "---------------------------------------\n",
      "gpr2\n",
      "R2:  0.89857056825836\n",
      "RMSE:  0.08604319481050728\n",
      "---------------------------------------\n",
      "gpr3\n",
      "R2:  -2.935129933171473\n",
      "RMSE:  0.5359374058029415\n",
      "---------------------------------------\n",
      "gpr4\n",
      "R2:  -1.7940777621878752\n",
      "RMSE:  0.4515998362097494\n",
      "---------------------------------------\n",
      "gpr5\n",
      "R2:  0.8491061563788547\n",
      "RMSE:  0.10494706367457608\n",
      "---------------------------------------\n",
      "gpr6\n",
      "R2:  0.9068028262388355\n",
      "RMSE:  0.08247757863955808\n",
      "---------------------------------------\n",
      "[0.9232469966067488, 0.88245979808286, 0.8999535759540451, 0.8995395290853131, 0.8037860160524454, 0.8998124996743555, 0.89857056825836, -2.935129933171473, -1.7940777621878752, 0.8491061563788547, 0.9068028262388355]\n"
     ]
    },
    {
     "data": {
      "image/png": "[encoded data removed]",
      "text/plain": [
       "<Figure size 640x480 with 1 Axes>"
      ]
     },
     "metadata": {},
     "output_type": "display_data"
    }
   ],
   "source": [
    "run_models()"
   ]
  }
 ],
 "metadata": {
  "colab": {
   "collapsed_sections": [],
   "name": "Final_total.ipynb",
   "provenance": []
  },
  "kernelspec": {
   "display_name": "Python 3 (ipykernel)",
   "language": "python",
   "name": "python3"
  },
  "language_info": {
   "codemirror_mode": {
    "name": "ipython",
    "version": 3
   },
   "file_extension": ".py",
   "mimetype": "text/x-python",
   "name": "python",
   "nbconvert_exporter": "python",
   "pygments_lexer": "ipython3",
   "version": "3.9.13"
  }
 },
 "nbformat": 4,
 "nbformat_minor": 1
}
