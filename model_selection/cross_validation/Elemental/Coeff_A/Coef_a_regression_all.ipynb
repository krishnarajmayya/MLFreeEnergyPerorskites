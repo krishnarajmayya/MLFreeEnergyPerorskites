{
 "cells": [
  {
   "cell_type": "code",
   "execution_count": 1,
   "metadata": {
    "id": "U1Or_5CpWR5m"
   },
   "outputs": [],
   "source": [
    "import numpy as np\n",
    "import pandas as pd\n",
    "import matplotlib.pyplot as plt\n",
    "from math import sqrt\n",
    "import seaborn as sns \n",
    "import re\n",
    " \n",
    "import warnings # supress warnings\n",
    "warnings.filterwarnings('ignore')"
   ]
  },
  {
   "cell_type": "code",
   "execution_count": 2,
   "metadata": {
    "id": "wd0p9t1imwDC"
   },
   "outputs": [],
   "source": [
    "import sklearn\n",
    "\n",
    "from sklearn.preprocessing import MinMaxScaler, PolynomialFeatures, scale, StandardScaler\n",
    "\n",
    "from sklearn.model_selection import train_test_split, cross_val_score, KFold, GridSearchCV\n",
    "\n",
    "from sklearn.linear_model import LinearRegression, Ridge, Lasso, ElasticNet \n",
    "\n",
    "from sklearn.ensemble import RandomForestRegressor\n",
    "from sklearn.ensemble import GradientBoostingRegressor\n",
    "\n",
    "from sklearn.feature_selection import RFE, SelectKBest, f_regression\n",
    "from sklearn.inspection import permutation_importance\n",
    "\n",
    "from sklearn.gaussian_process import GaussianProcessRegressor\n",
    "from sklearn.gaussian_process.kernels import DotProduct, WhiteKernel, RBF, Matern, RationalQuadratic\n",
    "from sklearn.gaussian_process.kernels import Kernel, Hyperparameter, ConstantKernel\n",
    "from sklearn.gaussian_process.kernels import GenericKernelMixin\n",
    "\n",
    "from sklearn import metrics\n",
    "from sklearn.metrics import mean_squared_error\n",
    "from sklearn.metrics import r2_score  \n",
    "\n",
    "from sklearn.pipeline import make_pipeline\n",
    "\n",
    "from sklearn.base import clone"
   ]
  },
  {
   "cell_type": "code",
   "execution_count": 3,
   "metadata": {},
   "outputs": [],
   "source": [
    "def run_models():\n",
    "    rf = RandomForestRegressor(n_estimators= 100, random_state= 10)\n",
    "    gb = GradientBoostingRegressor(loss='quantile', alpha=0.5,\n",
    "                                n_estimators=100, max_depth=10,\n",
    "                                learning_rate=0.25, min_samples_leaf=9,\n",
    "                                min_samples_split=2)\n",
    "    lr = LinearRegression()\n",
    "    rr = Ridge(alpha=0.01)\n",
    "    lasso = Lasso(alpha=0.01)\n",
    "    gpr1 = GaussianProcessRegressor(kernel=DotProduct() + WhiteKernel(),random_state=0)\n",
    "    gpr2 = GaussianProcessRegressor(kernel=1.0 * RBF(length_scale=100.0, length_scale_bounds=(1e-2, 1e3))+ \n",
    "                                WhiteKernel(noise_level=1, noise_level_bounds=(1e-10, 1e+1)),alpha=0.0)\n",
    "    gpr3 = GaussianProcessRegressor(kernel=ConstantKernel(1.0, (1e-2, 1e3)) * RBF(10, (1e-3, 1e4)),\n",
    "                                n_restarts_optimizer=9)\n",
    "    gpr4 = GaussianProcessRegressor(kernel=1.0 * RBF(length_scale=1.0, length_scale_bounds=(1e-1, 10.0)))\n",
    "    gpr5 = GaussianProcessRegressor(kernel=1.0 * RationalQuadratic(length_scale=1.0, alpha=0.01))\n",
    "    gpr6 = GaussianProcessRegressor(kernel=1.0 * Matern(length_scale=1.0, length_scale_bounds=(1e-2, 10.0),nu=0.35))\n",
    "    models = [rf,gb,lr,rr,lasso,gpr1,gpr2,gpr3,gpr4,gpr5,gpr6]\n",
    "    models_names = [\"RF\",\"GB\",\"LR\",\"RR\",\"LASSO\",\"gpr1\",\"gpr2\",\"gpr3\",\"gpr4\",\"gpr5\",\"gpr6\"]\n",
    "    r2scores=[]\n",
    "    rmse=[]\n",
    "    count=0\n",
    "    for model in models :\n",
    "        predicted_y = []\n",
    "        expected_y = []\n",
    "        kf = KFold(n_splits= 10) \n",
    "        # partition data\n",
    "        for train_index, test_index in kf.split(X, Y):\n",
    "            # specific \".loc\" syntax for working with dataframes\n",
    "            x_train, x_test = X.loc[train_index], X.loc[test_index]\n",
    "            y_train, y_test = Y[train_index], Y[test_index]\n",
    "\n",
    "            # create and fit classifier\n",
    "            model.fit(x_train, y_train)\n",
    "\n",
    "            # store result from classification\n",
    "            predicted_y.extend(model.predict(x_test))\n",
    "\n",
    "            # store expected result for this specific fold\n",
    "            expected_y.extend(y_test)\n",
    "        \n",
    "        r2 = metrics.r2_score(expected_y, predicted_y)\n",
    "        r2scores.append(r2)\n",
    "        \n",
    "        err=np.sqrt(metrics.mean_squared_error(expected_y, predicted_y))\n",
    "        rmse.append(err)\n",
    "        \n",
    "        print(models_names[count])\n",
    "        print(\"R2: \",r2.__str__())\n",
    "        print(\"RMSE: \",err)\n",
    "        print(\"---------------------------------------\")\n",
    "        count+=1\n",
    "    \n",
    "    plt.rcdefaults()\n",
    "    fig, ax = plt.subplots()\n",
    "\n",
    "    x_pos = np.arange(len(models_names))\n",
    "    ax.bar(x_pos, r2scores, align='center')\n",
    "    ax.set_xticks(x_pos)\n",
    "    ax.set_xticklabels(models_names)\n",
    "    ax.set_ylabel('R2 Score')\n",
    "    #plt.savefig('imp.eps', format='eps')\n",
    "    #plt.show()\n",
    "    print(r2scores)"
   ]
  },
  {
   "cell_type": "markdown",
   "metadata": {},
   "source": [
    "# Standard Scaling"
   ]
  },
  {
   "cell_type": "code",
   "execution_count": 4,
   "metadata": {
    "id": "hjdsOVHoYDJB"
   },
   "outputs": [],
   "source": [
    "data_std = pd.read_csv('scaled_standard_Coeff_A.csv', encoding='cp1252')   "
   ]
  },
  {
   "cell_type": "code",
   "execution_count": 5,
   "metadata": {},
   "outputs": [
    {
     "data": {
      "text/plain": [
       "array(['Name', 'density', 'mean_A2B', 'mean_A2X', 'mean_B2X', 'mean_X2X',\n",
       "       'std_A2B', 'std_A2X', 'std_B2X', 'std_X2X', 'E_coh', 'TF', 'OF',\n",
       "       'A_Z', 'B_Z', 'X_Z', 'A_G', 'B_G', 'X_G', 'A_IEI', 'B_IEI',\n",
       "       'X_IEI', 'A_IEII', 'B_IEII', 'X_IEII', 'A_EA', 'B_EA', 'X_EA',\n",
       "       'A_ChiP', 'B_ChiP', 'X_ChiP', 'A_ChiA', 'B_ChiA', 'A_Rvdw',\n",
       "       'B_Rvdw', 'X_Rvdw', 'B_Rc', 'B_Ra', 'A_MP', 'B_MP', 'A_Rho',\n",
       "       'B_Rho', 'X_Rho', 'B_MV', 'X_MV', 'B_Hf', 'A_Kappa', 'B_Kappa',\n",
       "       'X_Kappa', 'A_CvM', 'B_CvM', 'A_B', 'B_B', 'B_MendeleevNo',\n",
       "       'Coeff_A'], dtype=object)"
      ]
     },
     "execution_count": 5,
     "metadata": {},
     "output_type": "execute_result"
    }
   ],
   "source": [
    "data_std.columns.values"
   ]
  },
  {
   "cell_type": "code",
   "execution_count": 6,
   "metadata": {},
   "outputs": [],
   "source": [
    "data_std.drop(['density', 'mean_A2B', 'mean_A2X', 'mean_B2X', 'mean_X2X',\n",
    "           'std_A2B', 'std_A2X', 'std_B2X', 'std_X2X', 'E_coh', 'TF', 'OF'\n",
    "          ], axis=1, inplace = True)"
   ]
  },
  {
   "cell_type": "code",
   "execution_count": 7,
   "metadata": {},
   "outputs": [],
   "source": [
    "data_std.fillna(0, inplace= True)"
   ]
  },
  {
   "cell_type": "code",
   "execution_count": 8,
   "metadata": {},
   "outputs": [],
   "source": [
    "Y = data_std['Coeff_A'] \n",
    "X = data_std.drop(['Coeff_A','Name'], axis=1)"
   ]
  },
  {
   "cell_type": "markdown",
   "metadata": {
    "id": "ZaJDp0jdzwnZ"
   },
   "source": [
    "### Using CV technique"
   ]
  },
  {
   "cell_type": "code",
   "execution_count": 9,
   "metadata": {},
   "outputs": [
    {
     "name": "stdout",
     "output_type": "stream",
     "text": [
      "RF\n",
      "R2:  0.9118765251199213\n",
      "RMSE:  0.29685598339949054\n",
      "---------------------------------------\n",
      "GB\n",
      "R2:  0.9140997583712241\n",
      "RMSE:  0.29308743000813914\n",
      "---------------------------------------\n",
      "LR\n",
      "R2:  -1.577791307886829e+24\n",
      "RMSE:  1256101631193.4434\n",
      "---------------------------------------\n",
      "RR\n",
      "R2:  0.6185594280577644\n",
      "RMSE:  0.6176087531295485\n",
      "---------------------------------------\n",
      "LASSO\n",
      "R2:  0.9216307567538624\n",
      "RMSE:  0.27994507183756173\n",
      "---------------------------------------\n",
      "gpr1\n",
      "R2:  0.9185348357039973\n",
      "RMSE:  0.28542102987692175\n",
      "---------------------------------------\n",
      "gpr2\n",
      "R2:  0.9394492158419159\n",
      "RMSE:  0.24607068935182855\n",
      "---------------------------------------\n",
      "gpr3\n",
      "R2:  0.9053735620351536\n",
      "RMSE:  0.3076141056012327\n",
      "---------------------------------------\n",
      "gpr4\n",
      "R2:  0.9053735562730424\n",
      "RMSE:  0.3076141149670438\n",
      "---------------------------------------\n",
      "gpr5\n",
      "R2:  0.9314387114277034\n",
      "RMSE:  0.2618421061867181\n",
      "---------------------------------------\n",
      "gpr6\n",
      "R2:  0.8790536729054462\n",
      "RMSE:  0.34777338468398317\n",
      "---------------------------------------\n",
      "[0.9118765251199213, 0.9140997583712241, -1.577791307886829e+24, 0.6185594280577644, 0.9216307567538624, 0.9185348357039973, 0.9394492158419159, 0.9053735620351536, 0.9053735562730424, 0.9314387114277034, 0.8790536729054462]\n"
     ]
    },
    {
     "data": {
      "image/png": "[encoded data removed]",
      "text/plain": [
       "<Figure size 640x480 with 1 Axes>"
      ]
     },
     "metadata": {},
     "output_type": "display_data"
    }
   ],
   "source": [
    "run_models()"
   ]
  },
  {
   "cell_type": "markdown",
   "metadata": {
    "id": "_x7bQR-jz4WE"
   },
   "source": [
    "## Feature selection\n"
   ]
  },
  {
   "cell_type": "code",
   "execution_count": 10,
   "metadata": {
    "colab": {
     "base_uri": "https://localhost:8080/"
    },
    "id": "RpTITR9vz7Th",
    "outputId": "b1c134f4-85a3-49a7-fa3a-34f5d4896d01"
   },
   "outputs": [
    {
     "name": "stdout",
     "output_type": "stream",
     "text": [
      "    Feature       Score\n",
      "14     X_EA  112.702665\n",
      "2       X_Z  106.612941\n",
      "22   X_Rvdw   86.120704\n",
      "11   X_IEII   80.598055\n",
      "20   A_Rvdw   56.376662\n",
      "6     A_IEI   38.414491\n",
      "18   A_ChiA   35.147717\n",
      "32     B_Hf   18.081523\n",
      "15   A_ChiP   17.250853\n",
      "5       X_G   15.282633\n",
      "26     B_MP   14.690246\n",
      "24     B_Ra   13.703676\n",
      "25     A_MP   13.495857\n",
      "12     A_EA   11.836644\n",
      "0       A_Z   11.590484\n",
      "1       B_Z   11.204890\n",
      "35  X_Kappa    9.959958\n",
      "36    A_CvM    8.849576\n",
      "33  A_Kappa    8.078728\n",
      "34  B_Kappa    7.615863\n",
      "31     X_MV    7.419386\n",
      "30     B_MV    7.256271\n",
      "38      A_B    5.603181\n",
      "3       A_G    4.843449\n",
      "28    B_Rho    4.738198\n",
      "37    B_CvM    4.631709\n",
      "13     B_EA    3.862307\n",
      "8     X_IEI    3.594946\n",
      "21   B_Rvdw    3.269603\n",
      "23     B_Rc    2.595919\n"
     ]
    }
   ],
   "source": [
    "#apply SelectKBest class to extract top 10 best features\n",
    "bestfeatures = SelectKBest(score_func=f_regression, k=10)\n",
    "fit = bestfeatures.fit(X,Y)\n",
    "dfscores = pd.DataFrame(fit.scores_)\n",
    "dfcolumns = pd.DataFrame(X.columns)\n",
    "#concat two dataframes for better visualization \n",
    "featureScores = pd.concat([dfcolumns,dfscores],axis=1)\n",
    "featureScores.columns = ['Feature','Score']  #naming the dataframe columns\n",
    "print(featureScores.nlargest(30,'Score'))  #print 10 best features"
   ]
  },
  {
   "cell_type": "code",
   "execution_count": 11,
   "metadata": {},
   "outputs": [
    {
     "data": {
      "text/plain": [
       "array(['X_EA', 'X_Z', 'X_Rvdw', 'X_IEII', 'A_Rvdw', 'A_IEI', 'A_ChiA',\n",
       "       'B_Hf', 'A_ChiP', 'X_G', 'B_MP', 'B_Ra', 'A_MP', 'A_EA', 'A_Z',\n",
       "       'B_Z', 'X_Kappa', 'A_CvM', 'A_Kappa', 'B_Kappa', 'X_MV', 'B_MV',\n",
       "       'A_B', 'A_G', 'B_Rho', 'B_CvM', 'B_EA', 'X_IEI', 'B_Rvdw', 'B_Rc',\n",
       "       'B_ChiP', 'B_IEII', 'A_Rho', 'B_G', 'B_IEI', 'X_Rho',\n",
       "       'B_MendeleevNo', 'B_ChiA', 'X_ChiP', 'A_IEII'], dtype=object)"
      ]
     },
     "execution_count": 11,
     "metadata": {},
     "output_type": "execute_result"
    }
   ],
   "source": [
    "featureScores.nlargest(40,'Score')['Feature'].values"
   ]
  },
  {
   "cell_type": "code",
   "execution_count": 12,
   "metadata": {},
   "outputs": [],
   "source": [
    "X=X[featureScores.nlargest(40,'Score')['Feature'].values]"
   ]
  },
  {
   "cell_type": "code",
   "execution_count": 13,
   "metadata": {},
   "outputs": [
    {
     "name": "stdout",
     "output_type": "stream",
     "text": [
      "RF\n",
      "R2:  0.9084209144248825\n",
      "RMSE:  0.3026203654335206\n",
      "---------------------------------------\n",
      "GB\n",
      "R2:  0.8983164856737229\n",
      "RMSE:  0.3188785259723162\n",
      "---------------------------------------\n",
      "LR\n",
      "R2:  -4.608415157410372e+22\n",
      "RMSE:  214672195624.17422\n",
      "---------------------------------------\n",
      "RR\n",
      "R2:  0.5918458683950686\n",
      "RMSE:  0.6388694167080871\n",
      "---------------------------------------\n",
      "LASSO\n",
      "R2:  0.9165994241329998\n",
      "RMSE:  0.28879157859432153\n",
      "---------------------------------------\n",
      "gpr1\n",
      "R2:  0.9173175390870902\n",
      "RMSE:  0.28754558058316565\n",
      "---------------------------------------\n",
      "gpr2\n",
      "R2:  0.9396680601421693\n",
      "RMSE:  0.24562560912459985\n",
      "---------------------------------------\n",
      "gpr3\n",
      "R2:  0.9064833790838922\n",
      "RMSE:  0.30580487392471\n",
      "---------------------------------------\n",
      "gpr4\n",
      "R2:  0.9064833964076625\n",
      "RMSE:  0.3058048455998327\n",
      "---------------------------------------\n",
      "gpr5\n",
      "R2:  0.9329470628757556\n",
      "RMSE:  0.2589458188970125\n",
      "---------------------------------------\n",
      "gpr6\n",
      "R2:  0.8804001474261297\n",
      "RMSE:  0.34583211616891557\n",
      "---------------------------------------\n",
      "[0.9084209144248825, 0.8983164856737229, -4.608415157410372e+22, 0.5918458683950686, 0.9165994241329998, 0.9173175390870902, 0.9396680601421693, 0.9064833790838922, 0.9064833964076625, 0.9329470628757556, 0.8804001474261297]\n"
     ]
    },
    {
     "data": {
      "image/png": "[encoded data removed]",
      "text/plain": [
       "<Figure size 640x480 with 1 Axes>"
      ]
     },
     "metadata": {},
     "output_type": "display_data"
    }
   ],
   "source": [
    "run_models()"
   ]
  },
  {
   "cell_type": "code",
   "execution_count": 14,
   "metadata": {},
   "outputs": [
    {
     "data": {
      "text/plain": [
       "array(['X_EA', 'X_Z', 'X_Rvdw', 'X_IEII', 'A_Rvdw', 'A_IEI', 'A_ChiA',\n",
       "       'B_Hf', 'A_ChiP', 'X_G', 'B_MP', 'B_Ra', 'A_MP', 'A_EA', 'A_Z',\n",
       "       'B_Z', 'X_Kappa', 'A_CvM', 'A_Kappa', 'B_Kappa', 'X_MV', 'B_MV',\n",
       "       'A_B', 'A_G', 'B_Rho', 'B_CvM', 'B_EA', 'X_IEI', 'B_Rvdw', 'B_Rc'],\n",
       "      dtype=object)"
      ]
     },
     "execution_count": 14,
     "metadata": {},
     "output_type": "execute_result"
    }
   ],
   "source": [
    "featureScores.nlargest(30,'Score')['Feature'].values"
   ]
  },
  {
   "cell_type": "code",
   "execution_count": 15,
   "metadata": {},
   "outputs": [],
   "source": [
    "X=X[featureScores.nlargest(30,'Score')['Feature'].values]"
   ]
  },
  {
   "cell_type": "code",
   "execution_count": 16,
   "metadata": {},
   "outputs": [
    {
     "name": "stdout",
     "output_type": "stream",
     "text": [
      "RF\n",
      "R2:  0.9145894496136227\n",
      "RMSE:  0.2922508347060403\n",
      "---------------------------------------\n",
      "GB\n",
      "R2:  0.907939502511378\n",
      "RMSE:  0.30341472852948653\n",
      "---------------------------------------\n",
      "LR\n",
      "R2:  -1.2110999551998889e+20\n",
      "RMSE:  11004998660.608229\n",
      "---------------------------------------\n",
      "RR\n",
      "R2:  0.9001774707411323\n",
      "RMSE:  0.3159470355278993\n",
      "---------------------------------------\n",
      "LASSO\n",
      "R2:  0.920657875941001\n",
      "RMSE:  0.2816773403364192\n",
      "---------------------------------------\n",
      "gpr1\n",
      "R2:  0.9208706710184739\n",
      "RMSE:  0.28129935830272734\n",
      "---------------------------------------\n",
      "gpr2\n",
      "R2:  0.9448348794389021\n",
      "RMSE:  0.23487256238457901\n",
      "---------------------------------------\n",
      "gpr3\n",
      "R2:  0.9103943440854033\n",
      "RMSE:  0.29934203833507367\n",
      "---------------------------------------\n",
      "gpr4\n",
      "R2:  0.9103943330997206\n",
      "RMSE:  0.2993420566847889\n",
      "---------------------------------------\n",
      "gpr5\n",
      "R2:  0.9389534204759772\n",
      "RMSE:  0.24707606020013928\n",
      "---------------------------------------\n",
      "gpr6\n",
      "R2:  0.904487021752941\n",
      "RMSE:  0.3090517404045138\n",
      "---------------------------------------\n",
      "[0.9145894496136227, 0.907939502511378, -1.2110999551998889e+20, 0.9001774707411323, 0.920657875941001, 0.9208706710184739, 0.9448348794389021, 0.9103943440854033, 0.9103943330997206, 0.9389534204759772, 0.904487021752941]\n"
     ]
    },
    {
     "data": {
      "image/png": "[encoded data removed]",
      "text/plain": [
       "<Figure size 640x480 with 1 Axes>"
      ]
     },
     "metadata": {},
     "output_type": "display_data"
    }
   ],
   "source": [
    "run_models()"
   ]
  },
  {
   "cell_type": "code",
   "execution_count": 17,
   "metadata": {},
   "outputs": [
    {
     "data": {
      "text/plain": [
       "array(['X_EA', 'X_Z', 'X_Rvdw', 'X_IEII', 'A_Rvdw', 'A_IEI', 'A_ChiA',\n",
       "       'B_Hf', 'A_ChiP', 'X_G', 'B_MP', 'B_Ra', 'A_MP', 'A_EA', 'A_Z',\n",
       "       'B_Z', 'X_Kappa', 'A_CvM', 'A_Kappa', 'B_Kappa'], dtype=object)"
      ]
     },
     "execution_count": 17,
     "metadata": {},
     "output_type": "execute_result"
    }
   ],
   "source": [
    "featureScores.nlargest(20,'Score')['Feature'].values"
   ]
  },
  {
   "cell_type": "code",
   "execution_count": 18,
   "metadata": {},
   "outputs": [],
   "source": [
    "X=X[featureScores.nlargest(20,'Score')['Feature'].values]"
   ]
  },
  {
   "cell_type": "code",
   "execution_count": 19,
   "metadata": {},
   "outputs": [
    {
     "name": "stdout",
     "output_type": "stream",
     "text": [
      "RF\n",
      "R2:  0.9171128038509241\n",
      "RMSE:  0.2879013653129765\n",
      "---------------------------------------\n",
      "GB\n",
      "R2:  0.9187151806947536\n",
      "RMSE:  0.2851049268343962\n",
      "---------------------------------------\n",
      "LR\n",
      "R2:  0.8880515505304055\n",
      "RMSE:  0.33458698341327403\n",
      "---------------------------------------\n",
      "RR\n",
      "R2:  0.8879054453782081\n",
      "RMSE:  0.33480524879665763\n",
      "---------------------------------------\n",
      "LASSO\n",
      "R2:  0.9038128230555375\n",
      "RMSE:  0.31014057610132634\n",
      "---------------------------------------\n",
      "gpr1\n",
      "R2:  0.9029190564610456\n",
      "RMSE:  0.3115781499703635\n",
      "---------------------------------------\n",
      "gpr2\n",
      "R2:  0.9172909342722477\n",
      "RMSE:  0.28759183877111727\n",
      "---------------------------------------\n",
      "gpr3\n",
      "R2:  0.7580443774483089\n",
      "RMSE:  0.49188984798600094\n",
      "---------------------------------------\n",
      "gpr4\n",
      "R2:  0.8956325364574357\n",
      "RMSE:  0.32305953560073775\n",
      "---------------------------------------\n",
      "gpr5\n",
      "R2:  0.9310354956228163\n",
      "RMSE:  0.2626109372763893\n",
      "---------------------------------------\n",
      "gpr6\n",
      "R2:  0.9129760297019589\n",
      "RMSE:  0.2949982547372798\n",
      "---------------------------------------\n",
      "[0.9171128038509241, 0.9187151806947536, 0.8880515505304055, 0.8879054453782081, 0.9038128230555375, 0.9029190564610456, 0.9172909342722477, 0.7580443774483089, 0.8956325364574357, 0.9310354956228163, 0.9129760297019589]\n"
     ]
    },
    {
     "data": {
      "image/png": "[encoded data removed]",
      "text/plain": [
       "<Figure size 640x480 with 1 Axes>"
      ]
     },
     "metadata": {},
     "output_type": "display_data"
    }
   ],
   "source": [
    "run_models()"
   ]
  },
  {
   "cell_type": "code",
   "execution_count": 20,
   "metadata": {},
   "outputs": [
    {
     "data": {
      "text/plain": [
       "array(['X_EA', 'X_Z', 'X_Rvdw', 'X_IEII', 'A_Rvdw', 'A_IEI', 'A_ChiA',\n",
       "       'B_Hf', 'A_ChiP', 'X_G'], dtype=object)"
      ]
     },
     "execution_count": 20,
     "metadata": {},
     "output_type": "execute_result"
    }
   ],
   "source": [
    "featureScores.nlargest(10,'Score')['Feature'].values"
   ]
  },
  {
   "cell_type": "code",
   "execution_count": 21,
   "metadata": {},
   "outputs": [],
   "source": [
    "X=X[featureScores.nlargest(10,'Score')['Feature'].values]"
   ]
  },
  {
   "cell_type": "code",
   "execution_count": 22,
   "metadata": {},
   "outputs": [
    {
     "name": "stdout",
     "output_type": "stream",
     "text": [
      "RF\n",
      "R2:  0.9137243049565906\n",
      "RMSE:  0.2937272460011317\n",
      "---------------------------------------\n",
      "GB\n",
      "R2:  0.8663980816167061\n",
      "RMSE:  0.3655159618721102\n",
      "---------------------------------------\n",
      "LR\n",
      "R2:  0.8960627618127741\n",
      "RMSE:  0.32239298718679643\n",
      "---------------------------------------\n",
      "RR\n",
      "R2:  0.8961165106086135\n",
      "RMSE:  0.32230961728032026\n",
      "---------------------------------------\n",
      "LASSO\n",
      "R2:  0.8987957283547783\n",
      "RMSE:  0.3181261882417442\n",
      "---------------------------------------\n",
      "gpr1\n",
      "R2:  0.9044487787893452\n",
      "RMSE:  0.3091136056705607\n",
      "---------------------------------------\n",
      "gpr2\n",
      "R2:  0.9030023958189493\n",
      "RMSE:  0.3114443837686766\n",
      "---------------------------------------\n",
      "gpr3\n",
      "R2:  0.11190451161817627\n",
      "RMSE:  0.9423881834901283\n",
      "---------------------------------------\n",
      "gpr4\n",
      "R2:  0.20682010558191066\n",
      "RMSE:  0.8906064756210171\n",
      "---------------------------------------\n",
      "gpr5\n",
      "R2:  0.8677869653735392\n",
      "RMSE:  0.36361110355221665\n",
      "---------------------------------------\n",
      "gpr6\n",
      "R2:  0.9077690338280667\n",
      "RMSE:  0.30369551556111796\n",
      "---------------------------------------\n",
      "[0.9137243049565906, 0.8663980816167061, 0.8960627618127741, 0.8961165106086135, 0.8987957283547783, 0.9044487787893452, 0.9030023958189493, 0.11190451161817627, 0.20682010558191066, 0.8677869653735392, 0.9077690338280667]\n"
     ]
    },
    {
     "data": {
      "image/png": "[encoded data removed]",
      "text/plain": [
       "<Figure size 640x480 with 1 Axes>"
      ]
     },
     "metadata": {},
     "output_type": "display_data"
    }
   ],
   "source": [
    "run_models()"
   ]
  },
  {
   "cell_type": "markdown",
   "metadata": {},
   "source": [
    "# Min-Max scaling"
   ]
  },
  {
   "cell_type": "code",
   "execution_count": 23,
   "metadata": {},
   "outputs": [],
   "source": [
    "data_mm = pd.read_csv('scaled_minmax_Coeff_A.csv', encoding='cp1252')"
   ]
  },
  {
   "cell_type": "code",
   "execution_count": 24,
   "metadata": {},
   "outputs": [],
   "source": [
    "data_mm.drop(['density', 'mean_A2B', 'mean_A2X', 'mean_B2X', 'mean_X2X',\n",
    "           'std_A2B', 'std_A2X', 'std_B2X', 'std_X2X', 'E_coh', 'TF', 'OF'\n",
    "          ], axis=1, inplace = True)"
   ]
  },
  {
   "cell_type": "code",
   "execution_count": 25,
   "metadata": {},
   "outputs": [],
   "source": [
    "data_mm.fillna(0, inplace= True)"
   ]
  },
  {
   "cell_type": "code",
   "execution_count": 26,
   "metadata": {},
   "outputs": [],
   "source": [
    "Y = data_mm['Coeff_A'] \n",
    "X = data_mm.drop(['Coeff_A','Name'], axis=1)"
   ]
  },
  {
   "cell_type": "markdown",
   "metadata": {
    "id": "ZaJDp0jdzwnZ"
   },
   "source": [
    "### Using CV technique"
   ]
  },
  {
   "cell_type": "code",
   "execution_count": 27,
   "metadata": {},
   "outputs": [
    {
     "name": "stdout",
     "output_type": "stream",
     "text": [
      "RF\n",
      "R2:  0.9109467868355502\n",
      "RMSE:  0.08056402576186833\n",
      "---------------------------------------\n",
      "GB\n",
      "R2:  0.9049579301314912\n",
      "RMSE:  0.08322892890982322\n",
      "---------------------------------------\n",
      "LR\n",
      "R2:  -4.19478690092104e+23\n",
      "RMSE:  174852285848.42633\n",
      "---------------------------------------\n",
      "RR\n",
      "R2:  0.8907980554639575\n",
      "RMSE:  0.0892136994094055\n",
      "---------------------------------------\n",
      "LASSO\n",
      "R2:  0.830977695209371\n",
      "RMSE:  0.11099115540472551\n",
      "---------------------------------------\n",
      "gpr1\n",
      "R2:  0.8148532780509667\n",
      "RMSE:  0.11616475378177726\n",
      "---------------------------------------\n",
      "gpr2\n",
      "R2:  0.9494169052493393\n",
      "RMSE:  0.060718224130938116\n",
      "---------------------------------------\n",
      "gpr3\n",
      "R2:  0.9223064872117333\n",
      "RMSE:  0.07525038765535685\n",
      "---------------------------------------\n",
      "gpr4\n",
      "R2:  0.9223064791718247\n",
      "RMSE:  0.07525039154890083\n",
      "---------------------------------------\n",
      "gpr5\n",
      "R2:  0.9309906732557726\n",
      "RMSE:  0.07092025000163303\n",
      "---------------------------------------\n",
      "gpr6\n",
      "R2:  0.9069390606974688\n",
      "RMSE:  0.08235691660374869\n",
      "---------------------------------------\n",
      "[0.9109467868355502, 0.9049579301314912, -4.19478690092104e+23, 0.8907980554639575, 0.830977695209371, 0.8148532780509667, 0.9494169052493393, 0.9223064872117333, 0.9223064791718247, 0.9309906732557726, 0.9069390606974688]\n"
     ]
    },
    {
     "data": {
      "image/png": "[encoded data removed]",
      "text/plain": [
       "<Figure size 640x480 with 1 Axes>"
      ]
     },
     "metadata": {},
     "output_type": "display_data"
    }
   ],
   "source": [
    "run_models()"
   ]
  },
  {
   "cell_type": "markdown",
   "metadata": {
    "id": "_x7bQR-jz4WE"
   },
   "source": [
    "## Feature selection\n"
   ]
  },
  {
   "cell_type": "code",
   "execution_count": 28,
   "metadata": {
    "colab": {
     "base_uri": "https://localhost:8080/"
    },
    "id": "RpTITR9vz7Th",
    "outputId": "b1c134f4-85a3-49a7-fa3a-34f5d4896d01"
   },
   "outputs": [
    {
     "name": "stdout",
     "output_type": "stream",
     "text": [
      "    Feature       Score\n",
      "14     X_EA  112.702665\n",
      "2       X_Z  106.612941\n",
      "22   X_Rvdw   86.120704\n",
      "20   A_Rvdw   56.376662\n",
      "6     A_IEI   38.414491\n",
      "18   A_ChiA   33.512107\n",
      "11   X_IEII   19.080411\n",
      "32     B_Hf   18.081523\n",
      "15   A_ChiP   17.250853\n",
      "5       X_G   15.282633\n",
      "26     B_MP   14.690246\n",
      "24     B_Ra   13.703676\n",
      "25     A_MP   13.495857\n",
      "12     A_EA   11.836644\n",
      "0       A_Z   11.590484\n",
      "29    X_Rho   11.571776\n",
      "1       B_Z   11.204890\n",
      "35  X_Kappa    9.959958\n",
      "36    A_CvM    8.849576\n",
      "33  A_Kappa    8.078728\n",
      "19   B_ChiA    7.713379\n",
      "34  B_Kappa    7.615863\n",
      "31     X_MV    7.419386\n",
      "30     B_MV    7.256271\n",
      "38      A_B    5.603181\n",
      "3       A_G    4.843449\n",
      "37    B_CvM    4.350412\n",
      "28    B_Rho    4.184881\n",
      "13     B_EA    3.862307\n",
      "8     X_IEI    3.594946\n"
     ]
    }
   ],
   "source": [
    "#apply SelectKBest class to extract top 10 best features\n",
    "bestfeatures = SelectKBest(score_func=f_regression, k=10)\n",
    "fit = bestfeatures.fit(X,Y)\n",
    "dfscores = pd.DataFrame(fit.scores_)\n",
    "dfcolumns = pd.DataFrame(X.columns)\n",
    "#concat two dataframes for better visualization \n",
    "featureScores = pd.concat([dfcolumns,dfscores],axis=1)\n",
    "featureScores.columns = ['Feature','Score']  #naming the dataframe columns\n",
    "print(featureScores.nlargest(30,'Score'))  #print 10 best features"
   ]
  },
  {
   "cell_type": "code",
   "execution_count": 29,
   "metadata": {},
   "outputs": [
    {
     "data": {
      "text/plain": [
       "array(['X_EA', 'X_Z', 'X_Rvdw', 'A_Rvdw', 'A_IEI', 'A_ChiA', 'X_IEII',\n",
       "       'B_Hf', 'A_ChiP', 'X_G', 'B_MP', 'B_Ra', 'A_MP', 'A_EA', 'A_Z',\n",
       "       'X_Rho', 'B_Z', 'X_Kappa', 'A_CvM', 'A_Kappa', 'B_ChiA', 'B_Kappa',\n",
       "       'X_MV', 'B_MV', 'A_B', 'A_G', 'B_CvM', 'B_Rho', 'B_EA', 'X_IEI',\n",
       "       'B_Rvdw', 'B_Rc', 'B_ChiP', 'A_Rho', 'B_G', 'B_IEI', 'B_IEII',\n",
       "       'B_MendeleevNo', 'X_ChiP', 'A_IEII'], dtype=object)"
      ]
     },
     "execution_count": 29,
     "metadata": {},
     "output_type": "execute_result"
    }
   ],
   "source": [
    "featureScores.nlargest(40,'Score')['Feature'].values"
   ]
  },
  {
   "cell_type": "code",
   "execution_count": 30,
   "metadata": {},
   "outputs": [],
   "source": [
    "X=X[featureScores.nlargest(40,'Score')['Feature'].values]"
   ]
  },
  {
   "cell_type": "code",
   "execution_count": 31,
   "metadata": {},
   "outputs": [
    {
     "name": "stdout",
     "output_type": "stream",
     "text": [
      "RF\n",
      "R2:  0.9076971655460797\n",
      "RMSE:  0.08202077743956199\n",
      "---------------------------------------\n",
      "GB\n",
      "R2:  0.8918583436394848\n",
      "RMSE:  0.08877953607312529\n",
      "---------------------------------------\n",
      "LR\n",
      "R2:  -5.498542065509654e+22\n",
      "RMSE:  63305309819.3659\n",
      "---------------------------------------\n",
      "RR\n",
      "R2:  0.8455341147610733\n",
      "RMSE:  0.10610421862918049\n",
      "---------------------------------------\n",
      "LASSO\n",
      "R2:  0.8309824533287143\n",
      "RMSE:  0.11098959314677131\n",
      "---------------------------------------\n",
      "gpr1\n",
      "R2:  0.6983755433405539\n",
      "RMSE:  0.1482687543504307\n",
      "---------------------------------------\n",
      "gpr2\n",
      "R2:  0.948071639064959\n",
      "RMSE:  0.06152033193110183\n",
      "---------------------------------------\n",
      "gpr3\n",
      "R2:  0.6986961711701785\n",
      "RMSE:  0.1481899283001363\n",
      "---------------------------------------\n",
      "gpr4\n",
      "R2:  0.9268796275944328\n",
      "RMSE:  0.0730021347294911\n",
      "---------------------------------------\n",
      "gpr5\n",
      "R2:  0.9332581697576656\n",
      "RMSE:  0.06974537579761347\n",
      "---------------------------------------\n",
      "gpr6\n",
      "R2:  0.908038580535553\n",
      "RMSE:  0.08186894534295978\n",
      "---------------------------------------\n",
      "[0.9076971655460797, 0.8918583436394848, -5.498542065509654e+22, 0.8455341147610733, 0.8309824533287143, 0.6983755433405539, 0.948071639064959, 0.6986961711701785, 0.9268796275944328, 0.9332581697576656, 0.908038580535553]\n"
     ]
    },
    {
     "data": {
      "image/png": "[encoded data removed]",
      "text/plain": [
       "<Figure size 640x480 with 1 Axes>"
      ]
     },
     "metadata": {},
     "output_type": "display_data"
    }
   ],
   "source": [
    "run_models()"
   ]
  },
  {
   "cell_type": "code",
   "execution_count": 32,
   "metadata": {},
   "outputs": [
    {
     "data": {
      "text/plain": [
       "array(['X_EA', 'X_Z', 'X_Rvdw', 'A_Rvdw', 'A_IEI', 'A_ChiA', 'X_IEII',\n",
       "       'B_Hf', 'A_ChiP', 'X_G', 'B_MP', 'B_Ra', 'A_MP', 'A_EA', 'A_Z',\n",
       "       'X_Rho', 'B_Z', 'X_Kappa', 'A_CvM', 'A_Kappa', 'B_ChiA', 'B_Kappa',\n",
       "       'X_MV', 'B_MV', 'A_B', 'A_G', 'B_CvM', 'B_Rho', 'B_EA', 'X_IEI'],\n",
       "      dtype=object)"
      ]
     },
     "execution_count": 32,
     "metadata": {},
     "output_type": "execute_result"
    }
   ],
   "source": [
    "featureScores.nlargest(30,'Score')['Feature'].values"
   ]
  },
  {
   "cell_type": "code",
   "execution_count": 33,
   "metadata": {},
   "outputs": [],
   "source": [
    "X=X[featureScores.nlargest(30,'Score')['Feature'].values]"
   ]
  },
  {
   "cell_type": "code",
   "execution_count": 34,
   "metadata": {},
   "outputs": [
    {
     "name": "stdout",
     "output_type": "stream",
     "text": [
      "RF\n",
      "R2:  0.917805170723806\n",
      "RMSE:  0.07739958133230027\n",
      "---------------------------------------\n",
      "GB\n",
      "R2:  0.907855098826352\n",
      "RMSE:  0.08195057723197353\n",
      "---------------------------------------\n",
      "LR\n",
      "R2:  -5.432040104964747e+19\n",
      "RMSE:  1989746944.6430497\n",
      "---------------------------------------\n",
      "RR\n",
      "R2:  0.8920582736954661\n",
      "RMSE:  0.08869743122275853\n",
      "---------------------------------------\n",
      "LASSO\n",
      "R2:  0.8309824632253716\n",
      "RMSE:  0.1109895898973277\n",
      "---------------------------------------\n",
      "gpr1\n",
      "R2:  0.86772468492659\n",
      "RMSE:  0.0981874011098857\n",
      "---------------------------------------\n",
      "gpr2\n",
      "R2:  0.9390722785791513\n",
      "RMSE:  0.066638287978664\n",
      "---------------------------------------\n",
      "gpr3\n",
      "R2:  0.8685873516693408\n",
      "RMSE:  0.09786670045376603\n",
      "---------------------------------------\n",
      "gpr4\n",
      "R2:  0.8685873534274507\n",
      "RMSE:  0.097866699799109\n",
      "---------------------------------------\n",
      "gpr5\n",
      "R2:  0.9203863428693385\n",
      "RMSE:  0.07617459426855915\n",
      "---------------------------------------\n",
      "gpr6\n",
      "R2:  0.9207784206456514\n",
      "RMSE:  0.07598679214660345\n",
      "---------------------------------------\n",
      "[0.917805170723806, 0.907855098826352, -5.432040104964747e+19, 0.8920582736954661, 0.8309824632253716, 0.86772468492659, 0.9390722785791513, 0.8685873516693408, 0.8685873534274507, 0.9203863428693385, 0.9207784206456514]\n"
     ]
    },
    {
     "data": {
      "image/png": "[encoded data removed]",
      "text/plain": [
       "<Figure size 640x480 with 1 Axes>"
      ]
     },
     "metadata": {},
     "output_type": "display_data"
    }
   ],
   "source": [
    "run_models()"
   ]
  },
  {
   "cell_type": "code",
   "execution_count": 35,
   "metadata": {},
   "outputs": [
    {
     "data": {
      "text/plain": [
       "array(['X_EA', 'X_Z', 'X_Rvdw', 'A_Rvdw', 'A_IEI', 'A_ChiA', 'X_IEII',\n",
       "       'B_Hf', 'A_ChiP', 'X_G', 'B_MP', 'B_Ra', 'A_MP', 'A_EA', 'A_Z',\n",
       "       'X_Rho', 'B_Z', 'X_Kappa', 'A_CvM', 'A_Kappa'], dtype=object)"
      ]
     },
     "execution_count": 35,
     "metadata": {},
     "output_type": "execute_result"
    }
   ],
   "source": [
    "featureScores.nlargest(20,'Score')['Feature'].values"
   ]
  },
  {
   "cell_type": "code",
   "execution_count": 36,
   "metadata": {},
   "outputs": [],
   "source": [
    "X=X[featureScores.nlargest(20,'Score')['Feature'].values]"
   ]
  },
  {
   "cell_type": "code",
   "execution_count": 37,
   "metadata": {},
   "outputs": [
    {
     "name": "stdout",
     "output_type": "stream",
     "text": [
      "RF\n",
      "R2:  0.9083188220374022\n",
      "RMSE:  0.08174410722013714\n",
      "---------------------------------------\n",
      "GB\n",
      "R2:  0.8915545654560401\n",
      "RMSE:  0.0889041428803465\n",
      "---------------------------------------\n",
      "LR\n",
      "R2:  0.8890669060120321\n",
      "RMSE:  0.08991805943043193\n",
      "---------------------------------------\n",
      "RR\n",
      "R2:  0.8891320405698624\n",
      "RMSE:  0.08989165778243188\n",
      "---------------------------------------\n",
      "LASSO\n",
      "R2:  0.8309824498650992\n",
      "RMSE:  0.11098959428400602\n",
      "---------------------------------------\n",
      "gpr1\n",
      "R2:  0.8998237087141313\n",
      "RMSE:  0.08544739700154146\n",
      "---------------------------------------\n",
      "gpr2\n",
      "R2:  0.9334093225640425\n",
      "RMSE:  0.06966635350491347\n",
      "---------------------------------------\n",
      "gpr3\n",
      "R2:  0.7420205783836211\n",
      "RMSE:  0.13712255442123625\n",
      "---------------------------------------\n",
      "gpr4\n",
      "R2:  0.8901407580012665\n",
      "RMSE:  0.08948178970375527\n",
      "---------------------------------------\n",
      "gpr5\n",
      "R2:  0.9341203571747881\n",
      "RMSE:  0.06929341744606983\n",
      "---------------------------------------\n",
      "gpr6\n",
      "R2:  0.9278862602220599\n",
      "RMSE:  0.0724978908231023\n",
      "---------------------------------------\n",
      "[0.9083188220374022, 0.8915545654560401, 0.8890669060120321, 0.8891320405698624, 0.8309824498650992, 0.8998237087141313, 0.9334093225640425, 0.7420205783836211, 0.8901407580012665, 0.9341203571747881, 0.9278862602220599]\n"
     ]
    },
    {
     "data": {
      "image/png": "[encoded data removed]",
      "text/plain": [
       "<Figure size 640x480 with 1 Axes>"
      ]
     },
     "metadata": {},
     "output_type": "display_data"
    }
   ],
   "source": [
    "run_models()"
   ]
  },
  {
   "cell_type": "code",
   "execution_count": 38,
   "metadata": {},
   "outputs": [
    {
     "data": {
      "text/plain": [
       "array(['X_EA', 'X_Z', 'X_Rvdw', 'A_Rvdw', 'A_IEI', 'A_ChiA', 'X_IEII',\n",
       "       'B_Hf', 'A_ChiP', 'X_G'], dtype=object)"
      ]
     },
     "execution_count": 38,
     "metadata": {},
     "output_type": "execute_result"
    }
   ],
   "source": [
    "featureScores.nlargest(10,'Score')['Feature'].values"
   ]
  },
  {
   "cell_type": "code",
   "execution_count": 39,
   "metadata": {},
   "outputs": [],
   "source": [
    "X=X[featureScores.nlargest(10,'Score')['Feature'].values]"
   ]
  },
  {
   "cell_type": "code",
   "execution_count": 40,
   "metadata": {},
   "outputs": [
    {
     "name": "stdout",
     "output_type": "stream",
     "text": [
      "RF\n",
      "R2:  0.9176580850495086\n",
      "RMSE:  0.07746880272523081\n",
      "---------------------------------------\n",
      "GB\n",
      "R2:  0.8836574835109796\n",
      "RMSE:  0.09208429963173333\n",
      "---------------------------------------\n",
      "LR\n",
      "R2:  0.898178086653911\n",
      "RMSE:  0.08614637147203236\n",
      "---------------------------------------\n",
      "RR\n",
      "R2:  0.8980574666995772\n",
      "RMSE:  0.08619738159128387\n",
      "---------------------------------------\n",
      "LASSO\n",
      "R2:  0.8074316129175034\n",
      "RMSE:  0.11847012837719112\n",
      "---------------------------------------\n",
      "gpr1\n",
      "R2:  0.8954097927783209\n",
      "RMSE:  0.08730957503572902\n",
      "---------------------------------------\n",
      "gpr2\n",
      "R2:  0.8988797357934313\n",
      "RMSE:  0.08584904344251099\n",
      "---------------------------------------\n",
      "gpr3\n",
      "R2:  -1.0839505324554137\n",
      "RMSE:  0.38972661509052375\n",
      "---------------------------------------\n",
      "gpr4\n",
      "R2:  -0.49936114789718067\n",
      "RMSE:  0.3305746061292373\n",
      "---------------------------------------\n",
      "gpr5\n",
      "R2:  0.8015297151541639\n",
      "RMSE:  0.12027188264559723\n",
      "---------------------------------------\n",
      "gpr6\n",
      "R2:  0.9077934772510305\n",
      "RMSE:  0.08197797473094405\n",
      "---------------------------------------\n",
      "[0.9176580850495086, 0.8836574835109796, 0.898178086653911, 0.8980574666995772, 0.8074316129175034, 0.8954097927783209, 0.8988797357934313, -1.0839505324554137, -0.49936114789718067, 0.8015297151541639, 0.9077934772510305]\n"
     ]
    },
    {
     "data": {
      "image/png": "[encoded data removed]",
      "text/plain": [
       "<Figure size 640x480 with 1 Axes>"
      ]
     },
     "metadata": {},
     "output_type": "display_data"
    }
   ],
   "source": [
    "run_models()"
   ]
  }
 ],
 "metadata": {
  "colab": {
   "collapsed_sections": [],
   "name": "Final_total.ipynb",
   "provenance": []
  },
  "kernelspec": {
   "display_name": "Python 3 (ipykernel)",
   "language": "python",
   "name": "python3"
  },
  "language_info": {
   "codemirror_mode": {
    "name": "ipython",
    "version": 3
   },
   "file_extension": ".py",
   "mimetype": "text/x-python",
   "name": "python",
   "nbconvert_exporter": "python",
   "pygments_lexer": "ipython3",
   "version": "3.9.13"
  }
 },
 "nbformat": 4,
 "nbformat_minor": 1
}
