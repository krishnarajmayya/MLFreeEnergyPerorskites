{
 "cells": [
  {
   "cell_type": "markdown",
   "id": "a9cd6142",
   "metadata": {},
   "source": [
    "# Model selection"
   ]
  },
  {
   "cell_type": "code",
   "execution_count": 1,
   "id": "62d47901",
   "metadata": {},
   "outputs": [],
   "source": [
    "import pandas as pd"
   ]
  },
  {
   "cell_type": "code",
   "execution_count": 2,
   "id": "cf430274",
   "metadata": {},
   "outputs": [],
   "source": [
    "import matplotlib.pyplot as plt\n",
    "import numpy as np\n",
    "import itertools"
   ]
  },
  {
   "cell_type": "code",
   "execution_count": 3,
   "id": "eb0a1193",
   "metadata": {},
   "outputs": [],
   "source": [
    "from sklearn.metrics import mean_squared_error, r2_score\n",
    "from sklearn.gaussian_process import GaussianProcessRegressor\n",
    "from sklearn.gaussian_process.kernels import RBF\n",
    "from sklearn.preprocessing import StandardScaler, MinMaxScaler\n",
    "from sklearn.model_selection import train_test_split, cross_val_score, KFold\n",
    "from sklearn.linear_model import LinearRegression, Ridge, Lasso\n",
    "from sklearn.ensemble import RandomForestRegressor,GradientBoostingRegressor\n",
    "from sklearn.feature_selection import RFE, SelectKBest, f_regression"
   ]
  },
  {
   "cell_type": "code",
   "execution_count": 4,
   "id": "d9667f76",
   "metadata": {},
   "outputs": [],
   "source": [
    "import seaborn as sns"
   ]
  },
  {
   "cell_type": "markdown",
   "id": "05e51c93",
   "metadata": {},
   "source": [
    "Import data from csv files into a dataframe"
   ]
  },
  {
   "cell_type": "code",
   "execution_count": 5,
   "id": "787cce69",
   "metadata": {},
   "outputs": [
    {
     "name": "stdout",
     "output_type": "stream",
     "text": [
      "['Name' 'Coef_a' 'Coef_b' 'Coef_c' 'Coef_d' 'A_site' 'B_site' 'X_site'\n",
      " 'Spacegroup' 'Ehull' 'BulkModulus' 'Energy' 'ZPE' 's_A' 's_B' 's_X'\n",
      " 'density' 'mean_A2B' 'mean_A2X' 'mean_B2X' 'mean_X2X' 'std_A2B' 'std_A2X'\n",
      " 'std_B2X' 'std_X2X' 'E_coh' 'TF' 'OF' 'A_Z' 'B_Z' 'X_Z' 'A_M' 'B_M' 'X_M'\n",
      " 'A_G' 'B_G' 'X_G' 'A_IEI' 'B_IEI' 'X_IEI' 'A_IEII' 'B_IEII' 'X_IEII'\n",
      " 'A_EA' 'B_EA' 'X_EA' 'A_ChiP' 'B_ChiP' 'X_ChiP' 'A_ChiA' 'X_ChiA'\n",
      " 'A_Rvdw' 'B_Rvdw' 'X_Rvdw' 'A_Rc' 'B_Rc' 'X_Rc' 'A_Ra' 'B_Ra' 'X_Ra'\n",
      " 'A_MP' 'B_MP' 'X_MP' 'A_BP' 'B_BP' 'X_BP' 'A_Rho' 'B_Rho' 'A_MV' 'B_MV'\n",
      " 'X_MV' 'A_Hf' 'B_Hf' 'X_Hf' 'A_Hv' 'B_Hv' 'X_Hv' 'A_Kappa' 'B_Kappa'\n",
      " 'X_Kappa' 'A_CvM' 'B_CvM' 'X_CvM' 'A_B' 'B_B' 'X_B' 'A_MendeleevNo'\n",
      " 'B_MendeleevNo' 'X_MendeleevNo']\n"
     ]
    }
   ],
   "source": [
    "data = pd.read_csv('Combined_all_3rd_fit.csv', encoding='cp1252')\n",
    "print(data.columns.values)"
   ]
  },
  {
   "cell_type": "markdown",
   "id": "193419bd",
   "metadata": {},
   "source": [
    "Drop the unnecessary columns and fill the empty cells with zero"
   ]
  },
  {
   "cell_type": "code",
   "execution_count": 6,
   "id": "30a36ba9",
   "metadata": {},
   "outputs": [
    {
     "name": "stdout",
     "output_type": "stream",
     "text": [
      "(80, 77)\n"
     ]
    }
   ],
   "source": [
    "data.drop(['Name', 'A_site', 'B_site', 'X_site', 'Spacegroup','BulkModulus',\n",
    "           'Ehull','Energy','ZPE','Coef_b', 'Coef_c', 'Coef_a'], axis=1, inplace = True)\n",
    "data.fillna(0, inplace= True)\n",
    "d=data.copy()\n",
    "columns = list(d.columns.values)\n",
    "print(d.shape)"
   ]
  },
  {
   "cell_type": "markdown",
   "id": "4bb0c2a1",
   "metadata": {},
   "source": [
    "Set the target variable to machine learn"
   ]
  },
  {
   "cell_type": "code",
   "execution_count": 7,
   "id": "b2817160",
   "metadata": {},
   "outputs": [],
   "source": [
    "target = 'Coef_d'"
   ]
  },
  {
   "cell_type": "markdown",
   "id": "0f98f85e",
   "metadata": {},
   "source": [
    "Define various methods to be used for buildig and validating the models"
   ]
  },
  {
   "cell_type": "code",
   "execution_count": 8,
   "id": "5fa4081a",
   "metadata": {},
   "outputs": [],
   "source": [
    "\"\"\"\n",
    "    Functions to perform scaling\n",
    "    \n",
    "    \"\"\"\n",
    "def standard_scaling(target):\n",
    "    data_std=d.copy()\n",
    "    data_std[columns]= StandardScaler().fit_transform(d[columns])\n",
    "    Y = data_std[target] \n",
    "    X = data_std.drop([target], axis=1)\n",
    "    return X,Y\n",
    "\n",
    "def minmax_scaling(target):\n",
    "    data_mm=d.copy()\n",
    "    data_mm[columns]= MinMaxScaler().fit_transform(d[columns])\n",
    "    Y = data_mm[target] \n",
    "    X = data_mm.drop([target], axis=1)\n",
    "    return X,Y"
   ]
  },
  {
   "cell_type": "code",
   "execution_count": 9,
   "id": "08eda787",
   "metadata": {},
   "outputs": [],
   "source": [
    "\"\"\"\n",
    "    Function to build machine learning models by hyper parameter tuning. It also plots scatter plot\n",
    "    \n",
    "    \"\"\"\n",
    "def build_cv_model(X,Y,b_drop=False,target='Coef_d'):\n",
    "    if b_drop :\n",
    "        correlated_features = [\"A_Rc\",\"A_Ra\",\"A_M\",\"A_MP\",\"A_MV\",\"A_MendeleevNo\",\"A_Hf\",\"A_Hv\",\"B_Rc\",\n",
    "                       \"B_Rvdw\",\"B_M\",\"B_BP\",\"B_MendeleevNo\",\"B_Hv\",\"X_Rc\",\"X_Rvdw\",\"X_M\",\"X_BP\",\"X_MP\",\n",
    "                       \"X_MendeleevNo\",\"X_Hf\",\"X_Hv\",\"X_G\",\"X_B\",\"X_CvM\",\"X_ChiP\"]\n",
    "        X.drop(labels=correlated_features, axis=1, inplace=True)\n",
    "        \n",
    "    print(\"The shape of X is \",X.shape)\n",
    "    \n",
    "    ml_model, cv_results = train_model(X,Y,hyperparams=hyperparams, cv=True, return_cv=True)\n",
    "    \n",
    "    return ml_model"
   ]
  },
  {
   "cell_type": "code",
   "execution_count": 10,
   "id": "835ed0e7",
   "metadata": {},
   "outputs": [],
   "source": [
    "def run_model(X,Y,model,target='Coef_d'):\n",
    "    rmse,r2 = run_cv(model, X, Y, n_cv = 5)\n",
    "    print(\"-----------------------------------------------------\")\n",
    "    print(\"The R2 is \",r2)\n",
    "    print(\"The RMSE is \",rmse)"
   ]
  },
  {
   "cell_type": "code",
   "execution_count": 11,
   "id": "8be0db69",
   "metadata": {},
   "outputs": [],
   "source": [
    "\"\"\"\n",
    "    Function to perform feature elimination using select K best of RFE method. It also prints the \n",
    "    feature scores obtained as:\n",
    "    SelectKBest: The scores obtained from the selector\n",
    "    RFE: The feature importance obtained from the RFR model \n",
    "    \n",
    "    \"\"\"\n",
    "def feature_elimination(X,Y,n,estimator,method='skb'):\n",
    "    if method=='skb':\n",
    "        bestfeatures = SelectKBest(score_func=f_regression, k=10)\n",
    "        fit = bestfeatures.fit(X,Y)\n",
    "        dfscores = pd.DataFrame(fit.scores_)\n",
    "        dfcolumns = pd.DataFrame(X.columns)\n",
    "        #concat two dataframes for better visualization \n",
    "        featureScores = pd.concat([dfcolumns,dfscores],axis=1)\n",
    "        featureScores.columns = ['Feature','Score']  #naming the dataframe columns\n",
    "        X=X[featureScores.nlargest(n,'Score')['Feature'].values]\n",
    "    elif method=='rfe':\n",
    "        selector = RFE(estimator, n_features_to_select=n, step=1)\n",
    "        selector = selector.fit(X, Y)\n",
    "        dfscores = pd.DataFrame(selector.ranking_)\n",
    "        dfcolumns = pd.DataFrame(selector.feature_names_in_)\n",
    "        #concat two dataframes for better visualization \n",
    "        featureSelection = pd.concat([dfcolumns,dfscores],axis=1)\n",
    "        featureSelection.columns = ['Feature','Score']  #naming the dataframe columns\n",
    "        X=X[featureSelection.nsmallest(n,'Score')['Feature'].values]\n",
    "        estimator.fit(X,Y)\n",
    "        importance = pd.DataFrame(estimator.feature_importances_)\n",
    "        featureNames = pd.DataFrame(X.columns.values)\n",
    "        featureScores = pd.concat([featureNames,importance],axis=1)\n",
    "        featureScores.columns = ['Feature','Score']  #naming the dataframe columns\n",
    "        \n",
    "    print(featureScores)\n",
    "    print(\"-----------------------------------------------------\")\n",
    "    return X"
   ]
  },
  {
   "cell_type": "code",
   "execution_count": 12,
   "id": "80a52bcd",
   "metadata": {},
   "outputs": [],
   "source": [
    "def train_model(X, y, hyperparams = None, cv = False, return_cv = False):\n",
    "    \"\"\"\n",
    "    Function to train the ML model on the given data X (features) and y (target property). \n",
    "    If hyperparams argument is passed, all possible combinations of alpha and kernel values\n",
    "    will be tried to find combination with minimum CV error. The final  model is trained\n",
    "    using the fixed kernel and alpha params as determined using CV.\n",
    "    \n",
    "    \"\"\"\n",
    "    \n",
    "    if cv:\n",
    "        cv_results = {'alpha':[],'cv_rmse':[],'cv_r2':[]}\n",
    "        for a in hyperparams['alpha']:\n",
    "\n",
    "            lasso = Lasso(alpha=a)\n",
    "\n",
    "            cv_error, cv_r2 = run_cv(lasso, X, y, n_cv = 5)\n",
    "            cv_results['cv_rmse'].append(cv_error)\n",
    "            cv_results['cv_r2'].append(cv_r2)\n",
    "            cv_results['alpha'].append(a)\n",
    "\n",
    "        cv_results = pd.DataFrame(cv_results)\n",
    "        cv_results = cv_results.sort_values('cv_rmse')\n",
    "        a_opt = cv_results.iloc[0]['alpha']\n",
    "        \n",
    "    else:\n",
    "        a_opt = hyperparams['alpha'][0]\n",
    "\n",
    "    lasso = Lasso(alpha=a_opt)\n",
    "    model = lasso.fit(X,y)\n",
    "    print(\"-----------------------------------------------------\")\n",
    "    print(\"The R2 for \",a_opt,\" is \",cv_results.iloc[0]['cv_r2'])\n",
    "    print(\"The RMSE for \",a_opt,\" is \",cv_results.iloc[0]['cv_rmse'])\n",
    "    return [model, cv_results] if return_cv else model\n",
    "\n",
    "\n",
    "def run_cv(ml_model, X, y, n_cv = 5):\n",
    "    \"\"\"\n",
    "    Function to run Cross-validation\n",
    "    \"\"\"\n",
    "    kf = KFold(n_splits=n_cv,shuffle=True,random_state=50)\n",
    "    y_val = []\n",
    "    y_pred = []\n",
    "\n",
    "    for idx, (train, val) in enumerate(kf.split(X)):\n",
    "        \n",
    "        X_cv_train = X.values[train]\n",
    "        X_cv_val = X.values[val]\n",
    "\n",
    "        y_cv_train = y.values[train]\n",
    "        y_cv_val = y.values[val]    \n",
    "\n",
    "        # Model fit and prediction\n",
    "        model = ml_model.fit(X_cv_train, y_cv_train)\n",
    "        y_pred_val = model.predict(X_cv_val)\n",
    "        \n",
    "        y_val.append(y_cv_val)\n",
    "        y_pred.append(y_pred_val)\n",
    "\n",
    "    # Computing errors\n",
    "    rmse = np.sqrt(mean_squared_error(y_val, y_pred))\n",
    "    r2 = r2_score(y_val, y_pred)\n",
    "    \n",
    "    return rmse, r2"
   ]
  },
  {
   "cell_type": "markdown",
   "id": "5e43d433",
   "metadata": {},
   "source": [
    "Define the hyperparameters to be tuned for the given algorithm"
   ]
  },
  {
   "cell_type": "code",
   "execution_count": 13,
   "id": "bffb2010",
   "metadata": {},
   "outputs": [],
   "source": [
    "hyperparams={'alpha': [0.0001,0.0005,0.001,0.005,0.01,0.02,0.05,0.1,1,2,4,8]}"
   ]
  },
  {
   "cell_type": "markdown",
   "id": "50ef316a",
   "metadata": {},
   "source": [
    "## Without scaling"
   ]
  },
  {
   "cell_type": "code",
   "execution_count": 14,
   "id": "68802fe0",
   "metadata": {},
   "outputs": [],
   "source": [
    "data_std=d.copy()\n",
    "Y = data_std[target] \n",
    "X = data_std.drop([target], axis=1)"
   ]
  },
  {
   "cell_type": "code",
   "execution_count": 15,
   "id": "090acf26",
   "metadata": {},
   "outputs": [
    {
     "name": "stdout",
     "output_type": "stream",
     "text": [
      "The shape of X is  (80, 76)\n"
     ]
    },
    {
     "name": "stderr",
     "output_type": "stream",
     "text": [
      "/Users/krishnarajmayya/opt/anaconda3/lib/python3.9/site-packages/sklearn/linear_model/_coordinate_descent.py:647: ConvergenceWarning: Objective did not converge. You might want to increase the number of iterations, check the scale of the features or consider increasing regularisation. Duality gap: 1.189e+01, tolerance: 7.327e-01\n",
      "  model = cd_fast.enet_coordinate_descent(\n",
      "/Users/krishnarajmayya/opt/anaconda3/lib/python3.9/site-packages/sklearn/linear_model/_coordinate_descent.py:647: ConvergenceWarning: Objective did not converge. You might want to increase the number of iterations, check the scale of the features or consider increasing regularisation. Duality gap: 1.175e+01, tolerance: 8.288e-01\n",
      "  model = cd_fast.enet_coordinate_descent(\n",
      "/Users/krishnarajmayya/opt/anaconda3/lib/python3.9/site-packages/sklearn/linear_model/_coordinate_descent.py:647: ConvergenceWarning: Objective did not converge. You might want to increase the number of iterations, check the scale of the features or consider increasing regularisation. Duality gap: 1.690e+01, tolerance: 7.237e-01\n",
      "  model = cd_fast.enet_coordinate_descent(\n",
      "/Users/krishnarajmayya/opt/anaconda3/lib/python3.9/site-packages/sklearn/linear_model/_coordinate_descent.py:647: ConvergenceWarning: Objective did not converge. You might want to increase the number of iterations, check the scale of the features or consider increasing regularisation. Duality gap: 1.285e+01, tolerance: 6.213e-01\n",
      "  model = cd_fast.enet_coordinate_descent(\n",
      "/Users/krishnarajmayya/opt/anaconda3/lib/python3.9/site-packages/sklearn/linear_model/_coordinate_descent.py:647: ConvergenceWarning: Objective did not converge. You might want to increase the number of iterations, check the scale of the features or consider increasing regularisation. Duality gap: 9.555e+00, tolerance: 7.884e-01\n",
      "  model = cd_fast.enet_coordinate_descent(\n",
      "/Users/krishnarajmayya/opt/anaconda3/lib/python3.9/site-packages/sklearn/linear_model/_coordinate_descent.py:647: ConvergenceWarning: Objective did not converge. You might want to increase the number of iterations, check the scale of the features or consider increasing regularisation. Duality gap: 1.637e+01, tolerance: 7.327e-01\n",
      "  model = cd_fast.enet_coordinate_descent(\n",
      "/Users/krishnarajmayya/opt/anaconda3/lib/python3.9/site-packages/sklearn/linear_model/_coordinate_descent.py:647: ConvergenceWarning: Objective did not converge. You might want to increase the number of iterations, check the scale of the features or consider increasing regularisation. Duality gap: 1.481e+01, tolerance: 8.288e-01\n",
      "  model = cd_fast.enet_coordinate_descent(\n",
      "/Users/krishnarajmayya/opt/anaconda3/lib/python3.9/site-packages/sklearn/linear_model/_coordinate_descent.py:647: ConvergenceWarning: Objective did not converge. You might want to increase the number of iterations, check the scale of the features or consider increasing regularisation. Duality gap: 1.994e+01, tolerance: 7.237e-01\n",
      "  model = cd_fast.enet_coordinate_descent(\n",
      "/Users/krishnarajmayya/opt/anaconda3/lib/python3.9/site-packages/sklearn/linear_model/_coordinate_descent.py:647: ConvergenceWarning: Objective did not converge. You might want to increase the number of iterations, check the scale of the features or consider increasing regularisation. Duality gap: 1.636e+01, tolerance: 6.213e-01\n",
      "  model = cd_fast.enet_coordinate_descent(\n",
      "/Users/krishnarajmayya/opt/anaconda3/lib/python3.9/site-packages/sklearn/linear_model/_coordinate_descent.py:647: ConvergenceWarning: Objective did not converge. You might want to increase the number of iterations, check the scale of the features or consider increasing regularisation. Duality gap: 1.410e+01, tolerance: 7.884e-01\n",
      "  model = cd_fast.enet_coordinate_descent(\n",
      "/Users/krishnarajmayya/opt/anaconda3/lib/python3.9/site-packages/sklearn/linear_model/_coordinate_descent.py:647: ConvergenceWarning: Objective did not converge. You might want to increase the number of iterations, check the scale of the features or consider increasing regularisation. Duality gap: 2.035e+01, tolerance: 7.327e-01\n",
      "  model = cd_fast.enet_coordinate_descent(\n",
      "/Users/krishnarajmayya/opt/anaconda3/lib/python3.9/site-packages/sklearn/linear_model/_coordinate_descent.py:647: ConvergenceWarning: Objective did not converge. You might want to increase the number of iterations, check the scale of the features or consider increasing regularisation. Duality gap: 1.760e+01, tolerance: 8.288e-01\n",
      "  model = cd_fast.enet_coordinate_descent(\n",
      "/Users/krishnarajmayya/opt/anaconda3/lib/python3.9/site-packages/sklearn/linear_model/_coordinate_descent.py:647: ConvergenceWarning: Objective did not converge. You might want to increase the number of iterations, check the scale of the features or consider increasing regularisation. Duality gap: 2.261e+01, tolerance: 7.237e-01\n",
      "  model = cd_fast.enet_coordinate_descent(\n",
      "/Users/krishnarajmayya/opt/anaconda3/lib/python3.9/site-packages/sklearn/linear_model/_coordinate_descent.py:647: ConvergenceWarning: Objective did not converge. You might want to increase the number of iterations, check the scale of the features or consider increasing regularisation. Duality gap: 1.914e+01, tolerance: 6.213e-01\n",
      "  model = cd_fast.enet_coordinate_descent(\n",
      "/Users/krishnarajmayya/opt/anaconda3/lib/python3.9/site-packages/sklearn/linear_model/_coordinate_descent.py:647: ConvergenceWarning: Objective did not converge. You might want to increase the number of iterations, check the scale of the features or consider increasing regularisation. Duality gap: 1.838e+01, tolerance: 7.884e-01\n",
      "  model = cd_fast.enet_coordinate_descent(\n",
      "/Users/krishnarajmayya/opt/anaconda3/lib/python3.9/site-packages/sklearn/linear_model/_coordinate_descent.py:647: ConvergenceWarning: Objective did not converge. You might want to increase the number of iterations, check the scale of the features or consider increasing regularisation. Duality gap: 3.830e+01, tolerance: 7.327e-01\n",
      "  model = cd_fast.enet_coordinate_descent(\n",
      "/Users/krishnarajmayya/opt/anaconda3/lib/python3.9/site-packages/sklearn/linear_model/_coordinate_descent.py:647: ConvergenceWarning: Objective did not converge. You might want to increase the number of iterations, check the scale of the features or consider increasing regularisation. Duality gap: 2.902e+01, tolerance: 8.288e-01\n",
      "  model = cd_fast.enet_coordinate_descent(\n",
      "/Users/krishnarajmayya/opt/anaconda3/lib/python3.9/site-packages/sklearn/linear_model/_coordinate_descent.py:647: ConvergenceWarning: Objective did not converge. You might want to increase the number of iterations, check the scale of the features or consider increasing regularisation. Duality gap: 3.615e+01, tolerance: 7.237e-01\n",
      "  model = cd_fast.enet_coordinate_descent(\n",
      "/Users/krishnarajmayya/opt/anaconda3/lib/python3.9/site-packages/sklearn/linear_model/_coordinate_descent.py:647: ConvergenceWarning: Objective did not converge. You might want to increase the number of iterations, check the scale of the features or consider increasing regularisation. Duality gap: 3.415e+01, tolerance: 6.213e-01\n",
      "  model = cd_fast.enet_coordinate_descent(\n",
      "/Users/krishnarajmayya/opt/anaconda3/lib/python3.9/site-packages/sklearn/linear_model/_coordinate_descent.py:647: ConvergenceWarning: Objective did not converge. You might want to increase the number of iterations, check the scale of the features or consider increasing regularisation. Duality gap: 3.350e+01, tolerance: 7.884e-01\n",
      "  model = cd_fast.enet_coordinate_descent(\n",
      "/Users/krishnarajmayya/opt/anaconda3/lib/python3.9/site-packages/sklearn/linear_model/_coordinate_descent.py:647: ConvergenceWarning: Objective did not converge. You might want to increase the number of iterations, check the scale of the features or consider increasing regularisation. Duality gap: 5.232e+01, tolerance: 7.327e-01\n",
      "  model = cd_fast.enet_coordinate_descent(\n",
      "/Users/krishnarajmayya/opt/anaconda3/lib/python3.9/site-packages/sklearn/linear_model/_coordinate_descent.py:647: ConvergenceWarning: Objective did not converge. You might want to increase the number of iterations, check the scale of the features or consider increasing regularisation. Duality gap: 3.665e+01, tolerance: 8.288e-01\n",
      "  model = cd_fast.enet_coordinate_descent(\n",
      "/Users/krishnarajmayya/opt/anaconda3/lib/python3.9/site-packages/sklearn/linear_model/_coordinate_descent.py:647: ConvergenceWarning: Objective did not converge. You might want to increase the number of iterations, check the scale of the features or consider increasing regularisation. Duality gap: 4.485e+01, tolerance: 7.237e-01\n",
      "  model = cd_fast.enet_coordinate_descent(\n",
      "/Users/krishnarajmayya/opt/anaconda3/lib/python3.9/site-packages/sklearn/linear_model/_coordinate_descent.py:647: ConvergenceWarning: Objective did not converge. You might want to increase the number of iterations, check the scale of the features or consider increasing regularisation. Duality gap: 4.780e+01, tolerance: 6.213e-01\n",
      "  model = cd_fast.enet_coordinate_descent(\n",
      "/Users/krishnarajmayya/opt/anaconda3/lib/python3.9/site-packages/sklearn/linear_model/_coordinate_descent.py:647: ConvergenceWarning: Objective did not converge. You might want to increase the number of iterations, check the scale of the features or consider increasing regularisation. Duality gap: 4.285e+01, tolerance: 7.884e-01\n",
      "  model = cd_fast.enet_coordinate_descent(\n"
     ]
    },
    {
     "name": "stdout",
     "output_type": "stream",
     "text": [
      "-----------------------------------------------------\n",
      "The R2 for  2.0  is  0.7809445553631749\n",
      "The RMSE for  2.0  is  2.8130023470842374\n"
     ]
    },
    {
     "name": "stderr",
     "output_type": "stream",
     "text": [
      "/Users/krishnarajmayya/opt/anaconda3/lib/python3.9/site-packages/sklearn/linear_model/_coordinate_descent.py:647: ConvergenceWarning: Objective did not converge. You might want to increase the number of iterations, check the scale of the features or consider increasing regularisation. Duality gap: 6.529e+01, tolerance: 7.327e-01\n",
      "  model = cd_fast.enet_coordinate_descent(\n",
      "/Users/krishnarajmayya/opt/anaconda3/lib/python3.9/site-packages/sklearn/linear_model/_coordinate_descent.py:647: ConvergenceWarning: Objective did not converge. You might want to increase the number of iterations, check the scale of the features or consider increasing regularisation. Duality gap: 4.359e+01, tolerance: 8.288e-01\n",
      "  model = cd_fast.enet_coordinate_descent(\n",
      "/Users/krishnarajmayya/opt/anaconda3/lib/python3.9/site-packages/sklearn/linear_model/_coordinate_descent.py:647: ConvergenceWarning: Objective did not converge. You might want to increase the number of iterations, check the scale of the features or consider increasing regularisation. Duality gap: 5.712e+01, tolerance: 7.237e-01\n",
      "  model = cd_fast.enet_coordinate_descent(\n",
      "/Users/krishnarajmayya/opt/anaconda3/lib/python3.9/site-packages/sklearn/linear_model/_coordinate_descent.py:647: ConvergenceWarning: Objective did not converge. You might want to increase the number of iterations, check the scale of the features or consider increasing regularisation. Duality gap: 6.423e+01, tolerance: 6.213e-01\n",
      "  model = cd_fast.enet_coordinate_descent(\n",
      "/Users/krishnarajmayya/opt/anaconda3/lib/python3.9/site-packages/sklearn/linear_model/_coordinate_descent.py:647: ConvergenceWarning: Objective did not converge. You might want to increase the number of iterations, check the scale of the features or consider increasing regularisation. Duality gap: 5.235e+01, tolerance: 7.884e-01\n",
      "  model = cd_fast.enet_coordinate_descent(\n",
      "/Users/krishnarajmayya/opt/anaconda3/lib/python3.9/site-packages/sklearn/linear_model/_coordinate_descent.py:647: ConvergenceWarning: Objective did not converge. You might want to increase the number of iterations, check the scale of the features or consider increasing regularisation. Duality gap: 7.960e+01, tolerance: 7.327e-01\n",
      "  model = cd_fast.enet_coordinate_descent(\n",
      "/Users/krishnarajmayya/opt/anaconda3/lib/python3.9/site-packages/sklearn/linear_model/_coordinate_descent.py:647: ConvergenceWarning: Objective did not converge. You might want to increase the number of iterations, check the scale of the features or consider increasing regularisation. Duality gap: 5.180e+01, tolerance: 8.288e-01\n",
      "  model = cd_fast.enet_coordinate_descent(\n",
      "/Users/krishnarajmayya/opt/anaconda3/lib/python3.9/site-packages/sklearn/linear_model/_coordinate_descent.py:647: ConvergenceWarning: Objective did not converge. You might want to increase the number of iterations, check the scale of the features or consider increasing regularisation. Duality gap: 7.499e+01, tolerance: 7.237e-01\n",
      "  model = cd_fast.enet_coordinate_descent(\n",
      "/Users/krishnarajmayya/opt/anaconda3/lib/python3.9/site-packages/sklearn/linear_model/_coordinate_descent.py:647: ConvergenceWarning: Objective did not converge. You might want to increase the number of iterations, check the scale of the features or consider increasing regularisation. Duality gap: 8.007e+01, tolerance: 6.213e-01\n",
      "  model = cd_fast.enet_coordinate_descent(\n",
      "/Users/krishnarajmayya/opt/anaconda3/lib/python3.9/site-packages/sklearn/linear_model/_coordinate_descent.py:647: ConvergenceWarning: Objective did not converge. You might want to increase the number of iterations, check the scale of the features or consider increasing regularisation. Duality gap: 6.584e+01, tolerance: 7.884e-01\n",
      "  model = cd_fast.enet_coordinate_descent(\n",
      "/Users/krishnarajmayya/opt/anaconda3/lib/python3.9/site-packages/sklearn/linear_model/_coordinate_descent.py:647: ConvergenceWarning: Objective did not converge. You might want to increase the number of iterations, check the scale of the features or consider increasing regularisation. Duality gap: 7.747e+01, tolerance: 7.327e-01\n",
      "  model = cd_fast.enet_coordinate_descent(\n",
      "/Users/krishnarajmayya/opt/anaconda3/lib/python3.9/site-packages/sklearn/linear_model/_coordinate_descent.py:647: ConvergenceWarning: Objective did not converge. You might want to increase the number of iterations, check the scale of the features or consider increasing regularisation. Duality gap: 6.491e+01, tolerance: 8.288e-01\n",
      "  model = cd_fast.enet_coordinate_descent(\n",
      "/Users/krishnarajmayya/opt/anaconda3/lib/python3.9/site-packages/sklearn/linear_model/_coordinate_descent.py:647: ConvergenceWarning: Objective did not converge. You might want to increase the number of iterations, check the scale of the features or consider increasing regularisation. Duality gap: 8.599e+01, tolerance: 7.237e-01\n",
      "  model = cd_fast.enet_coordinate_descent(\n",
      "/Users/krishnarajmayya/opt/anaconda3/lib/python3.9/site-packages/sklearn/linear_model/_coordinate_descent.py:647: ConvergenceWarning: Objective did not converge. You might want to increase the number of iterations, check the scale of the features or consider increasing regularisation. Duality gap: 6.882e+01, tolerance: 6.213e-01\n",
      "  model = cd_fast.enet_coordinate_descent(\n",
      "/Users/krishnarajmayya/opt/anaconda3/lib/python3.9/site-packages/sklearn/linear_model/_coordinate_descent.py:647: ConvergenceWarning: Objective did not converge. You might want to increase the number of iterations, check the scale of the features or consider increasing regularisation. Duality gap: 5.800e+01, tolerance: 7.884e-01\n",
      "  model = cd_fast.enet_coordinate_descent(\n"
     ]
    }
   ],
   "source": [
    "ml_model=build_cv_model(X,Y,False,target)"
   ]
  },
  {
   "cell_type": "markdown",
   "id": "62ea41f3",
   "metadata": {},
   "source": [
    "### Drop correlated features"
   ]
  },
  {
   "cell_type": "code",
   "execution_count": 16,
   "id": "26950d24",
   "metadata": {},
   "outputs": [
    {
     "name": "stderr",
     "output_type": "stream",
     "text": [
      "/Users/krishnarajmayya/opt/anaconda3/lib/python3.9/site-packages/sklearn/linear_model/_coordinate_descent.py:647: ConvergenceWarning: Objective did not converge. You might want to increase the number of iterations, check the scale of the features or consider increasing regularisation. Duality gap: 3.034e+01, tolerance: 7.327e-01\n",
      "  model = cd_fast.enet_coordinate_descent(\n",
      "/Users/krishnarajmayya/opt/anaconda3/lib/python3.9/site-packages/sklearn/linear_model/_coordinate_descent.py:647: ConvergenceWarning: Objective did not converge. You might want to increase the number of iterations, check the scale of the features or consider increasing regularisation. Duality gap: 1.958e+01, tolerance: 8.288e-01\n",
      "  model = cd_fast.enet_coordinate_descent(\n",
      "/Users/krishnarajmayya/opt/anaconda3/lib/python3.9/site-packages/sklearn/linear_model/_coordinate_descent.py:647: ConvergenceWarning: Objective did not converge. You might want to increase the number of iterations, check the scale of the features or consider increasing regularisation. Duality gap: 3.310e+01, tolerance: 7.237e-01\n",
      "  model = cd_fast.enet_coordinate_descent(\n",
      "/Users/krishnarajmayya/opt/anaconda3/lib/python3.9/site-packages/sklearn/linear_model/_coordinate_descent.py:647: ConvergenceWarning: Objective did not converge. You might want to increase the number of iterations, check the scale of the features or consider increasing regularisation. Duality gap: 2.013e+01, tolerance: 6.213e-01\n",
      "  model = cd_fast.enet_coordinate_descent(\n",
      "/Users/krishnarajmayya/opt/anaconda3/lib/python3.9/site-packages/sklearn/linear_model/_coordinate_descent.py:647: ConvergenceWarning: Objective did not converge. You might want to increase the number of iterations, check the scale of the features or consider increasing regularisation. Duality gap: 3.104e+01, tolerance: 7.884e-01\n",
      "  model = cd_fast.enet_coordinate_descent(\n",
      "/Users/krishnarajmayya/opt/anaconda3/lib/python3.9/site-packages/sklearn/linear_model/_coordinate_descent.py:647: ConvergenceWarning: Objective did not converge. You might want to increase the number of iterations, check the scale of the features or consider increasing regularisation. Duality gap: 3.458e+01, tolerance: 7.327e-01\n",
      "  model = cd_fast.enet_coordinate_descent(\n",
      "/Users/krishnarajmayya/opt/anaconda3/lib/python3.9/site-packages/sklearn/linear_model/_coordinate_descent.py:647: ConvergenceWarning: Objective did not converge. You might want to increase the number of iterations, check the scale of the features or consider increasing regularisation. Duality gap: 2.331e+01, tolerance: 8.288e-01\n",
      "  model = cd_fast.enet_coordinate_descent(\n",
      "/Users/krishnarajmayya/opt/anaconda3/lib/python3.9/site-packages/sklearn/linear_model/_coordinate_descent.py:647: ConvergenceWarning: Objective did not converge. You might want to increase the number of iterations, check the scale of the features or consider increasing regularisation. Duality gap: 3.883e+01, tolerance: 7.237e-01\n",
      "  model = cd_fast.enet_coordinate_descent(\n"
     ]
    },
    {
     "name": "stdout",
     "output_type": "stream",
     "text": [
      "The shape of X is  (80, 50)\n"
     ]
    },
    {
     "name": "stderr",
     "output_type": "stream",
     "text": [
      "/Users/krishnarajmayya/opt/anaconda3/lib/python3.9/site-packages/sklearn/linear_model/_coordinate_descent.py:647: ConvergenceWarning: Objective did not converge. You might want to increase the number of iterations, check the scale of the features or consider increasing regularisation. Duality gap: 2.324e+01, tolerance: 6.213e-01\n",
      "  model = cd_fast.enet_coordinate_descent(\n",
      "/Users/krishnarajmayya/opt/anaconda3/lib/python3.9/site-packages/sklearn/linear_model/_coordinate_descent.py:647: ConvergenceWarning: Objective did not converge. You might want to increase the number of iterations, check the scale of the features or consider increasing regularisation. Duality gap: 3.526e+01, tolerance: 7.884e-01\n",
      "  model = cd_fast.enet_coordinate_descent(\n",
      "/Users/krishnarajmayya/opt/anaconda3/lib/python3.9/site-packages/sklearn/linear_model/_coordinate_descent.py:647: ConvergenceWarning: Objective did not converge. You might want to increase the number of iterations, check the scale of the features or consider increasing regularisation. Duality gap: 3.881e+01, tolerance: 7.327e-01\n",
      "  model = cd_fast.enet_coordinate_descent(\n",
      "/Users/krishnarajmayya/opt/anaconda3/lib/python3.9/site-packages/sklearn/linear_model/_coordinate_descent.py:647: ConvergenceWarning: Objective did not converge. You might want to increase the number of iterations, check the scale of the features or consider increasing regularisation. Duality gap: 2.671e+01, tolerance: 8.288e-01\n",
      "  model = cd_fast.enet_coordinate_descent(\n",
      "/Users/krishnarajmayya/opt/anaconda3/lib/python3.9/site-packages/sklearn/linear_model/_coordinate_descent.py:647: ConvergenceWarning: Objective did not converge. You might want to increase the number of iterations, check the scale of the features or consider increasing regularisation. Duality gap: 4.480e+01, tolerance: 7.237e-01\n",
      "  model = cd_fast.enet_coordinate_descent(\n",
      "/Users/krishnarajmayya/opt/anaconda3/lib/python3.9/site-packages/sklearn/linear_model/_coordinate_descent.py:647: ConvergenceWarning: Objective did not converge. You might want to increase the number of iterations, check the scale of the features or consider increasing regularisation. Duality gap: 2.631e+01, tolerance: 6.213e-01\n",
      "  model = cd_fast.enet_coordinate_descent(\n",
      "/Users/krishnarajmayya/opt/anaconda3/lib/python3.9/site-packages/sklearn/linear_model/_coordinate_descent.py:647: ConvergenceWarning: Objective did not converge. You might want to increase the number of iterations, check the scale of the features or consider increasing regularisation. Duality gap: 3.917e+01, tolerance: 7.884e-01\n",
      "  model = cd_fast.enet_coordinate_descent(\n",
      "/Users/krishnarajmayya/opt/anaconda3/lib/python3.9/site-packages/sklearn/linear_model/_coordinate_descent.py:647: ConvergenceWarning: Objective did not converge. You might want to increase the number of iterations, check the scale of the features or consider increasing regularisation. Duality gap: 5.667e+01, tolerance: 7.327e-01\n",
      "  model = cd_fast.enet_coordinate_descent(\n",
      "/Users/krishnarajmayya/opt/anaconda3/lib/python3.9/site-packages/sklearn/linear_model/_coordinate_descent.py:647: ConvergenceWarning: Objective did not converge. You might want to increase the number of iterations, check the scale of the features or consider increasing regularisation. Duality gap: 4.222e+01, tolerance: 8.288e-01\n",
      "  model = cd_fast.enet_coordinate_descent(\n",
      "/Users/krishnarajmayya/opt/anaconda3/lib/python3.9/site-packages/sklearn/linear_model/_coordinate_descent.py:647: ConvergenceWarning: Objective did not converge. You might want to increase the number of iterations, check the scale of the features or consider increasing regularisation. Duality gap: 6.519e+01, tolerance: 7.237e-01\n",
      "  model = cd_fast.enet_coordinate_descent(\n",
      "/Users/krishnarajmayya/opt/anaconda3/lib/python3.9/site-packages/sklearn/linear_model/_coordinate_descent.py:647: ConvergenceWarning: Objective did not converge. You might want to increase the number of iterations, check the scale of the features or consider increasing regularisation. Duality gap: 4.338e+01, tolerance: 6.213e-01\n",
      "  model = cd_fast.enet_coordinate_descent(\n",
      "/Users/krishnarajmayya/opt/anaconda3/lib/python3.9/site-packages/sklearn/linear_model/_coordinate_descent.py:647: ConvergenceWarning: Objective did not converge. You might want to increase the number of iterations, check the scale of the features or consider increasing regularisation. Duality gap: 5.448e+01, tolerance: 7.884e-01\n",
      "  model = cd_fast.enet_coordinate_descent(\n",
      "/Users/krishnarajmayya/opt/anaconda3/lib/python3.9/site-packages/sklearn/linear_model/_coordinate_descent.py:647: ConvergenceWarning: Objective did not converge. You might want to increase the number of iterations, check the scale of the features or consider increasing regularisation. Duality gap: 7.186e+01, tolerance: 7.327e-01\n",
      "  model = cd_fast.enet_coordinate_descent(\n",
      "/Users/krishnarajmayya/opt/anaconda3/lib/python3.9/site-packages/sklearn/linear_model/_coordinate_descent.py:647: ConvergenceWarning: Objective did not converge. You might want to increase the number of iterations, check the scale of the features or consider increasing regularisation. Duality gap: 4.058e+01, tolerance: 8.288e-01\n",
      "  model = cd_fast.enet_coordinate_descent(\n",
      "/Users/krishnarajmayya/opt/anaconda3/lib/python3.9/site-packages/sklearn/linear_model/_coordinate_descent.py:647: ConvergenceWarning: Objective did not converge. You might want to increase the number of iterations, check the scale of the features or consider increasing regularisation. Duality gap: 6.743e+01, tolerance: 7.237e-01\n",
      "  model = cd_fast.enet_coordinate_descent(\n",
      "/Users/krishnarajmayya/opt/anaconda3/lib/python3.9/site-packages/sklearn/linear_model/_coordinate_descent.py:647: ConvergenceWarning: Objective did not converge. You might want to increase the number of iterations, check the scale of the features or consider increasing regularisation. Duality gap: 5.913e+01, tolerance: 6.213e-01\n",
      "  model = cd_fast.enet_coordinate_descent(\n",
      "/Users/krishnarajmayya/opt/anaconda3/lib/python3.9/site-packages/sklearn/linear_model/_coordinate_descent.py:647: ConvergenceWarning: Objective did not converge. You might want to increase the number of iterations, check the scale of the features or consider increasing regularisation. Duality gap: 6.671e+01, tolerance: 7.884e-01\n",
      "  model = cd_fast.enet_coordinate_descent(\n",
      "/Users/krishnarajmayya/opt/anaconda3/lib/python3.9/site-packages/sklearn/linear_model/_coordinate_descent.py:647: ConvergenceWarning: Objective did not converge. You might want to increase the number of iterations, check the scale of the features or consider increasing regularisation. Duality gap: 7.730e+01, tolerance: 7.327e-01\n",
      "  model = cd_fast.enet_coordinate_descent(\n",
      "/Users/krishnarajmayya/opt/anaconda3/lib/python3.9/site-packages/sklearn/linear_model/_coordinate_descent.py:647: ConvergenceWarning: Objective did not converge. You might want to increase the number of iterations, check the scale of the features or consider increasing regularisation. Duality gap: 3.189e+01, tolerance: 8.288e-01\n",
      "  model = cd_fast.enet_coordinate_descent(\n",
      "/Users/krishnarajmayya/opt/anaconda3/lib/python3.9/site-packages/sklearn/linear_model/_coordinate_descent.py:647: ConvergenceWarning: Objective did not converge. You might want to increase the number of iterations, check the scale of the features or consider increasing regularisation. Duality gap: 2.610e+01, tolerance: 7.237e-01\n",
      "  model = cd_fast.enet_coordinate_descent(\n",
      "/Users/krishnarajmayya/opt/anaconda3/lib/python3.9/site-packages/sklearn/linear_model/_coordinate_descent.py:647: ConvergenceWarning: Objective did not converge. You might want to increase the number of iterations, check the scale of the features or consider increasing regularisation. Duality gap: 7.451e+01, tolerance: 6.213e-01\n",
      "  model = cd_fast.enet_coordinate_descent(\n",
      "/Users/krishnarajmayya/opt/anaconda3/lib/python3.9/site-packages/sklearn/linear_model/_coordinate_descent.py:647: ConvergenceWarning: Objective did not converge. You might want to increase the number of iterations, check the scale of the features or consider increasing regularisation. Duality gap: 3.587e+01, tolerance: 7.884e-01\n",
      "  model = cd_fast.enet_coordinate_descent(\n",
      "/Users/krishnarajmayya/opt/anaconda3/lib/python3.9/site-packages/sklearn/linear_model/_coordinate_descent.py:647: ConvergenceWarning: Objective did not converge. You might want to increase the number of iterations, check the scale of the features or consider increasing regularisation. Duality gap: 7.973e+01, tolerance: 7.327e-01\n",
      "  model = cd_fast.enet_coordinate_descent(\n",
      "/Users/krishnarajmayya/opt/anaconda3/lib/python3.9/site-packages/sklearn/linear_model/_coordinate_descent.py:647: ConvergenceWarning: Objective did not converge. You might want to increase the number of iterations, check the scale of the features or consider increasing regularisation. Duality gap: 2.745e+00, tolerance: 6.213e-01\n",
      "  model = cd_fast.enet_coordinate_descent(\n"
     ]
    },
    {
     "name": "stdout",
     "output_type": "stream",
     "text": [
      "-----------------------------------------------------\n",
      "The R2 for  0.1  is  0.7771946806957974\n",
      "The RMSE for  0.1  is  3.1684067952639765\n"
     ]
    }
   ],
   "source": [
    "ml_model_prime=build_cv_model(X,Y,True,target)"
   ]
  },
  {
   "cell_type": "markdown",
   "id": "f0b36718",
   "metadata": {},
   "source": [
    "### Feature elimination"
   ]
  },
  {
   "cell_type": "code",
   "execution_count": 17,
   "id": "a6b5dd6b",
   "metadata": {},
   "outputs": [
    {
     "name": "stdout",
     "output_type": "stream",
     "text": [
      "     Feature      Score\n",
      "0        s_A  29.880346\n",
      "1        s_B  61.964962\n",
      "2        s_X  43.799906\n",
      "3    density   1.191452\n",
      "4   mean_A2B  47.874859\n",
      "5   mean_A2X  22.081705\n",
      "6   mean_B2X   0.045034\n",
      "7   mean_X2X  33.902649\n",
      "8    std_A2B   7.106288\n",
      "9    std_A2X  12.236469\n",
      "10   std_B2X  16.266083\n",
      "11   std_X2X   5.427746\n",
      "12     E_coh  11.792747\n",
      "13        TF   7.008817\n",
      "14        OF  19.424616\n",
      "15       A_Z   5.970007\n",
      "16       B_Z  20.419989\n",
      "17       X_Z  57.414810\n",
      "18       A_G   3.457040\n",
      "19       B_G   0.902234\n",
      "20     A_IEI  23.950524\n",
      "21     B_IEI   0.055573\n",
      "22     X_IEI   0.848306\n",
      "23    A_IEII   0.385163\n",
      "24    B_IEII   2.519527\n",
      "25    X_IEII  55.097923\n",
      "26      A_EA  12.192466\n",
      "27      B_EA   1.411509\n",
      "28      X_EA  95.250147\n",
      "29    A_ChiP  11.872273\n",
      "30    B_ChiP   0.622186\n",
      "31    A_ChiA  15.842395\n",
      "32    X_ChiA   0.005879\n",
      "33    A_Rvdw  27.535795\n",
      "34      B_Ra  24.230307\n",
      "35      X_Ra  67.173814\n",
      "36      B_MP  10.539184\n",
      "37      A_BP   8.076791\n",
      "38     A_Rho   0.830238\n",
      "39     B_Rho   8.929870\n",
      "40      B_MV   7.166166\n",
      "41      X_MV   7.709740\n",
      "42      B_Hf  21.205026\n",
      "43   A_Kappa   5.590909\n",
      "44   B_Kappa   1.742806\n",
      "45   X_Kappa   2.297719\n",
      "46     A_CvM   3.585042\n",
      "47     B_CvM  10.158055\n",
      "48       A_B   3.534708\n",
      "49       B_B   1.964270\n",
      "-----------------------------------------------------\n",
      "The shape of X is  (80, 40)\n",
      "-----------------------------------------------------\n",
      "The R2 for  0.1  is  0.765213339697151\n",
      "The RMSE for  0.1  is  3.3402853453130974\n",
      "-----------------------------------------------------\n",
      "The R2 is  0.765213339697151\n",
      "The RMSE is  3.3402853453130974\n"
     ]
    },
    {
     "name": "stderr",
     "output_type": "stream",
     "text": [
      "/Users/krishnarajmayya/opt/anaconda3/lib/python3.9/site-packages/sklearn/linear_model/_coordinate_descent.py:647: ConvergenceWarning: Objective did not converge. You might want to increase the number of iterations, check the scale of the features or consider increasing regularisation. Duality gap: 6.452e+01, tolerance: 7.327e-01\n",
      "  model = cd_fast.enet_coordinate_descent(\n",
      "/Users/krishnarajmayya/opt/anaconda3/lib/python3.9/site-packages/sklearn/linear_model/_coordinate_descent.py:647: ConvergenceWarning: Objective did not converge. You might want to increase the number of iterations, check the scale of the features or consider increasing regularisation. Duality gap: 4.563e+01, tolerance: 8.288e-01\n",
      "  model = cd_fast.enet_coordinate_descent(\n",
      "/Users/krishnarajmayya/opt/anaconda3/lib/python3.9/site-packages/sklearn/linear_model/_coordinate_descent.py:647: ConvergenceWarning: Objective did not converge. You might want to increase the number of iterations, check the scale of the features or consider increasing regularisation. Duality gap: 6.635e+01, tolerance: 7.237e-01\n",
      "  model = cd_fast.enet_coordinate_descent(\n",
      "/Users/krishnarajmayya/opt/anaconda3/lib/python3.9/site-packages/sklearn/linear_model/_coordinate_descent.py:647: ConvergenceWarning: Objective did not converge. You might want to increase the number of iterations, check the scale of the features or consider increasing regularisation. Duality gap: 3.745e+01, tolerance: 6.213e-01\n",
      "  model = cd_fast.enet_coordinate_descent(\n",
      "/Users/krishnarajmayya/opt/anaconda3/lib/python3.9/site-packages/sklearn/linear_model/_coordinate_descent.py:647: ConvergenceWarning: Objective did not converge. You might want to increase the number of iterations, check the scale of the features or consider increasing regularisation. Duality gap: 5.691e+01, tolerance: 7.884e-01\n",
      "  model = cd_fast.enet_coordinate_descent(\n",
      "/Users/krishnarajmayya/opt/anaconda3/lib/python3.9/site-packages/sklearn/linear_model/_coordinate_descent.py:647: ConvergenceWarning: Objective did not converge. You might want to increase the number of iterations, check the scale of the features or consider increasing regularisation. Duality gap: 6.911e+01, tolerance: 7.327e-01\n",
      "  model = cd_fast.enet_coordinate_descent(\n",
      "/Users/krishnarajmayya/opt/anaconda3/lib/python3.9/site-packages/sklearn/linear_model/_coordinate_descent.py:647: ConvergenceWarning: Objective did not converge. You might want to increase the number of iterations, check the scale of the features or consider increasing regularisation. Duality gap: 5.141e+01, tolerance: 8.288e-01\n",
      "  model = cd_fast.enet_coordinate_descent(\n",
      "/Users/krishnarajmayya/opt/anaconda3/lib/python3.9/site-packages/sklearn/linear_model/_coordinate_descent.py:647: ConvergenceWarning: Objective did not converge. You might want to increase the number of iterations, check the scale of the features or consider increasing regularisation. Duality gap: 7.293e+01, tolerance: 7.237e-01\n",
      "  model = cd_fast.enet_coordinate_descent(\n",
      "/Users/krishnarajmayya/opt/anaconda3/lib/python3.9/site-packages/sklearn/linear_model/_coordinate_descent.py:647: ConvergenceWarning: Objective did not converge. You might want to increase the number of iterations, check the scale of the features or consider increasing regularisation. Duality gap: 4.411e+01, tolerance: 6.213e-01\n",
      "  model = cd_fast.enet_coordinate_descent(\n",
      "/Users/krishnarajmayya/opt/anaconda3/lib/python3.9/site-packages/sklearn/linear_model/_coordinate_descent.py:647: ConvergenceWarning: Objective did not converge. You might want to increase the number of iterations, check the scale of the features or consider increasing regularisation. Duality gap: 6.160e+01, tolerance: 7.884e-01\n",
      "  model = cd_fast.enet_coordinate_descent(\n",
      "/Users/krishnarajmayya/opt/anaconda3/lib/python3.9/site-packages/sklearn/linear_model/_coordinate_descent.py:647: ConvergenceWarning: Objective did not converge. You might want to increase the number of iterations, check the scale of the features or consider increasing regularisation. Duality gap: 7.437e+01, tolerance: 7.327e-01\n",
      "  model = cd_fast.enet_coordinate_descent(\n",
      "/Users/krishnarajmayya/opt/anaconda3/lib/python3.9/site-packages/sklearn/linear_model/_coordinate_descent.py:647: ConvergenceWarning: Objective did not converge. You might want to increase the number of iterations, check the scale of the features or consider increasing regularisation. Duality gap: 5.800e+01, tolerance: 8.288e-01\n",
      "  model = cd_fast.enet_coordinate_descent(\n",
      "/Users/krishnarajmayya/opt/anaconda3/lib/python3.9/site-packages/sklearn/linear_model/_coordinate_descent.py:647: ConvergenceWarning: Objective did not converge. You might want to increase the number of iterations, check the scale of the features or consider increasing regularisation. Duality gap: 8.005e+01, tolerance: 7.237e-01\n",
      "  model = cd_fast.enet_coordinate_descent(\n",
      "/Users/krishnarajmayya/opt/anaconda3/lib/python3.9/site-packages/sklearn/linear_model/_coordinate_descent.py:647: ConvergenceWarning: Objective did not converge. You might want to increase the number of iterations, check the scale of the features or consider increasing regularisation. Duality gap: 5.061e+01, tolerance: 6.213e-01\n",
      "  model = cd_fast.enet_coordinate_descent(\n",
      "/Users/krishnarajmayya/opt/anaconda3/lib/python3.9/site-packages/sklearn/linear_model/_coordinate_descent.py:647: ConvergenceWarning: Objective did not converge. You might want to increase the number of iterations, check the scale of the features or consider increasing regularisation. Duality gap: 6.712e+01, tolerance: 7.884e-01\n",
      "  model = cd_fast.enet_coordinate_descent(\n",
      "/Users/krishnarajmayya/opt/anaconda3/lib/python3.9/site-packages/sklearn/linear_model/_coordinate_descent.py:647: ConvergenceWarning: Objective did not converge. You might want to increase the number of iterations, check the scale of the features or consider increasing regularisation. Duality gap: 1.014e+02, tolerance: 7.327e-01\n",
      "  model = cd_fast.enet_coordinate_descent(\n",
      "/Users/krishnarajmayya/opt/anaconda3/lib/python3.9/site-packages/sklearn/linear_model/_coordinate_descent.py:647: ConvergenceWarning: Objective did not converge. You might want to increase the number of iterations, check the scale of the features or consider increasing regularisation. Duality gap: 8.086e+01, tolerance: 8.288e-01\n",
      "  model = cd_fast.enet_coordinate_descent(\n",
      "/Users/krishnarajmayya/opt/anaconda3/lib/python3.9/site-packages/sklearn/linear_model/_coordinate_descent.py:647: ConvergenceWarning: Objective did not converge. You might want to increase the number of iterations, check the scale of the features or consider increasing regularisation. Duality gap: 9.260e+01, tolerance: 7.237e-01\n",
      "  model = cd_fast.enet_coordinate_descent(\n",
      "/Users/krishnarajmayya/opt/anaconda3/lib/python3.9/site-packages/sklearn/linear_model/_coordinate_descent.py:647: ConvergenceWarning: Objective did not converge. You might want to increase the number of iterations, check the scale of the features or consider increasing regularisation. Duality gap: 8.022e+01, tolerance: 6.213e-01\n",
      "  model = cd_fast.enet_coordinate_descent(\n",
      "/Users/krishnarajmayya/opt/anaconda3/lib/python3.9/site-packages/sklearn/linear_model/_coordinate_descent.py:647: ConvergenceWarning: Objective did not converge. You might want to increase the number of iterations, check the scale of the features or consider increasing regularisation. Duality gap: 6.734e+01, tolerance: 7.884e-01\n",
      "  model = cd_fast.enet_coordinate_descent(\n",
      "/Users/krishnarajmayya/opt/anaconda3/lib/python3.9/site-packages/sklearn/linear_model/_coordinate_descent.py:647: ConvergenceWarning: Objective did not converge. You might want to increase the number of iterations, check the scale of the features or consider increasing regularisation. Duality gap: 2.860e+01, tolerance: 7.327e-01\n",
      "  model = cd_fast.enet_coordinate_descent(\n",
      "/Users/krishnarajmayya/opt/anaconda3/lib/python3.9/site-packages/sklearn/linear_model/_coordinate_descent.py:647: ConvergenceWarning: Objective did not converge. You might want to increase the number of iterations, check the scale of the features or consider increasing regularisation. Duality gap: 5.614e+01, tolerance: 8.288e-01\n",
      "  model = cd_fast.enet_coordinate_descent(\n",
      "/Users/krishnarajmayya/opt/anaconda3/lib/python3.9/site-packages/sklearn/linear_model/_coordinate_descent.py:647: ConvergenceWarning: Objective did not converge. You might want to increase the number of iterations, check the scale of the features or consider increasing regularisation. Duality gap: 3.750e+01, tolerance: 7.237e-01\n",
      "  model = cd_fast.enet_coordinate_descent(\n",
      "/Users/krishnarajmayya/opt/anaconda3/lib/python3.9/site-packages/sklearn/linear_model/_coordinate_descent.py:647: ConvergenceWarning: Objective did not converge. You might want to increase the number of iterations, check the scale of the features or consider increasing regularisation. Duality gap: 1.035e+02, tolerance: 6.213e-01\n",
      "  model = cd_fast.enet_coordinate_descent(\n",
      "/Users/krishnarajmayya/opt/anaconda3/lib/python3.9/site-packages/sklearn/linear_model/_coordinate_descent.py:647: ConvergenceWarning: Objective did not converge. You might want to increase the number of iterations, check the scale of the features or consider increasing regularisation. Duality gap: 5.102e+01, tolerance: 8.288e-01\n",
      "  model = cd_fast.enet_coordinate_descent(\n",
      "/Users/krishnarajmayya/opt/anaconda3/lib/python3.9/site-packages/sklearn/linear_model/_coordinate_descent.py:647: ConvergenceWarning: Objective did not converge. You might want to increase the number of iterations, check the scale of the features or consider increasing regularisation. Duality gap: 3.794e+00, tolerance: 7.237e-01\n",
      "  model = cd_fast.enet_coordinate_descent(\n",
      "/Users/krishnarajmayya/opt/anaconda3/lib/python3.9/site-packages/sklearn/linear_model/_coordinate_descent.py:647: ConvergenceWarning: Objective did not converge. You might want to increase the number of iterations, check the scale of the features or consider increasing regularisation. Duality gap: 1.144e+02, tolerance: 6.213e-01\n",
      "  model = cd_fast.enet_coordinate_descent(\n"
     ]
    }
   ],
   "source": [
    "X=feature_elimination(X,Y,40,ml_model_prime,method='skb')\n",
    "ml_model=build_cv_model(X,Y,False,target)\n",
    "run_model(X,Y,ml_model_prime,target)"
   ]
  },
  {
   "cell_type": "code",
   "execution_count": 18,
   "id": "f4c14a2c",
   "metadata": {},
   "outputs": [
    {
     "name": "stdout",
     "output_type": "stream",
     "text": [
      "     Feature      Score\n",
      "0       X_EA  95.250147\n",
      "1       X_Ra  67.173814\n",
      "2        s_B  61.964962\n",
      "3        X_Z  57.414810\n",
      "4     X_IEII  55.097923\n",
      "5   mean_A2B  47.874859\n",
      "6        s_X  43.799906\n",
      "7   mean_X2X  33.902649\n",
      "8        s_A  29.880346\n",
      "9     A_Rvdw  27.535795\n",
      "10      B_Ra  24.230307\n",
      "11     A_IEI  23.950524\n",
      "12  mean_A2X  22.081705\n",
      "13      B_Hf  21.205026\n",
      "14       B_Z  20.419989\n",
      "15        OF  19.424616\n",
      "16   std_B2X  16.266083\n",
      "17    A_ChiA  15.842395\n",
      "18   std_A2X  12.236469\n",
      "19      A_EA  12.192466\n",
      "20    A_ChiP  11.872273\n",
      "21     E_coh  11.792747\n",
      "22      B_MP  10.539184\n",
      "23     B_CvM  10.158055\n",
      "24     B_Rho   8.929870\n",
      "25      A_BP   8.076791\n",
      "26      X_MV   7.709740\n",
      "27      B_MV   7.166166\n",
      "28   std_A2B   7.106288\n",
      "29        TF   7.008817\n",
      "30       A_Z   5.970007\n",
      "31   A_Kappa   5.590909\n",
      "32   std_X2X   5.427746\n",
      "33     A_CvM   3.585042\n",
      "34       A_B   3.534708\n",
      "35       A_G   3.457040\n",
      "36    B_IEII   2.519527\n",
      "37   X_Kappa   2.297719\n",
      "38       B_B   1.964270\n",
      "39   B_Kappa   1.742806\n",
      "-----------------------------------------------------\n",
      "The shape of X is  (80, 30)\n",
      "-----------------------------------------------------\n",
      "The R2 for  0.05  is  0.7096755020373662\n",
      "The RMSE for  0.05  is  3.5121696618221057\n",
      "-----------------------------------------------------\n",
      "The R2 is  0.7138676279773519\n",
      "The RMSE is  3.5587686135545438\n"
     ]
    },
    {
     "name": "stderr",
     "output_type": "stream",
     "text": [
      "/Users/krishnarajmayya/opt/anaconda3/lib/python3.9/site-packages/sklearn/linear_model/_coordinate_descent.py:647: ConvergenceWarning: Objective did not converge. You might want to increase the number of iterations, check the scale of the features or consider increasing regularisation. Duality gap: 1.122e+02, tolerance: 7.327e-01\n",
      "  model = cd_fast.enet_coordinate_descent(\n",
      "/Users/krishnarajmayya/opt/anaconda3/lib/python3.9/site-packages/sklearn/linear_model/_coordinate_descent.py:647: ConvergenceWarning: Objective did not converge. You might want to increase the number of iterations, check the scale of the features or consider increasing regularisation. Duality gap: 9.188e+01, tolerance: 8.288e-01\n",
      "  model = cd_fast.enet_coordinate_descent(\n",
      "/Users/krishnarajmayya/opt/anaconda3/lib/python3.9/site-packages/sklearn/linear_model/_coordinate_descent.py:647: ConvergenceWarning: Objective did not converge. You might want to increase the number of iterations, check the scale of the features or consider increasing regularisation. Duality gap: 9.781e+01, tolerance: 7.237e-01\n",
      "  model = cd_fast.enet_coordinate_descent(\n",
      "/Users/krishnarajmayya/opt/anaconda3/lib/python3.9/site-packages/sklearn/linear_model/_coordinate_descent.py:647: ConvergenceWarning: Objective did not converge. You might want to increase the number of iterations, check the scale of the features or consider increasing regularisation. Duality gap: 9.221e+01, tolerance: 6.213e-01\n",
      "  model = cd_fast.enet_coordinate_descent(\n",
      "/Users/krishnarajmayya/opt/anaconda3/lib/python3.9/site-packages/sklearn/linear_model/_coordinate_descent.py:647: ConvergenceWarning: Objective did not converge. You might want to increase the number of iterations, check the scale of the features or consider increasing regularisation. Duality gap: 1.088e+02, tolerance: 7.884e-01\n",
      "  model = cd_fast.enet_coordinate_descent(\n",
      "/Users/krishnarajmayya/opt/anaconda3/lib/python3.9/site-packages/sklearn/linear_model/_coordinate_descent.py:647: ConvergenceWarning: Objective did not converge. You might want to increase the number of iterations, check the scale of the features or consider increasing regularisation. Duality gap: 1.157e+02, tolerance: 7.327e-01\n",
      "  model = cd_fast.enet_coordinate_descent(\n",
      "/Users/krishnarajmayya/opt/anaconda3/lib/python3.9/site-packages/sklearn/linear_model/_coordinate_descent.py:647: ConvergenceWarning: Objective did not converge. You might want to increase the number of iterations, check the scale of the features or consider increasing regularisation. Duality gap: 9.453e+01, tolerance: 8.288e-01\n",
      "  model = cd_fast.enet_coordinate_descent(\n",
      "/Users/krishnarajmayya/opt/anaconda3/lib/python3.9/site-packages/sklearn/linear_model/_coordinate_descent.py:647: ConvergenceWarning: Objective did not converge. You might want to increase the number of iterations, check the scale of the features or consider increasing regularisation. Duality gap: 1.014e+02, tolerance: 7.237e-01\n",
      "  model = cd_fast.enet_coordinate_descent(\n",
      "/Users/krishnarajmayya/opt/anaconda3/lib/python3.9/site-packages/sklearn/linear_model/_coordinate_descent.py:647: ConvergenceWarning: Objective did not converge. You might want to increase the number of iterations, check the scale of the features or consider increasing regularisation. Duality gap: 9.504e+01, tolerance: 6.213e-01\n",
      "  model = cd_fast.enet_coordinate_descent(\n",
      "/Users/krishnarajmayya/opt/anaconda3/lib/python3.9/site-packages/sklearn/linear_model/_coordinate_descent.py:647: ConvergenceWarning: Objective did not converge. You might want to increase the number of iterations, check the scale of the features or consider increasing regularisation. Duality gap: 1.113e+02, tolerance: 7.884e-01\n",
      "  model = cd_fast.enet_coordinate_descent(\n",
      "/Users/krishnarajmayya/opt/anaconda3/lib/python3.9/site-packages/sklearn/linear_model/_coordinate_descent.py:647: ConvergenceWarning: Objective did not converge. You might want to increase the number of iterations, check the scale of the features or consider increasing regularisation. Duality gap: 1.194e+02, tolerance: 7.327e-01\n",
      "  model = cd_fast.enet_coordinate_descent(\n",
      "/Users/krishnarajmayya/opt/anaconda3/lib/python3.9/site-packages/sklearn/linear_model/_coordinate_descent.py:647: ConvergenceWarning: Objective did not converge. You might want to increase the number of iterations, check the scale of the features or consider increasing regularisation. Duality gap: 9.665e+01, tolerance: 8.288e-01\n",
      "  model = cd_fast.enet_coordinate_descent(\n",
      "/Users/krishnarajmayya/opt/anaconda3/lib/python3.9/site-packages/sklearn/linear_model/_coordinate_descent.py:647: ConvergenceWarning: Objective did not converge. You might want to increase the number of iterations, check the scale of the features or consider increasing regularisation. Duality gap: 1.052e+02, tolerance: 7.237e-01\n",
      "  model = cd_fast.enet_coordinate_descent(\n",
      "/Users/krishnarajmayya/opt/anaconda3/lib/python3.9/site-packages/sklearn/linear_model/_coordinate_descent.py:647: ConvergenceWarning: Objective did not converge. You might want to increase the number of iterations, check the scale of the features or consider increasing regularisation. Duality gap: 9.722e+01, tolerance: 6.213e-01\n",
      "  model = cd_fast.enet_coordinate_descent(\n",
      "/Users/krishnarajmayya/opt/anaconda3/lib/python3.9/site-packages/sklearn/linear_model/_coordinate_descent.py:647: ConvergenceWarning: Objective did not converge. You might want to increase the number of iterations, check the scale of the features or consider increasing regularisation. Duality gap: 1.123e+02, tolerance: 7.884e-01\n",
      "  model = cd_fast.enet_coordinate_descent(\n",
      "/Users/krishnarajmayya/opt/anaconda3/lib/python3.9/site-packages/sklearn/linear_model/_coordinate_descent.py:647: ConvergenceWarning: Objective did not converge. You might want to increase the number of iterations, check the scale of the features or consider increasing regularisation. Duality gap: 3.077e+00, tolerance: 7.327e-01\n",
      "  model = cd_fast.enet_coordinate_descent(\n",
      "/Users/krishnarajmayya/opt/anaconda3/lib/python3.9/site-packages/sklearn/linear_model/_coordinate_descent.py:647: ConvergenceWarning: Objective did not converge. You might want to increase the number of iterations, check the scale of the features or consider increasing regularisation. Duality gap: 8.951e+00, tolerance: 7.884e-01\n",
      "  model = cd_fast.enet_coordinate_descent(\n"
     ]
    }
   ],
   "source": [
    "X=feature_elimination(X,Y,30,ml_model,method='skb')\n",
    "ml_model=build_cv_model(X,Y,False,target)\n",
    "run_model(X,Y,ml_model_prime,target)"
   ]
  },
  {
   "cell_type": "code",
   "execution_count": 19,
   "id": "43be0df3",
   "metadata": {},
   "outputs": [
    {
     "name": "stdout",
     "output_type": "stream",
     "text": [
      "     Feature      Score\n",
      "0       X_EA  95.250147\n",
      "1       X_Ra  67.173814\n",
      "2        s_B  61.964962\n",
      "3        X_Z  57.414810\n",
      "4     X_IEII  55.097923\n",
      "5   mean_A2B  47.874859\n",
      "6        s_X  43.799906\n",
      "7   mean_X2X  33.902649\n",
      "8        s_A  29.880346\n",
      "9     A_Rvdw  27.535795\n",
      "10      B_Ra  24.230307\n",
      "11     A_IEI  23.950524\n",
      "12  mean_A2X  22.081705\n",
      "13      B_Hf  21.205026\n",
      "14       B_Z  20.419989\n",
      "15        OF  19.424616\n",
      "16   std_B2X  16.266083\n",
      "17    A_ChiA  15.842395\n",
      "18   std_A2X  12.236469\n",
      "19      A_EA  12.192466\n",
      "20    A_ChiP  11.872273\n",
      "21     E_coh  11.792747\n",
      "22      B_MP  10.539184\n",
      "23     B_CvM  10.158055\n",
      "24     B_Rho   8.929870\n",
      "25      A_BP   8.076791\n",
      "26      X_MV   7.709740\n",
      "27      B_MV   7.166166\n",
      "28   std_A2B   7.106288\n",
      "29        TF   7.008817\n",
      "-----------------------------------------------------\n",
      "The shape of X is  (80, 20)\n"
     ]
    },
    {
     "name": "stderr",
     "output_type": "stream",
     "text": [
      "/Users/krishnarajmayya/opt/anaconda3/lib/python3.9/site-packages/sklearn/linear_model/_coordinate_descent.py:647: ConvergenceWarning: Objective did not converge. You might want to increase the number of iterations, check the scale of the features or consider increasing regularisation. Duality gap: 1.230e+02, tolerance: 7.327e-01\n",
      "  model = cd_fast.enet_coordinate_descent(\n",
      "/Users/krishnarajmayya/opt/anaconda3/lib/python3.9/site-packages/sklearn/linear_model/_coordinate_descent.py:647: ConvergenceWarning: Objective did not converge. You might want to increase the number of iterations, check the scale of the features or consider increasing regularisation. Duality gap: 1.141e+02, tolerance: 8.288e-01\n",
      "  model = cd_fast.enet_coordinate_descent(\n",
      "/Users/krishnarajmayya/opt/anaconda3/lib/python3.9/site-packages/sklearn/linear_model/_coordinate_descent.py:647: ConvergenceWarning: Objective did not converge. You might want to increase the number of iterations, check the scale of the features or consider increasing regularisation. Duality gap: 1.065e+02, tolerance: 7.237e-01\n",
      "  model = cd_fast.enet_coordinate_descent(\n",
      "/Users/krishnarajmayya/opt/anaconda3/lib/python3.9/site-packages/sklearn/linear_model/_coordinate_descent.py:647: ConvergenceWarning: Objective did not converge. You might want to increase the number of iterations, check the scale of the features or consider increasing regularisation. Duality gap: 6.415e+01, tolerance: 6.213e-01\n",
      "  model = cd_fast.enet_coordinate_descent(\n",
      "/Users/krishnarajmayya/opt/anaconda3/lib/python3.9/site-packages/sklearn/linear_model/_coordinate_descent.py:647: ConvergenceWarning: Objective did not converge. You might want to increase the number of iterations, check the scale of the features or consider increasing regularisation. Duality gap: 9.964e+01, tolerance: 7.884e-01\n",
      "  model = cd_fast.enet_coordinate_descent(\n",
      "/Users/krishnarajmayya/opt/anaconda3/lib/python3.9/site-packages/sklearn/linear_model/_coordinate_descent.py:647: ConvergenceWarning: Objective did not converge. You might want to increase the number of iterations, check the scale of the features or consider increasing regularisation. Duality gap: 8.582e+01, tolerance: 7.327e-01\n",
      "  model = cd_fast.enet_coordinate_descent(\n",
      "/Users/krishnarajmayya/opt/anaconda3/lib/python3.9/site-packages/sklearn/linear_model/_coordinate_descent.py:647: ConvergenceWarning: Objective did not converge. You might want to increase the number of iterations, check the scale of the features or consider increasing regularisation. Duality gap: 7.651e+01, tolerance: 8.288e-01\n",
      "  model = cd_fast.enet_coordinate_descent(\n",
      "/Users/krishnarajmayya/opt/anaconda3/lib/python3.9/site-packages/sklearn/linear_model/_coordinate_descent.py:647: ConvergenceWarning: Objective did not converge. You might want to increase the number of iterations, check the scale of the features or consider increasing regularisation. Duality gap: 5.371e+01, tolerance: 7.237e-01\n",
      "  model = cd_fast.enet_coordinate_descent(\n",
      "/Users/krishnarajmayya/opt/anaconda3/lib/python3.9/site-packages/sklearn/linear_model/_coordinate_descent.py:647: ConvergenceWarning: Objective did not converge. You might want to increase the number of iterations, check the scale of the features or consider increasing regularisation. Duality gap: 1.152e+01, tolerance: 6.213e-01\n",
      "  model = cd_fast.enet_coordinate_descent(\n",
      "/Users/krishnarajmayya/opt/anaconda3/lib/python3.9/site-packages/sklearn/linear_model/_coordinate_descent.py:647: ConvergenceWarning: Objective did not converge. You might want to increase the number of iterations, check the scale of the features or consider increasing regularisation. Duality gap: 1.164e+01, tolerance: 7.884e-01\n",
      "  model = cd_fast.enet_coordinate_descent(\n",
      "/Users/krishnarajmayya/opt/anaconda3/lib/python3.9/site-packages/sklearn/linear_model/_coordinate_descent.py:647: ConvergenceWarning: Objective did not converge. You might want to increase the number of iterations, check the scale of the features or consider increasing regularisation. Duality gap: 5.649e+01, tolerance: 7.327e-01\n",
      "  model = cd_fast.enet_coordinate_descent(\n",
      "/Users/krishnarajmayya/opt/anaconda3/lib/python3.9/site-packages/sklearn/linear_model/_coordinate_descent.py:647: ConvergenceWarning: Objective did not converge. You might want to increase the number of iterations, check the scale of the features or consider increasing regularisation. Duality gap: 4.737e+01, tolerance: 8.288e-01\n",
      "  model = cd_fast.enet_coordinate_descent(\n",
      "/Users/krishnarajmayya/opt/anaconda3/lib/python3.9/site-packages/sklearn/linear_model/_coordinate_descent.py:647: ConvergenceWarning: Objective did not converge. You might want to increase the number of iterations, check the scale of the features or consider increasing regularisation. Duality gap: 8.312e+00, tolerance: 7.237e-01\n",
      "  model = cd_fast.enet_coordinate_descent(\n",
      "/Users/krishnarajmayya/opt/anaconda3/lib/python3.9/site-packages/sklearn/linear_model/_coordinate_descent.py:647: ConvergenceWarning: Objective did not converge. You might want to increase the number of iterations, check the scale of the features or consider increasing regularisation. Duality gap: 2.237e+00, tolerance: 6.213e-01\n",
      "  model = cd_fast.enet_coordinate_descent(\n"
     ]
    },
    {
     "name": "stdout",
     "output_type": "stream",
     "text": [
      "-----------------------------------------------------\n",
      "The R2 for  0.05  is  0.7110902004515445\n",
      "The RMSE for  0.05  is  2.9642415558179915\n",
      "-----------------------------------------------------\n",
      "The R2 is  0.714115472874196\n",
      "The RMSE is  3.0471211962764264\n"
     ]
    }
   ],
   "source": [
    "X=feature_elimination(X,Y,20,ml_model,method='skb')\n",
    "ml_model=build_cv_model(X,Y,False,target)\n",
    "run_model(X,Y,ml_model_prime,target)"
   ]
  },
  {
   "cell_type": "code",
   "execution_count": 20,
   "id": "ba87d76e",
   "metadata": {},
   "outputs": [
    {
     "name": "stdout",
     "output_type": "stream",
     "text": [
      "     Feature      Score\n",
      "0       X_EA  95.250147\n",
      "1       X_Ra  67.173814\n",
      "2        s_B  61.964962\n",
      "3        X_Z  57.414810\n",
      "4     X_IEII  55.097923\n",
      "5   mean_A2B  47.874859\n",
      "6        s_X  43.799906\n",
      "7   mean_X2X  33.902649\n",
      "8        s_A  29.880346\n",
      "9     A_Rvdw  27.535795\n",
      "10      B_Ra  24.230307\n",
      "11     A_IEI  23.950524\n",
      "12  mean_A2X  22.081705\n",
      "13      B_Hf  21.205026\n",
      "14       B_Z  20.419989\n",
      "15        OF  19.424616\n",
      "16   std_B2X  16.266083\n",
      "17    A_ChiA  15.842395\n",
      "18   std_A2X  12.236469\n",
      "19      A_EA  12.192466\n",
      "-----------------------------------------------------\n",
      "The shape of X is  (80, 10)\n",
      "-----------------------------------------------------\n",
      "The R2 for  0.05  is  0.734232637021039\n",
      "The RMSE for  0.05  is  3.425246182085314\n",
      "-----------------------------------------------------\n",
      "The R2 is  0.7268825815150584\n",
      "The RMSE is  3.4937511857606975\n"
     ]
    },
    {
     "name": "stderr",
     "output_type": "stream",
     "text": [
      "/Users/krishnarajmayya/opt/anaconda3/lib/python3.9/site-packages/sklearn/linear_model/_coordinate_descent.py:647: ConvergenceWarning: Objective did not converge. You might want to increase the number of iterations, check the scale of the features or consider increasing regularisation. Duality gap: 3.439e+01, tolerance: 7.327e-01\n",
      "  model = cd_fast.enet_coordinate_descent(\n",
      "/Users/krishnarajmayya/opt/anaconda3/lib/python3.9/site-packages/sklearn/linear_model/_coordinate_descent.py:647: ConvergenceWarning: Objective did not converge. You might want to increase the number of iterations, check the scale of the features or consider increasing regularisation. Duality gap: 1.376e+02, tolerance: 8.288e-01\n",
      "  model = cd_fast.enet_coordinate_descent(\n",
      "/Users/krishnarajmayya/opt/anaconda3/lib/python3.9/site-packages/sklearn/linear_model/_coordinate_descent.py:647: ConvergenceWarning: Objective did not converge. You might want to increase the number of iterations, check the scale of the features or consider increasing regularisation. Duality gap: 1.342e+01, tolerance: 7.237e-01\n",
      "  model = cd_fast.enet_coordinate_descent(\n",
      "/Users/krishnarajmayya/opt/anaconda3/lib/python3.9/site-packages/sklearn/linear_model/_coordinate_descent.py:647: ConvergenceWarning: Objective did not converge. You might want to increase the number of iterations, check the scale of the features or consider increasing regularisation. Duality gap: 9.331e-01, tolerance: 6.213e-01\n",
      "  model = cd_fast.enet_coordinate_descent(\n",
      "/Users/krishnarajmayya/opt/anaconda3/lib/python3.9/site-packages/sklearn/linear_model/_coordinate_descent.py:647: ConvergenceWarning: Objective did not converge. You might want to increase the number of iterations, check the scale of the features or consider increasing regularisation. Duality gap: 3.356e+01, tolerance: 8.288e-01\n",
      "  model = cd_fast.enet_coordinate_descent(\n",
      "/Users/krishnarajmayya/opt/anaconda3/lib/python3.9/site-packages/sklearn/linear_model/_coordinate_descent.py:647: ConvergenceWarning: Objective did not converge. You might want to increase the number of iterations, check the scale of the features or consider increasing regularisation. Duality gap: 1.651e+01, tolerance: 8.288e-01\n",
      "  model = cd_fast.enet_coordinate_descent(\n"
     ]
    }
   ],
   "source": [
    "X=feature_elimination(X,Y,10,ml_model,method='skb')\n",
    "ml_model=build_cv_model(X,Y,False,target)\n",
    "run_model(X,Y,ml_model_prime,target)"
   ]
  },
  {
   "cell_type": "markdown",
   "id": "d6598f01",
   "metadata": {},
   "source": [
    "## Standard scaling"
   ]
  },
  {
   "cell_type": "code",
   "execution_count": 21,
   "id": "418a5638",
   "metadata": {},
   "outputs": [
    {
     "name": "stdout",
     "output_type": "stream",
     "text": [
      "The shape of X is  (80, 76)\n"
     ]
    },
    {
     "name": "stderr",
     "output_type": "stream",
     "text": [
      "/Users/krishnarajmayya/opt/anaconda3/lib/python3.9/site-packages/sklearn/linear_model/_coordinate_descent.py:647: ConvergenceWarning: Objective did not converge. You might want to increase the number of iterations, check the scale of the features or consider increasing regularisation. Duality gap: 1.079e-01, tolerance: 6.338e-03\n",
      "  model = cd_fast.enet_coordinate_descent(\n",
      "/Users/krishnarajmayya/opt/anaconda3/lib/python3.9/site-packages/sklearn/linear_model/_coordinate_descent.py:647: ConvergenceWarning: Objective did not converge. You might want to increase the number of iterations, check the scale of the features or consider increasing regularisation. Duality gap: 8.046e-02, tolerance: 7.169e-03\n",
      "  model = cd_fast.enet_coordinate_descent(\n",
      "/Users/krishnarajmayya/opt/anaconda3/lib/python3.9/site-packages/sklearn/linear_model/_coordinate_descent.py:647: ConvergenceWarning: Objective did not converge. You might want to increase the number of iterations, check the scale of the features or consider increasing regularisation. Duality gap: 1.587e-01, tolerance: 6.260e-03\n",
      "  model = cd_fast.enet_coordinate_descent(\n",
      "/Users/krishnarajmayya/opt/anaconda3/lib/python3.9/site-packages/sklearn/linear_model/_coordinate_descent.py:647: ConvergenceWarning: Objective did not converge. You might want to increase the number of iterations, check the scale of the features or consider increasing regularisation. Duality gap: 1.011e-01, tolerance: 5.375e-03\n",
      "  model = cd_fast.enet_coordinate_descent(\n",
      "/Users/krishnarajmayya/opt/anaconda3/lib/python3.9/site-packages/sklearn/linear_model/_coordinate_descent.py:647: ConvergenceWarning: Objective did not converge. You might want to increase the number of iterations, check the scale of the features or consider increasing regularisation. Duality gap: 1.259e-01, tolerance: 6.820e-03\n",
      "  model = cd_fast.enet_coordinate_descent(\n",
      "/Users/krishnarajmayya/opt/anaconda3/lib/python3.9/site-packages/sklearn/linear_model/_coordinate_descent.py:647: ConvergenceWarning: Objective did not converge. You might want to increase the number of iterations, check the scale of the features or consider increasing regularisation. Duality gap: 7.120e-02, tolerance: 6.338e-03\n",
      "  model = cd_fast.enet_coordinate_descent(\n",
      "/Users/krishnarajmayya/opt/anaconda3/lib/python3.9/site-packages/sklearn/linear_model/_coordinate_descent.py:647: ConvergenceWarning: Objective did not converge. You might want to increase the number of iterations, check the scale of the features or consider increasing regularisation. Duality gap: 6.757e-02, tolerance: 7.169e-03\n",
      "  model = cd_fast.enet_coordinate_descent(\n",
      "/Users/krishnarajmayya/opt/anaconda3/lib/python3.9/site-packages/sklearn/linear_model/_coordinate_descent.py:647: ConvergenceWarning: Objective did not converge. You might want to increase the number of iterations, check the scale of the features or consider increasing regularisation. Duality gap: 1.012e-01, tolerance: 6.260e-03\n",
      "  model = cd_fast.enet_coordinate_descent(\n",
      "/Users/krishnarajmayya/opt/anaconda3/lib/python3.9/site-packages/sklearn/linear_model/_coordinate_descent.py:647: ConvergenceWarning: Objective did not converge. You might want to increase the number of iterations, check the scale of the features or consider increasing regularisation. Duality gap: 4.535e-02, tolerance: 5.375e-03\n",
      "  model = cd_fast.enet_coordinate_descent(\n",
      "/Users/krishnarajmayya/opt/anaconda3/lib/python3.9/site-packages/sklearn/linear_model/_coordinate_descent.py:647: ConvergenceWarning: Objective did not converge. You might want to increase the number of iterations, check the scale of the features or consider increasing regularisation. Duality gap: 7.139e-02, tolerance: 6.820e-03\n",
      "  model = cd_fast.enet_coordinate_descent(\n",
      "/Users/krishnarajmayya/opt/anaconda3/lib/python3.9/site-packages/sklearn/linear_model/_coordinate_descent.py:647: ConvergenceWarning: Objective did not converge. You might want to increase the number of iterations, check the scale of the features or consider increasing regularisation. Duality gap: 2.037e-02, tolerance: 6.338e-03\n",
      "  model = cd_fast.enet_coordinate_descent(\n",
      "/Users/krishnarajmayya/opt/anaconda3/lib/python3.9/site-packages/sklearn/linear_model/_coordinate_descent.py:647: ConvergenceWarning: Objective did not converge. You might want to increase the number of iterations, check the scale of the features or consider increasing regularisation. Duality gap: 2.556e-02, tolerance: 7.169e-03\n",
      "  model = cd_fast.enet_coordinate_descent(\n",
      "/Users/krishnarajmayya/opt/anaconda3/lib/python3.9/site-packages/sklearn/linear_model/_coordinate_descent.py:647: ConvergenceWarning: Objective did not converge. You might want to increase the number of iterations, check the scale of the features or consider increasing regularisation. Duality gap: 4.872e-02, tolerance: 6.260e-03\n",
      "  model = cd_fast.enet_coordinate_descent(\n",
      "/Users/krishnarajmayya/opt/anaconda3/lib/python3.9/site-packages/sklearn/linear_model/_coordinate_descent.py:647: ConvergenceWarning: Objective did not converge. You might want to increase the number of iterations, check the scale of the features or consider increasing regularisation. Duality gap: 4.962e-02, tolerance: 5.375e-03\n",
      "  model = cd_fast.enet_coordinate_descent(\n",
      "/Users/krishnarajmayya/opt/anaconda3/lib/python3.9/site-packages/sklearn/linear_model/_coordinate_descent.py:647: ConvergenceWarning: Objective did not converge. You might want to increase the number of iterations, check the scale of the features or consider increasing regularisation. Duality gap: 9.552e-03, tolerance: 6.820e-03\n",
      "  model = cd_fast.enet_coordinate_descent(\n"
     ]
    },
    {
     "name": "stdout",
     "output_type": "stream",
     "text": [
      "-----------------------------------------------------\n",
      "The R2 for  0.01  is  0.7893012652375363\n",
      "The RMSE for  0.01  is  0.2488895547733669\n"
     ]
    }
   ],
   "source": [
    "X,Y = standard_scaling(target)\n",
    "ml_model=build_cv_model(X,Y,False,target)"
   ]
  },
  {
   "cell_type": "markdown",
   "id": "2140e933",
   "metadata": {},
   "source": [
    "### Drop correlated features"
   ]
  },
  {
   "cell_type": "code",
   "execution_count": 22,
   "id": "e4732e80",
   "metadata": {},
   "outputs": [
    {
     "name": "stdout",
     "output_type": "stream",
     "text": [
      "The shape of X is  (80, 50)\n"
     ]
    },
    {
     "name": "stderr",
     "output_type": "stream",
     "text": [
      "/Users/krishnarajmayya/opt/anaconda3/lib/python3.9/site-packages/sklearn/linear_model/_coordinate_descent.py:647: ConvergenceWarning: Objective did not converge. You might want to increase the number of iterations, check the scale of the features or consider increasing regularisation. Duality gap: 2.200e-01, tolerance: 6.338e-03\n",
      "  model = cd_fast.enet_coordinate_descent(\n",
      "/Users/krishnarajmayya/opt/anaconda3/lib/python3.9/site-packages/sklearn/linear_model/_coordinate_descent.py:647: ConvergenceWarning: Objective did not converge. You might want to increase the number of iterations, check the scale of the features or consider increasing regularisation. Duality gap: 1.599e-01, tolerance: 7.169e-03\n",
      "  model = cd_fast.enet_coordinate_descent(\n",
      "/Users/krishnarajmayya/opt/anaconda3/lib/python3.9/site-packages/sklearn/linear_model/_coordinate_descent.py:647: ConvergenceWarning: Objective did not converge. You might want to increase the number of iterations, check the scale of the features or consider increasing regularisation. Duality gap: 2.448e-01, tolerance: 6.260e-03\n",
      "  model = cd_fast.enet_coordinate_descent(\n",
      "/Users/krishnarajmayya/opt/anaconda3/lib/python3.9/site-packages/sklearn/linear_model/_coordinate_descent.py:647: ConvergenceWarning: Objective did not converge. You might want to increase the number of iterations, check the scale of the features or consider increasing regularisation. Duality gap: 1.476e-01, tolerance: 5.375e-03\n",
      "  model = cd_fast.enet_coordinate_descent(\n",
      "/Users/krishnarajmayya/opt/anaconda3/lib/python3.9/site-packages/sklearn/linear_model/_coordinate_descent.py:647: ConvergenceWarning: Objective did not converge. You might want to increase the number of iterations, check the scale of the features or consider increasing regularisation. Duality gap: 2.302e-01, tolerance: 6.820e-03\n",
      "  model = cd_fast.enet_coordinate_descent(\n",
      "/Users/krishnarajmayya/opt/anaconda3/lib/python3.9/site-packages/sklearn/linear_model/_coordinate_descent.py:647: ConvergenceWarning: Objective did not converge. You might want to increase the number of iterations, check the scale of the features or consider increasing regularisation. Duality gap: 3.157e-02, tolerance: 6.338e-03\n",
      "  model = cd_fast.enet_coordinate_descent(\n",
      "/Users/krishnarajmayya/opt/anaconda3/lib/python3.9/site-packages/sklearn/linear_model/_coordinate_descent.py:647: ConvergenceWarning: Objective did not converge. You might want to increase the number of iterations, check the scale of the features or consider increasing regularisation. Duality gap: 2.396e-02, tolerance: 7.169e-03\n",
      "  model = cd_fast.enet_coordinate_descent(\n",
      "/Users/krishnarajmayya/opt/anaconda3/lib/python3.9/site-packages/sklearn/linear_model/_coordinate_descent.py:647: ConvergenceWarning: Objective did not converge. You might want to increase the number of iterations, check the scale of the features or consider increasing regularisation. Duality gap: 7.602e-02, tolerance: 6.260e-03\n",
      "  model = cd_fast.enet_coordinate_descent(\n",
      "/Users/krishnarajmayya/opt/anaconda3/lib/python3.9/site-packages/sklearn/linear_model/_coordinate_descent.py:647: ConvergenceWarning: Objective did not converge. You might want to increase the number of iterations, check the scale of the features or consider increasing regularisation. Duality gap: 1.366e-02, tolerance: 5.375e-03\n",
      "  model = cd_fast.enet_coordinate_descent(\n",
      "/Users/krishnarajmayya/opt/anaconda3/lib/python3.9/site-packages/sklearn/linear_model/_coordinate_descent.py:647: ConvergenceWarning: Objective did not converge. You might want to increase the number of iterations, check the scale of the features or consider increasing regularisation. Duality gap: 2.252e-02, tolerance: 6.820e-03\n",
      "  model = cd_fast.enet_coordinate_descent(\n",
      "/Users/krishnarajmayya/opt/anaconda3/lib/python3.9/site-packages/sklearn/linear_model/_coordinate_descent.py:647: ConvergenceWarning: Objective did not converge. You might want to increase the number of iterations, check the scale of the features or consider increasing regularisation. Duality gap: 1.275e-02, tolerance: 6.338e-03\n",
      "  model = cd_fast.enet_coordinate_descent(\n"
     ]
    },
    {
     "name": "stdout",
     "output_type": "stream",
     "text": [
      "-----------------------------------------------------\n",
      "The R2 for  0.02  is  0.7970598891344353\n",
      "The RMSE for  0.02  is  0.2562040981234409\n"
     ]
    },
    {
     "name": "stderr",
     "output_type": "stream",
     "text": [
      "/Users/krishnarajmayya/opt/anaconda3/lib/python3.9/site-packages/sklearn/linear_model/_coordinate_descent.py:647: ConvergenceWarning: Objective did not converge. You might want to increase the number of iterations, check the scale of the features or consider increasing regularisation. Duality gap: 2.136e-02, tolerance: 7.169e-03\n",
      "  model = cd_fast.enet_coordinate_descent(\n",
      "/Users/krishnarajmayya/opt/anaconda3/lib/python3.9/site-packages/sklearn/linear_model/_coordinate_descent.py:647: ConvergenceWarning: Objective did not converge. You might want to increase the number of iterations, check the scale of the features or consider increasing regularisation. Duality gap: 8.756e-03, tolerance: 6.260e-03\n",
      "  model = cd_fast.enet_coordinate_descent(\n"
     ]
    }
   ],
   "source": [
    "ml_model_prime=build_cv_model(X,Y,True,target)"
   ]
  },
  {
   "cell_type": "markdown",
   "id": "5da0961f",
   "metadata": {},
   "source": [
    "### Feature elimination"
   ]
  },
  {
   "cell_type": "code",
   "execution_count": 23,
   "id": "a53db140",
   "metadata": {},
   "outputs": [
    {
     "name": "stdout",
     "output_type": "stream",
     "text": [
      "     Feature      Score\n",
      "0        s_A  29.880346\n",
      "1        s_B  61.964962\n",
      "2        s_X  43.799906\n",
      "3    density   1.191452\n",
      "4   mean_A2B  47.874859\n",
      "5   mean_A2X  22.081705\n",
      "6   mean_B2X   0.045034\n",
      "7   mean_X2X  33.902649\n",
      "8    std_A2B   7.106288\n",
      "9    std_A2X  12.236469\n",
      "10   std_B2X  16.266083\n",
      "11   std_X2X   5.427746\n",
      "12     E_coh  11.792747\n",
      "13        TF   7.008817\n",
      "14        OF  19.424616\n",
      "15       A_Z   5.970007\n",
      "16       B_Z  20.419989\n",
      "17       X_Z  57.414810\n",
      "18       A_G   3.457040\n",
      "19       B_G   0.902234\n",
      "20     A_IEI  23.950524\n",
      "21     B_IEI   0.055573\n",
      "22     X_IEI   0.848306\n",
      "23    A_IEII   0.385163\n",
      "24    B_IEII   2.519527\n",
      "25    X_IEII  55.097923\n",
      "26      A_EA  12.192466\n",
      "27      B_EA   1.411509\n",
      "28      X_EA  95.250147\n",
      "29    A_ChiP  11.872273\n",
      "30    B_ChiP   0.622186\n",
      "31    A_ChiA  15.842395\n",
      "32    X_ChiA   0.005879\n",
      "33    A_Rvdw  27.535795\n",
      "34      B_Ra  24.230307\n",
      "35      X_Ra  67.173814\n",
      "36      B_MP  10.539184\n",
      "37      A_BP   8.076791\n",
      "38     A_Rho   0.830238\n",
      "39     B_Rho   8.929870\n",
      "40      B_MV   7.166166\n",
      "41      X_MV   7.709740\n",
      "42      B_Hf  21.205026\n",
      "43   A_Kappa   5.590909\n",
      "44   B_Kappa   1.742806\n",
      "45   X_Kappa   2.297719\n",
      "46     A_CvM   3.585042\n",
      "47     B_CvM  10.158055\n",
      "48       A_B   3.534708\n",
      "49       B_B   1.964270\n",
      "-----------------------------------------------------\n",
      "The shape of X is  (80, 40)\n"
     ]
    },
    {
     "name": "stderr",
     "output_type": "stream",
     "text": [
      "/Users/krishnarajmayya/opt/anaconda3/lib/python3.9/site-packages/sklearn/linear_model/_coordinate_descent.py:647: ConvergenceWarning: Objective did not converge. You might want to increase the number of iterations, check the scale of the features or consider increasing regularisation. Duality gap: 2.742e-01, tolerance: 6.338e-03\n",
      "  model = cd_fast.enet_coordinate_descent(\n",
      "/Users/krishnarajmayya/opt/anaconda3/lib/python3.9/site-packages/sklearn/linear_model/_coordinate_descent.py:647: ConvergenceWarning: Objective did not converge. You might want to increase the number of iterations, check the scale of the features or consider increasing regularisation. Duality gap: 2.842e-01, tolerance: 7.169e-03\n",
      "  model = cd_fast.enet_coordinate_descent(\n",
      "/Users/krishnarajmayya/opt/anaconda3/lib/python3.9/site-packages/sklearn/linear_model/_coordinate_descent.py:647: ConvergenceWarning: Objective did not converge. You might want to increase the number of iterations, check the scale of the features or consider increasing regularisation. Duality gap: 4.669e-01, tolerance: 6.260e-03\n",
      "  model = cd_fast.enet_coordinate_descent(\n",
      "/Users/krishnarajmayya/opt/anaconda3/lib/python3.9/site-packages/sklearn/linear_model/_coordinate_descent.py:647: ConvergenceWarning: Objective did not converge. You might want to increase the number of iterations, check the scale of the features or consider increasing regularisation. Duality gap: 2.023e-01, tolerance: 5.375e-03\n",
      "  model = cd_fast.enet_coordinate_descent(\n",
      "/Users/krishnarajmayya/opt/anaconda3/lib/python3.9/site-packages/sklearn/linear_model/_coordinate_descent.py:647: ConvergenceWarning: Objective did not converge. You might want to increase the number of iterations, check the scale of the features or consider increasing regularisation. Duality gap: 2.911e-01, tolerance: 6.820e-03\n",
      "  model = cd_fast.enet_coordinate_descent(\n",
      "/Users/krishnarajmayya/opt/anaconda3/lib/python3.9/site-packages/sklearn/linear_model/_coordinate_descent.py:647: ConvergenceWarning: Objective did not converge. You might want to increase the number of iterations, check the scale of the features or consider increasing regularisation. Duality gap: 1.074e-01, tolerance: 6.338e-03\n",
      "  model = cd_fast.enet_coordinate_descent(\n",
      "/Users/krishnarajmayya/opt/anaconda3/lib/python3.9/site-packages/sklearn/linear_model/_coordinate_descent.py:647: ConvergenceWarning: Objective did not converge. You might want to increase the number of iterations, check the scale of the features or consider increasing regularisation. Duality gap: 1.762e-01, tolerance: 7.169e-03\n",
      "  model = cd_fast.enet_coordinate_descent(\n",
      "/Users/krishnarajmayya/opt/anaconda3/lib/python3.9/site-packages/sklearn/linear_model/_coordinate_descent.py:647: ConvergenceWarning: Objective did not converge. You might want to increase the number of iterations, check the scale of the features or consider increasing regularisation. Duality gap: 1.309e-01, tolerance: 6.260e-03\n",
      "  model = cd_fast.enet_coordinate_descent(\n",
      "/Users/krishnarajmayya/opt/anaconda3/lib/python3.9/site-packages/sklearn/linear_model/_coordinate_descent.py:647: ConvergenceWarning: Objective did not converge. You might want to increase the number of iterations, check the scale of the features or consider increasing regularisation. Duality gap: 4.178e-02, tolerance: 5.375e-03\n",
      "  model = cd_fast.enet_coordinate_descent(\n",
      "/Users/krishnarajmayya/opt/anaconda3/lib/python3.9/site-packages/sklearn/linear_model/_coordinate_descent.py:647: ConvergenceWarning: Objective did not converge. You might want to increase the number of iterations, check the scale of the features or consider increasing regularisation. Duality gap: 3.361e-02, tolerance: 6.820e-03\n",
      "  model = cd_fast.enet_coordinate_descent(\n",
      "/Users/krishnarajmayya/opt/anaconda3/lib/python3.9/site-packages/sklearn/linear_model/_coordinate_descent.py:647: ConvergenceWarning: Objective did not converge. You might want to increase the number of iterations, check the scale of the features or consider increasing regularisation. Duality gap: 5.496e-02, tolerance: 6.338e-03\n",
      "  model = cd_fast.enet_coordinate_descent(\n",
      "/Users/krishnarajmayya/opt/anaconda3/lib/python3.9/site-packages/sklearn/linear_model/_coordinate_descent.py:647: ConvergenceWarning: Objective did not converge. You might want to increase the number of iterations, check the scale of the features or consider increasing regularisation. Duality gap: 1.008e-02, tolerance: 7.169e-03\n",
      "  model = cd_fast.enet_coordinate_descent(\n",
      "/Users/krishnarajmayya/opt/anaconda3/lib/python3.9/site-packages/sklearn/linear_model/_coordinate_descent.py:647: ConvergenceWarning: Objective did not converge. You might want to increase the number of iterations, check the scale of the features or consider increasing regularisation. Duality gap: 1.164e-02, tolerance: 6.260e-03\n",
      "  model = cd_fast.enet_coordinate_descent(\n"
     ]
    },
    {
     "name": "stdout",
     "output_type": "stream",
     "text": [
      "-----------------------------------------------------\n",
      "The R2 for  0.02  is  0.8012111973063559\n",
      "The RMSE for  0.02  is  0.25432712973984384\n",
      "-----------------------------------------------------\n",
      "The R2 is  0.8012111973063559\n",
      "The RMSE is  0.25432712973984384\n"
     ]
    }
   ],
   "source": [
    "X=feature_elimination(X,Y,40,ml_model_prime,method='skb')\n",
    "ml_model=build_cv_model(X,Y,False,target)\n",
    "run_model(X,Y,ml_model_prime,target)"
   ]
  },
  {
   "cell_type": "code",
   "execution_count": 24,
   "id": "44657d0f",
   "metadata": {},
   "outputs": [
    {
     "name": "stderr",
     "output_type": "stream",
     "text": [
      "/Users/krishnarajmayya/opt/anaconda3/lib/python3.9/site-packages/sklearn/linear_model/_coordinate_descent.py:647: ConvergenceWarning: Objective did not converge. You might want to increase the number of iterations, check the scale of the features or consider increasing regularisation. Duality gap: 4.334e-01, tolerance: 6.338e-03\n",
      "  model = cd_fast.enet_coordinate_descent(\n",
      "/Users/krishnarajmayya/opt/anaconda3/lib/python3.9/site-packages/sklearn/linear_model/_coordinate_descent.py:647: ConvergenceWarning: Objective did not converge. You might want to increase the number of iterations, check the scale of the features or consider increasing regularisation. Duality gap: 9.803e-02, tolerance: 7.169e-03\n",
      "  model = cd_fast.enet_coordinate_descent(\n",
      "/Users/krishnarajmayya/opt/anaconda3/lib/python3.9/site-packages/sklearn/linear_model/_coordinate_descent.py:647: ConvergenceWarning: Objective did not converge. You might want to increase the number of iterations, check the scale of the features or consider increasing regularisation. Duality gap: 2.738e-01, tolerance: 6.260e-03\n",
      "  model = cd_fast.enet_coordinate_descent(\n",
      "/Users/krishnarajmayya/opt/anaconda3/lib/python3.9/site-packages/sklearn/linear_model/_coordinate_descent.py:647: ConvergenceWarning: Objective did not converge. You might want to increase the number of iterations, check the scale of the features or consider increasing regularisation. Duality gap: 2.218e-01, tolerance: 5.375e-03\n",
      "  model = cd_fast.enet_coordinate_descent(\n",
      "/Users/krishnarajmayya/opt/anaconda3/lib/python3.9/site-packages/sklearn/linear_model/_coordinate_descent.py:647: ConvergenceWarning: Objective did not converge. You might want to increase the number of iterations, check the scale of the features or consider increasing regularisation. Duality gap: 2.473e-01, tolerance: 6.820e-03\n",
      "  model = cd_fast.enet_coordinate_descent(\n",
      "/Users/krishnarajmayya/opt/anaconda3/lib/python3.9/site-packages/sklearn/linear_model/_coordinate_descent.py:647: ConvergenceWarning: Objective did not converge. You might want to increase the number of iterations, check the scale of the features or consider increasing regularisation. Duality gap: 3.758e-02, tolerance: 6.338e-03\n",
      "  model = cd_fast.enet_coordinate_descent(\n",
      "/Users/krishnarajmayya/opt/anaconda3/lib/python3.9/site-packages/sklearn/linear_model/_coordinate_descent.py:647: ConvergenceWarning: Objective did not converge. You might want to increase the number of iterations, check the scale of the features or consider increasing regularisation. Duality gap: 2.669e-02, tolerance: 7.169e-03\n",
      "  model = cd_fast.enet_coordinate_descent(\n",
      "/Users/krishnarajmayya/opt/anaconda3/lib/python3.9/site-packages/sklearn/linear_model/_coordinate_descent.py:647: ConvergenceWarning: Objective did not converge. You might want to increase the number of iterations, check the scale of the features or consider increasing regularisation. Duality gap: 7.980e-02, tolerance: 6.260e-03\n",
      "  model = cd_fast.enet_coordinate_descent(\n",
      "/Users/krishnarajmayya/opt/anaconda3/lib/python3.9/site-packages/sklearn/linear_model/_coordinate_descent.py:647: ConvergenceWarning: Objective did not converge. You might want to increase the number of iterations, check the scale of the features or consider increasing regularisation. Duality gap: 2.208e-02, tolerance: 6.820e-03\n",
      "  model = cd_fast.enet_coordinate_descent(\n"
     ]
    },
    {
     "name": "stdout",
     "output_type": "stream",
     "text": [
      "     Feature      Score\n",
      "0       X_EA  95.250147\n",
      "1       X_Ra  67.173814\n",
      "2        s_B  61.964962\n",
      "3        X_Z  57.414810\n",
      "4     X_IEII  55.097923\n",
      "5   mean_A2B  47.874859\n",
      "6        s_X  43.799906\n",
      "7   mean_X2X  33.902649\n",
      "8        s_A  29.880346\n",
      "9     A_Rvdw  27.535795\n",
      "10      B_Ra  24.230307\n",
      "11     A_IEI  23.950524\n",
      "12  mean_A2X  22.081705\n",
      "13      B_Hf  21.205026\n",
      "14       B_Z  20.419989\n",
      "15        OF  19.424616\n",
      "16   std_B2X  16.266083\n",
      "17    A_ChiA  15.842395\n",
      "18   std_A2X  12.236469\n",
      "19      A_EA  12.192466\n",
      "20    A_ChiP  11.872273\n",
      "21     E_coh  11.792747\n",
      "22      B_MP  10.539184\n",
      "23     B_CvM  10.158055\n",
      "24     B_Rho   8.929870\n",
      "25      A_BP   8.076791\n",
      "26      X_MV   7.709740\n",
      "27      B_MV   7.166166\n",
      "28   std_A2B   7.106288\n",
      "29        TF   7.008817\n",
      "30       A_Z   5.970007\n",
      "31   A_Kappa   5.590909\n",
      "32   std_X2X   5.427746\n",
      "33     A_CvM   3.585042\n",
      "34       A_B   3.534708\n",
      "35       A_G   3.457040\n",
      "36    B_IEII   2.519527\n",
      "37   X_Kappa   2.297719\n",
      "38       B_B   1.964270\n",
      "39   B_Kappa   1.742806\n",
      "-----------------------------------------------------\n",
      "The shape of X is  (80, 30)\n",
      "-----------------------------------------------------\n",
      "The R2 for  0.02  is  0.7376613166318681\n",
      "The RMSE for  0.02  is  0.26226195514620676\n",
      "-----------------------------------------------------\n",
      "The R2 is  0.7376613166318681\n",
      "The RMSE is  0.26226195514620676\n"
     ]
    }
   ],
   "source": [
    "X=feature_elimination(X,Y,30,ml_model,method='skb')\n",
    "ml_model=build_cv_model(X,Y,False,target)\n",
    "run_model(X,Y,ml_model_prime,target)"
   ]
  },
  {
   "cell_type": "code",
   "execution_count": 25,
   "id": "86bc5d14",
   "metadata": {},
   "outputs": [
    {
     "name": "stdout",
     "output_type": "stream",
     "text": [
      "     Feature      Score\n",
      "0       X_EA  95.250147\n",
      "1       X_Ra  67.173814\n",
      "2        s_B  61.964962\n",
      "3        X_Z  57.414810\n",
      "4     X_IEII  55.097923\n",
      "5   mean_A2B  47.874859\n",
      "6        s_X  43.799906\n",
      "7   mean_X2X  33.902649\n",
      "8        s_A  29.880346\n",
      "9     A_Rvdw  27.535795\n",
      "10      B_Ra  24.230307\n",
      "11     A_IEI  23.950524\n",
      "12  mean_A2X  22.081705\n",
      "13      B_Hf  21.205026\n",
      "14       B_Z  20.419989\n",
      "15        OF  19.424616\n",
      "16   std_B2X  16.266083\n",
      "17    A_ChiA  15.842395\n",
      "18   std_A2X  12.236469\n",
      "19      A_EA  12.192466\n",
      "20    A_ChiP  11.872273\n",
      "21     E_coh  11.792747\n",
      "22      B_MP  10.539184\n",
      "23     B_CvM  10.158055\n",
      "24     B_Rho   8.929870\n",
      "25      A_BP   8.076791\n",
      "26      X_MV   7.709740\n",
      "27      B_MV   7.166166\n",
      "28   std_A2B   7.106288\n",
      "29        TF   7.008817\n",
      "-----------------------------------------------------\n",
      "The shape of X is  (80, 20)\n"
     ]
    },
    {
     "name": "stderr",
     "output_type": "stream",
     "text": [
      "/Users/krishnarajmayya/opt/anaconda3/lib/python3.9/site-packages/sklearn/linear_model/_coordinate_descent.py:647: ConvergenceWarning: Objective did not converge. You might want to increase the number of iterations, check the scale of the features or consider increasing regularisation. Duality gap: 6.307e-02, tolerance: 6.338e-03\n",
      "  model = cd_fast.enet_coordinate_descent(\n",
      "/Users/krishnarajmayya/opt/anaconda3/lib/python3.9/site-packages/sklearn/linear_model/_coordinate_descent.py:647: ConvergenceWarning: Objective did not converge. You might want to increase the number of iterations, check the scale of the features or consider increasing regularisation. Duality gap: 5.829e-02, tolerance: 7.169e-03\n",
      "  model = cd_fast.enet_coordinate_descent(\n",
      "/Users/krishnarajmayya/opt/anaconda3/lib/python3.9/site-packages/sklearn/linear_model/_coordinate_descent.py:647: ConvergenceWarning: Objective did not converge. You might want to increase the number of iterations, check the scale of the features or consider increasing regularisation. Duality gap: 5.468e-02, tolerance: 6.260e-03\n",
      "  model = cd_fast.enet_coordinate_descent(\n",
      "/Users/krishnarajmayya/opt/anaconda3/lib/python3.9/site-packages/sklearn/linear_model/_coordinate_descent.py:647: ConvergenceWarning: Objective did not converge. You might want to increase the number of iterations, check the scale of the features or consider increasing regularisation. Duality gap: 1.192e-02, tolerance: 6.820e-03\n",
      "  model = cd_fast.enet_coordinate_descent(\n"
     ]
    },
    {
     "name": "stdout",
     "output_type": "stream",
     "text": [
      "-----------------------------------------------------\n",
      "The R2 for  0.02  is  0.7214685679639559\n",
      "The RMSE for  0.02  is  0.26046331674866585\n",
      "-----------------------------------------------------\n",
      "The R2 is  0.7214685679639559\n",
      "The RMSE is  0.26046331674866585\n"
     ]
    }
   ],
   "source": [
    "X=feature_elimination(X,Y,20,ml_model,method='skb')\n",
    "ml_model=build_cv_model(X,Y,False,target)\n",
    "run_model(X,Y,ml_model_prime,target)"
   ]
  },
  {
   "cell_type": "code",
   "execution_count": 26,
   "id": "354e0216",
   "metadata": {},
   "outputs": [
    {
     "name": "stdout",
     "output_type": "stream",
     "text": [
      "     Feature      Score\n",
      "0       X_EA  95.250147\n",
      "1       X_Ra  67.173814\n",
      "2        s_B  61.964962\n",
      "3        X_Z  57.414810\n",
      "4     X_IEII  55.097923\n",
      "5   mean_A2B  47.874859\n",
      "6        s_X  43.799906\n",
      "7   mean_X2X  33.902649\n",
      "8        s_A  29.880346\n",
      "9     A_Rvdw  27.535795\n",
      "10      B_Ra  24.230307\n",
      "11     A_IEI  23.950524\n",
      "12  mean_A2X  22.081705\n",
      "13      B_Hf  21.205026\n",
      "14       B_Z  20.419989\n",
      "15        OF  19.424616\n",
      "16   std_B2X  16.266083\n",
      "17    A_ChiA  15.842395\n",
      "18   std_A2X  12.236469\n",
      "19      A_EA  12.192466\n",
      "-----------------------------------------------------\n",
      "The shape of X is  (80, 10)\n",
      "-----------------------------------------------------\n",
      "The R2 for  0.01  is  0.7302509099183845\n",
      "The RMSE for  0.01  is  0.3184241725034789\n",
      "-----------------------------------------------------\n",
      "The R2 is  0.713595073212228\n",
      "The RMSE is  0.3219430471367615\n"
     ]
    }
   ],
   "source": [
    "X=feature_elimination(X,Y,10,ml_model,method='skb')\n",
    "ml_model=build_cv_model(X,Y,False,target)\n",
    "run_model(X,Y,ml_model_prime,target)"
   ]
  },
  {
   "cell_type": "markdown",
   "id": "7fc100aa",
   "metadata": {},
   "source": [
    "## Minmax scaling"
   ]
  },
  {
   "cell_type": "code",
   "execution_count": 27,
   "id": "3cf3e79b",
   "metadata": {},
   "outputs": [
    {
     "name": "stdout",
     "output_type": "stream",
     "text": [
      "The shape of X is  (80, 76)\n"
     ]
    },
    {
     "name": "stderr",
     "output_type": "stream",
     "text": [
      "/Users/krishnarajmayya/opt/anaconda3/lib/python3.9/site-packages/sklearn/linear_model/_coordinate_descent.py:647: ConvergenceWarning: Objective did not converge. You might want to increase the number of iterations, check the scale of the features or consider increasing regularisation. Duality gap: 6.374e-04, tolerance: 3.397e-04\n",
      "  model = cd_fast.enet_coordinate_descent(\n",
      "/Users/krishnarajmayya/opt/anaconda3/lib/python3.9/site-packages/sklearn/linear_model/_coordinate_descent.py:647: ConvergenceWarning: Objective did not converge. You might want to increase the number of iterations, check the scale of the features or consider increasing regularisation. Duality gap: 7.674e-04, tolerance: 3.842e-04\n",
      "  model = cd_fast.enet_coordinate_descent(\n",
      "/Users/krishnarajmayya/opt/anaconda3/lib/python3.9/site-packages/sklearn/linear_model/_coordinate_descent.py:647: ConvergenceWarning: Objective did not converge. You might want to increase the number of iterations, check the scale of the features or consider increasing regularisation. Duality gap: 7.125e-04, tolerance: 3.355e-04\n",
      "  model = cd_fast.enet_coordinate_descent(\n",
      "/Users/krishnarajmayya/opt/anaconda3/lib/python3.9/site-packages/sklearn/linear_model/_coordinate_descent.py:647: ConvergenceWarning: Objective did not converge. You might want to increase the number of iterations, check the scale of the features or consider increasing regularisation. Duality gap: 5.147e-04, tolerance: 2.880e-04\n",
      "  model = cd_fast.enet_coordinate_descent(\n",
      "/Users/krishnarajmayya/opt/anaconda3/lib/python3.9/site-packages/sklearn/linear_model/_coordinate_descent.py:647: ConvergenceWarning: Objective did not converge. You might want to increase the number of iterations, check the scale of the features or consider increasing regularisation. Duality gap: 4.607e-04, tolerance: 3.655e-04\n",
      "  model = cd_fast.enet_coordinate_descent(\n"
     ]
    },
    {
     "name": "stdout",
     "output_type": "stream",
     "text": [
      "-----------------------------------------------------\n",
      "The R2 for  0.001  is  0.7684860786162645\n",
      "The RMSE for  0.001  is  0.056957480961694264\n"
     ]
    }
   ],
   "source": [
    "X,Y = minmax_scaling(target)\n",
    "ml_model=build_cv_model(X,Y,False,target)"
   ]
  },
  {
   "cell_type": "markdown",
   "id": "53c80113",
   "metadata": {},
   "source": [
    "### Drop correlated features"
   ]
  },
  {
   "cell_type": "code",
   "execution_count": 28,
   "id": "08219247",
   "metadata": {},
   "outputs": [
    {
     "name": "stdout",
     "output_type": "stream",
     "text": [
      "The shape of X is  (80, 50)\n",
      "-----------------------------------------------------\n",
      "The R2 for  0.001  is  0.7764410806027999\n",
      "The RMSE for  0.001  is  0.06179839155463226\n"
     ]
    }
   ],
   "source": [
    "ml_model_prime=build_cv_model(X,Y,True,target)"
   ]
  },
  {
   "cell_type": "markdown",
   "id": "c9d99eda",
   "metadata": {},
   "source": [
    "### Feature elimination"
   ]
  },
  {
   "cell_type": "code",
   "execution_count": 29,
   "id": "cf0fb3e8",
   "metadata": {},
   "outputs": [
    {
     "name": "stdout",
     "output_type": "stream",
     "text": [
      "     Feature      Score\n",
      "0        s_A  29.880346\n",
      "1        s_B  61.964962\n",
      "2        s_X  43.799906\n",
      "3    density   1.191452\n",
      "4   mean_A2B  47.874859\n",
      "5   mean_A2X  22.081705\n",
      "6   mean_B2X   0.045034\n",
      "7   mean_X2X  33.902649\n",
      "8    std_A2B   7.106288\n",
      "9    std_A2X  12.236469\n",
      "10   std_B2X  16.266083\n",
      "11   std_X2X   5.427746\n",
      "12     E_coh  11.792747\n",
      "13        TF   7.008817\n",
      "14        OF  19.424616\n",
      "15       A_Z   5.970007\n",
      "16       B_Z  20.419989\n",
      "17       X_Z  57.414810\n",
      "18       A_G   3.457040\n",
      "19       B_G   0.902234\n",
      "20     A_IEI  23.950524\n",
      "21     B_IEI   0.055573\n",
      "22     X_IEI   0.848306\n",
      "23    A_IEII   0.385163\n",
      "24    B_IEII   2.519527\n",
      "25    X_IEII  55.097923\n",
      "26      A_EA  12.192466\n",
      "27      B_EA   1.411509\n",
      "28      X_EA  95.250147\n",
      "29    A_ChiP  11.872273\n",
      "30    B_ChiP   0.622186\n",
      "31    A_ChiA  15.842395\n",
      "32    X_ChiA   0.005879\n",
      "33    A_Rvdw  27.535795\n",
      "34      B_Ra  24.230307\n",
      "35      X_Ra  67.173814\n",
      "36      B_MP  10.539184\n",
      "37      A_BP   8.076791\n",
      "38     A_Rho   0.830238\n",
      "39     B_Rho   8.929870\n",
      "40      B_MV   7.166166\n",
      "41      X_MV   7.709740\n",
      "42      B_Hf  21.205026\n",
      "43   A_Kappa   5.590909\n",
      "44   B_Kappa   1.742806\n",
      "45   X_Kappa   2.297719\n",
      "46     A_CvM   3.585042\n",
      "47     B_CvM  10.158055\n",
      "48       A_B   3.534708\n",
      "49       B_B   1.964270\n",
      "-----------------------------------------------------\n",
      "The shape of X is  (80, 40)\n",
      "-----------------------------------------------------\n",
      "The R2 for  0.0005  is  0.8055282785507685\n",
      "The RMSE for  0.0005  is  0.059782449476996534\n",
      "-----------------------------------------------------\n",
      "The R2 is  0.8012268213653435\n",
      "The RMSE is  0.060357434944474445\n"
     ]
    }
   ],
   "source": [
    "X=feature_elimination(X,Y,40,ml_model_prime,method='skb')\n",
    "ml_model=build_cv_model(X,Y,False,target)\n",
    "run_model(X,Y,ml_model_prime,target)"
   ]
  },
  {
   "cell_type": "code",
   "execution_count": 30,
   "id": "0ca7c003",
   "metadata": {},
   "outputs": [
    {
     "name": "stdout",
     "output_type": "stream",
     "text": [
      "     Feature      Score\n",
      "0       X_EA  95.250147\n",
      "1       X_Ra  67.173814\n",
      "2        s_B  61.964962\n",
      "3        X_Z  57.414810\n",
      "4     X_IEII  55.097923\n",
      "5   mean_A2B  47.874859\n",
      "6        s_X  43.799906\n",
      "7   mean_X2X  33.902649\n",
      "8        s_A  29.880346\n",
      "9     A_Rvdw  27.535795\n",
      "10      B_Ra  24.230307\n",
      "11     A_IEI  23.950524\n",
      "12  mean_A2X  22.081705\n",
      "13      B_Hf  21.205026\n",
      "14       B_Z  20.419989\n",
      "15        OF  19.424616\n",
      "16   std_B2X  16.266083\n",
      "17    A_ChiA  15.842395\n",
      "18   std_A2X  12.236469\n",
      "19      A_EA  12.192466\n",
      "20    A_ChiP  11.872273\n",
      "21     E_coh  11.792747\n",
      "22      B_MP  10.539184\n",
      "23     B_CvM  10.158055\n",
      "24     B_Rho   8.929870\n",
      "25      A_BP   8.076791\n",
      "26      X_MV   7.709740\n",
      "27      B_MV   7.166166\n",
      "28   std_A2B   7.106288\n",
      "29        TF   7.008817\n",
      "30       A_Z   5.970007\n",
      "31   A_Kappa   5.590909\n",
      "32   std_X2X   5.427746\n",
      "33     A_CvM   3.585042\n",
      "34       A_B   3.534708\n",
      "35       A_G   3.457040\n",
      "36    B_IEII   2.519527\n",
      "37   X_Kappa   2.297719\n",
      "38       B_B   1.964270\n",
      "39   B_Kappa   1.742806\n",
      "-----------------------------------------------------\n",
      "The shape of X is  (80, 30)\n",
      "-----------------------------------------------------\n",
      "The R2 for  0.001  is  0.743129929654931\n",
      "The RMSE for  0.001  is  0.060810321958094146\n",
      "-----------------------------------------------------\n",
      "The R2 is  0.743129929654931\n",
      "The RMSE is  0.060810321958094146\n"
     ]
    }
   ],
   "source": [
    "X=feature_elimination(X,Y,30,ml_model,method='skb')\n",
    "ml_model=build_cv_model(X,Y,False,target)\n",
    "run_model(X,Y,ml_model_prime,target)"
   ]
  },
  {
   "cell_type": "code",
   "execution_count": 31,
   "id": "19f11f63",
   "metadata": {},
   "outputs": [
    {
     "name": "stdout",
     "output_type": "stream",
     "text": [
      "     Feature      Score\n",
      "0       X_EA  95.250147\n",
      "1       X_Ra  67.173814\n",
      "2        s_B  61.964962\n",
      "3        X_Z  57.414810\n",
      "4     X_IEII  55.097923\n",
      "5   mean_A2B  47.874859\n",
      "6        s_X  43.799906\n",
      "7   mean_X2X  33.902649\n",
      "8        s_A  29.880346\n",
      "9     A_Rvdw  27.535795\n",
      "10      B_Ra  24.230307\n",
      "11     A_IEI  23.950524\n",
      "12  mean_A2X  22.081705\n",
      "13      B_Hf  21.205026\n",
      "14       B_Z  20.419989\n",
      "15        OF  19.424616\n",
      "16   std_B2X  16.266083\n",
      "17    A_ChiA  15.842395\n",
      "18   std_A2X  12.236469\n",
      "19      A_EA  12.192466\n",
      "20    A_ChiP  11.872273\n",
      "21     E_coh  11.792747\n",
      "22      B_MP  10.539184\n",
      "23     B_CvM  10.158055\n",
      "24     B_Rho   8.929870\n",
      "25      A_BP   8.076791\n",
      "26      X_MV   7.709740\n",
      "27      B_MV   7.166166\n",
      "28   std_A2B   7.106288\n",
      "29        TF   7.008817\n",
      "-----------------------------------------------------\n",
      "The shape of X is  (80, 20)\n",
      "-----------------------------------------------------\n",
      "The R2 for  0.001  is  0.7324814587145096\n",
      "The RMSE for  0.001  is  0.06032077505479283\n",
      "-----------------------------------------------------\n",
      "The R2 is  0.7324814587145096\n",
      "The RMSE is  0.06032077505479283\n"
     ]
    }
   ],
   "source": [
    "X=feature_elimination(X,Y,20,ml_model,method='skb')\n",
    "ml_model=build_cv_model(X,Y,False,target)\n",
    "run_model(X,Y,ml_model_prime,target)"
   ]
  },
  {
   "cell_type": "code",
   "execution_count": 32,
   "id": "435b79d2",
   "metadata": {},
   "outputs": [
    {
     "name": "stdout",
     "output_type": "stream",
     "text": [
      "     Feature      Score\n",
      "0       X_EA  95.250147\n",
      "1       X_Ra  67.173814\n",
      "2        s_B  61.964962\n",
      "3        X_Z  57.414810\n",
      "4     X_IEII  55.097923\n",
      "5   mean_A2B  47.874859\n",
      "6        s_X  43.799906\n",
      "7   mean_X2X  33.902649\n",
      "8        s_A  29.880346\n",
      "9     A_Rvdw  27.535795\n",
      "10      B_Ra  24.230307\n",
      "11     A_IEI  23.950524\n",
      "12  mean_A2X  22.081705\n",
      "13      B_Hf  21.205026\n",
      "14       B_Z  20.419989\n",
      "15        OF  19.424616\n",
      "16   std_B2X  16.266083\n",
      "17    A_ChiA  15.842395\n",
      "18   std_A2X  12.236469\n",
      "19      A_EA  12.192466\n",
      "-----------------------------------------------------\n",
      "The shape of X is  (80, 10)\n",
      "-----------------------------------------------------\n",
      "The R2 for  0.0005  is  0.7295212636381091\n",
      "The RMSE for  0.0005  is  0.07377668051721521\n",
      "-----------------------------------------------------\n",
      "The R2 is  0.7145017871293675\n",
      "The RMSE is  0.07449920730262055\n"
     ]
    }
   ],
   "source": [
    "X=feature_elimination(X,Y,10,ml_model,method='skb')\n",
    "ml_model=build_cv_model(X,Y,False,target)\n",
    "run_model(X,Y,ml_model_prime,target)"
   ]
  }
 ],
 "metadata": {
  "kernelspec": {
   "display_name": "Python 3 (ipykernel)",
   "language": "python",
   "name": "python3"
  },
  "language_info": {
   "codemirror_mode": {
    "name": "ipython",
    "version": 3
   },
   "file_extension": ".py",
   "mimetype": "text/x-python",
   "name": "python",
   "nbconvert_exporter": "python",
   "pygments_lexer": "ipython3",
   "version": "3.9.13"
  }
 },
 "nbformat": 4,
 "nbformat_minor": 5
}
