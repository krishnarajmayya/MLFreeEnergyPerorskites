{
 "cells": [
  {
   "cell_type": "markdown",
   "id": "a9cd6142",
   "metadata": {},
   "source": [
    "# Model selection"
   ]
  },
  {
   "cell_type": "code",
   "execution_count": 1,
   "id": "62d47901",
   "metadata": {},
   "outputs": [],
   "source": [
    "import pandas as pd"
   ]
  },
  {
   "cell_type": "code",
   "execution_count": 2,
   "id": "cf430274",
   "metadata": {},
   "outputs": [],
   "source": [
    "import matplotlib.pyplot as plt\n",
    "import numpy as np\n",
    "import itertools"
   ]
  },
  {
   "cell_type": "code",
   "execution_count": 3,
   "id": "eb0a1193",
   "metadata": {},
   "outputs": [],
   "source": [
    "from sklearn.metrics import mean_squared_error, r2_score\n",
    "from sklearn.gaussian_process import GaussianProcessRegressor\n",
    "from sklearn.gaussian_process.kernels import RBF\n",
    "from sklearn.preprocessing import StandardScaler, MinMaxScaler\n",
    "from sklearn.model_selection import train_test_split, cross_val_score, KFold\n",
    "from sklearn.linear_model import LinearRegression, Ridge, Lasso\n",
    "from sklearn.ensemble import RandomForestRegressor,GradientBoostingRegressor\n",
    "from sklearn.feature_selection import RFE, SelectKBest, f_regression"
   ]
  },
  {
   "cell_type": "code",
   "execution_count": 4,
   "id": "d9667f76",
   "metadata": {},
   "outputs": [],
   "source": [
    "import seaborn as sns"
   ]
  },
  {
   "cell_type": "markdown",
   "id": "05e51c93",
   "metadata": {},
   "source": [
    "Import data from csv files into a dataframe"
   ]
  },
  {
   "cell_type": "code",
   "execution_count": 5,
   "id": "787cce69",
   "metadata": {},
   "outputs": [
    {
     "name": "stdout",
     "output_type": "stream",
     "text": [
      "['Name' 'Coef_a' 'Coef_b' 'Coef_c' 'Coef_d' 'A_site' 'B_site' 'X_site'\n",
      " 'Spacegroup' 'Ehull' 'BulkModulus' 'Energy' 'ZPE' 's_A' 's_B' 's_X'\n",
      " 'density' 'mean_A2B' 'mean_A2X' 'mean_B2X' 'mean_X2X' 'std_A2B' 'std_A2X'\n",
      " 'std_B2X' 'std_X2X' 'E_coh' 'TF' 'OF' 'A_Z' 'B_Z' 'X_Z' 'A_M' 'B_M' 'X_M'\n",
      " 'A_G' 'B_G' 'X_G' 'A_IEI' 'B_IEI' 'X_IEI' 'A_IEII' 'B_IEII' 'X_IEII'\n",
      " 'A_EA' 'B_EA' 'X_EA' 'A_ChiP' 'B_ChiP' 'X_ChiP' 'A_ChiA' 'X_ChiA'\n",
      " 'A_Rvdw' 'B_Rvdw' 'X_Rvdw' 'A_Rc' 'B_Rc' 'X_Rc' 'A_Ra' 'B_Ra' 'X_Ra'\n",
      " 'A_MP' 'B_MP' 'X_MP' 'A_BP' 'B_BP' 'X_BP' 'A_Rho' 'B_Rho' 'A_MV' 'B_MV'\n",
      " 'X_MV' 'A_Hf' 'B_Hf' 'X_Hf' 'A_Hv' 'B_Hv' 'X_Hv' 'A_Kappa' 'B_Kappa'\n",
      " 'X_Kappa' 'A_CvM' 'B_CvM' 'X_CvM' 'A_B' 'B_B' 'X_B' 'A_MendeleevNo'\n",
      " 'B_MendeleevNo' 'X_MendeleevNo']\n"
     ]
    }
   ],
   "source": [
    "data = pd.read_csv('Combined_all_3rd_fit.csv', encoding='cp1252')\n",
    "print(data.columns.values)"
   ]
  },
  {
   "cell_type": "markdown",
   "id": "193419bd",
   "metadata": {},
   "source": [
    "Drop the unnecessary columns and fill the empty cells with zero"
   ]
  },
  {
   "cell_type": "code",
   "execution_count": 6,
   "id": "30a36ba9",
   "metadata": {},
   "outputs": [
    {
     "name": "stdout",
     "output_type": "stream",
     "text": [
      "(80, 77)\n"
     ]
    }
   ],
   "source": [
    "data.drop(['Name', 'A_site', 'B_site', 'X_site', 'Spacegroup','BulkModulus',\n",
    "           'Ehull','Energy','ZPE','Coef_b', 'Coef_c', 'Coef_a'], axis=1, inplace = True)\n",
    "data.fillna(0, inplace= True)\n",
    "d=data.copy()\n",
    "columns = list(d.columns.values)\n",
    "print(d.shape)"
   ]
  },
  {
   "cell_type": "markdown",
   "id": "4bb0c2a1",
   "metadata": {},
   "source": [
    "Set the target variable to machine learn"
   ]
  },
  {
   "cell_type": "code",
   "execution_count": 7,
   "id": "b2817160",
   "metadata": {},
   "outputs": [],
   "source": [
    "target = 'Coef_d'"
   ]
  },
  {
   "cell_type": "markdown",
   "id": "0f98f85e",
   "metadata": {},
   "source": [
    "Define various methods to be used for buildig and validating the models"
   ]
  },
  {
   "cell_type": "code",
   "execution_count": 8,
   "id": "5fa4081a",
   "metadata": {},
   "outputs": [],
   "source": [
    "\"\"\"\n",
    "    Functions to perform scaling\n",
    "    \n",
    "    \"\"\"\n",
    "def standard_scaling(target):\n",
    "    data_std=d.copy()\n",
    "    data_std[columns]= StandardScaler().fit_transform(d[columns])\n",
    "    Y = data_std[target] \n",
    "    X = data_std.drop([target], axis=1)\n",
    "    return X,Y\n",
    "\n",
    "def minmax_scaling(target):\n",
    "    data_mm=d.copy()\n",
    "    data_mm[columns]= MinMaxScaler().fit_transform(d[columns])\n",
    "    Y = data_mm[target] \n",
    "    X = data_mm.drop([target], axis=1)\n",
    "    return X,Y"
   ]
  },
  {
   "cell_type": "code",
   "execution_count": 9,
   "id": "08eda787",
   "metadata": {},
   "outputs": [],
   "source": [
    "\"\"\"\n",
    "    Function to build machine learning models by hyper parameter tuning. It also plots scatter plot\n",
    "    \n",
    "    \"\"\"\n",
    "def build_cv_model(X,Y,b_drop=False,target='Coef_d'):\n",
    "    if b_drop :\n",
    "        correlated_features = [\"A_Rc\",\"A_Ra\",\"A_M\",\"A_MP\",\"A_MV\",\"A_MendeleevNo\",\"A_Hf\",\"A_Hv\",\"B_Rc\",\n",
    "                       \"B_Rvdw\",\"B_M\",\"B_BP\",\"B_MendeleevNo\",\"B_Hv\",\"X_Rc\",\"X_Rvdw\",\"X_M\",\"X_BP\",\"X_MP\",\n",
    "                       \"X_MendeleevNo\",\"X_Hf\",\"X_Hv\",\"X_G\",\"X_B\",\"X_CvM\",\"X_ChiP\"]\n",
    "        X.drop(labels=correlated_features, axis=1, inplace=True)\n",
    "        \n",
    "    print(\"The shape of X is \",X.shape)\n",
    "    \n",
    "    ml_model, cv_results = train_model(X,Y,hyperparams=hyperparams, cv=True, return_cv=True)\n",
    "    \n",
    "    return ml_model"
   ]
  },
  {
   "cell_type": "code",
   "execution_count": 10,
   "id": "835ed0e7",
   "metadata": {},
   "outputs": [],
   "source": [
    "def run_model(X,Y,model,target='Coef_d'):\n",
    "    rmse,r2 = run_cv(model, X, Y, n_cv = 5)\n",
    "    print(\"-----------------------------------------------------\")\n",
    "    print(\"The R2 is \",r2)\n",
    "    print(\"The RMSE is \",rmse)"
   ]
  },
  {
   "cell_type": "code",
   "execution_count": 11,
   "id": "8be0db69",
   "metadata": {},
   "outputs": [],
   "source": [
    "\"\"\"\n",
    "    Function to perform feature elimination using select K best of RFE method. It also prints the \n",
    "    feature scores obtained as:\n",
    "    SelectKBest: The scores obtained from the selector\n",
    "    RFE: The feature importance obtained from the RFR model \n",
    "    \n",
    "    \"\"\"\n",
    "def feature_elimination(X,Y,n,estimator,method='skb'):\n",
    "    if method=='skb':\n",
    "        bestfeatures = SelectKBest(score_func=f_regression, k=10)\n",
    "        fit = bestfeatures.fit(X,Y)\n",
    "        dfscores = pd.DataFrame(fit.scores_)\n",
    "        dfcolumns = pd.DataFrame(X.columns)\n",
    "        #concat two dataframes for better visualization \n",
    "        featureScores = pd.concat([dfcolumns,dfscores],axis=1)\n",
    "        featureScores.columns = ['Feature','Score']  #naming the dataframe columns\n",
    "        print(featureScores.nlargest(n,'Score'))  #print 10 best features\n",
    "        X=X[featureScores.nlargest(n,'Score')['Feature'].values]\n",
    "    elif method=='rfe':\n",
    "        selector = RFE(estimator, n_features_to_select=n, step=1)\n",
    "        selector = selector.fit(X, Y)\n",
    "        dfscores = pd.DataFrame(selector.ranking_)\n",
    "        dfcolumns = pd.DataFrame(selector.feature_names_in_)\n",
    "        #concat two dataframes for better visualization \n",
    "        featureSelection = pd.concat([dfcolumns,dfscores],axis=1)\n",
    "        featureSelection.columns = ['Feature','Score']  #naming the dataframe columns\n",
    "        X=X[featureSelection.nsmallest(n,'Score')['Feature'].values]\n",
    "        estimator.fit(X,Y)\n",
    "        importance = pd.DataFrame(estimator.feature_importances_)\n",
    "        featureNames = pd.DataFrame(X.columns.values)\n",
    "        featureScores = pd.concat([featureNames,importance],axis=1)\n",
    "        featureScores.columns = ['Feature','Score']  #naming the dataframe columns\n",
    "        \n",
    "    print(featureScores)\n",
    "    print(\"-----------------------------------------------------\")\n",
    "    return X"
   ]
  },
  {
   "cell_type": "code",
   "execution_count": 12,
   "id": "80a52bcd",
   "metadata": {},
   "outputs": [],
   "source": [
    "def train_model(X, y, hyperparams = None, cv = False, return_cv = False):\n",
    "    \"\"\"\n",
    "    Function to train the ML model on the given data X (features) and y (target property). \n",
    "    If hyperparams argument is passed, all possible combinations of alpha and kernel values\n",
    "    will be tried to find combination with minimum CV error. The final  model is trained\n",
    "    using the fixed kernel and alpha params as determined using CV.\n",
    "    \n",
    "    \"\"\"\n",
    "    \n",
    "    if cv:\n",
    "        cv_results = {'n_estimators':[],'criterion':[],'min_samples_split':[],\n",
    "                      'min_samples_leaf':[],'max_features':[],'cv_rmse':[],'cv_r2':[]}\n",
    "        for n,c,s,l,f in itertools.product(hyperparams['n_estimators'], \n",
    "                                           hyperparams['criterion'],hyperparams['min_samples_split'],\n",
    "                                          hyperparams['min_samples_leaf'],hyperparams['max_features']):\n",
    "\n",
    "            random_forests = RandomForestRegressor(\n",
    "            n_estimators=n, criterion=c, min_samples_split=s, min_samples_leaf=l, max_features=f)\n",
    "\n",
    "            cv_error, cv_r2 = run_cv(random_forests, X, y, n_cv = 5)\n",
    "            cv_results['cv_rmse'].append(cv_error)\n",
    "            cv_results['cv_r2'].append(cv_r2)\n",
    "            cv_results['n_estimators'].append(n)\n",
    "            cv_results['criterion'].append(c)\n",
    "            cv_results['min_samples_split'].append(s)\n",
    "            cv_results['min_samples_leaf'].append(l)\n",
    "            cv_results['max_features'].append(f)\n",
    "\n",
    "        cv_results = pd.DataFrame(cv_results)\n",
    "        cv_results = cv_results.sort_values('cv_rmse')\n",
    "        n_opt = cv_results.iloc[0]['n_estimators']\n",
    "        c_opt = cv_results.iloc[0]['criterion']\n",
    "        s_opt = cv_results.iloc[0]['min_samples_split']\n",
    "        l_opt = cv_results.iloc[0]['min_samples_leaf']\n",
    "        f_opt = cv_results.iloc[0]['max_features']\n",
    "        \n",
    "    else:\n",
    "        n_opt = hyperparams['n_estimators'][0]\n",
    "        c_opt = hyperparams['criterion'][0]\n",
    "        s_opt = hyperparams['min_samples_split'][0]\n",
    "        l_opt = hyperparams['min_samples_leaf'][0]\n",
    "        f_opt = hyperparams['max_features'][0]\n",
    "\n",
    "    random_forests = RandomForestRegressor(\n",
    "            n_estimators=n_opt, criterion=c_opt, min_samples_split=s_opt, min_samples_leaf=l_opt, max_features=f_opt)\n",
    "    model = random_forests.fit(X,y)\n",
    "    print(\"-----------------------------------------------------\")\n",
    "    print(\"The R2 for \",n_opt,\",\",c_opt,\",\",s_opt,\",\",l_opt,\",\",f_opt,\" is \",cv_results.iloc[0]['cv_r2'])\n",
    "    print(\"The RMSE for \",n_opt,\",\",c_opt,\",\",s_opt,\",\",l_opt,\",\",f_opt,\" is \",cv_results.iloc[0]['cv_rmse'])\n",
    "    return [model, cv_results] if return_cv else model\n",
    "\n",
    "\n",
    "def run_cv(ml_model, X, y, n_cv = 5):\n",
    "    \"\"\"\n",
    "    Function to run Cross-validation\n",
    "    \"\"\"\n",
    "    kf = KFold(n_splits=n_cv,shuffle=True,random_state=50)\n",
    "    y_val = []\n",
    "    y_pred = []\n",
    "\n",
    "    for idx, (train, val) in enumerate(kf.split(X)):\n",
    "        \n",
    "        X_cv_train = X.values[train]\n",
    "        X_cv_val = X.values[val]\n",
    "\n",
    "        y_cv_train = y.values[train]\n",
    "        y_cv_val = y.values[val]    \n",
    "\n",
    "        # Model fit and prediction\n",
    "        model = ml_model.fit(X_cv_train, y_cv_train)\n",
    "        y_pred_val = model.predict(X_cv_val)\n",
    "        \n",
    "        y_val.append(y_cv_val)\n",
    "        y_pred.append(y_pred_val)\n",
    "\n",
    "    # Computing errors\n",
    "    rmse = np.sqrt(mean_squared_error(y_val, y_pred))\n",
    "    r2 = r2_score(y_val, y_pred)\n",
    "    \n",
    "    return rmse, r2"
   ]
  },
  {
   "cell_type": "markdown",
   "id": "5e43d433",
   "metadata": {},
   "source": [
    "Define the hyperparameters to be tuned for the given algorithm"
   ]
  },
  {
   "cell_type": "code",
   "execution_count": 13,
   "id": "bffb2010",
   "metadata": {},
   "outputs": [],
   "source": [
    "hyperparams={'n_estimators': [10,100],\n",
    "             'criterion':[\"squared_error\", \"absolute_error\", \"friedman_mse\"],\n",
    "            'min_samples_split':[2,4,8],\n",
    "            'min_samples_leaf':[1,2,4,8],\n",
    "            'max_features':[\"sqrt\",\"log2\",0.3,1]}"
   ]
  },
  {
   "cell_type": "markdown",
   "id": "50ef316a",
   "metadata": {},
   "source": [
    "## Without scaling"
   ]
  },
  {
   "cell_type": "code",
   "execution_count": 14,
   "id": "68802fe0",
   "metadata": {},
   "outputs": [],
   "source": [
    "data_std=d.copy()\n",
    "Y = data_std[target] \n",
    "X = data_std.drop([target], axis=1)"
   ]
  },
  {
   "cell_type": "code",
   "execution_count": 15,
   "id": "090acf26",
   "metadata": {},
   "outputs": [
    {
     "name": "stdout",
     "output_type": "stream",
     "text": [
      "The shape of X is  (80, 76)\n",
      "-----------------------------------------------------\n",
      "The R2 for  100 , absolute_error , 2 , 1 , 0.3  is  0.827283215021097\n",
      "The RMSE for  100 , absolute_error , 2 , 1 , 0.3  is  3.1790823140359916\n"
     ]
    }
   ],
   "source": [
    "ml_model=build_cv_model(X,Y,False,target)"
   ]
  },
  {
   "cell_type": "markdown",
   "id": "62ea41f3",
   "metadata": {},
   "source": [
    "### Drop correlated features"
   ]
  },
  {
   "cell_type": "code",
   "execution_count": 16,
   "id": "26950d24",
   "metadata": {},
   "outputs": [
    {
     "name": "stdout",
     "output_type": "stream",
     "text": [
      "The shape of X is  (80, 50)\n",
      "-----------------------------------------------------\n",
      "The R2 for  100 , squared_error , 2 , 1 , 0.3  is  0.8190212396217834\n",
      "The RMSE for  100 , squared_error , 2 , 1 , 0.3  is  3.2835294484225974\n"
     ]
    }
   ],
   "source": [
    "ml_model_prime=build_cv_model(X,Y,True,target)"
   ]
  },
  {
   "cell_type": "markdown",
   "id": "f0b36718",
   "metadata": {},
   "source": [
    "### Feature elimination"
   ]
  },
  {
   "cell_type": "code",
   "execution_count": 17,
   "id": "a6b5dd6b",
   "metadata": {},
   "outputs": [
    {
     "name": "stdout",
     "output_type": "stream",
     "text": [
      "     Feature     Score\n",
      "0        s_A  0.011419\n",
      "1        s_B  0.037430\n",
      "2        s_X  0.029880\n",
      "3    density  0.059588\n",
      "4   mean_A2B  0.021548\n",
      "5   mean_A2X  0.019430\n",
      "6   mean_B2X  0.005920\n",
      "7   mean_X2X  0.032513\n",
      "8    std_A2B  0.005422\n",
      "9    std_A2X  0.009246\n",
      "10   std_B2X  0.008586\n",
      "11   std_X2X  0.004649\n",
      "12     E_coh  0.021278\n",
      "13        TF  0.005339\n",
      "14        OF  0.037560\n",
      "15       A_Z  0.002562\n",
      "16       B_Z  0.060142\n",
      "17       X_Z  0.142848\n",
      "18     A_IEI  0.003493\n",
      "19     B_IEI  0.003146\n",
      "20     X_IEI  0.024868\n",
      "21    B_IEII  0.012188\n",
      "22    X_IEII  0.071674\n",
      "23      B_EA  0.001524\n",
      "24      X_EA  0.125424\n",
      "25    B_ChiP  0.002944\n",
      "26    A_ChiA  0.019223\n",
      "27    X_ChiA  0.008598\n",
      "28    A_Rvdw  0.011663\n",
      "29      B_Ra  0.034527\n",
      "30      X_Ra  0.034614\n",
      "31      A_BP  0.007827\n",
      "32     B_Rho  0.041691\n",
      "33      B_MV  0.014848\n",
      "34      X_MV  0.009172\n",
      "35      B_Hf  0.004741\n",
      "36   B_Kappa  0.005916\n",
      "37   X_Kappa  0.005727\n",
      "38     A_CvM  0.001818\n",
      "39     B_CvM  0.039016\n",
      "-----------------------------------------------------\n",
      "The shape of X is  (80, 40)\n",
      "-----------------------------------------------------\n",
      "The R2 for  100 , absolute_error , 2 , 1 , 0.3  is  0.8244101785581093\n",
      "The RMSE for  100 , absolute_error , 2 , 1 , 0.3  is  3.2278836982845567\n",
      "-----------------------------------------------------\n",
      "The R2 is  0.8200900412154433\n",
      "The RMSE is  3.2425833664830566\n"
     ]
    }
   ],
   "source": [
    "X=feature_elimination(X,Y,40,ml_model_prime,method='rfe')\n",
    "ml_model=build_cv_model(X,Y,False,target)\n",
    "run_model(X,Y,ml_model_prime,target)"
   ]
  },
  {
   "cell_type": "code",
   "execution_count": 18,
   "id": "f4c14a2c",
   "metadata": {},
   "outputs": [
    {
     "name": "stdout",
     "output_type": "stream",
     "text": [
      "     Feature     Score\n",
      "0        s_A  0.024388\n",
      "1        s_B  0.032096\n",
      "2        s_X  0.020710\n",
      "3    density  0.039917\n",
      "4   mean_A2B  0.048186\n",
      "5   mean_A2X  0.022559\n",
      "6   mean_B2X  0.014882\n",
      "7   mean_X2X  0.047622\n",
      "8    std_A2X  0.017259\n",
      "9    std_X2X  0.020920\n",
      "10     E_coh  0.041490\n",
      "11        TF  0.015659\n",
      "12        OF  0.031208\n",
      "13       B_Z  0.040081\n",
      "14       X_Z  0.120586\n",
      "15     A_IEI  0.009369\n",
      "16     X_IEI  0.036617\n",
      "17    B_IEII  0.015798\n",
      "18    X_IEII  0.019535\n",
      "19      X_EA  0.117776\n",
      "20    B_ChiP  0.014071\n",
      "21    A_ChiA  0.024106\n",
      "22    X_ChiA  0.017598\n",
      "23    A_Rvdw  0.014803\n",
      "24      B_Ra  0.020031\n",
      "25      X_Ra  0.042710\n",
      "26     B_Rho  0.063346\n",
      "27      B_MV  0.016836\n",
      "28      X_MV  0.012089\n",
      "29     B_CvM  0.037752\n",
      "-----------------------------------------------------\n",
      "The shape of X is  (80, 30)\n",
      "-----------------------------------------------------\n",
      "The R2 for  10 , friedman_mse , 4 , 1 , log2  is  0.8464574204589639\n",
      "The RMSE for  10 , friedman_mse , 4 , 1 , log2  is  3.163241944951811\n",
      "-----------------------------------------------------\n",
      "The R2 is  0.8144603263362662\n",
      "The RMSE is  3.2986418039480725\n"
     ]
    }
   ],
   "source": [
    "X=feature_elimination(X,Y,30,ml_model,method='rfe')\n",
    "ml_model=build_cv_model(X,Y,False,target)\n",
    "run_model(X,Y,ml_model_prime,target)"
   ]
  },
  {
   "cell_type": "code",
   "execution_count": 19,
   "id": "43be0df3",
   "metadata": {},
   "outputs": [
    {
     "name": "stdout",
     "output_type": "stream",
     "text": [
      "     Feature     Score\n",
      "0        s_A  0.017961\n",
      "1        s_B  0.003574\n",
      "2        s_X  0.059582\n",
      "3    density  0.065801\n",
      "4   mean_A2B  0.105742\n",
      "5   mean_A2X  0.004025\n",
      "6   mean_X2X  0.061994\n",
      "7    std_X2X  0.012786\n",
      "8      E_coh  0.063069\n",
      "9         OF  0.034813\n",
      "10       B_Z  0.075808\n",
      "11       X_Z  0.136901\n",
      "12     A_IEI  0.011535\n",
      "13    X_IEII  0.053513\n",
      "14      X_EA  0.136904\n",
      "15    A_ChiA  0.006114\n",
      "16    X_ChiA  0.033147\n",
      "17    A_Rvdw  0.014576\n",
      "18      B_Ra  0.051230\n",
      "19     B_CvM  0.050924\n",
      "-----------------------------------------------------\n",
      "The shape of X is  (80, 20)\n",
      "-----------------------------------------------------\n",
      "The R2 for  100 , absolute_error , 2 , 1 , 0.3  is  0.8104377430379512\n",
      "The RMSE for  100 , absolute_error , 2 , 1 , 0.3  is  3.207826562530581\n",
      "-----------------------------------------------------\n",
      "The R2 is  0.7857824520250977\n",
      "The RMSE is  3.4190230751756343\n"
     ]
    }
   ],
   "source": [
    "X=feature_elimination(X,Y,20,ml_model,method='rfe')\n",
    "ml_model=build_cv_model(X,Y,False,target)\n",
    "run_model(X,Y,ml_model_prime,target)"
   ]
  },
  {
   "cell_type": "code",
   "execution_count": 20,
   "id": "ba87d76e",
   "metadata": {},
   "outputs": [
    {
     "name": "stdout",
     "output_type": "stream",
     "text": [
      "    Feature     Score\n",
      "0       s_B  0.090684\n",
      "1       s_X  0.077266\n",
      "2  mean_A2B  0.104604\n",
      "3  mean_X2X  0.104584\n",
      "4     E_coh  0.090981\n",
      "5        OF  0.080178\n",
      "6       B_Z  0.075433\n",
      "7       X_Z  0.171285\n",
      "8      X_EA  0.129627\n",
      "9     B_CvM  0.075358\n",
      "-----------------------------------------------------\n",
      "The shape of X is  (80, 10)\n",
      "-----------------------------------------------------\n",
      "The R2 for  10 , squared_error , 2 , 2 , sqrt  is  0.7401503001189571\n",
      "The RMSE for  10 , squared_error , 2 , 2 , sqrt  is  3.4080905264018013\n",
      "-----------------------------------------------------\n",
      "The R2 is  0.707815022175427\n",
      "The RMSE is  3.6160612187310868\n"
     ]
    }
   ],
   "source": [
    "X=feature_elimination(X,Y,10,ml_model,method='rfe')\n",
    "ml_model=build_cv_model(X,Y,False,target)\n",
    "run_model(X,Y,ml_model_prime,target)"
   ]
  },
  {
   "cell_type": "markdown",
   "id": "d6598f01",
   "metadata": {},
   "source": [
    "## Standard scaling"
   ]
  },
  {
   "cell_type": "code",
   "execution_count": 21,
   "id": "418a5638",
   "metadata": {},
   "outputs": [
    {
     "name": "stdout",
     "output_type": "stream",
     "text": [
      "The shape of X is  (80, 76)\n",
      "-----------------------------------------------------\n",
      "The R2 for  100 , friedman_mse , 2 , 1 , 0.3  is  0.8369014199495345\n",
      "The RMSE for  100 , friedman_mse , 2 , 1 , 0.3  is  0.28663365311628486\n"
     ]
    }
   ],
   "source": [
    "X,Y = standard_scaling(target)\n",
    "ml_model=build_cv_model(X,Y,False,target)"
   ]
  },
  {
   "cell_type": "code",
   "execution_count": 22,
   "id": "bc554eaf",
   "metadata": {},
   "outputs": [
    {
     "name": "stdout",
     "output_type": "stream",
     "text": [
      "The shape of X is  (80, 76)\n",
      "-----------------------------------------------------\n",
      "The R2 for  100 , absolute_error , 4 , 1 , 0.3  is  0.8018946850965183\n",
      "The RMSE for  100 , absolute_error , 4 , 1 , 0.3  is  0.2911881710630327\n"
     ]
    }
   ],
   "source": [
    "ml_model=build_cv_model(X,Y,False,target)"
   ]
  },
  {
   "cell_type": "markdown",
   "id": "2140e933",
   "metadata": {},
   "source": [
    "### Drop correlated features"
   ]
  },
  {
   "cell_type": "code",
   "execution_count": 23,
   "id": "e4732e80",
   "metadata": {},
   "outputs": [
    {
     "name": "stdout",
     "output_type": "stream",
     "text": [
      "The shape of X is  (80, 50)\n",
      "-----------------------------------------------------\n",
      "The R2 for  100 , absolute_error , 2 , 1 , 0.3  is  0.8173605214074204\n",
      "The RMSE for  100 , absolute_error , 2 , 1 , 0.3  is  0.31452000927686646\n"
     ]
    }
   ],
   "source": [
    "ml_model_prime=build_cv_model(X,Y,True,target)"
   ]
  },
  {
   "cell_type": "markdown",
   "id": "5da0961f",
   "metadata": {},
   "source": [
    "### Feature elimination"
   ]
  },
  {
   "cell_type": "code",
   "execution_count": 24,
   "id": "a53db140",
   "metadata": {},
   "outputs": [
    {
     "name": "stdout",
     "output_type": "stream",
     "text": [
      "     Feature     Score\n",
      "0        s_A  0.018828\n",
      "1        s_B  0.021535\n",
      "2        s_X  0.030620\n",
      "3    density  0.036011\n",
      "4   mean_A2B  0.047558\n",
      "5   mean_A2X  0.036103\n",
      "6   mean_B2X  0.013196\n",
      "7   mean_X2X  0.046999\n",
      "8    std_A2B  0.008468\n",
      "9    std_A2X  0.017698\n",
      "10   std_B2X  0.008122\n",
      "11   std_X2X  0.012947\n",
      "12     E_coh  0.033907\n",
      "13        TF  0.015127\n",
      "14        OF  0.038184\n",
      "15       A_Z  0.007002\n",
      "16       B_Z  0.027125\n",
      "17       X_Z  0.122105\n",
      "18       B_G  0.005465\n",
      "19     A_IEI  0.012228\n",
      "20     B_IEI  0.006159\n",
      "21     X_IEI  0.030646\n",
      "22    B_IEII  0.011855\n",
      "23    X_IEII  0.026100\n",
      "24      A_EA  0.004224\n",
      "25      X_EA  0.100521\n",
      "26    A_ChiP  0.006851\n",
      "27    B_ChiP  0.012222\n",
      "28    A_ChiA  0.021289\n",
      "29    X_ChiA  0.013449\n",
      "30    A_Rvdw  0.009751\n",
      "31      B_Ra  0.026532\n",
      "32      X_Ra  0.030903\n",
      "33     B_Rho  0.055898\n",
      "34      B_MV  0.015406\n",
      "35      X_MV  0.014957\n",
      "36      B_Hf  0.009214\n",
      "37   B_Kappa  0.011916\n",
      "38     A_CvM  0.006850\n",
      "39     B_CvM  0.026029\n",
      "-----------------------------------------------------\n",
      "The shape of X is  (80, 40)\n",
      "-----------------------------------------------------\n",
      "The R2 for  10 , friedman_mse , 2 , 1 , 0.3  is  0.7348898554855623\n",
      "The RMSE for  10 , friedman_mse , 2 , 1 , 0.3  is  0.2739150795878672\n",
      "-----------------------------------------------------\n",
      "The R2 is  0.8135301690644146\n",
      "The RMSE is  0.29162547621294327\n"
     ]
    }
   ],
   "source": [
    "X=feature_elimination(X,Y,40,ml_model_prime,method='rfe')\n",
    "ml_model=build_cv_model(X,Y,False,target)\n",
    "run_model(X,Y,ml_model_prime,target)"
   ]
  },
  {
   "cell_type": "code",
   "execution_count": 25,
   "id": "44657d0f",
   "metadata": {},
   "outputs": [
    {
     "name": "stdout",
     "output_type": "stream",
     "text": [
      "     Feature     Score\n",
      "0        s_A  0.001385\n",
      "1        s_B  0.012940\n",
      "2        s_X  0.021625\n",
      "3    density  0.015934\n",
      "4   mean_A2B  0.137313\n",
      "5   mean_A2X  0.000881\n",
      "6   mean_B2X  0.011173\n",
      "7   mean_X2X  0.095371\n",
      "8    std_A2B  0.001933\n",
      "9    std_A2X  0.005278\n",
      "10   std_B2X  0.003436\n",
      "11   std_X2X  0.009862\n",
      "12     E_coh  0.017448\n",
      "13        TF  0.005259\n",
      "14        OF  0.008133\n",
      "15       B_Z  0.091193\n",
      "16       X_Z  0.142281\n",
      "17     A_IEI  0.025040\n",
      "18     B_IEI  0.000729\n",
      "19     X_IEI  0.076209\n",
      "20    B_IEII  0.033529\n",
      "21    X_IEII  0.060188\n",
      "22    B_ChiP  0.023225\n",
      "23    A_ChiA  0.088452\n",
      "24    A_Rvdw  0.004112\n",
      "25      B_Ra  0.004901\n",
      "26     B_Rho  0.086189\n",
      "27      B_MV  0.004621\n",
      "28      X_MV  0.006856\n",
      "29     B_CvM  0.004506\n",
      "-----------------------------------------------------\n",
      "The shape of X is  (80, 30)\n",
      "-----------------------------------------------------\n",
      "The R2 for  10 , absolute_error , 4 , 1 , 0.3  is  0.7663816162014894\n",
      "The RMSE for  10 , absolute_error , 4 , 1 , 0.3  is  0.3209674339605244\n",
      "-----------------------------------------------------\n",
      "The R2 is  0.6743576717191324\n",
      "The RMSE is  0.3545677376307348\n"
     ]
    }
   ],
   "source": [
    "X=feature_elimination(X,Y,30,ml_model,method='rfe')\n",
    "ml_model=build_cv_model(X,Y,False,target)\n",
    "run_model(X,Y,ml_model_prime,target)"
   ]
  },
  {
   "cell_type": "code",
   "execution_count": 26,
   "id": "86bc5d14",
   "metadata": {},
   "outputs": [
    {
     "name": "stdout",
     "output_type": "stream",
     "text": [
      "     Feature     Score\n",
      "0        s_A  0.034480\n",
      "1        s_B  0.056594\n",
      "2    density  0.031796\n",
      "3   mean_A2B  0.086826\n",
      "4   mean_A2X  0.060801\n",
      "5   mean_B2X  0.018170\n",
      "6   mean_X2X  0.126291\n",
      "7    std_A2X  0.021339\n",
      "8      E_coh  0.021927\n",
      "9         OF  0.053653\n",
      "10       B_Z  0.056041\n",
      "11       X_Z  0.220099\n",
      "12     X_IEI  0.017755\n",
      "13    X_IEII  0.029917\n",
      "14    B_ChiP  0.013358\n",
      "15    A_ChiA  0.014183\n",
      "16      B_Ra  0.025137\n",
      "17     B_Rho  0.062926\n",
      "18      X_MV  0.011305\n",
      "19     B_CvM  0.037402\n",
      "-----------------------------------------------------\n",
      "The shape of X is  (80, 20)\n",
      "-----------------------------------------------------\n",
      "The R2 for  10 , absolute_error , 2 , 1 , 0.3  is  0.7178329069897816\n",
      "The RMSE for  10 , absolute_error , 2 , 1 , 0.3  is  0.3089299188579175\n",
      "-----------------------------------------------------\n",
      "The R2 is  0.7580250415863289\n",
      "The RMSE is  0.3262403455841206\n"
     ]
    }
   ],
   "source": [
    "X=feature_elimination(X,Y,20,ml_model,method='rfe')\n",
    "ml_model=build_cv_model(X,Y,False,target)\n",
    "run_model(X,Y,ml_model_prime,target)"
   ]
  },
  {
   "cell_type": "code",
   "execution_count": 27,
   "id": "354e0216",
   "metadata": {},
   "outputs": [
    {
     "name": "stdout",
     "output_type": "stream",
     "text": [
      "    Feature     Score\n",
      "0       s_B  0.121106\n",
      "1  mean_A2B  0.157373\n",
      "2  mean_A2X  0.177057\n",
      "3  mean_X2X  0.075775\n",
      "4     E_coh  0.095768\n",
      "5        OF  0.086355\n",
      "6       X_Z  0.077381\n",
      "7    A_ChiA  0.043454\n",
      "8     B_Rho  0.067788\n",
      "9      X_MV  0.097943\n",
      "-----------------------------------------------------\n",
      "The shape of X is  (80, 10)\n",
      "-----------------------------------------------------\n",
      "The R2 for  100 , absolute_error , 2 , 1 , sqrt  is  0.8089131088876933\n",
      "The RMSE for  100 , absolute_error , 2 , 1 , sqrt  is  0.30909957372976365\n",
      "-----------------------------------------------------\n",
      "The R2 is  0.7490027633543264\n",
      "The RMSE is  0.32815799096736387\n"
     ]
    }
   ],
   "source": [
    "X=feature_elimination(X,Y,10,ml_model,method='rfe')\n",
    "ml_model=build_cv_model(X,Y,False,target)\n",
    "run_model(X,Y,ml_model_prime,target)"
   ]
  },
  {
   "cell_type": "markdown",
   "id": "7fc100aa",
   "metadata": {},
   "source": [
    "## Minmax scaling"
   ]
  },
  {
   "cell_type": "code",
   "execution_count": 28,
   "id": "3cf3e79b",
   "metadata": {},
   "outputs": [
    {
     "name": "stdout",
     "output_type": "stream",
     "text": [
      "The shape of X is  (80, 76)\n",
      "-----------------------------------------------------\n",
      "The R2 for  10 , absolute_error , 2 , 1 , 0.3  is  0.8670251999733172\n",
      "The RMSE for  10 , absolute_error , 2 , 1 , 0.3  is  0.06163889350949852\n"
     ]
    }
   ],
   "source": [
    "X,Y = minmax_scaling(target)\n",
    "ml_model=build_cv_model(X,Y,False,target)"
   ]
  },
  {
   "cell_type": "markdown",
   "id": "53c80113",
   "metadata": {},
   "source": [
    "### Drop correlated features"
   ]
  },
  {
   "cell_type": "code",
   "execution_count": 29,
   "id": "08219247",
   "metadata": {},
   "outputs": [
    {
     "name": "stdout",
     "output_type": "stream",
     "text": [
      "The shape of X is  (80, 50)\n",
      "-----------------------------------------------------\n",
      "The R2 for  100 , absolute_error , 4 , 1 , 0.3  is  0.8166542976126345\n",
      "The RMSE for  100 , absolute_error , 4 , 1 , 0.3  is  0.07260205772268902\n"
     ]
    }
   ],
   "source": [
    "ml_model_prime=build_cv_model(X,Y,True,target)"
   ]
  },
  {
   "cell_type": "markdown",
   "id": "c9d99eda",
   "metadata": {},
   "source": [
    "### Feature elimination"
   ]
  },
  {
   "cell_type": "code",
   "execution_count": 30,
   "id": "cf0fb3e8",
   "metadata": {},
   "outputs": [
    {
     "name": "stdout",
     "output_type": "stream",
     "text": [
      "     Feature     Score\n",
      "0        s_A  0.018708\n",
      "1        s_B  0.035489\n",
      "2        s_X  0.022515\n",
      "3    density  0.039201\n",
      "4   mean_A2B  0.050684\n",
      "5   mean_A2X  0.035215\n",
      "6   mean_B2X  0.008352\n",
      "7   mean_X2X  0.056739\n",
      "8    std_A2B  0.006451\n",
      "9    std_A2X  0.012796\n",
      "10   std_B2X  0.012629\n",
      "11   std_X2X  0.012572\n",
      "12     E_coh  0.038705\n",
      "13        TF  0.014857\n",
      "14        OF  0.035526\n",
      "15       A_Z  0.006735\n",
      "16       B_Z  0.040875\n",
      "17       X_Z  0.094126\n",
      "18     A_IEI  0.009921\n",
      "19     B_IEI  0.005518\n",
      "20     X_IEI  0.021904\n",
      "21    B_IEII  0.012902\n",
      "22    X_IEII  0.040431\n",
      "23      B_EA  0.005613\n",
      "24      X_EA  0.092628\n",
      "25    A_ChiP  0.008010\n",
      "26    B_ChiP  0.007632\n",
      "27    A_ChiA  0.020621\n",
      "28    X_ChiA  0.018196\n",
      "29    A_Rvdw  0.007111\n",
      "30      B_Ra  0.018499\n",
      "31      X_Ra  0.063928\n",
      "32     B_Rho  0.051636\n",
      "33      B_MV  0.009071\n",
      "34      X_MV  0.009465\n",
      "35      B_Hf  0.005356\n",
      "36   B_Kappa  0.010306\n",
      "37   X_Kappa  0.009549\n",
      "38     A_CvM  0.007473\n",
      "39     B_CvM  0.022054\n",
      "-----------------------------------------------------\n",
      "The shape of X is  (80, 40)\n",
      "-----------------------------------------------------\n",
      "The R2 for  100 , absolute_error , 2 , 1 , 0.3  is  0.8572500432567218\n",
      "The RMSE for  100 , absolute_error , 2 , 1 , 0.3  is  0.06608134634807823\n",
      "-----------------------------------------------------\n",
      "The R2 is  0.84154797694811\n",
      "The RMSE is  0.07039322740453649\n"
     ]
    }
   ],
   "source": [
    "X=feature_elimination(X,Y,40,ml_model_prime,method='rfe')\n",
    "ml_model=build_cv_model(X,Y,False,target)\n",
    "run_model(X,Y,ml_model_prime,target)"
   ]
  },
  {
   "cell_type": "code",
   "execution_count": 31,
   "id": "0ca7c003",
   "metadata": {},
   "outputs": [
    {
     "name": "stdout",
     "output_type": "stream",
     "text": [
      "     Feature     Score\n",
      "0        s_A  0.022725\n",
      "1        s_B  0.036726\n",
      "2        s_X  0.046711\n",
      "3    density  0.036088\n",
      "4   mean_A2B  0.049637\n",
      "5   mean_A2X  0.027899\n",
      "6   mean_B2X  0.017989\n",
      "7   mean_X2X  0.060823\n",
      "8    std_A2B  0.011014\n",
      "9    std_A2X  0.019581\n",
      "10   std_X2X  0.017606\n",
      "11     E_coh  0.037489\n",
      "12        TF  0.016739\n",
      "13        OF  0.027856\n",
      "14       B_Z  0.044049\n",
      "15       X_Z  0.093838\n",
      "16     X_IEI  0.032231\n",
      "17    B_IEII  0.010901\n",
      "18    X_IEII  0.041156\n",
      "19      X_EA  0.090184\n",
      "20    B_ChiP  0.013167\n",
      "21    A_ChiA  0.024109\n",
      "22    X_ChiA  0.023466\n",
      "23    A_Rvdw  0.018995\n",
      "24      B_Ra  0.034956\n",
      "25      X_Ra  0.024154\n",
      "26     B_Rho  0.051874\n",
      "27      B_MV  0.019043\n",
      "28      X_MV  0.015936\n",
      "29     B_CvM  0.033057\n",
      "-----------------------------------------------------\n",
      "The shape of X is  (80, 30)\n",
      "-----------------------------------------------------\n",
      "The R2 for  100 , squared_error , 2 , 1 , 0.3  is  0.7806031440737156\n",
      "The RMSE for  100 , squared_error , 2 , 1 , 0.3  is  0.06959391140387751\n",
      "-----------------------------------------------------\n",
      "The R2 is  0.7964773969473686\n",
      "The RMSE is  0.07502081386788759\n"
     ]
    }
   ],
   "source": [
    "X=feature_elimination(X,Y,30,ml_model,method='rfe')\n",
    "ml_model=build_cv_model(X,Y,False,target)\n",
    "run_model(X,Y,ml_model_prime,target)"
   ]
  },
  {
   "cell_type": "code",
   "execution_count": 32,
   "id": "19f11f63",
   "metadata": {},
   "outputs": [
    {
     "name": "stdout",
     "output_type": "stream",
     "text": [
      "     Feature     Score\n",
      "0        s_A  0.023079\n",
      "1        s_B  0.021343\n",
      "2        s_X  0.011658\n",
      "3    density  0.036329\n",
      "4   mean_A2B  0.051580\n",
      "5   mean_A2X  0.040855\n",
      "6   mean_X2X  0.037217\n",
      "7      E_coh  0.035107\n",
      "8         OF  0.036212\n",
      "9        B_Z  0.060838\n",
      "10       X_Z  0.188955\n",
      "11     X_IEI  0.011587\n",
      "12    X_IEII  0.050936\n",
      "13      X_EA  0.165822\n",
      "14    A_ChiA  0.036845\n",
      "15      B_Ra  0.038110\n",
      "16      X_Ra  0.034441\n",
      "17     B_Rho  0.047221\n",
      "18      B_MV  0.027996\n",
      "19     B_CvM  0.043867\n",
      "-----------------------------------------------------\n",
      "The shape of X is  (80, 20)\n",
      "-----------------------------------------------------\n",
      "The R2 for  10 , friedman_mse , 2 , 1 , sqrt  is  0.7561823156337781\n",
      "The RMSE for  10 , friedman_mse , 2 , 1 , sqrt  is  0.06442553724919195\n",
      "-----------------------------------------------------\n",
      "The R2 is  0.8324494852262329\n",
      "The RMSE is  0.06967600174085363\n"
     ]
    }
   ],
   "source": [
    "X=feature_elimination(X,Y,20,ml_model,method='rfe')\n",
    "ml_model=build_cv_model(X,Y,False,target)\n",
    "run_model(X,Y,ml_model_prime,target)"
   ]
  },
  {
   "cell_type": "code",
   "execution_count": 33,
   "id": "435b79d2",
   "metadata": {},
   "outputs": [
    {
     "name": "stdout",
     "output_type": "stream",
     "text": [
      "    Feature     Score\n",
      "0       s_B  0.056022\n",
      "1       s_X  0.060305\n",
      "2   density  0.085454\n",
      "3  mean_X2X  0.185902\n",
      "4        OF  0.066367\n",
      "5       X_Z  0.251430\n",
      "6      X_EA  0.118340\n",
      "7      B_Ra  0.093129\n",
      "8     B_Rho  0.062074\n",
      "9     B_CvM  0.020977\n",
      "-----------------------------------------------------\n",
      "The shape of X is  (80, 10)\n",
      "-----------------------------------------------------\n",
      "The R2 for  10 , friedman_mse , 4 , 2 , log2  is  0.713831263729366\n",
      "The RMSE for  10 , friedman_mse , 4 , 2 , log2  is  0.07966426501270088\n",
      "-----------------------------------------------------\n",
      "The R2 is  0.6583973589879744\n",
      "The RMSE is  0.08257110177939408\n"
     ]
    }
   ],
   "source": [
    "X=feature_elimination(X,Y,10,ml_model,method='rfe')\n",
    "ml_model=build_cv_model(X,Y,False,target)\n",
    "run_model(X,Y,ml_model_prime,target)"
   ]
  }
 ],
 "metadata": {
  "kernelspec": {
   "display_name": "Python 3 (ipykernel)",
   "language": "python",
   "name": "python3"
  },
  "language_info": {
   "codemirror_mode": {
    "name": "ipython",
    "version": 3
   },
   "file_extension": ".py",
   "mimetype": "text/x-python",
   "name": "python",
   "nbconvert_exporter": "python",
   "pygments_lexer": "ipython3",
   "version": "3.9.13"
  }
 },
 "nbformat": 4,
 "nbformat_minor": 5
}
