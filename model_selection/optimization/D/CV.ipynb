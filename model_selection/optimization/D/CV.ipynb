{
 "cells": [
  {
   "cell_type": "code",
   "execution_count": 1,
   "metadata": {
    "id": "U1Or_5CpWR5m"
   },
   "outputs": [],
   "source": [
    "import numpy as np\n",
    "import pandas as pd\n",
    "import matplotlib.pyplot as plt\n",
    "from math import sqrt\n",
    "import seaborn as sns \n",
    "import re\n",
    " \n",
    "import warnings # supress warnings\n",
    "warnings.filterwarnings('ignore')"
   ]
  },
  {
   "cell_type": "code",
   "execution_count": 2,
   "metadata": {
    "id": "wd0p9t1imwDC"
   },
   "outputs": [],
   "source": [
    "import sklearn\n",
    "\n",
    "from sklearn.preprocessing import MinMaxScaler, PolynomialFeatures, scale, StandardScaler\n",
    "\n",
    "from sklearn.model_selection import train_test_split, cross_val_score, KFold, GridSearchCV\n",
    "\n",
    "from sklearn.linear_model import LinearRegression, Ridge, Lasso, ElasticNet \n",
    "\n",
    "from sklearn.ensemble import RandomForestRegressor\n",
    "from sklearn.ensemble import GradientBoostingRegressor\n",
    "\n",
    "from sklearn.feature_selection import RFE, SelectKBest, f_regression\n",
    "from sklearn.inspection import permutation_importance\n",
    "\n",
    "from sklearn.gaussian_process import GaussianProcessRegressor\n",
    "from sklearn.gaussian_process.kernels import DotProduct, WhiteKernel, RBF, Matern, RationalQuadratic,Exponentiation\n",
    "from sklearn.gaussian_process.kernels import Kernel, Hyperparameter, ConstantKernel\n",
    "from sklearn.gaussian_process.kernels import GenericKernelMixin\n",
    "\n",
    "from sklearn import metrics\n",
    "from sklearn.metrics import mean_squared_error\n",
    "from sklearn.metrics import r2_score  \n",
    "\n",
    "from sklearn.pipeline import make_pipeline\n",
    "\n",
    "from sklearn.base import clone"
   ]
  },
  {
   "cell_type": "code",
   "execution_count": 3,
   "metadata": {},
   "outputs": [],
   "source": [
    "def run_models():\n",
    "    #rf = RandomForestRegressor(n_estimators= 100, random_state= 10)\n",
    "    rf = RandomForestRegressor(n_estimators=10, criterion='absolute_error', \n",
    "                               min_samples_split=2, min_samples_leaf=1, max_features=0.3)\n",
    "    gb = GradientBoostingRegressor(loss='quantile', alpha=0.5,\n",
    "                                n_estimators=100, max_depth=10,\n",
    "                                learning_rate=0.25, min_samples_leaf=9,\n",
    "                                min_samples_split=2)\n",
    "    rr = Ridge(alpha=0.01)\n",
    "    lasso = Lasso(alpha=0.02)\n",
    "    gpr1 = GaussianProcessRegressor(optimizer='fmin_l_bfgs_b',random_state=50,\n",
    "                                    kernel=DotProduct() + WhiteKernel(),\n",
    "                                    alpha=0.1, n_restarts_optimizer=1)\n",
    "    gpr2 = GaussianProcessRegressor(optimizer='fmin_l_bfgs_b',random_state=50,\n",
    "                                    kernel=1.0 + 1.0 * Exponentiation(RBF(length_scale=1.0), exponent=2) + \n",
    "                                    WhiteKernel(noise_level=0.1), alpha=0.1, n_restarts_optimizer=1)\n",
    "    gpr3 = GaussianProcessRegressor(optimizer='fmin_l_bfgs_b',random_state=50,\n",
    "                                    kernel=1.0 + 1.0 * Exponentiation(RationalQuadratic(length_scale=1.0, \n",
    "                                                                                        alpha=0.01), exponent=2),\n",
    "                                    alpha=0.001, n_restarts_optimizer=1)\n",
    "    gpr4 = GaussianProcessRegressor(optimizer='fmin_l_bfgs_b',random_state=50,\n",
    "                                    kernel=1.0 + 1.0 * Exponentiation(Matern(length_scale=1.0, nu=1.5), exponent=2),\n",
    "                                    alpha=0.01, n_restarts_optimizer=1)\n",
    "    models = [rf,gb,rr,lasso,gpr1,gpr2,gpr3,gpr4]\n",
    "    models_names = [\"RF\",\"GB\",\"RR\",\"LASSO\",\"gpr1\",\"gpr2\",\"gpr3\",\"gpr4\"]\n",
    "    r2scores=[]\n",
    "    rmse=[]\n",
    "    count=0\n",
    "    for model in models :\n",
    "        predicted_y = []\n",
    "        expected_y = []\n",
    "        kf = KFold(n_splits= 10) \n",
    "        # partition data\n",
    "        for train_index, test_index in kf.split(X, Y):\n",
    "            # specific \".loc\" syntax for working with dataframes\n",
    "            x_train, x_test = X.loc[train_index], X.loc[test_index]\n",
    "            y_train, y_test = Y[train_index], Y[test_index]\n",
    "\n",
    "            # create and fit classifier\n",
    "            model.fit(x_train, y_train)\n",
    "\n",
    "            # store result from classification\n",
    "            predicted_y.extend(model.predict(x_test))\n",
    "\n",
    "            # store expected result for this specific fold\n",
    "            expected_y.extend(y_test)\n",
    "        \n",
    "        r2 = metrics.r2_score(expected_y, predicted_y)\n",
    "        r2scores.append(r2)\n",
    "        \n",
    "        err=np.sqrt(metrics.mean_squared_error(expected_y, predicted_y))\n",
    "        rmse.append(err)\n",
    "        \n",
    "        print(models_names[count])\n",
    "        print(\"R2: \",r2.__str__())\n",
    "        print(\"RMSE: \",err)\n",
    "        print(\"---------------------------------------\")\n",
    "        count+=1\n",
    "    \n",
    "    plt.rcdefaults()\n",
    "    fig, ax = plt.subplots()\n",
    "\n",
    "    x_pos = np.arange(len(models_names))\n",
    "    ax.bar(x_pos, r2scores, align='center')\n",
    "    ax.set_xticks(x_pos)\n",
    "    ax.set_xticklabels(models_names)\n",
    "    ax.set_ylabel('R2 Score')\n",
    "    #plt.savefig('imp.eps', format='eps')\n",
    "    #plt.show()\n",
    "    print(r2scores)"
   ]
  },
  {
   "cell_type": "code",
   "execution_count": 4,
   "metadata": {
    "id": "hjdsOVHoYDJB"
   },
   "outputs": [
    {
     "name": "stdout",
     "output_type": "stream",
     "text": [
      "['Name' 'Coef_a' 'Coef_b' 'Coef_c' 'Coef_d' 'A_site' 'B_site' 'X_site'\n",
      " 'Spacegroup' 'Ehull' 'BulkModulus' 'Energy' 'ZPE' 's_A' 's_B' 's_X'\n",
      " 'density' 'mean_A2B' 'mean_A2X' 'mean_B2X' 'mean_X2X' 'std_A2B' 'std_A2X'\n",
      " 'std_B2X' 'std_X2X' 'E_coh' 'TF' 'OF' 'A_Z' 'B_Z' 'X_Z' 'A_M' 'B_M' 'X_M'\n",
      " 'A_G' 'B_G' 'X_G' 'A_IEI' 'B_IEI' 'X_IEI' 'A_IEII' 'B_IEII' 'X_IEII'\n",
      " 'A_EA' 'B_EA' 'X_EA' 'A_ChiP' 'B_ChiP' 'X_ChiP' 'A_ChiA' 'X_ChiA'\n",
      " 'A_Rvdw' 'B_Rvdw' 'X_Rvdw' 'A_Rc' 'B_Rc' 'X_Rc' 'A_Ra' 'B_Ra' 'X_Ra'\n",
      " 'A_MP' 'B_MP' 'X_MP' 'A_BP' 'B_BP' 'X_BP' 'A_Rho' 'B_Rho' 'A_MV' 'B_MV'\n",
      " 'X_MV' 'A_Hf' 'B_Hf' 'X_Hf' 'A_Hv' 'B_Hv' 'X_Hv' 'A_Kappa' 'B_Kappa'\n",
      " 'X_Kappa' 'A_CvM' 'B_CvM' 'X_CvM' 'A_B' 'B_B' 'X_B' 'A_MendeleevNo'\n",
      " 'B_MendeleevNo' 'X_MendeleevNo']\n"
     ]
    }
   ],
   "source": [
    "data = pd.read_csv('Combined_all_3rd_fit.csv', encoding='cp1252')\n",
    "print(data.columns.values)"
   ]
  },
  {
   "cell_type": "code",
   "execution_count": 5,
   "metadata": {
    "id": "5BRaOxKmYmEg"
   },
   "outputs": [],
   "source": [
    "data.drop(['Name', 'A_site', 'B_site', 'X_site', 'Spacegroup','BulkModulus',\n",
    "           'Ehull','Energy','ZPE','Coef_b', 'Coef_c', 'Coef_a'], axis=1, inplace = True)\n",
    "target = 'Coef_d'"
   ]
  },
  {
   "cell_type": "code",
   "execution_count": 6,
   "metadata": {},
   "outputs": [],
   "source": [
    "data.fillna(0, inplace= True)\n",
    "d=data.copy()\n",
    "columns = list(d.columns.values)"
   ]
  },
  {
   "cell_type": "markdown",
   "metadata": {},
   "source": [
    "# Standard Scaling"
   ]
  },
  {
   "cell_type": "code",
   "execution_count": 7,
   "metadata": {},
   "outputs": [],
   "source": [
    "data_std=d.copy()\n",
    "scalerSTD=StandardScaler()\n",
    "scalerSTD.fit(np.array(data[target]).reshape(-1, 1))\n",
    "data_zpe_std= scalerSTD.transform(np.array(data[target]).reshape(-1, 1))\n",
    "data_std[columns]= StandardScaler().fit_transform(d[columns])\n",
    "Y = data_std[target] \n",
    "X = data_std.drop([target], axis=1)"
   ]
  },
  {
   "cell_type": "code",
   "execution_count": 8,
   "metadata": {
    "id": "7-nT8kNsWJRO"
   },
   "outputs": [
    {
     "name": "stdout",
     "output_type": "stream",
     "text": [
      "(80, 51)\n"
     ]
    }
   ],
   "source": [
    "correlated_features = [\"A_Rc\",\"A_Ra\",\"A_M\",\"A_MP\",\"A_MV\",\"A_MendeleevNo\",\"A_Hf\",\"A_Hv\",\"B_Rc\",\n",
    "                       \"B_Rvdw\",\"B_M\",\"B_BP\",\"B_MendeleevNo\",\"B_Hv\",\"X_Rc\",\"X_Rvdw\",\"X_M\",\"X_BP\",\"X_MP\",\n",
    "                       \"X_MendeleevNo\",\"X_Hf\",\"X_Hv\",\"X_G\",\"X_B\",\"X_CvM\",\"X_ChiP\"]\n",
    "data_std.drop(labels=correlated_features, axis=1, inplace=True)\n",
    "print(data_std.shape)\n",
    "Y = data_std[target] \n",
    "X = data_std.drop([target], axis=1)"
   ]
  },
  {
   "cell_type": "code",
   "execution_count": 9,
   "metadata": {},
   "outputs": [],
   "source": [
    "#data_std.to_csv(\"scaled_non_correlated.csv\")"
   ]
  },
  {
   "cell_type": "markdown",
   "metadata": {
    "id": "ZaJDp0jdzwnZ"
   },
   "source": [
    "### Using CV technique"
   ]
  },
  {
   "cell_type": "code",
   "execution_count": 10,
   "metadata": {},
   "outputs": [
    {
     "name": "stdout",
     "output_type": "stream",
     "text": [
      "RF\n",
      "R2:  0.9100802832729049\n",
      "RMSE:  0.29986616469200905\n",
      "---------------------------------------\n",
      "GB\n",
      "R2:  0.8002308877379021\n",
      "RMSE:  0.4469553806165644\n",
      "---------------------------------------\n",
      "RR\n",
      "R2:  0.4388698741311787\n",
      "RMSE:  0.7490861938848034\n",
      "---------------------------------------\n",
      "LASSO\n",
      "R2:  0.9245425628211686\n",
      "RMSE:  0.2746951713788056\n",
      "---------------------------------------\n",
      "gpr1\n",
      "R2:  0.867617269016495\n",
      "RMSE:  0.363844377424614\n",
      "---------------------------------------\n",
      "gpr2\n",
      "R2:  0.9265558061210752\n",
      "RMSE:  0.2710058927014775\n",
      "---------------------------------------\n",
      "gpr3\n",
      "R2:  0.9215789539830068\n",
      "RMSE:  0.28003757965136256\n",
      "---------------------------------------\n",
      "gpr4\n",
      "R2:  0.9430635991109445\n",
      "RMSE:  0.23861349687110228\n",
      "---------------------------------------\n",
      "[0.9100802832729049, 0.8002308877379021, 0.4388698741311787, 0.9245425628211686, 0.867617269016495, 0.9265558061210752, 0.9215789539830068, 0.9430635991109445]\n"
     ]
    },
    {
     "data": {
      "image/png": "[encoded data removed]",
      "text/plain": [
       "<Figure size 640x480 with 1 Axes>"
      ]
     },
     "metadata": {},
     "output_type": "display_data"
    }
   ],
   "source": [
    "run_models()"
   ]
  },
  {
   "cell_type": "markdown",
   "metadata": {
    "id": "_x7bQR-jz4WE"
   },
   "source": [
    "## Feature selection\n"
   ]
  },
  {
   "cell_type": "code",
   "execution_count": 11,
   "metadata": {
    "colab": {
     "base_uri": "https://localhost:8080/"
    },
    "id": "RpTITR9vz7Th",
    "outputId": "b1c134f4-85a3-49a7-fa3a-34f5d4896d01"
   },
   "outputs": [
    {
     "name": "stdout",
     "output_type": "stream",
     "text": [
      "     Feature      Score\n",
      "28      X_EA  95.250147\n",
      "35      X_Ra  67.173814\n",
      "1        s_B  61.964962\n",
      "17       X_Z  57.414810\n",
      "25    X_IEII  55.097923\n",
      "4   mean_A2B  47.874859\n",
      "2        s_X  43.799906\n",
      "7   mean_X2X  33.902649\n",
      "0        s_A  29.880346\n",
      "33    A_Rvdw  27.535795\n",
      "34      B_Ra  24.230307\n",
      "20     A_IEI  23.950524\n",
      "5   mean_A2X  22.081705\n",
      "42      B_Hf  21.205026\n",
      "16       B_Z  20.419989\n",
      "14        OF  19.424616\n",
      "10   std_B2X  16.266083\n",
      "31    A_ChiA  15.842395\n",
      "9    std_A2X  12.236469\n",
      "26      A_EA  12.192466\n",
      "29    A_ChiP  11.872273\n",
      "12     E_coh  11.792747\n",
      "36      B_MP  10.539184\n",
      "47     B_CvM  10.158055\n",
      "39     B_Rho   8.929870\n",
      "37      A_BP   8.076791\n",
      "41      X_MV   7.709740\n",
      "40      B_MV   7.166166\n",
      "8    std_A2B   7.106288\n",
      "13        TF   7.008817\n"
     ]
    }
   ],
   "source": [
    "#apply SelectKBest class to extract top 10 best features\n",
    "bestfeatures = SelectKBest(score_func=f_regression, k=10)\n",
    "fit = bestfeatures.fit(X,Y)\n",
    "dfscores = pd.DataFrame(fit.scores_)\n",
    "dfcolumns = pd.DataFrame(X.columns)\n",
    "#concat two dataframes for better visualization \n",
    "featureScores = pd.concat([dfcolumns,dfscores],axis=1)\n",
    "featureScores.columns = ['Feature','Score']  #naming the dataframe columns\n",
    "print(featureScores.nlargest(30,'Score'))  #print 10 best features"
   ]
  },
  {
   "cell_type": "code",
   "execution_count": 12,
   "metadata": {},
   "outputs": [
    {
     "data": {
      "text/plain": [
       "array(['X_EA', 'X_Ra', 's_B', 'X_Z', 'X_IEII', 'mean_A2B', 's_X',\n",
       "       'mean_X2X', 's_A', 'A_Rvdw', 'B_Ra', 'A_IEI', 'mean_A2X', 'B_Hf',\n",
       "       'B_Z', 'OF', 'std_B2X', 'A_ChiA', 'std_A2X', 'A_EA', 'A_ChiP',\n",
       "       'E_coh', 'B_MP', 'B_CvM', 'B_Rho', 'A_BP', 'X_MV', 'B_MV',\n",
       "       'std_A2B', 'TF', 'A_Z', 'A_Kappa', 'std_X2X', 'A_CvM', 'A_B',\n",
       "       'A_G', 'B_IEII', 'X_Kappa', 'B_B', 'B_Kappa'], dtype=object)"
      ]
     },
     "execution_count": 12,
     "metadata": {},
     "output_type": "execute_result"
    }
   ],
   "source": [
    "featureScores.nlargest(40,'Score')['Feature'].values"
   ]
  },
  {
   "cell_type": "code",
   "execution_count": 13,
   "metadata": {},
   "outputs": [],
   "source": [
    "X=X[featureScores.nlargest(40,'Score')['Feature'].values]"
   ]
  },
  {
   "cell_type": "code",
   "execution_count": 14,
   "metadata": {},
   "outputs": [
    {
     "name": "stdout",
     "output_type": "stream",
     "text": [
      "RF\n",
      "R2:  0.9133853158605958\n",
      "RMSE:  0.294303727702189\n",
      "---------------------------------------\n",
      "GB\n",
      "R2:  0.7432177479925391\n",
      "RMSE:  0.5067368666353977\n",
      "---------------------------------------\n",
      "RR\n",
      "R2:  0.17393232917749002\n",
      "RMSE:  0.9088826496432365\n",
      "---------------------------------------\n",
      "LASSO\n",
      "R2:  0.9250861118668574\n",
      "RMSE:  0.2737040155590388\n",
      "---------------------------------------\n",
      "gpr1\n",
      "R2:  0.7528607279399759\n",
      "RMSE:  0.4971310411350553\n",
      "---------------------------------------\n",
      "gpr2\n",
      "R2:  0.9184912920022246\n",
      "RMSE:  0.28549729945793795\n",
      "---------------------------------------\n",
      "gpr3\n",
      "R2:  0.9072266139815597\n",
      "RMSE:  0.3045872387649231\n",
      "---------------------------------------\n",
      "gpr4\n",
      "R2:  0.9332433557473593\n",
      "RMSE:  0.25837307184116676\n",
      "---------------------------------------\n",
      "[0.9133853158605958, 0.7432177479925391, 0.17393232917749002, 0.9250861118668574, 0.7528607279399759, 0.9184912920022246, 0.9072266139815597, 0.9332433557473593]\n"
     ]
    },
    {
     "data": {
      "image/png": "[encoded data removed]",
      "text/plain": [
       "<Figure size 640x480 with 1 Axes>"
      ]
     },
     "metadata": {},
     "output_type": "display_data"
    }
   ],
   "source": [
    "run_models()"
   ]
  },
  {
   "cell_type": "code",
   "execution_count": 15,
   "metadata": {},
   "outputs": [
    {
     "data": {
      "text/plain": [
       "array(['X_EA', 'X_Ra', 's_B', 'X_Z', 'X_IEII', 'mean_A2B', 's_X',\n",
       "       'mean_X2X', 's_A', 'A_Rvdw', 'B_Ra', 'A_IEI', 'mean_A2X', 'B_Hf',\n",
       "       'B_Z', 'OF', 'std_B2X', 'A_ChiA', 'std_A2X', 'A_EA', 'A_ChiP',\n",
       "       'E_coh', 'B_MP', 'B_CvM', 'B_Rho', 'A_BP', 'X_MV', 'B_MV',\n",
       "       'std_A2B', 'TF'], dtype=object)"
      ]
     },
     "execution_count": 15,
     "metadata": {},
     "output_type": "execute_result"
    }
   ],
   "source": [
    "featureScores.nlargest(30,'Score')['Feature'].values"
   ]
  },
  {
   "cell_type": "code",
   "execution_count": 16,
   "metadata": {},
   "outputs": [],
   "source": [
    "X=X[featureScores.nlargest(30,'Score')['Feature'].values]\n",
    "t30_columns = ['mean_A2B', 's_X', 'X_Ra', 'X_EA', 'X_Z', 'mean_X2X', 'A_Rvdw',\n",
    "       's_A', 'mean_A2X', 's_B', 'A_IEI', 'E_coh', 'A_ChiA', 'std_A2X',\n",
    "       'X_IEII', 'B_Hf', 'A_ChiP', 'B_MP', 'A_BP', 'std_B2X', 'A_Z',\n",
    "       'X_Kappa', 'A_EA', 'B_Ra', 'OF', 'A_CvM', 'B_Z', 'A_Kappa',\n",
    "       'B_Kappa', 'X_ChiA']\n",
    "data_save=data_std[t30_columns]\n",
    "#data_save.to_csv(\"scaled_top_30.csv\")"
   ]
  },
  {
   "cell_type": "code",
   "execution_count": 17,
   "metadata": {},
   "outputs": [
    {
     "name": "stdout",
     "output_type": "stream",
     "text": [
      "RF\n",
      "R2:  0.8906015260080116\n",
      "RMSE:  0.3307544013191487\n",
      "---------------------------------------\n",
      "GB\n",
      "R2:  0.7710501067535407\n",
      "RMSE:  0.47848708785761335\n",
      "---------------------------------------\n",
      "RR\n",
      "R2:  0.6946866085554434\n",
      "RMSE:  0.552551709294756\n",
      "---------------------------------------\n",
      "LASSO\n",
      "R2:  0.914693129181694\n",
      "RMSE:  0.2920733997102543\n",
      "---------------------------------------\n",
      "gpr1\n",
      "R2:  0.7699747512027411\n",
      "RMSE:  0.4796094752997056\n",
      "---------------------------------------\n",
      "gpr2\n",
      "R2:  0.9138258172686928\n",
      "RMSE:  0.2935543948424332\n",
      "---------------------------------------\n",
      "gpr3\n",
      "R2:  0.9005407945852348\n",
      "RMSE:  0.3153715355176575\n",
      "---------------------------------------\n",
      "gpr4\n",
      "R2:  0.9030430850206848\n",
      "RMSE:  0.3113790535333346\n",
      "---------------------------------------\n",
      "[0.8906015260080116, 0.7710501067535407, 0.6946866085554434, 0.914693129181694, 0.7699747512027411, 0.9138258172686928, 0.9005407945852348, 0.9030430850206848]\n"
     ]
    },
    {
     "data": {
      "image/png": "[encoded data removed]",
      "text/plain": [
       "<Figure size 640x480 with 1 Axes>"
      ]
     },
     "metadata": {},
     "output_type": "display_data"
    }
   ],
   "source": [
    "run_models()"
   ]
  },
  {
   "cell_type": "code",
   "execution_count": 18,
   "metadata": {},
   "outputs": [
    {
     "data": {
      "text/plain": [
       "array(['X_EA', 'X_Ra', 's_B', 'X_Z', 'X_IEII', 'mean_A2B', 's_X',\n",
       "       'mean_X2X', 's_A', 'A_Rvdw', 'B_Ra', 'A_IEI', 'mean_A2X', 'B_Hf',\n",
       "       'B_Z', 'OF', 'std_B2X', 'A_ChiA', 'std_A2X', 'A_EA'], dtype=object)"
      ]
     },
     "execution_count": 18,
     "metadata": {},
     "output_type": "execute_result"
    }
   ],
   "source": [
    "featureScores.nlargest(20,'Score')['Feature'].values"
   ]
  },
  {
   "cell_type": "code",
   "execution_count": 19,
   "metadata": {},
   "outputs": [],
   "source": [
    "X=X[featureScores.nlargest(20,'Score')['Feature'].values]"
   ]
  },
  {
   "cell_type": "code",
   "execution_count": 20,
   "metadata": {},
   "outputs": [
    {
     "name": "stdout",
     "output_type": "stream",
     "text": [
      "RF\n",
      "R2:  0.9195467277775806\n",
      "RMSE:  0.2836428603409918\n",
      "---------------------------------------\n",
      "GB\n",
      "R2:  0.7714831258011493\n",
      "RMSE:  0.4780343860004746\n",
      "---------------------------------------\n",
      "RR\n",
      "R2:  0.9163638912559187\n",
      "RMSE:  0.2891990815062892\n",
      "---------------------------------------\n",
      "LASSO\n",
      "R2:  0.9265832004620743\n",
      "RMSE:  0.27095534602204413\n",
      "---------------------------------------\n",
      "gpr1\n",
      "R2:  0.9262062237757485\n",
      "RMSE:  0.27165009888503916\n",
      "---------------------------------------\n",
      "gpr2\n",
      "R2:  0.9419369560695678\n",
      "RMSE:  0.2409627438639263\n",
      "---------------------------------------\n",
      "gpr3\n",
      "R2:  0.9055501436617891\n",
      "RMSE:  0.30732695348473893\n",
      "---------------------------------------\n",
      "gpr4\n",
      "R2:  0.9378595014977491\n",
      "RMSE:  0.2492799600895565\n",
      "---------------------------------------\n",
      "[0.9195467277775806, 0.7714831258011493, 0.9163638912559187, 0.9265832004620743, 0.9262062237757485, 0.9419369560695678, 0.9055501436617891, 0.9378595014977491]\n"
     ]
    },
    {
     "data": {
      "image/png": "[encoded data removed]",
      "text/plain": [
       "<Figure size 640x480 with 1 Axes>"
      ]
     },
     "metadata": {},
     "output_type": "display_data"
    }
   ],
   "source": [
    "run_models()"
   ]
  },
  {
   "cell_type": "code",
   "execution_count": 21,
   "metadata": {},
   "outputs": [
    {
     "data": {
      "text/plain": [
       "array(['X_EA', 'X_Ra', 's_B', 'X_Z', 'X_IEII', 'mean_A2B', 's_X',\n",
       "       'mean_X2X', 's_A', 'A_Rvdw'], dtype=object)"
      ]
     },
     "execution_count": 21,
     "metadata": {},
     "output_type": "execute_result"
    }
   ],
   "source": [
    "featureScores.nlargest(10,'Score')['Feature'].values"
   ]
  },
  {
   "cell_type": "code",
   "execution_count": 22,
   "metadata": {},
   "outputs": [],
   "source": [
    "X=X[featureScores.nlargest(10,'Score')['Feature'].values]"
   ]
  },
  {
   "cell_type": "code",
   "execution_count": 23,
   "metadata": {},
   "outputs": [
    {
     "name": "stdout",
     "output_type": "stream",
     "text": [
      "RF\n",
      "R2:  0.8916041065034778\n",
      "RMSE:  0.3292353162959926\n",
      "---------------------------------------\n",
      "GB\n",
      "R2:  0.7102564361622676\n",
      "RMSE:  0.5382783330561731\n",
      "---------------------------------------\n",
      "RR\n",
      "R2:  0.8711370741974442\n",
      "RMSE:  0.3589748261404354\n",
      "---------------------------------------\n",
      "LASSO\n",
      "R2:  0.8861295773556725\n",
      "RMSE:  0.33744691826171347\n",
      "---------------------------------------\n",
      "gpr1\n",
      "R2:  0.8797974522262987\n",
      "RMSE:  0.3467023907816346\n",
      "---------------------------------------\n",
      "gpr2\n",
      "R2:  0.9280941015598614\n",
      "RMSE:  0.26815275206519623\n",
      "---------------------------------------\n",
      "gpr3\n",
      "R2:  0.9069509137598137\n",
      "RMSE:  0.305039483084053\n",
      "---------------------------------------\n",
      "gpr4\n",
      "R2:  0.9003366599523185\n",
      "RMSE:  0.31569501112257303\n",
      "---------------------------------------\n",
      "[0.8916041065034778, 0.7102564361622676, 0.8711370741974442, 0.8861295773556725, 0.8797974522262987, 0.9280941015598614, 0.9069509137598137, 0.9003366599523185]\n"
     ]
    },
    {
     "data": {
      "image/png": "[encoded data removed]",
      "text/plain": [
       "<Figure size 640x480 with 1 Axes>"
      ]
     },
     "metadata": {},
     "output_type": "display_data"
    }
   ],
   "source": [
    "run_models()"
   ]
  },
  {
   "cell_type": "markdown",
   "metadata": {},
   "source": [
    "# Min-Max scaling"
   ]
  },
  {
   "cell_type": "code",
   "execution_count": 24,
   "metadata": {},
   "outputs": [],
   "source": [
    "data_std=d.copy()\n",
    "scalerMM=MinMaxScaler()\n",
    "scalerMM.fit(np.array(data[target]).reshape(-1, 1))\n",
    "data_zpe_mm= scalerMM.transform(np.array(data[target]).reshape(-1, 1))\n",
    "data_std[columns]= MinMaxScaler().fit_transform(d[columns])\n",
    "Y = data_std[target] \n",
    "X = data_std.drop([target], axis=1)"
   ]
  },
  {
   "cell_type": "code",
   "execution_count": 25,
   "metadata": {},
   "outputs": [
    {
     "name": "stdout",
     "output_type": "stream",
     "text": [
      "(80, 51)\n"
     ]
    }
   ],
   "source": [
    "correlated_features = [\"A_Rc\",\"A_Ra\",\"A_M\",\"A_MP\",\"A_MV\",\"A_MendeleevNo\",\"A_Hf\",\"A_Hv\",\"B_Rc\",\n",
    "                       \"B_Rvdw\",\"B_M\",\"B_BP\",\"B_MendeleevNo\",\"B_Hv\",\"X_Rc\",\"X_Rvdw\",\"X_M\",\"X_BP\",\"X_MP\",\n",
    "                       \"X_MendeleevNo\",\"X_Hf\",\"X_Hv\",\"X_G\",\"X_B\",\"X_CvM\",\"X_ChiP\"]\n",
    "data_std.drop(labels=correlated_features, axis=1, inplace=True)\n",
    "print(data_std.shape)\n",
    "Y = data_std[target] \n",
    "X = data_std.drop([target], axis=1)\n",
    "#data_std.to_csv('Coef_a_scaled_non_corr_all.csv',index=False)"
   ]
  },
  {
   "cell_type": "markdown",
   "metadata": {
    "id": "ZaJDp0jdzwnZ"
   },
   "source": [
    "### Using CV technique"
   ]
  },
  {
   "cell_type": "code",
   "execution_count": 26,
   "metadata": {},
   "outputs": [
    {
     "name": "stdout",
     "output_type": "stream",
     "text": [
      "RF\n",
      "R2:  0.9139772518834098\n",
      "RMSE:  0.0678960341598605\n",
      "---------------------------------------\n",
      "GB\n",
      "R2:  0.8083999128768663\n",
      "RMSE:  0.10132943066102647\n",
      "---------------------------------------\n",
      "RR\n",
      "R2:  0.8685039093281136\n",
      "RMSE:  0.08394487218476027\n",
      "---------------------------------------\n",
      "LASSO\n",
      "R2:  0.5550187696567432\n",
      "RMSE:  0.15442179543841533\n",
      "---------------------------------------\n",
      "gpr1\n",
      "R2:  0.9303403663151799\n",
      "RMSE:  0.06109818997806604\n",
      "---------------------------------------\n",
      "gpr2\n",
      "R2:  -0.04816258460452438\n",
      "RMSE:  0.23700203653493743\n",
      "---------------------------------------\n",
      "gpr3\n",
      "R2:  0.9433394162624843\n",
      "RMSE:  0.05510338439578436\n",
      "---------------------------------------\n",
      "gpr4\n",
      "R2:  0.9201968403075249\n",
      "RMSE:  0.06539548949154776\n",
      "---------------------------------------\n",
      "[0.9139772518834098, 0.8083999128768663, 0.8685039093281136, 0.5550187696567432, 0.9303403663151799, -0.04816258460452438, 0.9433394162624843, 0.9201968403075249]\n"
     ]
    },
    {
     "data": {
      "image/png": "[encoded data removed]",
      "text/plain": [
       "<Figure size 640x480 with 1 Axes>"
      ]
     },
     "metadata": {},
     "output_type": "display_data"
    }
   ],
   "source": [
    "run_models()"
   ]
  },
  {
   "cell_type": "markdown",
   "metadata": {
    "id": "_x7bQR-jz4WE"
   },
   "source": [
    "## Feature selection\n"
   ]
  },
  {
   "cell_type": "code",
   "execution_count": 27,
   "metadata": {
    "colab": {
     "base_uri": "https://localhost:8080/"
    },
    "id": "RpTITR9vz7Th",
    "outputId": "b1c134f4-85a3-49a7-fa3a-34f5d4896d01"
   },
   "outputs": [
    {
     "name": "stdout",
     "output_type": "stream",
     "text": [
      "     Feature      Score\n",
      "28      X_EA  95.250147\n",
      "35      X_Ra  67.173814\n",
      "1        s_B  61.964962\n",
      "17       X_Z  57.414810\n",
      "25    X_IEII  55.097923\n",
      "4   mean_A2B  47.874859\n",
      "2        s_X  43.799906\n",
      "7   mean_X2X  33.902649\n",
      "0        s_A  29.880346\n",
      "33    A_Rvdw  27.535795\n",
      "34      B_Ra  24.230307\n",
      "20     A_IEI  23.950524\n",
      "5   mean_A2X  22.081705\n",
      "42      B_Hf  21.205026\n",
      "16       B_Z  20.419989\n",
      "14        OF  19.424616\n",
      "10   std_B2X  16.266083\n",
      "31    A_ChiA  15.842395\n",
      "9    std_A2X  12.236469\n",
      "26      A_EA  12.192466\n",
      "29    A_ChiP  11.872273\n",
      "12     E_coh  11.792747\n",
      "36      B_MP  10.539184\n",
      "47     B_CvM  10.158055\n",
      "39     B_Rho   8.929870\n",
      "37      A_BP   8.076791\n",
      "41      X_MV   7.709740\n",
      "40      B_MV   7.166166\n",
      "8    std_A2B   7.106288\n",
      "13        TF   7.008817\n"
     ]
    }
   ],
   "source": [
    "#apply SelectKBest class to extract top 10 best features\n",
    "bestfeatures = SelectKBest(score_func=f_regression, k=10)\n",
    "fit = bestfeatures.fit(X,Y)\n",
    "dfscores = pd.DataFrame(fit.scores_)\n",
    "dfcolumns = pd.DataFrame(X.columns)\n",
    "#concat two dataframes for better visualization \n",
    "featureScores = pd.concat([dfcolumns,dfscores],axis=1)\n",
    "featureScores.columns = ['Feature','Score']  #naming the dataframe columns\n",
    "print(featureScores.nlargest(30,'Score'))  #print 10 best features"
   ]
  },
  {
   "cell_type": "code",
   "execution_count": 28,
   "metadata": {},
   "outputs": [
    {
     "data": {
      "text/plain": [
       "array(['X_EA', 'X_Ra', 's_B', 'X_Z', 'X_IEII', 'mean_A2B', 's_X',\n",
       "       'mean_X2X', 's_A', 'A_Rvdw', 'B_Ra', 'A_IEI', 'mean_A2X', 'B_Hf',\n",
       "       'B_Z', 'OF', 'std_B2X', 'A_ChiA', 'std_A2X', 'A_EA', 'A_ChiP',\n",
       "       'E_coh', 'B_MP', 'B_CvM', 'B_Rho', 'A_BP', 'X_MV', 'B_MV',\n",
       "       'std_A2B', 'TF', 'A_Z', 'A_Kappa', 'std_X2X', 'A_CvM', 'A_B',\n",
       "       'A_G', 'B_IEII', 'X_Kappa', 'B_B', 'B_Kappa'], dtype=object)"
      ]
     },
     "execution_count": 28,
     "metadata": {},
     "output_type": "execute_result"
    }
   ],
   "source": [
    "featureScores.nlargest(40,'Score')['Feature'].values"
   ]
  },
  {
   "cell_type": "code",
   "execution_count": 29,
   "metadata": {},
   "outputs": [],
   "source": [
    "X=X[featureScores.nlargest(40,'Score')['Feature'].values]"
   ]
  },
  {
   "cell_type": "code",
   "execution_count": 30,
   "metadata": {},
   "outputs": [
    {
     "name": "stdout",
     "output_type": "stream",
     "text": [
      "RF\n",
      "R2:  0.9071154105616547\n",
      "RMSE:  0.07055204137418054\n",
      "---------------------------------------\n",
      "GB\n",
      "R2:  0.7896330111111197\n",
      "RMSE:  0.10617604564600285\n",
      "---------------------------------------\n",
      "RR\n",
      "R2:  0.6988801320622924\n",
      "RMSE:  0.12703033898454094\n",
      "---------------------------------------\n",
      "LASSO\n",
      "R2:  0.5550112222262307\n",
      "RMSE:  0.1544231050249206\n",
      "---------------------------------------\n",
      "gpr1\n",
      "R2:  0.8565678458359851\n",
      "RMSE:  0.0876720197748117\n",
      "---------------------------------------\n",
      "gpr2\n",
      "R2:  -0.04816259706028214\n",
      "RMSE:  0.23700203794313499\n",
      "---------------------------------------\n",
      "gpr3\n",
      "R2:  0.9337954364815764\n",
      "RMSE:  0.05956370646189312\n",
      "---------------------------------------\n",
      "gpr4\n",
      "R2:  0.9122146873743948\n",
      "RMSE:  0.06858808563771485\n",
      "---------------------------------------\n",
      "[0.9071154105616547, 0.7896330111111197, 0.6988801320622924, 0.5550112222262307, 0.8565678458359851, -0.04816259706028214, 0.9337954364815764, 0.9122146873743948]\n"
     ]
    },
    {
     "data": {
      "image/png": "[encoded data removed]",
      "text/plain": [
       "<Figure size 640x480 with 1 Axes>"
      ]
     },
     "metadata": {},
     "output_type": "display_data"
    }
   ],
   "source": [
    "run_models()"
   ]
  },
  {
   "cell_type": "code",
   "execution_count": 31,
   "metadata": {},
   "outputs": [
    {
     "data": {
      "text/plain": [
       "array(['X_EA', 'X_Ra', 's_B', 'X_Z', 'X_IEII', 'mean_A2B', 's_X',\n",
       "       'mean_X2X', 's_A', 'A_Rvdw', 'B_Ra', 'A_IEI', 'mean_A2X', 'B_Hf',\n",
       "       'B_Z', 'OF', 'std_B2X', 'A_ChiA', 'std_A2X', 'A_EA', 'A_ChiP',\n",
       "       'E_coh', 'B_MP', 'B_CvM', 'B_Rho', 'A_BP', 'X_MV', 'B_MV',\n",
       "       'std_A2B', 'TF'], dtype=object)"
      ]
     },
     "execution_count": 31,
     "metadata": {},
     "output_type": "execute_result"
    }
   ],
   "source": [
    "featureScores.nlargest(30,'Score')['Feature'].values"
   ]
  },
  {
   "cell_type": "code",
   "execution_count": 32,
   "metadata": {},
   "outputs": [],
   "source": [
    "X=X[featureScores.nlargest(30,'Score')['Feature'].values]"
   ]
  },
  {
   "cell_type": "code",
   "execution_count": 33,
   "metadata": {},
   "outputs": [
    {
     "name": "stdout",
     "output_type": "stream",
     "text": [
      "RF\n",
      "R2:  0.9047070265509742\n",
      "RMSE:  0.07146085213723664\n",
      "---------------------------------------\n",
      "GB\n",
      "R2:  0.8027015811437251\n",
      "RMSE:  0.10282519784436578\n",
      "---------------------------------------\n",
      "RR\n",
      "R2:  0.7831817393433687\n",
      "RMSE:  0.10779178889056634\n",
      "---------------------------------------\n",
      "LASSO\n",
      "R2:  0.5550112222262307\n",
      "RMSE:  0.1544231050249206\n",
      "---------------------------------------\n",
      "gpr1\n",
      "R2:  0.8573347096147909\n",
      "RMSE:  0.08743733528970424\n",
      "---------------------------------------\n",
      "gpr2\n",
      "R2:  -0.04816258169394927\n",
      "RMSE:  0.2370020362058796\n",
      "---------------------------------------\n",
      "gpr3\n",
      "R2:  0.9187832167163678\n",
      "RMSE:  0.06597215089921069\n",
      "---------------------------------------\n",
      "gpr4\n",
      "R2:  0.913934371506329\n",
      "RMSE:  0.06791295436343252\n",
      "---------------------------------------\n",
      "[0.9047070265509742, 0.8027015811437251, 0.7831817393433687, 0.5550112222262307, 0.8573347096147909, -0.04816258169394927, 0.9187832167163678, 0.913934371506329]\n"
     ]
    },
    {
     "data": {
      "image/png": "[encoded data removed]",
      "text/plain": [
       "<Figure size 640x480 with 1 Axes>"
      ]
     },
     "metadata": {},
     "output_type": "display_data"
    }
   ],
   "source": [
    "run_models()"
   ]
  },
  {
   "cell_type": "code",
   "execution_count": 34,
   "metadata": {},
   "outputs": [
    {
     "data": {
      "text/plain": [
       "array(['X_EA', 'X_Ra', 's_B', 'X_Z', 'X_IEII', 'mean_A2B', 's_X',\n",
       "       'mean_X2X', 's_A', 'A_Rvdw', 'B_Ra', 'A_IEI', 'mean_A2X', 'B_Hf',\n",
       "       'B_Z', 'OF', 'std_B2X', 'A_ChiA', 'std_A2X', 'A_EA'], dtype=object)"
      ]
     },
     "execution_count": 34,
     "metadata": {},
     "output_type": "execute_result"
    }
   ],
   "source": [
    "featureScores.nlargest(20,'Score')['Feature'].values"
   ]
  },
  {
   "cell_type": "code",
   "execution_count": 35,
   "metadata": {},
   "outputs": [],
   "source": [
    "X=X[featureScores.nlargest(20,'Score')['Feature'].values]"
   ]
  },
  {
   "cell_type": "code",
   "execution_count": 36,
   "metadata": {},
   "outputs": [
    {
     "name": "stdout",
     "output_type": "stream",
     "text": [
      "RF\n",
      "R2:  0.8917385896366032\n",
      "RMSE:  0.07616835769301931\n",
      "---------------------------------------\n",
      "GB\n",
      "R2:  0.7531453433421748\n",
      "RMSE:  0.11501604071127909\n",
      "---------------------------------------\n",
      "RR\n",
      "R2:  0.921937897973758\n",
      "RMSE:  0.06467819214255174\n",
      "---------------------------------------\n",
      "LASSO\n",
      "R2:  0.5550112222262307\n",
      "RMSE:  0.1544231050249206\n",
      "---------------------------------------\n",
      "gpr1\n",
      "R2:  0.8903795832267316\n",
      "RMSE:  0.07664493775172034\n",
      "---------------------------------------\n",
      "gpr2\n",
      "R2:  -0.048162553651292406\n",
      "RMSE:  0.23700203303549033\n",
      "---------------------------------------\n",
      "gpr3\n",
      "R2:  0.9350589879990845\n",
      "RMSE:  0.058992564689315706\n",
      "---------------------------------------\n",
      "gpr4\n",
      "R2:  0.9314604772677703\n",
      "RMSE:  0.060604976804842545\n",
      "---------------------------------------\n",
      "[0.8917385896366032, 0.7531453433421748, 0.921937897973758, 0.5550112222262307, 0.8903795832267316, -0.048162553651292406, 0.9350589879990845, 0.9314604772677703]\n"
     ]
    },
    {
     "data": {
      "image/png": "[encoded data removed]",
      "text/plain": [
       "<Figure size 640x480 with 1 Axes>"
      ]
     },
     "metadata": {},
     "output_type": "display_data"
    }
   ],
   "source": [
    "run_models()"
   ]
  },
  {
   "cell_type": "code",
   "execution_count": 37,
   "metadata": {},
   "outputs": [
    {
     "data": {
      "text/plain": [
       "array(['X_EA', 'X_Ra', 's_B', 'X_Z', 'X_IEII', 'mean_A2B', 's_X',\n",
       "       'mean_X2X', 's_A', 'A_Rvdw'], dtype=object)"
      ]
     },
     "execution_count": 37,
     "metadata": {},
     "output_type": "execute_result"
    }
   ],
   "source": [
    "featureScores.nlargest(10,'Score')['Feature'].values"
   ]
  },
  {
   "cell_type": "code",
   "execution_count": 38,
   "metadata": {},
   "outputs": [],
   "source": [
    "X=X[featureScores.nlargest(10,'Score')['Feature'].values]"
   ]
  },
  {
   "cell_type": "code",
   "execution_count": 39,
   "metadata": {},
   "outputs": [
    {
     "name": "stdout",
     "output_type": "stream",
     "text": [
      "RF\n",
      "R2:  0.899107703223174\n",
      "RMSE:  0.07353037074723756\n",
      "---------------------------------------\n",
      "GB\n",
      "R2:  0.6941795864577078\n",
      "RMSE:  0.12801798496234984\n",
      "---------------------------------------\n",
      "RR\n",
      "R2:  0.8735805190059737\n",
      "RMSE:  0.08230851246480635\n",
      "---------------------------------------\n",
      "LASSO\n",
      "R2:  0.48716333505619513\n",
      "RMSE:  0.16577814854113979\n",
      "---------------------------------------\n",
      "gpr1\n",
      "R2:  0.882641989692129\n",
      "RMSE:  0.07930382235111352\n",
      "---------------------------------------\n",
      "gpr2\n",
      "R2:  -0.048162640693473424\n",
      "RMSE:  0.23700204287612683\n",
      "---------------------------------------\n",
      "gpr3\n",
      "R2:  0.9147787016996936\n",
      "RMSE:  0.06757900987203551\n",
      "---------------------------------------\n",
      "gpr4\n",
      "R2:  0.9198127343518796\n",
      "RMSE:  0.06555268028675802\n",
      "---------------------------------------\n",
      "[0.899107703223174, 0.6941795864577078, 0.8735805190059737, 0.48716333505619513, 0.882641989692129, -0.048162640693473424, 0.9147787016996936, 0.9198127343518796]\n"
     ]
    },
    {
     "data": {
      "image/png": "[encoded data removed]",
      "text/plain": [
       "<Figure size 640x480 with 1 Axes>"
      ]
     },
     "metadata": {},
     "output_type": "display_data"
    }
   ],
   "source": [
    "run_models()"
   ]
  }
 ],
 "metadata": {
  "colab": {
   "collapsed_sections": [],
   "name": "Final_total.ipynb",
   "provenance": []
  },
  "kernelspec": {
   "display_name": "Python 3 (ipykernel)",
   "language": "python",
   "name": "python3"
  },
  "language_info": {
   "codemirror_mode": {
    "name": "ipython",
    "version": 3
   },
   "file_extension": ".py",
   "mimetype": "text/x-python",
   "name": "python",
   "nbconvert_exporter": "python",
   "pygments_lexer": "ipython3",
   "version": "3.9.13"
  }
 },
 "nbformat": 4,
 "nbformat_minor": 1
}
