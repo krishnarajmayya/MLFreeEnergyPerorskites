{
 "cells": [
  {
   "cell_type": "code",
   "execution_count": 1,
   "metadata": {
    "id": "U1Or_5CpWR5m"
   },
   "outputs": [],
   "source": [
    "import numpy as np\n",
    "import pandas as pd\n",
    "import matplotlib.pyplot as plt\n",
    "from math import sqrt\n",
    "import seaborn as sns \n",
    "import re\n",
    " \n",
    "import warnings # supress warnings\n",
    "warnings.filterwarnings('ignore')"
   ]
  },
  {
   "cell_type": "code",
   "execution_count": 2,
   "metadata": {
    "id": "wd0p9t1imwDC"
   },
   "outputs": [],
   "source": [
    "import sklearn\n",
    "\n",
    "from sklearn.preprocessing import MinMaxScaler, PolynomialFeatures, scale, StandardScaler\n",
    "\n",
    "from sklearn.model_selection import train_test_split, cross_val_score, KFold, GridSearchCV\n",
    "\n",
    "from sklearn.linear_model import LinearRegression, Ridge, Lasso, ElasticNet \n",
    "\n",
    "from sklearn.ensemble import RandomForestRegressor\n",
    "from sklearn.ensemble import GradientBoostingRegressor\n",
    "\n",
    "from sklearn.feature_selection import RFE, SelectKBest, f_regression\n",
    "from sklearn.inspection import permutation_importance\n",
    "\n",
    "from sklearn.gaussian_process import GaussianProcessRegressor\n",
    "from sklearn.gaussian_process.kernels import DotProduct, WhiteKernel, RBF, Matern, RationalQuadratic,Exponentiation\n",
    "from sklearn.gaussian_process.kernels import Kernel, Hyperparameter, ConstantKernel\n",
    "from sklearn.gaussian_process.kernels import GenericKernelMixin\n",
    "\n",
    "from sklearn import metrics\n",
    "from sklearn.metrics import mean_squared_error\n",
    "from sklearn.metrics import r2_score  \n",
    "\n",
    "from sklearn.pipeline import make_pipeline\n",
    "\n",
    "from sklearn.base import clone"
   ]
  },
  {
   "cell_type": "code",
   "execution_count": 3,
   "metadata": {},
   "outputs": [],
   "source": [
    "def run_models():\n",
    "    #rf = RandomForestRegressor(n_estimators= 100, random_state= 10)\n",
    "    rf = RandomForestRegressor(n_estimators=10, criterion='absolute_error', \n",
    "                               min_samples_split=2, min_samples_leaf=1, max_features=0.3)\n",
    "    gb = GradientBoostingRegressor(loss='quantile', alpha=0.5,\n",
    "                                n_estimators=100, max_depth=10,\n",
    "                                learning_rate=0.25, min_samples_leaf=9,\n",
    "                                min_samples_split=2)\n",
    "    rr = Ridge(alpha=0.01)\n",
    "    lasso = Lasso(alpha=0.02)\n",
    "    gpr1 = GaussianProcessRegressor(optimizer='fmin_l_bfgs_b',random_state=50,\n",
    "                                    kernel=DotProduct() + WhiteKernel(),\n",
    "                                    alpha=0.1, n_restarts_optimizer=1)\n",
    "    gpr2 = GaussianProcessRegressor(optimizer='fmin_l_bfgs_b',random_state=50,\n",
    "                                    kernel=1.0 + 1.0 * Exponentiation(RBF(length_scale=1.0), exponent=2) + \n",
    "                                    WhiteKernel(noise_level=0.1), alpha=0.1, n_restarts_optimizer=1)\n",
    "    gpr3 = GaussianProcessRegressor(optimizer='fmin_l_bfgs_b',random_state=50,\n",
    "                                    kernel=1.0 + 1.0 * Exponentiation(RationalQuadratic(length_scale=1.0, \n",
    "                                                                                        alpha=0.01), exponent=2),\n",
    "                                    alpha=0.001, n_restarts_optimizer=1)\n",
    "    gpr4 = GaussianProcessRegressor(optimizer='fmin_l_bfgs_b',random_state=50,\n",
    "                                    kernel=1.0 + 1.0 * Exponentiation(Matern(length_scale=1.0, nu=1.5), exponent=2),\n",
    "                                    alpha=0.01, n_restarts_optimizer=1)\n",
    "    models = [rf,gb,rr,lasso,gpr1,gpr2,gpr3,gpr4]\n",
    "    models_names = [\"RF\",\"GB\",\"RR\",\"LASSO\",\"gpr1\",\"gpr2\",\"gpr3\",\"gpr4\"]\n",
    "    r2scores=[]\n",
    "    rmse=[]\n",
    "    count=0\n",
    "    for model in models :\n",
    "        predicted_y = []\n",
    "        expected_y = []\n",
    "        kf = KFold(n_splits= 10) \n",
    "        # partition data\n",
    "        for train_index, test_index in kf.split(X, Y):\n",
    "            # specific \".loc\" syntax for working with dataframes\n",
    "            x_train, x_test = X.loc[train_index], X.loc[test_index]\n",
    "            y_train, y_test = Y[train_index], Y[test_index]\n",
    "\n",
    "            # create and fit classifier\n",
    "            model.fit(x_train, y_train)\n",
    "\n",
    "            # store result from classification\n",
    "            predicted_y.extend(model.predict(x_test))\n",
    "\n",
    "            # store expected result for this specific fold\n",
    "            expected_y.extend(y_test)\n",
    "        \n",
    "        r2 = metrics.r2_score(expected_y, predicted_y)\n",
    "        r2scores.append(r2)\n",
    "        \n",
    "        err=np.sqrt(metrics.mean_squared_error(expected_y, predicted_y))\n",
    "        rmse.append(err)\n",
    "        \n",
    "        print(models_names[count])\n",
    "        print(\"R2: \",r2.__str__())\n",
    "        print(\"RMSE: \",err)\n",
    "        print(\"---------------------------------------\")\n",
    "        count+=1\n",
    "    \n",
    "    plt.rcdefaults()\n",
    "    fig, ax = plt.subplots()\n",
    "\n",
    "    x_pos = np.arange(len(models_names))\n",
    "    ax.bar(x_pos, r2scores, align='center')\n",
    "    ax.set_xticks(x_pos)\n",
    "    ax.set_xticklabels(models_names)\n",
    "    ax.set_ylabel('R2 Score')\n",
    "    #plt.savefig('imp.eps', format='eps')\n",
    "    #plt.show()\n",
    "    print(r2scores)"
   ]
  },
  {
   "cell_type": "code",
   "execution_count": 4,
   "metadata": {
    "id": "hjdsOVHoYDJB"
   },
   "outputs": [
    {
     "name": "stdout",
     "output_type": "stream",
     "text": [
      "['Name' 'Coef_a' 'Coef_b' 'Coef_c' 'Coef_d' 'A_site' 'B_site' 'X_site'\n",
      " 'Spacegroup' 'Ehull' 'BulkModulus' 'Energy' 'ZPE' 's_A' 's_B' 's_X'\n",
      " 'density' 'mean_A2B' 'mean_A2X' 'mean_B2X' 'mean_X2X' 'std_A2B' 'std_A2X'\n",
      " 'std_B2X' 'std_X2X' 'E_coh' 'TF' 'OF' 'A_Z' 'B_Z' 'X_Z' 'A_M' 'B_M' 'X_M'\n",
      " 'A_G' 'B_G' 'X_G' 'A_IEI' 'B_IEI' 'X_IEI' 'A_IEII' 'B_IEII' 'X_IEII'\n",
      " 'A_EA' 'B_EA' 'X_EA' 'A_ChiP' 'B_ChiP' 'X_ChiP' 'A_ChiA' 'X_ChiA'\n",
      " 'A_Rvdw' 'B_Rvdw' 'X_Rvdw' 'A_Rc' 'B_Rc' 'X_Rc' 'A_Ra' 'B_Ra' 'X_Ra'\n",
      " 'A_MP' 'B_MP' 'X_MP' 'A_BP' 'B_BP' 'X_BP' 'A_Rho' 'B_Rho' 'A_MV' 'B_MV'\n",
      " 'X_MV' 'A_Hf' 'B_Hf' 'X_Hf' 'A_Hv' 'B_Hv' 'X_Hv' 'A_Kappa' 'B_Kappa'\n",
      " 'X_Kappa' 'A_CvM' 'B_CvM' 'X_CvM' 'A_B' 'B_B' 'X_B' 'A_MendeleevNo'\n",
      " 'B_MendeleevNo' 'X_MendeleevNo']\n"
     ]
    }
   ],
   "source": [
    "data = pd.read_csv('Combined_all_3rd_fit.csv', encoding='cp1252')\n",
    "print(data.columns.values)"
   ]
  },
  {
   "cell_type": "code",
   "execution_count": 5,
   "metadata": {
    "id": "5BRaOxKmYmEg"
   },
   "outputs": [],
   "source": [
    "data.drop(['Name', 'A_site', 'B_site', 'X_site', 'Spacegroup','BulkModulus',\n",
    "           'Ehull','Energy','ZPE','Coef_b', 'Coef_a', 'Coef_d'], axis=1, inplace = True)\n",
    "target = 'Coef_c'"
   ]
  },
  {
   "cell_type": "code",
   "execution_count": 6,
   "metadata": {},
   "outputs": [],
   "source": [
    "data.fillna(0, inplace= True)\n",
    "d=data.copy()\n",
    "columns = list(d.columns.values)"
   ]
  },
  {
   "cell_type": "markdown",
   "metadata": {},
   "source": [
    "# Standard Scaling"
   ]
  },
  {
   "cell_type": "code",
   "execution_count": 7,
   "metadata": {},
   "outputs": [],
   "source": [
    "data_std=d.copy()\n",
    "scalerSTD=StandardScaler()\n",
    "scalerSTD.fit(np.array(data[target]).reshape(-1, 1))\n",
    "data_zpe_std= scalerSTD.transform(np.array(data[target]).reshape(-1, 1))\n",
    "data_std[columns]= StandardScaler().fit_transform(d[columns])\n",
    "Y = data_std[target] \n",
    "X = data_std.drop([target], axis=1)"
   ]
  },
  {
   "cell_type": "code",
   "execution_count": 8,
   "metadata": {
    "id": "7-nT8kNsWJRO"
   },
   "outputs": [
    {
     "name": "stdout",
     "output_type": "stream",
     "text": [
      "(80, 51)\n"
     ]
    }
   ],
   "source": [
    "correlated_features = [\"A_Rc\",\"A_Ra\",\"A_M\",\"A_MP\",\"A_MV\",\"A_MendeleevNo\",\"A_Hf\",\"A_Hv\",\"B_Rc\",\n",
    "                       \"B_Rvdw\",\"B_M\",\"B_BP\",\"B_MendeleevNo\",\"B_Hv\",\"X_Rc\",\"X_Rvdw\",\"X_M\",\"X_BP\",\"X_MP\",\n",
    "                       \"X_MendeleevNo\",\"X_Hf\",\"X_Hv\",\"X_G\",\"X_B\",\"X_CvM\",\"X_ChiP\"]\n",
    "data_std.drop(labels=correlated_features, axis=1, inplace=True)\n",
    "print(data_std.shape)\n",
    "Y = data_std[target] \n",
    "X = data_std.drop([target], axis=1)"
   ]
  },
  {
   "cell_type": "code",
   "execution_count": 9,
   "metadata": {},
   "outputs": [],
   "source": [
    "#data_std.to_csv(\"scaled_non_correlated.csv\")"
   ]
  },
  {
   "cell_type": "markdown",
   "metadata": {
    "id": "ZaJDp0jdzwnZ"
   },
   "source": [
    "### Using CV technique"
   ]
  },
  {
   "cell_type": "code",
   "execution_count": 10,
   "metadata": {},
   "outputs": [
    {
     "name": "stdout",
     "output_type": "stream",
     "text": [
      "RF\n",
      "R2:  0.8893442410136421\n",
      "RMSE:  0.3326496039173321\n",
      "---------------------------------------\n",
      "GB\n",
      "R2:  0.8935648484104816\n",
      "RMSE:  0.326244006212403\n",
      "---------------------------------------\n",
      "RR\n",
      "R2:  0.6462568855945379\n",
      "RMSE:  0.5947630741778294\n",
      "---------------------------------------\n",
      "LASSO\n",
      "R2:  0.9285839665291872\n",
      "RMSE:  0.2672377845118703\n",
      "---------------------------------------\n",
      "gpr1\n",
      "R2:  0.8913993131357336\n",
      "RMSE:  0.329546183203912\n",
      "---------------------------------------\n",
      "gpr2\n",
      "R2:  0.9345230480284559\n",
      "RMSE:  0.2558846458299991\n",
      "---------------------------------------\n",
      "gpr3\n",
      "R2:  0.9187191005508805\n",
      "RMSE:  0.28509805234185587\n",
      "---------------------------------------\n",
      "gpr4\n",
      "R2:  0.9318310685595018\n",
      "RMSE:  0.2610918065365096\n",
      "---------------------------------------\n",
      "[0.8893442410136421, 0.8935648484104816, 0.6462568855945379, 0.9285839665291872, 0.8913993131357336, 0.9345230480284559, 0.9187191005508805, 0.9318310685595018]\n"
     ]
    },
    {
     "data": {
      "image/png": "[encoded data removed]",
      "text/plain": [
       "<Figure size 640x480 with 1 Axes>"
      ]
     },
     "metadata": {},
     "output_type": "display_data"
    }
   ],
   "source": [
    "run_models()"
   ]
  },
  {
   "cell_type": "markdown",
   "metadata": {
    "id": "_x7bQR-jz4WE"
   },
   "source": [
    "## Feature selection\n"
   ]
  },
  {
   "cell_type": "code",
   "execution_count": 11,
   "metadata": {
    "colab": {
     "base_uri": "https://localhost:8080/"
    },
    "id": "RpTITR9vz7Th",
    "outputId": "b1c134f4-85a3-49a7-fa3a-34f5d4896d01"
   },
   "outputs": [
    {
     "name": "stdout",
     "output_type": "stream",
     "text": [
      "     Feature       Score\n",
      "4   mean_A2B  342.561672\n",
      "2        s_X  224.085608\n",
      "17       X_Z  200.923811\n",
      "7   mean_X2X  144.584059\n",
      "35      X_Ra  143.785064\n",
      "5   mean_A2X   96.188443\n",
      "1        s_B   50.869033\n",
      "33    A_Rvdw   44.335733\n",
      "28      X_EA   43.047947\n",
      "12     E_coh   42.583723\n",
      "0        s_A   35.416986\n",
      "45   X_Kappa   32.559689\n",
      "32    X_ChiA   30.952649\n",
      "20     A_IEI   27.313322\n",
      "22     X_IEI   20.065186\n",
      "41      X_MV   19.114335\n",
      "44   B_Kappa   19.043771\n",
      "9    std_A2X   16.241729\n",
      "31    A_ChiA   14.678545\n",
      "27      B_EA   14.477919\n",
      "15       A_Z   12.628214\n",
      "29    A_ChiP   11.969555\n",
      "37      A_BP   11.579900\n",
      "10   std_B2X   10.809447\n",
      "16       B_Z    9.440231\n",
      "25    X_IEII    9.352237\n",
      "36      B_MP    9.089462\n",
      "43   A_Kappa    8.458841\n",
      "46     A_CvM    8.388239\n",
      "42      B_Hf    8.046263\n"
     ]
    }
   ],
   "source": [
    "#apply SelectKBest class to extract top 10 best features\n",
    "bestfeatures = SelectKBest(score_func=f_regression, k=10)\n",
    "fit = bestfeatures.fit(X,Y)\n",
    "dfscores = pd.DataFrame(fit.scores_)\n",
    "dfcolumns = pd.DataFrame(X.columns)\n",
    "#concat two dataframes for better visualization \n",
    "featureScores = pd.concat([dfcolumns,dfscores],axis=1)\n",
    "featureScores.columns = ['Feature','Score']  #naming the dataframe columns\n",
    "print(featureScores.nlargest(30,'Score'))  #print 10 best features"
   ]
  },
  {
   "cell_type": "code",
   "execution_count": 12,
   "metadata": {},
   "outputs": [
    {
     "data": {
      "text/plain": [
       "array(['mean_A2B', 's_X', 'X_Z', 'mean_X2X', 'X_Ra', 'mean_A2X', 's_B',\n",
       "       'A_Rvdw', 'X_EA', 'E_coh', 's_A', 'X_Kappa', 'X_ChiA', 'A_IEI',\n",
       "       'X_IEI', 'X_MV', 'B_Kappa', 'std_A2X', 'A_ChiA', 'B_EA', 'A_Z',\n",
       "       'A_ChiP', 'A_BP', 'std_B2X', 'B_Z', 'X_IEII', 'B_MP', 'A_Kappa',\n",
       "       'A_CvM', 'B_Hf', 'B_ChiP', 'OF', 'A_B', 'A_EA', 'B_Rho', 'B_IEI',\n",
       "       'B_MV', 'B_Ra', 'density', 'TF'], dtype=object)"
      ]
     },
     "execution_count": 12,
     "metadata": {},
     "output_type": "execute_result"
    }
   ],
   "source": [
    "featureScores.nlargest(40,'Score')['Feature'].values"
   ]
  },
  {
   "cell_type": "code",
   "execution_count": 13,
   "metadata": {},
   "outputs": [],
   "source": [
    "X=X[featureScores.nlargest(40,'Score')['Feature'].values]"
   ]
  },
  {
   "cell_type": "code",
   "execution_count": 14,
   "metadata": {},
   "outputs": [
    {
     "name": "stdout",
     "output_type": "stream",
     "text": [
      "RF\n",
      "R2:  0.9018293649522207\n",
      "RMSE:  0.3133219351526148\n",
      "---------------------------------------\n",
      "GB\n",
      "R2:  0.8898448488306135\n",
      "RMSE:  0.33189629580546165\n",
      "---------------------------------------\n",
      "RR\n",
      "R2:  0.8097239991597116\n",
      "RMSE:  0.4362063741399114\n",
      "---------------------------------------\n",
      "LASSO\n",
      "R2:  0.9337739969853169\n",
      "RMSE:  0.25734413343747126\n",
      "---------------------------------------\n",
      "gpr1\n",
      "R2:  0.9286531577872075\n",
      "RMSE:  0.26710829678763737\n",
      "---------------------------------------\n",
      "gpr2\n",
      "R2:  0.9376201112361945\n",
      "RMSE:  0.24975966200290534\n",
      "---------------------------------------\n",
      "gpr3\n",
      "R2:  0.9269550592118785\n",
      "RMSE:  0.27026827558579924\n",
      "---------------------------------------\n",
      "gpr4\n",
      "R2:  0.9400765743312406\n",
      "RMSE:  0.24479261767618615\n",
      "---------------------------------------\n",
      "[0.9018293649522207, 0.8898448488306135, 0.8097239991597116, 0.9337739969853169, 0.9286531577872075, 0.9376201112361945, 0.9269550592118785, 0.9400765743312406]\n"
     ]
    },
    {
     "data": {
      "image/png": "[encoded data removed]",
      "text/plain": [
       "<Figure size 640x480 with 1 Axes>"
      ]
     },
     "metadata": {},
     "output_type": "display_data"
    }
   ],
   "source": [
    "run_models()"
   ]
  },
  {
   "cell_type": "code",
   "execution_count": 15,
   "metadata": {},
   "outputs": [
    {
     "data": {
      "text/plain": [
       "array(['mean_A2B', 's_X', 'X_Z', 'mean_X2X', 'X_Ra', 'mean_A2X', 's_B',\n",
       "       'A_Rvdw', 'X_EA', 'E_coh', 's_A', 'X_Kappa', 'X_ChiA', 'A_IEI',\n",
       "       'X_IEI', 'X_MV', 'B_Kappa', 'std_A2X', 'A_ChiA', 'B_EA', 'A_Z',\n",
       "       'A_ChiP', 'A_BP', 'std_B2X', 'B_Z', 'X_IEII', 'B_MP', 'A_Kappa',\n",
       "       'A_CvM', 'B_Hf'], dtype=object)"
      ]
     },
     "execution_count": 15,
     "metadata": {},
     "output_type": "execute_result"
    }
   ],
   "source": [
    "featureScores.nlargest(30,'Score')['Feature'].values"
   ]
  },
  {
   "cell_type": "code",
   "execution_count": 16,
   "metadata": {},
   "outputs": [],
   "source": [
    "X=X[featureScores.nlargest(30,'Score')['Feature'].values]\n",
    "t30_columns = ['mean_A2B', 's_X', 'X_Ra', 'X_EA', 'X_Z', 'mean_X2X', 'A_Rvdw',\n",
    "       's_A', 'mean_A2X', 's_B', 'A_IEI', 'E_coh', 'A_ChiA', 'std_A2X',\n",
    "       'X_IEII', 'B_Hf', 'A_ChiP', 'B_MP', 'A_BP', 'std_B2X', 'A_Z',\n",
    "       'X_Kappa', 'A_EA', 'B_Ra', 'OF', 'A_CvM', 'B_Z', 'A_Kappa',\n",
    "       'B_Kappa', 'X_ChiA']\n",
    "data_save=data_std[t30_columns]\n",
    "#data_save.to_csv(\"scaled_top_30.csv\")"
   ]
  },
  {
   "cell_type": "code",
   "execution_count": 17,
   "metadata": {},
   "outputs": [
    {
     "name": "stdout",
     "output_type": "stream",
     "text": [
      "RF\n",
      "R2:  0.9098223749331507\n",
      "RMSE:  0.30029589585415467\n",
      "---------------------------------------\n",
      "GB\n",
      "R2:  0.898248603397254\n",
      "RMSE:  0.3189849472980599\n",
      "---------------------------------------\n",
      "RR\n",
      "R2:  0.8437643637044561\n",
      "RMSE:  0.3952665382947864\n",
      "---------------------------------------\n",
      "LASSO\n",
      "R2:  0.919322121936432\n",
      "RMSE:  0.28403851510590594\n",
      "---------------------------------------\n",
      "gpr1\n",
      "R2:  0.9085666317437125\n",
      "RMSE:  0.3023795103116073\n",
      "---------------------------------------\n",
      "gpr2\n",
      "R2:  0.9331337413708521\n",
      "RMSE:  0.2585851090630468\n",
      "---------------------------------------\n",
      "gpr3\n",
      "R2:  0.9278656326995834\n",
      "RMSE:  0.2685784192752958\n",
      "---------------------------------------\n",
      "gpr4\n",
      "R2:  0.9371288412189772\n",
      "RMSE:  0.25074121875157024\n",
      "---------------------------------------\n",
      "[0.9098223749331507, 0.898248603397254, 0.8437643637044561, 0.919322121936432, 0.9085666317437125, 0.9331337413708521, 0.9278656326995834, 0.9371288412189772]\n"
     ]
    },
    {
     "data": {
      "image/png": "[encoded data removed]",
      "text/plain": [
       "<Figure size 640x480 with 1 Axes>"
      ]
     },
     "metadata": {},
     "output_type": "display_data"
    }
   ],
   "source": [
    "run_models()"
   ]
  },
  {
   "cell_type": "code",
   "execution_count": 18,
   "metadata": {},
   "outputs": [
    {
     "data": {
      "text/plain": [
       "array(['mean_A2B', 's_X', 'X_Z', 'mean_X2X', 'X_Ra', 'mean_A2X', 's_B',\n",
       "       'A_Rvdw', 'X_EA', 'E_coh', 's_A', 'X_Kappa', 'X_ChiA', 'A_IEI',\n",
       "       'X_IEI', 'X_MV', 'B_Kappa', 'std_A2X', 'A_ChiA', 'B_EA'],\n",
       "      dtype=object)"
      ]
     },
     "execution_count": 18,
     "metadata": {},
     "output_type": "execute_result"
    }
   ],
   "source": [
    "featureScores.nlargest(20,'Score')['Feature'].values"
   ]
  },
  {
   "cell_type": "code",
   "execution_count": 19,
   "metadata": {},
   "outputs": [],
   "source": [
    "X=X[featureScores.nlargest(20,'Score')['Feature'].values]"
   ]
  },
  {
   "cell_type": "code",
   "execution_count": 20,
   "metadata": {},
   "outputs": [
    {
     "name": "stdout",
     "output_type": "stream",
     "text": [
      "RF\n",
      "R2:  0.867167809097972\n",
      "RMSE:  0.3644615081212666\n",
      "---------------------------------------\n",
      "GB\n",
      "R2:  0.8734328915607379\n",
      "RMSE:  0.35576271367199525\n",
      "---------------------------------------\n",
      "RR\n",
      "R2:  0.8895005515133055\n",
      "RMSE:  0.3324145732164799\n",
      "---------------------------------------\n",
      "LASSO\n",
      "R2:  0.9070368276136155\n",
      "RMSE:  0.3048986264094749\n",
      "---------------------------------------\n",
      "gpr1\n",
      "R2:  0.8976001748381128\n",
      "RMSE:  0.3199997268153322\n",
      "---------------------------------------\n",
      "gpr2\n",
      "R2:  0.9181765697721329\n",
      "RMSE:  0.28604795092408386\n",
      "---------------------------------------\n",
      "gpr3\n",
      "R2:  0.9195568863652028\n",
      "RMSE:  0.2836249524192066\n",
      "---------------------------------------\n",
      "gpr4\n",
      "R2:  0.9222785150601354\n",
      "RMSE:  0.2787857330278303\n",
      "---------------------------------------\n",
      "[0.867167809097972, 0.8734328915607379, 0.8895005515133055, 0.9070368276136155, 0.8976001748381128, 0.9181765697721329, 0.9195568863652028, 0.9222785150601354]\n"
     ]
    },
    {
     "data": {
      "image/png": "[encoded data removed]",
      "text/plain": [
       "<Figure size 640x480 with 1 Axes>"
      ]
     },
     "metadata": {},
     "output_type": "display_data"
    }
   ],
   "source": [
    "run_models()"
   ]
  },
  {
   "cell_type": "code",
   "execution_count": 21,
   "metadata": {},
   "outputs": [
    {
     "data": {
      "text/plain": [
       "array(['mean_A2B', 's_X', 'X_Z', 'mean_X2X', 'X_Ra', 'mean_A2X', 's_B',\n",
       "       'A_Rvdw', 'X_EA', 'E_coh'], dtype=object)"
      ]
     },
     "execution_count": 21,
     "metadata": {},
     "output_type": "execute_result"
    }
   ],
   "source": [
    "featureScores.nlargest(10,'Score')['Feature'].values"
   ]
  },
  {
   "cell_type": "code",
   "execution_count": 22,
   "metadata": {},
   "outputs": [],
   "source": [
    "X=X[featureScores.nlargest(10,'Score')['Feature'].values]"
   ]
  },
  {
   "cell_type": "code",
   "execution_count": 23,
   "metadata": {},
   "outputs": [
    {
     "name": "stdout",
     "output_type": "stream",
     "text": [
      "RF\n",
      "R2:  0.8814612960967867\n",
      "RMSE:  0.3442945017034303\n",
      "---------------------------------------\n",
      "GB\n",
      "R2:  0.858285943661067\n",
      "RMSE:  0.376449274589463\n",
      "---------------------------------------\n",
      "RR\n",
      "R2:  0.784404088858874\n",
      "RMSE:  0.4643230676383912\n",
      "---------------------------------------\n",
      "LASSO\n",
      "R2:  0.8190522653702434\n",
      "RMSE:  0.4253795183477415\n",
      "---------------------------------------\n",
      "gpr1\n",
      "R2:  0.8060183544278696\n",
      "RMSE:  0.44043347462713406\n",
      "---------------------------------------\n",
      "gpr2\n",
      "R2:  0.8401842615602308\n",
      "RMSE:  0.3997696066983696\n",
      "---------------------------------------\n",
      "gpr3\n",
      "R2:  0.8616952422467384\n",
      "RMSE:  0.3718934763521156\n",
      "---------------------------------------\n",
      "gpr4\n",
      "R2:  0.8484102854293706\n",
      "RMSE:  0.38934523827912604\n",
      "---------------------------------------\n",
      "[0.8814612960967867, 0.858285943661067, 0.784404088858874, 0.8190522653702434, 0.8060183544278696, 0.8401842615602308, 0.8616952422467384, 0.8484102854293706]\n"
     ]
    },
    {
     "data": {
      "image/png": "[encoded data removed]",
      "text/plain": [
       "<Figure size 640x480 with 1 Axes>"
      ]
     },
     "metadata": {},
     "output_type": "display_data"
    }
   ],
   "source": [
    "run_models()"
   ]
  },
  {
   "cell_type": "markdown",
   "metadata": {},
   "source": [
    "# Min-Max scaling"
   ]
  },
  {
   "cell_type": "code",
   "execution_count": 24,
   "metadata": {},
   "outputs": [],
   "source": [
    "data_std=d.copy()\n",
    "scalerMM=MinMaxScaler()\n",
    "scalerMM.fit(np.array(data[target]).reshape(-1, 1))\n",
    "data_zpe_mm= scalerMM.transform(np.array(data[target]).reshape(-1, 1))\n",
    "data_std[columns]= MinMaxScaler().fit_transform(d[columns])\n",
    "Y = data_std[target] \n",
    "X = data_std.drop([target], axis=1)"
   ]
  },
  {
   "cell_type": "code",
   "execution_count": 25,
   "metadata": {},
   "outputs": [
    {
     "name": "stdout",
     "output_type": "stream",
     "text": [
      "(80, 51)\n"
     ]
    }
   ],
   "source": [
    "correlated_features = [\"A_Rc\",\"A_Ra\",\"A_M\",\"A_MP\",\"A_MV\",\"A_MendeleevNo\",\"A_Hf\",\"A_Hv\",\"B_Rc\",\n",
    "                       \"B_Rvdw\",\"B_M\",\"B_BP\",\"B_MendeleevNo\",\"B_Hv\",\"X_Rc\",\"X_Rvdw\",\"X_M\",\"X_BP\",\"X_MP\",\n",
    "                       \"X_MendeleevNo\",\"X_Hf\",\"X_Hv\",\"X_G\",\"X_B\",\"X_CvM\",\"X_ChiP\"]\n",
    "data_std.drop(labels=correlated_features, axis=1, inplace=True)\n",
    "print(data_std.shape)\n",
    "Y = data_std[target] \n",
    "X = data_std.drop([target], axis=1)\n",
    "#data_std.to_csv('Coef_a_scaled_non_corr_all.csv',index=False)"
   ]
  },
  {
   "cell_type": "markdown",
   "metadata": {
    "id": "ZaJDp0jdzwnZ"
   },
   "source": [
    "### Using CV technique"
   ]
  },
  {
   "cell_type": "code",
   "execution_count": 26,
   "metadata": {},
   "outputs": [
    {
     "name": "stdout",
     "output_type": "stream",
     "text": [
      "RF\n",
      "R2:  0.893252675799644\n",
      "RMSE:  0.07918338433105007\n",
      "---------------------------------------\n",
      "GB\n",
      "R2:  0.8908372276166661\n",
      "RMSE:  0.08007424258303364\n",
      "---------------------------------------\n",
      "RR\n",
      "R2:  0.8883775727749645\n",
      "RMSE:  0.08097133356359146\n",
      "---------------------------------------\n",
      "LASSO\n",
      "R2:  0.6058142953169071\n",
      "RMSE:  0.15216192579559554\n",
      "---------------------------------------\n",
      "gpr1\n",
      "R2:  0.8614727356019577\n",
      "RMSE:  0.09020345866092419\n",
      "---------------------------------------\n",
      "gpr2\n",
      "R2:  -0.07060212132074595\n",
      "RMSE:  0.25076655330241954\n",
      "---------------------------------------\n",
      "gpr3\n",
      "R2:  0.9371981859215509\n",
      "RMSE:  0.06073536634301369\n",
      "---------------------------------------\n",
      "gpr4\n",
      "R2:  0.9307345179070402\n",
      "RMSE:  0.06378432906487999\n",
      "---------------------------------------\n",
      "[0.893252675799644, 0.8908372276166661, 0.8883775727749645, 0.6058142953169071, 0.8614727356019577, -0.07060212132074595, 0.9371981859215509, 0.9307345179070402]\n"
     ]
    },
    {
     "data": {
      "image/png": "[encoded data removed]",
      "text/plain": [
       "<Figure size 640x480 with 1 Axes>"
      ]
     },
     "metadata": {},
     "output_type": "display_data"
    }
   ],
   "source": [
    "run_models()"
   ]
  },
  {
   "cell_type": "markdown",
   "metadata": {
    "id": "_x7bQR-jz4WE"
   },
   "source": [
    "## Feature selection\n"
   ]
  },
  {
   "cell_type": "code",
   "execution_count": 27,
   "metadata": {
    "colab": {
     "base_uri": "https://localhost:8080/"
    },
    "id": "RpTITR9vz7Th",
    "outputId": "b1c134f4-85a3-49a7-fa3a-34f5d4896d01"
   },
   "outputs": [
    {
     "name": "stdout",
     "output_type": "stream",
     "text": [
      "     Feature       Score\n",
      "4   mean_A2B  342.561672\n",
      "2        s_X  224.085608\n",
      "17       X_Z  200.923811\n",
      "7   mean_X2X  144.584059\n",
      "35      X_Ra  143.785064\n",
      "5   mean_A2X   96.188443\n",
      "1        s_B   50.869033\n",
      "33    A_Rvdw   44.335733\n",
      "28      X_EA   43.047947\n",
      "12     E_coh   42.583723\n",
      "0        s_A   35.416986\n",
      "45   X_Kappa   32.559689\n",
      "32    X_ChiA   30.952649\n",
      "20     A_IEI   27.313322\n",
      "22     X_IEI   20.065186\n",
      "41      X_MV   19.114335\n",
      "44   B_Kappa   19.043771\n",
      "9    std_A2X   16.241729\n",
      "31    A_ChiA   14.678545\n",
      "27      B_EA   14.477919\n",
      "15       A_Z   12.628214\n",
      "29    A_ChiP   11.969555\n",
      "37      A_BP   11.579900\n",
      "10   std_B2X   10.809447\n",
      "16       B_Z    9.440231\n",
      "25    X_IEII    9.352237\n",
      "36      B_MP    9.089462\n",
      "43   A_Kappa    8.458841\n",
      "46     A_CvM    8.388239\n",
      "42      B_Hf    8.046263\n"
     ]
    }
   ],
   "source": [
    "#apply SelectKBest class to extract top 10 best features\n",
    "bestfeatures = SelectKBest(score_func=f_regression, k=10)\n",
    "fit = bestfeatures.fit(X,Y)\n",
    "dfscores = pd.DataFrame(fit.scores_)\n",
    "dfcolumns = pd.DataFrame(X.columns)\n",
    "#concat two dataframes for better visualization \n",
    "featureScores = pd.concat([dfcolumns,dfscores],axis=1)\n",
    "featureScores.columns = ['Feature','Score']  #naming the dataframe columns\n",
    "print(featureScores.nlargest(30,'Score'))  #print 10 best features"
   ]
  },
  {
   "cell_type": "code",
   "execution_count": 28,
   "metadata": {},
   "outputs": [
    {
     "data": {
      "text/plain": [
       "array(['mean_A2B', 's_X', 'X_Z', 'mean_X2X', 'X_Ra', 'mean_A2X', 's_B',\n",
       "       'A_Rvdw', 'X_EA', 'E_coh', 's_A', 'X_Kappa', 'X_ChiA', 'A_IEI',\n",
       "       'X_IEI', 'X_MV', 'B_Kappa', 'std_A2X', 'A_ChiA', 'B_EA', 'A_Z',\n",
       "       'A_ChiP', 'A_BP', 'std_B2X', 'B_Z', 'X_IEII', 'B_MP', 'A_Kappa',\n",
       "       'A_CvM', 'B_Hf', 'B_ChiP', 'OF', 'A_B', 'A_EA', 'B_Rho', 'B_IEI',\n",
       "       'B_MV', 'B_Ra', 'density', 'TF'], dtype=object)"
      ]
     },
     "execution_count": 28,
     "metadata": {},
     "output_type": "execute_result"
    }
   ],
   "source": [
    "featureScores.nlargest(40,'Score')['Feature'].values"
   ]
  },
  {
   "cell_type": "code",
   "execution_count": 29,
   "metadata": {},
   "outputs": [],
   "source": [
    "X=X[featureScores.nlargest(40,'Score')['Feature'].values]"
   ]
  },
  {
   "cell_type": "code",
   "execution_count": 30,
   "metadata": {},
   "outputs": [
    {
     "name": "stdout",
     "output_type": "stream",
     "text": [
      "RF\n",
      "R2:  0.8788014310602293\n",
      "RMSE:  0.08437315845211242\n",
      "---------------------------------------\n",
      "GB\n",
      "R2:  0.8802268560562533\n",
      "RMSE:  0.08387553160731802\n",
      "---------------------------------------\n",
      "RR\n",
      "R2:  0.937374669395016\n",
      "RMSE:  0.060649968098052\n",
      "---------------------------------------\n",
      "LASSO\n",
      "R2:  0.6058004039972755\n",
      "RMSE:  0.15216460690668093\n",
      "---------------------------------------\n",
      "gpr1\n",
      "R2:  0.8674142157016702\n",
      "RMSE:  0.08824783142587048\n",
      "---------------------------------------\n",
      "gpr2\n",
      "R2:  -0.07060214582860525\n",
      "RMSE:  0.2507665561726508\n",
      "---------------------------------------\n",
      "gpr3\n",
      "R2:  0.9459206405072543\n",
      "RMSE:  0.056360044923729785\n",
      "---------------------------------------\n",
      "gpr4\n",
      "R2:  0.9352552070400751\n",
      "RMSE:  0.061667733114057405\n",
      "---------------------------------------\n",
      "[0.8788014310602293, 0.8802268560562533, 0.937374669395016, 0.6058004039972755, 0.8674142157016702, -0.07060214582860525, 0.9459206405072543, 0.9352552070400751]\n"
     ]
    },
    {
     "data": {
      "image/png": "[encoded data removed]",
      "text/plain": [
       "<Figure size 640x480 with 1 Axes>"
      ]
     },
     "metadata": {},
     "output_type": "display_data"
    }
   ],
   "source": [
    "run_models()"
   ]
  },
  {
   "cell_type": "code",
   "execution_count": 31,
   "metadata": {},
   "outputs": [
    {
     "data": {
      "text/plain": [
       "array(['mean_A2B', 's_X', 'X_Z', 'mean_X2X', 'X_Ra', 'mean_A2X', 's_B',\n",
       "       'A_Rvdw', 'X_EA', 'E_coh', 's_A', 'X_Kappa', 'X_ChiA', 'A_IEI',\n",
       "       'X_IEI', 'X_MV', 'B_Kappa', 'std_A2X', 'A_ChiA', 'B_EA', 'A_Z',\n",
       "       'A_ChiP', 'A_BP', 'std_B2X', 'B_Z', 'X_IEII', 'B_MP', 'A_Kappa',\n",
       "       'A_CvM', 'B_Hf'], dtype=object)"
      ]
     },
     "execution_count": 31,
     "metadata": {},
     "output_type": "execute_result"
    }
   ],
   "source": [
    "featureScores.nlargest(30,'Score')['Feature'].values"
   ]
  },
  {
   "cell_type": "code",
   "execution_count": 32,
   "metadata": {},
   "outputs": [],
   "source": [
    "X=X[featureScores.nlargest(30,'Score')['Feature'].values]"
   ]
  },
  {
   "cell_type": "code",
   "execution_count": 33,
   "metadata": {},
   "outputs": [
    {
     "name": "stdout",
     "output_type": "stream",
     "text": [
      "RF\n",
      "R2:  0.8895485595582715\n",
      "RMSE:  0.0805454946573523\n",
      "---------------------------------------\n",
      "GB\n",
      "R2:  0.8760893287933667\n",
      "RMSE:  0.08531195920616763\n",
      "---------------------------------------\n",
      "RR\n",
      "R2:  0.9002233456928256\n",
      "RMSE:  0.07655437753101167\n",
      "---------------------------------------\n",
      "LASSO\n",
      "R2:  0.6058004039972755\n",
      "RMSE:  0.15216460690668093\n",
      "---------------------------------------\n",
      "gpr1\n",
      "R2:  0.9042145282290542\n",
      "RMSE:  0.07500761944986291\n",
      "---------------------------------------\n",
      "gpr2\n",
      "R2:  -0.07060228897427678\n",
      "RMSE:  0.2507665729371165\n",
      "---------------------------------------\n",
      "gpr3\n",
      "R2:  0.9381562543646181\n",
      "RMSE:  0.060270313932290626\n",
      "---------------------------------------\n",
      "gpr4\n",
      "R2:  0.9290219005509808\n",
      "RMSE:  0.06456806092688494\n",
      "---------------------------------------\n",
      "[0.8895485595582715, 0.8760893287933667, 0.9002233456928256, 0.6058004039972755, 0.9042145282290542, -0.07060228897427678, 0.9381562543646181, 0.9290219005509808]\n"
     ]
    },
    {
     "data": {
      "image/png": "[encoded data removed]",
      "text/plain": [
       "<Figure size 640x480 with 1 Axes>"
      ]
     },
     "metadata": {},
     "output_type": "display_data"
    }
   ],
   "source": [
    "run_models()"
   ]
  },
  {
   "cell_type": "code",
   "execution_count": 34,
   "metadata": {},
   "outputs": [
    {
     "data": {
      "text/plain": [
       "array(['mean_A2B', 's_X', 'X_Z', 'mean_X2X', 'X_Ra', 'mean_A2X', 's_B',\n",
       "       'A_Rvdw', 'X_EA', 'E_coh', 's_A', 'X_Kappa', 'X_ChiA', 'A_IEI',\n",
       "       'X_IEI', 'X_MV', 'B_Kappa', 'std_A2X', 'A_ChiA', 'B_EA'],\n",
       "      dtype=object)"
      ]
     },
     "execution_count": 34,
     "metadata": {},
     "output_type": "execute_result"
    }
   ],
   "source": [
    "featureScores.nlargest(20,'Score')['Feature'].values"
   ]
  },
  {
   "cell_type": "code",
   "execution_count": 35,
   "metadata": {},
   "outputs": [],
   "source": [
    "X=X[featureScores.nlargest(20,'Score')['Feature'].values]"
   ]
  },
  {
   "cell_type": "code",
   "execution_count": 36,
   "metadata": {},
   "outputs": [
    {
     "name": "stdout",
     "output_type": "stream",
     "text": [
      "RF\n",
      "R2:  0.8878987811201015\n",
      "RMSE:  0.08114480638408379\n",
      "---------------------------------------\n",
      "GB\n",
      "R2:  0.9064424974573331\n",
      "RMSE:  0.07413014865467256\n",
      "---------------------------------------\n",
      "RR\n",
      "R2:  0.8939422935629141\n",
      "RMSE:  0.07892719642283916\n",
      "---------------------------------------\n",
      "LASSO\n",
      "R2:  0.6058004039972755\n",
      "RMSE:  0.15216460690668093\n",
      "---------------------------------------\n",
      "gpr1\n",
      "R2:  0.8990282543017735\n",
      "RMSE:  0.07701148420132525\n",
      "---------------------------------------\n",
      "gpr2\n",
      "R2:  -0.07060214729733127\n",
      "RMSE:  0.2507665563446603\n",
      "---------------------------------------\n",
      "gpr3\n",
      "R2:  0.92917727535151\n",
      "RMSE:  0.06449735076443161\n",
      "---------------------------------------\n",
      "gpr4\n",
      "R2:  0.9173477771438276\n",
      "RMSE:  0.06967593895521541\n",
      "---------------------------------------\n",
      "[0.8878987811201015, 0.9064424974573331, 0.8939422935629141, 0.6058004039972755, 0.8990282543017735, -0.07060214729733127, 0.92917727535151, 0.9173477771438276]\n"
     ]
    },
    {
     "data": {
      "image/png": "[encoded data removed]",
      "text/plain": [
       "<Figure size 640x480 with 1 Axes>"
      ]
     },
     "metadata": {},
     "output_type": "display_data"
    }
   ],
   "source": [
    "run_models()"
   ]
  },
  {
   "cell_type": "code",
   "execution_count": 37,
   "metadata": {},
   "outputs": [
    {
     "data": {
      "text/plain": [
       "array(['mean_A2B', 's_X', 'X_Z', 'mean_X2X', 'X_Ra', 'mean_A2X', 's_B',\n",
       "       'A_Rvdw', 'X_EA', 'E_coh'], dtype=object)"
      ]
     },
     "execution_count": 37,
     "metadata": {},
     "output_type": "execute_result"
    }
   ],
   "source": [
    "featureScores.nlargest(10,'Score')['Feature'].values"
   ]
  },
  {
   "cell_type": "code",
   "execution_count": 38,
   "metadata": {},
   "outputs": [],
   "source": [
    "X=X[featureScores.nlargest(10,'Score')['Feature'].values]"
   ]
  },
  {
   "cell_type": "code",
   "execution_count": 39,
   "metadata": {},
   "outputs": [
    {
     "name": "stdout",
     "output_type": "stream",
     "text": [
      "RF\n",
      "R2:  0.8635875189201085\n",
      "RMSE:  0.0895122790986837\n",
      "---------------------------------------\n",
      "GB\n",
      "R2:  0.8750216195830856\n",
      "RMSE:  0.08567872739008393\n",
      "---------------------------------------\n",
      "RR\n",
      "R2:  0.7906545741604285\n",
      "RMSE:  0.1108887017749346\n",
      "---------------------------------------\n",
      "LASSO\n",
      "R2:  0.6058003872570061\n",
      "RMSE:  0.15216461013762853\n",
      "---------------------------------------\n",
      "gpr1\n",
      "R2:  0.8242004416031288\n",
      "RMSE:  0.10161655113767519\n",
      "---------------------------------------\n",
      "gpr2\n",
      "R2:  -0.07060218082420477\n",
      "RMSE:  0.25076656027115085\n",
      "---------------------------------------\n",
      "gpr3\n",
      "R2:  0.8543692540388809\n",
      "RMSE:  0.09248729932766621\n",
      "---------------------------------------\n",
      "gpr4\n",
      "R2:  0.8417968204737112\n",
      "RMSE:  0.09639692152998519\n",
      "---------------------------------------\n",
      "[0.8635875189201085, 0.8750216195830856, 0.7906545741604285, 0.6058003872570061, 0.8242004416031288, -0.07060218082420477, 0.8543692540388809, 0.8417968204737112]\n"
     ]
    },
    {
     "data": {
      "image/png": "[encoded data removed]",
      "text/plain": [
       "<Figure size 640x480 with 1 Axes>"
      ]
     },
     "metadata": {},
     "output_type": "display_data"
    }
   ],
   "source": [
    "run_models()"
   ]
  }
 ],
 "metadata": {
  "colab": {
   "collapsed_sections": [],
   "name": "Final_total.ipynb",
   "provenance": []
  },
  "kernelspec": {
   "display_name": "Python 3 (ipykernel)",
   "language": "python",
   "name": "python3"
  },
  "language_info": {
   "codemirror_mode": {
    "name": "ipython",
    "version": 3
   },
   "file_extension": ".py",
   "mimetype": "text/x-python",
   "name": "python",
   "nbconvert_exporter": "python",
   "pygments_lexer": "ipython3",
   "version": "3.9.13"
  }
 },
 "nbformat": 4,
 "nbformat_minor": 1
}
