{
 "cells": [
  {
   "cell_type": "markdown",
   "id": "a9cd6142",
   "metadata": {},
   "source": [
    "# Model selection"
   ]
  },
  {
   "cell_type": "code",
   "execution_count": 1,
   "id": "62d47901",
   "metadata": {},
   "outputs": [],
   "source": [
    "import pandas as pd"
   ]
  },
  {
   "cell_type": "code",
   "execution_count": 2,
   "id": "cf430274",
   "metadata": {},
   "outputs": [],
   "source": [
    "import matplotlib.pyplot as plt\n",
    "import numpy as np\n",
    "import itertools"
   ]
  },
  {
   "cell_type": "code",
   "execution_count": 3,
   "id": "eb0a1193",
   "metadata": {},
   "outputs": [],
   "source": [
    "from sklearn.metrics import mean_squared_error, r2_score\n",
    "from sklearn.gaussian_process import GaussianProcessRegressor\n",
    "from sklearn.gaussian_process.kernels import RBF\n",
    "from sklearn.preprocessing import StandardScaler, MinMaxScaler\n",
    "from sklearn.model_selection import train_test_split, cross_val_score, KFold\n",
    "from sklearn.linear_model import LinearRegression, Ridge, Lasso\n",
    "from sklearn.ensemble import RandomForestRegressor,GradientBoostingRegressor\n",
    "from sklearn.feature_selection import RFE, SelectKBest, f_regression"
   ]
  },
  {
   "cell_type": "code",
   "execution_count": 4,
   "id": "d9667f76",
   "metadata": {},
   "outputs": [],
   "source": [
    "import seaborn as sns"
   ]
  },
  {
   "cell_type": "markdown",
   "id": "05e51c93",
   "metadata": {},
   "source": [
    "Import data from csv files into a dataframe"
   ]
  },
  {
   "cell_type": "code",
   "execution_count": 5,
   "id": "787cce69",
   "metadata": {},
   "outputs": [
    {
     "name": "stdout",
     "output_type": "stream",
     "text": [
      "['Name' 'Coef_a' 'Coef_b' 'Coef_c' 'Coef_d' 'A_site' 'B_site' 'X_site'\n",
      " 'Spacegroup' 'Ehull' 'BulkModulus' 'Energy' 'ZPE' 's_A' 's_B' 's_X'\n",
      " 'density' 'mean_A2B' 'mean_A2X' 'mean_B2X' 'mean_X2X' 'std_A2B' 'std_A2X'\n",
      " 'std_B2X' 'std_X2X' 'E_coh' 'TF' 'OF' 'A_Z' 'B_Z' 'X_Z' 'A_M' 'B_M' 'X_M'\n",
      " 'A_G' 'B_G' 'X_G' 'A_IEI' 'B_IEI' 'X_IEI' 'A_IEII' 'B_IEII' 'X_IEII'\n",
      " 'A_EA' 'B_EA' 'X_EA' 'A_ChiP' 'B_ChiP' 'X_ChiP' 'A_ChiA' 'X_ChiA'\n",
      " 'A_Rvdw' 'B_Rvdw' 'X_Rvdw' 'A_Rc' 'B_Rc' 'X_Rc' 'A_Ra' 'B_Ra' 'X_Ra'\n",
      " 'A_MP' 'B_MP' 'X_MP' 'A_BP' 'B_BP' 'X_BP' 'A_Rho' 'B_Rho' 'A_MV' 'B_MV'\n",
      " 'X_MV' 'A_Hf' 'B_Hf' 'X_Hf' 'A_Hv' 'B_Hv' 'X_Hv' 'A_Kappa' 'B_Kappa'\n",
      " 'X_Kappa' 'A_CvM' 'B_CvM' 'X_CvM' 'A_B' 'B_B' 'X_B' 'A_MendeleevNo'\n",
      " 'B_MendeleevNo' 'X_MendeleevNo']\n"
     ]
    }
   ],
   "source": [
    "data = pd.read_csv('Combined_all_3rd_fit.csv', encoding='cp1252')\n",
    "print(data.columns.values)"
   ]
  },
  {
   "cell_type": "markdown",
   "id": "193419bd",
   "metadata": {},
   "source": [
    "Drop the unnecessary columns and fill the empty cells with zero"
   ]
  },
  {
   "cell_type": "code",
   "execution_count": 6,
   "id": "30a36ba9",
   "metadata": {},
   "outputs": [
    {
     "name": "stdout",
     "output_type": "stream",
     "text": [
      "(80, 77)\n"
     ]
    }
   ],
   "source": [
    "data.drop(['Name', 'A_site', 'B_site', 'X_site', 'Spacegroup','BulkModulus',\n",
    "           'Ehull','Energy','ZPE','Coef_b', 'Coef_a', 'Coef_d'], axis=1, inplace = True)\n",
    "data.fillna(0, inplace= True)\n",
    "d=data.copy()\n",
    "columns = list(d.columns.values)\n",
    "print(d.shape)"
   ]
  },
  {
   "cell_type": "markdown",
   "id": "4bb0c2a1",
   "metadata": {},
   "source": [
    "Set the target variable to machine learn"
   ]
  },
  {
   "cell_type": "code",
   "execution_count": 7,
   "id": "b2817160",
   "metadata": {},
   "outputs": [],
   "source": [
    "target = 'Coef_c'"
   ]
  },
  {
   "cell_type": "markdown",
   "id": "0f98f85e",
   "metadata": {},
   "source": [
    "Define various methods to be used for buildig and validating the models"
   ]
  },
  {
   "cell_type": "code",
   "execution_count": 8,
   "id": "5fa4081a",
   "metadata": {},
   "outputs": [],
   "source": [
    "\"\"\"\n",
    "    Functions to perform scaling\n",
    "    \n",
    "    \"\"\"\n",
    "def standard_scaling(target):\n",
    "    data_std=d.copy()\n",
    "    data_std[columns]= StandardScaler().fit_transform(d[columns])\n",
    "    Y = data_std[target] \n",
    "    X = data_std.drop([target], axis=1)\n",
    "    return X,Y\n",
    "\n",
    "def minmax_scaling(target):\n",
    "    data_mm=d.copy()\n",
    "    data_mm[columns]= MinMaxScaler().fit_transform(d[columns])\n",
    "    Y = data_mm[target] \n",
    "    X = data_mm.drop([target], axis=1)\n",
    "    return X,Y"
   ]
  },
  {
   "cell_type": "code",
   "execution_count": 9,
   "id": "08eda787",
   "metadata": {},
   "outputs": [],
   "source": [
    "\"\"\"\n",
    "    Function to build machine learning models by hyper parameter tuning. It also plots scatter plot\n",
    "    \n",
    "    \"\"\"\n",
    "def build_cv_model(X,Y,b_drop=False,target='Coef_d'):\n",
    "    if b_drop :\n",
    "        correlated_features = [\"A_Rc\",\"A_Ra\",\"A_M\",\"A_MP\",\"A_MV\",\"A_MendeleevNo\",\"A_Hf\",\"A_Hv\",\"B_Rc\",\n",
    "                       \"B_Rvdw\",\"B_M\",\"B_BP\",\"B_MendeleevNo\",\"B_Hv\",\"X_Rc\",\"X_Rvdw\",\"X_M\",\"X_BP\",\"X_MP\",\n",
    "                       \"X_MendeleevNo\",\"X_Hf\",\"X_Hv\",\"X_G\",\"X_B\",\"X_CvM\",\"X_ChiP\"]\n",
    "        X.drop(labels=correlated_features, axis=1, inplace=True)\n",
    "        \n",
    "    print(\"The shape of X is \",X.shape)\n",
    "    \n",
    "    ml_model, cv_results = train_model(X,Y,hyperparams=hyperparams, cv=True, return_cv=True)\n",
    "    \n",
    "    return ml_model"
   ]
  },
  {
   "cell_type": "code",
   "execution_count": 10,
   "id": "835ed0e7",
   "metadata": {},
   "outputs": [],
   "source": [
    "def run_model(X,Y,model,target='Coef_d'):\n",
    "    rmse,r2 = run_cv(model, X, Y, n_cv = 5)\n",
    "    print(\"-----------------------------------------------------\")\n",
    "    print(\"The R2 is \",r2)\n",
    "    print(\"The RMSE is \",rmse)"
   ]
  },
  {
   "cell_type": "code",
   "execution_count": 11,
   "id": "8be0db69",
   "metadata": {},
   "outputs": [],
   "source": [
    "\"\"\"\n",
    "    Function to perform feature elimination using select K best of RFE method. It also prints the \n",
    "    feature scores obtained as:\n",
    "    SelectKBest: The scores obtained from the selector\n",
    "    RFE: The feature importance obtained from the RFR model \n",
    "    \n",
    "    \"\"\"\n",
    "def feature_elimination(X,Y,n,estimator,method='skb'):\n",
    "    if method=='skb':\n",
    "        bestfeatures = SelectKBest(score_func=f_regression, k=10)\n",
    "        fit = bestfeatures.fit(X,Y)\n",
    "        dfscores = pd.DataFrame(fit.scores_)\n",
    "        dfcolumns = pd.DataFrame(X.columns)\n",
    "        #concat two dataframes for better visualization \n",
    "        featureScores = pd.concat([dfcolumns,dfscores],axis=1)\n",
    "        featureScores.columns = ['Feature','Score']  #naming the dataframe columns\n",
    "        print(featureScores.nlargest(n,'Score'))  #print 10 best features\n",
    "        X=X[featureScores.nlargest(n,'Score')['Feature'].values]\n",
    "    elif method=='rfe':\n",
    "        selector = RFE(estimator, n_features_to_select=n, step=1)\n",
    "        selector = selector.fit(X, Y)\n",
    "        dfscores = pd.DataFrame(selector.ranking_)\n",
    "        dfcolumns = pd.DataFrame(selector.feature_names_in_)\n",
    "        #concat two dataframes for better visualization \n",
    "        featureSelection = pd.concat([dfcolumns,dfscores],axis=1)\n",
    "        featureSelection.columns = ['Feature','Score']  #naming the dataframe columns\n",
    "        X=X[featureSelection.nsmallest(n,'Score')['Feature'].values]\n",
    "        estimator.fit(X,Y)\n",
    "        importance = pd.DataFrame(estimator.feature_importances_)\n",
    "        featureNames = pd.DataFrame(X.columns.values)\n",
    "        featureScores = pd.concat([featureNames,importance],axis=1)\n",
    "        featureScores.columns = ['Feature','Score']  #naming the dataframe columns\n",
    "        \n",
    "    print(featureScores)\n",
    "    print(\"-----------------------------------------------------\")\n",
    "    return X"
   ]
  },
  {
   "cell_type": "code",
   "execution_count": 12,
   "id": "80a52bcd",
   "metadata": {},
   "outputs": [],
   "source": [
    "def train_model(X, y, hyperparams = None, cv = False, return_cv = False):\n",
    "    \"\"\"\n",
    "    Function to train the ML model on the given data X (features) and y (target property). \n",
    "    If hyperparams argument is passed, all possible combinations of alpha and kernel values\n",
    "    will be tried to find combination with minimum CV error. The final  model is trained\n",
    "    using the fixed kernel and alpha params as determined using CV.\n",
    "    \n",
    "    \"\"\"\n",
    "    \n",
    "    if cv:\n",
    "        cv_results = {'n_estimators':[],'criterion':[],'min_samples_split':[],\n",
    "                      'min_samples_leaf':[],'max_features':[],'cv_rmse':[],'cv_r2':[]}\n",
    "        for n,c,s,l,f in itertools.product(hyperparams['n_estimators'], \n",
    "                                           hyperparams['criterion'],hyperparams['min_samples_split'],\n",
    "                                          hyperparams['min_samples_leaf'],hyperparams['max_features']):\n",
    "\n",
    "            random_forests = RandomForestRegressor(\n",
    "            n_estimators=n, criterion=c, min_samples_split=s, min_samples_leaf=l, max_features=f)\n",
    "\n",
    "            cv_error, cv_r2 = run_cv(random_forests, X, y, n_cv = 5)\n",
    "            cv_results['cv_rmse'].append(cv_error)\n",
    "            cv_results['cv_r2'].append(cv_r2)\n",
    "            cv_results['n_estimators'].append(n)\n",
    "            cv_results['criterion'].append(c)\n",
    "            cv_results['min_samples_split'].append(s)\n",
    "            cv_results['min_samples_leaf'].append(l)\n",
    "            cv_results['max_features'].append(f)\n",
    "\n",
    "        cv_results = pd.DataFrame(cv_results)\n",
    "        cv_results = cv_results.sort_values('cv_rmse')\n",
    "        n_opt = cv_results.iloc[0]['n_estimators']\n",
    "        c_opt = cv_results.iloc[0]['criterion']\n",
    "        s_opt = cv_results.iloc[0]['min_samples_split']\n",
    "        l_opt = cv_results.iloc[0]['min_samples_leaf']\n",
    "        f_opt = cv_results.iloc[0]['max_features']\n",
    "        \n",
    "    else:\n",
    "        n_opt = hyperparams['n_estimators'][0]\n",
    "        c_opt = hyperparams['criterion'][0]\n",
    "        s_opt = hyperparams['min_samples_split'][0]\n",
    "        l_opt = hyperparams['min_samples_leaf'][0]\n",
    "        f_opt = hyperparams['max_features'][0]\n",
    "\n",
    "    random_forests = RandomForestRegressor(\n",
    "            n_estimators=n_opt, criterion=c_opt, min_samples_split=s_opt, min_samples_leaf=l_opt, max_features=f_opt)\n",
    "    model = random_forests.fit(X,y)\n",
    "    print(\"-----------------------------------------------------\")\n",
    "    print(\"The R2 for \",n_opt,\",\",c_opt,\",\",s_opt,\",\",l_opt,\",\",f_opt,\" is \",cv_results.iloc[0]['cv_r2'])\n",
    "    print(\"The RMSE for \",n_opt,\",\",c_opt,\",\",s_opt,\",\",l_opt,\",\",f_opt,\" is \",cv_results.iloc[0]['cv_rmse'])\n",
    "    return [model, cv_results] if return_cv else model\n",
    "\n",
    "\n",
    "def run_cv(ml_model, X, y, n_cv = 5):\n",
    "    \"\"\"\n",
    "    Function to run Cross-validation\n",
    "    \"\"\"\n",
    "    kf = KFold(n_splits=n_cv,shuffle=True,random_state=50)\n",
    "    y_val = []\n",
    "    y_pred = []\n",
    "\n",
    "    for idx, (train, val) in enumerate(kf.split(X)):\n",
    "        \n",
    "        X_cv_train = X.values[train]\n",
    "        X_cv_val = X.values[val]\n",
    "\n",
    "        y_cv_train = y.values[train]\n",
    "        y_cv_val = y.values[val]    \n",
    "\n",
    "        # Model fit and prediction\n",
    "        model = ml_model.fit(X_cv_train, y_cv_train)\n",
    "        y_pred_val = model.predict(X_cv_val)\n",
    "        \n",
    "        y_val.append(y_cv_val)\n",
    "        y_pred.append(y_pred_val)\n",
    "\n",
    "    # Computing errors\n",
    "    rmse = np.sqrt(mean_squared_error(y_val, y_pred))\n",
    "    r2 = r2_score(y_val, y_pred)\n",
    "    \n",
    "    return rmse, r2"
   ]
  },
  {
   "cell_type": "markdown",
   "id": "5e43d433",
   "metadata": {},
   "source": [
    "Define the hyperparameters to be tuned for the given algorithm"
   ]
  },
  {
   "cell_type": "code",
   "execution_count": 13,
   "id": "bffb2010",
   "metadata": {},
   "outputs": [],
   "source": [
    "hyperparams={'n_estimators': [10,100],\n",
    "             'criterion':[\"squared_error\", \"absolute_error\", \"friedman_mse\"],\n",
    "            'min_samples_split':[2,4,8],\n",
    "            'min_samples_leaf':[1,2,4,8],\n",
    "            'max_features':[\"sqrt\",\"log2\",0.3,1]}"
   ]
  },
  {
   "cell_type": "markdown",
   "id": "50ef316a",
   "metadata": {},
   "source": [
    "## Without scaling"
   ]
  },
  {
   "cell_type": "code",
   "execution_count": 14,
   "id": "68802fe0",
   "metadata": {},
   "outputs": [],
   "source": [
    "data_std=d.copy()\n",
    "Y = data_std[target] \n",
    "X = data_std.drop([target], axis=1)"
   ]
  },
  {
   "cell_type": "code",
   "execution_count": 15,
   "id": "090acf26",
   "metadata": {},
   "outputs": [
    {
     "name": "stdout",
     "output_type": "stream",
     "text": [
      "The shape of X is  (80, 76)\n",
      "-----------------------------------------------------\n",
      "The R2 for  100 , absolute_error , 4 , 1 , 0.3  is  0.6163435413684029\n",
      "The RMSE for  100 , absolute_error , 4 , 1 , 0.3  is  0.010579104654806826\n"
     ]
    }
   ],
   "source": [
    "ml_model=build_cv_model(X,Y,False,target)"
   ]
  },
  {
   "cell_type": "markdown",
   "id": "62ea41f3",
   "metadata": {},
   "source": [
    "### Drop correlated features"
   ]
  },
  {
   "cell_type": "code",
   "execution_count": 16,
   "id": "26950d24",
   "metadata": {},
   "outputs": [
    {
     "name": "stdout",
     "output_type": "stream",
     "text": [
      "The shape of X is  (80, 50)\n",
      "-----------------------------------------------------\n",
      "The R2 for  100 , friedman_mse , 2 , 1 , sqrt  is  0.6206340471297189\n",
      "The RMSE for  100 , friedman_mse , 2 , 1 , sqrt  is  0.00999729922200379\n"
     ]
    }
   ],
   "source": [
    "ml_model_prime=build_cv_model(X,Y,True,target)"
   ]
  },
  {
   "cell_type": "markdown",
   "id": "f0b36718",
   "metadata": {},
   "source": [
    "### Feature elimination"
   ]
  },
  {
   "cell_type": "code",
   "execution_count": 17,
   "id": "a6b5dd6b",
   "metadata": {},
   "outputs": [
    {
     "name": "stdout",
     "output_type": "stream",
     "text": [
      "     Feature     Score\n",
      "0        s_A  0.013505\n",
      "1        s_B  0.018819\n",
      "2        s_X  0.047119\n",
      "3    density  0.007471\n",
      "4   mean_A2B  0.045888\n",
      "5   mean_A2X  0.094831\n",
      "6   mean_B2X  0.004231\n",
      "7   mean_X2X  0.149365\n",
      "8    std_A2B  0.003682\n",
      "9    std_A2X  0.004879\n",
      "10   std_B2X  0.005151\n",
      "11   std_X2X  0.004631\n",
      "12     E_coh  0.052148\n",
      "13        TF  0.005955\n",
      "14        OF  0.015545\n",
      "15       B_Z  0.006879\n",
      "16       X_Z  0.094694\n",
      "17       B_G  0.007295\n",
      "18     A_IEI  0.003524\n",
      "19     B_IEI  0.003323\n",
      "20     X_IEI  0.070725\n",
      "21    B_IEII  0.002251\n",
      "22    X_IEII  0.080246\n",
      "23      B_EA  0.026824\n",
      "24    A_ChiP  0.008863\n",
      "25    B_ChiP  0.006445\n",
      "26    A_ChiA  0.018743\n",
      "27    X_ChiA  0.031486\n",
      "28    A_Rvdw  0.004957\n",
      "29      B_Ra  0.001427\n",
      "30      X_Ra  0.083443\n",
      "31      B_MP  0.005007\n",
      "32      A_BP  0.002624\n",
      "33     B_Rho  0.003922\n",
      "34      B_MV  0.011345\n",
      "35      X_MV  0.010752\n",
      "36      B_Hf  0.007868\n",
      "37   B_Kappa  0.022291\n",
      "38   X_Kappa  0.008227\n",
      "39     B_CvM  0.003621\n",
      "-----------------------------------------------------\n",
      "The shape of X is  (80, 40)\n",
      "-----------------------------------------------------\n",
      "The R2 for  10 , absolute_error , 2 , 1 , 0.3  is  0.5999310355653477\n",
      "The RMSE for  10 , absolute_error , 2 , 1 , 0.3  is  0.009831505395201315\n",
      "-----------------------------------------------------\n",
      "The R2 is  0.6375847641082991\n",
      "The RMSE is  0.010563838766893194\n"
     ]
    }
   ],
   "source": [
    "X=feature_elimination(X,Y,40,ml_model_prime,method='rfe')\n",
    "ml_model=build_cv_model(X,Y,False,target)\n",
    "run_model(X,Y,ml_model_prime,target)"
   ]
  },
  {
   "cell_type": "code",
   "execution_count": 18,
   "id": "f4c14a2c",
   "metadata": {},
   "outputs": [
    {
     "name": "stdout",
     "output_type": "stream",
     "text": [
      "     Feature     Score\n",
      "0        s_A  0.015436\n",
      "1        s_B  0.016974\n",
      "2        s_X  0.000674\n",
      "3    density  0.030403\n",
      "4   mean_A2B  0.072196\n",
      "5   mean_A2X  0.076952\n",
      "6   mean_B2X  0.007249\n",
      "7   mean_X2X  0.068827\n",
      "8    std_A2B  0.008281\n",
      "9    std_A2X  0.007359\n",
      "10   std_X2X  0.004959\n",
      "11     E_coh  0.084482\n",
      "12        TF  0.014322\n",
      "13        OF  0.033173\n",
      "14       B_Z  0.012751\n",
      "15       X_Z  0.199687\n",
      "16     A_IEI  0.007267\n",
      "17     X_IEI  0.001786\n",
      "18    B_IEII  0.007632\n",
      "19    X_IEII  0.101515\n",
      "20      B_EA  0.044490\n",
      "21    B_ChiP  0.038219\n",
      "22    A_Rvdw  0.013897\n",
      "23      B_Ra  0.003223\n",
      "24      X_Ra  0.004591\n",
      "25      B_MP  0.022923\n",
      "26      B_MV  0.019043\n",
      "27      X_MV  0.057442\n",
      "28   B_Kappa  0.018039\n",
      "29     B_CvM  0.006208\n",
      "-----------------------------------------------------\n",
      "The shape of X is  (80, 30)\n",
      "-----------------------------------------------------\n",
      "The R2 for  100 , friedman_mse , 2 , 1 , 0.3  is  0.6698013048914349\n",
      "The RMSE for  100 , friedman_mse , 2 , 1 , 0.3  is  0.009849590268089172\n",
      "-----------------------------------------------------\n",
      "The R2 is  0.5867572714539082\n",
      "The RMSE is  0.009926648852594306\n"
     ]
    }
   ],
   "source": [
    "X=feature_elimination(X,Y,30,ml_model,method='rfe')\n",
    "ml_model=build_cv_model(X,Y,False,target)\n",
    "run_model(X,Y,ml_model_prime,target)"
   ]
  },
  {
   "cell_type": "code",
   "execution_count": 19,
   "id": "43be0df3",
   "metadata": {},
   "outputs": [
    {
     "name": "stdout",
     "output_type": "stream",
     "text": [
      "     Feature     Score\n",
      "0        s_A  0.008332\n",
      "1        s_B  0.018033\n",
      "2        s_X  0.058382\n",
      "3    density  0.008758\n",
      "4   mean_A2B  0.074396\n",
      "5   mean_A2X  0.153903\n",
      "6   mean_X2X  0.227226\n",
      "7      E_coh  0.053162\n",
      "8         OF  0.011027\n",
      "9        X_Z  0.104759\n",
      "10     X_IEI  0.067644\n",
      "11    X_IEII  0.049926\n",
      "12      B_EA  0.016219\n",
      "13    B_ChiP  0.014550\n",
      "14    A_Rvdw  0.006860\n",
      "15      X_Ra  0.044339\n",
      "16      B_MP  0.013108\n",
      "17      B_MV  0.010520\n",
      "18      X_MV  0.041946\n",
      "19   B_Kappa  0.016910\n",
      "-----------------------------------------------------\n",
      "The shape of X is  (80, 20)\n",
      "-----------------------------------------------------\n",
      "The R2 for  100 , squared_error , 2 , 1 , sqrt  is  0.5934406982768725\n",
      "The RMSE for  100 , squared_error , 2 , 1 , sqrt  is  0.009392067790178253\n",
      "-----------------------------------------------------\n",
      "The R2 is  0.6024285351932639\n",
      "The RMSE is  0.009927502208708118\n"
     ]
    }
   ],
   "source": [
    "X=feature_elimination(X,Y,20,ml_model,method='rfe')\n",
    "ml_model=build_cv_model(X,Y,False,target)\n",
    "run_model(X,Y,ml_model_prime,target)"
   ]
  },
  {
   "cell_type": "code",
   "execution_count": 20,
   "id": "ba87d76e",
   "metadata": {},
   "outputs": [
    {
     "name": "stdout",
     "output_type": "stream",
     "text": [
      "    Feature     Score\n",
      "0       s_X  0.093754\n",
      "1  mean_A2B  0.137371\n",
      "2  mean_A2X  0.117100\n",
      "3  mean_X2X  0.296935\n",
      "4     E_coh  0.048948\n",
      "5       X_Z  0.098902\n",
      "6    X_IEII  0.081843\n",
      "7    B_ChiP  0.034164\n",
      "8      X_Ra  0.060709\n",
      "9      B_MV  0.030273\n",
      "-----------------------------------------------------\n",
      "The shape of X is  (80, 10)\n",
      "-----------------------------------------------------\n",
      "The R2 for  10 , absolute_error , 2 , 1 , log2  is  0.3327209155143463\n",
      "The RMSE for  10 , absolute_error , 2 , 1 , log2  is  0.010189607275625862\n",
      "-----------------------------------------------------\n",
      "The R2 is  0.43783663887255675\n",
      "The RMSE is  0.010332869428157337\n"
     ]
    }
   ],
   "source": [
    "X=feature_elimination(X,Y,10,ml_model,method='rfe')\n",
    "ml_model=build_cv_model(X,Y,False,target)\n",
    "run_model(X,Y,ml_model_prime,target)"
   ]
  },
  {
   "cell_type": "markdown",
   "id": "d6598f01",
   "metadata": {},
   "source": [
    "## Standard scaling"
   ]
  },
  {
   "cell_type": "code",
   "execution_count": 21,
   "id": "418a5638",
   "metadata": {},
   "outputs": [
    {
     "name": "stdout",
     "output_type": "stream",
     "text": [
      "The shape of X is  (80, 76)\n",
      "-----------------------------------------------------\n",
      "The R2 for  10 , squared_error , 2 , 2 , 0.3  is  0.5117552296204634\n",
      "The RMSE for  10 , squared_error , 2 , 2 , 0.3  is  0.26858446706846256\n"
     ]
    }
   ],
   "source": [
    "X,Y = standard_scaling(target)\n",
    "ml_model=build_cv_model(X,Y,False,target)"
   ]
  },
  {
   "cell_type": "code",
   "execution_count": 22,
   "id": "bc554eaf",
   "metadata": {},
   "outputs": [
    {
     "name": "stdout",
     "output_type": "stream",
     "text": [
      "The shape of X is  (80, 76)\n",
      "-----------------------------------------------------\n",
      "The R2 for  100 , friedman_mse , 4 , 1 , 0.3  is  0.654807858856931\n",
      "The RMSE for  100 , friedman_mse , 4 , 1 , 0.3  is  0.26724491541134776\n"
     ]
    }
   ],
   "source": [
    "ml_model=build_cv_model(X,Y,False,target)"
   ]
  },
  {
   "cell_type": "markdown",
   "id": "2140e933",
   "metadata": {},
   "source": [
    "### Drop correlated features"
   ]
  },
  {
   "cell_type": "code",
   "execution_count": 23,
   "id": "e4732e80",
   "metadata": {},
   "outputs": [
    {
     "name": "stdout",
     "output_type": "stream",
     "text": [
      "The shape of X is  (80, 50)\n",
      "-----------------------------------------------------\n",
      "The R2 for  100 , squared_error , 2 , 1 , log2  is  0.6050760635105432\n",
      "The RMSE for  100 , squared_error , 2 , 1 , log2  is  0.2685058137756022\n"
     ]
    }
   ],
   "source": [
    "ml_model_prime=build_cv_model(X,Y,True,target)"
   ]
  },
  {
   "cell_type": "markdown",
   "id": "5da0961f",
   "metadata": {},
   "source": [
    "### Feature elimination"
   ]
  },
  {
   "cell_type": "code",
   "execution_count": 24,
   "id": "a53db140",
   "metadata": {},
   "outputs": [
    {
     "name": "stdout",
     "output_type": "stream",
     "text": [
      "     Feature     Score\n",
      "0        s_A  0.027792\n",
      "1        s_B  0.045745\n",
      "2        s_X  0.036183\n",
      "3    density  0.004112\n",
      "4   mean_A2B  0.086140\n",
      "5   mean_A2X  0.105564\n",
      "6   mean_B2X  0.008779\n",
      "7   mean_X2X  0.094555\n",
      "8    std_A2X  0.005816\n",
      "9    std_B2X  0.003046\n",
      "10   std_X2X  0.005222\n",
      "11     E_coh  0.062629\n",
      "12        TF  0.006121\n",
      "13        OF  0.014948\n",
      "14       B_Z  0.002105\n",
      "15       X_Z  0.067402\n",
      "16       B_G  0.008856\n",
      "17     A_IEI  0.004945\n",
      "18     B_IEI  0.005246\n",
      "19     X_IEI  0.024407\n",
      "20    B_IEII  0.002522\n",
      "21    X_IEII  0.069682\n",
      "22      B_EA  0.017785\n",
      "23      X_EA  0.002911\n",
      "24    A_ChiP  0.007956\n",
      "25    B_ChiP  0.011695\n",
      "26    A_ChiA  0.007534\n",
      "27    X_ChiA  0.049592\n",
      "28    A_Rvdw  0.016607\n",
      "29      B_Ra  0.003138\n",
      "30      X_Ra  0.058459\n",
      "31      B_MP  0.007662\n",
      "32      A_BP  0.004787\n",
      "33     B_Rho  0.007467\n",
      "34      B_MV  0.010791\n",
      "35      X_MV  0.055871\n",
      "36      B_Hf  0.009200\n",
      "37   B_Kappa  0.024956\n",
      "38   X_Kappa  0.008860\n",
      "39     B_CvM  0.002914\n",
      "-----------------------------------------------------\n",
      "The shape of X is  (80, 40)\n",
      "-----------------------------------------------------\n",
      "The R2 for  100 , friedman_mse , 2 , 1 , 0.3  is  0.6405852984452521\n",
      "The RMSE for  100 , friedman_mse , 2 , 1 , 0.3  is  0.2542499924139917\n",
      "-----------------------------------------------------\n",
      "The R2 is  0.6370909161969893\n",
      "The RMSE is  0.2637939853420899\n"
     ]
    }
   ],
   "source": [
    "X=feature_elimination(X,Y,40,ml_model_prime,method='rfe')\n",
    "ml_model=build_cv_model(X,Y,False,target)\n",
    "run_model(X,Y,ml_model_prime,target)"
   ]
  },
  {
   "cell_type": "code",
   "execution_count": 25,
   "id": "44657d0f",
   "metadata": {},
   "outputs": [
    {
     "name": "stdout",
     "output_type": "stream",
     "text": [
      "     Feature     Score\n",
      "0        s_A  0.009571\n",
      "1        s_B  0.030742\n",
      "2        s_X  0.046138\n",
      "3    density  0.005946\n",
      "4   mean_A2B  0.125140\n",
      "5   mean_A2X  0.153090\n",
      "6   mean_B2X  0.004762\n",
      "7   mean_X2X  0.214095\n",
      "8    std_A2X  0.004188\n",
      "9    std_X2X  0.001621\n",
      "10     E_coh  0.040549\n",
      "11        TF  0.003311\n",
      "12        OF  0.006378\n",
      "13       X_Z  0.116854\n",
      "14       B_G  0.011217\n",
      "15     B_IEI  0.003900\n",
      "16     X_IEI  0.027089\n",
      "17    X_IEII  0.040316\n",
      "18      B_EA  0.013762\n",
      "19    B_ChiP  0.009799\n",
      "20    A_ChiA  0.003870\n",
      "21    X_ChiA  0.004451\n",
      "22    A_Rvdw  0.004370\n",
      "23      X_Ra  0.039232\n",
      "24      B_MP  0.007107\n",
      "25     B_Rho  0.002589\n",
      "26      B_MV  0.012818\n",
      "27      X_MV  0.035001\n",
      "28      B_Hf  0.004639\n",
      "29   B_Kappa  0.017457\n",
      "-----------------------------------------------------\n",
      "The shape of X is  (80, 30)\n",
      "-----------------------------------------------------\n",
      "The R2 for  10 , squared_error , 4 , 1 , 0.3  is  0.6159366170452449\n",
      "The RMSE for  10 , squared_error , 4 , 1 , 0.3  is  0.24922617127476268\n",
      "-----------------------------------------------------\n",
      "The R2 is  0.6169697339450723\n",
      "The RMSE is  0.26976746338133695\n"
     ]
    }
   ],
   "source": [
    "X=feature_elimination(X,Y,30,ml_model,method='rfe')\n",
    "ml_model=build_cv_model(X,Y,False,target)\n",
    "run_model(X,Y,ml_model_prime,target)"
   ]
  },
  {
   "cell_type": "code",
   "execution_count": 26,
   "id": "86bc5d14",
   "metadata": {},
   "outputs": [
    {
     "name": "stdout",
     "output_type": "stream",
     "text": [
      "     Feature     Score\n",
      "0        s_A  0.004596\n",
      "1        s_B  0.005833\n",
      "2    density  0.003381\n",
      "3   mean_A2B  0.183585\n",
      "4   mean_A2X  0.243323\n",
      "5   mean_X2X  0.258530\n",
      "6    std_X2X  0.009592\n",
      "7      E_coh  0.027905\n",
      "8         TF  0.004149\n",
      "9         OF  0.016466\n",
      "10       X_Z  0.081413\n",
      "11      B_EA  0.014607\n",
      "12    B_ChiP  0.020237\n",
      "13    A_Rvdw  0.008174\n",
      "14      X_Ra  0.080234\n",
      "15      B_MP  0.000543\n",
      "16     B_Rho  0.003608\n",
      "17      B_MV  0.001801\n",
      "18      B_Hf  0.019506\n",
      "19   B_Kappa  0.012516\n",
      "-----------------------------------------------------\n",
      "The shape of X is  (80, 20)\n",
      "-----------------------------------------------------\n",
      "The R2 for  100 , squared_error , 2 , 1 , sqrt  is  0.6183131644110667\n",
      "The RMSE for  100 , squared_error , 2 , 1 , sqrt  is  0.24883932703018102\n",
      "-----------------------------------------------------\n",
      "The R2 is  0.6252838716567338\n",
      "The RMSE is  0.2593211225515855\n"
     ]
    }
   ],
   "source": [
    "X=feature_elimination(X,Y,20,ml_model,method='rfe')\n",
    "ml_model=build_cv_model(X,Y,False,target)\n",
    "run_model(X,Y,ml_model_prime,target)"
   ]
  },
  {
   "cell_type": "code",
   "execution_count": 27,
   "id": "354e0216",
   "metadata": {},
   "outputs": [
    {
     "name": "stdout",
     "output_type": "stream",
     "text": [
      "    Feature     Score\n",
      "0       s_B  0.049930\n",
      "1  mean_A2B  0.143039\n",
      "2  mean_A2X  0.148477\n",
      "3  mean_X2X  0.244481\n",
      "4     E_coh  0.079085\n",
      "5        OF  0.024337\n",
      "6       X_Z  0.136114\n",
      "7      B_EA  0.032954\n",
      "8    B_ChiP  0.022315\n",
      "9      X_Ra  0.119267\n",
      "-----------------------------------------------------\n",
      "The shape of X is  (80, 10)\n",
      "-----------------------------------------------------\n",
      "The R2 for  100 , absolute_error , 2 , 1 , 1  is  0.48170431004947756\n",
      "The RMSE for  100 , absolute_error , 2 , 1 , 1  is  0.2532531062947911\n",
      "-----------------------------------------------------\n",
      "The R2 is  0.5154216942138229\n",
      "The RMSE is  0.25677291503448857\n"
     ]
    }
   ],
   "source": [
    "X=feature_elimination(X,Y,10,ml_model,method='rfe')\n",
    "ml_model=build_cv_model(X,Y,False,target)\n",
    "run_model(X,Y,ml_model_prime,target)"
   ]
  },
  {
   "cell_type": "markdown",
   "id": "7fc100aa",
   "metadata": {},
   "source": [
    "## Minmax scaling"
   ]
  },
  {
   "cell_type": "code",
   "execution_count": 28,
   "id": "3cf3e79b",
   "metadata": {},
   "outputs": [
    {
     "name": "stdout",
     "output_type": "stream",
     "text": [
      "The shape of X is  (80, 76)\n",
      "-----------------------------------------------------\n",
      "The R2 for  100 , friedman_mse , 2 , 1 , 0.3  is  0.5973160624072644\n",
      "The RMSE for  100 , friedman_mse , 2 , 1 , 0.3  is  0.06650439208396082\n"
     ]
    }
   ],
   "source": [
    "X,Y = minmax_scaling(target)\n",
    "ml_model=build_cv_model(X,Y,False,target)"
   ]
  },
  {
   "cell_type": "markdown",
   "id": "53c80113",
   "metadata": {},
   "source": [
    "### Drop correlated features"
   ]
  },
  {
   "cell_type": "code",
   "execution_count": 29,
   "id": "08219247",
   "metadata": {},
   "outputs": [
    {
     "name": "stdout",
     "output_type": "stream",
     "text": [
      "The shape of X is  (80, 50)\n",
      "-----------------------------------------------------\n",
      "The R2 for  10 , friedman_mse , 4 , 1 , 0.3  is  0.5611552915894443\n",
      "The RMSE for  10 , friedman_mse , 4 , 1 , 0.3  is  0.06338714655682112\n"
     ]
    }
   ],
   "source": [
    "ml_model_prime=build_cv_model(X,Y,True,target)"
   ]
  },
  {
   "cell_type": "markdown",
   "id": "c9d99eda",
   "metadata": {},
   "source": [
    "### Feature elimination"
   ]
  },
  {
   "cell_type": "code",
   "execution_count": 30,
   "id": "cf0fb3e8",
   "metadata": {},
   "outputs": [
    {
     "name": "stdout",
     "output_type": "stream",
     "text": [
      "     Feature     Score\n",
      "0        s_A  0.001782\n",
      "1        s_B  0.002693\n",
      "2        s_X  0.000000\n",
      "3    density  0.009110\n",
      "4   mean_A2B  0.115753\n",
      "5   mean_A2X  0.229756\n",
      "6   mean_B2X  0.000698\n",
      "7   mean_X2X  0.163343\n",
      "8    std_A2B  0.000493\n",
      "9    std_A2X  0.006882\n",
      "10   std_B2X  0.000382\n",
      "11   std_X2X  0.005033\n",
      "12     E_coh  0.034918\n",
      "13        TF  0.002492\n",
      "14        OF  0.011674\n",
      "15       A_Z  0.001355\n",
      "16       B_Z  0.005114\n",
      "17       X_Z  0.067327\n",
      "18       B_G  0.000088\n",
      "19     A_IEI  0.000083\n",
      "20     B_IEI  0.001952\n",
      "21     X_IEI  0.013214\n",
      "22    B_IEII  0.001508\n",
      "23    X_IEII  0.167796\n",
      "24      A_EA  0.000154\n",
      "25      B_EA  0.009343\n",
      "26    A_ChiP  0.000244\n",
      "27    B_ChiP  0.022910\n",
      "28    A_ChiA  0.001469\n",
      "29    A_Rvdw  0.007056\n",
      "30      B_Ra  0.000724\n",
      "31      B_MP  0.000085\n",
      "32     A_Rho  0.000306\n",
      "33      B_MV  0.009333\n",
      "34      X_MV  0.070730\n",
      "35      B_Hf  0.005251\n",
      "36   A_Kappa  0.000000\n",
      "37   B_Kappa  0.013080\n",
      "38     A_CvM  0.008584\n",
      "39     B_CvM  0.007288\n",
      "-----------------------------------------------------\n",
      "The shape of X is  (80, 40)\n",
      "-----------------------------------------------------\n",
      "The R2 for  100 , squared_error , 4 , 1 , 0.3  is  0.6290622513072268\n",
      "The RMSE for  100 , squared_error , 4 , 1 , 0.3  is  0.06443038725752688\n",
      "-----------------------------------------------------\n",
      "The R2 is  0.5724103336080255\n",
      "The RMSE is  0.06970149521297934\n"
     ]
    }
   ],
   "source": [
    "X=feature_elimination(X,Y,40,ml_model_prime,method='rfe')\n",
    "ml_model=build_cv_model(X,Y,False,target)\n",
    "run_model(X,Y,ml_model_prime,target)"
   ]
  },
  {
   "cell_type": "code",
   "execution_count": 31,
   "id": "0ca7c003",
   "metadata": {},
   "outputs": [
    {
     "name": "stdout",
     "output_type": "stream",
     "text": [
      "     Feature     Score\n",
      "0        s_A  0.005411\n",
      "1        s_B  0.005520\n",
      "2        s_X  0.071218\n",
      "3    density  0.008444\n",
      "4   mean_A2B  0.118307\n",
      "5   mean_A2X  0.160500\n",
      "6   mean_B2X  0.003458\n",
      "7   mean_X2X  0.237087\n",
      "8    std_A2X  0.009401\n",
      "9    std_B2X  0.002470\n",
      "10   std_X2X  0.003116\n",
      "11     E_coh  0.046421\n",
      "12        TF  0.004548\n",
      "13        OF  0.014135\n",
      "14       X_Z  0.118768\n",
      "15       B_G  0.009728\n",
      "16     A_IEI  0.004211\n",
      "17     B_IEI  0.007196\n",
      "18     X_IEI  0.025200\n",
      "19    X_IEII  0.018749\n",
      "20      B_EA  0.014372\n",
      "21    B_ChiP  0.013068\n",
      "22    A_ChiA  0.003512\n",
      "23    A_Rvdw  0.004689\n",
      "24      B_MP  0.006196\n",
      "25      B_MV  0.014858\n",
      "26      X_MV  0.049208\n",
      "27      B_Hf  0.004063\n",
      "28   B_Kappa  0.014509\n",
      "29     B_CvM  0.001637\n",
      "-----------------------------------------------------\n",
      "The shape of X is  (80, 30)\n",
      "-----------------------------------------------------\n",
      "The R2 for  100 , squared_error , 2 , 1 , 0.3  is  0.6508968565517499\n",
      "The RMSE for  100 , squared_error , 2 , 1 , 0.3  is  0.06253506038994433\n",
      "-----------------------------------------------------\n",
      "The R2 is  0.5750071080894397\n",
      "The RMSE is  0.07318161852717299\n"
     ]
    }
   ],
   "source": [
    "X=feature_elimination(X,Y,30,ml_model,method='rfe')\n",
    "ml_model=build_cv_model(X,Y,False,target)\n",
    "run_model(X,Y,ml_model_prime,target)"
   ]
  },
  {
   "cell_type": "code",
   "execution_count": 32,
   "id": "19f11f63",
   "metadata": {},
   "outputs": [
    {
     "name": "stdout",
     "output_type": "stream",
     "text": [
      "     Feature     Score\n",
      "0        s_A  0.013126\n",
      "1        s_B  0.013850\n",
      "2        s_X  0.049327\n",
      "3    density  0.008376\n",
      "4   mean_A2B  0.138862\n",
      "5   mean_A2X  0.071020\n",
      "6   mean_X2X  0.231596\n",
      "7      E_coh  0.053221\n",
      "8         OF  0.009530\n",
      "9        X_Z  0.165606\n",
      "10       B_G  0.012250\n",
      "11     B_IEI  0.005837\n",
      "12     X_IEI  0.048274\n",
      "13    X_IEII  0.040342\n",
      "14      B_EA  0.014900\n",
      "15    B_ChiP  0.013609\n",
      "16      B_MP  0.009535\n",
      "17      B_MV  0.019766\n",
      "18      X_MV  0.069246\n",
      "19   B_Kappa  0.011728\n",
      "-----------------------------------------------------\n",
      "The shape of X is  (80, 20)\n",
      "-----------------------------------------------------\n",
      "The R2 for  10 , squared_error , 4 , 2 , 0.3  is  0.5899988756510315\n",
      "The RMSE for  10 , squared_error , 4 , 2 , 0.3  is  0.05880875037932017\n",
      "-----------------------------------------------------\n",
      "The R2 is  0.4811707422669907\n",
      "The RMSE is  0.07056853108057042\n"
     ]
    }
   ],
   "source": [
    "X=feature_elimination(X,Y,20,ml_model,method='rfe')\n",
    "ml_model=build_cv_model(X,Y,False,target)\n",
    "run_model(X,Y,ml_model_prime,target)"
   ]
  },
  {
   "cell_type": "code",
   "execution_count": 33,
   "id": "435b79d2",
   "metadata": {},
   "outputs": [
    {
     "name": "stdout",
     "output_type": "stream",
     "text": [
      "    Feature     Score\n",
      "0       s_X  0.183994\n",
      "1   density  0.011547\n",
      "2  mean_A2B  0.119056\n",
      "3  mean_A2X  0.114251\n",
      "4  mean_X2X  0.243878\n",
      "5     E_coh  0.096120\n",
      "6        OF  0.022291\n",
      "7      B_EA  0.030939\n",
      "8      X_MV  0.149384\n",
      "9   B_Kappa  0.028540\n",
      "-----------------------------------------------------\n",
      "The shape of X is  (80, 10)\n",
      "-----------------------------------------------------\n",
      "The R2 for  10 , friedman_mse , 4 , 1 , 0.3  is  0.5376504063148901\n",
      "The RMSE for  10 , friedman_mse , 4 , 1 , 0.3  is  0.058833823017968606\n",
      "-----------------------------------------------------\n",
      "The R2 is  0.36087768023542766\n",
      "The RMSE is  0.07043214516675138\n"
     ]
    }
   ],
   "source": [
    "X=feature_elimination(X,Y,10,ml_model,method='rfe')\n",
    "ml_model=build_cv_model(X,Y,False,target)\n",
    "run_model(X,Y,ml_model_prime,target)"
   ]
  }
 ],
 "metadata": {
  "kernelspec": {
   "display_name": "Python 3 (ipykernel)",
   "language": "python",
   "name": "python3"
  },
  "language_info": {
   "codemirror_mode": {
    "name": "ipython",
    "version": 3
   },
   "file_extension": ".py",
   "mimetype": "text/x-python",
   "name": "python",
   "nbconvert_exporter": "python",
   "pygments_lexer": "ipython3",
   "version": "3.9.13"
  }
 },
 "nbformat": 4,
 "nbformat_minor": 5
}
