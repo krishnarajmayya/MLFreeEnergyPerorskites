{
 "cells": [
  {
   "cell_type": "markdown",
   "id": "a9cd6142",
   "metadata": {},
   "source": [
    "# Model selection"
   ]
  },
  {
   "cell_type": "code",
   "execution_count": 1,
   "id": "62d47901",
   "metadata": {},
   "outputs": [],
   "source": [
    "import pandas as pd"
   ]
  },
  {
   "cell_type": "code",
   "execution_count": 2,
   "id": "cf430274",
   "metadata": {},
   "outputs": [],
   "source": [
    "import matplotlib.pyplot as plt\n",
    "import numpy as np\n",
    "import itertools"
   ]
  },
  {
   "cell_type": "code",
   "execution_count": 3,
   "id": "eb0a1193",
   "metadata": {},
   "outputs": [],
   "source": [
    "from sklearn.metrics import mean_squared_error, r2_score\n",
    "from sklearn.gaussian_process import GaussianProcessRegressor\n",
    "from sklearn.gaussian_process.kernels import RBF\n",
    "from sklearn.preprocessing import StandardScaler, MinMaxScaler\n",
    "from sklearn.model_selection import train_test_split, cross_val_score, KFold\n",
    "from sklearn.linear_model import LinearRegression, Ridge, Lasso\n",
    "from sklearn.ensemble import RandomForestRegressor,GradientBoostingRegressor\n",
    "from sklearn.feature_selection import RFE, SelectKBest, f_regression"
   ]
  },
  {
   "cell_type": "code",
   "execution_count": 4,
   "id": "d9667f76",
   "metadata": {},
   "outputs": [],
   "source": [
    "import seaborn as sns"
   ]
  },
  {
   "cell_type": "markdown",
   "id": "05e51c93",
   "metadata": {},
   "source": [
    "Import data from csv files into a dataframe"
   ]
  },
  {
   "cell_type": "code",
   "execution_count": 5,
   "id": "787cce69",
   "metadata": {},
   "outputs": [
    {
     "name": "stdout",
     "output_type": "stream",
     "text": [
      "['Name' 'Coef_a' 'Coef_b' 'Coef_c' 'Coef_d' 'A_site' 'B_site' 'X_site'\n",
      " 'Spacegroup' 'Ehull' 'BulkModulus' 'Energy' 'ZPE' 's_A' 's_B' 's_X'\n",
      " 'density' 'mean_A2B' 'mean_A2X' 'mean_B2X' 'mean_X2X' 'std_A2B' 'std_A2X'\n",
      " 'std_B2X' 'std_X2X' 'E_coh' 'TF' 'OF' 'A_Z' 'B_Z' 'X_Z' 'A_M' 'B_M' 'X_M'\n",
      " 'A_G' 'B_G' 'X_G' 'A_IEI' 'B_IEI' 'X_IEI' 'A_IEII' 'B_IEII' 'X_IEII'\n",
      " 'A_EA' 'B_EA' 'X_EA' 'A_ChiP' 'B_ChiP' 'X_ChiP' 'A_ChiA' 'X_ChiA'\n",
      " 'A_Rvdw' 'B_Rvdw' 'X_Rvdw' 'A_Rc' 'B_Rc' 'X_Rc' 'A_Ra' 'B_Ra' 'X_Ra'\n",
      " 'A_MP' 'B_MP' 'X_MP' 'A_BP' 'B_BP' 'X_BP' 'A_Rho' 'B_Rho' 'A_MV' 'B_MV'\n",
      " 'X_MV' 'A_Hf' 'B_Hf' 'X_Hf' 'A_Hv' 'B_Hv' 'X_Hv' 'A_Kappa' 'B_Kappa'\n",
      " 'X_Kappa' 'A_CvM' 'B_CvM' 'X_CvM' 'A_B' 'B_B' 'X_B' 'A_MendeleevNo'\n",
      " 'B_MendeleevNo' 'X_MendeleevNo']\n"
     ]
    }
   ],
   "source": [
    "data = pd.read_csv('Combined_all_3rd_fit.csv', encoding='cp1252')\n",
    "print(data.columns.values)"
   ]
  },
  {
   "cell_type": "markdown",
   "id": "193419bd",
   "metadata": {},
   "source": [
    "Drop the unnecessary columns and fill the empty cells with zero"
   ]
  },
  {
   "cell_type": "code",
   "execution_count": 6,
   "id": "30a36ba9",
   "metadata": {},
   "outputs": [
    {
     "name": "stdout",
     "output_type": "stream",
     "text": [
      "(80, 77)\n"
     ]
    }
   ],
   "source": [
    "data.drop(['Name', 'A_site', 'B_site', 'X_site', 'Spacegroup','BulkModulus',\n",
    "           'Ehull','Energy','ZPE','Coef_b', 'Coef_a', 'Coef_d'], axis=1, inplace = True)\n",
    "data.fillna(0, inplace= True)\n",
    "d=data.copy()\n",
    "columns = list(d.columns.values)\n",
    "print(d.shape)"
   ]
  },
  {
   "cell_type": "markdown",
   "id": "4bb0c2a1",
   "metadata": {},
   "source": [
    "Set the target variable to machine learn"
   ]
  },
  {
   "cell_type": "code",
   "execution_count": 7,
   "id": "b2817160",
   "metadata": {},
   "outputs": [],
   "source": [
    "target = 'Coef_c'"
   ]
  },
  {
   "cell_type": "markdown",
   "id": "0f98f85e",
   "metadata": {},
   "source": [
    "Define various methods to be used for buildig and validating the models"
   ]
  },
  {
   "cell_type": "code",
   "execution_count": 8,
   "id": "5fa4081a",
   "metadata": {},
   "outputs": [],
   "source": [
    "\"\"\"\n",
    "    Functions to perform scaling\n",
    "    \n",
    "    \"\"\"\n",
    "def standard_scaling(target):\n",
    "    data_std=d.copy()\n",
    "    data_std[columns]= StandardScaler().fit_transform(d[columns])\n",
    "    Y = data_std[target] \n",
    "    X = data_std.drop([target], axis=1)\n",
    "    return X,Y\n",
    "\n",
    "def minmax_scaling(target):\n",
    "    data_mm=d.copy()\n",
    "    data_mm[columns]= MinMaxScaler().fit_transform(d[columns])\n",
    "    Y = data_mm[target] \n",
    "    X = data_mm.drop([target], axis=1)\n",
    "    return X,Y"
   ]
  },
  {
   "cell_type": "code",
   "execution_count": 9,
   "id": "08eda787",
   "metadata": {},
   "outputs": [],
   "source": [
    "\"\"\"\n",
    "    Function to build machine learning models by hyper parameter tuning. It also plots scatter plot\n",
    "    \n",
    "    \"\"\"\n",
    "def build_cv_model(X,Y,b_drop=False,target='Coef_d'):\n",
    "    if b_drop :\n",
    "        correlated_features = [\"A_Rc\",\"A_Ra\",\"A_M\",\"A_MP\",\"A_MV\",\"A_MendeleevNo\",\"A_Hf\",\"A_Hv\",\"B_Rc\",\n",
    "                       \"B_Rvdw\",\"B_M\",\"B_BP\",\"B_MendeleevNo\",\"B_Hv\",\"X_Rc\",\"X_Rvdw\",\"X_M\",\"X_BP\",\"X_MP\",\n",
    "                       \"X_MendeleevNo\",\"X_Hf\",\"X_Hv\",\"X_G\",\"X_B\",\"X_CvM\",\"X_ChiP\"]\n",
    "        X.drop(labels=correlated_features, axis=1, inplace=True)\n",
    "        \n",
    "    print(\"The shape of X is \",X.shape)\n",
    "    \n",
    "    ml_model, cv_results = train_model(X,Y,hyperparams=hyperparams, cv=True, return_cv=True)\n",
    "    \n",
    "    return ml_model"
   ]
  },
  {
   "cell_type": "code",
   "execution_count": 10,
   "id": "835ed0e7",
   "metadata": {},
   "outputs": [],
   "source": [
    "def run_model(X,Y,model,target='Coef_d'):\n",
    "    rmse,r2 = run_cv(model, X, Y, n_cv = 5)\n",
    "    print(\"-----------------------------------------------------\")\n",
    "    print(\"The R2 is \",r2)\n",
    "    print(\"The RMSE is \",rmse)"
   ]
  },
  {
   "cell_type": "code",
   "execution_count": 11,
   "id": "8be0db69",
   "metadata": {},
   "outputs": [],
   "source": [
    "\"\"\"\n",
    "    Function to perform feature elimination using select K best of RFE method. It also prints the \n",
    "    feature scores obtained as:\n",
    "    SelectKBest: The scores obtained from the selector\n",
    "    RFE: The feature importance obtained from the RFR model \n",
    "    \n",
    "    \"\"\"\n",
    "def feature_elimination(X,Y,n,estimator,method='skb'):\n",
    "    if method=='skb':\n",
    "        bestfeatures = SelectKBest(score_func=f_regression, k=10)\n",
    "        fit = bestfeatures.fit(X,Y)\n",
    "        dfscores = pd.DataFrame(fit.scores_)\n",
    "        dfcolumns = pd.DataFrame(X.columns)\n",
    "        #concat two dataframes for better visualization \n",
    "        featureScores = pd.concat([dfcolumns,dfscores],axis=1)\n",
    "        featureScores.columns = ['Feature','Score']  #naming the dataframe columns\n",
    "        X=X[featureScores.nlargest(n,'Score')['Feature'].values]\n",
    "    elif method=='rfe':\n",
    "        selector = RFE(estimator, n_features_to_select=n, step=1)\n",
    "        selector = selector.fit(X, Y)\n",
    "        dfscores = pd.DataFrame(selector.ranking_)\n",
    "        dfcolumns = pd.DataFrame(selector.feature_names_in_)\n",
    "        #concat two dataframes for better visualization \n",
    "        featureSelection = pd.concat([dfcolumns,dfscores],axis=1)\n",
    "        featureSelection.columns = ['Feature','Score']  #naming the dataframe columns\n",
    "        X=X[featureSelection.nsmallest(n,'Score')['Feature'].values]\n",
    "        estimator.fit(X,Y)\n",
    "        importance = pd.DataFrame(estimator.feature_importances_)\n",
    "        featureNames = pd.DataFrame(X.columns.values)\n",
    "        featureScores = pd.concat([featureNames,importance],axis=1)\n",
    "        featureScores.columns = ['Feature','Score']  #naming the dataframe columns\n",
    "        \n",
    "    print(featureScores)\n",
    "    print(\"-----------------------------------------------------\")\n",
    "    return X"
   ]
  },
  {
   "cell_type": "code",
   "execution_count": 12,
   "id": "80a52bcd",
   "metadata": {},
   "outputs": [],
   "source": [
    "def train_model(X, y, hyperparams = None, cv = False, return_cv = False):\n",
    "    \"\"\"\n",
    "    Function to train the ML model on the given data X (features) and y (target property). \n",
    "    If hyperparams argument is passed, all possible combinations of alpha and kernel values\n",
    "    will be tried to find combination with minimum CV error. The final  model is trained\n",
    "    using the fixed kernel and alpha params as determined using CV.\n",
    "    \n",
    "    \"\"\"\n",
    "    \n",
    "    if cv:\n",
    "        cv_results = {'alpha':[],'cv_rmse':[],'cv_r2':[]}\n",
    "        for a in hyperparams['alpha']:\n",
    "\n",
    "            lasso = Lasso(alpha=a)\n",
    "\n",
    "            cv_error, cv_r2 = run_cv(lasso, X, y, n_cv = 5)\n",
    "            cv_results['cv_rmse'].append(cv_error)\n",
    "            cv_results['cv_r2'].append(cv_r2)\n",
    "            cv_results['alpha'].append(a)\n",
    "\n",
    "        cv_results = pd.DataFrame(cv_results)\n",
    "        cv_results = cv_results.sort_values('cv_rmse')\n",
    "        a_opt = cv_results.iloc[0]['alpha']\n",
    "        \n",
    "    else:\n",
    "        a_opt = hyperparams['alpha'][0]\n",
    "\n",
    "    lasso = Lasso(alpha=a_opt)\n",
    "    model = lasso.fit(X,y)\n",
    "    print(\"-----------------------------------------------------\")\n",
    "    print(\"The R2 for \",a_opt,\" is \",cv_results.iloc[0]['cv_r2'])\n",
    "    print(\"The RMSE for \",a_opt,\" is \",cv_results.iloc[0]['cv_rmse'])\n",
    "    return [model, cv_results] if return_cv else model\n",
    "\n",
    "\n",
    "def run_cv(ml_model, X, y, n_cv = 5):\n",
    "    \"\"\"\n",
    "    Function to run Cross-validation\n",
    "    \"\"\"\n",
    "    kf = KFold(n_splits=n_cv,shuffle=True,random_state=50)\n",
    "    y_val = []\n",
    "    y_pred = []\n",
    "\n",
    "    for idx, (train, val) in enumerate(kf.split(X)):\n",
    "        \n",
    "        X_cv_train = X.values[train]\n",
    "        X_cv_val = X.values[val]\n",
    "\n",
    "        y_cv_train = y.values[train]\n",
    "        y_cv_val = y.values[val]    \n",
    "\n",
    "        # Model fit and prediction\n",
    "        model = ml_model.fit(X_cv_train, y_cv_train)\n",
    "        y_pred_val = model.predict(X_cv_val)\n",
    "        \n",
    "        y_val.append(y_cv_val)\n",
    "        y_pred.append(y_pred_val)\n",
    "\n",
    "    # Computing errors\n",
    "    rmse = np.sqrt(mean_squared_error(y_val, y_pred))\n",
    "    r2 = r2_score(y_val, y_pred)\n",
    "    \n",
    "    return rmse, r2"
   ]
  },
  {
   "cell_type": "markdown",
   "id": "5e43d433",
   "metadata": {},
   "source": [
    "Define the hyperparameters to be tuned for the given algorithm"
   ]
  },
  {
   "cell_type": "code",
   "execution_count": 13,
   "id": "bffb2010",
   "metadata": {},
   "outputs": [],
   "source": [
    "hyperparams={'alpha': [0.0001,0.0005,0.001,0.005,0.01,0.02,0.05,0.1,1,2,4,8]}"
   ]
  },
  {
   "cell_type": "markdown",
   "id": "50ef316a",
   "metadata": {},
   "source": [
    "## Without scaling"
   ]
  },
  {
   "cell_type": "code",
   "execution_count": 14,
   "id": "68802fe0",
   "metadata": {},
   "outputs": [],
   "source": [
    "data_std=d.copy()\n",
    "Y = data_std[target] \n",
    "X = data_std.drop([target], axis=1)"
   ]
  },
  {
   "cell_type": "code",
   "execution_count": 15,
   "id": "090acf26",
   "metadata": {},
   "outputs": [
    {
     "name": "stdout",
     "output_type": "stream",
     "text": [
      "The shape of X is  (80, 76)\n",
      "-----------------------------------------------------\n",
      "The R2 for  0.0001  is  0.24379997503697431\n",
      "The RMSE for  0.0001  is  0.011425317392015228\n"
     ]
    },
    {
     "name": "stderr",
     "output_type": "stream",
     "text": [
      "/Users/krishnarajmayya/opt/anaconda3/lib/python3.9/site-packages/sklearn/linear_model/_coordinate_descent.py:647: ConvergenceWarning: Objective did not converge. You might want to increase the number of iterations, check the scale of the features or consider increasing regularisation. Duality gap: 5.578e-04, tolerance: 9.546e-06\n",
      "  model = cd_fast.enet_coordinate_descent(\n",
      "/Users/krishnarajmayya/opt/anaconda3/lib/python3.9/site-packages/sklearn/linear_model/_coordinate_descent.py:647: ConvergenceWarning: Objective did not converge. You might want to increase the number of iterations, check the scale of the features or consider increasing regularisation. Duality gap: 5.094e-04, tolerance: 8.811e-06\n",
      "  model = cd_fast.enet_coordinate_descent(\n",
      "/Users/krishnarajmayya/opt/anaconda3/lib/python3.9/site-packages/sklearn/linear_model/_coordinate_descent.py:647: ConvergenceWarning: Objective did not converge. You might want to increase the number of iterations, check the scale of the features or consider increasing regularisation. Duality gap: 4.358e-04, tolerance: 9.551e-06\n",
      "  model = cd_fast.enet_coordinate_descent(\n",
      "/Users/krishnarajmayya/opt/anaconda3/lib/python3.9/site-packages/sklearn/linear_model/_coordinate_descent.py:647: ConvergenceWarning: Objective did not converge. You might want to increase the number of iterations, check the scale of the features or consider increasing regularisation. Duality gap: 4.475e-04, tolerance: 8.307e-06\n",
      "  model = cd_fast.enet_coordinate_descent(\n",
      "/Users/krishnarajmayya/opt/anaconda3/lib/python3.9/site-packages/sklearn/linear_model/_coordinate_descent.py:647: ConvergenceWarning: Objective did not converge. You might want to increase the number of iterations, check the scale of the features or consider increasing regularisation. Duality gap: 3.574e-04, tolerance: 8.941e-06\n",
      "  model = cd_fast.enet_coordinate_descent(\n",
      "/Users/krishnarajmayya/opt/anaconda3/lib/python3.9/site-packages/sklearn/linear_model/_coordinate_descent.py:647: ConvergenceWarning: Objective did not converge. You might want to increase the number of iterations, check the scale of the features or consider increasing regularisation. Duality gap: 9.436e-04, tolerance: 9.546e-06\n",
      "  model = cd_fast.enet_coordinate_descent(\n",
      "/Users/krishnarajmayya/opt/anaconda3/lib/python3.9/site-packages/sklearn/linear_model/_coordinate_descent.py:647: ConvergenceWarning: Objective did not converge. You might want to increase the number of iterations, check the scale of the features or consider increasing regularisation. Duality gap: 7.414e-04, tolerance: 8.811e-06\n",
      "  model = cd_fast.enet_coordinate_descent(\n",
      "/Users/krishnarajmayya/opt/anaconda3/lib/python3.9/site-packages/sklearn/linear_model/_coordinate_descent.py:647: ConvergenceWarning: Objective did not converge. You might want to increase the number of iterations, check the scale of the features or consider increasing regularisation. Duality gap: 6.224e-04, tolerance: 9.551e-06\n",
      "  model = cd_fast.enet_coordinate_descent(\n",
      "/Users/krishnarajmayya/opt/anaconda3/lib/python3.9/site-packages/sklearn/linear_model/_coordinate_descent.py:647: ConvergenceWarning: Objective did not converge. You might want to increase the number of iterations, check the scale of the features or consider increasing regularisation. Duality gap: 8.005e-04, tolerance: 8.307e-06\n",
      "  model = cd_fast.enet_coordinate_descent(\n",
      "/Users/krishnarajmayya/opt/anaconda3/lib/python3.9/site-packages/sklearn/linear_model/_coordinate_descent.py:647: ConvergenceWarning: Objective did not converge. You might want to increase the number of iterations, check the scale of the features or consider increasing regularisation. Duality gap: 6.389e-04, tolerance: 8.941e-06\n",
      "  model = cd_fast.enet_coordinate_descent(\n",
      "/Users/krishnarajmayya/opt/anaconda3/lib/python3.9/site-packages/sklearn/linear_model/_coordinate_descent.py:647: ConvergenceWarning: Objective did not converge. You might want to increase the number of iterations, check the scale of the features or consider increasing regularisation. Duality gap: 9.757e-04, tolerance: 9.546e-06\n",
      "  model = cd_fast.enet_coordinate_descent(\n",
      "/Users/krishnarajmayya/opt/anaconda3/lib/python3.9/site-packages/sklearn/linear_model/_coordinate_descent.py:647: ConvergenceWarning: Objective did not converge. You might want to increase the number of iterations, check the scale of the features or consider increasing regularisation. Duality gap: 9.067e-04, tolerance: 8.811e-06\n",
      "  model = cd_fast.enet_coordinate_descent(\n",
      "/Users/krishnarajmayya/opt/anaconda3/lib/python3.9/site-packages/sklearn/linear_model/_coordinate_descent.py:647: ConvergenceWarning: Objective did not converge. You might want to increase the number of iterations, check the scale of the features or consider increasing regularisation. Duality gap: 7.035e-04, tolerance: 9.551e-06\n",
      "  model = cd_fast.enet_coordinate_descent(\n",
      "/Users/krishnarajmayya/opt/anaconda3/lib/python3.9/site-packages/sklearn/linear_model/_coordinate_descent.py:647: ConvergenceWarning: Objective did not converge. You might want to increase the number of iterations, check the scale of the features or consider increasing regularisation. Duality gap: 1.146e-03, tolerance: 8.307e-06\n",
      "  model = cd_fast.enet_coordinate_descent(\n",
      "/Users/krishnarajmayya/opt/anaconda3/lib/python3.9/site-packages/sklearn/linear_model/_coordinate_descent.py:647: ConvergenceWarning: Objective did not converge. You might want to increase the number of iterations, check the scale of the features or consider increasing regularisation. Duality gap: 7.160e-04, tolerance: 8.941e-06\n",
      "  model = cd_fast.enet_coordinate_descent(\n",
      "/Users/krishnarajmayya/opt/anaconda3/lib/python3.9/site-packages/sklearn/linear_model/_coordinate_descent.py:647: ConvergenceWarning: Objective did not converge. You might want to increase the number of iterations, check the scale of the features or consider increasing regularisation. Duality gap: 1.426e-04, tolerance: 9.546e-06\n",
      "  model = cd_fast.enet_coordinate_descent(\n",
      "/Users/krishnarajmayya/opt/anaconda3/lib/python3.9/site-packages/sklearn/linear_model/_coordinate_descent.py:647: ConvergenceWarning: Objective did not converge. You might want to increase the number of iterations, check the scale of the features or consider increasing regularisation. Duality gap: 9.970e-04, tolerance: 8.811e-06\n",
      "  model = cd_fast.enet_coordinate_descent(\n",
      "/Users/krishnarajmayya/opt/anaconda3/lib/python3.9/site-packages/sklearn/linear_model/_coordinate_descent.py:647: ConvergenceWarning: Objective did not converge. You might want to increase the number of iterations, check the scale of the features or consider increasing regularisation. Duality gap: 4.514e-05, tolerance: 9.551e-06\n",
      "  model = cd_fast.enet_coordinate_descent(\n",
      "/Users/krishnarajmayya/opt/anaconda3/lib/python3.9/site-packages/sklearn/linear_model/_coordinate_descent.py:647: ConvergenceWarning: Objective did not converge. You might want to increase the number of iterations, check the scale of the features or consider increasing regularisation. Duality gap: 2.018e-04, tolerance: 8.307e-06\n",
      "  model = cd_fast.enet_coordinate_descent(\n",
      "/Users/krishnarajmayya/opt/anaconda3/lib/python3.9/site-packages/sklearn/linear_model/_coordinate_descent.py:647: ConvergenceWarning: Objective did not converge. You might want to increase the number of iterations, check the scale of the features or consider increasing regularisation. Duality gap: 4.762e-04, tolerance: 8.941e-06\n",
      "  model = cd_fast.enet_coordinate_descent(\n",
      "/Users/krishnarajmayya/opt/anaconda3/lib/python3.9/site-packages/sklearn/linear_model/_coordinate_descent.py:647: ConvergenceWarning: Objective did not converge. You might want to increase the number of iterations, check the scale of the features or consider increasing regularisation. Duality gap: 8.767e-05, tolerance: 8.811e-06\n",
      "  model = cd_fast.enet_coordinate_descent(\n",
      "/Users/krishnarajmayya/opt/anaconda3/lib/python3.9/site-packages/sklearn/linear_model/_coordinate_descent.py:647: ConvergenceWarning: Objective did not converge. You might want to increase the number of iterations, check the scale of the features or consider increasing regularisation. Duality gap: 4.832e-05, tolerance: 8.307e-06\n",
      "  model = cd_fast.enet_coordinate_descent(\n",
      "/Users/krishnarajmayya/opt/anaconda3/lib/python3.9/site-packages/sklearn/linear_model/_coordinate_descent.py:647: ConvergenceWarning: Objective did not converge. You might want to increase the number of iterations, check the scale of the features or consider increasing regularisation. Duality gap: 2.290e-04, tolerance: 8.941e-06\n",
      "  model = cd_fast.enet_coordinate_descent(\n",
      "/Users/krishnarajmayya/opt/anaconda3/lib/python3.9/site-packages/sklearn/linear_model/_coordinate_descent.py:647: ConvergenceWarning: Objective did not converge. You might want to increase the number of iterations, check the scale of the features or consider increasing regularisation. Duality gap: 7.097e-04, tolerance: 1.130e-05\n",
      "  model = cd_fast.enet_coordinate_descent(\n"
     ]
    }
   ],
   "source": [
    "ml_model=build_cv_model(X,Y,False,target)"
   ]
  },
  {
   "cell_type": "markdown",
   "id": "62ea41f3",
   "metadata": {},
   "source": [
    "### Drop correlated features"
   ]
  },
  {
   "cell_type": "code",
   "execution_count": 16,
   "id": "26950d24",
   "metadata": {},
   "outputs": [
    {
     "name": "stdout",
     "output_type": "stream",
     "text": [
      "The shape of X is  (80, 50)\n",
      "-----------------------------------------------------\n",
      "The R2 for  0.0001  is  -0.07228355496194672\n",
      "The RMSE for  0.0001  is  0.010921035083269274\n"
     ]
    },
    {
     "name": "stderr",
     "output_type": "stream",
     "text": [
      "/Users/krishnarajmayya/opt/anaconda3/lib/python3.9/site-packages/sklearn/linear_model/_coordinate_descent.py:647: ConvergenceWarning: Objective did not converge. You might want to increase the number of iterations, check the scale of the features or consider increasing regularisation. Duality gap: 1.920e-05, tolerance: 9.551e-06\n",
      "  model = cd_fast.enet_coordinate_descent(\n",
      "/Users/krishnarajmayya/opt/anaconda3/lib/python3.9/site-packages/sklearn/linear_model/_coordinate_descent.py:647: ConvergenceWarning: Objective did not converge. You might want to increase the number of iterations, check the scale of the features or consider increasing regularisation. Duality gap: 7.434e-05, tolerance: 8.307e-06\n",
      "  model = cd_fast.enet_coordinate_descent(\n",
      "/Users/krishnarajmayya/opt/anaconda3/lib/python3.9/site-packages/sklearn/linear_model/_coordinate_descent.py:647: ConvergenceWarning: Objective did not converge. You might want to increase the number of iterations, check the scale of the features or consider increasing regularisation. Duality gap: 3.778e-05, tolerance: 8.307e-06\n",
      "  model = cd_fast.enet_coordinate_descent(\n"
     ]
    }
   ],
   "source": [
    "ml_model_prime=build_cv_model(X,Y,True,target)"
   ]
  },
  {
   "cell_type": "markdown",
   "id": "f0b36718",
   "metadata": {},
   "source": [
    "### Feature elimination"
   ]
  },
  {
   "cell_type": "code",
   "execution_count": 17,
   "id": "a6b5dd6b",
   "metadata": {},
   "outputs": [
    {
     "name": "stdout",
     "output_type": "stream",
     "text": [
      "     Feature       Score\n",
      "0        s_A   35.416986\n",
      "1        s_B   50.869033\n",
      "2        s_X  224.085608\n",
      "3    density    3.438603\n",
      "4   mean_A2B  342.561672\n",
      "5   mean_A2X   96.188443\n",
      "6   mean_B2X    0.414239\n",
      "7   mean_X2X  144.584059\n",
      "8    std_A2B    2.548061\n",
      "9    std_A2X   16.241729\n",
      "10   std_B2X   10.809447\n",
      "11   std_X2X    1.814497\n",
      "12     E_coh   42.583723\n",
      "13        TF    3.212161\n",
      "14        OF    5.799041\n",
      "15       A_Z   12.628214\n",
      "16       B_Z    9.440231\n",
      "17       X_Z  200.923811\n",
      "18       A_G    3.038836\n",
      "19       B_G    1.727768\n",
      "20     A_IEI   27.313322\n",
      "21     B_IEI    4.995951\n",
      "22     X_IEI   20.065186\n",
      "23    A_IEII    0.476045\n",
      "24    B_IEII    0.037003\n",
      "25    X_IEII    9.352237\n",
      "26      A_EA    5.343736\n",
      "27      B_EA   14.477919\n",
      "28      X_EA   43.047947\n",
      "29    A_ChiP   11.969555\n",
      "30    B_ChiP    7.492487\n",
      "31    A_ChiA   14.678545\n",
      "32    X_ChiA   30.952649\n",
      "33    A_Rvdw   44.335733\n",
      "34      B_Ra    3.679989\n",
      "35      X_Ra  143.785064\n",
      "36      B_MP    9.089462\n",
      "37      A_BP   11.579900\n",
      "38     A_Rho    1.106778\n",
      "39     B_Rho    5.310746\n",
      "40      B_MV    4.896555\n",
      "41      X_MV   19.114335\n",
      "42      B_Hf    8.046263\n",
      "43   A_Kappa    8.458841\n",
      "44   B_Kappa   19.043771\n",
      "45   X_Kappa   32.559689\n",
      "46     A_CvM    8.388239\n",
      "47     B_CvM    2.178625\n",
      "48       A_B    5.431259\n",
      "49       B_B    0.031888\n",
      "-----------------------------------------------------\n",
      "The shape of X is  (80, 40)\n",
      "-----------------------------------------------------\n",
      "The R2 for  0.0001  is  -1.5221258729830942\n",
      "The RMSE for  0.0001  is  0.013701091394812043\n",
      "-----------------------------------------------------\n",
      "The R2 is  -1.5221258729830942\n",
      "The RMSE is  0.013701091394812043\n"
     ]
    },
    {
     "name": "stderr",
     "output_type": "stream",
     "text": [
      "/Users/krishnarajmayya/opt/anaconda3/lib/python3.9/site-packages/sklearn/linear_model/_coordinate_descent.py:647: ConvergenceWarning: Objective did not converge. You might want to increase the number of iterations, check the scale of the features or consider increasing regularisation. Duality gap: 7.404e-05, tolerance: 8.307e-06\n",
      "  model = cd_fast.enet_coordinate_descent(\n",
      "/Users/krishnarajmayya/opt/anaconda3/lib/python3.9/site-packages/sklearn/linear_model/_coordinate_descent.py:647: ConvergenceWarning: Objective did not converge. You might want to increase the number of iterations, check the scale of the features or consider increasing regularisation. Duality gap: 7.404e-05, tolerance: 8.307e-06\n",
      "  model = cd_fast.enet_coordinate_descent(\n"
     ]
    }
   ],
   "source": [
    "X=feature_elimination(X,Y,40,ml_model_prime,method='skb')\n",
    "ml_model=build_cv_model(X,Y,False,target)\n",
    "run_model(X,Y,ml_model_prime,target)"
   ]
  },
  {
   "cell_type": "code",
   "execution_count": 18,
   "id": "f4c14a2c",
   "metadata": {},
   "outputs": [
    {
     "name": "stdout",
     "output_type": "stream",
     "text": [
      "     Feature       Score\n",
      "0   mean_A2B  342.561672\n",
      "1        s_X  224.085608\n",
      "2        X_Z  200.923811\n",
      "3   mean_X2X  144.584059\n",
      "4       X_Ra  143.785064\n",
      "5   mean_A2X   96.188443\n",
      "6        s_B   50.869033\n",
      "7     A_Rvdw   44.335733\n",
      "8       X_EA   43.047947\n",
      "9      E_coh   42.583723\n",
      "10       s_A   35.416986\n",
      "11   X_Kappa   32.559689\n",
      "12    X_ChiA   30.952649\n",
      "13     A_IEI   27.313322\n",
      "14     X_IEI   20.065186\n",
      "15      X_MV   19.114335\n",
      "16   B_Kappa   19.043771\n",
      "17   std_A2X   16.241729\n",
      "18    A_ChiA   14.678545\n",
      "19      B_EA   14.477919\n",
      "20       A_Z   12.628214\n",
      "21    A_ChiP   11.969555\n",
      "22      A_BP   11.579900\n",
      "23   std_B2X   10.809447\n",
      "24       B_Z    9.440231\n",
      "25    X_IEII    9.352237\n",
      "26      B_MP    9.089462\n",
      "27   A_Kappa    8.458841\n",
      "28     A_CvM    8.388239\n",
      "29      B_Hf    8.046263\n",
      "30    B_ChiP    7.492487\n",
      "31        OF    5.799041\n",
      "32       A_B    5.431259\n",
      "33      A_EA    5.343736\n",
      "34     B_Rho    5.310746\n",
      "35     B_IEI    4.995951\n",
      "36      B_MV    4.896555\n",
      "37      B_Ra    3.679989\n",
      "38   density    3.438603\n",
      "39        TF    3.212161\n",
      "-----------------------------------------------------\n",
      "The shape of X is  (80, 30)\n",
      "-----------------------------------------------------\n",
      "The R2 for  0.0001  is  0.20583819862891062\n",
      "The RMSE for  0.0001  is  0.009888145886010476\n",
      "-----------------------------------------------------\n",
      "The R2 is  0.20583819862891062\n",
      "The RMSE is  0.009888145886010476\n"
     ]
    }
   ],
   "source": [
    "X=feature_elimination(X,Y,30,ml_model,method='skb')\n",
    "ml_model=build_cv_model(X,Y,False,target)\n",
    "run_model(X,Y,ml_model_prime,target)"
   ]
  },
  {
   "cell_type": "code",
   "execution_count": 19,
   "id": "43be0df3",
   "metadata": {},
   "outputs": [
    {
     "name": "stdout",
     "output_type": "stream",
     "text": [
      "     Feature       Score\n",
      "0   mean_A2B  342.561672\n",
      "1        s_X  224.085608\n",
      "2        X_Z  200.923811\n",
      "3   mean_X2X  144.584059\n",
      "4       X_Ra  143.785064\n",
      "5   mean_A2X   96.188443\n",
      "6        s_B   50.869033\n",
      "7     A_Rvdw   44.335733\n",
      "8       X_EA   43.047947\n",
      "9      E_coh   42.583723\n",
      "10       s_A   35.416986\n",
      "11   X_Kappa   32.559689\n",
      "12    X_ChiA   30.952649\n",
      "13     A_IEI   27.313322\n",
      "14     X_IEI   20.065186\n",
      "15      X_MV   19.114335\n",
      "16   B_Kappa   19.043771\n",
      "17   std_A2X   16.241729\n",
      "18    A_ChiA   14.678545\n",
      "19      B_EA   14.477919\n",
      "20       A_Z   12.628214\n",
      "21    A_ChiP   11.969555\n",
      "22      A_BP   11.579900\n",
      "23   std_B2X   10.809447\n",
      "24       B_Z    9.440231\n",
      "25    X_IEII    9.352237\n",
      "26      B_MP    9.089462\n",
      "27   A_Kappa    8.458841\n",
      "28     A_CvM    8.388239\n",
      "29      B_Hf    8.046263\n",
      "-----------------------------------------------------\n",
      "The shape of X is  (80, 20)\n",
      "-----------------------------------------------------\n",
      "The R2 for  0.0005  is  0.3145638817182349\n",
      "The RMSE for  0.0005  is  0.01090447264692752\n",
      "-----------------------------------------------------\n",
      "The R2 is  0.24708142715876485\n",
      "The RMSE is  0.011368098428098607\n"
     ]
    }
   ],
   "source": [
    "X=feature_elimination(X,Y,20,ml_model,method='skb')\n",
    "ml_model=build_cv_model(X,Y,False,target)\n",
    "run_model(X,Y,ml_model_prime,target)"
   ]
  },
  {
   "cell_type": "code",
   "execution_count": 20,
   "id": "ba87d76e",
   "metadata": {},
   "outputs": [
    {
     "name": "stdout",
     "output_type": "stream",
     "text": [
      "     Feature       Score\n",
      "0   mean_A2B  342.561672\n",
      "1        s_X  224.085608\n",
      "2        X_Z  200.923811\n",
      "3   mean_X2X  144.584059\n",
      "4       X_Ra  143.785064\n",
      "5   mean_A2X   96.188443\n",
      "6        s_B   50.869033\n",
      "7     A_Rvdw   44.335733\n",
      "8       X_EA   43.047947\n",
      "9      E_coh   42.583723\n",
      "10       s_A   35.416986\n",
      "11   X_Kappa   32.559689\n",
      "12    X_ChiA   30.952649\n",
      "13     A_IEI   27.313322\n",
      "14     X_IEI   20.065186\n",
      "15      X_MV   19.114335\n",
      "16   B_Kappa   19.043771\n",
      "17   std_A2X   16.241729\n",
      "18    A_ChiA   14.678545\n",
      "19      B_EA   14.477919\n",
      "-----------------------------------------------------\n",
      "The shape of X is  (80, 10)\n",
      "-----------------------------------------------------\n",
      "The R2 for  0.0001  is  -0.3626530838042661\n",
      "The RMSE for  0.0001  is  0.0145135464104277\n",
      "-----------------------------------------------------\n",
      "The R2 is  -0.3626530838042661\n",
      "The RMSE is  0.0145135464104277\n"
     ]
    }
   ],
   "source": [
    "X=feature_elimination(X,Y,10,ml_model,method='skb')\n",
    "ml_model=build_cv_model(X,Y,False,target)\n",
    "run_model(X,Y,ml_model_prime,target)"
   ]
  },
  {
   "cell_type": "markdown",
   "id": "d6598f01",
   "metadata": {},
   "source": [
    "## Standard scaling"
   ]
  },
  {
   "cell_type": "code",
   "execution_count": 21,
   "id": "418a5638",
   "metadata": {},
   "outputs": [
    {
     "name": "stdout",
     "output_type": "stream",
     "text": [
      "The shape of X is  (80, 76)\n",
      "-----------------------------------------------------\n",
      "The R2 for  0.005  is  0.5727372233594823\n",
      "The RMSE for  0.005  is  0.20573521928326802\n"
     ]
    },
    {
     "name": "stderr",
     "output_type": "stream",
     "text": [
      "/Users/krishnarajmayya/opt/anaconda3/lib/python3.9/site-packages/sklearn/linear_model/_coordinate_descent.py:647: ConvergenceWarning: Objective did not converge. You might want to increase the number of iterations, check the scale of the features or consider increasing regularisation. Duality gap: 7.947e-02, tolerance: 6.759e-03\n",
      "  model = cd_fast.enet_coordinate_descent(\n",
      "/Users/krishnarajmayya/opt/anaconda3/lib/python3.9/site-packages/sklearn/linear_model/_coordinate_descent.py:647: ConvergenceWarning: Objective did not converge. You might want to increase the number of iterations, check the scale of the features or consider increasing regularisation. Duality gap: 9.463e-02, tolerance: 6.239e-03\n",
      "  model = cd_fast.enet_coordinate_descent(\n",
      "/Users/krishnarajmayya/opt/anaconda3/lib/python3.9/site-packages/sklearn/linear_model/_coordinate_descent.py:647: ConvergenceWarning: Objective did not converge. You might want to increase the number of iterations, check the scale of the features or consider increasing regularisation. Duality gap: 6.170e-02, tolerance: 6.763e-03\n",
      "  model = cd_fast.enet_coordinate_descent(\n",
      "/Users/krishnarajmayya/opt/anaconda3/lib/python3.9/site-packages/sklearn/linear_model/_coordinate_descent.py:647: ConvergenceWarning: Objective did not converge. You might want to increase the number of iterations, check the scale of the features or consider increasing regularisation. Duality gap: 6.644e-02, tolerance: 5.882e-03\n",
      "  model = cd_fast.enet_coordinate_descent(\n",
      "/Users/krishnarajmayya/opt/anaconda3/lib/python3.9/site-packages/sklearn/linear_model/_coordinate_descent.py:647: ConvergenceWarning: Objective did not converge. You might want to increase the number of iterations, check the scale of the features or consider increasing regularisation. Duality gap: 6.287e-02, tolerance: 6.331e-03\n",
      "  model = cd_fast.enet_coordinate_descent(\n",
      "/Users/krishnarajmayya/opt/anaconda3/lib/python3.9/site-packages/sklearn/linear_model/_coordinate_descent.py:647: ConvergenceWarning: Objective did not converge. You might want to increase the number of iterations, check the scale of the features or consider increasing regularisation. Duality gap: 6.622e-02, tolerance: 6.759e-03\n",
      "  model = cd_fast.enet_coordinate_descent(\n",
      "/Users/krishnarajmayya/opt/anaconda3/lib/python3.9/site-packages/sklearn/linear_model/_coordinate_descent.py:647: ConvergenceWarning: Objective did not converge. You might want to increase the number of iterations, check the scale of the features or consider increasing regularisation. Duality gap: 1.175e-01, tolerance: 6.239e-03\n",
      "  model = cd_fast.enet_coordinate_descent(\n",
      "/Users/krishnarajmayya/opt/anaconda3/lib/python3.9/site-packages/sklearn/linear_model/_coordinate_descent.py:647: ConvergenceWarning: Objective did not converge. You might want to increase the number of iterations, check the scale of the features or consider increasing regularisation. Duality gap: 8.364e-02, tolerance: 6.763e-03\n",
      "  model = cd_fast.enet_coordinate_descent(\n",
      "/Users/krishnarajmayya/opt/anaconda3/lib/python3.9/site-packages/sklearn/linear_model/_coordinate_descent.py:647: ConvergenceWarning: Objective did not converge. You might want to increase the number of iterations, check the scale of the features or consider increasing regularisation. Duality gap: 4.904e-02, tolerance: 5.882e-03\n",
      "  model = cd_fast.enet_coordinate_descent(\n",
      "/Users/krishnarajmayya/opt/anaconda3/lib/python3.9/site-packages/sklearn/linear_model/_coordinate_descent.py:647: ConvergenceWarning: Objective did not converge. You might want to increase the number of iterations, check the scale of the features or consider increasing regularisation. Duality gap: 4.145e-02, tolerance: 6.331e-03\n",
      "  model = cd_fast.enet_coordinate_descent(\n",
      "/Users/krishnarajmayya/opt/anaconda3/lib/python3.9/site-packages/sklearn/linear_model/_coordinate_descent.py:647: ConvergenceWarning: Objective did not converge. You might want to increase the number of iterations, check the scale of the features or consider increasing regularisation. Duality gap: 6.634e-02, tolerance: 6.759e-03\n",
      "  model = cd_fast.enet_coordinate_descent(\n",
      "/Users/krishnarajmayya/opt/anaconda3/lib/python3.9/site-packages/sklearn/linear_model/_coordinate_descent.py:647: ConvergenceWarning: Objective did not converge. You might want to increase the number of iterations, check the scale of the features or consider increasing regularisation. Duality gap: 9.899e-02, tolerance: 6.239e-03\n",
      "  model = cd_fast.enet_coordinate_descent(\n",
      "/Users/krishnarajmayya/opt/anaconda3/lib/python3.9/site-packages/sklearn/linear_model/_coordinate_descent.py:647: ConvergenceWarning: Objective did not converge. You might want to increase the number of iterations, check the scale of the features or consider increasing regularisation. Duality gap: 1.882e-02, tolerance: 6.763e-03\n",
      "  model = cd_fast.enet_coordinate_descent(\n",
      "/Users/krishnarajmayya/opt/anaconda3/lib/python3.9/site-packages/sklearn/linear_model/_coordinate_descent.py:647: ConvergenceWarning: Objective did not converge. You might want to increase the number of iterations, check the scale of the features or consider increasing regularisation. Duality gap: 2.329e-02, tolerance: 5.882e-03\n",
      "  model = cd_fast.enet_coordinate_descent(\n",
      "/Users/krishnarajmayya/opt/anaconda3/lib/python3.9/site-packages/sklearn/linear_model/_coordinate_descent.py:647: ConvergenceWarning: Objective did not converge. You might want to increase the number of iterations, check the scale of the features or consider increasing regularisation. Duality gap: 3.105e-02, tolerance: 6.331e-03\n",
      "  model = cd_fast.enet_coordinate_descent(\n",
      "/Users/krishnarajmayya/opt/anaconda3/lib/python3.9/site-packages/sklearn/linear_model/_coordinate_descent.py:647: ConvergenceWarning: Objective did not converge. You might want to increase the number of iterations, check the scale of the features or consider increasing regularisation. Duality gap: 1.125e-02, tolerance: 6.763e-03\n",
      "  model = cd_fast.enet_coordinate_descent(\n"
     ]
    }
   ],
   "source": [
    "X,Y = standard_scaling(target)\n",
    "ml_model=build_cv_model(X,Y,False,target)"
   ]
  },
  {
   "cell_type": "markdown",
   "id": "2140e933",
   "metadata": {},
   "source": [
    "### Drop correlated features"
   ]
  },
  {
   "cell_type": "code",
   "execution_count": 22,
   "id": "e4732e80",
   "metadata": {},
   "outputs": [
    {
     "name": "stdout",
     "output_type": "stream",
     "text": [
      "The shape of X is  (80, 50)\n"
     ]
    },
    {
     "name": "stderr",
     "output_type": "stream",
     "text": [
      "/Users/krishnarajmayya/opt/anaconda3/lib/python3.9/site-packages/sklearn/linear_model/_coordinate_descent.py:647: ConvergenceWarning: Objective did not converge. You might want to increase the number of iterations, check the scale of the features or consider increasing regularisation. Duality gap: 2.603e-01, tolerance: 6.759e-03\n",
      "  model = cd_fast.enet_coordinate_descent(\n",
      "/Users/krishnarajmayya/opt/anaconda3/lib/python3.9/site-packages/sklearn/linear_model/_coordinate_descent.py:647: ConvergenceWarning: Objective did not converge. You might want to increase the number of iterations, check the scale of the features or consider increasing regularisation. Duality gap: 1.093e-01, tolerance: 6.239e-03\n",
      "  model = cd_fast.enet_coordinate_descent(\n",
      "/Users/krishnarajmayya/opt/anaconda3/lib/python3.9/site-packages/sklearn/linear_model/_coordinate_descent.py:647: ConvergenceWarning: Objective did not converge. You might want to increase the number of iterations, check the scale of the features or consider increasing regularisation. Duality gap: 9.462e-02, tolerance: 6.763e-03\n",
      "  model = cd_fast.enet_coordinate_descent(\n",
      "/Users/krishnarajmayya/opt/anaconda3/lib/python3.9/site-packages/sklearn/linear_model/_coordinate_descent.py:647: ConvergenceWarning: Objective did not converge. You might want to increase the number of iterations, check the scale of the features or consider increasing regularisation. Duality gap: 2.349e-01, tolerance: 5.882e-03\n",
      "  model = cd_fast.enet_coordinate_descent(\n",
      "/Users/krishnarajmayya/opt/anaconda3/lib/python3.9/site-packages/sklearn/linear_model/_coordinate_descent.py:647: ConvergenceWarning: Objective did not converge. You might want to increase the number of iterations, check the scale of the features or consider increasing regularisation. Duality gap: 1.757e-01, tolerance: 6.331e-03\n",
      "  model = cd_fast.enet_coordinate_descent(\n",
      "/Users/krishnarajmayya/opt/anaconda3/lib/python3.9/site-packages/sklearn/linear_model/_coordinate_descent.py:647: ConvergenceWarning: Objective did not converge. You might want to increase the number of iterations, check the scale of the features or consider increasing regularisation. Duality gap: 2.395e-01, tolerance: 6.759e-03\n",
      "  model = cd_fast.enet_coordinate_descent(\n"
     ]
    },
    {
     "name": "stdout",
     "output_type": "stream",
     "text": [
      "-----------------------------------------------------\n",
      "The R2 for  0.005  is  0.5174888503986625\n",
      "The RMSE for  0.005  is  0.23469266539185613\n"
     ]
    },
    {
     "name": "stderr",
     "output_type": "stream",
     "text": [
      "/Users/krishnarajmayya/opt/anaconda3/lib/python3.9/site-packages/sklearn/linear_model/_coordinate_descent.py:647: ConvergenceWarning: Objective did not converge. You might want to increase the number of iterations, check the scale of the features or consider increasing regularisation. Duality gap: 1.099e-01, tolerance: 6.239e-03\n",
      "  model = cd_fast.enet_coordinate_descent(\n",
      "/Users/krishnarajmayya/opt/anaconda3/lib/python3.9/site-packages/sklearn/linear_model/_coordinate_descent.py:647: ConvergenceWarning: Objective did not converge. You might want to increase the number of iterations, check the scale of the features or consider increasing regularisation. Duality gap: 9.095e-02, tolerance: 6.763e-03\n",
      "  model = cd_fast.enet_coordinate_descent(\n",
      "/Users/krishnarajmayya/opt/anaconda3/lib/python3.9/site-packages/sklearn/linear_model/_coordinate_descent.py:647: ConvergenceWarning: Objective did not converge. You might want to increase the number of iterations, check the scale of the features or consider increasing regularisation. Duality gap: 1.383e-01, tolerance: 5.882e-03\n",
      "  model = cd_fast.enet_coordinate_descent(\n",
      "/Users/krishnarajmayya/opt/anaconda3/lib/python3.9/site-packages/sklearn/linear_model/_coordinate_descent.py:647: ConvergenceWarning: Objective did not converge. You might want to increase the number of iterations, check the scale of the features or consider increasing regularisation. Duality gap: 1.578e-01, tolerance: 6.331e-03\n",
      "  model = cd_fast.enet_coordinate_descent(\n",
      "/Users/krishnarajmayya/opt/anaconda3/lib/python3.9/site-packages/sklearn/linear_model/_coordinate_descent.py:647: ConvergenceWarning: Objective did not converge. You might want to increase the number of iterations, check the scale of the features or consider increasing regularisation. Duality gap: 2.439e-02, tolerance: 6.759e-03\n",
      "  model = cd_fast.enet_coordinate_descent(\n",
      "/Users/krishnarajmayya/opt/anaconda3/lib/python3.9/site-packages/sklearn/linear_model/_coordinate_descent.py:647: ConvergenceWarning: Objective did not converge. You might want to increase the number of iterations, check the scale of the features or consider increasing regularisation. Duality gap: 4.278e-02, tolerance: 6.239e-03\n",
      "  model = cd_fast.enet_coordinate_descent(\n",
      "/Users/krishnarajmayya/opt/anaconda3/lib/python3.9/site-packages/sklearn/linear_model/_coordinate_descent.py:647: ConvergenceWarning: Objective did not converge. You might want to increase the number of iterations, check the scale of the features or consider increasing regularisation. Duality gap: 4.694e-02, tolerance: 6.763e-03\n",
      "  model = cd_fast.enet_coordinate_descent(\n"
     ]
    }
   ],
   "source": [
    "ml_model_prime=build_cv_model(X,Y,True,target)"
   ]
  },
  {
   "cell_type": "markdown",
   "id": "5da0961f",
   "metadata": {},
   "source": [
    "### Feature elimination"
   ]
  },
  {
   "cell_type": "code",
   "execution_count": 23,
   "id": "a53db140",
   "metadata": {},
   "outputs": [
    {
     "name": "stdout",
     "output_type": "stream",
     "text": [
      "     Feature       Score\n",
      "0        s_A   35.416986\n",
      "1        s_B   50.869033\n",
      "2        s_X  224.085608\n",
      "3    density    3.438603\n",
      "4   mean_A2B  342.561672\n",
      "5   mean_A2X   96.188443\n",
      "6   mean_B2X    0.414239\n",
      "7   mean_X2X  144.584059\n",
      "8    std_A2B    2.548061\n",
      "9    std_A2X   16.241729\n",
      "10   std_B2X   10.809447\n",
      "11   std_X2X    1.814497\n",
      "12     E_coh   42.583723\n",
      "13        TF    3.212161\n",
      "14        OF    5.799041\n",
      "15       A_Z   12.628214\n",
      "16       B_Z    9.440231\n",
      "17       X_Z  200.923811\n",
      "18       A_G    3.038836\n",
      "19       B_G    1.727768\n",
      "20     A_IEI   27.313322\n",
      "21     B_IEI    4.995951\n",
      "22     X_IEI   20.065186\n",
      "23    A_IEII    0.476045\n",
      "24    B_IEII    0.037003\n",
      "25    X_IEII    9.352237\n",
      "26      A_EA    5.343736\n",
      "27      B_EA   14.477919\n",
      "28      X_EA   43.047947\n",
      "29    A_ChiP   11.969555\n",
      "30    B_ChiP    7.492487\n",
      "31    A_ChiA   14.678545\n",
      "32    X_ChiA   30.952649\n",
      "33    A_Rvdw   44.335733\n",
      "34      B_Ra    3.679989\n",
      "35      X_Ra  143.785064\n",
      "36      B_MP    9.089462\n",
      "37      A_BP   11.579900\n",
      "38     A_Rho    1.106778\n",
      "39     B_Rho    5.310746\n",
      "40      B_MV    4.896555\n",
      "41      X_MV   19.114335\n",
      "42      B_Hf    8.046263\n",
      "43   A_Kappa    8.458841\n",
      "44   B_Kappa   19.043771\n",
      "45   X_Kappa   32.559689\n",
      "46     A_CvM    8.388239\n",
      "47     B_CvM    2.178625\n",
      "48       A_B    5.431259\n",
      "49       B_B    0.031888\n",
      "-----------------------------------------------------\n",
      "The shape of X is  (80, 40)\n"
     ]
    },
    {
     "name": "stderr",
     "output_type": "stream",
     "text": [
      "/Users/krishnarajmayya/opt/anaconda3/lib/python3.9/site-packages/sklearn/linear_model/_coordinate_descent.py:647: ConvergenceWarning: Objective did not converge. You might want to increase the number of iterations, check the scale of the features or consider increasing regularisation. Duality gap: 3.068e-01, tolerance: 6.759e-03\n",
      "  model = cd_fast.enet_coordinate_descent(\n",
      "/Users/krishnarajmayya/opt/anaconda3/lib/python3.9/site-packages/sklearn/linear_model/_coordinate_descent.py:647: ConvergenceWarning: Objective did not converge. You might want to increase the number of iterations, check the scale of the features or consider increasing regularisation. Duality gap: 6.095e-02, tolerance: 6.239e-03\n",
      "  model = cd_fast.enet_coordinate_descent(\n",
      "/Users/krishnarajmayya/opt/anaconda3/lib/python3.9/site-packages/sklearn/linear_model/_coordinate_descent.py:647: ConvergenceWarning: Objective did not converge. You might want to increase the number of iterations, check the scale of the features or consider increasing regularisation. Duality gap: 8.960e-02, tolerance: 6.763e-03\n",
      "  model = cd_fast.enet_coordinate_descent(\n",
      "/Users/krishnarajmayya/opt/anaconda3/lib/python3.9/site-packages/sklearn/linear_model/_coordinate_descent.py:647: ConvergenceWarning: Objective did not converge. You might want to increase the number of iterations, check the scale of the features or consider increasing regularisation. Duality gap: 2.391e-01, tolerance: 5.882e-03\n",
      "  model = cd_fast.enet_coordinate_descent(\n",
      "/Users/krishnarajmayya/opt/anaconda3/lib/python3.9/site-packages/sklearn/linear_model/_coordinate_descent.py:647: ConvergenceWarning: Objective did not converge. You might want to increase the number of iterations, check the scale of the features or consider increasing regularisation. Duality gap: 2.169e-01, tolerance: 6.331e-03\n",
      "  model = cd_fast.enet_coordinate_descent(\n",
      "/Users/krishnarajmayya/opt/anaconda3/lib/python3.9/site-packages/sklearn/linear_model/_coordinate_descent.py:647: ConvergenceWarning: Objective did not converge. You might want to increase the number of iterations, check the scale of the features or consider increasing regularisation. Duality gap: 3.349e-02, tolerance: 6.759e-03\n",
      "  model = cd_fast.enet_coordinate_descent(\n",
      "/Users/krishnarajmayya/opt/anaconda3/lib/python3.9/site-packages/sklearn/linear_model/_coordinate_descent.py:647: ConvergenceWarning: Objective did not converge. You might want to increase the number of iterations, check the scale of the features or consider increasing regularisation. Duality gap: 2.740e-02, tolerance: 6.239e-03\n",
      "  model = cd_fast.enet_coordinate_descent(\n",
      "/Users/krishnarajmayya/opt/anaconda3/lib/python3.9/site-packages/sklearn/linear_model/_coordinate_descent.py:647: ConvergenceWarning: Objective did not converge. You might want to increase the number of iterations, check the scale of the features or consider increasing regularisation. Duality gap: 4.238e-02, tolerance: 6.763e-03\n",
      "  model = cd_fast.enet_coordinate_descent(\n",
      "/Users/krishnarajmayya/opt/anaconda3/lib/python3.9/site-packages/sklearn/linear_model/_coordinate_descent.py:647: ConvergenceWarning: Objective did not converge. You might want to increase the number of iterations, check the scale of the features or consider increasing regularisation. Duality gap: 6.314e-02, tolerance: 5.882e-03\n",
      "  model = cd_fast.enet_coordinate_descent(\n",
      "/Users/krishnarajmayya/opt/anaconda3/lib/python3.9/site-packages/sklearn/linear_model/_coordinate_descent.py:647: ConvergenceWarning: Objective did not converge. You might want to increase the number of iterations, check the scale of the features or consider increasing regularisation. Duality gap: 7.589e-03, tolerance: 6.331e-03\n",
      "  model = cd_fast.enet_coordinate_descent(\n",
      "/Users/krishnarajmayya/opt/anaconda3/lib/python3.9/site-packages/sklearn/linear_model/_coordinate_descent.py:647: ConvergenceWarning: Objective did not converge. You might want to increase the number of iterations, check the scale of the features or consider increasing regularisation. Duality gap: 2.399e-02, tolerance: 6.763e-03\n",
      "  model = cd_fast.enet_coordinate_descent(\n"
     ]
    },
    {
     "name": "stdout",
     "output_type": "stream",
     "text": [
      "-----------------------------------------------------\n",
      "The R2 for  0.005  is  0.534117804907998\n",
      "The RMSE for  0.005  is  0.21892441234928592\n",
      "-----------------------------------------------------\n",
      "The R2 is  0.534117804907998\n",
      "The RMSE is  0.21892441234928592\n"
     ]
    }
   ],
   "source": [
    "X=feature_elimination(X,Y,40,ml_model_prime,method='skb')\n",
    "ml_model=build_cv_model(X,Y,False,target)\n",
    "run_model(X,Y,ml_model_prime,target)"
   ]
  },
  {
   "cell_type": "code",
   "execution_count": 24,
   "id": "44657d0f",
   "metadata": {},
   "outputs": [
    {
     "name": "stderr",
     "output_type": "stream",
     "text": [
      "/Users/krishnarajmayya/opt/anaconda3/lib/python3.9/site-packages/sklearn/linear_model/_coordinate_descent.py:647: ConvergenceWarning: Objective did not converge. You might want to increase the number of iterations, check the scale of the features or consider increasing regularisation. Duality gap: 5.049e-01, tolerance: 6.759e-03\n",
      "  model = cd_fast.enet_coordinate_descent(\n",
      "/Users/krishnarajmayya/opt/anaconda3/lib/python3.9/site-packages/sklearn/linear_model/_coordinate_descent.py:647: ConvergenceWarning: Objective did not converge. You might want to increase the number of iterations, check the scale of the features or consider increasing regularisation. Duality gap: 3.430e-02, tolerance: 6.239e-03\n",
      "  model = cd_fast.enet_coordinate_descent(\n",
      "/Users/krishnarajmayya/opt/anaconda3/lib/python3.9/site-packages/sklearn/linear_model/_coordinate_descent.py:647: ConvergenceWarning: Objective did not converge. You might want to increase the number of iterations, check the scale of the features or consider increasing regularisation. Duality gap: 2.946e-02, tolerance: 6.763e-03\n",
      "  model = cd_fast.enet_coordinate_descent(\n"
     ]
    },
    {
     "name": "stdout",
     "output_type": "stream",
     "text": [
      "     Feature       Score\n",
      "0   mean_A2B  342.561672\n",
      "1        s_X  224.085608\n",
      "2        X_Z  200.923811\n",
      "3   mean_X2X  144.584059\n",
      "4       X_Ra  143.785064\n",
      "5   mean_A2X   96.188443\n",
      "6        s_B   50.869033\n",
      "7     A_Rvdw   44.335733\n",
      "8       X_EA   43.047947\n",
      "9      E_coh   42.583723\n",
      "10       s_A   35.416986\n",
      "11   X_Kappa   32.559689\n",
      "12    X_ChiA   30.952649\n",
      "13     A_IEI   27.313322\n",
      "14     X_IEI   20.065186\n",
      "15      X_MV   19.114335\n",
      "16   B_Kappa   19.043771\n",
      "17   std_A2X   16.241729\n",
      "18    A_ChiA   14.678545\n",
      "19      B_EA   14.477919\n",
      "20       A_Z   12.628214\n",
      "21    A_ChiP   11.969555\n",
      "22      A_BP   11.579900\n",
      "23   std_B2X   10.809447\n",
      "24       B_Z    9.440231\n",
      "25    X_IEII    9.352237\n",
      "26      B_MP    9.089462\n",
      "27   A_Kappa    8.458841\n",
      "28     A_CvM    8.388239\n",
      "29      B_Hf    8.046263\n",
      "30    B_ChiP    7.492487\n",
      "31        OF    5.799041\n",
      "32       A_B    5.431259\n",
      "33      A_EA    5.343736\n",
      "34     B_Rho    5.310746\n",
      "35     B_IEI    4.995951\n",
      "36      B_MV    4.896555\n",
      "37      B_Ra    3.679989\n",
      "38   density    3.438603\n",
      "39        TF    3.212161\n",
      "-----------------------------------------------------\n",
      "The shape of X is  (80, 30)\n",
      "-----------------------------------------------------\n",
      "The R2 for  0.005  is  0.38631518639305\n",
      "The RMSE for  0.005  is  0.24072644836697257\n",
      "-----------------------------------------------------\n",
      "The R2 is  0.38631518639305\n",
      "The RMSE is  0.24072644836697257\n"
     ]
    },
    {
     "name": "stderr",
     "output_type": "stream",
     "text": [
      "/Users/krishnarajmayya/opt/anaconda3/lib/python3.9/site-packages/sklearn/linear_model/_coordinate_descent.py:647: ConvergenceWarning: Objective did not converge. You might want to increase the number of iterations, check the scale of the features or consider increasing regularisation. Duality gap: 4.289e-01, tolerance: 5.882e-03\n",
      "  model = cd_fast.enet_coordinate_descent(\n",
      "/Users/krishnarajmayya/opt/anaconda3/lib/python3.9/site-packages/sklearn/linear_model/_coordinate_descent.py:647: ConvergenceWarning: Objective did not converge. You might want to increase the number of iterations, check the scale of the features or consider increasing regularisation. Duality gap: 3.572e-01, tolerance: 6.331e-03\n",
      "  model = cd_fast.enet_coordinate_descent(\n",
      "/Users/krishnarajmayya/opt/anaconda3/lib/python3.9/site-packages/sklearn/linear_model/_coordinate_descent.py:647: ConvergenceWarning: Objective did not converge. You might want to increase the number of iterations, check the scale of the features or consider increasing regularisation. Duality gap: 1.194e-01, tolerance: 6.759e-03\n",
      "  model = cd_fast.enet_coordinate_descent(\n",
      "/Users/krishnarajmayya/opt/anaconda3/lib/python3.9/site-packages/sklearn/linear_model/_coordinate_descent.py:647: ConvergenceWarning: Objective did not converge. You might want to increase the number of iterations, check the scale of the features or consider increasing regularisation. Duality gap: 2.683e-02, tolerance: 6.239e-03\n",
      "  model = cd_fast.enet_coordinate_descent(\n",
      "/Users/krishnarajmayya/opt/anaconda3/lib/python3.9/site-packages/sklearn/linear_model/_coordinate_descent.py:647: ConvergenceWarning: Objective did not converge. You might want to increase the number of iterations, check the scale of the features or consider increasing regularisation. Duality gap: 1.741e-02, tolerance: 6.763e-03\n",
      "  model = cd_fast.enet_coordinate_descent(\n",
      "/Users/krishnarajmayya/opt/anaconda3/lib/python3.9/site-packages/sklearn/linear_model/_coordinate_descent.py:647: ConvergenceWarning: Objective did not converge. You might want to increase the number of iterations, check the scale of the features or consider increasing regularisation. Duality gap: 1.303e-01, tolerance: 5.882e-03\n",
      "  model = cd_fast.enet_coordinate_descent(\n",
      "/Users/krishnarajmayya/opt/anaconda3/lib/python3.9/site-packages/sklearn/linear_model/_coordinate_descent.py:647: ConvergenceWarning: Objective did not converge. You might want to increase the number of iterations, check the scale of the features or consider increasing regularisation. Duality gap: 5.381e-02, tolerance: 6.331e-03\n",
      "  model = cd_fast.enet_coordinate_descent(\n",
      "/Users/krishnarajmayya/opt/anaconda3/lib/python3.9/site-packages/sklearn/linear_model/_coordinate_descent.py:647: ConvergenceWarning: Objective did not converge. You might want to increase the number of iterations, check the scale of the features or consider increasing regularisation. Duality gap: 9.465e-03, tolerance: 6.239e-03\n",
      "  model = cd_fast.enet_coordinate_descent(\n",
      "/Users/krishnarajmayya/opt/anaconda3/lib/python3.9/site-packages/sklearn/linear_model/_coordinate_descent.py:647: ConvergenceWarning: Objective did not converge. You might want to increase the number of iterations, check the scale of the features or consider increasing regularisation. Duality gap: 2.411e-02, tolerance: 6.763e-03\n",
      "  model = cd_fast.enet_coordinate_descent(\n"
     ]
    }
   ],
   "source": [
    "X=feature_elimination(X,Y,30,ml_model,method='skb')\n",
    "ml_model=build_cv_model(X,Y,False,target)\n",
    "run_model(X,Y,ml_model_prime,target)"
   ]
  },
  {
   "cell_type": "code",
   "execution_count": 25,
   "id": "86bc5d14",
   "metadata": {},
   "outputs": [
    {
     "name": "stdout",
     "output_type": "stream",
     "text": [
      "     Feature       Score\n",
      "0   mean_A2B  342.561672\n",
      "1        s_X  224.085608\n",
      "2        X_Z  200.923811\n",
      "3   mean_X2X  144.584059\n",
      "4       X_Ra  143.785064\n",
      "5   mean_A2X   96.188443\n",
      "6        s_B   50.869033\n",
      "7     A_Rvdw   44.335733\n",
      "8       X_EA   43.047947\n",
      "9      E_coh   42.583723\n",
      "10       s_A   35.416986\n",
      "11   X_Kappa   32.559689\n",
      "12    X_ChiA   30.952649\n",
      "13     A_IEI   27.313322\n",
      "14     X_IEI   20.065186\n",
      "15      X_MV   19.114335\n",
      "16   B_Kappa   19.043771\n",
      "17   std_A2X   16.241729\n",
      "18    A_ChiA   14.678545\n",
      "19      B_EA   14.477919\n",
      "20       A_Z   12.628214\n",
      "21    A_ChiP   11.969555\n",
      "22      A_BP   11.579900\n",
      "23   std_B2X   10.809447\n",
      "24       B_Z    9.440231\n",
      "25    X_IEII    9.352237\n",
      "26      B_MP    9.089462\n",
      "27   A_Kappa    8.458841\n",
      "28     A_CvM    8.388239\n",
      "29      B_Hf    8.046263\n",
      "-----------------------------------------------------\n",
      "The shape of X is  (80, 20)\n"
     ]
    },
    {
     "name": "stderr",
     "output_type": "stream",
     "text": [
      "/Users/krishnarajmayya/opt/anaconda3/lib/python3.9/site-packages/sklearn/linear_model/_coordinate_descent.py:647: ConvergenceWarning: Objective did not converge. You might want to increase the number of iterations, check the scale of the features or consider increasing regularisation. Duality gap: 9.772e-01, tolerance: 6.759e-03\n",
      "  model = cd_fast.enet_coordinate_descent(\n",
      "/Users/krishnarajmayya/opt/anaconda3/lib/python3.9/site-packages/sklearn/linear_model/_coordinate_descent.py:647: ConvergenceWarning: Objective did not converge. You might want to increase the number of iterations, check the scale of the features or consider increasing regularisation. Duality gap: 5.006e-02, tolerance: 6.239e-03\n",
      "  model = cd_fast.enet_coordinate_descent(\n",
      "/Users/krishnarajmayya/opt/anaconda3/lib/python3.9/site-packages/sklearn/linear_model/_coordinate_descent.py:647: ConvergenceWarning: Objective did not converge. You might want to increase the number of iterations, check the scale of the features or consider increasing regularisation. Duality gap: 4.064e-02, tolerance: 6.763e-03\n",
      "  model = cd_fast.enet_coordinate_descent(\n",
      "/Users/krishnarajmayya/opt/anaconda3/lib/python3.9/site-packages/sklearn/linear_model/_coordinate_descent.py:647: ConvergenceWarning: Objective did not converge. You might want to increase the number of iterations, check the scale of the features or consider increasing regularisation. Duality gap: 9.604e-01, tolerance: 5.882e-03\n",
      "  model = cd_fast.enet_coordinate_descent(\n",
      "/Users/krishnarajmayya/opt/anaconda3/lib/python3.9/site-packages/sklearn/linear_model/_coordinate_descent.py:647: ConvergenceWarning: Objective did not converge. You might want to increase the number of iterations, check the scale of the features or consider increasing regularisation. Duality gap: 8.595e-01, tolerance: 6.331e-03\n",
      "  model = cd_fast.enet_coordinate_descent(\n"
     ]
    },
    {
     "name": "stdout",
     "output_type": "stream",
     "text": [
      "-----------------------------------------------------\n",
      "The R2 for  0.02  is  0.38006315049453965\n",
      "The RMSE for  0.02  is  0.2847276587538069\n",
      "-----------------------------------------------------\n",
      "The R2 is  0.30571884229073243\n",
      "The RMSE is  0.29269243939369977\n"
     ]
    }
   ],
   "source": [
    "X=feature_elimination(X,Y,20,ml_model,method='skb')\n",
    "ml_model=build_cv_model(X,Y,False,target)\n",
    "run_model(X,Y,ml_model_prime,target)"
   ]
  },
  {
   "cell_type": "code",
   "execution_count": 26,
   "id": "354e0216",
   "metadata": {},
   "outputs": [
    {
     "name": "stdout",
     "output_type": "stream",
     "text": [
      "     Feature       Score\n",
      "0   mean_A2B  342.561672\n",
      "1        s_X  224.085608\n",
      "2        X_Z  200.923811\n",
      "3   mean_X2X  144.584059\n",
      "4       X_Ra  143.785064\n",
      "5   mean_A2X   96.188443\n",
      "6        s_B   50.869033\n",
      "7     A_Rvdw   44.335733\n",
      "8       X_EA   43.047947\n",
      "9      E_coh   42.583723\n",
      "10       s_A   35.416986\n",
      "11   X_Kappa   32.559689\n",
      "12    X_ChiA   30.952649\n",
      "13     A_IEI   27.313322\n",
      "14     X_IEI   20.065186\n",
      "15      X_MV   19.114335\n",
      "16   B_Kappa   19.043771\n",
      "17   std_A2X   16.241729\n",
      "18    A_ChiA   14.678545\n",
      "19      B_EA   14.477919\n",
      "-----------------------------------------------------\n",
      "The shape of X is  (80, 10)\n",
      "-----------------------------------------------------\n",
      "The R2 for  0.02  is  -0.14648142613108683\n",
      "The RMSE for  0.02  is  0.37968725978390094\n",
      "-----------------------------------------------------\n",
      "The R2 is  -0.27923492476918543\n",
      "The RMSE is  0.3851267679553882\n"
     ]
    }
   ],
   "source": [
    "X=feature_elimination(X,Y,10,ml_model,method='skb')\n",
    "ml_model=build_cv_model(X,Y,False,target)\n",
    "run_model(X,Y,ml_model_prime,target)"
   ]
  },
  {
   "cell_type": "markdown",
   "id": "7fc100aa",
   "metadata": {},
   "source": [
    "## Minmax scaling"
   ]
  },
  {
   "cell_type": "code",
   "execution_count": 27,
   "id": "3cf3e79b",
   "metadata": {},
   "outputs": [
    {
     "name": "stdout",
     "output_type": "stream",
     "text": [
      "The shape of X is  (80, 76)\n"
     ]
    },
    {
     "name": "stderr",
     "output_type": "stream",
     "text": [
      "/Users/krishnarajmayya/opt/anaconda3/lib/python3.9/site-packages/sklearn/linear_model/_coordinate_descent.py:647: ConvergenceWarning: Objective did not converge. You might want to increase the number of iterations, check the scale of the features or consider increasing regularisation. Duality gap: 1.077e-03, tolerance: 3.970e-04\n",
      "  model = cd_fast.enet_coordinate_descent(\n",
      "/Users/krishnarajmayya/opt/anaconda3/lib/python3.9/site-packages/sklearn/linear_model/_coordinate_descent.py:647: ConvergenceWarning: Objective did not converge. You might want to increase the number of iterations, check the scale of the features or consider increasing regularisation. Duality gap: 3.660e-03, tolerance: 3.665e-04\n",
      "  model = cd_fast.enet_coordinate_descent(\n",
      "/Users/krishnarajmayya/opt/anaconda3/lib/python3.9/site-packages/sklearn/linear_model/_coordinate_descent.py:647: ConvergenceWarning: Objective did not converge. You might want to increase the number of iterations, check the scale of the features or consider increasing regularisation. Duality gap: 1.353e-03, tolerance: 3.972e-04\n",
      "  model = cd_fast.enet_coordinate_descent(\n"
     ]
    },
    {
     "name": "stdout",
     "output_type": "stream",
     "text": [
      "-----------------------------------------------------\n",
      "The R2 for  0.0005  is  0.6332717849642497\n",
      "The RMSE for  0.0005  is  0.052188154036029\n"
     ]
    }
   ],
   "source": [
    "X,Y = minmax_scaling(target)\n",
    "ml_model=build_cv_model(X,Y,False,target)"
   ]
  },
  {
   "cell_type": "markdown",
   "id": "53c80113",
   "metadata": {},
   "source": [
    "### Drop correlated features"
   ]
  },
  {
   "cell_type": "code",
   "execution_count": 28,
   "id": "08219247",
   "metadata": {},
   "outputs": [
    {
     "name": "stdout",
     "output_type": "stream",
     "text": [
      "The shape of X is  (80, 50)\n",
      "-----------------------------------------------------\n",
      "The R2 for  0.0005  is  0.5538503879236123\n",
      "The RMSE for  0.0005  is  0.058537690719815676\n"
     ]
    }
   ],
   "source": [
    "ml_model_prime=build_cv_model(X,Y,True,target)"
   ]
  },
  {
   "cell_type": "markdown",
   "id": "c9d99eda",
   "metadata": {},
   "source": [
    "### Feature elimination"
   ]
  },
  {
   "cell_type": "code",
   "execution_count": 29,
   "id": "cf0fb3e8",
   "metadata": {},
   "outputs": [
    {
     "name": "stdout",
     "output_type": "stream",
     "text": [
      "     Feature       Score\n",
      "0        s_A   35.416986\n",
      "1        s_B   50.869033\n",
      "2        s_X  224.085608\n",
      "3    density    3.438603\n",
      "4   mean_A2B  342.561672\n",
      "5   mean_A2X   96.188443\n",
      "6   mean_B2X    0.414239\n",
      "7   mean_X2X  144.584059\n",
      "8    std_A2B    2.548061\n",
      "9    std_A2X   16.241729\n",
      "10   std_B2X   10.809447\n",
      "11   std_X2X    1.814497\n",
      "12     E_coh   42.583723\n",
      "13        TF    3.212161\n",
      "14        OF    5.799041\n",
      "15       A_Z   12.628214\n",
      "16       B_Z    9.440231\n",
      "17       X_Z  200.923811\n",
      "18       A_G    3.038836\n",
      "19       B_G    1.727768\n",
      "20     A_IEI   27.313322\n",
      "21     B_IEI    4.995951\n",
      "22     X_IEI   20.065186\n",
      "23    A_IEII    0.476045\n",
      "24    B_IEII    0.037003\n",
      "25    X_IEII    9.352237\n",
      "26      A_EA    5.343736\n",
      "27      B_EA   14.477919\n",
      "28      X_EA   43.047947\n",
      "29    A_ChiP   11.969555\n",
      "30    B_ChiP    7.492487\n",
      "31    A_ChiA   14.678545\n",
      "32    X_ChiA   30.952649\n",
      "33    A_Rvdw   44.335733\n",
      "34      B_Ra    3.679989\n",
      "35      X_Ra  143.785064\n",
      "36      B_MP    9.089462\n",
      "37      A_BP   11.579900\n",
      "38     A_Rho    1.106778\n",
      "39     B_Rho    5.310746\n",
      "40      B_MV    4.896555\n",
      "41      X_MV   19.114335\n",
      "42      B_Hf    8.046263\n",
      "43   A_Kappa    8.458841\n",
      "44   B_Kappa   19.043771\n",
      "45   X_Kappa   32.559689\n",
      "46     A_CvM    8.388239\n",
      "47     B_CvM    2.178625\n",
      "48       A_B    5.431259\n",
      "49       B_B    0.031888\n",
      "-----------------------------------------------------\n",
      "The shape of X is  (80, 40)\n",
      "-----------------------------------------------------\n",
      "The R2 for  0.0001  is  0.4442609463447955\n",
      "The RMSE for  0.0001  is  0.05551360819829695\n",
      "-----------------------------------------------------\n",
      "The R2 is  0.602898239951222\n",
      "The RMSE is  0.05575149004931135\n"
     ]
    }
   ],
   "source": [
    "X=feature_elimination(X,Y,40,ml_model_prime,method='skb')\n",
    "ml_model=build_cv_model(X,Y,False,target)\n",
    "run_model(X,Y,ml_model_prime,target)"
   ]
  },
  {
   "cell_type": "code",
   "execution_count": 30,
   "id": "0ca7c003",
   "metadata": {},
   "outputs": [
    {
     "name": "stdout",
     "output_type": "stream",
     "text": [
      "     Feature       Score\n",
      "0   mean_A2B  342.561672\n",
      "1        s_X  224.085608\n",
      "2        X_Z  200.923811\n",
      "3   mean_X2X  144.584059\n",
      "4       X_Ra  143.785064\n",
      "5   mean_A2X   96.188443\n",
      "6        s_B   50.869033\n",
      "7     A_Rvdw   44.335733\n",
      "8       X_EA   43.047947\n",
      "9      E_coh   42.583723\n",
      "10       s_A   35.416986\n",
      "11   X_Kappa   32.559689\n",
      "12    X_ChiA   30.952649\n",
      "13     A_IEI   27.313322\n",
      "14     X_IEI   20.065186\n",
      "15      X_MV   19.114335\n",
      "16   B_Kappa   19.043771\n",
      "17   std_A2X   16.241729\n",
      "18    A_ChiA   14.678545\n",
      "19      B_EA   14.477919\n",
      "20       A_Z   12.628214\n",
      "21    A_ChiP   11.969555\n",
      "22      A_BP   11.579900\n",
      "23   std_B2X   10.809447\n",
      "24       B_Z    9.440231\n",
      "25    X_IEII    9.352237\n",
      "26      B_MP    9.089462\n",
      "27   A_Kappa    8.458841\n",
      "28     A_CvM    8.388239\n",
      "29      B_Hf    8.046263\n",
      "30    B_ChiP    7.492487\n",
      "31        OF    5.799041\n",
      "32       A_B    5.431259\n",
      "33      A_EA    5.343736\n",
      "34     B_Rho    5.310746\n",
      "35     B_IEI    4.995951\n",
      "36      B_MV    4.896555\n",
      "37      B_Ra    3.679989\n",
      "38   density    3.438603\n",
      "39        TF    3.212161\n",
      "-----------------------------------------------------\n",
      "The shape of X is  (80, 30)\n",
      "-----------------------------------------------------\n",
      "The R2 for  0.0005  is  0.45740686777286726\n",
      "The RMSE for  0.0005  is  0.06144290968343223\n",
      "-----------------------------------------------------\n",
      "The R2 is  0.45740686777286726\n",
      "The RMSE is  0.06144290968343223\n"
     ]
    }
   ],
   "source": [
    "X=feature_elimination(X,Y,30,ml_model,method='skb')\n",
    "ml_model=build_cv_model(X,Y,False,target)\n",
    "run_model(X,Y,ml_model_prime,target)"
   ]
  },
  {
   "cell_type": "code",
   "execution_count": 31,
   "id": "19f11f63",
   "metadata": {},
   "outputs": [
    {
     "name": "stdout",
     "output_type": "stream",
     "text": [
      "     Feature       Score\n",
      "0   mean_A2B  342.561672\n",
      "1        s_X  224.085608\n",
      "2        X_Z  200.923811\n",
      "3   mean_X2X  144.584059\n",
      "4       X_Ra  143.785064\n",
      "5   mean_A2X   96.188443\n",
      "6        s_B   50.869033\n",
      "7     A_Rvdw   44.335733\n",
      "8       X_EA   43.047947\n",
      "9      E_coh   42.583723\n",
      "10       s_A   35.416986\n",
      "11   X_Kappa   32.559689\n",
      "12    X_ChiA   30.952649\n",
      "13     A_IEI   27.313322\n",
      "14     X_IEI   20.065186\n",
      "15      X_MV   19.114335\n",
      "16   B_Kappa   19.043771\n",
      "17   std_A2X   16.241729\n",
      "18    A_ChiA   14.678545\n",
      "19      B_EA   14.477919\n",
      "20       A_Z   12.628214\n",
      "21    A_ChiP   11.969555\n",
      "22      A_BP   11.579900\n",
      "23   std_B2X   10.809447\n",
      "24       B_Z    9.440231\n",
      "25    X_IEII    9.352237\n",
      "26      B_MP    9.089462\n",
      "27   A_Kappa    8.458841\n",
      "28     A_CvM    8.388239\n",
      "29      B_Hf    8.046263\n",
      "-----------------------------------------------------\n",
      "The shape of X is  (80, 20)\n",
      "-----------------------------------------------------\n",
      "The R2 for  0.001  is  0.3644758930379193\n",
      "The RMSE for  0.001  is  0.06862870865468035\n",
      "-----------------------------------------------------\n",
      "The R2 is  0.32449007348090697\n",
      "The RMSE is  0.06950559039277816\n"
     ]
    }
   ],
   "source": [
    "X=feature_elimination(X,Y,20,ml_model,method='skb')\n",
    "ml_model=build_cv_model(X,Y,False,target)\n",
    "run_model(X,Y,ml_model_prime,target)"
   ]
  },
  {
   "cell_type": "code",
   "execution_count": 32,
   "id": "435b79d2",
   "metadata": {},
   "outputs": [
    {
     "name": "stdout",
     "output_type": "stream",
     "text": [
      "     Feature       Score\n",
      "0   mean_A2B  342.561672\n",
      "1        s_X  224.085608\n",
      "2        X_Z  200.923811\n",
      "3   mean_X2X  144.584059\n",
      "4       X_Ra  143.785064\n",
      "5   mean_A2X   96.188443\n",
      "6        s_B   50.869033\n",
      "7     A_Rvdw   44.335733\n",
      "8       X_EA   43.047947\n",
      "9      E_coh   42.583723\n",
      "10       s_A   35.416986\n",
      "11   X_Kappa   32.559689\n",
      "12    X_ChiA   30.952649\n",
      "13     A_IEI   27.313322\n",
      "14     X_IEI   20.065186\n",
      "15      X_MV   19.114335\n",
      "16   B_Kappa   19.043771\n",
      "17   std_A2X   16.241729\n",
      "18    A_ChiA   14.678545\n",
      "19      B_EA   14.477919\n",
      "-----------------------------------------------------\n",
      "The shape of X is  (80, 10)\n",
      "-----------------------------------------------------\n",
      "The R2 for  0.001  is  -0.003189766610636538\n",
      "The RMSE for  0.001  is  0.09108317503661613\n",
      "-----------------------------------------------------\n",
      "The R2 is  -0.1221836534287522\n",
      "The RMSE is  0.09179048515802878\n"
     ]
    }
   ],
   "source": [
    "X=feature_elimination(X,Y,10,ml_model,method='skb')\n",
    "ml_model=build_cv_model(X,Y,False,target)\n",
    "run_model(X,Y,ml_model_prime,target)"
   ]
  }
 ],
 "metadata": {
  "kernelspec": {
   "display_name": "Python 3 (ipykernel)",
   "language": "python",
   "name": "python3"
  },
  "language_info": {
   "codemirror_mode": {
    "name": "ipython",
    "version": 3
   },
   "file_extension": ".py",
   "mimetype": "text/x-python",
   "name": "python",
   "nbconvert_exporter": "python",
   "pygments_lexer": "ipython3",
   "version": "3.9.13"
  }
 },
 "nbformat": 4,
 "nbformat_minor": 5
}
