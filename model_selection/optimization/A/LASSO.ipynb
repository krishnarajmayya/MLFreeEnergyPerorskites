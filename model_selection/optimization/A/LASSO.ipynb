{
 "cells": [
  {
   "cell_type": "markdown",
   "id": "a9cd6142",
   "metadata": {},
   "source": [
    "# Model selection"
   ]
  },
  {
   "cell_type": "code",
   "execution_count": 1,
   "id": "62d47901",
   "metadata": {},
   "outputs": [],
   "source": [
    "import pandas as pd"
   ]
  },
  {
   "cell_type": "code",
   "execution_count": 2,
   "id": "cf430274",
   "metadata": {},
   "outputs": [],
   "source": [
    "import matplotlib.pyplot as plt\n",
    "import numpy as np\n",
    "import itertools"
   ]
  },
  {
   "cell_type": "code",
   "execution_count": 3,
   "id": "eb0a1193",
   "metadata": {},
   "outputs": [],
   "source": [
    "from sklearn.metrics import mean_squared_error, r2_score\n",
    "from sklearn.gaussian_process import GaussianProcessRegressor\n",
    "from sklearn.gaussian_process.kernels import RBF\n",
    "from sklearn.preprocessing import StandardScaler, MinMaxScaler\n",
    "from sklearn.model_selection import train_test_split, cross_val_score, KFold\n",
    "from sklearn.linear_model import LinearRegression, Ridge, Lasso\n",
    "from sklearn.ensemble import RandomForestRegressor,GradientBoostingRegressor\n",
    "from sklearn.feature_selection import RFE, SelectKBest, f_regression"
   ]
  },
  {
   "cell_type": "code",
   "execution_count": 4,
   "id": "d9667f76",
   "metadata": {},
   "outputs": [],
   "source": [
    "import seaborn as sns"
   ]
  },
  {
   "cell_type": "markdown",
   "id": "05e51c93",
   "metadata": {},
   "source": [
    "Import data from csv files into a dataframe"
   ]
  },
  {
   "cell_type": "code",
   "execution_count": 5,
   "id": "787cce69",
   "metadata": {},
   "outputs": [
    {
     "name": "stdout",
     "output_type": "stream",
     "text": [
      "['Name' 'Coef_a' 'Coef_b' 'Coef_c' 'Coef_d' 'A_site' 'B_site' 'X_site'\n",
      " 'Spacegroup' 'Ehull' 'BulkModulus' 'Energy' 'ZPE' 's_A' 's_B' 's_X'\n",
      " 'density' 'mean_A2B' 'mean_A2X' 'mean_B2X' 'mean_X2X' 'std_A2B' 'std_A2X'\n",
      " 'std_B2X' 'std_X2X' 'E_coh' 'TF' 'OF' 'A_Z' 'B_Z' 'X_Z' 'A_M' 'B_M' 'X_M'\n",
      " 'A_G' 'B_G' 'X_G' 'A_IEI' 'B_IEI' 'X_IEI' 'A_IEII' 'B_IEII' 'X_IEII'\n",
      " 'A_EA' 'B_EA' 'X_EA' 'A_ChiP' 'B_ChiP' 'X_ChiP' 'A_ChiA' 'X_ChiA'\n",
      " 'A_Rvdw' 'B_Rvdw' 'X_Rvdw' 'A_Rc' 'B_Rc' 'X_Rc' 'A_Ra' 'B_Ra' 'X_Ra'\n",
      " 'A_MP' 'B_MP' 'X_MP' 'A_BP' 'B_BP' 'X_BP' 'A_Rho' 'B_Rho' 'A_MV' 'B_MV'\n",
      " 'X_MV' 'A_Hf' 'B_Hf' 'X_Hf' 'A_Hv' 'B_Hv' 'X_Hv' 'A_Kappa' 'B_Kappa'\n",
      " 'X_Kappa' 'A_CvM' 'B_CvM' 'X_CvM' 'A_B' 'B_B' 'X_B' 'A_MendeleevNo'\n",
      " 'B_MendeleevNo' 'X_MendeleevNo']\n"
     ]
    }
   ],
   "source": [
    "data = pd.read_csv('Combined_all_3rd_fit.csv', encoding='cp1252')\n",
    "print(data.columns.values)"
   ]
  },
  {
   "cell_type": "markdown",
   "id": "193419bd",
   "metadata": {},
   "source": [
    "Drop the unnecessary columns and fill the empty cells with zero"
   ]
  },
  {
   "cell_type": "code",
   "execution_count": 6,
   "id": "30a36ba9",
   "metadata": {},
   "outputs": [
    {
     "name": "stdout",
     "output_type": "stream",
     "text": [
      "(80, 77)\n"
     ]
    }
   ],
   "source": [
    "data.drop(['Name', 'A_site', 'B_site', 'X_site', 'Spacegroup','BulkModulus',\n",
    "           'Ehull','Energy','ZPE','Coef_b', 'Coef_c', 'Coef_d'], axis=1, inplace = True)\n",
    "data.fillna(0, inplace= True)\n",
    "d=data.copy()\n",
    "columns = list(d.columns.values)\n",
    "print(d.shape)"
   ]
  },
  {
   "cell_type": "markdown",
   "id": "4bb0c2a1",
   "metadata": {},
   "source": [
    "Set the target variable to machine learn"
   ]
  },
  {
   "cell_type": "code",
   "execution_count": 7,
   "id": "b2817160",
   "metadata": {},
   "outputs": [],
   "source": [
    "target = 'Coef_a'"
   ]
  },
  {
   "cell_type": "markdown",
   "id": "0f98f85e",
   "metadata": {},
   "source": [
    "Define various methods to be used for buildig and validating the models"
   ]
  },
  {
   "cell_type": "code",
   "execution_count": 8,
   "id": "5fa4081a",
   "metadata": {},
   "outputs": [],
   "source": [
    "\"\"\"\n",
    "    Functions to perform scaling\n",
    "    \n",
    "    \"\"\"\n",
    "def standard_scaling(target):\n",
    "    data_std=d.copy()\n",
    "    data_std[columns]= StandardScaler().fit_transform(d[columns])\n",
    "    Y = data_std[target] \n",
    "    X = data_std.drop([target], axis=1)\n",
    "    return X,Y\n",
    "\n",
    "def minmax_scaling(target):\n",
    "    data_mm=d.copy()\n",
    "    data_mm[columns]= MinMaxScaler().fit_transform(d[columns])\n",
    "    Y = data_mm[target] \n",
    "    X = data_mm.drop([target], axis=1)\n",
    "    return X,Y"
   ]
  },
  {
   "cell_type": "code",
   "execution_count": 9,
   "id": "08eda787",
   "metadata": {},
   "outputs": [],
   "source": [
    "\"\"\"\n",
    "    Function to build machine learning models by hyper parameter tuning. It also plots scatter plot\n",
    "    \n",
    "    \"\"\"\n",
    "def build_cv_model(X,Y,b_drop=False,target='Coef_d'):\n",
    "    if b_drop :\n",
    "        correlated_features = [\"A_Rc\",\"A_Ra\",\"A_M\",\"A_MP\",\"A_MV\",\"A_MendeleevNo\",\"A_Hf\",\"A_Hv\",\"B_Rc\",\n",
    "                       \"B_Rvdw\",\"B_M\",\"B_BP\",\"B_MendeleevNo\",\"B_Hv\",\"X_Rc\",\"X_Rvdw\",\"X_M\",\"X_BP\",\"X_MP\",\n",
    "                       \"X_MendeleevNo\",\"X_Hf\",\"X_Hv\",\"X_G\",\"X_B\",\"X_CvM\",\"X_ChiP\"]\n",
    "        X.drop(labels=correlated_features, axis=1, inplace=True)\n",
    "        \n",
    "    print(\"The shape of X is \",X.shape)\n",
    "    \n",
    "    ml_model, cv_results = train_model(X,Y,hyperparams=hyperparams, cv=True, return_cv=True)\n",
    "    \n",
    "    return ml_model"
   ]
  },
  {
   "cell_type": "code",
   "execution_count": 10,
   "id": "835ed0e7",
   "metadata": {},
   "outputs": [],
   "source": [
    "def run_model(X,Y,model,target='Coef_d'):\n",
    "    rmse,r2 = run_cv(model, X, Y, n_cv = 5)\n",
    "    print(\"-----------------------------------------------------\")\n",
    "    print(\"The R2 is \",r2)\n",
    "    print(\"The RMSE is \",rmse)"
   ]
  },
  {
   "cell_type": "code",
   "execution_count": 11,
   "id": "8be0db69",
   "metadata": {},
   "outputs": [],
   "source": [
    "\"\"\"\n",
    "    Function to perform feature elimination using select K best of RFE method. It also prints the \n",
    "    feature scores obtained as:\n",
    "    SelectKBest: The scores obtained from the selector\n",
    "    RFE: The feature importance obtained from the RFR model \n",
    "    \n",
    "    \"\"\"\n",
    "def feature_elimination(X,Y,n,estimator,method='skb'):\n",
    "    if method=='skb':\n",
    "        bestfeatures = SelectKBest(score_func=f_regression, k=10)\n",
    "        fit = bestfeatures.fit(X,Y)\n",
    "        dfscores = pd.DataFrame(fit.scores_)\n",
    "        dfcolumns = pd.DataFrame(X.columns)\n",
    "        #concat two dataframes for better visualization \n",
    "        featureScores = pd.concat([dfcolumns,dfscores],axis=1)\n",
    "        featureScores.columns = ['Feature','Score']  #naming the dataframe columns\n",
    "        X=X[featureScores.nlargest(n,'Score')['Feature'].values]\n",
    "    elif method=='rfe':\n",
    "        selector = RFE(estimator, n_features_to_select=n, step=1)\n",
    "        selector = selector.fit(X, Y)\n",
    "        dfscores = pd.DataFrame(selector.ranking_)\n",
    "        dfcolumns = pd.DataFrame(selector.feature_names_in_)\n",
    "        #concat two dataframes for better visualization \n",
    "        featureSelection = pd.concat([dfcolumns,dfscores],axis=1)\n",
    "        featureSelection.columns = ['Feature','Score']  #naming the dataframe columns\n",
    "        X=X[featureSelection.nsmallest(n,'Score')['Feature'].values]\n",
    "        estimator.fit(X,Y)\n",
    "        importance = pd.DataFrame(estimator.feature_importances_)\n",
    "        featureNames = pd.DataFrame(X.columns.values)\n",
    "        featureScores = pd.concat([featureNames,importance],axis=1)\n",
    "        featureScores.columns = ['Feature','Score']  #naming the dataframe columns\n",
    "        \n",
    "    print(featureScores)\n",
    "    print(\"-----------------------------------------------------\")\n",
    "    return X"
   ]
  },
  {
   "cell_type": "code",
   "execution_count": 12,
   "id": "80a52bcd",
   "metadata": {},
   "outputs": [],
   "source": [
    "def train_model(X, y, hyperparams = None, cv = False, return_cv = False):\n",
    "    \"\"\"\n",
    "    Function to train the ML model on the given data X (features) and y (target property). \n",
    "    If hyperparams argument is passed, all possible combinations of alpha and kernel values\n",
    "    will be tried to find combination with minimum CV error. The final  model is trained\n",
    "    using the fixed kernel and alpha params as determined using CV.\n",
    "    \n",
    "    \"\"\"\n",
    "    \n",
    "    if cv:\n",
    "        cv_results = {'alpha':[],'cv_rmse':[],'cv_r2':[]}\n",
    "        for a in hyperparams['alpha']:\n",
    "\n",
    "            lasso = Lasso(alpha=a)\n",
    "\n",
    "            cv_error, cv_r2 = run_cv(lasso, X, y, n_cv = 5)\n",
    "            cv_results['cv_rmse'].append(cv_error)\n",
    "            cv_results['cv_r2'].append(cv_r2)\n",
    "            cv_results['alpha'].append(a)\n",
    "\n",
    "        cv_results = pd.DataFrame(cv_results)\n",
    "        cv_results = cv_results.sort_values('cv_rmse')\n",
    "        a_opt = cv_results.iloc[0]['alpha']\n",
    "        \n",
    "    else:\n",
    "        a_opt = hyperparams['alpha'][0]\n",
    "\n",
    "    lasso = Lasso(alpha=a_opt)\n",
    "    model = lasso.fit(X,y)\n",
    "    print(\"-----------------------------------------------------\")\n",
    "    print(\"The R2 for \",a_opt,\" is \",cv_results.iloc[0]['cv_r2'])\n",
    "    print(\"The RMSE for \",a_opt,\" is \",cv_results.iloc[0]['cv_rmse'])\n",
    "    return [model, cv_results] if return_cv else model\n",
    "\n",
    "\n",
    "def run_cv(ml_model, X, y, n_cv = 5):\n",
    "    \"\"\"\n",
    "    Function to run Cross-validation\n",
    "    \"\"\"\n",
    "    kf = KFold(n_splits=n_cv,shuffle=True,random_state=50)\n",
    "    y_val = []\n",
    "    y_pred = []\n",
    "\n",
    "    for idx, (train, val) in enumerate(kf.split(X)):\n",
    "        \n",
    "        X_cv_train = X.values[train]\n",
    "        X_cv_val = X.values[val]\n",
    "\n",
    "        y_cv_train = y.values[train]\n",
    "        y_cv_val = y.values[val]    \n",
    "\n",
    "        # Model fit and prediction\n",
    "        model = ml_model.fit(X_cv_train, y_cv_train)\n",
    "        y_pred_val = model.predict(X_cv_val)\n",
    "        \n",
    "        y_val.append(y_cv_val)\n",
    "        y_pred.append(y_pred_val)\n",
    "\n",
    "    # Computing errors\n",
    "    rmse = np.sqrt(mean_squared_error(y_val, y_pred))\n",
    "    r2 = r2_score(y_val, y_pred)\n",
    "    \n",
    "    return rmse, r2"
   ]
  },
  {
   "cell_type": "markdown",
   "id": "5e43d433",
   "metadata": {},
   "source": [
    "Define the hyperparameters to be tuned for the given algorithm"
   ]
  },
  {
   "cell_type": "code",
   "execution_count": 13,
   "id": "bffb2010",
   "metadata": {},
   "outputs": [],
   "source": [
    "hyperparams={'alpha': [0.0001,0.0005,0.001,0.005,0.01,0.02,0.05,0.1,1,2,4,8]}"
   ]
  },
  {
   "cell_type": "markdown",
   "id": "50ef316a",
   "metadata": {},
   "source": [
    "## Without scaling"
   ]
  },
  {
   "cell_type": "code",
   "execution_count": 14,
   "id": "68802fe0",
   "metadata": {},
   "outputs": [],
   "source": [
    "data_std=d.copy()\n",
    "Y = data_std[target] \n",
    "X = data_std.drop([target], axis=1)"
   ]
  },
  {
   "cell_type": "code",
   "execution_count": 15,
   "id": "090acf26",
   "metadata": {},
   "outputs": [
    {
     "name": "stdout",
     "output_type": "stream",
     "text": [
      "The shape of X is  (80, 76)\n",
      "-----------------------------------------------------\n",
      "The R2 for  0.0001  is  -0.8119181393232038\n",
      "The RMSE for  0.0001  is  2.8766614355167428e-08\n"
     ]
    }
   ],
   "source": [
    "ml_model=build_cv_model(X,Y,False,target)"
   ]
  },
  {
   "cell_type": "markdown",
   "id": "62ea41f3",
   "metadata": {},
   "source": [
    "### Drop correlated features"
   ]
  },
  {
   "cell_type": "code",
   "execution_count": 16,
   "id": "26950d24",
   "metadata": {},
   "outputs": [
    {
     "name": "stdout",
     "output_type": "stream",
     "text": [
      "The shape of X is  (80, 50)\n",
      "-----------------------------------------------------\n",
      "The R2 for  0.0001  is  -0.8119181393232038\n",
      "The RMSE for  0.0001  is  2.8766614355167428e-08\n"
     ]
    }
   ],
   "source": [
    "ml_model_prime=build_cv_model(X,Y,True,target)"
   ]
  },
  {
   "cell_type": "markdown",
   "id": "f0b36718",
   "metadata": {},
   "source": [
    "### Feature elimination"
   ]
  },
  {
   "cell_type": "code",
   "execution_count": 17,
   "id": "a6b5dd6b",
   "metadata": {},
   "outputs": [
    {
     "name": "stdout",
     "output_type": "stream",
     "text": [
      "     Feature       Score\n",
      "0        s_A   56.272893\n",
      "1        s_B   51.629862\n",
      "2        s_X   97.521570\n",
      "3    density    1.587649\n",
      "4   mean_A2B  135.546281\n",
      "5   mean_A2X   54.501373\n",
      "6   mean_B2X    0.133049\n",
      "7   mean_X2X   77.101385\n",
      "8    std_A2B    6.331587\n",
      "9    std_A2X   19.689607\n",
      "10   std_B2X   13.447665\n",
      "11   std_X2X    3.078784\n",
      "12     E_coh   36.615505\n",
      "13        TF    1.134618\n",
      "14        OF    9.747189\n",
      "15       A_Z   13.107769\n",
      "16       B_Z    9.046251\n",
      "17       X_Z   87.153415\n",
      "18       A_G    5.190708\n",
      "19       B_G    1.023577\n",
      "20     A_IEI   41.774757\n",
      "21     B_IEI    1.145381\n",
      "22     X_IEI    5.135719\n",
      "23    A_IEII    0.027469\n",
      "24    B_IEII    1.235456\n",
      "25    X_IEII   19.320300\n",
      "26      A_EA   12.189494\n",
      "27      B_EA    3.297773\n",
      "28      X_EA   87.903070\n",
      "29    A_ChiP   18.434576\n",
      "30    B_ChiP    1.889334\n",
      "31    A_ChiA   21.738026\n",
      "32    X_ChiA    7.287500\n",
      "33    A_Rvdw   64.765740\n",
      "34      B_Ra   10.925759\n",
      "35      X_Ra   88.664521\n",
      "36      B_MP   15.078645\n",
      "37      A_BP   14.590560\n",
      "38     A_Rho    1.556167\n",
      "39     B_Rho    3.339847\n",
      "40      B_MV    5.917000\n",
      "41      X_MV    5.412506\n",
      "42      B_Hf   18.855125\n",
      "43   A_Kappa    8.888579\n",
      "44   B_Kappa    7.588177\n",
      "45   X_Kappa   12.936079\n",
      "46     A_CvM    9.336114\n",
      "47     B_CvM    3.125268\n",
      "48       A_B    5.989468\n",
      "49       B_B    0.047541\n",
      "-----------------------------------------------------\n",
      "The shape of X is  (80, 40)\n",
      "-----------------------------------------------------\n",
      "The R2 for  0.0001  is  -0.8119181393232038\n",
      "The RMSE for  0.0001  is  2.8766614355167428e-08\n",
      "-----------------------------------------------------\n",
      "The R2 is  -0.8119181393232038\n",
      "The RMSE is  2.8766614355167428e-08\n"
     ]
    }
   ],
   "source": [
    "X=feature_elimination(X,Y,40,ml_model_prime,method='skb')\n",
    "ml_model=build_cv_model(X,Y,False,target)\n",
    "run_model(X,Y,ml_model_prime,target)"
   ]
  },
  {
   "cell_type": "code",
   "execution_count": 18,
   "id": "f4c14a2c",
   "metadata": {},
   "outputs": [
    {
     "name": "stdout",
     "output_type": "stream",
     "text": [
      "     Feature       Score\n",
      "0   mean_A2B  135.546281\n",
      "1        s_X   97.521570\n",
      "2       X_Ra   88.664521\n",
      "3       X_EA   87.903070\n",
      "4        X_Z   87.153415\n",
      "5   mean_X2X   77.101385\n",
      "6     A_Rvdw   64.765740\n",
      "7        s_A   56.272893\n",
      "8   mean_A2X   54.501373\n",
      "9        s_B   51.629862\n",
      "10     A_IEI   41.774757\n",
      "11     E_coh   36.615505\n",
      "12    A_ChiA   21.738026\n",
      "13   std_A2X   19.689607\n",
      "14    X_IEII   19.320300\n",
      "15      B_Hf   18.855125\n",
      "16    A_ChiP   18.434576\n",
      "17      B_MP   15.078645\n",
      "18      A_BP   14.590560\n",
      "19   std_B2X   13.447665\n",
      "20       A_Z   13.107769\n",
      "21   X_Kappa   12.936079\n",
      "22      A_EA   12.189494\n",
      "23      B_Ra   10.925759\n",
      "24        OF    9.747189\n",
      "25     A_CvM    9.336114\n",
      "26       B_Z    9.046251\n",
      "27   A_Kappa    8.888579\n",
      "28   B_Kappa    7.588177\n",
      "29    X_ChiA    7.287500\n",
      "30   std_A2B    6.331587\n",
      "31       A_B    5.989468\n",
      "32      B_MV    5.917000\n",
      "33      X_MV    5.412506\n",
      "34       A_G    5.190708\n",
      "35     X_IEI    5.135719\n",
      "36     B_Rho    3.339847\n",
      "37      B_EA    3.297773\n",
      "38     B_CvM    3.125268\n",
      "39   std_X2X    3.078784\n",
      "-----------------------------------------------------\n",
      "The shape of X is  (80, 30)\n",
      "-----------------------------------------------------\n",
      "The R2 for  0.0001  is  -0.8119181393232038\n",
      "The RMSE for  0.0001  is  2.8766614355167428e-08\n",
      "-----------------------------------------------------\n",
      "The R2 is  -0.8119181393232038\n",
      "The RMSE is  2.8766614355167428e-08\n"
     ]
    }
   ],
   "source": [
    "X=feature_elimination(X,Y,30,ml_model,method='skb')\n",
    "ml_model=build_cv_model(X,Y,False,target)\n",
    "run_model(X,Y,ml_model_prime,target)"
   ]
  },
  {
   "cell_type": "code",
   "execution_count": 19,
   "id": "43be0df3",
   "metadata": {},
   "outputs": [
    {
     "name": "stdout",
     "output_type": "stream",
     "text": [
      "     Feature       Score\n",
      "0   mean_A2B  135.546281\n",
      "1        s_X   97.521570\n",
      "2       X_Ra   88.664521\n",
      "3       X_EA   87.903070\n",
      "4        X_Z   87.153415\n",
      "5   mean_X2X   77.101385\n",
      "6     A_Rvdw   64.765740\n",
      "7        s_A   56.272893\n",
      "8   mean_A2X   54.501373\n",
      "9        s_B   51.629862\n",
      "10     A_IEI   41.774757\n",
      "11     E_coh   36.615505\n",
      "12    A_ChiA   21.738026\n",
      "13   std_A2X   19.689607\n",
      "14    X_IEII   19.320300\n",
      "15      B_Hf   18.855125\n",
      "16    A_ChiP   18.434576\n",
      "17      B_MP   15.078645\n",
      "18      A_BP   14.590560\n",
      "19   std_B2X   13.447665\n",
      "20       A_Z   13.107769\n",
      "21   X_Kappa   12.936079\n",
      "22      A_EA   12.189494\n",
      "23      B_Ra   10.925759\n",
      "24        OF    9.747189\n",
      "25     A_CvM    9.336114\n",
      "26       B_Z    9.046251\n",
      "27   A_Kappa    8.888579\n",
      "28   B_Kappa    7.588177\n",
      "29    X_ChiA    7.287500\n",
      "-----------------------------------------------------\n",
      "The shape of X is  (80, 20)\n",
      "-----------------------------------------------------\n",
      "The R2 for  0.0001  is  -0.8119181393232038\n",
      "The RMSE for  0.0001  is  2.8766614355167428e-08\n",
      "-----------------------------------------------------\n",
      "The R2 is  -0.8119181393232038\n",
      "The RMSE is  2.8766614355167428e-08\n"
     ]
    }
   ],
   "source": [
    "X=feature_elimination(X,Y,20,ml_model,method='skb')\n",
    "ml_model=build_cv_model(X,Y,False,target)\n",
    "run_model(X,Y,ml_model_prime,target)"
   ]
  },
  {
   "cell_type": "code",
   "execution_count": 20,
   "id": "ba87d76e",
   "metadata": {},
   "outputs": [
    {
     "name": "stdout",
     "output_type": "stream",
     "text": [
      "     Feature       Score\n",
      "0   mean_A2B  135.546281\n",
      "1        s_X   97.521570\n",
      "2       X_Ra   88.664521\n",
      "3       X_EA   87.903070\n",
      "4        X_Z   87.153415\n",
      "5   mean_X2X   77.101385\n",
      "6     A_Rvdw   64.765740\n",
      "7        s_A   56.272893\n",
      "8   mean_A2X   54.501373\n",
      "9        s_B   51.629862\n",
      "10     A_IEI   41.774757\n",
      "11     E_coh   36.615505\n",
      "12    A_ChiA   21.738026\n",
      "13   std_A2X   19.689607\n",
      "14    X_IEII   19.320300\n",
      "15      B_Hf   18.855125\n",
      "16    A_ChiP   18.434576\n",
      "17      B_MP   15.078645\n",
      "18      A_BP   14.590560\n",
      "19   std_B2X   13.447665\n",
      "-----------------------------------------------------\n",
      "The shape of X is  (80, 10)\n",
      "-----------------------------------------------------\n",
      "The R2 for  0.0001  is  -0.8119181393232038\n",
      "The RMSE for  0.0001  is  2.8766614355167428e-08\n",
      "-----------------------------------------------------\n",
      "The R2 is  -0.8119181393232038\n",
      "The RMSE is  2.8766614355167428e-08\n"
     ]
    }
   ],
   "source": [
    "X=feature_elimination(X,Y,10,ml_model,method='skb')\n",
    "ml_model=build_cv_model(X,Y,False,target)\n",
    "run_model(X,Y,ml_model_prime,target)"
   ]
  },
  {
   "cell_type": "markdown",
   "id": "d6598f01",
   "metadata": {},
   "source": [
    "## Standard scaling"
   ]
  },
  {
   "cell_type": "code",
   "execution_count": 21,
   "id": "418a5638",
   "metadata": {},
   "outputs": [
    {
     "name": "stdout",
     "output_type": "stream",
     "text": [
      "The shape of X is  (80, 76)\n",
      "-----------------------------------------------------\n",
      "The R2 for  0.05  is  0.5312744098945876\n",
      "The RMSE for  0.05  is  0.4448090765585718\n"
     ]
    },
    {
     "name": "stderr",
     "output_type": "stream",
     "text": [
      "/Users/krishnarajmayya/opt/anaconda3/lib/python3.9/site-packages/sklearn/linear_model/_coordinate_descent.py:647: ConvergenceWarning: Objective did not converge. You might want to increase the number of iterations, check the scale of the features or consider increasing regularisation. Duality gap: 2.672e-01, tolerance: 6.360e-03\n",
      "  model = cd_fast.enet_coordinate_descent(\n",
      "/Users/krishnarajmayya/opt/anaconda3/lib/python3.9/site-packages/sklearn/linear_model/_coordinate_descent.py:647: ConvergenceWarning: Objective did not converge. You might want to increase the number of iterations, check the scale of the features or consider increasing regularisation. Duality gap: 1.999e-01, tolerance: 6.887e-03\n",
      "  model = cd_fast.enet_coordinate_descent(\n",
      "/Users/krishnarajmayya/opt/anaconda3/lib/python3.9/site-packages/sklearn/linear_model/_coordinate_descent.py:647: ConvergenceWarning: Objective did not converge. You might want to increase the number of iterations, check the scale of the features or consider increasing regularisation. Duality gap: 1.852e-01, tolerance: 5.861e-03\n",
      "  model = cd_fast.enet_coordinate_descent(\n",
      "/Users/krishnarajmayya/opt/anaconda3/lib/python3.9/site-packages/sklearn/linear_model/_coordinate_descent.py:647: ConvergenceWarning: Objective did not converge. You might want to increase the number of iterations, check the scale of the features or consider increasing regularisation. Duality gap: 1.778e-01, tolerance: 6.144e-03\n",
      "  model = cd_fast.enet_coordinate_descent(\n",
      "/Users/krishnarajmayya/opt/anaconda3/lib/python3.9/site-packages/sklearn/linear_model/_coordinate_descent.py:647: ConvergenceWarning: Objective did not converge. You might want to increase the number of iterations, check the scale of the features or consider increasing regularisation. Duality gap: 2.471e-01, tolerance: 6.731e-03\n",
      "  model = cd_fast.enet_coordinate_descent(\n",
      "/Users/krishnarajmayya/opt/anaconda3/lib/python3.9/site-packages/sklearn/linear_model/_coordinate_descent.py:647: ConvergenceWarning: Objective did not converge. You might want to increase the number of iterations, check the scale of the features or consider increasing regularisation. Duality gap: 2.266e-01, tolerance: 6.360e-03\n",
      "  model = cd_fast.enet_coordinate_descent(\n",
      "/Users/krishnarajmayya/opt/anaconda3/lib/python3.9/site-packages/sklearn/linear_model/_coordinate_descent.py:647: ConvergenceWarning: Objective did not converge. You might want to increase the number of iterations, check the scale of the features or consider increasing regularisation. Duality gap: 1.988e-01, tolerance: 6.887e-03\n",
      "  model = cd_fast.enet_coordinate_descent(\n",
      "/Users/krishnarajmayya/opt/anaconda3/lib/python3.9/site-packages/sklearn/linear_model/_coordinate_descent.py:647: ConvergenceWarning: Objective did not converge. You might want to increase the number of iterations, check the scale of the features or consider increasing regularisation. Duality gap: 1.101e-01, tolerance: 5.861e-03\n",
      "  model = cd_fast.enet_coordinate_descent(\n",
      "/Users/krishnarajmayya/opt/anaconda3/lib/python3.9/site-packages/sklearn/linear_model/_coordinate_descent.py:647: ConvergenceWarning: Objective did not converge. You might want to increase the number of iterations, check the scale of the features or consider increasing regularisation. Duality gap: 1.548e-01, tolerance: 6.144e-03\n",
      "  model = cd_fast.enet_coordinate_descent(\n",
      "/Users/krishnarajmayya/opt/anaconda3/lib/python3.9/site-packages/sklearn/linear_model/_coordinate_descent.py:647: ConvergenceWarning: Objective did not converge. You might want to increase the number of iterations, check the scale of the features or consider increasing regularisation. Duality gap: 2.124e-01, tolerance: 6.731e-03\n",
      "  model = cd_fast.enet_coordinate_descent(\n",
      "/Users/krishnarajmayya/opt/anaconda3/lib/python3.9/site-packages/sklearn/linear_model/_coordinate_descent.py:647: ConvergenceWarning: Objective did not converge. You might want to increase the number of iterations, check the scale of the features or consider increasing regularisation. Duality gap: 1.551e-01, tolerance: 6.360e-03\n",
      "  model = cd_fast.enet_coordinate_descent(\n",
      "/Users/krishnarajmayya/opt/anaconda3/lib/python3.9/site-packages/sklearn/linear_model/_coordinate_descent.py:647: ConvergenceWarning: Objective did not converge. You might want to increase the number of iterations, check the scale of the features or consider increasing regularisation. Duality gap: 9.826e-02, tolerance: 6.887e-03\n",
      "  model = cd_fast.enet_coordinate_descent(\n",
      "/Users/krishnarajmayya/opt/anaconda3/lib/python3.9/site-packages/sklearn/linear_model/_coordinate_descent.py:647: ConvergenceWarning: Objective did not converge. You might want to increase the number of iterations, check the scale of the features or consider increasing regularisation. Duality gap: 8.104e-03, tolerance: 5.861e-03\n",
      "  model = cd_fast.enet_coordinate_descent(\n",
      "/Users/krishnarajmayya/opt/anaconda3/lib/python3.9/site-packages/sklearn/linear_model/_coordinate_descent.py:647: ConvergenceWarning: Objective did not converge. You might want to increase the number of iterations, check the scale of the features or consider increasing regularisation. Duality gap: 1.370e-01, tolerance: 6.144e-03\n",
      "  model = cd_fast.enet_coordinate_descent(\n",
      "/Users/krishnarajmayya/opt/anaconda3/lib/python3.9/site-packages/sklearn/linear_model/_coordinate_descent.py:647: ConvergenceWarning: Objective did not converge. You might want to increase the number of iterations, check the scale of the features or consider increasing regularisation. Duality gap: 4.361e-02, tolerance: 6.731e-03\n",
      "  model = cd_fast.enet_coordinate_descent(\n",
      "/Users/krishnarajmayya/opt/anaconda3/lib/python3.9/site-packages/sklearn/linear_model/_coordinate_descent.py:647: ConvergenceWarning: Objective did not converge. You might want to increase the number of iterations, check the scale of the features or consider increasing regularisation. Duality gap: 1.990e-02, tolerance: 6.887e-03\n",
      "  model = cd_fast.enet_coordinate_descent(\n",
      "/Users/krishnarajmayya/opt/anaconda3/lib/python3.9/site-packages/sklearn/linear_model/_coordinate_descent.py:647: ConvergenceWarning: Objective did not converge. You might want to increase the number of iterations, check the scale of the features or consider increasing regularisation. Duality gap: 9.486e-03, tolerance: 6.144e-03\n",
      "  model = cd_fast.enet_coordinate_descent(\n",
      "/Users/krishnarajmayya/opt/anaconda3/lib/python3.9/site-packages/sklearn/linear_model/_coordinate_descent.py:647: ConvergenceWarning: Objective did not converge. You might want to increase the number of iterations, check the scale of the features or consider increasing regularisation. Duality gap: 6.948e-02, tolerance: 6.731e-03\n",
      "  model = cd_fast.enet_coordinate_descent(\n",
      "/Users/krishnarajmayya/opt/anaconda3/lib/python3.9/site-packages/sklearn/linear_model/_coordinate_descent.py:647: ConvergenceWarning: Objective did not converge. You might want to increase the number of iterations, check the scale of the features or consider increasing regularisation. Duality gap: 9.990e-03, tolerance: 6.144e-03\n",
      "  model = cd_fast.enet_coordinate_descent(\n"
     ]
    }
   ],
   "source": [
    "X,Y = standard_scaling(target)\n",
    "ml_model=build_cv_model(X,Y,False,target)"
   ]
  },
  {
   "cell_type": "markdown",
   "id": "2140e933",
   "metadata": {},
   "source": [
    "### Drop correlated features"
   ]
  },
  {
   "cell_type": "code",
   "execution_count": 22,
   "id": "e4732e80",
   "metadata": {},
   "outputs": [
    {
     "name": "stderr",
     "output_type": "stream",
     "text": [
      "/Users/krishnarajmayya/opt/anaconda3/lib/python3.9/site-packages/sklearn/linear_model/_coordinate_descent.py:647: ConvergenceWarning: Objective did not converge. You might want to increase the number of iterations, check the scale of the features or consider increasing regularisation. Duality gap: 4.628e-01, tolerance: 6.360e-03\n",
      "  model = cd_fast.enet_coordinate_descent(\n"
     ]
    },
    {
     "name": "stdout",
     "output_type": "stream",
     "text": [
      "The shape of X is  (80, 50)\n",
      "-----------------------------------------------------\n",
      "The R2 for  0.02  is  0.5804911911540125\n",
      "The RMSE for  0.02  is  0.4224796030819615\n"
     ]
    },
    {
     "name": "stderr",
     "output_type": "stream",
     "text": [
      "/Users/krishnarajmayya/opt/anaconda3/lib/python3.9/site-packages/sklearn/linear_model/_coordinate_descent.py:647: ConvergenceWarning: Objective did not converge. You might want to increase the number of iterations, check the scale of the features or consider increasing regularisation. Duality gap: 3.281e-01, tolerance: 6.887e-03\n",
      "  model = cd_fast.enet_coordinate_descent(\n",
      "/Users/krishnarajmayya/opt/anaconda3/lib/python3.9/site-packages/sklearn/linear_model/_coordinate_descent.py:647: ConvergenceWarning: Objective did not converge. You might want to increase the number of iterations, check the scale of the features or consider increasing regularisation. Duality gap: 2.049e-01, tolerance: 5.861e-03\n",
      "  model = cd_fast.enet_coordinate_descent(\n",
      "/Users/krishnarajmayya/opt/anaconda3/lib/python3.9/site-packages/sklearn/linear_model/_coordinate_descent.py:647: ConvergenceWarning: Objective did not converge. You might want to increase the number of iterations, check the scale of the features or consider increasing regularisation. Duality gap: 3.155e-01, tolerance: 6.144e-03\n",
      "  model = cd_fast.enet_coordinate_descent(\n",
      "/Users/krishnarajmayya/opt/anaconda3/lib/python3.9/site-packages/sklearn/linear_model/_coordinate_descent.py:647: ConvergenceWarning: Objective did not converge. You might want to increase the number of iterations, check the scale of the features or consider increasing regularisation. Duality gap: 4.186e-01, tolerance: 6.731e-03\n",
      "  model = cd_fast.enet_coordinate_descent(\n",
      "/Users/krishnarajmayya/opt/anaconda3/lib/python3.9/site-packages/sklearn/linear_model/_coordinate_descent.py:647: ConvergenceWarning: Objective did not converge. You might want to increase the number of iterations, check the scale of the features or consider increasing regularisation. Duality gap: 8.406e-02, tolerance: 6.360e-03\n",
      "  model = cd_fast.enet_coordinate_descent(\n",
      "/Users/krishnarajmayya/opt/anaconda3/lib/python3.9/site-packages/sklearn/linear_model/_coordinate_descent.py:647: ConvergenceWarning: Objective did not converge. You might want to increase the number of iterations, check the scale of the features or consider increasing regularisation. Duality gap: 3.472e-01, tolerance: 6.887e-03\n",
      "  model = cd_fast.enet_coordinate_descent(\n",
      "/Users/krishnarajmayya/opt/anaconda3/lib/python3.9/site-packages/sklearn/linear_model/_coordinate_descent.py:647: ConvergenceWarning: Objective did not converge. You might want to increase the number of iterations, check the scale of the features or consider increasing regularisation. Duality gap: 8.475e-02, tolerance: 5.861e-03\n",
      "  model = cd_fast.enet_coordinate_descent(\n",
      "/Users/krishnarajmayya/opt/anaconda3/lib/python3.9/site-packages/sklearn/linear_model/_coordinate_descent.py:647: ConvergenceWarning: Objective did not converge. You might want to increase the number of iterations, check the scale of the features or consider increasing regularisation. Duality gap: 8.953e-02, tolerance: 6.144e-03\n",
      "  model = cd_fast.enet_coordinate_descent(\n",
      "/Users/krishnarajmayya/opt/anaconda3/lib/python3.9/site-packages/sklearn/linear_model/_coordinate_descent.py:647: ConvergenceWarning: Objective did not converge. You might want to increase the number of iterations, check the scale of the features or consider increasing regularisation. Duality gap: 3.403e-01, tolerance: 6.731e-03\n",
      "  model = cd_fast.enet_coordinate_descent(\n",
      "/Users/krishnarajmayya/opt/anaconda3/lib/python3.9/site-packages/sklearn/linear_model/_coordinate_descent.py:647: ConvergenceWarning: Objective did not converge. You might want to increase the number of iterations, check the scale of the features or consider increasing regularisation. Duality gap: 3.856e-02, tolerance: 6.360e-03\n",
      "  model = cd_fast.enet_coordinate_descent(\n",
      "/Users/krishnarajmayya/opt/anaconda3/lib/python3.9/site-packages/sklearn/linear_model/_coordinate_descent.py:647: ConvergenceWarning: Objective did not converge. You might want to increase the number of iterations, check the scale of the features or consider increasing regularisation. Duality gap: 5.716e-02, tolerance: 6.887e-03\n",
      "  model = cd_fast.enet_coordinate_descent(\n",
      "/Users/krishnarajmayya/opt/anaconda3/lib/python3.9/site-packages/sklearn/linear_model/_coordinate_descent.py:647: ConvergenceWarning: Objective did not converge. You might want to increase the number of iterations, check the scale of the features or consider increasing regularisation. Duality gap: 9.447e-03, tolerance: 5.861e-03\n",
      "  model = cd_fast.enet_coordinate_descent(\n",
      "/Users/krishnarajmayya/opt/anaconda3/lib/python3.9/site-packages/sklearn/linear_model/_coordinate_descent.py:647: ConvergenceWarning: Objective did not converge. You might want to increase the number of iterations, check the scale of the features or consider increasing regularisation. Duality gap: 1.364e-02, tolerance: 6.144e-03\n",
      "  model = cd_fast.enet_coordinate_descent(\n",
      "/Users/krishnarajmayya/opt/anaconda3/lib/python3.9/site-packages/sklearn/linear_model/_coordinate_descent.py:647: ConvergenceWarning: Objective did not converge. You might want to increase the number of iterations, check the scale of the features or consider increasing regularisation. Duality gap: 1.763e-01, tolerance: 6.731e-03\n",
      "  model = cd_fast.enet_coordinate_descent(\n"
     ]
    }
   ],
   "source": [
    "ml_model_prime=build_cv_model(X,Y,True,target)"
   ]
  },
  {
   "cell_type": "markdown",
   "id": "5da0961f",
   "metadata": {},
   "source": [
    "### Feature elimination"
   ]
  },
  {
   "cell_type": "code",
   "execution_count": 23,
   "id": "a53db140",
   "metadata": {},
   "outputs": [
    {
     "name": "stdout",
     "output_type": "stream",
     "text": [
      "     Feature       Score\n",
      "0        s_A   56.272893\n",
      "1        s_B   51.629862\n",
      "2        s_X   97.521570\n",
      "3    density    1.587649\n",
      "4   mean_A2B  135.546281\n",
      "5   mean_A2X   54.501373\n",
      "6   mean_B2X    0.133049\n",
      "7   mean_X2X   77.101385\n",
      "8    std_A2B    6.331587\n",
      "9    std_A2X   19.689607\n",
      "10   std_B2X   13.447665\n",
      "11   std_X2X    3.078784\n",
      "12     E_coh   36.615505\n",
      "13        TF    1.134618\n",
      "14        OF    9.747189\n",
      "15       A_Z   13.107769\n",
      "16       B_Z    9.046251\n",
      "17       X_Z   87.153415\n",
      "18       A_G    5.190708\n",
      "19       B_G    1.023577\n",
      "20     A_IEI   41.774757\n",
      "21     B_IEI    1.145381\n",
      "22     X_IEI    5.135719\n",
      "23    A_IEII    0.027469\n",
      "24    B_IEII    1.235456\n",
      "25    X_IEII   19.320300\n",
      "26      A_EA   12.189494\n",
      "27      B_EA    3.297773\n",
      "28      X_EA   87.903070\n",
      "29    A_ChiP   18.434576\n",
      "30    B_ChiP    1.889334\n",
      "31    A_ChiA   21.738026\n",
      "32    X_ChiA    7.287500\n",
      "33    A_Rvdw   64.765740\n",
      "34      B_Ra   10.925759\n",
      "35      X_Ra   88.664521\n",
      "36      B_MP   15.078645\n",
      "37      A_BP   14.590560\n",
      "38     A_Rho    1.556167\n",
      "39     B_Rho    3.339847\n",
      "40      B_MV    5.917000\n",
      "41      X_MV    5.412506\n",
      "42      B_Hf   18.855125\n",
      "43   A_Kappa    8.888579\n",
      "44   B_Kappa    7.588177\n",
      "45   X_Kappa   12.936079\n",
      "46     A_CvM    9.336114\n",
      "47     B_CvM    3.125268\n",
      "48       A_B    5.989468\n",
      "49       B_B    0.047541\n",
      "-----------------------------------------------------\n",
      "The shape of X is  (80, 40)\n"
     ]
    },
    {
     "name": "stderr",
     "output_type": "stream",
     "text": [
      "/Users/krishnarajmayya/opt/anaconda3/lib/python3.9/site-packages/sklearn/linear_model/_coordinate_descent.py:647: ConvergenceWarning: Objective did not converge. You might want to increase the number of iterations, check the scale of the features or consider increasing regularisation. Duality gap: 7.761e-01, tolerance: 6.360e-03\n",
      "  model = cd_fast.enet_coordinate_descent(\n",
      "/Users/krishnarajmayya/opt/anaconda3/lib/python3.9/site-packages/sklearn/linear_model/_coordinate_descent.py:647: ConvergenceWarning: Objective did not converge. You might want to increase the number of iterations, check the scale of the features or consider increasing regularisation. Duality gap: 5.311e-01, tolerance: 6.887e-03\n",
      "  model = cd_fast.enet_coordinate_descent(\n",
      "/Users/krishnarajmayya/opt/anaconda3/lib/python3.9/site-packages/sklearn/linear_model/_coordinate_descent.py:647: ConvergenceWarning: Objective did not converge. You might want to increase the number of iterations, check the scale of the features or consider increasing regularisation. Duality gap: 4.480e-01, tolerance: 5.861e-03\n",
      "  model = cd_fast.enet_coordinate_descent(\n",
      "/Users/krishnarajmayya/opt/anaconda3/lib/python3.9/site-packages/sklearn/linear_model/_coordinate_descent.py:647: ConvergenceWarning: Objective did not converge. You might want to increase the number of iterations, check the scale of the features or consider increasing regularisation. Duality gap: 6.866e-01, tolerance: 6.144e-03\n",
      "  model = cd_fast.enet_coordinate_descent(\n",
      "/Users/krishnarajmayya/opt/anaconda3/lib/python3.9/site-packages/sklearn/linear_model/_coordinate_descent.py:647: ConvergenceWarning: Objective did not converge. You might want to increase the number of iterations, check the scale of the features or consider increasing regularisation. Duality gap: 1.139e+00, tolerance: 6.731e-03\n",
      "  model = cd_fast.enet_coordinate_descent(\n",
      "/Users/krishnarajmayya/opt/anaconda3/lib/python3.9/site-packages/sklearn/linear_model/_coordinate_descent.py:647: ConvergenceWarning: Objective did not converge. You might want to increase the number of iterations, check the scale of the features or consider increasing regularisation. Duality gap: 2.663e-01, tolerance: 6.360e-03\n",
      "  model = cd_fast.enet_coordinate_descent(\n",
      "/Users/krishnarajmayya/opt/anaconda3/lib/python3.9/site-packages/sklearn/linear_model/_coordinate_descent.py:647: ConvergenceWarning: Objective did not converge. You might want to increase the number of iterations, check the scale of the features or consider increasing regularisation. Duality gap: 1.501e-01, tolerance: 6.887e-03\n",
      "  model = cd_fast.enet_coordinate_descent(\n",
      "/Users/krishnarajmayya/opt/anaconda3/lib/python3.9/site-packages/sklearn/linear_model/_coordinate_descent.py:647: ConvergenceWarning: Objective did not converge. You might want to increase the number of iterations, check the scale of the features or consider increasing regularisation. Duality gap: 4.715e-02, tolerance: 5.861e-03\n",
      "  model = cd_fast.enet_coordinate_descent(\n",
      "/Users/krishnarajmayya/opt/anaconda3/lib/python3.9/site-packages/sklearn/linear_model/_coordinate_descent.py:647: ConvergenceWarning: Objective did not converge. You might want to increase the number of iterations, check the scale of the features or consider increasing regularisation. Duality gap: 3.483e-01, tolerance: 6.144e-03\n",
      "  model = cd_fast.enet_coordinate_descent(\n",
      "/Users/krishnarajmayya/opt/anaconda3/lib/python3.9/site-packages/sklearn/linear_model/_coordinate_descent.py:647: ConvergenceWarning: Objective did not converge. You might want to increase the number of iterations, check the scale of the features or consider increasing regularisation. Duality gap: 3.090e-01, tolerance: 6.731e-03\n",
      "  model = cd_fast.enet_coordinate_descent(\n",
      "/Users/krishnarajmayya/opt/anaconda3/lib/python3.9/site-packages/sklearn/linear_model/_coordinate_descent.py:647: ConvergenceWarning: Objective did not converge. You might want to increase the number of iterations, check the scale of the features or consider increasing regularisation. Duality gap: 1.957e-01, tolerance: 6.887e-03\n",
      "  model = cd_fast.enet_coordinate_descent(\n",
      "/Users/krishnarajmayya/opt/anaconda3/lib/python3.9/site-packages/sklearn/linear_model/_coordinate_descent.py:647: ConvergenceWarning: Objective did not converge. You might want to increase the number of iterations, check the scale of the features or consider increasing regularisation. Duality gap: 8.952e-02, tolerance: 6.144e-03\n",
      "  model = cd_fast.enet_coordinate_descent(\n"
     ]
    },
    {
     "name": "stdout",
     "output_type": "stream",
     "text": [
      "-----------------------------------------------------\n",
      "The R2 for  0.02  is  0.5896437499847982\n",
      "The RMSE for  0.02  is  0.41181081173083206\n",
      "-----------------------------------------------------\n",
      "The R2 is  0.5896437499847982\n",
      "The RMSE is  0.41181081173083206\n"
     ]
    }
   ],
   "source": [
    "X=feature_elimination(X,Y,40,ml_model_prime,method='skb')\n",
    "ml_model=build_cv_model(X,Y,False,target)\n",
    "run_model(X,Y,ml_model_prime,target)"
   ]
  },
  {
   "cell_type": "code",
   "execution_count": 24,
   "id": "44657d0f",
   "metadata": {},
   "outputs": [
    {
     "name": "stdout",
     "output_type": "stream",
     "text": [
      "     Feature       Score\n",
      "0   mean_A2B  135.546281\n",
      "1        s_X   97.521570\n",
      "2       X_Ra   88.664521\n",
      "3       X_EA   87.903070\n",
      "4        X_Z   87.153415\n",
      "5   mean_X2X   77.101385\n",
      "6     A_Rvdw   64.765740\n",
      "7        s_A   56.272893\n",
      "8   mean_A2X   54.501373\n",
      "9        s_B   51.629862\n",
      "10     A_IEI   41.774757\n",
      "11     E_coh   36.615505\n",
      "12    A_ChiA   21.738026\n",
      "13   std_A2X   19.689607\n",
      "14    X_IEII   19.320300\n",
      "15      B_Hf   18.855125\n",
      "16    A_ChiP   18.434576\n",
      "17      B_MP   15.078645\n",
      "18      A_BP   14.590560\n",
      "19   std_B2X   13.447665\n",
      "20       A_Z   13.107769\n",
      "21   X_Kappa   12.936079\n",
      "22      A_EA   12.189494\n",
      "23      B_Ra   10.925759\n",
      "24        OF    9.747189\n",
      "25     A_CvM    9.336114\n",
      "26       B_Z    9.046251\n",
      "27   A_Kappa    8.888579\n",
      "28   B_Kappa    7.588177\n",
      "29    X_ChiA    7.287500\n",
      "30   std_A2B    6.331587\n",
      "31       A_B    5.989468\n",
      "32      B_MV    5.917000\n",
      "33      X_MV    5.412506\n",
      "34       A_G    5.190708\n",
      "35     X_IEI    5.135719\n",
      "36     B_Rho    3.339847\n",
      "37      B_EA    3.297773\n",
      "38     B_CvM    3.125268\n",
      "39   std_X2X    3.078784\n",
      "-----------------------------------------------------\n",
      "The shape of X is  (80, 30)\n",
      "-----------------------------------------------------\n",
      "The R2 for  0.02  is  0.5551344731743447\n",
      "The RMSE for  0.02  is  0.41114022934374367\n",
      "-----------------------------------------------------\n",
      "The R2 is  0.5551344731743447\n",
      "The RMSE is  0.41114022934374367\n"
     ]
    },
    {
     "name": "stderr",
     "output_type": "stream",
     "text": [
      "/Users/krishnarajmayya/opt/anaconda3/lib/python3.9/site-packages/sklearn/linear_model/_coordinate_descent.py:647: ConvergenceWarning: Objective did not converge. You might want to increase the number of iterations, check the scale of the features or consider increasing regularisation. Duality gap: 1.294e+00, tolerance: 6.360e-03\n",
      "  model = cd_fast.enet_coordinate_descent(\n",
      "/Users/krishnarajmayya/opt/anaconda3/lib/python3.9/site-packages/sklearn/linear_model/_coordinate_descent.py:647: ConvergenceWarning: Objective did not converge. You might want to increase the number of iterations, check the scale of the features or consider increasing regularisation. Duality gap: 8.892e-01, tolerance: 6.887e-03\n",
      "  model = cd_fast.enet_coordinate_descent(\n",
      "/Users/krishnarajmayya/opt/anaconda3/lib/python3.9/site-packages/sklearn/linear_model/_coordinate_descent.py:647: ConvergenceWarning: Objective did not converge. You might want to increase the number of iterations, check the scale of the features or consider increasing regularisation. Duality gap: 6.888e-01, tolerance: 5.861e-03\n",
      "  model = cd_fast.enet_coordinate_descent(\n",
      "/Users/krishnarajmayya/opt/anaconda3/lib/python3.9/site-packages/sklearn/linear_model/_coordinate_descent.py:647: ConvergenceWarning: Objective did not converge. You might want to increase the number of iterations, check the scale of the features or consider increasing regularisation. Duality gap: 1.177e+00, tolerance: 6.144e-03\n",
      "  model = cd_fast.enet_coordinate_descent(\n",
      "/Users/krishnarajmayya/opt/anaconda3/lib/python3.9/site-packages/sklearn/linear_model/_coordinate_descent.py:647: ConvergenceWarning: Objective did not converge. You might want to increase the number of iterations, check the scale of the features or consider increasing regularisation. Duality gap: 1.846e+00, tolerance: 6.731e-03\n",
      "  model = cd_fast.enet_coordinate_descent(\n",
      "/Users/krishnarajmayya/opt/anaconda3/lib/python3.9/site-packages/sklearn/linear_model/_coordinate_descent.py:647: ConvergenceWarning: Objective did not converge. You might want to increase the number of iterations, check the scale of the features or consider increasing regularisation. Duality gap: 1.007e+00, tolerance: 6.360e-03\n",
      "  model = cd_fast.enet_coordinate_descent(\n",
      "/Users/krishnarajmayya/opt/anaconda3/lib/python3.9/site-packages/sklearn/linear_model/_coordinate_descent.py:647: ConvergenceWarning: Objective did not converge. You might want to increase the number of iterations, check the scale of the features or consider increasing regularisation. Duality gap: 1.780e-01, tolerance: 6.887e-03\n",
      "  model = cd_fast.enet_coordinate_descent(\n",
      "/Users/krishnarajmayya/opt/anaconda3/lib/python3.9/site-packages/sklearn/linear_model/_coordinate_descent.py:647: ConvergenceWarning: Objective did not converge. You might want to increase the number of iterations, check the scale of the features or consider increasing regularisation. Duality gap: 2.578e-01, tolerance: 5.861e-03\n",
      "  model = cd_fast.enet_coordinate_descent(\n",
      "/Users/krishnarajmayya/opt/anaconda3/lib/python3.9/site-packages/sklearn/linear_model/_coordinate_descent.py:647: ConvergenceWarning: Objective did not converge. You might want to increase the number of iterations, check the scale of the features or consider increasing regularisation. Duality gap: 4.503e-01, tolerance: 6.144e-03\n",
      "  model = cd_fast.enet_coordinate_descent(\n",
      "/Users/krishnarajmayya/opt/anaconda3/lib/python3.9/site-packages/sklearn/linear_model/_coordinate_descent.py:647: ConvergenceWarning: Objective did not converge. You might want to increase the number of iterations, check the scale of the features or consider increasing regularisation. Duality gap: 1.214e+00, tolerance: 6.731e-03\n",
      "  model = cd_fast.enet_coordinate_descent(\n",
      "/Users/krishnarajmayya/opt/anaconda3/lib/python3.9/site-packages/sklearn/linear_model/_coordinate_descent.py:647: ConvergenceWarning: Objective did not converge. You might want to increase the number of iterations, check the scale of the features or consider increasing regularisation. Duality gap: 8.552e-01, tolerance: 6.360e-03\n",
      "  model = cd_fast.enet_coordinate_descent(\n",
      "/Users/krishnarajmayya/opt/anaconda3/lib/python3.9/site-packages/sklearn/linear_model/_coordinate_descent.py:647: ConvergenceWarning: Objective did not converge. You might want to increase the number of iterations, check the scale of the features or consider increasing regularisation. Duality gap: 2.361e-02, tolerance: 6.887e-03\n",
      "  model = cd_fast.enet_coordinate_descent(\n",
      "/Users/krishnarajmayya/opt/anaconda3/lib/python3.9/site-packages/sklearn/linear_model/_coordinate_descent.py:647: ConvergenceWarning: Objective did not converge. You might want to increase the number of iterations, check the scale of the features or consider increasing regularisation. Duality gap: 1.646e-01, tolerance: 5.861e-03\n",
      "  model = cd_fast.enet_coordinate_descent(\n",
      "/Users/krishnarajmayya/opt/anaconda3/lib/python3.9/site-packages/sklearn/linear_model/_coordinate_descent.py:647: ConvergenceWarning: Objective did not converge. You might want to increase the number of iterations, check the scale of the features or consider increasing regularisation. Duality gap: 1.986e-02, tolerance: 6.144e-03\n",
      "  model = cd_fast.enet_coordinate_descent(\n",
      "/Users/krishnarajmayya/opt/anaconda3/lib/python3.9/site-packages/sklearn/linear_model/_coordinate_descent.py:647: ConvergenceWarning: Objective did not converge. You might want to increase the number of iterations, check the scale of the features or consider increasing regularisation. Duality gap: 6.796e-02, tolerance: 6.731e-03\n",
      "  model = cd_fast.enet_coordinate_descent(\n"
     ]
    }
   ],
   "source": [
    "X=feature_elimination(X,Y,30,ml_model,method='skb')\n",
    "ml_model=build_cv_model(X,Y,False,target)\n",
    "run_model(X,Y,ml_model_prime,target)"
   ]
  },
  {
   "cell_type": "code",
   "execution_count": 25,
   "id": "86bc5d14",
   "metadata": {},
   "outputs": [
    {
     "name": "stdout",
     "output_type": "stream",
     "text": [
      "     Feature       Score\n",
      "0   mean_A2B  135.546281\n",
      "1        s_X   97.521570\n",
      "2       X_Ra   88.664521\n",
      "3       X_EA   87.903070\n",
      "4        X_Z   87.153415\n",
      "5   mean_X2X   77.101385\n",
      "6     A_Rvdw   64.765740\n",
      "7        s_A   56.272893\n",
      "8   mean_A2X   54.501373\n",
      "9        s_B   51.629862\n",
      "10     A_IEI   41.774757\n",
      "11     E_coh   36.615505\n",
      "12    A_ChiA   21.738026\n",
      "13   std_A2X   19.689607\n",
      "14    X_IEII   19.320300\n",
      "15      B_Hf   18.855125\n",
      "16    A_ChiP   18.434576\n",
      "17      B_MP   15.078645\n",
      "18      A_BP   14.590560\n",
      "19   std_B2X   13.447665\n",
      "20       A_Z   13.107769\n",
      "21   X_Kappa   12.936079\n",
      "22      A_EA   12.189494\n",
      "23      B_Ra   10.925759\n",
      "24        OF    9.747189\n",
      "25     A_CvM    9.336114\n",
      "26       B_Z    9.046251\n",
      "27   A_Kappa    8.888579\n",
      "28   B_Kappa    7.588177\n",
      "29    X_ChiA    7.287500\n",
      "-----------------------------------------------------\n",
      "The shape of X is  (80, 20)\n",
      "-----------------------------------------------------\n",
      "The R2 for  0.02  is  0.5357493707025958\n",
      "The RMSE for  0.02  is  0.4062980784752884\n",
      "-----------------------------------------------------\n",
      "The R2 is  0.5357493707025958\n",
      "The RMSE is  0.4062980784752884\n"
     ]
    },
    {
     "name": "stderr",
     "output_type": "stream",
     "text": [
      "/Users/krishnarajmayya/opt/anaconda3/lib/python3.9/site-packages/sklearn/linear_model/_coordinate_descent.py:647: ConvergenceWarning: Objective did not converge. You might want to increase the number of iterations, check the scale of the features or consider increasing regularisation. Duality gap: 2.439e-01, tolerance: 6.360e-03\n",
      "  model = cd_fast.enet_coordinate_descent(\n",
      "/Users/krishnarajmayya/opt/anaconda3/lib/python3.9/site-packages/sklearn/linear_model/_coordinate_descent.py:647: ConvergenceWarning: Objective did not converge. You might want to increase the number of iterations, check the scale of the features or consider increasing regularisation. Duality gap: 1.462e-01, tolerance: 6.887e-03\n",
      "  model = cd_fast.enet_coordinate_descent(\n",
      "/Users/krishnarajmayya/opt/anaconda3/lib/python3.9/site-packages/sklearn/linear_model/_coordinate_descent.py:647: ConvergenceWarning: Objective did not converge. You might want to increase the number of iterations, check the scale of the features or consider increasing regularisation. Duality gap: 1.595e-02, tolerance: 5.861e-03\n",
      "  model = cd_fast.enet_coordinate_descent(\n",
      "/Users/krishnarajmayya/opt/anaconda3/lib/python3.9/site-packages/sklearn/linear_model/_coordinate_descent.py:647: ConvergenceWarning: Objective did not converge. You might want to increase the number of iterations, check the scale of the features or consider increasing regularisation. Duality gap: 2.349e-02, tolerance: 6.144e-03\n",
      "  model = cd_fast.enet_coordinate_descent(\n",
      "/Users/krishnarajmayya/opt/anaconda3/lib/python3.9/site-packages/sklearn/linear_model/_coordinate_descent.py:647: ConvergenceWarning: Objective did not converge. You might want to increase the number of iterations, check the scale of the features or consider increasing regularisation. Duality gap: 8.009e-02, tolerance: 6.731e-03\n",
      "  model = cd_fast.enet_coordinate_descent(\n",
      "/Users/krishnarajmayya/opt/anaconda3/lib/python3.9/site-packages/sklearn/linear_model/_coordinate_descent.py:647: ConvergenceWarning: Objective did not converge. You might want to increase the number of iterations, check the scale of the features or consider increasing regularisation. Duality gap: 2.302e-02, tolerance: 6.360e-03\n",
      "  model = cd_fast.enet_coordinate_descent(\n",
      "/Users/krishnarajmayya/opt/anaconda3/lib/python3.9/site-packages/sklearn/linear_model/_coordinate_descent.py:647: ConvergenceWarning: Objective did not converge. You might want to increase the number of iterations, check the scale of the features or consider increasing regularisation. Duality gap: 9.448e-03, tolerance: 6.887e-03\n",
      "  model = cd_fast.enet_coordinate_descent(\n",
      "/Users/krishnarajmayya/opt/anaconda3/lib/python3.9/site-packages/sklearn/linear_model/_coordinate_descent.py:647: ConvergenceWarning: Objective did not converge. You might want to increase the number of iterations, check the scale of the features or consider increasing regularisation. Duality gap: 7.188e-03, tolerance: 6.731e-03\n",
      "  model = cd_fast.enet_coordinate_descent(\n",
      "/Users/krishnarajmayya/opt/anaconda3/lib/python3.9/site-packages/sklearn/linear_model/_coordinate_descent.py:647: ConvergenceWarning: Objective did not converge. You might want to increase the number of iterations, check the scale of the features or consider increasing regularisation. Duality gap: 1.029e-02, tolerance: 6.360e-03\n",
      "  model = cd_fast.enet_coordinate_descent(\n"
     ]
    }
   ],
   "source": [
    "X=feature_elimination(X,Y,20,ml_model,method='skb')\n",
    "ml_model=build_cv_model(X,Y,False,target)\n",
    "run_model(X,Y,ml_model_prime,target)"
   ]
  },
  {
   "cell_type": "code",
   "execution_count": 26,
   "id": "354e0216",
   "metadata": {},
   "outputs": [
    {
     "name": "stdout",
     "output_type": "stream",
     "text": [
      "     Feature       Score\n",
      "0   mean_A2B  135.546281\n",
      "1        s_X   97.521570\n",
      "2       X_Ra   88.664521\n",
      "3       X_EA   87.903070\n",
      "4        X_Z   87.153415\n",
      "5   mean_X2X   77.101385\n",
      "6     A_Rvdw   64.765740\n",
      "7        s_A   56.272893\n",
      "8   mean_A2X   54.501373\n",
      "9        s_B   51.629862\n",
      "10     A_IEI   41.774757\n",
      "11     E_coh   36.615505\n",
      "12    A_ChiA   21.738026\n",
      "13   std_A2X   19.689607\n",
      "14    X_IEII   19.320300\n",
      "15      B_Hf   18.855125\n",
      "16    A_ChiP   18.434576\n",
      "17      B_MP   15.078645\n",
      "18      A_BP   14.590560\n",
      "19   std_B2X   13.447665\n",
      "-----------------------------------------------------\n",
      "The shape of X is  (80, 10)\n",
      "-----------------------------------------------------\n",
      "The R2 for  0.02  is  0.4842666777949841\n",
      "The RMSE for  0.02  is  0.42235679937895654\n",
      "-----------------------------------------------------\n",
      "The R2 is  0.4842666777949841\n",
      "The RMSE is  0.42235679937895654\n"
     ]
    }
   ],
   "source": [
    "X=feature_elimination(X,Y,10,ml_model,method='skb')\n",
    "ml_model=build_cv_model(X,Y,False,target)\n",
    "run_model(X,Y,ml_model_prime,target)"
   ]
  },
  {
   "cell_type": "markdown",
   "id": "7fc100aa",
   "metadata": {},
   "source": [
    "## Minmax scaling"
   ]
  },
  {
   "cell_type": "code",
   "execution_count": 27,
   "id": "3cf3e79b",
   "metadata": {},
   "outputs": [
    {
     "name": "stdout",
     "output_type": "stream",
     "text": [
      "The shape of X is  (80, 76)\n"
     ]
    },
    {
     "name": "stderr",
     "output_type": "stream",
     "text": [
      "/Users/krishnarajmayya/opt/anaconda3/lib/python3.9/site-packages/sklearn/linear_model/_coordinate_descent.py:647: ConvergenceWarning: Objective did not converge. You might want to increase the number of iterations, check the scale of the features or consider increasing regularisation. Duality gap: 2.583e-03, tolerance: 3.550e-04\n",
      "  model = cd_fast.enet_coordinate_descent(\n",
      "/Users/krishnarajmayya/opt/anaconda3/lib/python3.9/site-packages/sklearn/linear_model/_coordinate_descent.py:647: ConvergenceWarning: Objective did not converge. You might want to increase the number of iterations, check the scale of the features or consider increasing regularisation. Duality gap: 3.228e-03, tolerance: 3.844e-04\n",
      "  model = cd_fast.enet_coordinate_descent(\n",
      "/Users/krishnarajmayya/opt/anaconda3/lib/python3.9/site-packages/sklearn/linear_model/_coordinate_descent.py:647: ConvergenceWarning: Objective did not converge. You might want to increase the number of iterations, check the scale of the features or consider increasing regularisation. Duality gap: 4.901e-03, tolerance: 3.429e-04\n",
      "  model = cd_fast.enet_coordinate_descent(\n",
      "/Users/krishnarajmayya/opt/anaconda3/lib/python3.9/site-packages/sklearn/linear_model/_coordinate_descent.py:647: ConvergenceWarning: Objective did not converge. You might want to increase the number of iterations, check the scale of the features or consider increasing regularisation. Duality gap: 8.980e-03, tolerance: 3.757e-04\n",
      "  model = cd_fast.enet_coordinate_descent(\n",
      "/Users/krishnarajmayya/opt/anaconda3/lib/python3.9/site-packages/sklearn/linear_model/_coordinate_descent.py:647: ConvergenceWarning: Objective did not converge. You might want to increase the number of iterations, check the scale of the features or consider increasing regularisation. Duality gap: 8.340e-04, tolerance: 3.271e-04\n",
      "  model = cd_fast.enet_coordinate_descent(\n"
     ]
    },
    {
     "name": "stdout",
     "output_type": "stream",
     "text": [
      "-----------------------------------------------------\n",
      "The R2 for  0.005  is  0.5276063892339119\n",
      "The RMSE for  0.005  is  0.09957219027048082\n"
     ]
    }
   ],
   "source": [
    "X,Y = minmax_scaling(target)\n",
    "ml_model=build_cv_model(X,Y,False,target)"
   ]
  },
  {
   "cell_type": "markdown",
   "id": "53c80113",
   "metadata": {},
   "source": [
    "### Drop correlated features"
   ]
  },
  {
   "cell_type": "code",
   "execution_count": 28,
   "id": "08219247",
   "metadata": {},
   "outputs": [
    {
     "name": "stdout",
     "output_type": "stream",
     "text": [
      "The shape of X is  (80, 50)\n",
      "-----------------------------------------------------\n",
      "The R2 for  0.005  is  0.5364714004655289\n",
      "The RMSE for  0.005  is  0.09813504092471043\n"
     ]
    },
    {
     "name": "stderr",
     "output_type": "stream",
     "text": [
      "/Users/krishnarajmayya/opt/anaconda3/lib/python3.9/site-packages/sklearn/linear_model/_coordinate_descent.py:647: ConvergenceWarning: Objective did not converge. You might want to increase the number of iterations, check the scale of the features or consider increasing regularisation. Duality gap: 2.143e-03, tolerance: 3.844e-04\n",
      "  model = cd_fast.enet_coordinate_descent(\n",
      "/Users/krishnarajmayya/opt/anaconda3/lib/python3.9/site-packages/sklearn/linear_model/_coordinate_descent.py:647: ConvergenceWarning: Objective did not converge. You might want to increase the number of iterations, check the scale of the features or consider increasing regularisation. Duality gap: 1.520e-03, tolerance: 3.757e-04\n",
      "  model = cd_fast.enet_coordinate_descent(\n"
     ]
    }
   ],
   "source": [
    "ml_model_prime=build_cv_model(X,Y,True,target)"
   ]
  },
  {
   "cell_type": "markdown",
   "id": "c9d99eda",
   "metadata": {},
   "source": [
    "### Feature elimination"
   ]
  },
  {
   "cell_type": "code",
   "execution_count": 29,
   "id": "cf0fb3e8",
   "metadata": {},
   "outputs": [
    {
     "name": "stdout",
     "output_type": "stream",
     "text": [
      "     Feature       Score\n",
      "0        s_A   56.272893\n",
      "1        s_B   51.629862\n",
      "2        s_X   97.521570\n",
      "3    density    1.587649\n",
      "4   mean_A2B  135.546281\n",
      "5   mean_A2X   54.501373\n",
      "6   mean_B2X    0.133049\n",
      "7   mean_X2X   77.101385\n",
      "8    std_A2B    6.331587\n",
      "9    std_A2X   19.689607\n",
      "10   std_B2X   13.447665\n",
      "11   std_X2X    3.078784\n",
      "12     E_coh   36.615505\n",
      "13        TF    1.134618\n",
      "14        OF    9.747189\n",
      "15       A_Z   13.107769\n",
      "16       B_Z    9.046251\n",
      "17       X_Z   87.153415\n",
      "18       A_G    5.190708\n",
      "19       B_G    1.023577\n",
      "20     A_IEI   41.774757\n",
      "21     B_IEI    1.145381\n",
      "22     X_IEI    5.135719\n",
      "23    A_IEII    0.027469\n",
      "24    B_IEII    1.235456\n",
      "25    X_IEII   19.320300\n",
      "26      A_EA   12.189494\n",
      "27      B_EA    3.297773\n",
      "28      X_EA   87.903070\n",
      "29    A_ChiP   18.434576\n",
      "30    B_ChiP    1.889334\n",
      "31    A_ChiA   21.738026\n",
      "32    X_ChiA    7.287500\n",
      "33    A_Rvdw   64.765740\n",
      "34      B_Ra   10.925759\n",
      "35      X_Ra   88.664521\n",
      "36      B_MP   15.078645\n",
      "37      A_BP   14.590560\n",
      "38     A_Rho    1.556167\n",
      "39     B_Rho    3.339847\n",
      "40      B_MV    5.917000\n",
      "41      X_MV    5.412506\n",
      "42      B_Hf   18.855125\n",
      "43   A_Kappa    8.888579\n",
      "44   B_Kappa    7.588177\n",
      "45   X_Kappa   12.936079\n",
      "46     A_CvM    9.336114\n",
      "47     B_CvM    3.125268\n",
      "48       A_B    5.989468\n",
      "49       B_B    0.047541\n",
      "-----------------------------------------------------\n",
      "The shape of X is  (80, 40)\n",
      "-----------------------------------------------------\n",
      "The R2 for  0.001  is  0.5751809531092678\n",
      "The RMSE for  0.001  is  0.09684839057323062\n",
      "-----------------------------------------------------\n",
      "The R2 is  0.535469990402472\n",
      "The RMSE is  0.09803396784936728\n"
     ]
    }
   ],
   "source": [
    "X=feature_elimination(X,Y,40,ml_model_prime,method='skb')\n",
    "ml_model=build_cv_model(X,Y,False,target)\n",
    "run_model(X,Y,ml_model_prime,target)"
   ]
  },
  {
   "cell_type": "code",
   "execution_count": 30,
   "id": "0ca7c003",
   "metadata": {},
   "outputs": [
    {
     "name": "stdout",
     "output_type": "stream",
     "text": [
      "     Feature       Score\n",
      "0   mean_A2B  135.546281\n",
      "1        s_X   97.521570\n",
      "2       X_Ra   88.664521\n",
      "3       X_EA   87.903070\n",
      "4        X_Z   87.153415\n",
      "5   mean_X2X   77.101385\n",
      "6     A_Rvdw   64.765740\n",
      "7        s_A   56.272893\n",
      "8   mean_A2X   54.501373\n",
      "9        s_B   51.629862\n",
      "10     A_IEI   41.774757\n",
      "11     E_coh   36.615505\n",
      "12    A_ChiA   21.738026\n",
      "13   std_A2X   19.689607\n",
      "14    X_IEII   19.320300\n",
      "15      B_Hf   18.855125\n",
      "16    A_ChiP   18.434576\n",
      "17      B_MP   15.078645\n",
      "18      A_BP   14.590560\n",
      "19   std_B2X   13.447665\n",
      "20       A_Z   13.107769\n",
      "21   X_Kappa   12.936079\n",
      "22      A_EA   12.189494\n",
      "23      B_Ra   10.925759\n",
      "24        OF    9.747189\n",
      "25     A_CvM    9.336114\n",
      "26       B_Z    9.046251\n",
      "27   A_Kappa    8.888579\n",
      "28   B_Kappa    7.588177\n",
      "29    X_ChiA    7.287500\n",
      "30   std_A2B    6.331587\n",
      "31       A_B    5.989468\n",
      "32      B_MV    5.917000\n",
      "33      X_MV    5.412506\n",
      "34       A_G    5.190708\n",
      "35     X_IEI    5.135719\n",
      "36     B_Rho    3.339847\n",
      "37      B_EA    3.297773\n",
      "38     B_CvM    3.125268\n",
      "39   std_X2X    3.078784\n",
      "-----------------------------------------------------\n",
      "The shape of X is  (80, 30)\n",
      "-----------------------------------------------------\n",
      "The R2 for  0.001  is  0.5461009368870156\n",
      "The RMSE for  0.001  is  0.09740085020238443\n",
      "-----------------------------------------------------\n",
      "The R2 is  0.5354680603570763\n",
      "The RMSE is  0.09803400637097535\n"
     ]
    },
    {
     "name": "stderr",
     "output_type": "stream",
     "text": [
      "/Users/krishnarajmayya/opt/anaconda3/lib/python3.9/site-packages/sklearn/linear_model/_coordinate_descent.py:647: ConvergenceWarning: Objective did not converge. You might want to increase the number of iterations, check the scale of the features or consider increasing regularisation. Duality gap: 2.734e-03, tolerance: 3.550e-04\n",
      "  model = cd_fast.enet_coordinate_descent(\n",
      "/Users/krishnarajmayya/opt/anaconda3/lib/python3.9/site-packages/sklearn/linear_model/_coordinate_descent.py:647: ConvergenceWarning: Objective did not converge. You might want to increase the number of iterations, check the scale of the features or consider increasing regularisation. Duality gap: 1.133e-03, tolerance: 3.844e-04\n",
      "  model = cd_fast.enet_coordinate_descent(\n",
      "/Users/krishnarajmayya/opt/anaconda3/lib/python3.9/site-packages/sklearn/linear_model/_coordinate_descent.py:647: ConvergenceWarning: Objective did not converge. You might want to increase the number of iterations, check the scale of the features or consider increasing regularisation. Duality gap: 3.932e-04, tolerance: 3.757e-04\n",
      "  model = cd_fast.enet_coordinate_descent(\n"
     ]
    }
   ],
   "source": [
    "X=feature_elimination(X,Y,30,ml_model,method='skb')\n",
    "ml_model=build_cv_model(X,Y,False,target)\n",
    "run_model(X,Y,ml_model_prime,target)"
   ]
  },
  {
   "cell_type": "code",
   "execution_count": 31,
   "id": "19f11f63",
   "metadata": {},
   "outputs": [
    {
     "name": "stdout",
     "output_type": "stream",
     "text": [
      "     Feature       Score\n",
      "0   mean_A2B  135.546281\n",
      "1        s_X   97.521570\n",
      "2       X_Ra   88.664521\n",
      "3       X_EA   87.903070\n",
      "4        X_Z   87.153415\n",
      "5   mean_X2X   77.101385\n",
      "6     A_Rvdw   64.765740\n",
      "7        s_A   56.272893\n",
      "8   mean_A2X   54.501373\n",
      "9        s_B   51.629862\n",
      "10     A_IEI   41.774757\n",
      "11     E_coh   36.615505\n",
      "12    A_ChiA   21.738026\n",
      "13   std_A2X   19.689607\n",
      "14    X_IEII   19.320300\n",
      "15      B_Hf   18.855125\n",
      "16    A_ChiP   18.434576\n",
      "17      B_MP   15.078645\n",
      "18      A_BP   14.590560\n",
      "19   std_B2X   13.447665\n",
      "20       A_Z   13.107769\n",
      "21   X_Kappa   12.936079\n",
      "22      A_EA   12.189494\n",
      "23      B_Ra   10.925759\n",
      "24        OF    9.747189\n",
      "25     A_CvM    9.336114\n",
      "26       B_Z    9.046251\n",
      "27   A_Kappa    8.888579\n",
      "28   B_Kappa    7.588177\n",
      "29    X_ChiA    7.287500\n",
      "-----------------------------------------------------\n",
      "The shape of X is  (80, 20)\n",
      "-----------------------------------------------------\n",
      "The R2 for  0.0005  is  0.5286873828452535\n",
      "The RMSE for  0.0005  is  0.09591880509849816\n",
      "-----------------------------------------------------\n",
      "The R2 is  0.4658478770051896\n",
      "The RMSE is  0.10173717154471368\n"
     ]
    }
   ],
   "source": [
    "X=feature_elimination(X,Y,20,ml_model,method='skb')\n",
    "ml_model=build_cv_model(X,Y,False,target)\n",
    "run_model(X,Y,ml_model_prime,target)"
   ]
  },
  {
   "cell_type": "code",
   "execution_count": 32,
   "id": "435b79d2",
   "metadata": {},
   "outputs": [
    {
     "name": "stdout",
     "output_type": "stream",
     "text": [
      "     Feature       Score\n",
      "0   mean_A2B  135.546281\n",
      "1        s_X   97.521570\n",
      "2       X_Ra   88.664521\n",
      "3       X_EA   87.903070\n",
      "4        X_Z   87.153415\n",
      "5   mean_X2X   77.101385\n",
      "6     A_Rvdw   64.765740\n",
      "7        s_A   56.272893\n",
      "8   mean_A2X   54.501373\n",
      "9        s_B   51.629862\n",
      "10     A_IEI   41.774757\n",
      "11     E_coh   36.615505\n",
      "12    A_ChiA   21.738026\n",
      "13   std_A2X   19.689607\n",
      "14    X_IEII   19.320300\n",
      "15      B_Hf   18.855125\n",
      "16    A_ChiP   18.434576\n",
      "17      B_MP   15.078645\n",
      "18      A_BP   14.590560\n",
      "19   std_B2X   13.447665\n",
      "-----------------------------------------------------\n",
      "The shape of X is  (80, 10)\n",
      "-----------------------------------------------------\n",
      "The R2 for  0.001  is  0.47312858412157216\n",
      "The RMSE for  0.001  is  0.09995315283601465\n",
      "-----------------------------------------------------\n",
      "The R2 is  0.43576166884077083\n",
      "The RMSE is  0.10596393160459444\n"
     ]
    }
   ],
   "source": [
    "X=feature_elimination(X,Y,10,ml_model,method='skb')\n",
    "ml_model=build_cv_model(X,Y,False,target)\n",
    "run_model(X,Y,ml_model_prime,target)"
   ]
  }
 ],
 "metadata": {
  "kernelspec": {
   "display_name": "Python 3 (ipykernel)",
   "language": "python",
   "name": "python3"
  },
  "language_info": {
   "codemirror_mode": {
    "name": "ipython",
    "version": 3
   },
   "file_extension": ".py",
   "mimetype": "text/x-python",
   "name": "python",
   "nbconvert_exporter": "python",
   "pygments_lexer": "ipython3",
   "version": "3.9.12"
  }
 },
 "nbformat": 4,
 "nbformat_minor": 5
}
