{
 "cells": [
  {
   "cell_type": "markdown",
   "id": "a9cd6142",
   "metadata": {},
   "source": [
    "# Model selection"
   ]
  },
  {
   "cell_type": "code",
   "execution_count": 1,
   "id": "62d47901",
   "metadata": {},
   "outputs": [],
   "source": [
    "import pandas as pd"
   ]
  },
  {
   "cell_type": "code",
   "execution_count": 2,
   "id": "cf430274",
   "metadata": {},
   "outputs": [],
   "source": [
    "import matplotlib.pyplot as plt\n",
    "import numpy as np\n",
    "import itertools"
   ]
  },
  {
   "cell_type": "code",
   "execution_count": 3,
   "id": "eb0a1193",
   "metadata": {},
   "outputs": [],
   "source": [
    "from sklearn.metrics import mean_squared_error, r2_score\n",
    "from sklearn.gaussian_process import GaussianProcessRegressor\n",
    "from sklearn.gaussian_process.kernels import RBF\n",
    "from sklearn.preprocessing import StandardScaler, MinMaxScaler\n",
    "from sklearn.model_selection import train_test_split, cross_val_score, KFold\n",
    "from sklearn.linear_model import LinearRegression, Ridge, Lasso\n",
    "from sklearn.ensemble import RandomForestRegressor,GradientBoostingRegressor\n",
    "from sklearn.feature_selection import RFE, SelectKBest, f_regression"
   ]
  },
  {
   "cell_type": "code",
   "execution_count": 4,
   "id": "d9667f76",
   "metadata": {},
   "outputs": [],
   "source": [
    "import seaborn as sns"
   ]
  },
  {
   "cell_type": "markdown",
   "id": "05e51c93",
   "metadata": {},
   "source": [
    "Import data from csv files into a dataframe"
   ]
  },
  {
   "cell_type": "code",
   "execution_count": 5,
   "id": "787cce69",
   "metadata": {},
   "outputs": [
    {
     "name": "stdout",
     "output_type": "stream",
     "text": [
      "['Name' 'Coef_a' 'Coef_b' 'Coef_c' 'Coef_d' 'A_site' 'B_site' 'X_site'\n",
      " 'Spacegroup' 'Ehull' 'BulkModulus' 'Energy' 'ZPE' 's_A' 's_B' 's_X'\n",
      " 'density' 'mean_A2B' 'mean_A2X' 'mean_B2X' 'mean_X2X' 'std_A2B' 'std_A2X'\n",
      " 'std_B2X' 'std_X2X' 'E_coh' 'TF' 'OF' 'A_Z' 'B_Z' 'X_Z' 'A_M' 'B_M' 'X_M'\n",
      " 'A_G' 'B_G' 'X_G' 'A_IEI' 'B_IEI' 'X_IEI' 'A_IEII' 'B_IEII' 'X_IEII'\n",
      " 'A_EA' 'B_EA' 'X_EA' 'A_ChiP' 'B_ChiP' 'X_ChiP' 'A_ChiA' 'X_ChiA'\n",
      " 'A_Rvdw' 'B_Rvdw' 'X_Rvdw' 'A_Rc' 'B_Rc' 'X_Rc' 'A_Ra' 'B_Ra' 'X_Ra'\n",
      " 'A_MP' 'B_MP' 'X_MP' 'A_BP' 'B_BP' 'X_BP' 'A_Rho' 'B_Rho' 'A_MV' 'B_MV'\n",
      " 'X_MV' 'A_Hf' 'B_Hf' 'X_Hf' 'A_Hv' 'B_Hv' 'X_Hv' 'A_Kappa' 'B_Kappa'\n",
      " 'X_Kappa' 'A_CvM' 'B_CvM' 'X_CvM' 'A_B' 'B_B' 'X_B' 'A_MendeleevNo'\n",
      " 'B_MendeleevNo' 'X_MendeleevNo']\n"
     ]
    }
   ],
   "source": [
    "data = pd.read_csv('Combined_all_3rd_fit.csv', encoding='cp1252')\n",
    "print(data.columns.values)"
   ]
  },
  {
   "cell_type": "markdown",
   "id": "193419bd",
   "metadata": {},
   "source": [
    "Drop the unnecessary columns and fill the empty cells with zero"
   ]
  },
  {
   "cell_type": "code",
   "execution_count": 6,
   "id": "30a36ba9",
   "metadata": {},
   "outputs": [
    {
     "name": "stdout",
     "output_type": "stream",
     "text": [
      "(80, 77)\n"
     ]
    }
   ],
   "source": [
    "data.drop(['Name', 'A_site', 'B_site', 'X_site', 'Spacegroup','BulkModulus',\n",
    "           'Ehull','Energy','ZPE','Coef_b', 'Coef_c', 'Coef_d'], axis=1, inplace = True)\n",
    "data.fillna(0, inplace= True)\n",
    "d=data.copy()\n",
    "columns = list(d.columns.values)\n",
    "print(d.shape)"
   ]
  },
  {
   "cell_type": "markdown",
   "id": "4bb0c2a1",
   "metadata": {},
   "source": [
    "Set the target variable to machine learn"
   ]
  },
  {
   "cell_type": "code",
   "execution_count": 7,
   "id": "b2817160",
   "metadata": {},
   "outputs": [],
   "source": [
    "target = 'Coef_a'"
   ]
  },
  {
   "cell_type": "markdown",
   "id": "0f98f85e",
   "metadata": {},
   "source": [
    "Define various methods to be used for buildig and validating the models"
   ]
  },
  {
   "cell_type": "code",
   "execution_count": 8,
   "id": "5fa4081a",
   "metadata": {},
   "outputs": [],
   "source": [
    "\"\"\"\n",
    "    Functions to perform scaling\n",
    "    \n",
    "    \"\"\"\n",
    "def standard_scaling(target):\n",
    "    data_std=d.copy()\n",
    "    data_std[columns]= StandardScaler().fit_transform(d[columns])\n",
    "    Y = data_std[target] \n",
    "    X = data_std.drop([target], axis=1)\n",
    "    return X,Y\n",
    "\n",
    "def minmax_scaling(target):\n",
    "    data_mm=d.copy()\n",
    "    data_mm[columns]= MinMaxScaler().fit_transform(d[columns])\n",
    "    Y = data_mm[target] \n",
    "    X = data_mm.drop([target], axis=1)\n",
    "    return X,Y"
   ]
  },
  {
   "cell_type": "code",
   "execution_count": 9,
   "id": "08eda787",
   "metadata": {},
   "outputs": [],
   "source": [
    "\"\"\"\n",
    "    Function to build machine learning models by hyper parameter tuning. It also plots scatter plot\n",
    "    \n",
    "    \"\"\"\n",
    "def build_cv_model(X,Y,b_drop=False,target='Coef_d'):\n",
    "    if b_drop :\n",
    "        correlated_features = [\"A_Rc\",\"A_Ra\",\"A_M\",\"A_MP\",\"A_MV\",\"A_MendeleevNo\",\"A_Hf\",\"A_Hv\",\"B_Rc\",\n",
    "                       \"B_Rvdw\",\"B_M\",\"B_BP\",\"B_MendeleevNo\",\"B_Hv\",\"X_Rc\",\"X_Rvdw\",\"X_M\",\"X_BP\",\"X_MP\",\n",
    "                       \"X_MendeleevNo\",\"X_Hf\",\"X_Hv\",\"X_G\",\"X_B\",\"X_CvM\",\"X_ChiP\"]\n",
    "        X.drop(labels=correlated_features, axis=1, inplace=True)\n",
    "        \n",
    "    print(\"The shape of X is \",X.shape)\n",
    "    \n",
    "    ml_model, cv_results = train_model(X,Y,hyperparams=hyperparams, cv=True, return_cv=True)\n",
    "    \n",
    "    return ml_model"
   ]
  },
  {
   "cell_type": "code",
   "execution_count": 10,
   "id": "835ed0e7",
   "metadata": {},
   "outputs": [],
   "source": [
    "def run_model(X,Y,model,target='Coef_d'):\n",
    "    rmse,r2 = run_cv(model, X, Y, n_cv = 5)\n",
    "    print(\"-----------------------------------------------------\")\n",
    "    print(\"The R2 is \",r2)\n",
    "    print(\"The RMSE is \",rmse)"
   ]
  },
  {
   "cell_type": "code",
   "execution_count": 11,
   "id": "8be0db69",
   "metadata": {},
   "outputs": [],
   "source": [
    "\"\"\"\n",
    "    Function to perform feature elimination using select K best of RFE method. It also prints the \n",
    "    feature scores obtained as:\n",
    "    SelectKBest: The scores obtained from the selector\n",
    "    RFE: The feature importance obtained from the RFR model \n",
    "    \n",
    "    \"\"\"\n",
    "def feature_elimination(X,Y,n,estimator,method='skb'):\n",
    "    if method=='skb':\n",
    "        bestfeatures = SelectKBest(score_func=f_regression, k=10)\n",
    "        fit = bestfeatures.fit(X,Y)\n",
    "        dfscores = pd.DataFrame(fit.scores_)\n",
    "        dfcolumns = pd.DataFrame(X.columns)\n",
    "        #concat two dataframes for better visualization \n",
    "        featureScores = pd.concat([dfcolumns,dfscores],axis=1)\n",
    "        featureScores.columns = ['Feature','Score']  #naming the dataframe columns\n",
    "        print(featureScores.nlargest(n,'Score'))  #print 10 best features\n",
    "        X=X[featureScores.nlargest(n,'Score')['Feature'].values]\n",
    "    elif method=='rfe':\n",
    "        selector = RFE(estimator, n_features_to_select=n, step=1)\n",
    "        selector = selector.fit(X, Y)\n",
    "        dfscores = pd.DataFrame(selector.ranking_)\n",
    "        dfcolumns = pd.DataFrame(selector.feature_names_in_)\n",
    "        #concat two dataframes for better visualization \n",
    "        featureSelection = pd.concat([dfcolumns,dfscores],axis=1)\n",
    "        featureSelection.columns = ['Feature','Score']  #naming the dataframe columns\n",
    "        X=X[featureSelection.nsmallest(n,'Score')['Feature'].values]\n",
    "        estimator.fit(X,Y)\n",
    "        importance = pd.DataFrame(estimator.feature_importances_)\n",
    "        featureNames = pd.DataFrame(X.columns.values)\n",
    "        featureScores = pd.concat([featureNames,importance],axis=1)\n",
    "        featureScores.columns = ['Feature','Score']  #naming the dataframe columns\n",
    "        \n",
    "    print(featureScores)\n",
    "    print(\"-----------------------------------------------------\")\n",
    "    return X"
   ]
  },
  {
   "cell_type": "code",
   "execution_count": 12,
   "id": "80a52bcd",
   "metadata": {},
   "outputs": [],
   "source": [
    "def train_model(X, y, hyperparams = None, cv = False, return_cv = False):\n",
    "    \"\"\"\n",
    "    Function to train the ML model on the given data X (features) and y (target property). \n",
    "    If hyperparams argument is passed, all possible combinations of alpha and kernel values\n",
    "    will be tried to find combination with minimum CV error. The final  model is trained\n",
    "    using the fixed kernel and alpha params as determined using CV.\n",
    "    \n",
    "    \"\"\"\n",
    "    \n",
    "    if cv:\n",
    "        cv_results = {'n_estimators':[],'criterion':[],'min_samples_split':[],\n",
    "                      'min_samples_leaf':[],'max_features':[],'cv_rmse':[],'cv_r2':[]}\n",
    "        for n,c,s,l,f in itertools.product(hyperparams['n_estimators'], \n",
    "                                           hyperparams['criterion'],hyperparams['min_samples_split'],\n",
    "                                          hyperparams['min_samples_leaf'],hyperparams['max_features']):\n",
    "\n",
    "            random_forests = RandomForestRegressor(\n",
    "            n_estimators=n, criterion=c, min_samples_split=s, min_samples_leaf=l, max_features=f)\n",
    "\n",
    "            cv_error, cv_r2 = run_cv(random_forests, X, y, n_cv = 5)\n",
    "            cv_results['cv_rmse'].append(cv_error)\n",
    "            cv_results['cv_r2'].append(cv_r2)\n",
    "            cv_results['n_estimators'].append(n)\n",
    "            cv_results['criterion'].append(c)\n",
    "            cv_results['min_samples_split'].append(s)\n",
    "            cv_results['min_samples_leaf'].append(l)\n",
    "            cv_results['max_features'].append(f)\n",
    "\n",
    "        cv_results = pd.DataFrame(cv_results)\n",
    "        cv_results = cv_results.sort_values('cv_rmse')\n",
    "        n_opt = cv_results.iloc[0]['n_estimators']\n",
    "        c_opt = cv_results.iloc[0]['criterion']\n",
    "        s_opt = cv_results.iloc[0]['min_samples_split']\n",
    "        l_opt = cv_results.iloc[0]['min_samples_leaf']\n",
    "        f_opt = cv_results.iloc[0]['max_features']\n",
    "        \n",
    "    else:\n",
    "        n_opt = hyperparams['n_estimators'][0]\n",
    "        c_opt = hyperparams['criterion'][0]\n",
    "        s_opt = hyperparams['min_samples_split'][0]\n",
    "        l_opt = hyperparams['min_samples_leaf'][0]\n",
    "        f_opt = hyperparams['max_features'][0]\n",
    "\n",
    "    random_forests = RandomForestRegressor(\n",
    "            n_estimators=n_opt, criterion=c_opt, min_samples_split=s_opt, min_samples_leaf=l_opt, max_features=f_opt)\n",
    "    model = random_forests.fit(X,y)\n",
    "    print(\"-----------------------------------------------------\")\n",
    "    print(\"The R2 for \",n_opt,\",\",c_opt,\",\",s_opt,\",\",l_opt,\",\",f_opt,\" is \",cv_results.iloc[0]['cv_r2'])\n",
    "    print(\"The RMSE for \",n_opt,\",\",c_opt,\",\",s_opt,\",\",l_opt,\",\",f_opt,\" is \",cv_results.iloc[0]['cv_rmse'])\n",
    "    return [model, cv_results] if return_cv else model\n",
    "\n",
    "\n",
    "def run_cv(ml_model, X, y, n_cv = 5):\n",
    "    \"\"\"\n",
    "    Function to run Cross-validation\n",
    "    \"\"\"\n",
    "    kf = KFold(n_splits=n_cv,shuffle=True,random_state=50)\n",
    "    y_val = []\n",
    "    y_pred = []\n",
    "\n",
    "    for idx, (train, val) in enumerate(kf.split(X)):\n",
    "        \n",
    "        X_cv_train = X.values[train]\n",
    "        X_cv_val = X.values[val]\n",
    "\n",
    "        y_cv_train = y.values[train]\n",
    "        y_cv_val = y.values[val]    \n",
    "\n",
    "        # Model fit and prediction\n",
    "        model = ml_model.fit(X_cv_train, y_cv_train)\n",
    "        y_pred_val = model.predict(X_cv_val)\n",
    "        \n",
    "        y_val.append(y_cv_val)\n",
    "        y_pred.append(y_pred_val)\n",
    "\n",
    "    # Computing errors\n",
    "    rmse = np.sqrt(mean_squared_error(y_val, y_pred))\n",
    "    r2 = r2_score(y_val, y_pred)\n",
    "    \n",
    "    return rmse, r2"
   ]
  },
  {
   "cell_type": "markdown",
   "id": "5e43d433",
   "metadata": {},
   "source": [
    "Define the hyperparameters to be tuned for the given algorithm"
   ]
  },
  {
   "cell_type": "code",
   "execution_count": 13,
   "id": "bffb2010",
   "metadata": {},
   "outputs": [],
   "source": [
    "hyperparams={'n_estimators': [10,100],\n",
    "             'criterion':[\"squared_error\", \"absolute_error\", \"friedman_mse\"],\n",
    "            'min_samples_split':[2,4,8],\n",
    "            'min_samples_leaf':[1,2,4,8],\n",
    "            'max_features':[\"sqrt\",\"log2\",0.3,1]}"
   ]
  },
  {
   "cell_type": "markdown",
   "id": "50ef316a",
   "metadata": {},
   "source": [
    "## Without scaling"
   ]
  },
  {
   "cell_type": "code",
   "execution_count": 14,
   "id": "68802fe0",
   "metadata": {},
   "outputs": [],
   "source": [
    "data_std=d.copy()\n",
    "Y = data_std[target] \n",
    "X = data_std.drop([target], axis=1)"
   ]
  },
  {
   "cell_type": "code",
   "execution_count": 15,
   "id": "090acf26",
   "metadata": {},
   "outputs": [
    {
     "name": "stdout",
     "output_type": "stream",
     "text": [
      "The shape of X is  (80, 76)\n",
      "-----------------------------------------------------\n",
      "The R2 for  100 , absolute_error , 4 , 1 , sqrt  is  0.7150912496141888\n",
      "The RMSE for  100 , absolute_error , 4 , 1 , sqrt  is  1.0077144136816847e-08\n"
     ]
    }
   ],
   "source": [
    "ml_model=build_cv_model(X,Y,False,target)"
   ]
  },
  {
   "cell_type": "markdown",
   "id": "62ea41f3",
   "metadata": {},
   "source": [
    "### Drop correlated features"
   ]
  },
  {
   "cell_type": "code",
   "execution_count": 16,
   "id": "26950d24",
   "metadata": {},
   "outputs": [
    {
     "name": "stdout",
     "output_type": "stream",
     "text": [
      "The shape of X is  (80, 50)\n",
      "-----------------------------------------------------\n",
      "The R2 for  100 , absolute_error , 2 , 1 , sqrt  is  0.7096140201983336\n",
      "The RMSE for  100 , absolute_error , 2 , 1 , sqrt  is  1.0228644851876512e-08\n"
     ]
    }
   ],
   "source": [
    "ml_model_prime=build_cv_model(X,Y,True,target)"
   ]
  },
  {
   "cell_type": "markdown",
   "id": "f0b36718",
   "metadata": {},
   "source": [
    "### Feature elimination"
   ]
  },
  {
   "cell_type": "code",
   "execution_count": 17,
   "id": "a6b5dd6b",
   "metadata": {},
   "outputs": [
    {
     "name": "stdout",
     "output_type": "stream",
     "text": [
      "     Feature     Score\n",
      "0        s_A  0.016217\n",
      "1        s_B  0.022005\n",
      "2        s_X  0.064469\n",
      "3    density  0.017545\n",
      "4   mean_A2B  0.051121\n",
      "5   mean_A2X  0.068738\n",
      "6   mean_B2X  0.014089\n",
      "7   mean_X2X  0.060720\n",
      "8    std_A2X  0.010125\n",
      "9    std_X2X  0.010051\n",
      "10     E_coh  0.047217\n",
      "11        TF  0.015017\n",
      "12        OF  0.029552\n",
      "13       A_Z  0.009220\n",
      "14       B_Z  0.016558\n",
      "15       X_Z  0.043983\n",
      "16       B_G  0.014274\n",
      "17     A_IEI  0.013486\n",
      "18     B_IEI  0.009722\n",
      "19     X_IEI  0.048954\n",
      "20    B_IEII  0.010622\n",
      "21    X_IEII  0.029809\n",
      "22      B_EA  0.014019\n",
      "23      X_EA  0.069239\n",
      "24    A_ChiP  0.008067\n",
      "25    B_ChiP  0.009316\n",
      "26    A_ChiA  0.016781\n",
      "27    X_ChiA  0.014651\n",
      "28    A_Rvdw  0.021431\n",
      "29      B_Ra  0.011891\n",
      "30      X_Ra  0.061354\n",
      "31      B_MP  0.009716\n",
      "32      A_BP  0.017039\n",
      "33     B_Rho  0.019959\n",
      "34      B_MV  0.008726\n",
      "35      X_MV  0.027761\n",
      "36      B_Hf  0.010663\n",
      "37   B_Kappa  0.021762\n",
      "38     A_CvM  0.014416\n",
      "39     B_CvM  0.019714\n",
      "-----------------------------------------------------\n",
      "The shape of X is  (80, 40)\n",
      "-----------------------------------------------------\n",
      "The R2 for  100 , absolute_error , 4 , 1 , log2  is  0.7041252296270331\n",
      "The RMSE for  100 , absolute_error , 4 , 1 , log2  is  1.0089728320680519e-08\n",
      "-----------------------------------------------------\n",
      "The R2 is  0.6910902980700122\n",
      "The RMSE is  1.0361398353464821e-08\n"
     ]
    }
   ],
   "source": [
    "X=feature_elimination(X,Y,40,ml_model_prime,method='rfe')\n",
    "ml_model=build_cv_model(X,Y,False,target)\n",
    "run_model(X,Y,ml_model_prime,target)"
   ]
  },
  {
   "cell_type": "code",
   "execution_count": 18,
   "id": "f4c14a2c",
   "metadata": {},
   "outputs": [
    {
     "name": "stdout",
     "output_type": "stream",
     "text": [
      "     Feature     Score\n",
      "0        s_A  0.015685\n",
      "1        s_B  0.031449\n",
      "2        s_X  0.069498\n",
      "3    density  0.023518\n",
      "4   mean_A2B  0.070520\n",
      "5   mean_A2X  0.046278\n",
      "6   mean_B2X  0.013765\n",
      "7   mean_X2X  0.049830\n",
      "8      E_coh  0.091073\n",
      "9         TF  0.016714\n",
      "10        OF  0.028310\n",
      "11       B_Z  0.020492\n",
      "12       X_Z  0.062221\n",
      "13     A_IEI  0.021861\n",
      "14     B_IEI  0.013798\n",
      "15     X_IEI  0.044201\n",
      "16    B_IEII  0.017512\n",
      "17    X_IEII  0.071802\n",
      "18      X_EA  0.041904\n",
      "19    A_ChiA  0.014668\n",
      "20    X_ChiA  0.016878\n",
      "21    A_Rvdw  0.031742\n",
      "22      B_Ra  0.019073\n",
      "23      X_Ra  0.040153\n",
      "24      B_MP  0.023262\n",
      "25      A_BP  0.023655\n",
      "26     B_Rho  0.014129\n",
      "27      X_MV  0.029821\n",
      "28   B_Kappa  0.020897\n",
      "29     B_CvM  0.015291\n",
      "-----------------------------------------------------\n",
      "The shape of X is  (80, 30)\n",
      "-----------------------------------------------------\n",
      "The R2 for  100 , absolute_error , 2 , 1 , log2  is  0.7286927993506649\n",
      "The RMSE for  100 , absolute_error , 2 , 1 , log2  is  9.919189570903163e-09\n",
      "-----------------------------------------------------\n",
      "The R2 is  0.6902201126215128\n",
      "The RMSE is  1.0468921311485599e-08\n"
     ]
    }
   ],
   "source": [
    "X=feature_elimination(X,Y,30,ml_model,method='rfe')\n",
    "ml_model=build_cv_model(X,Y,False,target)\n",
    "run_model(X,Y,ml_model_prime,target)"
   ]
  },
  {
   "cell_type": "code",
   "execution_count": 19,
   "id": "43be0df3",
   "metadata": {},
   "outputs": [
    {
     "name": "stdout",
     "output_type": "stream",
     "text": [
      "     Feature     Score\n",
      "0        s_A  0.031660\n",
      "1        s_B  0.037471\n",
      "2        s_X  0.057387\n",
      "3    density  0.036350\n",
      "4   mean_A2B  0.069895\n",
      "5   mean_A2X  0.057000\n",
      "6   mean_X2X  0.086540\n",
      "7      E_coh  0.098817\n",
      "8         TF  0.026445\n",
      "9         OF  0.044419\n",
      "10       X_Z  0.085047\n",
      "11     B_IEI  0.031129\n",
      "12     X_IEI  0.073677\n",
      "13    X_IEII  0.021345\n",
      "14      X_EA  0.071669\n",
      "15    A_ChiA  0.025832\n",
      "16    A_Rvdw  0.032257\n",
      "17      X_Ra  0.056810\n",
      "18      X_MV  0.025936\n",
      "19   B_Kappa  0.030313\n",
      "-----------------------------------------------------\n",
      "The shape of X is  (80, 20)\n",
      "-----------------------------------------------------\n",
      "The R2 for  100 , absolute_error , 2 , 1 , sqrt  is  0.7424412250990297\n",
      "The RMSE for  100 , absolute_error , 2 , 1 , sqrt  is  9.68108429343687e-09\n",
      "-----------------------------------------------------\n",
      "The R2 is  0.7027572522502206\n",
      "The RMSE is  1.0087775349459164e-08\n"
     ]
    }
   ],
   "source": [
    "X=feature_elimination(X,Y,20,ml_model,method='rfe')\n",
    "ml_model=build_cv_model(X,Y,False,target)\n",
    "run_model(X,Y,ml_model_prime,target)"
   ]
  },
  {
   "cell_type": "code",
   "execution_count": 20,
   "id": "ba87d76e",
   "metadata": {},
   "outputs": [
    {
     "name": "stdout",
     "output_type": "stream",
     "text": [
      "    Feature     Score\n",
      "0       s_A  0.084484\n",
      "1  mean_A2B  0.099376\n",
      "2  mean_A2X  0.084159\n",
      "3  mean_X2X  0.136790\n",
      "4     E_coh  0.129703\n",
      "5        OF  0.096108\n",
      "6       X_Z  0.117392\n",
      "7     X_IEI  0.098272\n",
      "8    X_IEII  0.058712\n",
      "9      X_Ra  0.095004\n",
      "-----------------------------------------------------\n",
      "The shape of X is  (80, 10)\n",
      "-----------------------------------------------------\n",
      "The R2 for  100 , absolute_error , 2 , 1 , log2  is  0.6712961893149187\n",
      "The RMSE for  100 , absolute_error , 2 , 1 , log2  is  9.853490567978308e-09\n",
      "-----------------------------------------------------\n",
      "The R2 is  0.6857607531223684\n",
      "The RMSE is  1.0214606996950752e-08\n"
     ]
    }
   ],
   "source": [
    "X=feature_elimination(X,Y,10,ml_model,method='rfe')\n",
    "ml_model=build_cv_model(X,Y,False,target)\n",
    "run_model(X,Y,ml_model_prime,target)"
   ]
  },
  {
   "cell_type": "markdown",
   "id": "d6598f01",
   "metadata": {},
   "source": [
    "## Standard scaling"
   ]
  },
  {
   "cell_type": "code",
   "execution_count": 21,
   "id": "418a5638",
   "metadata": {},
   "outputs": [
    {
     "name": "stdout",
     "output_type": "stream",
     "text": [
      "The shape of X is  (80, 76)\n",
      "-----------------------------------------------------\n",
      "The R2 for  100 , absolute_error , 4 , 1 , log2  is  0.7256529506968343\n",
      "The RMSE for  100 , absolute_error , 4 , 1 , log2  is  0.34887329100765346\n"
     ]
    }
   ],
   "source": [
    "X,Y = standard_scaling(target)\n",
    "ml_model=build_cv_model(X,Y,False,target)"
   ]
  },
  {
   "cell_type": "code",
   "execution_count": 22,
   "id": "bc554eaf",
   "metadata": {},
   "outputs": [
    {
     "name": "stdout",
     "output_type": "stream",
     "text": [
      "The shape of X is  (80, 76)\n",
      "-----------------------------------------------------\n",
      "The R2 for  10 , absolute_error , 2 , 1 , sqrt  is  0.7300372463767805\n",
      "The RMSE for  10 , absolute_error , 2 , 1 , sqrt  is  0.3451602844326805\n"
     ]
    }
   ],
   "source": [
    "ml_model=build_cv_model(X,Y,False,target)"
   ]
  },
  {
   "cell_type": "markdown",
   "id": "2140e933",
   "metadata": {},
   "source": [
    "### Drop correlated features"
   ]
  },
  {
   "cell_type": "code",
   "execution_count": 23,
   "id": "e4732e80",
   "metadata": {},
   "outputs": [
    {
     "name": "stdout",
     "output_type": "stream",
     "text": [
      "The shape of X is  (80, 50)\n",
      "-----------------------------------------------------\n",
      "The R2 for  100 , absolute_error , 2 , 1 , 0.3  is  0.6670366635336236\n",
      "The RMSE for  100 , absolute_error , 2 , 1 , 0.3  is  0.35634693896923597\n"
     ]
    }
   ],
   "source": [
    "ml_model_prime=build_cv_model(X,Y,True,target)"
   ]
  },
  {
   "cell_type": "markdown",
   "id": "5da0961f",
   "metadata": {},
   "source": [
    "### Feature elimination"
   ]
  },
  {
   "cell_type": "code",
   "execution_count": 24,
   "id": "a53db140",
   "metadata": {},
   "outputs": [
    {
     "name": "stdout",
     "output_type": "stream",
     "text": [
      "     Feature     Score\n",
      "0        s_A  0.022969\n",
      "1        s_B  0.022307\n",
      "2        s_X  0.056658\n",
      "3    density  0.023047\n",
      "4   mean_A2B  0.069133\n",
      "5   mean_A2X  0.041174\n",
      "6   mean_B2X  0.015400\n",
      "7   mean_X2X  0.104976\n",
      "8    std_A2B  0.006693\n",
      "9    std_A2X  0.006114\n",
      "10   std_X2X  0.007201\n",
      "11     E_coh  0.083726\n",
      "12        TF  0.014595\n",
      "13        OF  0.028202\n",
      "14       A_Z  0.010414\n",
      "15       B_Z  0.017421\n",
      "16       X_Z  0.077164\n",
      "17       B_G  0.008984\n",
      "18     A_IEI  0.010522\n",
      "19     B_IEI  0.013231\n",
      "20     X_IEI  0.039574\n",
      "21    B_IEII  0.017934\n",
      "22    X_IEII  0.053025\n",
      "23      X_EA  0.040939\n",
      "24    B_ChiP  0.007327\n",
      "25    A_ChiA  0.008459\n",
      "26    X_ChiA  0.013370\n",
      "27    A_Rvdw  0.012783\n",
      "28      B_Ra  0.015469\n",
      "29      X_Ra  0.041449\n",
      "30      B_MP  0.007630\n",
      "31      A_BP  0.007477\n",
      "32     B_Rho  0.015242\n",
      "33      B_MV  0.010523\n",
      "34      X_MV  0.017665\n",
      "35      B_Hf  0.011387\n",
      "36   A_Kappa  0.004197\n",
      "37   B_Kappa  0.017739\n",
      "38     A_CvM  0.006138\n",
      "39     B_CvM  0.011740\n",
      "-----------------------------------------------------\n",
      "The shape of X is  (80, 40)\n",
      "-----------------------------------------------------\n",
      "The R2 for  10 , absolute_error , 2 , 1 , log2  is  0.6683068198885491\n",
      "The RMSE for  10 , absolute_error , 2 , 1 , log2  is  0.3453742284236381\n",
      "-----------------------------------------------------\n",
      "The R2 is  0.6644951393168765\n",
      "The RMSE is  0.36398914065232446\n"
     ]
    }
   ],
   "source": [
    "X=feature_elimination(X,Y,40,ml_model_prime,method='rfe')\n",
    "ml_model=build_cv_model(X,Y,False,target)\n",
    "run_model(X,Y,ml_model_prime,target)"
   ]
  },
  {
   "cell_type": "code",
   "execution_count": 25,
   "id": "44657d0f",
   "metadata": {},
   "outputs": [
    {
     "name": "stdout",
     "output_type": "stream",
     "text": [
      "     Feature     Score\n",
      "0        s_A  0.008150\n",
      "1        s_B  0.024000\n",
      "2    density  0.013739\n",
      "3   mean_A2B  0.027945\n",
      "4   mean_A2X  0.135296\n",
      "5   mean_B2X  0.023971\n",
      "6   mean_X2X  0.026079\n",
      "7    std_A2X  0.006331\n",
      "8    std_X2X  0.005714\n",
      "9      E_coh  0.042614\n",
      "10        TF  0.018837\n",
      "11        OF  0.031271\n",
      "12       B_Z  0.046030\n",
      "13       X_Z  0.058765\n",
      "14     A_IEI  0.048070\n",
      "15     B_IEI  0.019322\n",
      "16     X_IEI  0.079870\n",
      "17    B_IEII  0.007472\n",
      "18    X_IEII  0.052987\n",
      "19    B_ChiP  0.004326\n",
      "20    A_ChiA  0.049835\n",
      "21    X_ChiA  0.035305\n",
      "22    A_Rvdw  0.028301\n",
      "23      B_Ra  0.022053\n",
      "24      X_Ra  0.075578\n",
      "25      B_MP  0.056084\n",
      "26      A_BP  0.005569\n",
      "27     B_Rho  0.017545\n",
      "28      B_Hf  0.009107\n",
      "29   B_Kappa  0.019833\n",
      "-----------------------------------------------------\n",
      "The shape of X is  (80, 30)\n",
      "-----------------------------------------------------\n",
      "The R2 for  100 , absolute_error , 2 , 1 , log2  is  0.7010809469735997\n",
      "The RMSE for  100 , absolute_error , 2 , 1 , log2  is  0.3575412258060018\n",
      "-----------------------------------------------------\n",
      "The R2 is  0.6493495888483629\n",
      "The RMSE is  0.3670522592277962\n"
     ]
    }
   ],
   "source": [
    "X=feature_elimination(X,Y,30,ml_model,method='rfe')\n",
    "ml_model=build_cv_model(X,Y,False,target)\n",
    "run_model(X,Y,ml_model_prime,target)"
   ]
  },
  {
   "cell_type": "code",
   "execution_count": 26,
   "id": "86bc5d14",
   "metadata": {},
   "outputs": [
    {
     "name": "stdout",
     "output_type": "stream",
     "text": [
      "     Feature     Score\n",
      "0        s_A  0.034249\n",
      "1        s_B  0.046948\n",
      "2    density  0.029813\n",
      "3   mean_A2B  0.076566\n",
      "4   mean_A2X  0.084488\n",
      "5   mean_B2X  0.026604\n",
      "6   mean_X2X  0.087200\n",
      "7      E_coh  0.124534\n",
      "8         TF  0.029720\n",
      "9         OF  0.045335\n",
      "10       B_Z  0.023390\n",
      "11       X_Z  0.094606\n",
      "12     A_IEI  0.022039\n",
      "13     X_IEI  0.053381\n",
      "14    X_IEII  0.061175\n",
      "15    A_ChiA  0.025063\n",
      "16    X_ChiA  0.023668\n",
      "17      X_Ra  0.054100\n",
      "18     B_Rho  0.030109\n",
      "19   B_Kappa  0.027012\n",
      "-----------------------------------------------------\n",
      "The shape of X is  (80, 20)\n",
      "-----------------------------------------------------\n",
      "The R2 for  100 , squared_error , 2 , 1 , log2  is  0.7324434852918892\n",
      "The RMSE for  100 , squared_error , 2 , 1 , log2  is  0.3408676215127614\n",
      "-----------------------------------------------------\n",
      "The R2 is  0.692504312071586\n",
      "The RMSE is  0.36331754479749595\n"
     ]
    }
   ],
   "source": [
    "X=feature_elimination(X,Y,20,ml_model,method='rfe')\n",
    "ml_model=build_cv_model(X,Y,False,target)\n",
    "run_model(X,Y,ml_model_prime,target)"
   ]
  },
  {
   "cell_type": "code",
   "execution_count": 27,
   "id": "354e0216",
   "metadata": {},
   "outputs": [
    {
     "name": "stdout",
     "output_type": "stream",
     "text": [
      "    Feature     Score\n",
      "0       s_A  0.064415\n",
      "1  mean_A2B  0.091884\n",
      "2  mean_A2X  0.105996\n",
      "3  mean_X2X  0.116719\n",
      "4     E_coh  0.092946\n",
      "5        OF  0.054793\n",
      "6       X_Z  0.203738\n",
      "7     X_IEI  0.106410\n",
      "8    X_IEII  0.088805\n",
      "9      X_Ra  0.074295\n",
      "-----------------------------------------------------\n",
      "The shape of X is  (80, 10)\n",
      "-----------------------------------------------------\n",
      "The R2 for  10 , friedman_mse , 2 , 1 , sqrt  is  0.7364208929219016\n",
      "The RMSE for  10 , friedman_mse , 2 , 1 , sqrt  is  0.3275529888805771\n",
      "-----------------------------------------------------\n",
      "The R2 is  0.6874048526315097\n",
      "The RMSE is  0.3551149438464788\n"
     ]
    }
   ],
   "source": [
    "X=feature_elimination(X,Y,10,ml_model,method='rfe')\n",
    "ml_model=build_cv_model(X,Y,False,target)\n",
    "run_model(X,Y,ml_model_prime,target)"
   ]
  },
  {
   "cell_type": "markdown",
   "id": "7fc100aa",
   "metadata": {},
   "source": [
    "## Minmax scaling"
   ]
  },
  {
   "cell_type": "code",
   "execution_count": 28,
   "id": "3cf3e79b",
   "metadata": {},
   "outputs": [
    {
     "name": "stdout",
     "output_type": "stream",
     "text": [
      "The shape of X is  (80, 76)\n",
      "-----------------------------------------------------\n",
      "The R2 for  100 , friedman_mse , 2 , 1 , log2  is  0.7154245647334927\n",
      "The RMSE for  100 , friedman_mse , 2 , 1 , log2  is  0.08259235411583014\n"
     ]
    }
   ],
   "source": [
    "X,Y = minmax_scaling(target)\n",
    "ml_model=build_cv_model(X,Y,False,target)"
   ]
  },
  {
   "cell_type": "markdown",
   "id": "53c80113",
   "metadata": {},
   "source": [
    "### Drop correlated features"
   ]
  },
  {
   "cell_type": "code",
   "execution_count": 29,
   "id": "08219247",
   "metadata": {},
   "outputs": [
    {
     "name": "stdout",
     "output_type": "stream",
     "text": [
      "The shape of X is  (80, 50)\n",
      "-----------------------------------------------------\n",
      "The R2 for  100 , friedman_mse , 2 , 1 , log2  is  0.7042663515799649\n",
      "The RMSE for  100 , friedman_mse , 2 , 1 , log2  is  0.08391307854173612\n"
     ]
    }
   ],
   "source": [
    "ml_model_prime=build_cv_model(X,Y,True,target)"
   ]
  },
  {
   "cell_type": "markdown",
   "id": "c9d99eda",
   "metadata": {},
   "source": [
    "### Feature elimination"
   ]
  },
  {
   "cell_type": "code",
   "execution_count": 30,
   "id": "cf0fb3e8",
   "metadata": {},
   "outputs": [
    {
     "name": "stdout",
     "output_type": "stream",
     "text": [
      "     Feature     Score\n",
      "0        s_A  0.029087\n",
      "1        s_B  0.022848\n",
      "2        s_X  0.047588\n",
      "3    density  0.012638\n",
      "4   mean_A2B  0.065850\n",
      "5   mean_A2X  0.092873\n",
      "6   mean_B2X  0.006099\n",
      "7   mean_X2X  0.061790\n",
      "8    std_A2X  0.007555\n",
      "9      E_coh  0.028566\n",
      "10        TF  0.006799\n",
      "11        OF  0.016148\n",
      "12       A_Z  0.006415\n",
      "13       B_Z  0.005946\n",
      "14       X_Z  0.097367\n",
      "15       B_G  0.003713\n",
      "16     A_IEI  0.030306\n",
      "17     B_IEI  0.007936\n",
      "18     X_IEI  0.099724\n",
      "19    B_IEII  0.009355\n",
      "20    X_IEII  0.065900\n",
      "21      B_EA  0.004278\n",
      "22      X_EA  0.014592\n",
      "23    A_ChiP  0.005576\n",
      "24    B_ChiP  0.003714\n",
      "25    A_ChiA  0.034528\n",
      "26    X_ChiA  0.009008\n",
      "27    A_Rvdw  0.012346\n",
      "28      B_Ra  0.006380\n",
      "29      X_Ra  0.068490\n",
      "30      B_MP  0.011119\n",
      "31      A_BP  0.009849\n",
      "32     B_Rho  0.011034\n",
      "33      B_MV  0.004872\n",
      "34      X_MV  0.036690\n",
      "35      B_Hf  0.010147\n",
      "36   A_Kappa  0.006816\n",
      "37   B_Kappa  0.008083\n",
      "38   X_Kappa  0.006804\n",
      "39     B_CvM  0.011168\n",
      "-----------------------------------------------------\n",
      "The shape of X is  (80, 40)\n",
      "-----------------------------------------------------\n",
      "The R2 for  10 , absolute_error , 2 , 1 , 0.3  is  0.7414272055903968\n",
      "The RMSE for  10 , absolute_error , 2 , 1 , 0.3  is  0.07446635008306951\n",
      "-----------------------------------------------------\n",
      "The R2 is  0.6994402200762032\n",
      "The RMSE is  0.08719814776929934\n"
     ]
    }
   ],
   "source": [
    "X=feature_elimination(X,Y,40,ml_model_prime,method='rfe')\n",
    "ml_model=build_cv_model(X,Y,False,target)\n",
    "run_model(X,Y,ml_model_prime,target)"
   ]
  },
  {
   "cell_type": "code",
   "execution_count": 31,
   "id": "0ca7c003",
   "metadata": {},
   "outputs": [
    {
     "name": "stdout",
     "output_type": "stream",
     "text": [
      "     Feature     Score\n",
      "0        s_A  0.018667\n",
      "1        s_B  0.013632\n",
      "2    density  0.032119\n",
      "3   mean_A2B  0.030150\n",
      "4   mean_A2X  0.138752\n",
      "5   mean_B2X  0.013071\n",
      "6   mean_X2X  0.115522\n",
      "7      E_coh  0.044271\n",
      "8         TF  0.024864\n",
      "9        A_Z  0.009003\n",
      "10       X_Z  0.108967\n",
      "11       B_G  0.010875\n",
      "12     A_IEI  0.019730\n",
      "13     B_IEI  0.019573\n",
      "14    B_IEII  0.018066\n",
      "15    X_IEII  0.044715\n",
      "16      X_EA  0.118592\n",
      "17    B_ChiP  0.013230\n",
      "18    A_ChiA  0.032763\n",
      "19    A_Rvdw  0.012085\n",
      "20      B_Ra  0.025694\n",
      "21      B_MP  0.023373\n",
      "22      A_BP  0.012493\n",
      "23     B_Rho  0.032952\n",
      "24      B_MV  0.005792\n",
      "25      B_Hf  0.007775\n",
      "26   A_Kappa  0.010881\n",
      "27   B_Kappa  0.027498\n",
      "28   X_Kappa  0.003317\n",
      "29     B_CvM  0.011579\n",
      "-----------------------------------------------------\n",
      "The shape of X is  (80, 30)\n",
      "-----------------------------------------------------\n",
      "The R2 for  100 , friedman_mse , 4 , 1 , sqrt  is  0.6410208132063082\n",
      "The RMSE for  100 , friedman_mse , 4 , 1 , sqrt  is  0.08498836194779248\n",
      "-----------------------------------------------------\n",
      "The R2 is  0.6670184395207337\n",
      "The RMSE is  0.08604129425494486\n"
     ]
    }
   ],
   "source": [
    "X=feature_elimination(X,Y,30,ml_model,method='rfe')\n",
    "ml_model=build_cv_model(X,Y,False,target)\n",
    "run_model(X,Y,ml_model_prime,target)"
   ]
  },
  {
   "cell_type": "code",
   "execution_count": 32,
   "id": "19f11f63",
   "metadata": {},
   "outputs": [
    {
     "name": "stdout",
     "output_type": "stream",
     "text": [
      "     Feature     Score\n",
      "0        s_A  0.022834\n",
      "1        s_B  0.035789\n",
      "2    density  0.015330\n",
      "3   mean_A2B  0.114681\n",
      "4   mean_A2X  0.109069\n",
      "5   mean_X2X  0.091142\n",
      "6      E_coh  0.069941\n",
      "7         TF  0.016505\n",
      "8        X_Z  0.153190\n",
      "9      A_IEI  0.030977\n",
      "10    B_IEII  0.014472\n",
      "11    X_IEII  0.089559\n",
      "12      X_EA  0.088547\n",
      "13    A_ChiA  0.025809\n",
      "14    A_Rvdw  0.040197\n",
      "15      B_Ra  0.011650\n",
      "16      B_MP  0.017437\n",
      "17      A_BP  0.025226\n",
      "18     B_Rho  0.014677\n",
      "19      B_Hf  0.012967\n",
      "-----------------------------------------------------\n",
      "The shape of X is  (80, 20)\n",
      "-----------------------------------------------------\n",
      "The R2 for  100 , friedman_mse , 4 , 1 , log2  is  0.6618764129778725\n",
      "The RMSE for  100 , friedman_mse , 4 , 1 , log2  is  0.08339067888023043\n",
      "-----------------------------------------------------\n",
      "The R2 is  0.6858643991821475\n",
      "The RMSE is  0.08243766777358864\n"
     ]
    }
   ],
   "source": [
    "X=feature_elimination(X,Y,20,ml_model,method='rfe')\n",
    "ml_model=build_cv_model(X,Y,False,target)\n",
    "run_model(X,Y,ml_model_prime,target)"
   ]
  },
  {
   "cell_type": "code",
   "execution_count": 33,
   "id": "435b79d2",
   "metadata": {},
   "outputs": [
    {
     "name": "stdout",
     "output_type": "stream",
     "text": [
      "    Feature     Score\n",
      "0       s_A  0.049868\n",
      "1       s_B  0.063272\n",
      "2  mean_A2B  0.179719\n",
      "3  mean_A2X  0.103358\n",
      "4  mean_X2X  0.125586\n",
      "5     E_coh  0.061740\n",
      "6       X_Z  0.107805\n",
      "7    X_IEII  0.147867\n",
      "8      X_EA  0.129965\n",
      "9     B_Rho  0.030821\n",
      "-----------------------------------------------------\n",
      "The shape of X is  (80, 10)\n",
      "-----------------------------------------------------\n",
      "The R2 for  100 , friedman_mse , 2 , 1 , sqrt  is  0.7215120286279206\n",
      "The RMSE for  100 , friedman_mse , 2 , 1 , sqrt  is  0.08128361059348344\n",
      "-----------------------------------------------------\n",
      "The R2 is  0.7111489511373789\n",
      "The RMSE is  0.08163550154887624\n"
     ]
    }
   ],
   "source": [
    "X=feature_elimination(X,Y,10,ml_model,method='rfe')\n",
    "ml_model=build_cv_model(X,Y,False,target)\n",
    "run_model(X,Y,ml_model_prime,target)"
   ]
  }
 ],
 "metadata": {
  "kernelspec": {
   "display_name": "Python 3 (ipykernel)",
   "language": "python",
   "name": "python3"
  },
  "language_info": {
   "codemirror_mode": {
    "name": "ipython",
    "version": 3
   },
   "file_extension": ".py",
   "mimetype": "text/x-python",
   "name": "python",
   "nbconvert_exporter": "python",
   "pygments_lexer": "ipython3",
   "version": "3.9.12"
  }
 },
 "nbformat": 4,
 "nbformat_minor": 5
}
