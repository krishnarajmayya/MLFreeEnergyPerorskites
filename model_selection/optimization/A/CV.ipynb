{
 "cells": [
  {
   "cell_type": "code",
   "execution_count": 1,
   "metadata": {
    "id": "U1Or_5CpWR5m"
   },
   "outputs": [],
   "source": [
    "import numpy as np\n",
    "import pandas as pd\n",
    "import matplotlib.pyplot as plt\n",
    "from math import sqrt\n",
    "import seaborn as sns \n",
    "import re\n",
    " \n",
    "import warnings # supress warnings\n",
    "warnings.filterwarnings('ignore')"
   ]
  },
  {
   "cell_type": "code",
   "execution_count": 2,
   "metadata": {
    "id": "wd0p9t1imwDC"
   },
   "outputs": [],
   "source": [
    "import sklearn\n",
    "\n",
    "from sklearn.preprocessing import MinMaxScaler, PolynomialFeatures, scale, StandardScaler\n",
    "\n",
    "from sklearn.model_selection import train_test_split, cross_val_score, KFold, GridSearchCV\n",
    "\n",
    "from sklearn.linear_model import LinearRegression, Ridge, Lasso, ElasticNet \n",
    "\n",
    "from sklearn.ensemble import RandomForestRegressor\n",
    "from sklearn.ensemble import GradientBoostingRegressor\n",
    "\n",
    "from sklearn.feature_selection import RFE, SelectKBest, f_regression\n",
    "from sklearn.inspection import permutation_importance\n",
    "\n",
    "from sklearn.gaussian_process import GaussianProcessRegressor\n",
    "from sklearn.gaussian_process.kernels import DotProduct, WhiteKernel, RBF, Matern, RationalQuadratic,Exponentiation\n",
    "from sklearn.gaussian_process.kernels import Kernel, Hyperparameter, ConstantKernel\n",
    "from sklearn.gaussian_process.kernels import GenericKernelMixin\n",
    "\n",
    "from sklearn import metrics\n",
    "from sklearn.metrics import mean_squared_error\n",
    "from sklearn.metrics import r2_score  \n",
    "\n",
    "from sklearn.pipeline import make_pipeline\n",
    "\n",
    "from sklearn.base import clone"
   ]
  },
  {
   "cell_type": "code",
   "execution_count": 3,
   "metadata": {},
   "outputs": [],
   "source": [
    "def run_models():\n",
    "    #rf = RandomForestRegressor(n_estimators= 100, random_state= 10)\n",
    "    rf = RandomForestRegressor(n_estimators=10, criterion='absolute_error', \n",
    "                               min_samples_split=2, min_samples_leaf=1, max_features=0.3)\n",
    "    gb = GradientBoostingRegressor(loss='quantile', alpha=0.5,\n",
    "                                n_estimators=100, max_depth=10,\n",
    "                                learning_rate=0.25, min_samples_leaf=9,\n",
    "                                min_samples_split=2)\n",
    "    rr = Ridge(alpha=0.01)\n",
    "    lasso = Lasso(alpha=0.02)\n",
    "    gpr1 = GaussianProcessRegressor(optimizer='fmin_l_bfgs_b',random_state=50,\n",
    "                                    kernel=DotProduct() + WhiteKernel(),\n",
    "                                    alpha=0.1, n_restarts_optimizer=1)\n",
    "    gpr2 = GaussianProcessRegressor(optimizer='fmin_l_bfgs_b',random_state=50,\n",
    "                                    kernel=1.0 + 1.0 * Exponentiation(RBF(length_scale=1.0), exponent=2) + \n",
    "                                    WhiteKernel(noise_level=0.1), alpha=0.1, n_restarts_optimizer=1)\n",
    "    gpr3 = GaussianProcessRegressor(optimizer='fmin_l_bfgs_b',random_state=50,\n",
    "                                    kernel=1.0 + 1.0 * Exponentiation(RationalQuadratic(length_scale=1.0, \n",
    "                                                                                        alpha=0.01), exponent=2),\n",
    "                                    alpha=0.001, n_restarts_optimizer=1)\n",
    "    gpr4 = GaussianProcessRegressor(optimizer='fmin_l_bfgs_b',random_state=50,\n",
    "                                    kernel=1.0 + 1.0 * Exponentiation(Matern(length_scale=1.0, nu=1.5), exponent=2),\n",
    "                                    alpha=0.01, n_restarts_optimizer=1)\n",
    "    models = [rf,gb,rr,lasso,gpr1,gpr2,gpr3,gpr4]\n",
    "    models_names = [\"RF\",\"GB\",\"RR\",\"LASSO\",\"gpr1\",\"gpr2\",\"gpr3\",\"gpr4\"]\n",
    "    r2scores=[]\n",
    "    rmse=[]\n",
    "    count=0\n",
    "    for model in models :\n",
    "        predicted_y = []\n",
    "        expected_y = []\n",
    "        kf = KFold(n_splits= 10) \n",
    "        # partition data\n",
    "        for train_index, test_index in kf.split(X, Y):\n",
    "            # specific \".loc\" syntax for working with dataframes\n",
    "            x_train, x_test = X.loc[train_index], X.loc[test_index]\n",
    "            y_train, y_test = Y[train_index], Y[test_index]\n",
    "\n",
    "            # create and fit classifier\n",
    "            model.fit(x_train, y_train)\n",
    "\n",
    "            # store result from classification\n",
    "            predicted_y.extend(model.predict(x_test))\n",
    "\n",
    "            # store expected result for this specific fold\n",
    "            expected_y.extend(y_test)\n",
    "        \n",
    "        r2 = metrics.r2_score(expected_y, predicted_y)\n",
    "        r2scores.append(r2)\n",
    "        \n",
    "        err=np.sqrt(metrics.mean_squared_error(expected_y, predicted_y))\n",
    "        rmse.append(err)\n",
    "        \n",
    "        print(models_names[count])\n",
    "        print(\"R2: \",r2.__str__())\n",
    "        print(\"RMSE: \",err)\n",
    "        print(\"---------------------------------------\")\n",
    "        count+=1\n",
    "    \n",
    "    plt.rcdefaults()\n",
    "    fig, ax = plt.subplots()\n",
    "\n",
    "    x_pos = np.arange(len(models_names))\n",
    "    ax.bar(x_pos, r2scores, align='center')\n",
    "    ax.set_xticks(x_pos)\n",
    "    ax.set_xticklabels(models_names)\n",
    "    ax.set_ylabel('R2 Score')\n",
    "    #plt.savefig('imp.eps', format='eps')\n",
    "    #plt.show()\n",
    "    print(r2scores)"
   ]
  },
  {
   "cell_type": "code",
   "execution_count": 4,
   "metadata": {
    "id": "hjdsOVHoYDJB"
   },
   "outputs": [
    {
     "name": "stdout",
     "output_type": "stream",
     "text": [
      "['Name' 'Coef_a' 'Coef_b' 'Coef_c' 'Coef_d' 'A_site' 'B_site' 'X_site'\n",
      " 'Spacegroup' 'Ehull' 'BulkModulus' 'Energy' 'ZPE' 's_A' 's_B' 's_X'\n",
      " 'density' 'mean_A2B' 'mean_A2X' 'mean_B2X' 'mean_X2X' 'std_A2B' 'std_A2X'\n",
      " 'std_B2X' 'std_X2X' 'E_coh' 'TF' 'OF' 'A_Z' 'B_Z' 'X_Z' 'A_M' 'B_M' 'X_M'\n",
      " 'A_G' 'B_G' 'X_G' 'A_IEI' 'B_IEI' 'X_IEI' 'A_IEII' 'B_IEII' 'X_IEII'\n",
      " 'A_EA' 'B_EA' 'X_EA' 'A_ChiP' 'B_ChiP' 'X_ChiP' 'A_ChiA' 'X_ChiA'\n",
      " 'A_Rvdw' 'B_Rvdw' 'X_Rvdw' 'A_Rc' 'B_Rc' 'X_Rc' 'A_Ra' 'B_Ra' 'X_Ra'\n",
      " 'A_MP' 'B_MP' 'X_MP' 'A_BP' 'B_BP' 'X_BP' 'A_Rho' 'B_Rho' 'A_MV' 'B_MV'\n",
      " 'X_MV' 'A_Hf' 'B_Hf' 'X_Hf' 'A_Hv' 'B_Hv' 'X_Hv' 'A_Kappa' 'B_Kappa'\n",
      " 'X_Kappa' 'A_CvM' 'B_CvM' 'X_CvM' 'A_B' 'B_B' 'X_B' 'A_MendeleevNo'\n",
      " 'B_MendeleevNo' 'X_MendeleevNo']\n"
     ]
    }
   ],
   "source": [
    "data = pd.read_csv('Combined_all_3rd_fit.csv', encoding='cp1252')\n",
    "print(data.columns.values)"
   ]
  },
  {
   "cell_type": "code",
   "execution_count": 5,
   "metadata": {
    "id": "5BRaOxKmYmEg"
   },
   "outputs": [],
   "source": [
    "data.drop(['Name', 'A_site', 'B_site', 'X_site', 'Spacegroup','BulkModulus',\n",
    "           'Ehull','Energy','ZPE','Coef_b', 'Coef_c', 'Coef_d'], axis=1, inplace = True)\n",
    "target = 'Coef_a'"
   ]
  },
  {
   "cell_type": "code",
   "execution_count": 6,
   "metadata": {},
   "outputs": [],
   "source": [
    "data.fillna(0, inplace= True)\n",
    "d=data.copy()\n",
    "columns = list(d.columns.values)"
   ]
  },
  {
   "cell_type": "markdown",
   "metadata": {},
   "source": [
    "# Standard Scaling"
   ]
  },
  {
   "cell_type": "code",
   "execution_count": 7,
   "metadata": {},
   "outputs": [],
   "source": [
    "data_std=d.copy()\n",
    "scalerSTD=StandardScaler()\n",
    "scalerSTD.fit(np.array(data[target]).reshape(-1, 1))\n",
    "data_zpe_std= scalerSTD.transform(np.array(data[target]).reshape(-1, 1))\n",
    "data_std[columns]= StandardScaler().fit_transform(d[columns])\n",
    "Y = data_std[target] \n",
    "X = data_std.drop([target], axis=1)"
   ]
  },
  {
   "cell_type": "code",
   "execution_count": 8,
   "metadata": {
    "id": "7-nT8kNsWJRO"
   },
   "outputs": [
    {
     "name": "stdout",
     "output_type": "stream",
     "text": [
      "(80, 51)\n"
     ]
    }
   ],
   "source": [
    "correlated_features = [\"A_Rc\",\"A_Ra\",\"A_M\",\"A_MP\",\"A_MV\",\"A_MendeleevNo\",\"A_Hf\",\"A_Hv\",\"B_Rc\",\n",
    "                       \"B_Rvdw\",\"B_M\",\"B_BP\",\"B_MendeleevNo\",\"B_Hv\",\"X_Rc\",\"X_Rvdw\",\"X_M\",\"X_BP\",\"X_MP\",\n",
    "                       \"X_MendeleevNo\",\"X_Hf\",\"X_Hv\",\"X_G\",\"X_B\",\"X_CvM\",\"X_ChiP\"]\n",
    "data_std.drop(labels=correlated_features, axis=1, inplace=True)\n",
    "print(data_std.shape)\n",
    "Y = data_std[target] \n",
    "X = data_std.drop([target], axis=1)"
   ]
  },
  {
   "cell_type": "code",
   "execution_count": 9,
   "metadata": {},
   "outputs": [],
   "source": [
    "#data_std.to_csv(\"scaled_non_correlated.csv\")"
   ]
  },
  {
   "cell_type": "markdown",
   "metadata": {
    "id": "ZaJDp0jdzwnZ"
   },
   "source": [
    "### Using CV technique"
   ]
  },
  {
   "cell_type": "code",
   "execution_count": 10,
   "metadata": {},
   "outputs": [
    {
     "name": "stdout",
     "output_type": "stream",
     "text": [
      "RF\n",
      "R2:  0.8514660408956289\n",
      "RMSE:  0.38540103671937764\n",
      "---------------------------------------\n",
      "GB\n",
      "R2:  0.8242097620002977\n",
      "RMSE:  0.41927346445929803\n",
      "---------------------------------------\n",
      "RR\n",
      "R2:  -1.0841497830225935\n",
      "RMSE:  1.4436584717385872\n",
      "---------------------------------------\n",
      "LASSO\n",
      "R2:  0.8079592410400311\n",
      "RMSE:  0.438224553123132\n",
      "---------------------------------------\n",
      "gpr1\n",
      "R2:  0.36916043022907397\n",
      "RMSE:  0.7942540964772709\n",
      "---------------------------------------\n",
      "gpr2\n",
      "R2:  0.8713125356966502\n",
      "RMSE:  0.35873035040730755\n",
      "---------------------------------------\n",
      "gpr3\n",
      "R2:  0.8814756448432871\n",
      "RMSE:  0.34427366317613217\n",
      "---------------------------------------\n",
      "gpr4\n",
      "R2:  0.8716640231168892\n",
      "RMSE:  0.3582401106564015\n",
      "---------------------------------------\n",
      "[0.8514660408956289, 0.8242097620002977, -1.0841497830225935, 0.8079592410400311, 0.36916043022907397, 0.8713125356966502, 0.8814756448432871, 0.8716640231168892]\n"
     ]
    },
    {
     "data": {
      "image/png": "[encoded data removed]",
      "text/plain": [
       "<Figure size 640x480 with 1 Axes>"
      ]
     },
     "metadata": {},
     "output_type": "display_data"
    }
   ],
   "source": [
    "run_models()"
   ]
  },
  {
   "cell_type": "markdown",
   "metadata": {
    "id": "_x7bQR-jz4WE"
   },
   "source": [
    "## Feature selection\n"
   ]
  },
  {
   "cell_type": "code",
   "execution_count": 11,
   "metadata": {
    "colab": {
     "base_uri": "https://localhost:8080/"
    },
    "id": "RpTITR9vz7Th",
    "outputId": "b1c134f4-85a3-49a7-fa3a-34f5d4896d01"
   },
   "outputs": [
    {
     "name": "stdout",
     "output_type": "stream",
     "text": [
      "     Feature       Score\n",
      "4   mean_A2B  135.546281\n",
      "2        s_X   97.521570\n",
      "35      X_Ra   88.664521\n",
      "28      X_EA   87.903070\n",
      "17       X_Z   87.153415\n",
      "7   mean_X2X   77.101385\n",
      "33    A_Rvdw   64.765740\n",
      "0        s_A   56.272893\n",
      "5   mean_A2X   54.501373\n",
      "1        s_B   51.629862\n",
      "20     A_IEI   41.774757\n",
      "12     E_coh   36.615505\n",
      "31    A_ChiA   21.738026\n",
      "9    std_A2X   19.689607\n",
      "25    X_IEII   19.320300\n",
      "42      B_Hf   18.855125\n",
      "29    A_ChiP   18.434576\n",
      "36      B_MP   15.078645\n",
      "37      A_BP   14.590560\n",
      "10   std_B2X   13.447665\n",
      "15       A_Z   13.107769\n",
      "45   X_Kappa   12.936079\n",
      "26      A_EA   12.189494\n",
      "34      B_Ra   10.925759\n",
      "14        OF    9.747189\n",
      "46     A_CvM    9.336114\n",
      "16       B_Z    9.046251\n",
      "43   A_Kappa    8.888579\n",
      "44   B_Kappa    7.588177\n",
      "32    X_ChiA    7.287500\n"
     ]
    }
   ],
   "source": [
    "#apply SelectKBest class to extract top 10 best features\n",
    "bestfeatures = SelectKBest(score_func=f_regression, k=10)\n",
    "fit = bestfeatures.fit(X,Y)\n",
    "dfscores = pd.DataFrame(fit.scores_)\n",
    "dfcolumns = pd.DataFrame(X.columns)\n",
    "#concat two dataframes for better visualization \n",
    "featureScores = pd.concat([dfcolumns,dfscores],axis=1)\n",
    "featureScores.columns = ['Feature','Score']  #naming the dataframe columns\n",
    "print(featureScores.nlargest(30,'Score'))  #print 10 best features"
   ]
  },
  {
   "cell_type": "code",
   "execution_count": 12,
   "metadata": {},
   "outputs": [
    {
     "data": {
      "text/plain": [
       "array(['mean_A2B', 's_X', 'X_Ra', 'X_EA', 'X_Z', 'mean_X2X', 'A_Rvdw',\n",
       "       's_A', 'mean_A2X', 's_B', 'A_IEI', 'E_coh', 'A_ChiA', 'std_A2X',\n",
       "       'X_IEII', 'B_Hf', 'A_ChiP', 'B_MP', 'A_BP', 'std_B2X', 'A_Z',\n",
       "       'X_Kappa', 'A_EA', 'B_Ra', 'OF', 'A_CvM', 'B_Z', 'A_Kappa',\n",
       "       'B_Kappa', 'X_ChiA', 'std_A2B', 'A_B', 'B_MV', 'X_MV', 'A_G',\n",
       "       'X_IEI', 'B_Rho', 'B_EA', 'B_CvM', 'std_X2X'], dtype=object)"
      ]
     },
     "execution_count": 12,
     "metadata": {},
     "output_type": "execute_result"
    }
   ],
   "source": [
    "featureScores.nlargest(40,'Score')['Feature'].values"
   ]
  },
  {
   "cell_type": "code",
   "execution_count": 13,
   "metadata": {},
   "outputs": [],
   "source": [
    "X=X[featureScores.nlargest(40,'Score')['Feature'].values]"
   ]
  },
  {
   "cell_type": "code",
   "execution_count": 14,
   "metadata": {},
   "outputs": [
    {
     "name": "stdout",
     "output_type": "stream",
     "text": [
      "RF\n",
      "R2:  0.8441914118638763\n",
      "RMSE:  0.394725965875218\n",
      "---------------------------------------\n",
      "GB\n",
      "R2:  0.8445205455958958\n",
      "RMSE:  0.39430883125299654\n",
      "---------------------------------------\n",
      "RR\n",
      "R2:  -0.1565341575882575\n",
      "RMSE:  1.075422780857955\n",
      "---------------------------------------\n",
      "LASSO\n",
      "R2:  0.8128239896376044\n",
      "RMSE:  0.43263842913268297\n",
      "---------------------------------------\n",
      "gpr1\n",
      "R2:  0.6074650297564383\n",
      "RMSE:  0.6265261129781915\n",
      "---------------------------------------\n",
      "gpr2\n",
      "R2:  0.8754053551441103\n",
      "RMSE:  0.3529796663490543\n",
      "---------------------------------------\n",
      "gpr3\n",
      "R2:  0.8919456150979521\n",
      "RMSE:  0.3287162680824419\n",
      "---------------------------------------\n",
      "gpr4\n",
      "R2:  0.8797015717855682\n",
      "RMSE:  0.3468406380665792\n",
      "---------------------------------------\n",
      "[0.8441914118638763, 0.8445205455958958, -0.1565341575882575, 0.8128239896376044, 0.6074650297564383, 0.8754053551441103, 0.8919456150979521, 0.8797015717855682]\n"
     ]
    },
    {
     "data": {
      "image/png": "[encoded data removed]",
      "text/plain": [
       "<Figure size 640x480 with 1 Axes>"
      ]
     },
     "metadata": {},
     "output_type": "display_data"
    }
   ],
   "source": [
    "run_models()"
   ]
  },
  {
   "cell_type": "code",
   "execution_count": 15,
   "metadata": {},
   "outputs": [
    {
     "data": {
      "text/plain": [
       "array(['mean_A2B', 's_X', 'X_Ra', 'X_EA', 'X_Z', 'mean_X2X', 'A_Rvdw',\n",
       "       's_A', 'mean_A2X', 's_B', 'A_IEI', 'E_coh', 'A_ChiA', 'std_A2X',\n",
       "       'X_IEII', 'B_Hf', 'A_ChiP', 'B_MP', 'A_BP', 'std_B2X', 'A_Z',\n",
       "       'X_Kappa', 'A_EA', 'B_Ra', 'OF', 'A_CvM', 'B_Z', 'A_Kappa',\n",
       "       'B_Kappa', 'X_ChiA'], dtype=object)"
      ]
     },
     "execution_count": 15,
     "metadata": {},
     "output_type": "execute_result"
    }
   ],
   "source": [
    "featureScores.nlargest(30,'Score')['Feature'].values"
   ]
  },
  {
   "cell_type": "code",
   "execution_count": 16,
   "metadata": {},
   "outputs": [],
   "source": [
    "X=X[featureScores.nlargest(30,'Score')['Feature'].values]\n",
    "t30_columns = ['mean_A2B', 's_X', 'X_Ra', 'X_EA', 'X_Z', 'mean_X2X', 'A_Rvdw',\n",
    "       's_A', 'mean_A2X', 's_B', 'A_IEI', 'E_coh', 'A_ChiA', 'std_A2X',\n",
    "       'X_IEII', 'B_Hf', 'A_ChiP', 'B_MP', 'A_BP', 'std_B2X', 'A_Z',\n",
    "       'X_Kappa', 'A_EA', 'B_Ra', 'OF', 'A_CvM', 'B_Z', 'A_Kappa',\n",
    "       'B_Kappa', 'X_ChiA']\n",
    "data_save=data_std[t30_columns]\n",
    "#data_save.to_csv(\"scaled_top_30.csv\")"
   ]
  },
  {
   "cell_type": "code",
   "execution_count": 17,
   "metadata": {},
   "outputs": [
    {
     "name": "stdout",
     "output_type": "stream",
     "text": [
      "RF\n",
      "R2:  0.8544736830236221\n",
      "RMSE:  0.3814791173529396\n",
      "---------------------------------------\n",
      "GB\n",
      "R2:  0.8327825009943515\n",
      "RMSE:  0.4089223630539769\n",
      "---------------------------------------\n",
      "RR\n",
      "R2:  0.558882420420459\n",
      "RMSE:  0.664166831134724\n",
      "---------------------------------------\n",
      "LASSO\n",
      "R2:  0.8162237208543873\n",
      "RMSE:  0.4286913565091004\n",
      "---------------------------------------\n",
      "gpr1\n",
      "R2:  0.6270485862653974\n",
      "RMSE:  0.6106974813560332\n",
      "---------------------------------------\n",
      "gpr2\n",
      "R2:  0.8810250374057798\n",
      "RMSE:  0.3449274743974742\n",
      "---------------------------------------\n",
      "gpr3\n",
      "R2:  0.9015695381289655\n",
      "RMSE:  0.31373629351899107\n",
      "---------------------------------------\n",
      "gpr4\n",
      "R2:  0.8940785460983719\n",
      "RMSE:  0.3254557633559868\n",
      "---------------------------------------\n",
      "[0.8544736830236221, 0.8327825009943515, 0.558882420420459, 0.8162237208543873, 0.6270485862653974, 0.8810250374057798, 0.9015695381289655, 0.8940785460983719]\n"
     ]
    },
    {
     "data": {
      "image/png": "[encoded data removed]",
      "text/plain": [
       "<Figure size 640x480 with 1 Axes>"
      ]
     },
     "metadata": {},
     "output_type": "display_data"
    }
   ],
   "source": [
    "run_models()"
   ]
  },
  {
   "cell_type": "code",
   "execution_count": 18,
   "metadata": {},
   "outputs": [
    {
     "data": {
      "text/plain": [
       "array(['mean_A2B', 's_X', 'X_Ra', 'X_EA', 'X_Z', 'mean_X2X', 'A_Rvdw',\n",
       "       's_A', 'mean_A2X', 's_B', 'A_IEI', 'E_coh', 'A_ChiA', 'std_A2X',\n",
       "       'X_IEII', 'B_Hf', 'A_ChiP', 'B_MP', 'A_BP', 'std_B2X'],\n",
       "      dtype=object)"
      ]
     },
     "execution_count": 18,
     "metadata": {},
     "output_type": "execute_result"
    }
   ],
   "source": [
    "featureScores.nlargest(20,'Score')['Feature'].values"
   ]
  },
  {
   "cell_type": "code",
   "execution_count": 19,
   "metadata": {},
   "outputs": [],
   "source": [
    "X=X[featureScores.nlargest(20,'Score')['Feature'].values]"
   ]
  },
  {
   "cell_type": "code",
   "execution_count": 20,
   "metadata": {},
   "outputs": [
    {
     "name": "stdout",
     "output_type": "stream",
     "text": [
      "RF\n",
      "R2:  0.8569323163317992\n",
      "RMSE:  0.37824288977877796\n",
      "---------------------------------------\n",
      "GB\n",
      "R2:  0.8124832596331215\n",
      "RMSE:  0.43303203157142833\n",
      "---------------------------------------\n",
      "RR\n",
      "R2:  0.7701258486644427\n",
      "RMSE:  0.47945192807575326\n",
      "---------------------------------------\n",
      "LASSO\n",
      "R2:  0.825124292155084\n",
      "RMSE:  0.41818142934008434\n",
      "---------------------------------------\n",
      "gpr1\n",
      "R2:  0.7975193214683269\n",
      "RMSE:  0.44997853118973696\n",
      "---------------------------------------\n",
      "gpr2\n",
      "R2:  0.8757319179941458\n",
      "RMSE:  0.3525167825875162\n",
      "---------------------------------------\n",
      "gpr3\n",
      "R2:  0.896126946990621\n",
      "RMSE:  0.32229342687895296\n",
      "---------------------------------------\n",
      "gpr4\n",
      "R2:  0.8941719694789276\n",
      "RMSE:  0.32531220469123556\n",
      "---------------------------------------\n",
      "[0.8569323163317992, 0.8124832596331215, 0.7701258486644427, 0.825124292155084, 0.7975193214683269, 0.8757319179941458, 0.896126946990621, 0.8941719694789276]\n"
     ]
    },
    {
     "data": {
      "image/png": "[encoded data removed]",
      "text/plain": [
       "<Figure size 640x480 with 1 Axes>"
      ]
     },
     "metadata": {},
     "output_type": "display_data"
    }
   ],
   "source": [
    "run_models()"
   ]
  },
  {
   "cell_type": "code",
   "execution_count": 21,
   "metadata": {},
   "outputs": [
    {
     "data": {
      "text/plain": [
       "array(['mean_A2B', 's_X', 'X_Ra', 'X_EA', 'X_Z', 'mean_X2X', 'A_Rvdw',\n",
       "       's_A', 'mean_A2X', 's_B'], dtype=object)"
      ]
     },
     "execution_count": 21,
     "metadata": {},
     "output_type": "execute_result"
    }
   ],
   "source": [
    "featureScores.nlargest(10,'Score')['Feature'].values"
   ]
  },
  {
   "cell_type": "code",
   "execution_count": 22,
   "metadata": {},
   "outputs": [],
   "source": [
    "X=X[featureScores.nlargest(10,'Score')['Feature'].values]"
   ]
  },
  {
   "cell_type": "code",
   "execution_count": 23,
   "metadata": {},
   "outputs": [
    {
     "name": "stdout",
     "output_type": "stream",
     "text": [
      "RF\n",
      "R2:  0.863858349486206\n",
      "RMSE:  0.36897378025246463\n",
      "---------------------------------------\n",
      "GB\n",
      "R2:  0.8482208014135353\n",
      "RMSE:  0.3895884990428551\n",
      "---------------------------------------\n",
      "RR\n",
      "R2:  0.7955483091843027\n",
      "RMSE:  0.4521633452809916\n",
      "---------------------------------------\n",
      "LASSO\n",
      "R2:  0.8146539335798268\n",
      "RMSE:  0.43051836943407323\n",
      "---------------------------------------\n",
      "gpr1\n",
      "R2:  0.8105890727978433\n",
      "RMSE:  0.43521365695731173\n",
      "---------------------------------------\n",
      "gpr2\n",
      "R2:  0.8760873299630276\n",
      "RMSE:  0.3520123151779954\n",
      "---------------------------------------\n",
      "gpr3\n",
      "R2:  0.8917646997618653\n",
      "RMSE:  0.3289913376338877\n",
      "---------------------------------------\n",
      "gpr4\n",
      "R2:  0.892468444018858\n",
      "RMSE:  0.3279200451042021\n",
      "---------------------------------------\n",
      "[0.863858349486206, 0.8482208014135353, 0.7955483091843027, 0.8146539335798268, 0.8105890727978433, 0.8760873299630276, 0.8917646997618653, 0.892468444018858]\n"
     ]
    },
    {
     "data": {
      "image/png": "[encoded data removed]",
      "text/plain": [
       "<Figure size 640x480 with 1 Axes>"
      ]
     },
     "metadata": {},
     "output_type": "display_data"
    }
   ],
   "source": [
    "run_models()"
   ]
  },
  {
   "cell_type": "markdown",
   "metadata": {},
   "source": [
    "# Min-Max scaling"
   ]
  },
  {
   "cell_type": "code",
   "execution_count": 24,
   "metadata": {},
   "outputs": [],
   "source": [
    "data_std=d.copy()\n",
    "scalerMM=MinMaxScaler()\n",
    "scalerMM.fit(np.array(data[target]).reshape(-1, 1))\n",
    "data_zpe_mm= scalerMM.transform(np.array(data[target]).reshape(-1, 1))\n",
    "data_std[columns]= MinMaxScaler().fit_transform(d[columns])\n",
    "Y = data_std[target] \n",
    "X = data_std.drop([target], axis=1)"
   ]
  },
  {
   "cell_type": "code",
   "execution_count": 25,
   "metadata": {},
   "outputs": [
    {
     "name": "stdout",
     "output_type": "stream",
     "text": [
      "(80, 51)\n"
     ]
    }
   ],
   "source": [
    "correlated_features = [\"A_Rc\",\"A_Ra\",\"A_M\",\"A_MP\",\"A_MV\",\"A_MendeleevNo\",\"A_Hf\",\"A_Hv\",\"B_Rc\",\n",
    "                       \"B_Rvdw\",\"B_M\",\"B_BP\",\"B_MendeleevNo\",\"B_Hv\",\"X_Rc\",\"X_Rvdw\",\"X_M\",\"X_BP\",\"X_MP\",\n",
    "                       \"X_MendeleevNo\",\"X_Hf\",\"X_Hv\",\"X_G\",\"X_B\",\"X_CvM\",\"X_ChiP\"]\n",
    "data_std.drop(labels=correlated_features, axis=1, inplace=True)\n",
    "print(data_std.shape)\n",
    "Y = data_std[target] \n",
    "X = data_std.drop([target], axis=1)\n",
    "#data_std.to_csv('Coef_a_scaled_non_corr_all.csv',index=False)"
   ]
  },
  {
   "cell_type": "code",
   "execution_count": null,
   "metadata": {},
   "outputs": [],
   "source": [
    "#data_std.to_csv(\"scaled_non_correlated.csv\")"
   ]
  },
  {
   "cell_type": "markdown",
   "metadata": {
    "id": "ZaJDp0jdzwnZ"
   },
   "source": [
    "### Using CV technique"
   ]
  },
  {
   "cell_type": "code",
   "execution_count": 26,
   "metadata": {},
   "outputs": [
    {
     "name": "stdout",
     "output_type": "stream",
     "text": [
      "RF\n",
      "R2:  0.8366843428191617\n",
      "RMSE:  0.09547299385685744\n",
      "---------------------------------------\n",
      "GB\n",
      "R2:  0.8299895678668714\n",
      "RMSE:  0.09741019565616191\n",
      "---------------------------------------\n",
      "RR\n",
      "R2:  0.5995735777725878\n",
      "RMSE:  0.14949545640931422\n",
      "---------------------------------------\n",
      "LASSO\n",
      "R2:  0.6372838744769733\n",
      "RMSE:  0.14228203297413256\n",
      "---------------------------------------\n",
      "gpr1\n",
      "R2:  0.760482233915717\n",
      "RMSE:  0.11562067387907737\n",
      "---------------------------------------\n",
      "gpr2\n",
      "R2:  -0.08122369647337613\n",
      "RMSE:  0.24565432100098394\n",
      "---------------------------------------\n",
      "gpr3\n",
      "R2:  0.8780365274314221\n",
      "RMSE:  0.08250523784866767\n",
      "---------------------------------------\n",
      "gpr4\n",
      "R2:  0.8544422425348714\n",
      "RMSE:  0.09013309995316615\n",
      "---------------------------------------\n",
      "[0.8366843428191617, 0.8299895678668714, 0.5995735777725878, 0.6372838744769733, 0.760482233915717, -0.08122369647337613, 0.8780365274314221, 0.8544422425348714]\n"
     ]
    },
    {
     "data": {
      "image/png": "[encoded data removed]",
      "text/plain": [
       "<Figure size 640x480 with 1 Axes>"
      ]
     },
     "metadata": {},
     "output_type": "display_data"
    }
   ],
   "source": [
    "run_models()"
   ]
  },
  {
   "cell_type": "markdown",
   "metadata": {
    "id": "_x7bQR-jz4WE"
   },
   "source": [
    "## Feature selection\n"
   ]
  },
  {
   "cell_type": "code",
   "execution_count": 27,
   "metadata": {
    "colab": {
     "base_uri": "https://localhost:8080/"
    },
    "id": "RpTITR9vz7Th",
    "outputId": "b1c134f4-85a3-49a7-fa3a-34f5d4896d01"
   },
   "outputs": [
    {
     "name": "stdout",
     "output_type": "stream",
     "text": [
      "     Feature       Score\n",
      "4   mean_A2B  135.546281\n",
      "2        s_X   97.521570\n",
      "35      X_Ra   88.664521\n",
      "28      X_EA   87.903070\n",
      "17       X_Z   87.153415\n",
      "7   mean_X2X   77.101385\n",
      "33    A_Rvdw   64.765740\n",
      "0        s_A   56.272893\n",
      "5   mean_A2X   54.501373\n",
      "1        s_B   51.629862\n",
      "20     A_IEI   41.774757\n",
      "12     E_coh   36.615505\n",
      "31    A_ChiA   21.738026\n",
      "9    std_A2X   19.689607\n",
      "25    X_IEII   19.320300\n",
      "42      B_Hf   18.855125\n",
      "29    A_ChiP   18.434576\n",
      "36      B_MP   15.078645\n",
      "37      A_BP   14.590560\n",
      "10   std_B2X   13.447665\n",
      "15       A_Z   13.107769\n",
      "45   X_Kappa   12.936079\n",
      "26      A_EA   12.189494\n",
      "34      B_Ra   10.925759\n",
      "14        OF    9.747189\n",
      "46     A_CvM    9.336114\n",
      "16       B_Z    9.046251\n",
      "43   A_Kappa    8.888579\n",
      "44   B_Kappa    7.588177\n",
      "32    X_ChiA    7.287500\n"
     ]
    }
   ],
   "source": [
    "#apply SelectKBest class to extract top 10 best features\n",
    "bestfeatures = SelectKBest(score_func=f_regression, k=10)\n",
    "fit = bestfeatures.fit(X,Y)\n",
    "dfscores = pd.DataFrame(fit.scores_)\n",
    "dfcolumns = pd.DataFrame(X.columns)\n",
    "#concat two dataframes for better visualization \n",
    "featureScores = pd.concat([dfcolumns,dfscores],axis=1)\n",
    "featureScores.columns = ['Feature','Score']  #naming the dataframe columns\n",
    "print(featureScores.nlargest(30,'Score'))  #print 10 best features"
   ]
  },
  {
   "cell_type": "code",
   "execution_count": 28,
   "metadata": {},
   "outputs": [
    {
     "data": {
      "text/plain": [
       "array(['mean_A2B', 's_X', 'X_Ra', 'X_EA', 'X_Z', 'mean_X2X', 'A_Rvdw',\n",
       "       's_A', 'mean_A2X', 's_B', 'A_IEI', 'E_coh', 'A_ChiA', 'std_A2X',\n",
       "       'X_IEII', 'B_Hf', 'A_ChiP', 'B_MP', 'A_BP', 'std_B2X', 'A_Z',\n",
       "       'X_Kappa', 'A_EA', 'B_Ra', 'OF', 'A_CvM', 'B_Z', 'A_Kappa',\n",
       "       'B_Kappa', 'X_ChiA', 'std_A2B', 'A_B', 'B_MV', 'X_MV', 'A_G',\n",
       "       'X_IEI', 'B_Rho', 'B_EA', 'B_CvM', 'std_X2X'], dtype=object)"
      ]
     },
     "execution_count": 28,
     "metadata": {},
     "output_type": "execute_result"
    }
   ],
   "source": [
    "featureScores.nlargest(40,'Score')['Feature'].values"
   ]
  },
  {
   "cell_type": "code",
   "execution_count": 29,
   "metadata": {},
   "outputs": [],
   "source": [
    "X=X[featureScores.nlargest(40,'Score')['Feature'].values]"
   ]
  },
  {
   "cell_type": "code",
   "execution_count": 30,
   "metadata": {},
   "outputs": [
    {
     "name": "stdout",
     "output_type": "stream",
     "text": [
      "RF\n",
      "R2:  0.8687668408511415\n",
      "RMSE:  0.08558318047240825\n",
      "---------------------------------------\n",
      "GB\n",
      "R2:  0.8380468961186569\n",
      "RMSE:  0.0950738909354326\n",
      "---------------------------------------\n",
      "RR\n",
      "R2:  0.5703043821482148\n",
      "RMSE:  0.15486279468511113\n",
      "---------------------------------------\n",
      "LASSO\n",
      "R2:  0.6373045990625608\n",
      "RMSE:  0.1422779681172317\n",
      "---------------------------------------\n",
      "gpr1\n",
      "R2:  0.750872851071786\n",
      "RMSE:  0.11791720023452384\n",
      "---------------------------------------\n",
      "gpr2\n",
      "R2:  -0.08122357658989476\n",
      "RMSE:  0.2456543073822036\n",
      "---------------------------------------\n",
      "gpr3\n",
      "R2:  0.8878481428391716\n",
      "RMSE:  0.07911700979080999\n",
      "---------------------------------------\n",
      "gpr4\n",
      "R2:  0.8586066450578288\n",
      "RMSE:  0.08883439106944492\n",
      "---------------------------------------\n",
      "[0.8687668408511415, 0.8380468961186569, 0.5703043821482148, 0.6373045990625608, 0.750872851071786, -0.08122357658989476, 0.8878481428391716, 0.8586066450578288]\n"
     ]
    },
    {
     "data": {
      "image/png": "[encoded data removed]",
      "text/plain": [
       "<Figure size 640x480 with 1 Axes>"
      ]
     },
     "metadata": {},
     "output_type": "display_data"
    }
   ],
   "source": [
    "run_models()"
   ]
  },
  {
   "cell_type": "code",
   "execution_count": 31,
   "metadata": {},
   "outputs": [
    {
     "data": {
      "text/plain": [
       "array(['mean_A2B', 's_X', 'X_Ra', 'X_EA', 'X_Z', 'mean_X2X', 'A_Rvdw',\n",
       "       's_A', 'mean_A2X', 's_B', 'A_IEI', 'E_coh', 'A_ChiA', 'std_A2X',\n",
       "       'X_IEII', 'B_Hf', 'A_ChiP', 'B_MP', 'A_BP', 'std_B2X', 'A_Z',\n",
       "       'X_Kappa', 'A_EA', 'B_Ra', 'OF', 'A_CvM', 'B_Z', 'A_Kappa',\n",
       "       'B_Kappa', 'X_ChiA'], dtype=object)"
      ]
     },
     "execution_count": 31,
     "metadata": {},
     "output_type": "execute_result"
    }
   ],
   "source": [
    "featureScores.nlargest(30,'Score')['Feature'].values"
   ]
  },
  {
   "cell_type": "code",
   "execution_count": 32,
   "metadata": {},
   "outputs": [],
   "source": [
    "X=X[featureScores.nlargest(30,'Score')['Feature'].values]"
   ]
  },
  {
   "cell_type": "code",
   "execution_count": 33,
   "metadata": {},
   "outputs": [
    {
     "name": "stdout",
     "output_type": "stream",
     "text": [
      "RF\n",
      "R2:  0.8249960567233413\n",
      "RMSE:  0.09883039867984084\n",
      "---------------------------------------\n",
      "GB\n",
      "R2:  0.8403634626027348\n",
      "RMSE:  0.09439147652009988\n",
      "---------------------------------------\n",
      "RR\n",
      "R2:  0.6092343623569391\n",
      "RMSE:  0.14768106423205196\n",
      "---------------------------------------\n",
      "LASSO\n",
      "R2:  0.6373045990625608\n",
      "RMSE:  0.1422779681172317\n",
      "---------------------------------------\n",
      "gpr1\n",
      "R2:  0.7604513201224326\n",
      "RMSE:  0.11562813503393775\n",
      "---------------------------------------\n",
      "gpr2\n",
      "R2:  -0.08122360078491919\n",
      "RMSE:  0.2456543101307618\n",
      "---------------------------------------\n",
      "gpr3\n",
      "R2:  0.8967562050178857\n",
      "RMSE:  0.07590993331406114\n",
      "---------------------------------------\n",
      "gpr4\n",
      "R2:  0.8635715770237415\n",
      "RMSE:  0.087260773736754\n",
      "---------------------------------------\n",
      "[0.8249960567233413, 0.8403634626027348, 0.6092343623569391, 0.6373045990625608, 0.7604513201224326, -0.08122360078491919, 0.8967562050178857, 0.8635715770237415]\n"
     ]
    },
    {
     "data": {
      "image/png": "[encoded data removed]",
      "text/plain": [
       "<Figure size 640x480 with 1 Axes>"
      ]
     },
     "metadata": {},
     "output_type": "display_data"
    }
   ],
   "source": [
    "run_models()"
   ]
  },
  {
   "cell_type": "code",
   "execution_count": 34,
   "metadata": {},
   "outputs": [
    {
     "data": {
      "text/plain": [
       "array(['mean_A2B', 's_X', 'X_Ra', 'X_EA', 'X_Z', 'mean_X2X', 'A_Rvdw',\n",
       "       's_A', 'mean_A2X', 's_B', 'A_IEI', 'E_coh', 'A_ChiA', 'std_A2X',\n",
       "       'X_IEII', 'B_Hf', 'A_ChiP', 'B_MP', 'A_BP', 'std_B2X'],\n",
       "      dtype=object)"
      ]
     },
     "execution_count": 34,
     "metadata": {},
     "output_type": "execute_result"
    }
   ],
   "source": [
    "featureScores.nlargest(20,'Score')['Feature'].values"
   ]
  },
  {
   "cell_type": "code",
   "execution_count": 35,
   "metadata": {},
   "outputs": [],
   "source": [
    "X=X[featureScores.nlargest(20,'Score')['Feature'].values]"
   ]
  },
  {
   "cell_type": "code",
   "execution_count": 36,
   "metadata": {},
   "outputs": [
    {
     "name": "stdout",
     "output_type": "stream",
     "text": [
      "RF\n",
      "R2:  0.8544009866302441\n",
      "RMSE:  0.09014587240579701\n",
      "---------------------------------------\n",
      "GB\n",
      "R2:  0.8317607214227196\n",
      "RMSE:  0.09690146182542728\n",
      "---------------------------------------\n",
      "RR\n",
      "R2:  0.7827179896647283\n",
      "RMSE:  0.11012312206360304\n",
      "---------------------------------------\n",
      "LASSO\n",
      "R2:  0.6394925210709936\n",
      "RMSE:  0.14184818050612527\n",
      "---------------------------------------\n",
      "gpr1\n",
      "R2:  0.8128163841670928\n",
      "RMSE:  0.10221168460558917\n",
      "---------------------------------------\n",
      "gpr2\n",
      "R2:  -0.08122359585464212\n",
      "RMSE:  0.24565430957068163\n",
      "---------------------------------------\n",
      "gpr3\n",
      "R2:  0.8896164227020932\n",
      "RMSE:  0.0784908192912864\n",
      "---------------------------------------\n",
      "gpr4\n",
      "R2:  0.8645297551591659\n",
      "RMSE:  0.08695380438079965\n",
      "---------------------------------------\n",
      "[0.8544009866302441, 0.8317607214227196, 0.7827179896647283, 0.6394925210709936, 0.8128163841670928, -0.08122359585464212, 0.8896164227020932, 0.8645297551591659]\n"
     ]
    },
    {
     "data": {
      "image/png": "[encoded data removed]",
      "text/plain": [
       "<Figure size 640x480 with 1 Axes>"
      ]
     },
     "metadata": {},
     "output_type": "display_data"
    }
   ],
   "source": [
    "run_models()"
   ]
  },
  {
   "cell_type": "code",
   "execution_count": 37,
   "metadata": {},
   "outputs": [
    {
     "data": {
      "text/plain": [
       "array(['mean_A2B', 's_X', 'X_Ra', 'X_EA', 'X_Z', 'mean_X2X', 'A_Rvdw',\n",
       "       's_A', 'mean_A2X', 's_B'], dtype=object)"
      ]
     },
     "execution_count": 37,
     "metadata": {},
     "output_type": "execute_result"
    }
   ],
   "source": [
    "featureScores.nlargest(10,'Score')['Feature'].values"
   ]
  },
  {
   "cell_type": "code",
   "execution_count": 38,
   "metadata": {},
   "outputs": [],
   "source": [
    "X=X[featureScores.nlargest(10,'Score')['Feature'].values]"
   ]
  },
  {
   "cell_type": "code",
   "execution_count": 39,
   "metadata": {},
   "outputs": [
    {
     "name": "stdout",
     "output_type": "stream",
     "text": [
      "RF\n",
      "R2:  0.8475808891964914\n",
      "RMSE:  0.09223300148704273\n",
      "---------------------------------------\n",
      "GB\n",
      "R2:  0.8438159750598488\n",
      "RMSE:  0.09336517925144566\n",
      "---------------------------------------\n",
      "RR\n",
      "R2:  0.7994006484145355\n",
      "RMSE:  0.10581113975908231\n",
      "---------------------------------------\n",
      "LASSO\n",
      "R2:  0.6394925210709936\n",
      "RMSE:  0.14184818050612527\n",
      "---------------------------------------\n",
      "gpr1\n",
      "R2:  0.8277497644881024\n",
      "RMSE:  0.09804976163824654\n",
      "---------------------------------------\n",
      "gpr2\n",
      "R2:  -0.0812235506875616\n",
      "RMSE:  0.2456543044396948\n",
      "---------------------------------------\n",
      "gpr3\n",
      "R2:  0.8866130978736272\n",
      "RMSE:  0.07955144542061217\n",
      "---------------------------------------\n",
      "gpr4\n",
      "R2:  0.8601830812339335\n",
      "RMSE:  0.0883377825803169\n",
      "---------------------------------------\n",
      "[0.8475808891964914, 0.8438159750598488, 0.7994006484145355, 0.6394925210709936, 0.8277497644881024, -0.0812235506875616, 0.8866130978736272, 0.8601830812339335]\n"
     ]
    },
    {
     "data": {
      "image/png": "[encoded data removed]",
      "text/plain": [
       "<Figure size 640x480 with 1 Axes>"
      ]
     },
     "metadata": {},
     "output_type": "display_data"
    }
   ],
   "source": [
    "run_models()"
   ]
  }
 ],
 "metadata": {
  "colab": {
   "collapsed_sections": [],
   "name": "Final_total.ipynb",
   "provenance": []
  },
  "kernelspec": {
   "display_name": "Python 3 (ipykernel)",
   "language": "python",
   "name": "python3"
  },
  "language_info": {
   "codemirror_mode": {
    "name": "ipython",
    "version": 3
   },
   "file_extension": ".py",
   "mimetype": "text/x-python",
   "name": "python",
   "nbconvert_exporter": "python",
   "pygments_lexer": "ipython3",
   "version": "3.9.12"
  }
 },
 "nbformat": 4,
 "nbformat_minor": 1
}
