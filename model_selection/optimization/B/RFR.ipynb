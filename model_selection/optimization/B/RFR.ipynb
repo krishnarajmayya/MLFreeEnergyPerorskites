{
 "cells": [
  {
   "cell_type": "markdown",
   "id": "a9cd6142",
   "metadata": {},
   "source": [
    "# Model selection"
   ]
  },
  {
   "cell_type": "code",
   "execution_count": 1,
   "id": "62d47901",
   "metadata": {},
   "outputs": [],
   "source": [
    "import pandas as pd"
   ]
  },
  {
   "cell_type": "code",
   "execution_count": 2,
   "id": "cf430274",
   "metadata": {},
   "outputs": [],
   "source": [
    "import matplotlib.pyplot as plt\n",
    "import numpy as np\n",
    "import itertools"
   ]
  },
  {
   "cell_type": "code",
   "execution_count": 3,
   "id": "eb0a1193",
   "metadata": {},
   "outputs": [],
   "source": [
    "from sklearn.metrics import mean_squared_error, r2_score\n",
    "from sklearn.gaussian_process import GaussianProcessRegressor\n",
    "from sklearn.gaussian_process.kernels import RBF\n",
    "from sklearn.preprocessing import StandardScaler, MinMaxScaler\n",
    "from sklearn.model_selection import train_test_split, cross_val_score, KFold\n",
    "from sklearn.linear_model import LinearRegression, Ridge, Lasso\n",
    "from sklearn.ensemble import RandomForestRegressor,GradientBoostingRegressor\n",
    "from sklearn.feature_selection import RFE, SelectKBest, f_regression"
   ]
  },
  {
   "cell_type": "code",
   "execution_count": 4,
   "id": "d9667f76",
   "metadata": {},
   "outputs": [],
   "source": [
    "import seaborn as sns"
   ]
  },
  {
   "cell_type": "markdown",
   "id": "05e51c93",
   "metadata": {},
   "source": [
    "Import data from csv files into a dataframe"
   ]
  },
  {
   "cell_type": "code",
   "execution_count": 5,
   "id": "787cce69",
   "metadata": {},
   "outputs": [
    {
     "name": "stdout",
     "output_type": "stream",
     "text": [
      "['Name' 'Coef_a' 'Coef_b' 'Coef_c' 'Coef_d' 'A_site' 'B_site' 'X_site'\n",
      " 'Spacegroup' 'Ehull' 'BulkModulus' 'Energy' 'ZPE' 's_A' 's_B' 's_X'\n",
      " 'density' 'mean_A2B' 'mean_A2X' 'mean_B2X' 'mean_X2X' 'std_A2B' 'std_A2X'\n",
      " 'std_B2X' 'std_X2X' 'E_coh' 'TF' 'OF' 'A_Z' 'B_Z' 'X_Z' 'A_M' 'B_M' 'X_M'\n",
      " 'A_G' 'B_G' 'X_G' 'A_IEI' 'B_IEI' 'X_IEI' 'A_IEII' 'B_IEII' 'X_IEII'\n",
      " 'A_EA' 'B_EA' 'X_EA' 'A_ChiP' 'B_ChiP' 'X_ChiP' 'A_ChiA' 'X_ChiA'\n",
      " 'A_Rvdw' 'B_Rvdw' 'X_Rvdw' 'A_Rc' 'B_Rc' 'X_Rc' 'A_Ra' 'B_Ra' 'X_Ra'\n",
      " 'A_MP' 'B_MP' 'X_MP' 'A_BP' 'B_BP' 'X_BP' 'A_Rho' 'B_Rho' 'A_MV' 'B_MV'\n",
      " 'X_MV' 'A_Hf' 'B_Hf' 'X_Hf' 'A_Hv' 'B_Hv' 'X_Hv' 'A_Kappa' 'B_Kappa'\n",
      " 'X_Kappa' 'A_CvM' 'B_CvM' 'X_CvM' 'A_B' 'B_B' 'X_B' 'A_MendeleevNo'\n",
      " 'B_MendeleevNo' 'X_MendeleevNo']\n"
     ]
    }
   ],
   "source": [
    "data = pd.read_csv('Combined_all_3rd_fit.csv', encoding='cp1252')\n",
    "print(data.columns.values)"
   ]
  },
  {
   "cell_type": "markdown",
   "id": "193419bd",
   "metadata": {},
   "source": [
    "Drop the unnecessary columns and fill the empty cells with zero"
   ]
  },
  {
   "cell_type": "code",
   "execution_count": 6,
   "id": "30a36ba9",
   "metadata": {},
   "outputs": [
    {
     "name": "stdout",
     "output_type": "stream",
     "text": [
      "(80, 77)\n"
     ]
    }
   ],
   "source": [
    "data.drop(['Name', 'A_site', 'B_site', 'X_site', 'Spacegroup','BulkModulus',\n",
    "           'Ehull','Energy','ZPE','Coef_a', 'Coef_c', 'Coef_d'], axis=1, inplace = True)\n",
    "data.fillna(0, inplace= True)\n",
    "d=data.copy()\n",
    "columns = list(d.columns.values)\n",
    "print(d.shape)"
   ]
  },
  {
   "cell_type": "markdown",
   "id": "4bb0c2a1",
   "metadata": {},
   "source": [
    "Set the target variable to machine learn"
   ]
  },
  {
   "cell_type": "code",
   "execution_count": 7,
   "id": "b2817160",
   "metadata": {},
   "outputs": [],
   "source": [
    "target = 'Coef_b'"
   ]
  },
  {
   "cell_type": "markdown",
   "id": "0f98f85e",
   "metadata": {},
   "source": [
    "Define various methods to be used for buildig and validating the models"
   ]
  },
  {
   "cell_type": "code",
   "execution_count": 8,
   "id": "5fa4081a",
   "metadata": {},
   "outputs": [],
   "source": [
    "\"\"\"\n",
    "    Functions to perform scaling\n",
    "    \n",
    "    \"\"\"\n",
    "def standard_scaling(target):\n",
    "    data_std=d.copy()\n",
    "    data_std[columns]= StandardScaler().fit_transform(d[columns])\n",
    "    Y = data_std[target] \n",
    "    X = data_std.drop([target], axis=1)\n",
    "    return X,Y\n",
    "\n",
    "def minmax_scaling(target):\n",
    "    data_mm=d.copy()\n",
    "    data_mm[columns]= MinMaxScaler().fit_transform(d[columns])\n",
    "    Y = data_mm[target] \n",
    "    X = data_mm.drop([target], axis=1)\n",
    "    return X,Y"
   ]
  },
  {
   "cell_type": "code",
   "execution_count": 9,
   "id": "08eda787",
   "metadata": {},
   "outputs": [],
   "source": [
    "\"\"\"\n",
    "    Function to build machine learning models by hyper parameter tuning. It also plots scatter plot\n",
    "    \n",
    "    \"\"\"\n",
    "def build_cv_model(X,Y,b_drop=False,target='Coef_d'):\n",
    "    if b_drop :\n",
    "        correlated_features = [\"A_Rc\",\"A_Ra\",\"A_M\",\"A_MP\",\"A_MV\",\"A_MendeleevNo\",\"A_Hf\",\"A_Hv\",\"B_Rc\",\n",
    "                       \"B_Rvdw\",\"B_M\",\"B_BP\",\"B_MendeleevNo\",\"B_Hv\",\"X_Rc\",\"X_Rvdw\",\"X_M\",\"X_BP\",\"X_MP\",\n",
    "                       \"X_MendeleevNo\",\"X_Hf\",\"X_Hv\",\"X_G\",\"X_B\",\"X_CvM\",\"X_ChiP\"]\n",
    "        X.drop(labels=correlated_features, axis=1, inplace=True)\n",
    "        \n",
    "    print(\"The shape of X is \",X.shape)\n",
    "    \n",
    "    ml_model, cv_results = train_model(X,Y,hyperparams=hyperparams, cv=True, return_cv=True)\n",
    "    \n",
    "    return ml_model"
   ]
  },
  {
   "cell_type": "code",
   "execution_count": 10,
   "id": "835ed0e7",
   "metadata": {},
   "outputs": [],
   "source": [
    "def run_model(X,Y,model,target='Coef_d'):\n",
    "    rmse,r2 = run_cv(model, X, Y, n_cv = 5)\n",
    "    print(\"-----------------------------------------------------\")\n",
    "    print(\"The R2 is \",r2)\n",
    "    print(\"The RMSE is \",rmse)"
   ]
  },
  {
   "cell_type": "code",
   "execution_count": 11,
   "id": "8be0db69",
   "metadata": {},
   "outputs": [],
   "source": [
    "\"\"\"\n",
    "    Function to perform feature elimination using select K best of RFE method. It also prints the \n",
    "    feature scores obtained as:\n",
    "    SelectKBest: The scores obtained from the selector\n",
    "    RFE: The feature importance obtained from the RFR model \n",
    "    \n",
    "    \"\"\"\n",
    "def feature_elimination(X,Y,n,estimator,method='skb'):\n",
    "    if method=='skb':\n",
    "        bestfeatures = SelectKBest(score_func=f_regression, k=10)\n",
    "        fit = bestfeatures.fit(X,Y)\n",
    "        dfscores = pd.DataFrame(fit.scores_)\n",
    "        dfcolumns = pd.DataFrame(X.columns)\n",
    "        #concat two dataframes for better visualization \n",
    "        featureScores = pd.concat([dfcolumns,dfscores],axis=1)\n",
    "        featureScores.columns = ['Feature','Score']  #naming the dataframe columns\n",
    "        print(featureScores.nlargest(n,'Score'))  #print 10 best features\n",
    "        X=X[featureScores.nlargest(n,'Score')['Feature'].values]\n",
    "    elif method=='rfe':\n",
    "        selector = RFE(estimator, n_features_to_select=n, step=1)\n",
    "        selector = selector.fit(X, Y)\n",
    "        dfscores = pd.DataFrame(selector.ranking_)\n",
    "        dfcolumns = pd.DataFrame(selector.feature_names_in_)\n",
    "        #concat two dataframes for better visualization \n",
    "        featureSelection = pd.concat([dfcolumns,dfscores],axis=1)\n",
    "        featureSelection.columns = ['Feature','Score']  #naming the dataframe columns\n",
    "        X=X[featureSelection.nsmallest(n,'Score')['Feature'].values]\n",
    "        estimator.fit(X,Y)\n",
    "        importance = pd.DataFrame(estimator.feature_importances_)\n",
    "        featureNames = pd.DataFrame(X.columns.values)\n",
    "        featureScores = pd.concat([featureNames,importance],axis=1)\n",
    "        featureScores.columns = ['Feature','Score']  #naming the dataframe columns\n",
    "        \n",
    "    print(featureScores)\n",
    "    print(\"-----------------------------------------------------\")\n",
    "    return X"
   ]
  },
  {
   "cell_type": "code",
   "execution_count": 12,
   "id": "80a52bcd",
   "metadata": {},
   "outputs": [],
   "source": [
    "def train_model(X, y, hyperparams = None, cv = False, return_cv = False):\n",
    "    \"\"\"\n",
    "    Function to train the ML model on the given data X (features) and y (target property). \n",
    "    If hyperparams argument is passed, all possible combinations of alpha and kernel values\n",
    "    will be tried to find combination with minimum CV error. The final  model is trained\n",
    "    using the fixed kernel and alpha params as determined using CV.\n",
    "    \n",
    "    \"\"\"\n",
    "    \n",
    "    if cv:\n",
    "        cv_results = {'n_estimators':[],'criterion':[],'min_samples_split':[],\n",
    "                      'min_samples_leaf':[],'max_features':[],'cv_rmse':[],'cv_r2':[]}\n",
    "        for n,c,s,l,f in itertools.product(hyperparams['n_estimators'], \n",
    "                                           hyperparams['criterion'],hyperparams['min_samples_split'],\n",
    "                                          hyperparams['min_samples_leaf'],hyperparams['max_features']):\n",
    "\n",
    "            random_forests = RandomForestRegressor(\n",
    "            n_estimators=n, criterion=c, min_samples_split=s, min_samples_leaf=l, max_features=f)\n",
    "\n",
    "            cv_error, cv_r2 = run_cv(random_forests, X, y, n_cv = 5)\n",
    "            cv_results['cv_rmse'].append(cv_error)\n",
    "            cv_results['cv_r2'].append(cv_r2)\n",
    "            cv_results['n_estimators'].append(n)\n",
    "            cv_results['criterion'].append(c)\n",
    "            cv_results['min_samples_split'].append(s)\n",
    "            cv_results['min_samples_leaf'].append(l)\n",
    "            cv_results['max_features'].append(f)\n",
    "\n",
    "        cv_results = pd.DataFrame(cv_results)\n",
    "        cv_results = cv_results.sort_values('cv_rmse')\n",
    "        n_opt = cv_results.iloc[0]['n_estimators']\n",
    "        c_opt = cv_results.iloc[0]['criterion']\n",
    "        s_opt = cv_results.iloc[0]['min_samples_split']\n",
    "        l_opt = cv_results.iloc[0]['min_samples_leaf']\n",
    "        f_opt = cv_results.iloc[0]['max_features']\n",
    "        \n",
    "    else:\n",
    "        n_opt = hyperparams['n_estimators'][0]\n",
    "        c_opt = hyperparams['criterion'][0]\n",
    "        s_opt = hyperparams['min_samples_split'][0]\n",
    "        l_opt = hyperparams['min_samples_leaf'][0]\n",
    "        f_opt = hyperparams['max_features'][0]\n",
    "\n",
    "    random_forests = RandomForestRegressor(\n",
    "            n_estimators=n_opt, criterion=c_opt, min_samples_split=s_opt, min_samples_leaf=l_opt, max_features=f_opt)\n",
    "    model = random_forests.fit(X,y)\n",
    "    print(\"-----------------------------------------------------\")\n",
    "    print(\"The R2 for \",n_opt,\",\",c_opt,\",\",s_opt,\",\",l_opt,\",\",f_opt,\" is \",cv_results.iloc[0]['cv_r2'])\n",
    "    print(\"The RMSE for \",n_opt,\",\",c_opt,\",\",s_opt,\",\",l_opt,\",\",f_opt,\" is \",cv_results.iloc[0]['cv_rmse'])\n",
    "    return [model, cv_results] if return_cv else model\n",
    "\n",
    "\n",
    "def run_cv(ml_model, X, y, n_cv = 5):\n",
    "    \"\"\"\n",
    "    Function to run Cross-validation\n",
    "    \"\"\"\n",
    "    kf = KFold(n_splits=n_cv,shuffle=True,random_state=50)\n",
    "    y_val = []\n",
    "    y_pred = []\n",
    "\n",
    "    for idx, (train, val) in enumerate(kf.split(X)):\n",
    "        \n",
    "        X_cv_train = X.values[train]\n",
    "        X_cv_val = X.values[val]\n",
    "\n",
    "        y_cv_train = y.values[train]\n",
    "        y_cv_val = y.values[val]    \n",
    "\n",
    "        # Model fit and prediction\n",
    "        model = ml_model.fit(X_cv_train, y_cv_train)\n",
    "        y_pred_val = model.predict(X_cv_val)\n",
    "        \n",
    "        y_val.append(y_cv_val)\n",
    "        y_pred.append(y_pred_val)\n",
    "\n",
    "    # Computing errors\n",
    "    rmse = np.sqrt(mean_squared_error(y_val, y_pred))\n",
    "    r2 = r2_score(y_val, y_pred)\n",
    "    \n",
    "    return rmse, r2"
   ]
  },
  {
   "cell_type": "markdown",
   "id": "5e43d433",
   "metadata": {},
   "source": [
    "Define the hyperparameters to be tuned for the given algorithm"
   ]
  },
  {
   "cell_type": "code",
   "execution_count": 13,
   "id": "bffb2010",
   "metadata": {},
   "outputs": [],
   "source": [
    "hyperparams={'n_estimators': [10,100],\n",
    "             'criterion':[\"squared_error\", \"absolute_error\", \"friedman_mse\"],\n",
    "            'min_samples_split':[2,4,8],\n",
    "            'min_samples_leaf':[1,2,4,8],\n",
    "            'max_features':[\"sqrt\",\"log2\",0.3,1]}"
   ]
  },
  {
   "cell_type": "markdown",
   "id": "50ef316a",
   "metadata": {},
   "source": [
    "## Without scaling"
   ]
  },
  {
   "cell_type": "code",
   "execution_count": 14,
   "id": "68802fe0",
   "metadata": {},
   "outputs": [],
   "source": [
    "data_std=d.copy()\n",
    "Y = data_std[target] \n",
    "X = data_std.drop([target], axis=1)"
   ]
  },
  {
   "cell_type": "code",
   "execution_count": 15,
   "id": "090acf26",
   "metadata": {},
   "outputs": [
    {
     "name": "stdout",
     "output_type": "stream",
     "text": [
      "The shape of X is  (80, 76)\n",
      "-----------------------------------------------------\n",
      "The R2 for  10 , squared_error , 4 , 1 , 0.3  is  0.7952517014618457\n",
      "The RMSE for  10 , squared_error , 4 , 1 , 0.3  is  1.710532379619482e-05\n"
     ]
    }
   ],
   "source": [
    "ml_model=build_cv_model(X,Y,False,target)"
   ]
  },
  {
   "cell_type": "markdown",
   "id": "62ea41f3",
   "metadata": {},
   "source": [
    "### Drop correlated features"
   ]
  },
  {
   "cell_type": "code",
   "execution_count": 16,
   "id": "26950d24",
   "metadata": {},
   "outputs": [
    {
     "name": "stdout",
     "output_type": "stream",
     "text": [
      "The shape of X is  (80, 50)\n",
      "-----------------------------------------------------\n",
      "The R2 for  10 , squared_error , 2 , 1 , sqrt  is  0.7911047281514435\n",
      "The RMSE for  10 , squared_error , 2 , 1 , sqrt  is  1.6592635470405666e-05\n"
     ]
    }
   ],
   "source": [
    "ml_model_prime=build_cv_model(X,Y,True,target)"
   ]
  },
  {
   "cell_type": "markdown",
   "id": "f0b36718",
   "metadata": {},
   "source": [
    "### Feature elimination"
   ]
  },
  {
   "cell_type": "code",
   "execution_count": 17,
   "id": "a6b5dd6b",
   "metadata": {},
   "outputs": [
    {
     "name": "stdout",
     "output_type": "stream",
     "text": [
      "     Feature     Score\n",
      "0        s_A  0.068558\n",
      "1        s_B  0.055535\n",
      "2        s_X  0.001677\n",
      "3    density  0.010372\n",
      "4   mean_A2B  0.032260\n",
      "5   mean_A2X  0.129708\n",
      "6   mean_B2X  0.004168\n",
      "7   mean_X2X  0.004187\n",
      "8    std_A2B  0.001461\n",
      "9    std_A2X  0.010932\n",
      "10   std_X2X  0.001357\n",
      "11     E_coh  0.023421\n",
      "12        OF  0.003454\n",
      "13       A_Z  0.028011\n",
      "14       B_Z  0.004365\n",
      "15       X_Z  0.084386\n",
      "16       B_G  0.010691\n",
      "17     B_IEI  0.001666\n",
      "18     X_IEI  0.075030\n",
      "19    B_IEII  0.012768\n",
      "20    X_IEII  0.067367\n",
      "21      A_EA  0.000534\n",
      "22      B_EA  0.008834\n",
      "23      X_EA  0.172309\n",
      "24    A_ChiP  0.009972\n",
      "25    B_ChiP  0.000626\n",
      "26    A_ChiA  0.015945\n",
      "27    X_ChiA  0.045401\n",
      "28    A_Rvdw  0.000846\n",
      "29      B_Ra  0.000826\n",
      "30      A_BP  0.042298\n",
      "31     B_Rho  0.011056\n",
      "32      B_MV  0.002966\n",
      "33      X_MV  0.013609\n",
      "34      B_Hf  0.013316\n",
      "35   A_Kappa  0.000660\n",
      "36   B_Kappa  0.003657\n",
      "37     A_CvM  0.002811\n",
      "38     B_CvM  0.018401\n",
      "39       B_B  0.004562\n",
      "-----------------------------------------------------\n",
      "The shape of X is  (80, 40)\n",
      "-----------------------------------------------------\n",
      "The R2 for  100 , absolute_error , 2 , 1 , sqrt  is  0.7303412315452774\n",
      "The RMSE for  100 , absolute_error , 2 , 1 , sqrt  is  1.7578925008665022e-05\n",
      "-----------------------------------------------------\n",
      "The R2 is  0.727070001874752\n",
      "The RMSE is  1.735829989571977e-05\n"
     ]
    }
   ],
   "source": [
    "X=feature_elimination(X,Y,40,ml_model_prime,method='rfe')\n",
    "ml_model=build_cv_model(X,Y,False,target)\n",
    "run_model(X,Y,ml_model_prime,target)"
   ]
  },
  {
   "cell_type": "code",
   "execution_count": 18,
   "id": "f4c14a2c",
   "metadata": {},
   "outputs": [
    {
     "name": "stdout",
     "output_type": "stream",
     "text": [
      "     Feature     Score\n",
      "0        s_A  0.025253\n",
      "1        s_B  0.030726\n",
      "2        s_X  0.053797\n",
      "3    density  0.027343\n",
      "4   mean_A2B  0.059548\n",
      "5   mean_A2X  0.050768\n",
      "6   mean_B2X  0.016601\n",
      "7   mean_X2X  0.068987\n",
      "8      E_coh  0.076207\n",
      "9         OF  0.036188\n",
      "10       A_Z  0.012421\n",
      "11       B_Z  0.019614\n",
      "12       X_Z  0.064217\n",
      "13       B_G  0.013082\n",
      "14     X_IEI  0.065970\n",
      "15    B_IEII  0.016738\n",
      "16    X_IEII  0.074445\n",
      "17      X_EA  0.042651\n",
      "18    B_ChiP  0.014624\n",
      "19    A_ChiA  0.029235\n",
      "20    X_ChiA  0.018174\n",
      "21    A_Rvdw  0.020649\n",
      "22      B_Ra  0.015668\n",
      "23      A_BP  0.027511\n",
      "24     B_Rho  0.020968\n",
      "25      B_MV  0.015044\n",
      "26      X_MV  0.028849\n",
      "27      B_Hf  0.014989\n",
      "28   B_Kappa  0.023397\n",
      "29     B_CvM  0.016333\n",
      "-----------------------------------------------------\n",
      "The shape of X is  (80, 30)\n",
      "-----------------------------------------------------\n",
      "The R2 for  10 , squared_error , 2 , 1 , sqrt  is  0.7491817306105445\n",
      "The RMSE for  10 , squared_error , 2 , 1 , sqrt  is  1.7043259233265106e-05\n",
      "-----------------------------------------------------\n",
      "The R2 is  0.7539671924407403\n",
      "The RMSE is  1.8004780155849535e-05\n"
     ]
    }
   ],
   "source": [
    "X=feature_elimination(X,Y,30,ml_model,method='rfe')\n",
    "ml_model=build_cv_model(X,Y,False,target)\n",
    "run_model(X,Y,ml_model_prime,target)"
   ]
  },
  {
   "cell_type": "code",
   "execution_count": 19,
   "id": "43be0df3",
   "metadata": {},
   "outputs": [
    {
     "name": "stdout",
     "output_type": "stream",
     "text": [
      "     Feature     Score\n",
      "0        s_A  0.095299\n",
      "1        s_B  0.019101\n",
      "2        s_X  0.055738\n",
      "3    density  0.023739\n",
      "4   mean_A2B  0.015143\n",
      "5   mean_A2X  0.004777\n",
      "6   mean_X2X  0.069583\n",
      "7      E_coh  0.096428\n",
      "8         OF  0.017203\n",
      "9        A_Z  0.004290\n",
      "10     X_IEI  0.278233\n",
      "11    X_IEII  0.077086\n",
      "12      X_EA  0.110091\n",
      "13    A_ChiA  0.017204\n",
      "14    A_Rvdw  0.016870\n",
      "15      B_Ra  0.007349\n",
      "16     B_Rho  0.014532\n",
      "17      B_MV  0.022668\n",
      "18      X_MV  0.026789\n",
      "19     B_CvM  0.027878\n",
      "-----------------------------------------------------\n",
      "The shape of X is  (80, 20)\n",
      "-----------------------------------------------------\n",
      "The R2 for  100 , friedman_mse , 2 , 1 , sqrt  is  0.7523853423225629\n",
      "The RMSE for  100 , friedman_mse , 2 , 1 , sqrt  is  1.7226061523969107e-05\n",
      "-----------------------------------------------------\n",
      "The R2 is  0.6161463389922925\n",
      "The RMSE is  2.1956883731591216e-05\n"
     ]
    }
   ],
   "source": [
    "X=feature_elimination(X,Y,20,ml_model,method='rfe')\n",
    "ml_model=build_cv_model(X,Y,False,target)\n",
    "run_model(X,Y,ml_model_prime,target)"
   ]
  },
  {
   "cell_type": "code",
   "execution_count": 20,
   "id": "ba87d76e",
   "metadata": {},
   "outputs": [
    {
     "name": "stdout",
     "output_type": "stream",
     "text": [
      "    Feature     Score\n",
      "0       s_A  0.060248\n",
      "1       s_B  0.042981\n",
      "2       s_X  0.117935\n",
      "3  mean_A2B  0.114535\n",
      "4  mean_X2X  0.117950\n",
      "5     E_coh  0.078499\n",
      "6        OF  0.053634\n",
      "7     X_IEI  0.099611\n",
      "8    X_IEII  0.096214\n",
      "9      X_EA  0.218392\n",
      "-----------------------------------------------------\n",
      "The shape of X is  (80, 10)\n",
      "-----------------------------------------------------\n",
      "The R2 for  100 , squared_error , 2 , 1 , sqrt  is  0.7647063792663624\n",
      "The RMSE for  100 , squared_error , 2 , 1 , sqrt  is  1.6751442499325257e-05\n",
      "-----------------------------------------------------\n",
      "The R2 is  0.7065142824891277\n",
      "The RMSE is  1.942335123988546e-05\n"
     ]
    }
   ],
   "source": [
    "X=feature_elimination(X,Y,10,ml_model,method='rfe')\n",
    "ml_model=build_cv_model(X,Y,False,target)\n",
    "run_model(X,Y,ml_model_prime,target)"
   ]
  },
  {
   "cell_type": "markdown",
   "id": "d6598f01",
   "metadata": {},
   "source": [
    "## Standard scaling"
   ]
  },
  {
   "cell_type": "code",
   "execution_count": 21,
   "id": "418a5638",
   "metadata": {},
   "outputs": [
    {
     "name": "stdout",
     "output_type": "stream",
     "text": [
      "The shape of X is  (80, 76)\n",
      "-----------------------------------------------------\n",
      "The R2 for  100 , absolute_error , 2 , 1 , log2  is  0.7686461140390373\n",
      "The RMSE for  100 , absolute_error , 2 , 1 , log2  is  0.29776602491811627\n"
     ]
    }
   ],
   "source": [
    "X,Y = standard_scaling(target)\n",
    "ml_model=build_cv_model(X,Y,False,target)"
   ]
  },
  {
   "cell_type": "code",
   "execution_count": 22,
   "id": "bc554eaf",
   "metadata": {},
   "outputs": [
    {
     "name": "stdout",
     "output_type": "stream",
     "text": [
      "The shape of X is  (80, 76)\n",
      "-----------------------------------------------------\n",
      "The R2 for  100 , friedman_mse , 2 , 1 , log2  is  0.7535232449012561\n",
      "The RMSE for  100 , friedman_mse , 2 , 1 , log2  is  0.30625327535314134\n"
     ]
    }
   ],
   "source": [
    "ml_model=build_cv_model(X,Y,False,target)"
   ]
  },
  {
   "cell_type": "markdown",
   "id": "2140e933",
   "metadata": {},
   "source": [
    "### Drop correlated features"
   ]
  },
  {
   "cell_type": "code",
   "execution_count": 23,
   "id": "e4732e80",
   "metadata": {},
   "outputs": [
    {
     "name": "stdout",
     "output_type": "stream",
     "text": [
      "The shape of X is  (80, 50)\n",
      "-----------------------------------------------------\n",
      "The R2 for  10 , squared_error , 4 , 1 , sqrt  is  0.7464122116410496\n",
      "The RMSE for  10 , squared_error , 4 , 1 , sqrt  is  0.31033264558869433\n"
     ]
    }
   ],
   "source": [
    "ml_model_prime=build_cv_model(X,Y,True,target)"
   ]
  },
  {
   "cell_type": "markdown",
   "id": "5da0961f",
   "metadata": {},
   "source": [
    "### Feature elimination"
   ]
  },
  {
   "cell_type": "code",
   "execution_count": 24,
   "id": "a53db140",
   "metadata": {},
   "outputs": [
    {
     "name": "stdout",
     "output_type": "stream",
     "text": [
      "     Feature     Score\n",
      "0        s_A  0.020149\n",
      "1        s_B  0.013477\n",
      "2        s_X  0.006082\n",
      "3    density  0.028715\n",
      "4   mean_A2B  0.133369\n",
      "5   mean_A2X  0.063196\n",
      "6   mean_B2X  0.007372\n",
      "7    std_A2B  0.000813\n",
      "8    std_A2X  0.001649\n",
      "9    std_B2X  0.000768\n",
      "10   std_X2X  0.000634\n",
      "11     E_coh  0.018733\n",
      "12        TF  0.006471\n",
      "13        OF  0.020403\n",
      "14       A_Z  0.000491\n",
      "15       B_Z  0.011724\n",
      "16       X_Z  0.004747\n",
      "17     A_IEI  0.038612\n",
      "18     B_IEI  0.001712\n",
      "19     X_IEI  0.077741\n",
      "20    A_IEII  0.000135\n",
      "21    B_IEII  0.003881\n",
      "22    X_IEII  0.144593\n",
      "23      B_EA  0.043724\n",
      "24      X_EA  0.107235\n",
      "25    A_ChiP  0.002544\n",
      "26    B_ChiP  0.001577\n",
      "27    X_ChiA  0.017300\n",
      "28    A_Rvdw  0.013472\n",
      "29      B_Ra  0.003361\n",
      "30      X_Ra  0.136794\n",
      "31      B_MP  0.004314\n",
      "32      A_BP  0.008619\n",
      "33     B_Rho  0.015203\n",
      "34      B_MV  0.007031\n",
      "35      B_Hf  0.003464\n",
      "36   A_Kappa  0.003907\n",
      "37   B_Kappa  0.009860\n",
      "38     A_CvM  0.003542\n",
      "39     B_CvM  0.012587\n",
      "-----------------------------------------------------\n",
      "The shape of X is  (80, 40)\n",
      "-----------------------------------------------------\n",
      "The R2 for  10 , squared_error , 2 , 1 , sqrt  is  0.833667773542798\n",
      "The RMSE for  10 , squared_error , 2 , 1 , sqrt  is  0.3049375725700396\n",
      "-----------------------------------------------------\n",
      "The R2 is  0.7507067737959829\n",
      "The RMSE is  0.34522495402044395\n"
     ]
    }
   ],
   "source": [
    "X=feature_elimination(X,Y,40,ml_model_prime,method='rfe')\n",
    "ml_model=build_cv_model(X,Y,False,target)\n",
    "run_model(X,Y,ml_model_prime,target)"
   ]
  },
  {
   "cell_type": "code",
   "execution_count": 25,
   "id": "44657d0f",
   "metadata": {},
   "outputs": [
    {
     "name": "stdout",
     "output_type": "stream",
     "text": [
      "     Feature     Score\n",
      "0        s_A  0.005538\n",
      "1        s_B  0.096296\n",
      "2        s_X  0.101094\n",
      "3    density  0.023712\n",
      "4   mean_A2B  0.015128\n",
      "5   mean_A2X  0.030372\n",
      "6   mean_B2X  0.005177\n",
      "7    std_A2B  0.000422\n",
      "8      E_coh  0.102020\n",
      "9         TF  0.003095\n",
      "10        OF  0.003620\n",
      "11       B_Z  0.027109\n",
      "12     A_IEI  0.006252\n",
      "13     B_IEI  0.001054\n",
      "14     X_IEI  0.038671\n",
      "15    A_IEII  0.005069\n",
      "16    X_IEII  0.144393\n",
      "17      B_EA  0.000764\n",
      "18      X_EA  0.133445\n",
      "19    B_ChiP  0.001485\n",
      "20    X_ChiA  0.088022\n",
      "21    A_Rvdw  0.053637\n",
      "22      B_Ra  0.005412\n",
      "23      X_Ra  0.031492\n",
      "24      B_MP  0.007777\n",
      "25     B_Rho  0.002106\n",
      "26      B_MV  0.030824\n",
      "27      B_Hf  0.015896\n",
      "28   B_Kappa  0.016467\n",
      "29     A_CvM  0.003652\n",
      "-----------------------------------------------------\n",
      "The shape of X is  (80, 30)\n",
      "-----------------------------------------------------\n",
      "The R2 for  10 , squared_error , 2 , 1 , 0.3  is  0.7484216043384077\n",
      "The RMSE for  10 , squared_error , 2 , 1 , 0.3  is  0.29821854817740445\n",
      "-----------------------------------------------------\n",
      "The R2 is  0.6496897068289373\n",
      "The RMSE is  0.3606319349352535\n"
     ]
    }
   ],
   "source": [
    "X=feature_elimination(X,Y,30,ml_model,method='rfe')\n",
    "ml_model=build_cv_model(X,Y,False,target)\n",
    "run_model(X,Y,ml_model_prime,target)"
   ]
  },
  {
   "cell_type": "code",
   "execution_count": 26,
   "id": "86bc5d14",
   "metadata": {},
   "outputs": [
    {
     "name": "stdout",
     "output_type": "stream",
     "text": [
      "     Feature     Score\n",
      "0        s_A  0.027725\n",
      "1        s_B  0.011792\n",
      "2        s_X  0.114495\n",
      "3    density  0.012997\n",
      "4   mean_A2B  0.140459\n",
      "5   mean_A2X  0.201742\n",
      "6   mean_B2X  0.003895\n",
      "7      E_coh  0.020957\n",
      "8         TF  0.012851\n",
      "9         OF  0.027187\n",
      "10       B_Z  0.002365\n",
      "11     A_IEI  0.025907\n",
      "12     X_IEI  0.096877\n",
      "13      X_EA  0.133274\n",
      "14    X_ChiA  0.065126\n",
      "15    A_Rvdw  0.025682\n",
      "16     B_Rho  0.031485\n",
      "17      B_MV  0.005570\n",
      "18   B_Kappa  0.035256\n",
      "19     A_CvM  0.004360\n",
      "-----------------------------------------------------\n",
      "The shape of X is  (80, 20)\n",
      "-----------------------------------------------------\n",
      "The R2 for  10 , squared_error , 8 , 1 , log2  is  0.8081713943327709\n",
      "The RMSE for  10 , squared_error , 8 , 1 , log2  is  0.3070366431489904\n",
      "-----------------------------------------------------\n",
      "The R2 is  0.7664750630542634\n",
      "The RMSE is  0.33666774214962497\n"
     ]
    }
   ],
   "source": [
    "X=feature_elimination(X,Y,20,ml_model,method='rfe')\n",
    "ml_model=build_cv_model(X,Y,False,target)\n",
    "run_model(X,Y,ml_model_prime,target)"
   ]
  },
  {
   "cell_type": "code",
   "execution_count": 27,
   "id": "354e0216",
   "metadata": {},
   "outputs": [
    {
     "name": "stdout",
     "output_type": "stream",
     "text": [
      "    Feature     Score\n",
      "0       s_A  0.082696\n",
      "1       s_B  0.013888\n",
      "2  mean_A2B  0.194902\n",
      "3     E_coh  0.088780\n",
      "4        OF  0.106007\n",
      "5     X_IEI  0.195423\n",
      "6      X_EA  0.164973\n",
      "7    X_ChiA  0.016532\n",
      "8    A_Rvdw  0.077050\n",
      "9     B_Rho  0.059749\n",
      "-----------------------------------------------------\n",
      "The shape of X is  (80, 10)\n",
      "-----------------------------------------------------\n",
      "The R2 for  100 , friedman_mse , 4 , 1 , 0.3  is  0.7937170414289682\n",
      "The RMSE for  100 , friedman_mse , 4 , 1 , 0.3  is  0.2991541905837797\n",
      "-----------------------------------------------------\n",
      "The R2 is  0.7048925540415597\n",
      "The RMSE is  0.3543109584857616\n"
     ]
    }
   ],
   "source": [
    "X=feature_elimination(X,Y,10,ml_model,method='rfe')\n",
    "ml_model=build_cv_model(X,Y,False,target)\n",
    "run_model(X,Y,ml_model_prime,target)"
   ]
  },
  {
   "cell_type": "markdown",
   "id": "7fc100aa",
   "metadata": {},
   "source": [
    "## Minmax scaling"
   ]
  },
  {
   "cell_type": "code",
   "execution_count": 28,
   "id": "3cf3e79b",
   "metadata": {},
   "outputs": [
    {
     "name": "stdout",
     "output_type": "stream",
     "text": [
      "The shape of X is  (80, 76)\n",
      "-----------------------------------------------------\n",
      "The R2 for  100 , friedman_mse , 2 , 1 , log2  is  0.7358248531959299\n",
      "The RMSE for  100 , friedman_mse , 2 , 1 , log2  is  0.08227613505313357\n"
     ]
    }
   ],
   "source": [
    "X,Y = minmax_scaling(target)\n",
    "ml_model=build_cv_model(X,Y,False,target)"
   ]
  },
  {
   "cell_type": "markdown",
   "id": "53c80113",
   "metadata": {},
   "source": [
    "### Drop correlated features"
   ]
  },
  {
   "cell_type": "code",
   "execution_count": 29,
   "id": "08219247",
   "metadata": {},
   "outputs": [
    {
     "name": "stdout",
     "output_type": "stream",
     "text": [
      "The shape of X is  (80, 50)\n",
      "-----------------------------------------------------\n",
      "The R2 for  10 , friedman_mse , 4 , 1 , 0.3  is  0.6574020357562174\n",
      "The RMSE for  10 , friedman_mse , 4 , 1 , 0.3  is  0.08401871062975376\n"
     ]
    }
   ],
   "source": [
    "ml_model_prime=build_cv_model(X,Y,True,target)"
   ]
  },
  {
   "cell_type": "markdown",
   "id": "c9d99eda",
   "metadata": {},
   "source": [
    "### Feature elimination"
   ]
  },
  {
   "cell_type": "code",
   "execution_count": 30,
   "id": "cf0fb3e8",
   "metadata": {},
   "outputs": [
    {
     "name": "stdout",
     "output_type": "stream",
     "text": [
      "     Feature     Score\n",
      "0        s_A  0.008388\n",
      "1        s_B  0.024456\n",
      "2        s_X  0.069698\n",
      "3    density  0.007600\n",
      "4   mean_A2B  0.035305\n",
      "5   mean_A2X  0.000165\n",
      "6   mean_B2X  0.008323\n",
      "7   mean_X2X  0.071282\n",
      "8    std_A2B  0.000013\n",
      "9    std_A2X  0.004836\n",
      "10   std_B2X  0.003918\n",
      "11   std_X2X  0.001195\n",
      "12     E_coh  0.035239\n",
      "13        TF  0.005789\n",
      "14        OF  0.056861\n",
      "15       B_Z  0.008809\n",
      "16       X_Z  0.264486\n",
      "17     A_IEI  0.002315\n",
      "18     B_IEI  0.001891\n",
      "19     X_IEI  0.071901\n",
      "20    A_IEII  0.001031\n",
      "21    B_IEII  0.005843\n",
      "22    X_IEII  0.123343\n",
      "23      B_EA  0.008212\n",
      "24      X_EA  0.078683\n",
      "25    A_ChiP  0.001147\n",
      "26    B_ChiP  0.005975\n",
      "27    A_ChiA  0.019450\n",
      "28    X_ChiA  0.000531\n",
      "29    A_Rvdw  0.003412\n",
      "30      B_Ra  0.003692\n",
      "31      B_MP  0.001535\n",
      "32     B_Rho  0.032854\n",
      "33      B_MV  0.000000\n",
      "34      X_MV  0.004410\n",
      "35      B_Hf  0.003136\n",
      "36   A_Kappa  0.000021\n",
      "37   B_Kappa  0.001602\n",
      "38     A_CvM  0.010784\n",
      "39     B_CvM  0.011871\n",
      "-----------------------------------------------------\n",
      "The shape of X is  (80, 40)\n",
      "-----------------------------------------------------\n",
      "The R2 for  100 , squared_error , 4 , 1 , sqrt  is  0.7570573948710528\n",
      "The RMSE for  100 , squared_error , 4 , 1 , sqrt  is  0.08335124893374764\n",
      "-----------------------------------------------------\n",
      "The R2 is  0.60239260030551\n",
      "The RMSE is  0.09662751475981611\n"
     ]
    }
   ],
   "source": [
    "X=feature_elimination(X,Y,40,ml_model_prime,method='rfe')\n",
    "ml_model=build_cv_model(X,Y,False,target)\n",
    "run_model(X,Y,ml_model_prime,target)"
   ]
  },
  {
   "cell_type": "code",
   "execution_count": 31,
   "id": "0ca7c003",
   "metadata": {},
   "outputs": [
    {
     "name": "stdout",
     "output_type": "stream",
     "text": [
      "     Feature     Score\n",
      "0        s_A  0.024248\n",
      "1        s_B  0.032525\n",
      "2        s_X  0.091382\n",
      "3    density  0.015724\n",
      "4   mean_A2B  0.037821\n",
      "5   mean_A2X  0.072035\n",
      "6   mean_B2X  0.006271\n",
      "7   mean_X2X  0.078374\n",
      "8      E_coh  0.038073\n",
      "9         TF  0.006596\n",
      "10        OF  0.028806\n",
      "11       B_Z  0.013167\n",
      "12       X_Z  0.066938\n",
      "13     A_IEI  0.026006\n",
      "14     X_IEI  0.086067\n",
      "15    B_IEII  0.005380\n",
      "16    X_IEII  0.082608\n",
      "17      X_EA  0.089695\n",
      "18    B_ChiP  0.005932\n",
      "19    A_ChiA  0.033341\n",
      "20    X_ChiA  0.016543\n",
      "21    A_Rvdw  0.024585\n",
      "22      B_Ra  0.007952\n",
      "23      B_MP  0.007714\n",
      "24     B_Rho  0.014616\n",
      "25      B_MV  0.008359\n",
      "26      X_MV  0.035629\n",
      "27      B_Hf  0.011416\n",
      "28   B_Kappa  0.015716\n",
      "29     B_CvM  0.016481\n",
      "-----------------------------------------------------\n",
      "The shape of X is  (80, 30)\n",
      "-----------------------------------------------------\n",
      "The R2 for  10 , squared_error , 2 , 1 , sqrt  is  0.7633449861839745\n",
      "The RMSE for  10 , squared_error , 2 , 1 , sqrt  is  0.08253948762575748\n",
      "-----------------------------------------------------\n",
      "The R2 is  0.5936308765489606\n",
      "The RMSE is  0.09517143043495153\n"
     ]
    }
   ],
   "source": [
    "X=feature_elimination(X,Y,30,ml_model,method='rfe')\n",
    "ml_model=build_cv_model(X,Y,False,target)\n",
    "run_model(X,Y,ml_model_prime,target)"
   ]
  },
  {
   "cell_type": "code",
   "execution_count": 32,
   "id": "19f11f63",
   "metadata": {},
   "outputs": [
    {
     "name": "stdout",
     "output_type": "stream",
     "text": [
      "     Feature     Score\n",
      "0        s_A  0.031090\n",
      "1        s_B  0.025095\n",
      "2        s_X  0.052514\n",
      "3    density  0.012625\n",
      "4   mean_A2B  0.183729\n",
      "5   mean_A2X  0.213080\n",
      "6   mean_B2X  0.008125\n",
      "7   mean_X2X  0.019508\n",
      "8      E_coh  0.027202\n",
      "9         TF  0.008693\n",
      "10        OF  0.007618\n",
      "11       X_Z  0.026346\n",
      "12     X_IEI  0.126684\n",
      "13    B_IEII  0.030211\n",
      "14    X_IEII  0.124294\n",
      "15    B_ChiP  0.010341\n",
      "16    A_ChiA  0.051223\n",
      "17    A_Rvdw  0.007686\n",
      "18     B_Rho  0.028350\n",
      "19      B_Hf  0.005588\n",
      "-----------------------------------------------------\n",
      "The shape of X is  (80, 20)\n",
      "-----------------------------------------------------\n",
      "The R2 for  100 , friedman_mse , 4 , 1 , log2  is  0.7357018580683086\n",
      "The RMSE for  100 , friedman_mse , 4 , 1 , log2  is  0.0833617348566881\n",
      "-----------------------------------------------------\n",
      "The R2 is  0.7386381248632004\n",
      "The RMSE is  0.09110529171039324\n"
     ]
    }
   ],
   "source": [
    "X=feature_elimination(X,Y,20,ml_model,method='rfe')\n",
    "ml_model=build_cv_model(X,Y,False,target)\n",
    "run_model(X,Y,ml_model_prime,target)"
   ]
  },
  {
   "cell_type": "code",
   "execution_count": 33,
   "id": "435b79d2",
   "metadata": {},
   "outputs": [
    {
     "name": "stdout",
     "output_type": "stream",
     "text": [
      "    Feature     Score\n",
      "0       s_A  0.068948\n",
      "1       s_B  0.071045\n",
      "2       s_X  0.112332\n",
      "3  mean_A2B  0.100423\n",
      "4  mean_A2X  0.094618\n",
      "5  mean_X2X  0.077905\n",
      "6     E_coh  0.067217\n",
      "7       X_Z  0.166418\n",
      "8     X_IEI  0.140728\n",
      "9    X_IEII  0.100365\n",
      "-----------------------------------------------------\n",
      "The shape of X is  (80, 10)\n",
      "-----------------------------------------------------\n",
      "The R2 for  100 , absolute_error , 2 , 1 , 0.3  is  0.7219080951995194\n",
      "The RMSE for  100 , absolute_error , 2 , 1 , 0.3  is  0.0795977783406477\n",
      "-----------------------------------------------------\n",
      "The R2 is  0.3615649907786877\n",
      "The RMSE is  0.10776182357875981\n"
     ]
    }
   ],
   "source": [
    "X=feature_elimination(X,Y,10,ml_model,method='rfe')\n",
    "ml_model=build_cv_model(X,Y,False,target)\n",
    "run_model(X,Y,ml_model_prime,target)"
   ]
  }
 ],
 "metadata": {
  "kernelspec": {
   "display_name": "Python 3 (ipykernel)",
   "language": "python",
   "name": "python3"
  },
  "language_info": {
   "codemirror_mode": {
    "name": "ipython",
    "version": 3
   },
   "file_extension": ".py",
   "mimetype": "text/x-python",
   "name": "python",
   "nbconvert_exporter": "python",
   "pygments_lexer": "ipython3",
   "version": "3.9.13"
  }
 },
 "nbformat": 4,
 "nbformat_minor": 5
}
