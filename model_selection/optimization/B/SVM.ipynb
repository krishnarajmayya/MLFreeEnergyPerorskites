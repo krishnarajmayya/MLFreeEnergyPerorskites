{
 "cells": [
  {
   "cell_type": "markdown",
   "id": "a9cd6142",
   "metadata": {},
   "source": [
    "# Model selection"
   ]
  },
  {
   "cell_type": "code",
   "execution_count": 1,
   "id": "62d47901",
   "metadata": {},
   "outputs": [],
   "source": [
    "import pandas as pd"
   ]
  },
  {
   "cell_type": "code",
   "execution_count": 2,
   "id": "cf430274",
   "metadata": {},
   "outputs": [],
   "source": [
    "import matplotlib.pyplot as plt\n",
    "import numpy as np\n",
    "import itertools"
   ]
  },
  {
   "cell_type": "code",
   "execution_count": 3,
   "id": "eb0a1193",
   "metadata": {},
   "outputs": [],
   "source": [
    "from sklearn.metrics import mean_squared_error, r2_score\n",
    "from sklearn.gaussian_process import GaussianProcessRegressor\n",
    "from sklearn.svm import SVR\n",
    "from sklearn.gaussian_process.kernels import RBF\n",
    "from sklearn.preprocessing import StandardScaler, MinMaxScaler\n",
    "from sklearn.model_selection import train_test_split, cross_val_score, KFold\n",
    "from sklearn.linear_model import LinearRegression, Ridge, Lasso\n",
    "from sklearn.ensemble import RandomForestRegressor,GradientBoostingRegressor\n",
    "from sklearn.feature_selection import RFE, SelectKBest, f_regression"
   ]
  },
  {
   "cell_type": "code",
   "execution_count": 4,
   "id": "d9667f76",
   "metadata": {},
   "outputs": [],
   "source": [
    "import seaborn as sns"
   ]
  },
  {
   "cell_type": "markdown",
   "id": "05e51c93",
   "metadata": {},
   "source": [
    "Import data from csv files into a dataframe"
   ]
  },
  {
   "cell_type": "code",
   "execution_count": 5,
   "id": "787cce69",
   "metadata": {},
   "outputs": [
    {
     "name": "stdout",
     "output_type": "stream",
     "text": [
      "['Name' 'Coef_a' 'Coef_b' 'Coef_c' 'Coef_d' 'A_site' 'B_site' 'X_site'\n",
      " 'Spacegroup' 'Ehull' 'BulkModulus' 'Energy' 'ZPE' 's_A' 's_B' 's_X'\n",
      " 'density' 'mean_A2B' 'mean_A2X' 'mean_B2X' 'mean_X2X' 'std_A2B' 'std_A2X'\n",
      " 'std_B2X' 'std_X2X' 'E_coh' 'TF' 'OF' 'A_Z' 'B_Z' 'X_Z' 'A_M' 'B_M' 'X_M'\n",
      " 'A_G' 'B_G' 'X_G' 'A_IEI' 'B_IEI' 'X_IEI' 'A_IEII' 'B_IEII' 'X_IEII'\n",
      " 'A_EA' 'B_EA' 'X_EA' 'A_ChiP' 'B_ChiP' 'X_ChiP' 'A_ChiA' 'X_ChiA'\n",
      " 'A_Rvdw' 'B_Rvdw' 'X_Rvdw' 'A_Rc' 'B_Rc' 'X_Rc' 'A_Ra' 'B_Ra' 'X_Ra'\n",
      " 'A_MP' 'B_MP' 'X_MP' 'A_BP' 'B_BP' 'X_BP' 'A_Rho' 'B_Rho' 'A_MV' 'B_MV'\n",
      " 'X_MV' 'A_Hf' 'B_Hf' 'X_Hf' 'A_Hv' 'B_Hv' 'X_Hv' 'A_Kappa' 'B_Kappa'\n",
      " 'X_Kappa' 'A_CvM' 'B_CvM' 'X_CvM' 'A_B' 'B_B' 'X_B' 'A_MendeleevNo'\n",
      " 'B_MendeleevNo' 'X_MendeleevNo']\n"
     ]
    }
   ],
   "source": [
    "data = pd.read_csv('Combined_all_3rd_fit.csv', encoding='cp1252')\n",
    "print(data.columns.values)"
   ]
  },
  {
   "cell_type": "markdown",
   "id": "193419bd",
   "metadata": {},
   "source": [
    "Drop the unnecessary columns and fill the empty cells with zero"
   ]
  },
  {
   "cell_type": "code",
   "execution_count": 6,
   "id": "30a36ba9",
   "metadata": {},
   "outputs": [
    {
     "name": "stdout",
     "output_type": "stream",
     "text": [
      "(80, 77)\n"
     ]
    }
   ],
   "source": [
    "data.drop(['Name', 'A_site', 'B_site', 'X_site', 'Spacegroup','BulkModulus',\n",
    "           'Ehull','Energy','ZPE','Coef_a', 'Coef_c', 'Coef_d'], axis=1, inplace = True)\n",
    "data.fillna(0, inplace= True)\n",
    "d=data.copy()\n",
    "columns = list(d.columns.values)\n",
    "print(d.shape)"
   ]
  },
  {
   "cell_type": "markdown",
   "id": "4bb0c2a1",
   "metadata": {},
   "source": [
    "Set the target variable to machine learn"
   ]
  },
  {
   "cell_type": "code",
   "execution_count": 7,
   "id": "b2817160",
   "metadata": {},
   "outputs": [],
   "source": [
    "target = 'Coef_b'"
   ]
  },
  {
   "cell_type": "markdown",
   "id": "0f98f85e",
   "metadata": {},
   "source": [
    "Define various methods to be used for buildig and validating the models"
   ]
  },
  {
   "cell_type": "code",
   "execution_count": 8,
   "id": "5fa4081a",
   "metadata": {},
   "outputs": [],
   "source": [
    "\"\"\"\n",
    "    Functions to perform scaling\n",
    "    \n",
    "    \"\"\"\n",
    "def standard_scaling(target):\n",
    "    data_std=d.copy()\n",
    "    data_std[columns]= StandardScaler().fit_transform(d[columns])\n",
    "    Y = data_std[target] \n",
    "    X = data_std.drop([target], axis=1)\n",
    "    return X,Y\n",
    "\n",
    "def minmax_scaling(target):\n",
    "    data_mm=d.copy()\n",
    "    data_mm[columns]= MinMaxScaler().fit_transform(d[columns])\n",
    "    Y = data_mm[target] \n",
    "    X = data_mm.drop([target], axis=1)\n",
    "    return X,Y"
   ]
  },
  {
   "cell_type": "code",
   "execution_count": 9,
   "id": "08eda787",
   "metadata": {},
   "outputs": [],
   "source": [
    "\"\"\"\n",
    "    Function to build machine learning models by hyper parameter tuning. It also plots scatter plot\n",
    "    \n",
    "    \"\"\"\n",
    "def build_cv_model(X,Y,b_drop=False,target='Coef_d'):\n",
    "    if b_drop :\n",
    "        correlated_features = [\"A_Rc\",\"A_Ra\",\"A_M\",\"A_MP\",\"A_MV\",\"A_MendeleevNo\",\"A_Hf\",\"A_Hv\",\"B_Rc\",\n",
    "                       \"B_Rvdw\",\"B_M\",\"B_BP\",\"B_MendeleevNo\",\"B_Hv\",\"X_Rc\",\"X_Rvdw\",\"X_M\",\"X_BP\",\"X_MP\",\n",
    "                       \"X_MendeleevNo\",\"X_Hf\",\"X_Hv\",\"X_G\",\"X_B\",\"X_CvM\",\"X_ChiP\"]\n",
    "        X.drop(labels=correlated_features, axis=1, inplace=True)\n",
    "        \n",
    "    print(\"The shape of X is \",X.shape)\n",
    "    \n",
    "    ml_model, cv_results = train_model(X,Y,hyperparams=hyperparams, cv=True, return_cv=True)\n",
    "    \n",
    "    return ml_model"
   ]
  },
  {
   "cell_type": "code",
   "execution_count": 10,
   "id": "835ed0e7",
   "metadata": {},
   "outputs": [],
   "source": [
    "def run_model(X,Y,model,target='Coef_d'):\n",
    "    rmse,r2 = run_cv(model, X, Y, n_cv = 5)\n",
    "    print(\"-----------------------------------------------------\")\n",
    "    print(\"The R2 is \",r2)\n",
    "    print(\"The RMSE is \",rmse)"
   ]
  },
  {
   "cell_type": "code",
   "execution_count": 11,
   "id": "8be0db69",
   "metadata": {},
   "outputs": [],
   "source": [
    "\"\"\"\n",
    "    Function to perform feature elimination using select K best of RFE method. It also prints the \n",
    "    feature scores obtained as:\n",
    "    SelectKBest: The scores obtained from the selector\n",
    "    RFE: The feature importance obtained from the RFR model \n",
    "    \n",
    "    \"\"\"\n",
    "def feature_elimination(X,Y,n,estimator,method='skb'):\n",
    "    if method=='skb':\n",
    "        bestfeatures = SelectKBest(score_func=f_regression, k=10)\n",
    "        fit = bestfeatures.fit(X,Y)\n",
    "        dfscores = pd.DataFrame(fit.scores_)\n",
    "        dfcolumns = pd.DataFrame(X.columns)\n",
    "        #concat two dataframes for better visualization \n",
    "        featureScores = pd.concat([dfcolumns,dfscores],axis=1)\n",
    "        featureScores.columns = ['Feature','Score']  #naming the dataframe columns\n",
    "        X=X[featureScores.nlargest(n,'Score')['Feature'].values]\n",
    "    elif method=='rfe':\n",
    "        selector = RFE(estimator, n_features_to_select=n, step=1)\n",
    "        selector = selector.fit(X, Y)\n",
    "        dfscores = pd.DataFrame(selector.ranking_)\n",
    "        dfcolumns = pd.DataFrame(selector.feature_names_in_)\n",
    "        #concat two dataframes for better visualization \n",
    "        featureSelection = pd.concat([dfcolumns,dfscores],axis=1)\n",
    "        featureSelection.columns = ['Feature','Score']  #naming the dataframe columns\n",
    "        X=X[featureSelection.nsmallest(n,'Score')['Feature'].values]\n",
    "        estimator.fit(X,Y)\n",
    "        importance = pd.DataFrame(estimator.feature_importances_)\n",
    "        featureNames = pd.DataFrame(X.columns.values)\n",
    "        featureScores = pd.concat([featureNames,importance],axis=1)\n",
    "        featureScores.columns = ['Feature','Score']  #naming the dataframe columns\n",
    "        \n",
    "    print(featureScores)\n",
    "    print(\"-----------------------------------------------------\")\n",
    "    return X"
   ]
  },
  {
   "cell_type": "code",
   "execution_count": 12,
   "id": "80a52bcd",
   "metadata": {},
   "outputs": [],
   "source": [
    "def train_model(X, y, hyperparams = None, cv = False, return_cv = False):\n",
    "    \"\"\"\n",
    "    Function to train the ML model on the given data X (features) and y (target property). \n",
    "    If hyperparams argument is passed, all possible combinations of alpha and kernel values\n",
    "    will be tried to find combination with minimum CV error. The final  model is trained\n",
    "    using the fixed kernel and alpha params as determined using CV.\n",
    "    \n",
    "    \"\"\"\n",
    "    \n",
    "    if cv:\n",
    "        cv_results = {'kernel':[],'degree':[],'C':[],\n",
    "                      'gamma':[],'epsilon':[],'cv_rmse':[],'cv_r2':[]}\n",
    "        for k,d,c,g,e in itertools.product(hyperparams['kernel'], \n",
    "                                           hyperparams['degree'],hyperparams['C'],\n",
    "                                          hyperparams['gamma'],hyperparams['epsilon']):\n",
    "\n",
    "            svr = SVR(kernel=k, degree=d, C=c, gamma=g, epsilon=e)\n",
    "\n",
    "            cv_error, cv_r2 = run_cv(svr, X, y, n_cv = 5)\n",
    "            cv_results['cv_rmse'].append(cv_error)\n",
    "            cv_results['cv_r2'].append(cv_r2)\n",
    "            cv_results['kernel'].append(k)\n",
    "            cv_results['degree'].append(d)\n",
    "            cv_results['C'].append(c)\n",
    "            cv_results['gamma'].append(g)\n",
    "            cv_results['epsilon'].append(e)\n",
    "\n",
    "        cv_results = pd.DataFrame(cv_results)\n",
    "        cv_results = cv_results.sort_values('cv_rmse')\n",
    "        k_opt = cv_results.iloc[0]['kernel']\n",
    "        d_opt = cv_results.iloc[0]['degree']\n",
    "        c_opt = cv_results.iloc[0]['C']\n",
    "        g_opt = cv_results.iloc[0]['gamma']\n",
    "        e_opt = cv_results.iloc[0]['epsilon']\n",
    "        \n",
    "    else:\n",
    "        k_opt = hyperparams['kernel'][0]\n",
    "        d_opt = hyperparams['degree'][0]\n",
    "        c_opt = hyperparams['C'][0]\n",
    "        g_opt = hyperparams['gamma'][0]\n",
    "        e_opt = hyperparams['epsilon'][0]\n",
    "\n",
    "    svr = SVR(kernel=k_opt, degree=d_opt, C=c_opt, gamma=g_opt, epsilon=e_opt)\n",
    "    model = svr.fit(X,y)\n",
    "    print(\"-----------------------------------------------------\")\n",
    "    print(\"The R2 for \",k_opt,\",\",d_opt,\",\",c_opt,\",\",g_opt,\",\",e_opt,\" is \",cv_results.iloc[0]['cv_r2'])\n",
    "    print(\"The RMSE for \",k_opt,\",\",d_opt,\",\",c_opt,\",\",g_opt,\",\",e_opt,\" is \",cv_results.iloc[0]['cv_rmse'])\n",
    "    return [model, cv_results] if return_cv else model\n",
    "\n",
    "\n",
    "def run_cv(ml_model, X, y, n_cv = 5):\n",
    "    \"\"\"\n",
    "    Function to run Cross-validation\n",
    "    \"\"\"\n",
    "    kf = KFold(n_splits=n_cv,shuffle=True,random_state=50)\n",
    "    y_val = []\n",
    "    y_pred = []\n",
    "\n",
    "    for idx, (train, val) in enumerate(kf.split(X)):\n",
    "        \n",
    "        X_cv_train = X.values[train]\n",
    "        X_cv_val = X.values[val]\n",
    "\n",
    "        y_cv_train = y.values[train]\n",
    "        y_cv_val = y.values[val]    \n",
    "\n",
    "        # Model fit and prediction\n",
    "        model = ml_model.fit(X_cv_train, y_cv_train)\n",
    "        y_pred_val = model.predict(X_cv_val)\n",
    "        \n",
    "        y_val.append(y_cv_val)\n",
    "        y_pred.append(y_pred_val)\n",
    "\n",
    "    # Computing errors\n",
    "    rmse = np.sqrt(mean_squared_error(y_val, y_pred))\n",
    "    r2 = r2_score(y_val, y_pred)\n",
    "    \n",
    "    return rmse, r2"
   ]
  },
  {
   "cell_type": "markdown",
   "id": "5e43d433",
   "metadata": {},
   "source": [
    "Define the hyperparameters to be tuned for the given algorithm"
   ]
  },
  {
   "cell_type": "code",
   "execution_count": 13,
   "id": "bffb2010",
   "metadata": {},
   "outputs": [],
   "source": [
    "hyperparams={'kernel': ['linear', 'poly', 'rbf', 'sigmoid'],\n",
    "             'degree':[2,3],\n",
    "            'C':[0.1,0.5,1,2,4],\n",
    "            'gamma':['auto','scale'],\n",
    "            'epsilon':[0.01,0.1,0.5,1,2,4]}"
   ]
  },
  {
   "cell_type": "markdown",
   "id": "50ef316a",
   "metadata": {},
   "source": [
    "## Without scaling"
   ]
  },
  {
   "cell_type": "code",
   "execution_count": 14,
   "id": "68802fe0",
   "metadata": {},
   "outputs": [],
   "source": [
    "data_std=d.copy()\n",
    "Y = data_std[target] \n",
    "X = data_std.drop([target], axis=1)"
   ]
  },
  {
   "cell_type": "code",
   "execution_count": 15,
   "id": "090acf26",
   "metadata": {},
   "outputs": [
    {
     "name": "stdout",
     "output_type": "stream",
     "text": [
      "The shape of X is  (80, 76)\n",
      "-----------------------------------------------------\n",
      "The R2 for  poly , 3 , 0.1 , auto , 2.0  is  -0.8676035884016167\n",
      "The RMSE for  poly , 3 , 0.1 , auto , 2.0  is  5.72286083440497e-05\n"
     ]
    }
   ],
   "source": [
    "ml_model=build_cv_model(X,Y,False,target)"
   ]
  },
  {
   "cell_type": "markdown",
   "id": "62ea41f3",
   "metadata": {},
   "source": [
    "### Drop correlated features"
   ]
  },
  {
   "cell_type": "code",
   "execution_count": 16,
   "id": "26950d24",
   "metadata": {},
   "outputs": [
    {
     "name": "stdout",
     "output_type": "stream",
     "text": [
      "The shape of X is  (80, 50)\n",
      "-----------------------------------------------------\n",
      "The R2 for  poly , 3 , 0.1 , auto , 2.0  is  -0.8676035884016167\n",
      "The RMSE for  poly , 3 , 0.1 , auto , 2.0  is  5.72286083440497e-05\n"
     ]
    }
   ],
   "source": [
    "ml_model_prime=build_cv_model(X,Y,True,target)"
   ]
  },
  {
   "cell_type": "markdown",
   "id": "f0b36718",
   "metadata": {},
   "source": [
    "### Feature elimination"
   ]
  },
  {
   "cell_type": "code",
   "execution_count": 17,
   "id": "a6b5dd6b",
   "metadata": {},
   "outputs": [
    {
     "name": "stdout",
     "output_type": "stream",
     "text": [
      "     Feature       Score\n",
      "0        s_A   51.729561\n",
      "1        s_B   59.910760\n",
      "2        s_X   92.541192\n",
      "3    density    0.920746\n",
      "4   mean_A2B  126.044006\n",
      "5   mean_A2X   51.569746\n",
      "6   mean_B2X    0.226120\n",
      "7   mean_X2X   75.264201\n",
      "8    std_A2B    6.140295\n",
      "9    std_A2X   17.648197\n",
      "10   std_B2X   13.967425\n",
      "11   std_X2X    3.509274\n",
      "12     E_coh   33.972057\n",
      "13        TF    2.221933\n",
      "14        OF   12.249707\n",
      "15       A_Z   12.150767\n",
      "16       B_Z    9.949890\n",
      "17       X_Z   91.454183\n",
      "18       A_G    4.721854\n",
      "19       B_G    1.232756\n",
      "20     A_IEI   38.391765\n",
      "21     B_IEI    0.860003\n",
      "22     X_IEI    3.817711\n",
      "23    A_IEII    0.004706\n",
      "24    B_IEII    1.325940\n",
      "25    X_IEII   24.989071\n",
      "26      A_EA   12.418282\n",
      "27      B_EA    3.303905\n",
      "28      X_EA  103.886132\n",
      "29    A_ChiP   16.845472\n",
      "30    B_ChiP    1.949703\n",
      "31    A_ChiA   20.970549\n",
      "32    X_ChiA    4.797986\n",
      "33    A_Rvdw   57.675309\n",
      "34      B_Ra   13.090297\n",
      "35      X_Ra   93.260694\n",
      "36      B_MP   16.262954\n",
      "37      A_BP   13.449987\n",
      "38     A_Rho    1.321795\n",
      "39     B_Rho    3.675736\n",
      "40      B_MV    6.707130\n",
      "41      X_MV    6.058738\n",
      "42      B_Hf   20.432377\n",
      "43   A_Kappa    8.297802\n",
      "44   B_Kappa    6.966805\n",
      "45   X_Kappa   10.287385\n",
      "46     A_CvM    8.675611\n",
      "47     B_CvM    3.909868\n",
      "48       A_B    5.295637\n",
      "49       B_B    0.001610\n",
      "-----------------------------------------------------\n",
      "The shape of X is  (80, 40)\n",
      "-----------------------------------------------------\n",
      "The R2 for  poly , 3 , 0.1 , auto , 2.0  is  -0.8676035884016167\n",
      "The RMSE for  poly , 3 , 0.1 , auto , 2.0  is  5.72286083440497e-05\n",
      "-----------------------------------------------------\n",
      "The R2 is  -0.8676035884016167\n",
      "The RMSE is  5.72286083440497e-05\n"
     ]
    }
   ],
   "source": [
    "X=feature_elimination(X,Y,40,ml_model_prime,method='skb')\n",
    "ml_model=build_cv_model(X,Y,False,target)\n",
    "run_model(X,Y,ml_model_prime,target)"
   ]
  },
  {
   "cell_type": "code",
   "execution_count": 18,
   "id": "f4c14a2c",
   "metadata": {},
   "outputs": [
    {
     "name": "stdout",
     "output_type": "stream",
     "text": [
      "     Feature       Score\n",
      "0   mean_A2B  126.044006\n",
      "1       X_EA  103.886132\n",
      "2       X_Ra   93.260694\n",
      "3        s_X   92.541192\n",
      "4        X_Z   91.454183\n",
      "5   mean_X2X   75.264201\n",
      "6        s_B   59.910760\n",
      "7     A_Rvdw   57.675309\n",
      "8        s_A   51.729561\n",
      "9   mean_A2X   51.569746\n",
      "10     A_IEI   38.391765\n",
      "11     E_coh   33.972057\n",
      "12    X_IEII   24.989071\n",
      "13    A_ChiA   20.970549\n",
      "14      B_Hf   20.432377\n",
      "15   std_A2X   17.648197\n",
      "16    A_ChiP   16.845472\n",
      "17      B_MP   16.262954\n",
      "18   std_B2X   13.967425\n",
      "19      A_BP   13.449987\n",
      "20      B_Ra   13.090297\n",
      "21      A_EA   12.418282\n",
      "22        OF   12.249707\n",
      "23       A_Z   12.150767\n",
      "24   X_Kappa   10.287385\n",
      "25       B_Z    9.949890\n",
      "26     A_CvM    8.675611\n",
      "27   A_Kappa    8.297802\n",
      "28   B_Kappa    6.966805\n",
      "29      B_MV    6.707130\n",
      "30   std_A2B    6.140295\n",
      "31      X_MV    6.058738\n",
      "32       A_B    5.295637\n",
      "33    X_ChiA    4.797986\n",
      "34       A_G    4.721854\n",
      "35     B_CvM    3.909868\n",
      "36     X_IEI    3.817711\n",
      "37     B_Rho    3.675736\n",
      "38   std_X2X    3.509274\n",
      "39      B_EA    3.303905\n",
      "-----------------------------------------------------\n",
      "The shape of X is  (80, 30)\n",
      "-----------------------------------------------------\n",
      "The R2 for  poly , 3 , 0.1 , auto , 2.0  is  -0.8676035884016167\n",
      "The RMSE for  poly , 3 , 0.1 , auto , 2.0  is  5.72286083440497e-05\n",
      "-----------------------------------------------------\n",
      "The R2 is  -0.8676035884016167\n",
      "The RMSE is  5.72286083440497e-05\n"
     ]
    }
   ],
   "source": [
    "X=feature_elimination(X,Y,30,ml_model,method='skb')\n",
    "ml_model=build_cv_model(X,Y,False,target)\n",
    "run_model(X,Y,ml_model_prime,target)"
   ]
  },
  {
   "cell_type": "code",
   "execution_count": 19,
   "id": "43be0df3",
   "metadata": {},
   "outputs": [
    {
     "name": "stdout",
     "output_type": "stream",
     "text": [
      "     Feature       Score\n",
      "0   mean_A2B  126.044006\n",
      "1       X_EA  103.886132\n",
      "2       X_Ra   93.260694\n",
      "3        s_X   92.541192\n",
      "4        X_Z   91.454183\n",
      "5   mean_X2X   75.264201\n",
      "6        s_B   59.910760\n",
      "7     A_Rvdw   57.675309\n",
      "8        s_A   51.729561\n",
      "9   mean_A2X   51.569746\n",
      "10     A_IEI   38.391765\n",
      "11     E_coh   33.972057\n",
      "12    X_IEII   24.989071\n",
      "13    A_ChiA   20.970549\n",
      "14      B_Hf   20.432377\n",
      "15   std_A2X   17.648197\n",
      "16    A_ChiP   16.845472\n",
      "17      B_MP   16.262954\n",
      "18   std_B2X   13.967425\n",
      "19      A_BP   13.449987\n",
      "20      B_Ra   13.090297\n",
      "21      A_EA   12.418282\n",
      "22        OF   12.249707\n",
      "23       A_Z   12.150767\n",
      "24   X_Kappa   10.287385\n",
      "25       B_Z    9.949890\n",
      "26     A_CvM    8.675611\n",
      "27   A_Kappa    8.297802\n",
      "28   B_Kappa    6.966805\n",
      "29      B_MV    6.707130\n",
      "-----------------------------------------------------\n",
      "The shape of X is  (80, 20)\n",
      "-----------------------------------------------------\n",
      "The R2 for  poly , 3 , 0.1 , auto , 2.0  is  -0.8676035884016167\n",
      "The RMSE for  poly , 3 , 0.1 , auto , 2.0  is  5.72286083440497e-05\n",
      "-----------------------------------------------------\n",
      "The R2 is  -0.8676035884016167\n",
      "The RMSE is  5.72286083440497e-05\n"
     ]
    }
   ],
   "source": [
    "X=feature_elimination(X,Y,20,ml_model,method='skb')\n",
    "ml_model=build_cv_model(X,Y,False,target)\n",
    "run_model(X,Y,ml_model_prime,target)"
   ]
  },
  {
   "cell_type": "code",
   "execution_count": 20,
   "id": "ba87d76e",
   "metadata": {},
   "outputs": [
    {
     "name": "stdout",
     "output_type": "stream",
     "text": [
      "     Feature       Score\n",
      "0   mean_A2B  126.044006\n",
      "1       X_EA  103.886132\n",
      "2       X_Ra   93.260694\n",
      "3        s_X   92.541192\n",
      "4        X_Z   91.454183\n",
      "5   mean_X2X   75.264201\n",
      "6        s_B   59.910760\n",
      "7     A_Rvdw   57.675309\n",
      "8        s_A   51.729561\n",
      "9   mean_A2X   51.569746\n",
      "10     A_IEI   38.391765\n",
      "11     E_coh   33.972057\n",
      "12    X_IEII   24.989071\n",
      "13    A_ChiA   20.970549\n",
      "14      B_Hf   20.432377\n",
      "15   std_A2X   17.648197\n",
      "16    A_ChiP   16.845472\n",
      "17      B_MP   16.262954\n",
      "18   std_B2X   13.967425\n",
      "19      A_BP   13.449987\n",
      "-----------------------------------------------------\n",
      "The shape of X is  (80, 10)\n",
      "-----------------------------------------------------\n",
      "The R2 for  poly , 3 , 0.1 , auto , 2.0  is  -0.8676035884016167\n",
      "The RMSE for  poly , 3 , 0.1 , auto , 2.0  is  5.72286083440497e-05\n",
      "-----------------------------------------------------\n",
      "The R2 is  -0.8676035884016167\n",
      "The RMSE is  5.72286083440497e-05\n"
     ]
    }
   ],
   "source": [
    "X=feature_elimination(X,Y,10,ml_model,method='skb')\n",
    "ml_model=build_cv_model(X,Y,False,target)\n",
    "run_model(X,Y,ml_model_prime,target)"
   ]
  },
  {
   "cell_type": "markdown",
   "id": "d6598f01",
   "metadata": {},
   "source": [
    "## Standard scaling"
   ]
  },
  {
   "cell_type": "code",
   "execution_count": 21,
   "id": "418a5638",
   "metadata": {},
   "outputs": [
    {
     "name": "stdout",
     "output_type": "stream",
     "text": [
      "The shape of X is  (80, 76)\n",
      "-----------------------------------------------------\n",
      "The R2 for  rbf , 2 , 2.0 , scale , 0.01  is  0.8507287577053773\n",
      "The RMSE for  rbf , 2 , 2.0 , scale , 0.01  is  0.28082718602519713\n"
     ]
    }
   ],
   "source": [
    "X,Y = standard_scaling(target)\n",
    "ml_model=build_cv_model(X,Y,False,target)"
   ]
  },
  {
   "cell_type": "markdown",
   "id": "2140e933",
   "metadata": {},
   "source": [
    "### Drop correlated features"
   ]
  },
  {
   "cell_type": "code",
   "execution_count": 22,
   "id": "e4732e80",
   "metadata": {},
   "outputs": [
    {
     "name": "stdout",
     "output_type": "stream",
     "text": [
      "The shape of X is  (80, 50)\n",
      "-----------------------------------------------------\n",
      "The R2 for  rbf , 2 , 2.0 , scale , 0.01  is  0.8079055165091882\n",
      "The RMSE for  rbf , 2 , 2.0 , scale , 0.01  is  0.31174098013073837\n"
     ]
    }
   ],
   "source": [
    "ml_model_prime=build_cv_model(X,Y,True,target)"
   ]
  },
  {
   "cell_type": "markdown",
   "id": "5da0961f",
   "metadata": {},
   "source": [
    "### Feature elimination"
   ]
  },
  {
   "cell_type": "code",
   "execution_count": 23,
   "id": "a53db140",
   "metadata": {},
   "outputs": [
    {
     "name": "stdout",
     "output_type": "stream",
     "text": [
      "     Feature       Score\n",
      "0        s_A   51.729561\n",
      "1        s_B   59.910760\n",
      "2        s_X   92.541192\n",
      "3    density    0.920746\n",
      "4   mean_A2B  126.044006\n",
      "5   mean_A2X   51.569746\n",
      "6   mean_B2X    0.226120\n",
      "7   mean_X2X   75.264201\n",
      "8    std_A2B    6.140295\n",
      "9    std_A2X   17.648197\n",
      "10   std_B2X   13.967425\n",
      "11   std_X2X    3.509274\n",
      "12     E_coh   33.972057\n",
      "13        TF    2.221933\n",
      "14        OF   12.249707\n",
      "15       A_Z   12.150767\n",
      "16       B_Z    9.949890\n",
      "17       X_Z   91.454183\n",
      "18       A_G    4.721854\n",
      "19       B_G    1.232756\n",
      "20     A_IEI   38.391765\n",
      "21     B_IEI    0.860003\n",
      "22     X_IEI    3.817711\n",
      "23    A_IEII    0.004706\n",
      "24    B_IEII    1.325940\n",
      "25    X_IEII   24.989071\n",
      "26      A_EA   12.418282\n",
      "27      B_EA    3.303905\n",
      "28      X_EA  103.886132\n",
      "29    A_ChiP   16.845472\n",
      "30    B_ChiP    1.949703\n",
      "31    A_ChiA   20.970549\n",
      "32    X_ChiA    4.797986\n",
      "33    A_Rvdw   57.675309\n",
      "34      B_Ra   13.090297\n",
      "35      X_Ra   93.260694\n",
      "36      B_MP   16.262954\n",
      "37      A_BP   13.449987\n",
      "38     A_Rho    1.321795\n",
      "39     B_Rho    3.675736\n",
      "40      B_MV    6.707130\n",
      "41      X_MV    6.058738\n",
      "42      B_Hf   20.432377\n",
      "43   A_Kappa    8.297802\n",
      "44   B_Kappa    6.966805\n",
      "45   X_Kappa   10.287385\n",
      "46     A_CvM    8.675611\n",
      "47     B_CvM    3.909868\n",
      "48       A_B    5.295637\n",
      "49       B_B    0.001610\n",
      "-----------------------------------------------------\n",
      "The shape of X is  (80, 40)\n",
      "-----------------------------------------------------\n",
      "The R2 for  rbf , 3 , 2.0 , auto , 0.01  is  0.8336841049135533\n",
      "The RMSE for  rbf , 3 , 2.0 , auto , 0.01  is  0.29259453708107847\n",
      "-----------------------------------------------------\n",
      "The R2 is  0.8341316898159813\n",
      "The RMSE is  0.2930833463947791\n"
     ]
    }
   ],
   "source": [
    "X=feature_elimination(X,Y,40,ml_model_prime,method='skb')\n",
    "ml_model=build_cv_model(X,Y,False,target)\n",
    "run_model(X,Y,ml_model_prime,target)"
   ]
  },
  {
   "cell_type": "code",
   "execution_count": 24,
   "id": "44657d0f",
   "metadata": {},
   "outputs": [
    {
     "name": "stdout",
     "output_type": "stream",
     "text": [
      "     Feature       Score\n",
      "0   mean_A2B  126.044006\n",
      "1       X_EA  103.886132\n",
      "2       X_Ra   93.260694\n",
      "3        s_X   92.541192\n",
      "4        X_Z   91.454183\n",
      "5   mean_X2X   75.264201\n",
      "6        s_B   59.910760\n",
      "7     A_Rvdw   57.675309\n",
      "8        s_A   51.729561\n",
      "9   mean_A2X   51.569746\n",
      "10     A_IEI   38.391765\n",
      "11     E_coh   33.972057\n",
      "12    X_IEII   24.989071\n",
      "13    A_ChiA   20.970549\n",
      "14      B_Hf   20.432377\n",
      "15   std_A2X   17.648197\n",
      "16    A_ChiP   16.845472\n",
      "17      B_MP   16.262954\n",
      "18   std_B2X   13.967425\n",
      "19      A_BP   13.449987\n",
      "20      B_Ra   13.090297\n",
      "21      A_EA   12.418282\n",
      "22        OF   12.249707\n",
      "23       A_Z   12.150767\n",
      "24   X_Kappa   10.287385\n",
      "25       B_Z    9.949890\n",
      "26     A_CvM    8.675611\n",
      "27   A_Kappa    8.297802\n",
      "28   B_Kappa    6.966805\n",
      "29      B_MV    6.707130\n",
      "30   std_A2B    6.140295\n",
      "31      X_MV    6.058738\n",
      "32       A_B    5.295637\n",
      "33    X_ChiA    4.797986\n",
      "34       A_G    4.721854\n",
      "35     B_CvM    3.909868\n",
      "36     X_IEI    3.817711\n",
      "37     B_Rho    3.675736\n",
      "38   std_X2X    3.509274\n",
      "39      B_EA    3.303905\n",
      "-----------------------------------------------------\n",
      "The shape of X is  (80, 30)\n",
      "-----------------------------------------------------\n",
      "The R2 for  rbf , 2 , 2.0 , auto , 0.01  is  0.861738951948045\n",
      "The RMSE for  rbf , 2 , 2.0 , auto , 0.01  is  0.28405535657598835\n",
      "-----------------------------------------------------\n",
      "The R2 is  0.8615600313765228\n",
      "The RMSE is  0.2855560229054935\n"
     ]
    }
   ],
   "source": [
    "X=feature_elimination(X,Y,30,ml_model,method='skb')\n",
    "ml_model=build_cv_model(X,Y,False,target)\n",
    "run_model(X,Y,ml_model_prime,target)"
   ]
  },
  {
   "cell_type": "code",
   "execution_count": 25,
   "id": "86bc5d14",
   "metadata": {},
   "outputs": [
    {
     "name": "stdout",
     "output_type": "stream",
     "text": [
      "     Feature       Score\n",
      "0   mean_A2B  126.044006\n",
      "1       X_EA  103.886132\n",
      "2       X_Ra   93.260694\n",
      "3        s_X   92.541192\n",
      "4        X_Z   91.454183\n",
      "5   mean_X2X   75.264201\n",
      "6        s_B   59.910760\n",
      "7     A_Rvdw   57.675309\n",
      "8        s_A   51.729561\n",
      "9   mean_A2X   51.569746\n",
      "10     A_IEI   38.391765\n",
      "11     E_coh   33.972057\n",
      "12    X_IEII   24.989071\n",
      "13    A_ChiA   20.970549\n",
      "14      B_Hf   20.432377\n",
      "15   std_A2X   17.648197\n",
      "16    A_ChiP   16.845472\n",
      "17      B_MP   16.262954\n",
      "18   std_B2X   13.967425\n",
      "19      A_BP   13.449987\n",
      "20      B_Ra   13.090297\n",
      "21      A_EA   12.418282\n",
      "22        OF   12.249707\n",
      "23       A_Z   12.150767\n",
      "24   X_Kappa   10.287385\n",
      "25       B_Z    9.949890\n",
      "26     A_CvM    8.675611\n",
      "27   A_Kappa    8.297802\n",
      "28   B_Kappa    6.966805\n",
      "29      B_MV    6.707130\n",
      "-----------------------------------------------------\n",
      "The shape of X is  (80, 20)\n",
      "-----------------------------------------------------\n",
      "The R2 for  rbf , 3 , 2.0 , auto , 0.01  is  0.7566379375721068\n",
      "The RMSE for  rbf , 3 , 2.0 , auto , 0.01  is  0.2915724979867043\n",
      "-----------------------------------------------------\n",
      "The R2 is  0.7531392654115184\n",
      "The RMSE is  0.2916470274473421\n"
     ]
    }
   ],
   "source": [
    "X=feature_elimination(X,Y,20,ml_model,method='skb')\n",
    "ml_model=build_cv_model(X,Y,False,target)\n",
    "run_model(X,Y,ml_model_prime,target)"
   ]
  },
  {
   "cell_type": "code",
   "execution_count": 26,
   "id": "354e0216",
   "metadata": {},
   "outputs": [
    {
     "name": "stdout",
     "output_type": "stream",
     "text": [
      "     Feature       Score\n",
      "0   mean_A2B  126.044006\n",
      "1       X_EA  103.886132\n",
      "2       X_Ra   93.260694\n",
      "3        s_X   92.541192\n",
      "4        X_Z   91.454183\n",
      "5   mean_X2X   75.264201\n",
      "6        s_B   59.910760\n",
      "7     A_Rvdw   57.675309\n",
      "8        s_A   51.729561\n",
      "9   mean_A2X   51.569746\n",
      "10     A_IEI   38.391765\n",
      "11     E_coh   33.972057\n",
      "12    X_IEII   24.989071\n",
      "13    A_ChiA   20.970549\n",
      "14      B_Hf   20.432377\n",
      "15   std_A2X   17.648197\n",
      "16    A_ChiP   16.845472\n",
      "17      B_MP   16.262954\n",
      "18   std_B2X   13.967425\n",
      "19      A_BP   13.449987\n",
      "-----------------------------------------------------\n",
      "The shape of X is  (80, 10)\n",
      "-----------------------------------------------------\n",
      "The R2 for  rbf , 3 , 2.0 , auto , 0.1  is  0.7844407146507779\n",
      "The RMSE for  rbf , 3 , 2.0 , auto , 0.1  is  0.2963817326447397\n",
      "-----------------------------------------------------\n",
      "The R2 is  0.7399347013448478\n",
      "The RMSE is  0.30271663391304265\n"
     ]
    }
   ],
   "source": [
    "X=feature_elimination(X,Y,10,ml_model,method='skb')\n",
    "ml_model=build_cv_model(X,Y,False,target)\n",
    "run_model(X,Y,ml_model_prime,target)"
   ]
  },
  {
   "cell_type": "markdown",
   "id": "7fc100aa",
   "metadata": {},
   "source": [
    "## Minmax scaling"
   ]
  },
  {
   "cell_type": "code",
   "execution_count": 27,
   "id": "3cf3e79b",
   "metadata": {},
   "outputs": [
    {
     "name": "stdout",
     "output_type": "stream",
     "text": [
      "The shape of X is  (80, 76)\n",
      "-----------------------------------------------------\n",
      "The R2 for  rbf , 2 , 0.5 , scale , 0.01  is  0.881207766374212\n",
      "The RMSE for  rbf , 2 , 0.5 , scale , 0.01  is  0.06593639832084587\n"
     ]
    }
   ],
   "source": [
    "X,Y = minmax_scaling(target)\n",
    "ml_model=build_cv_model(X,Y,False,target)"
   ]
  },
  {
   "cell_type": "markdown",
   "id": "53c80113",
   "metadata": {},
   "source": [
    "### Drop correlated features"
   ]
  },
  {
   "cell_type": "code",
   "execution_count": 28,
   "id": "08219247",
   "metadata": {},
   "outputs": [
    {
     "name": "stdout",
     "output_type": "stream",
     "text": [
      "The shape of X is  (80, 50)\n",
      "-----------------------------------------------------\n",
      "The R2 for  rbf , 2 , 0.5 , scale , 0.01  is  0.8694292599336617\n",
      "The RMSE for  rbf , 2 , 0.5 , scale , 0.01  is  0.06924770560358941\n"
     ]
    }
   ],
   "source": [
    "ml_model_prime=build_cv_model(X,Y,True,target)"
   ]
  },
  {
   "cell_type": "markdown",
   "id": "c9d99eda",
   "metadata": {},
   "source": [
    "### Feature elimination"
   ]
  },
  {
   "cell_type": "code",
   "execution_count": 29,
   "id": "cf0fb3e8",
   "metadata": {},
   "outputs": [
    {
     "name": "stdout",
     "output_type": "stream",
     "text": [
      "     Feature       Score\n",
      "0        s_A   51.729561\n",
      "1        s_B   59.910760\n",
      "2        s_X   92.541192\n",
      "3    density    0.920746\n",
      "4   mean_A2B  126.044006\n",
      "5   mean_A2X   51.569746\n",
      "6   mean_B2X    0.226120\n",
      "7   mean_X2X   75.264201\n",
      "8    std_A2B    6.140295\n",
      "9    std_A2X   17.648197\n",
      "10   std_B2X   13.967425\n",
      "11   std_X2X    3.509274\n",
      "12     E_coh   33.972057\n",
      "13        TF    2.221933\n",
      "14        OF   12.249707\n",
      "15       A_Z   12.150767\n",
      "16       B_Z    9.949890\n",
      "17       X_Z   91.454183\n",
      "18       A_G    4.721854\n",
      "19       B_G    1.232756\n",
      "20     A_IEI   38.391765\n",
      "21     B_IEI    0.860003\n",
      "22     X_IEI    3.817711\n",
      "23    A_IEII    0.004706\n",
      "24    B_IEII    1.325940\n",
      "25    X_IEII   24.989071\n",
      "26      A_EA   12.418282\n",
      "27      B_EA    3.303905\n",
      "28      X_EA  103.886132\n",
      "29    A_ChiP   16.845472\n",
      "30    B_ChiP    1.949703\n",
      "31    A_ChiA   20.970549\n",
      "32    X_ChiA    4.797986\n",
      "33    A_Rvdw   57.675309\n",
      "34      B_Ra   13.090297\n",
      "35      X_Ra   93.260694\n",
      "36      B_MP   16.262954\n",
      "37      A_BP   13.449987\n",
      "38     A_Rho    1.321795\n",
      "39     B_Rho    3.675736\n",
      "40      B_MV    6.707130\n",
      "41      X_MV    6.058738\n",
      "42      B_Hf   20.432377\n",
      "43   A_Kappa    8.297802\n",
      "44   B_Kappa    6.966805\n",
      "45   X_Kappa   10.287385\n",
      "46     A_CvM    8.675611\n",
      "47     B_CvM    3.909868\n",
      "48       A_B    5.295637\n",
      "49       B_B    0.001610\n",
      "-----------------------------------------------------\n",
      "The shape of X is  (80, 40)\n",
      "-----------------------------------------------------\n",
      "The R2 for  rbf , 2 , 0.5 , scale , 0.01  is  0.8575321773293577\n",
      "The RMSE for  rbf , 2 , 0.5 , scale , 0.01  is  0.06946123653778086\n",
      "-----------------------------------------------------\n",
      "The R2 is  0.8575321773293577\n",
      "The RMSE is  0.06946123653778086\n"
     ]
    }
   ],
   "source": [
    "X=feature_elimination(X,Y,40,ml_model_prime,method='skb')\n",
    "ml_model=build_cv_model(X,Y,False,target)\n",
    "run_model(X,Y,ml_model_prime,target)"
   ]
  },
  {
   "cell_type": "code",
   "execution_count": 30,
   "id": "0ca7c003",
   "metadata": {},
   "outputs": [
    {
     "name": "stdout",
     "output_type": "stream",
     "text": [
      "     Feature       Score\n",
      "0   mean_A2B  126.044006\n",
      "1       X_EA  103.886132\n",
      "2       X_Ra   93.260694\n",
      "3        s_X   92.541192\n",
      "4        X_Z   91.454183\n",
      "5   mean_X2X   75.264201\n",
      "6        s_B   59.910760\n",
      "7     A_Rvdw   57.675309\n",
      "8        s_A   51.729561\n",
      "9   mean_A2X   51.569746\n",
      "10     A_IEI   38.391765\n",
      "11     E_coh   33.972057\n",
      "12    X_IEII   24.989071\n",
      "13    A_ChiA   20.970549\n",
      "14      B_Hf   20.432377\n",
      "15   std_A2X   17.648197\n",
      "16    A_ChiP   16.845472\n",
      "17      B_MP   16.262954\n",
      "18   std_B2X   13.967425\n",
      "19      A_BP   13.449987\n",
      "20      B_Ra   13.090297\n",
      "21      A_EA   12.418282\n",
      "22        OF   12.249707\n",
      "23       A_Z   12.150767\n",
      "24   X_Kappa   10.287385\n",
      "25       B_Z    9.949890\n",
      "26     A_CvM    8.675611\n",
      "27   A_Kappa    8.297802\n",
      "28   B_Kappa    6.966805\n",
      "29      B_MV    6.707130\n",
      "30   std_A2B    6.140295\n",
      "31      X_MV    6.058738\n",
      "32       A_B    5.295637\n",
      "33    X_ChiA    4.797986\n",
      "34       A_G    4.721854\n",
      "35     B_CvM    3.909868\n",
      "36     X_IEI    3.817711\n",
      "37     B_Rho    3.675736\n",
      "38   std_X2X    3.509274\n",
      "39      B_EA    3.303905\n",
      "-----------------------------------------------------\n",
      "The shape of X is  (80, 30)\n",
      "-----------------------------------------------------\n",
      "The R2 for  rbf , 2 , 0.5 , scale , 0.01  is  0.8489682878052991\n",
      "The RMSE for  rbf , 2 , 0.5 , scale , 0.01  is  0.07141305409951237\n",
      "-----------------------------------------------------\n",
      "The R2 is  0.8489682878052991\n",
      "The RMSE is  0.07141305409951237\n"
     ]
    }
   ],
   "source": [
    "X=feature_elimination(X,Y,30,ml_model,method='skb')\n",
    "ml_model=build_cv_model(X,Y,False,target)\n",
    "run_model(X,Y,ml_model_prime,target)"
   ]
  },
  {
   "cell_type": "code",
   "execution_count": 31,
   "id": "19f11f63",
   "metadata": {},
   "outputs": [
    {
     "name": "stdout",
     "output_type": "stream",
     "text": [
      "     Feature       Score\n",
      "0   mean_A2B  126.044006\n",
      "1       X_EA  103.886132\n",
      "2       X_Ra   93.260694\n",
      "3        s_X   92.541192\n",
      "4        X_Z   91.454183\n",
      "5   mean_X2X   75.264201\n",
      "6        s_B   59.910760\n",
      "7     A_Rvdw   57.675309\n",
      "8        s_A   51.729561\n",
      "9   mean_A2X   51.569746\n",
      "10     A_IEI   38.391765\n",
      "11     E_coh   33.972057\n",
      "12    X_IEII   24.989071\n",
      "13    A_ChiA   20.970549\n",
      "14      B_Hf   20.432377\n",
      "15   std_A2X   17.648197\n",
      "16    A_ChiP   16.845472\n",
      "17      B_MP   16.262954\n",
      "18   std_B2X   13.967425\n",
      "19      A_BP   13.449987\n",
      "20      B_Ra   13.090297\n",
      "21      A_EA   12.418282\n",
      "22        OF   12.249707\n",
      "23       A_Z   12.150767\n",
      "24   X_Kappa   10.287385\n",
      "25       B_Z    9.949890\n",
      "26     A_CvM    8.675611\n",
      "27   A_Kappa    8.297802\n",
      "28   B_Kappa    6.966805\n",
      "29      B_MV    6.707130\n",
      "-----------------------------------------------------\n",
      "The shape of X is  (80, 20)\n",
      "-----------------------------------------------------\n",
      "The R2 for  rbf , 2 , 0.5 , scale , 0.01  is  0.7904237055812551\n",
      "The RMSE for  rbf , 2 , 0.5 , scale , 0.01  is  0.0708742310412724\n",
      "-----------------------------------------------------\n",
      "The R2 is  0.7904237055812551\n",
      "The RMSE is  0.0708742310412724\n"
     ]
    }
   ],
   "source": [
    "X=feature_elimination(X,Y,20,ml_model,method='skb')\n",
    "ml_model=build_cv_model(X,Y,False,target)\n",
    "run_model(X,Y,ml_model_prime,target)"
   ]
  },
  {
   "cell_type": "code",
   "execution_count": 32,
   "id": "435b79d2",
   "metadata": {},
   "outputs": [
    {
     "name": "stdout",
     "output_type": "stream",
     "text": [
      "     Feature       Score\n",
      "0   mean_A2B  126.044006\n",
      "1       X_EA  103.886132\n",
      "2       X_Ra   93.260694\n",
      "3        s_X   92.541192\n",
      "4        X_Z   91.454183\n",
      "5   mean_X2X   75.264201\n",
      "6        s_B   59.910760\n",
      "7     A_Rvdw   57.675309\n",
      "8        s_A   51.729561\n",
      "9   mean_A2X   51.569746\n",
      "10     A_IEI   38.391765\n",
      "11     E_coh   33.972057\n",
      "12    X_IEII   24.989071\n",
      "13    A_ChiA   20.970549\n",
      "14      B_Hf   20.432377\n",
      "15   std_A2X   17.648197\n",
      "16    A_ChiP   16.845472\n",
      "17      B_MP   16.262954\n",
      "18   std_B2X   13.967425\n",
      "19      A_BP   13.449987\n",
      "-----------------------------------------------------\n",
      "The shape of X is  (80, 10)\n",
      "-----------------------------------------------------\n",
      "The R2 for  rbf , 3 , 1.0 , scale , 0.01  is  0.7682874357178879\n",
      "The RMSE for  rbf , 3 , 1.0 , scale , 0.01  is  0.07926842054754729\n",
      "-----------------------------------------------------\n",
      "The R2 is  0.7795223320397004\n",
      "The RMSE is  0.07945894014538078\n"
     ]
    }
   ],
   "source": [
    "X=feature_elimination(X,Y,10,ml_model,method='skb')\n",
    "ml_model=build_cv_model(X,Y,False,target)\n",
    "run_model(X,Y,ml_model_prime,target)"
   ]
  }
 ],
 "metadata": {
  "kernelspec": {
   "display_name": "Python 3 (ipykernel)",
   "language": "python",
   "name": "python3"
  },
  "language_info": {
   "codemirror_mode": {
    "name": "ipython",
    "version": 3
   },
   "file_extension": ".py",
   "mimetype": "text/x-python",
   "name": "python",
   "nbconvert_exporter": "python",
   "pygments_lexer": "ipython3",
   "version": "3.9.12"
  }
 },
 "nbformat": 4,
 "nbformat_minor": 5
}
