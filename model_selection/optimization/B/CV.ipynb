{
 "cells": [
  {
   "cell_type": "code",
   "execution_count": 1,
   "metadata": {
    "id": "U1Or_5CpWR5m"
   },
   "outputs": [],
   "source": [
    "import numpy as np\n",
    "import pandas as pd\n",
    "import matplotlib.pyplot as plt\n",
    "from math import sqrt\n",
    "import seaborn as sns \n",
    "import re\n",
    " \n",
    "import warnings # supress warnings\n",
    "warnings.filterwarnings('ignore')"
   ]
  },
  {
   "cell_type": "code",
   "execution_count": 2,
   "metadata": {
    "id": "wd0p9t1imwDC"
   },
   "outputs": [],
   "source": [
    "import sklearn\n",
    "\n",
    "from sklearn.preprocessing import MinMaxScaler, PolynomialFeatures, scale, StandardScaler\n",
    "\n",
    "from sklearn.model_selection import train_test_split, cross_val_score, KFold, GridSearchCV\n",
    "\n",
    "from sklearn.linear_model import LinearRegression, Ridge, Lasso, ElasticNet \n",
    "\n",
    "from sklearn.ensemble import RandomForestRegressor\n",
    "from sklearn.ensemble import GradientBoostingRegressor\n",
    "\n",
    "from sklearn.feature_selection import RFE, SelectKBest, f_regression\n",
    "from sklearn.inspection import permutation_importance\n",
    "\n",
    "from sklearn.gaussian_process import GaussianProcessRegressor\n",
    "from sklearn.gaussian_process.kernels import DotProduct, WhiteKernel, RBF, Matern, RationalQuadratic,Exponentiation\n",
    "from sklearn.gaussian_process.kernels import Kernel, Hyperparameter, ConstantKernel\n",
    "from sklearn.gaussian_process.kernels import GenericKernelMixin\n",
    "\n",
    "from sklearn import metrics\n",
    "from sklearn.metrics import mean_squared_error\n",
    "from sklearn.metrics import r2_score  \n",
    "\n",
    "from sklearn.pipeline import make_pipeline\n",
    "\n",
    "from sklearn.base import clone"
   ]
  },
  {
   "cell_type": "code",
   "execution_count": 3,
   "metadata": {},
   "outputs": [],
   "source": [
    "def run_models():\n",
    "    #rf = RandomForestRegressor(n_estimators= 100, random_state= 10)\n",
    "    rf = RandomForestRegressor(n_estimators=10, criterion='squared_error', \n",
    "                               min_samples_split=2, min_samples_leaf=1, max_features='sqrt')\n",
    "    gb = GradientBoostingRegressor(loss='quantile', alpha=0.5,\n",
    "                                n_estimators=100, max_depth=10,\n",
    "                                learning_rate=0.25, min_samples_leaf=9,\n",
    "                                min_samples_split=2)\n",
    "    rr = Ridge(alpha=0.01)\n",
    "    lasso = Lasso(alpha=0.001)\n",
    "    gpr1 = GaussianProcessRegressor(optimizer='fmin_l_bfgs_b',random_state=50,\n",
    "                                    kernel=DotProduct() + WhiteKernel(),\n",
    "                                    alpha=0.1, n_restarts_optimizer=1)\n",
    "    gpr2 = GaussianProcessRegressor(optimizer='fmin_l_bfgs_b',random_state=50,\n",
    "                                    kernel=1.0 + 1.0 * Exponentiation(RBF(length_scale=1.0), exponent=2) + \n",
    "                                    WhiteKernel(noise_level=0.1), alpha=0.1E-4, n_restarts_optimizer=1)\n",
    "    gpr3 = GaussianProcessRegressor(optimizer='fmin_l_bfgs_b',random_state=50,\n",
    "                                    kernel=1.0 + 1.0 * Exponentiation(RationalQuadratic(length_scale=1.0, \n",
    "                                                                                        alpha=0.01), exponent=2),\n",
    "                                    alpha=0.001, n_restarts_optimizer=1)\n",
    "    gpr4 = GaussianProcessRegressor(optimizer='fmin_l_bfgs_b',random_state=50,\n",
    "                                    kernel=1.0 + 1.0 * Exponentiation(Matern(length_scale=1.0, nu=1.5), exponent=2),\n",
    "                                    alpha=0.01, n_restarts_optimizer=1)\n",
    "    models = [rf,gb,rr,lasso,gpr1,gpr2,gpr3,gpr4]\n",
    "    models_names = [\"RF\",\"GB\",\"RR\",\"LASSO\",\"gpr1\",\"gpr2\",\"gpr3\",\"gpr4\"]\n",
    "    r2scores=[]\n",
    "    rmse=[]\n",
    "    count=0\n",
    "    for model in models :\n",
    "        predicted_y = []\n",
    "        expected_y = []\n",
    "        kf = KFold(n_splits= 10) \n",
    "        # partition data\n",
    "        for train_index, test_index in kf.split(X, Y):\n",
    "            # specific \".loc\" syntax for working with dataframes\n",
    "            x_train, x_test = X.loc[train_index], X.loc[test_index]\n",
    "            y_train, y_test = Y[train_index], Y[test_index]\n",
    "\n",
    "            # create and fit classifier\n",
    "            model.fit(x_train, y_train)\n",
    "\n",
    "            # store result from classification\n",
    "            predicted_y.extend(model.predict(x_test))\n",
    "\n",
    "            # store expected result for this specific fold\n",
    "            expected_y.extend(y_test)\n",
    "        \n",
    "        r2 = metrics.r2_score(expected_y, predicted_y)\n",
    "        r2scores.append(r2)\n",
    "        \n",
    "        err=np.sqrt(metrics.mean_squared_error(expected_y, predicted_y))\n",
    "        rmse.append(err)\n",
    "        \n",
    "        print(models_names[count])\n",
    "        print(\"R2: \",r2.__str__())\n",
    "        print(\"RMSE: \",err)\n",
    "        print(\"---------------------------------------\")\n",
    "        count+=1\n",
    "    \n",
    "    plt.rcdefaults()\n",
    "    fig, ax = plt.subplots()\n",
    "\n",
    "    x_pos = np.arange(len(models_names))\n",
    "    ax.bar(x_pos, r2scores, align='center')\n",
    "    ax.set_xticks(x_pos)\n",
    "    ax.set_xticklabels(models_names)\n",
    "    ax.set_ylabel('R2 Score')\n",
    "    #plt.savefig('imp.eps', format='eps')\n",
    "    #plt.show()\n",
    "    print(r2scores)"
   ]
  },
  {
   "cell_type": "code",
   "execution_count": 4,
   "metadata": {
    "id": "hjdsOVHoYDJB"
   },
   "outputs": [
    {
     "name": "stdout",
     "output_type": "stream",
     "text": [
      "['Name' 'Coef_a' 'Coef_b' 'Coef_c' 'Coef_d' 'A_site' 'B_site' 'X_site'\n",
      " 'Spacegroup' 'Ehull' 'BulkModulus' 'Energy' 'ZPE' 's_A' 's_B' 's_X'\n",
      " 'density' 'mean_A2B' 'mean_A2X' 'mean_B2X' 'mean_X2X' 'std_A2B' 'std_A2X'\n",
      " 'std_B2X' 'std_X2X' 'E_coh' 'TF' 'OF' 'A_Z' 'B_Z' 'X_Z' 'A_M' 'B_M' 'X_M'\n",
      " 'A_G' 'B_G' 'X_G' 'A_IEI' 'B_IEI' 'X_IEI' 'A_IEII' 'B_IEII' 'X_IEII'\n",
      " 'A_EA' 'B_EA' 'X_EA' 'A_ChiP' 'B_ChiP' 'X_ChiP' 'A_ChiA' 'X_ChiA'\n",
      " 'A_Rvdw' 'B_Rvdw' 'X_Rvdw' 'A_Rc' 'B_Rc' 'X_Rc' 'A_Ra' 'B_Ra' 'X_Ra'\n",
      " 'A_MP' 'B_MP' 'X_MP' 'A_BP' 'B_BP' 'X_BP' 'A_Rho' 'B_Rho' 'A_MV' 'B_MV'\n",
      " 'X_MV' 'A_Hf' 'B_Hf' 'X_Hf' 'A_Hv' 'B_Hv' 'X_Hv' 'A_Kappa' 'B_Kappa'\n",
      " 'X_Kappa' 'A_CvM' 'B_CvM' 'X_CvM' 'A_B' 'B_B' 'X_B' 'A_MendeleevNo'\n",
      " 'B_MendeleevNo' 'X_MendeleevNo']\n"
     ]
    }
   ],
   "source": [
    "data = pd.read_csv('Combined_all_3rd_fit.csv', encoding='cp1252')\n",
    "print(data.columns.values)"
   ]
  },
  {
   "cell_type": "code",
   "execution_count": 5,
   "metadata": {
    "id": "5BRaOxKmYmEg"
   },
   "outputs": [],
   "source": [
    "data.drop(['Name', 'A_site', 'B_site', 'X_site', 'Spacegroup','BulkModulus',\n",
    "           'Ehull','Energy','ZPE','Coef_a', 'Coef_c', 'Coef_d'], axis=1, inplace = True)\n",
    "target = 'Coef_b'"
   ]
  },
  {
   "cell_type": "code",
   "execution_count": 6,
   "metadata": {},
   "outputs": [],
   "source": [
    "data.fillna(0, inplace= True)\n",
    "d=data.copy()\n",
    "columns = list(d.columns.values)"
   ]
  },
  {
   "cell_type": "markdown",
   "metadata": {},
   "source": [
    "# Standard Scaling"
   ]
  },
  {
   "cell_type": "code",
   "execution_count": 7,
   "metadata": {},
   "outputs": [],
   "source": [
    "data_std=d.copy()\n",
    "scalerSTD=StandardScaler()\n",
    "scalerSTD.fit(np.array(data[target]).reshape(-1, 1))\n",
    "data_zpe_std= scalerSTD.transform(np.array(data[target]).reshape(-1, 1))\n",
    "data_std[columns]= StandardScaler().fit_transform(d[columns])\n",
    "Y = data_std[target] \n",
    "X = data_std.drop([target], axis=1)"
   ]
  },
  {
   "cell_type": "code",
   "execution_count": 8,
   "metadata": {
    "id": "7-nT8kNsWJRO"
   },
   "outputs": [
    {
     "name": "stdout",
     "output_type": "stream",
     "text": [
      "(80, 51)\n"
     ]
    }
   ],
   "source": [
    "correlated_features = [\"A_Rc\",\"A_Ra\",\"A_M\",\"A_MP\",\"A_MV\",\"A_MendeleevNo\",\"A_Hf\",\"A_Hv\",\"B_Rc\",\n",
    "                       \"B_Rvdw\",\"B_M\",\"B_BP\",\"B_MendeleevNo\",\"B_Hv\",\"X_Rc\",\"X_Rvdw\",\"X_M\",\"X_BP\",\"X_MP\",\n",
    "                       \"X_MendeleevNo\",\"X_Hf\",\"X_Hv\",\"X_G\",\"X_B\",\"X_CvM\",\"X_ChiP\"]\n",
    "data_std.drop(labels=correlated_features, axis=1, inplace=True)\n",
    "print(data_std.shape)\n",
    "Y = data_std[target] \n",
    "X = data_std.drop([target], axis=1)"
   ]
  },
  {
   "cell_type": "code",
   "execution_count": 9,
   "metadata": {},
   "outputs": [],
   "source": [
    "#data_std.to_csv(\"scaled_non_correlated.csv\")"
   ]
  },
  {
   "cell_type": "markdown",
   "metadata": {
    "id": "ZaJDp0jdzwnZ"
   },
   "source": [
    "### Using CV technique"
   ]
  },
  {
   "cell_type": "code",
   "execution_count": 10,
   "metadata": {},
   "outputs": [
    {
     "name": "stdout",
     "output_type": "stream",
     "text": [
      "RF\n",
      "R2:  0.8969923711609126\n",
      "RMSE:  0.3209480157892979\n",
      "---------------------------------------\n",
      "GB\n",
      "R2:  0.8503179513964589\n",
      "RMSE:  0.3868876433844083\n",
      "---------------------------------------\n",
      "RR\n",
      "R2:  -1.443280683559189\n",
      "RMSE:  1.5630997036527097\n",
      "---------------------------------------\n",
      "LASSO\n",
      "R2:  0.492679984953869\n",
      "RMSE:  0.7122640065636694\n",
      "---------------------------------------\n",
      "gpr1\n",
      "R2:  0.3850465005250726\n",
      "RMSE:  0.7841897088555341\n",
      "---------------------------------------\n",
      "gpr2\n",
      "R2:  0.9235144870644686\n",
      "RMSE:  0.2765601434327286\n",
      "---------------------------------------\n",
      "gpr3\n",
      "R2:  0.9261440833122672\n",
      "RMSE:  0.2717644507431625\n",
      "---------------------------------------\n",
      "gpr4\n",
      "R2:  0.9156622348255488\n",
      "RMSE:  0.29040965062210183\n",
      "---------------------------------------\n",
      "[0.8969923711609126, 0.8503179513964589, -1.443280683559189, 0.492679984953869, 0.3850465005250726, 0.9235144870644686, 0.9261440833122672, 0.9156622348255488]\n"
     ]
    },
    {
     "data": {
      "image/png": "[encoded data removed]",
      "text/plain": [
       "<Figure size 640x480 with 1 Axes>"
      ]
     },
     "metadata": {},
     "output_type": "display_data"
    }
   ],
   "source": [
    "run_models()"
   ]
  },
  {
   "cell_type": "markdown",
   "metadata": {
    "id": "_x7bQR-jz4WE"
   },
   "source": [
    "## Feature selection\n"
   ]
  },
  {
   "cell_type": "code",
   "execution_count": 11,
   "metadata": {
    "colab": {
     "base_uri": "https://localhost:8080/"
    },
    "id": "RpTITR9vz7Th",
    "outputId": "b1c134f4-85a3-49a7-fa3a-34f5d4896d01"
   },
   "outputs": [
    {
     "name": "stdout",
     "output_type": "stream",
     "text": [
      "     Feature       Score\n",
      "4   mean_A2B  126.044006\n",
      "28      X_EA  103.886132\n",
      "35      X_Ra   93.260694\n",
      "2        s_X   92.541192\n",
      "17       X_Z   91.454183\n",
      "7   mean_X2X   75.264201\n",
      "1        s_B   59.910760\n",
      "33    A_Rvdw   57.675309\n",
      "0        s_A   51.729561\n",
      "5   mean_A2X   51.569746\n",
      "20     A_IEI   38.391765\n",
      "12     E_coh   33.972057\n",
      "25    X_IEII   24.989071\n",
      "31    A_ChiA   20.970549\n",
      "42      B_Hf   20.432377\n",
      "9    std_A2X   17.648197\n",
      "29    A_ChiP   16.845472\n",
      "36      B_MP   16.262954\n",
      "10   std_B2X   13.967425\n",
      "37      A_BP   13.449987\n",
      "34      B_Ra   13.090297\n",
      "26      A_EA   12.418282\n",
      "14        OF   12.249707\n",
      "15       A_Z   12.150767\n",
      "45   X_Kappa   10.287385\n",
      "16       B_Z    9.949890\n",
      "46     A_CvM    8.675611\n",
      "43   A_Kappa    8.297802\n",
      "44   B_Kappa    6.966805\n",
      "40      B_MV    6.707130\n"
     ]
    }
   ],
   "source": [
    "#apply SelectKBest class to extract top 10 best features\n",
    "bestfeatures = SelectKBest(score_func=f_regression, k=10)\n",
    "fit = bestfeatures.fit(X,Y)\n",
    "dfscores = pd.DataFrame(fit.scores_)\n",
    "dfcolumns = pd.DataFrame(X.columns)\n",
    "#concat two dataframes for better visualization \n",
    "featureScores = pd.concat([dfcolumns,dfscores],axis=1)\n",
    "featureScores.columns = ['Feature','Score']  #naming the dataframe columns\n",
    "print(featureScores.nlargest(30,'Score'))  #print 10 best features"
   ]
  },
  {
   "cell_type": "code",
   "execution_count": 12,
   "metadata": {},
   "outputs": [
    {
     "data": {
      "text/plain": [
       "array(['mean_A2B', 'X_EA', 'X_Ra', 's_X', 'X_Z', 'mean_X2X', 's_B',\n",
       "       'A_Rvdw', 's_A', 'mean_A2X', 'A_IEI', 'E_coh', 'X_IEII', 'A_ChiA',\n",
       "       'B_Hf', 'std_A2X', 'A_ChiP', 'B_MP', 'std_B2X', 'A_BP', 'B_Ra',\n",
       "       'A_EA', 'OF', 'A_Z', 'X_Kappa', 'B_Z', 'A_CvM', 'A_Kappa',\n",
       "       'B_Kappa', 'B_MV', 'std_A2B', 'X_MV', 'A_B', 'X_ChiA', 'A_G',\n",
       "       'B_CvM', 'X_IEI', 'B_Rho', 'std_X2X', 'B_EA'], dtype=object)"
      ]
     },
     "execution_count": 12,
     "metadata": {},
     "output_type": "execute_result"
    }
   ],
   "source": [
    "featureScores.nlargest(40,'Score')['Feature'].values"
   ]
  },
  {
   "cell_type": "code",
   "execution_count": 13,
   "metadata": {},
   "outputs": [],
   "source": [
    "X=X[featureScores.nlargest(40,'Score')['Feature'].values]"
   ]
  },
  {
   "cell_type": "code",
   "execution_count": 14,
   "metadata": {},
   "outputs": [
    {
     "name": "stdout",
     "output_type": "stream",
     "text": [
      "RF\n",
      "R2:  0.8538563763889978\n",
      "RMSE:  0.3822873573779313\n",
      "---------------------------------------\n",
      "GB\n",
      "R2:  0.8593393839287407\n",
      "RMSE:  0.37504748508856756\n",
      "---------------------------------------\n",
      "RR\n",
      "R2:  0.1152455792471001\n",
      "RMSE:  0.9406138531580851\n",
      "---------------------------------------\n",
      "LASSO\n",
      "R2:  0.6692161696442388\n",
      "RMSE:  0.5751380967696029\n",
      "---------------------------------------\n",
      "gpr1\n",
      "R2:  0.7422456552367575\n",
      "RMSE:  0.5076951297415039\n",
      "---------------------------------------\n",
      "gpr2\n",
      "R2:  0.9244976578096629\n",
      "RMSE:  0.27477689529932675\n",
      "---------------------------------------\n",
      "gpr3\n",
      "R2:  0.9256142786290286\n",
      "RMSE:  0.27273745868686866\n",
      "---------------------------------------\n",
      "gpr4\n",
      "R2:  0.9210887067243672\n",
      "RMSE:  0.2809115399474234\n",
      "---------------------------------------\n",
      "[0.8538563763889978, 0.8593393839287407, 0.1152455792471001, 0.6692161696442388, 0.7422456552367575, 0.9244976578096629, 0.9256142786290286, 0.9210887067243672]\n"
     ]
    },
    {
     "data": {
      "image/png": "[encoded data removed]",
      "text/plain": [
       "<Figure size 640x480 with 1 Axes>"
      ]
     },
     "metadata": {},
     "output_type": "display_data"
    }
   ],
   "source": [
    "run_models()"
   ]
  },
  {
   "cell_type": "code",
   "execution_count": 15,
   "metadata": {},
   "outputs": [
    {
     "data": {
      "text/plain": [
       "array(['mean_A2B', 'X_EA', 'X_Ra', 's_X', 'X_Z', 'mean_X2X', 's_B',\n",
       "       'A_Rvdw', 's_A', 'mean_A2X', 'A_IEI', 'E_coh', 'X_IEII', 'A_ChiA',\n",
       "       'B_Hf', 'std_A2X', 'A_ChiP', 'B_MP', 'std_B2X', 'A_BP', 'B_Ra',\n",
       "       'A_EA', 'OF', 'A_Z', 'X_Kappa', 'B_Z', 'A_CvM', 'A_Kappa',\n",
       "       'B_Kappa', 'B_MV'], dtype=object)"
      ]
     },
     "execution_count": 15,
     "metadata": {},
     "output_type": "execute_result"
    }
   ],
   "source": [
    "featureScores.nlargest(30,'Score')['Feature'].values"
   ]
  },
  {
   "cell_type": "code",
   "execution_count": 16,
   "metadata": {},
   "outputs": [],
   "source": [
    "X=X[featureScores.nlargest(30,'Score')['Feature'].values]\n",
    "t30_columns = ['mean_A2B', 's_X', 'X_Ra', 'X_EA', 'X_Z', 'mean_X2X', 'A_Rvdw',\n",
    "       's_A', 'mean_A2X', 's_B', 'A_IEI', 'E_coh', 'A_ChiA', 'std_A2X',\n",
    "       'X_IEII', 'B_Hf', 'A_ChiP', 'B_MP', 'A_BP', 'std_B2X', 'A_Z',\n",
    "       'X_Kappa', 'A_EA', 'B_Ra', 'OF', 'A_CvM', 'B_Z', 'A_Kappa',\n",
    "       'B_Kappa', 'X_ChiA']\n",
    "data_save=data_std[t30_columns]\n",
    "#data_save.to_csv(\"scaled_top_30.csv\")"
   ]
  },
  {
   "cell_type": "code",
   "execution_count": 17,
   "metadata": {},
   "outputs": [
    {
     "name": "stdout",
     "output_type": "stream",
     "text": [
      "RF\n",
      "R2:  0.8719408703715856\n",
      "RMSE:  0.35785350302660773\n",
      "---------------------------------------\n",
      "GB\n",
      "R2:  0.8599609344945267\n",
      "RMSE:  0.3742179385137399\n",
      "---------------------------------------\n",
      "RR\n",
      "R2:  0.6815009385955753\n",
      "RMSE:  0.5643572108199069\n",
      "---------------------------------------\n",
      "LASSO\n",
      "R2:  0.7150973759344612\n",
      "RMSE:  0.5337627038914753\n",
      "---------------------------------------\n",
      "gpr1\n",
      "R2:  0.6965274448031489\n",
      "RMSE:  0.5508834315868022\n",
      "---------------------------------------\n",
      "gpr2\n",
      "R2:  0.9270642231342464\n",
      "RMSE:  0.2700662453283519\n",
      "---------------------------------------\n",
      "gpr3\n",
      "R2:  0.9285326152821806\n",
      "RMSE:  0.2673338450660884\n",
      "---------------------------------------\n",
      "gpr4\n",
      "R2:  0.9251483956291187\n",
      "RMSE:  0.2735902124910198\n",
      "---------------------------------------\n",
      "[0.8719408703715856, 0.8599609344945267, 0.6815009385955753, 0.7150973759344612, 0.6965274448031489, 0.9270642231342464, 0.9285326152821806, 0.9251483956291187]\n"
     ]
    },
    {
     "data": {
      "image/png": "[encoded data removed]",
      "text/plain": [
       "<Figure size 640x480 with 1 Axes>"
      ]
     },
     "metadata": {},
     "output_type": "display_data"
    }
   ],
   "source": [
    "run_models()"
   ]
  },
  {
   "cell_type": "code",
   "execution_count": 18,
   "metadata": {},
   "outputs": [
    {
     "data": {
      "text/plain": [
       "array(['mean_A2B', 'X_EA', 'X_Ra', 's_X', 'X_Z', 'mean_X2X', 's_B',\n",
       "       'A_Rvdw', 's_A', 'mean_A2X', 'A_IEI', 'E_coh', 'X_IEII', 'A_ChiA',\n",
       "       'B_Hf', 'std_A2X', 'A_ChiP', 'B_MP', 'std_B2X', 'A_BP'],\n",
       "      dtype=object)"
      ]
     },
     "execution_count": 18,
     "metadata": {},
     "output_type": "execute_result"
    }
   ],
   "source": [
    "featureScores.nlargest(20,'Score')['Feature'].values"
   ]
  },
  {
   "cell_type": "code",
   "execution_count": 19,
   "metadata": {},
   "outputs": [],
   "source": [
    "X=X[featureScores.nlargest(20,'Score')['Feature'].values]"
   ]
  },
  {
   "cell_type": "code",
   "execution_count": 20,
   "metadata": {},
   "outputs": [
    {
     "name": "stdout",
     "output_type": "stream",
     "text": [
      "RF\n",
      "R2:  0.8799295925787292\n",
      "RMSE:  0.3465117709707289\n",
      "---------------------------------------\n",
      "GB\n",
      "R2:  0.8346685588808415\n",
      "RMSE:  0.40660969137387576\n",
      "---------------------------------------\n",
      "RR\n",
      "R2:  0.8052568065795193\n",
      "RMSE:  0.4412971713261719\n",
      "---------------------------------------\n",
      "LASSO\n",
      "R2:  0.8192526732952845\n",
      "RMSE:  0.4251438894124147\n",
      "---------------------------------------\n",
      "gpr1\n",
      "R2:  0.8359875763498987\n",
      "RMSE:  0.40498447334447424\n",
      "---------------------------------------\n",
      "gpr2\n",
      "R2:  0.9198109116171508\n",
      "RMSE:  0.2831767793849792\n",
      "---------------------------------------\n",
      "gpr3\n",
      "R2:  0.9243886506036063\n",
      "RMSE:  0.2749751796006208\n",
      "---------------------------------------\n",
      "gpr4\n",
      "R2:  0.9299481516990824\n",
      "RMSE:  0.264673097047882\n",
      "---------------------------------------\n",
      "[0.8799295925787292, 0.8346685588808415, 0.8052568065795193, 0.8192526732952845, 0.8359875763498987, 0.9198109116171508, 0.9243886506036063, 0.9299481516990824]\n"
     ]
    },
    {
     "data": {
      "image/png": "[encoded data removed]",
      "text/plain": [
       "<Figure size 640x480 with 1 Axes>"
      ]
     },
     "metadata": {},
     "output_type": "display_data"
    }
   ],
   "source": [
    "run_models()"
   ]
  },
  {
   "cell_type": "code",
   "execution_count": 21,
   "metadata": {},
   "outputs": [
    {
     "data": {
      "text/plain": [
       "array(['mean_A2B', 'X_EA', 'X_Ra', 's_X', 'X_Z', 'mean_X2X', 's_B',\n",
       "       'A_Rvdw', 's_A', 'mean_A2X'], dtype=object)"
      ]
     },
     "execution_count": 21,
     "metadata": {},
     "output_type": "execute_result"
    }
   ],
   "source": [
    "featureScores.nlargest(10,'Score')['Feature'].values"
   ]
  },
  {
   "cell_type": "code",
   "execution_count": 22,
   "metadata": {},
   "outputs": [],
   "source": [
    "X=X[featureScores.nlargest(10,'Score')['Feature'].values]"
   ]
  },
  {
   "cell_type": "code",
   "execution_count": 23,
   "metadata": {},
   "outputs": [
    {
     "name": "stdout",
     "output_type": "stream",
     "text": [
      "RF\n",
      "R2:  0.9036882281848144\n",
      "RMSE:  0.31034137947619156\n",
      "---------------------------------------\n",
      "GB\n",
      "R2:  0.8463357306709246\n",
      "RMSE:  0.39200034353183333\n",
      "---------------------------------------\n",
      "RR\n",
      "R2:  0.8435191630076839\n",
      "RMSE:  0.39557658802350276\n",
      "---------------------------------------\n",
      "LASSO\n",
      "R2:  0.8447463182623667\n",
      "RMSE:  0.39402243811442167\n",
      "---------------------------------------\n",
      "gpr1\n",
      "R2:  0.8569572882628025\n",
      "RMSE:  0.37820987789479726\n",
      "---------------------------------------\n",
      "gpr2\n",
      "R2:  0.9092576737500354\n",
      "RMSE:  0.30123466973435276\n",
      "---------------------------------------\n",
      "gpr3\n",
      "R2:  0.9022128482223557\n",
      "RMSE:  0.3127093727051435\n",
      "---------------------------------------\n",
      "gpr4\n",
      "R2:  0.8952401272137609\n",
      "RMSE:  0.32366629850239137\n",
      "---------------------------------------\n",
      "[0.9036882281848144, 0.8463357306709246, 0.8435191630076839, 0.8447463182623667, 0.8569572882628025, 0.9092576737500354, 0.9022128482223557, 0.8952401272137609]\n"
     ]
    },
    {
     "data": {
      "image/png": "[encoded data removed]",
      "text/plain": [
       "<Figure size 640x480 with 1 Axes>"
      ]
     },
     "metadata": {},
     "output_type": "display_data"
    }
   ],
   "source": [
    "run_models()"
   ]
  },
  {
   "cell_type": "markdown",
   "metadata": {},
   "source": [
    "# Min-Max scaling"
   ]
  },
  {
   "cell_type": "code",
   "execution_count": 24,
   "metadata": {},
   "outputs": [],
   "source": [
    "data_std=d.copy()\n",
    "scalerMM=MinMaxScaler()\n",
    "scalerMM.fit(np.array(data[target]).reshape(-1, 1))\n",
    "data_zpe_mm= scalerMM.transform(np.array(data[target]).reshape(-1, 1))\n",
    "data_std[columns]= MinMaxScaler().fit_transform(d[columns])\n",
    "Y = data_std[target] \n",
    "X = data_std.drop([target], axis=1)"
   ]
  },
  {
   "cell_type": "code",
   "execution_count": 25,
   "metadata": {},
   "outputs": [
    {
     "name": "stdout",
     "output_type": "stream",
     "text": [
      "(80, 51)\n"
     ]
    }
   ],
   "source": [
    "correlated_features = [\"A_Rc\",\"A_Ra\",\"A_M\",\"A_MP\",\"A_MV\",\"A_MendeleevNo\",\"A_Hf\",\"A_Hv\",\"B_Rc\",\n",
    "                       \"B_Rvdw\",\"B_M\",\"B_BP\",\"B_MendeleevNo\",\"B_Hv\",\"X_Rc\",\"X_Rvdw\",\"X_M\",\"X_BP\",\"X_MP\",\n",
    "                       \"X_MendeleevNo\",\"X_Hf\",\"X_Hv\",\"X_G\",\"X_B\",\"X_CvM\",\"X_ChiP\"]\n",
    "data_std.drop(labels=correlated_features, axis=1, inplace=True)\n",
    "print(data_std.shape)\n",
    "Y = data_std[target] \n",
    "X = data_std.drop([target], axis=1)\n",
    "#data_std.to_csv('Coef_a_scaled_non_corr_all.csv',index=False)"
   ]
  },
  {
   "cell_type": "markdown",
   "metadata": {
    "id": "ZaJDp0jdzwnZ"
   },
   "source": [
    "### Using CV technique"
   ]
  },
  {
   "cell_type": "code",
   "execution_count": 26,
   "metadata": {},
   "outputs": [
    {
     "name": "stdout",
     "output_type": "stream",
     "text": [
      "RF\n",
      "R2:  0.8731378916837786\n",
      "RMSE:  0.09512222873816505\n",
      "---------------------------------------\n",
      "GB\n",
      "R2:  0.835638859523656\n",
      "RMSE:  0.10827186760651132\n",
      "---------------------------------------\n",
      "RR\n",
      "R2:  0.6706632552368235\n",
      "RMSE:  0.1532625860587924\n",
      "---------------------------------------\n",
      "LASSO\n",
      "R2:  0.8615632459608664\n",
      "RMSE:  0.09936690406808608\n",
      "---------------------------------------\n",
      "gpr1\n",
      "R2:  0.8333048812987818\n",
      "RMSE:  0.10903790444241442\n",
      "---------------------------------------\n",
      "gpr2\n",
      "R2:  0.9270169600603049\n",
      "RMSE:  0.07214845400964763\n",
      "---------------------------------------\n",
      "gpr3\n",
      "R2:  0.9216986268166927\n",
      "RMSE:  0.07473099148474933\n",
      "---------------------------------------\n",
      "gpr4\n",
      "R2:  0.8922983069046606\n",
      "RMSE:  0.08764503530732067\n",
      "---------------------------------------\n",
      "[0.8731378916837786, 0.835638859523656, 0.6706632552368235, 0.8615632459608664, 0.8333048812987818, 0.9270169600603049, 0.9216986268166927, 0.8922983069046606]\n"
     ]
    },
    {
     "data": {
      "image/png": "[encoded data removed]",
      "text/plain": [
       "<Figure size 640x480 with 1 Axes>"
      ]
     },
     "metadata": {},
     "output_type": "display_data"
    }
   ],
   "source": [
    "run_models()"
   ]
  },
  {
   "cell_type": "markdown",
   "metadata": {
    "id": "_x7bQR-jz4WE"
   },
   "source": [
    "## Feature selection\n"
   ]
  },
  {
   "cell_type": "code",
   "execution_count": 27,
   "metadata": {
    "colab": {
     "base_uri": "https://localhost:8080/"
    },
    "id": "RpTITR9vz7Th",
    "outputId": "b1c134f4-85a3-49a7-fa3a-34f5d4896d01"
   },
   "outputs": [
    {
     "name": "stdout",
     "output_type": "stream",
     "text": [
      "     Feature       Score\n",
      "4   mean_A2B  126.044006\n",
      "28      X_EA  103.886132\n",
      "35      X_Ra   93.260694\n",
      "2        s_X   92.541192\n",
      "17       X_Z   91.454183\n",
      "7   mean_X2X   75.264201\n",
      "1        s_B   59.910760\n",
      "33    A_Rvdw   57.675309\n",
      "0        s_A   51.729561\n",
      "5   mean_A2X   51.569746\n",
      "20     A_IEI   38.391765\n",
      "12     E_coh   33.972057\n",
      "25    X_IEII   24.989071\n",
      "31    A_ChiA   20.970549\n",
      "42      B_Hf   20.432377\n",
      "9    std_A2X   17.648197\n",
      "29    A_ChiP   16.845472\n",
      "36      B_MP   16.262954\n",
      "10   std_B2X   13.967425\n",
      "37      A_BP   13.449987\n",
      "34      B_Ra   13.090297\n",
      "26      A_EA   12.418282\n",
      "14        OF   12.249707\n",
      "15       A_Z   12.150767\n",
      "45   X_Kappa   10.287385\n",
      "16       B_Z    9.949890\n",
      "46     A_CvM    8.675611\n",
      "43   A_Kappa    8.297802\n",
      "44   B_Kappa    6.966805\n",
      "40      B_MV    6.707130\n"
     ]
    }
   ],
   "source": [
    "#apply SelectKBest class to extract top 10 best features\n",
    "bestfeatures = SelectKBest(score_func=f_regression, k=10)\n",
    "fit = bestfeatures.fit(X,Y)\n",
    "dfscores = pd.DataFrame(fit.scores_)\n",
    "dfcolumns = pd.DataFrame(X.columns)\n",
    "#concat two dataframes for better visualization \n",
    "featureScores = pd.concat([dfcolumns,dfscores],axis=1)\n",
    "featureScores.columns = ['Feature','Score']  #naming the dataframe columns\n",
    "print(featureScores.nlargest(30,'Score'))  #print 10 best features"
   ]
  },
  {
   "cell_type": "code",
   "execution_count": 28,
   "metadata": {},
   "outputs": [
    {
     "data": {
      "text/plain": [
       "array(['mean_A2B', 'X_EA', 'X_Ra', 's_X', 'X_Z', 'mean_X2X', 's_B',\n",
       "       'A_Rvdw', 's_A', 'mean_A2X', 'A_IEI', 'E_coh', 'X_IEII', 'A_ChiA',\n",
       "       'B_Hf', 'std_A2X', 'A_ChiP', 'B_MP', 'std_B2X', 'A_BP', 'B_Ra',\n",
       "       'A_EA', 'OF', 'A_Z', 'X_Kappa', 'B_Z', 'A_CvM', 'A_Kappa',\n",
       "       'B_Kappa', 'B_MV', 'std_A2B', 'X_MV', 'A_B', 'X_ChiA', 'A_G',\n",
       "       'B_CvM', 'X_IEI', 'B_Rho', 'std_X2X', 'B_EA'], dtype=object)"
      ]
     },
     "execution_count": 28,
     "metadata": {},
     "output_type": "execute_result"
    }
   ],
   "source": [
    "featureScores.nlargest(40,'Score')['Feature'].values"
   ]
  },
  {
   "cell_type": "code",
   "execution_count": 29,
   "metadata": {},
   "outputs": [],
   "source": [
    "X=X[featureScores.nlargest(40,'Score')['Feature'].values]"
   ]
  },
  {
   "cell_type": "code",
   "execution_count": 30,
   "metadata": {},
   "outputs": [
    {
     "name": "stdout",
     "output_type": "stream",
     "text": [
      "RF\n",
      "R2:  0.9021961322485904\n",
      "RMSE:  0.08352068929646449\n",
      "---------------------------------------\n",
      "GB\n",
      "R2:  0.8506963421552096\n",
      "RMSE:  0.10319324725865468\n",
      "---------------------------------------\n",
      "RR\n",
      "R2:  0.7046704755898943\n",
      "RMSE:  0.1451341079904167\n",
      "---------------------------------------\n",
      "LASSO\n",
      "R2:  0.8704201425065886\n",
      "RMSE:  0.09613572459807349\n",
      "---------------------------------------\n",
      "gpr1\n",
      "R2:  0.860590010298429\n",
      "RMSE:  0.09971557607545238\n",
      "---------------------------------------\n",
      "gpr2\n",
      "R2:  0.9276135735724407\n",
      "RMSE:  0.07185295334736395\n",
      "---------------------------------------\n",
      "gpr3\n",
      "R2:  0.9240971229594589\n",
      "RMSE:  0.07357752482975168\n",
      "---------------------------------------\n",
      "gpr4\n",
      "R2:  0.8940311293760046\n",
      "RMSE:  0.08693711177183079\n",
      "---------------------------------------\n",
      "[0.9021961322485904, 0.8506963421552096, 0.7046704755898943, 0.8704201425065886, 0.860590010298429, 0.9276135735724407, 0.9240971229594589, 0.8940311293760046]\n"
     ]
    },
    {
     "data": {
      "image/png": "[encoded data removed]",
      "text/plain": [
       "<Figure size 640x480 with 1 Axes>"
      ]
     },
     "metadata": {},
     "output_type": "display_data"
    }
   ],
   "source": [
    "run_models()"
   ]
  },
  {
   "cell_type": "code",
   "execution_count": 31,
   "metadata": {},
   "outputs": [
    {
     "data": {
      "text/plain": [
       "array(['mean_A2B', 'X_EA', 'X_Ra', 's_X', 'X_Z', 'mean_X2X', 's_B',\n",
       "       'A_Rvdw', 's_A', 'mean_A2X', 'A_IEI', 'E_coh', 'X_IEII', 'A_ChiA',\n",
       "       'B_Hf', 'std_A2X', 'A_ChiP', 'B_MP', 'std_B2X', 'A_BP', 'B_Ra',\n",
       "       'A_EA', 'OF', 'A_Z', 'X_Kappa', 'B_Z', 'A_CvM', 'A_Kappa',\n",
       "       'B_Kappa', 'B_MV'], dtype=object)"
      ]
     },
     "execution_count": 31,
     "metadata": {},
     "output_type": "execute_result"
    }
   ],
   "source": [
    "featureScores.nlargest(30,'Score')['Feature'].values"
   ]
  },
  {
   "cell_type": "code",
   "execution_count": 32,
   "metadata": {},
   "outputs": [],
   "source": [
    "X=X[featureScores.nlargest(30,'Score')['Feature'].values]"
   ]
  },
  {
   "cell_type": "code",
   "execution_count": 33,
   "metadata": {},
   "outputs": [
    {
     "name": "stdout",
     "output_type": "stream",
     "text": [
      "RF\n",
      "R2:  0.8981513454926746\n",
      "RMSE:  0.08523023836767499\n",
      "---------------------------------------\n",
      "GB\n",
      "R2:  0.8264708173350439\n",
      "RMSE:  0.11125058815087654\n",
      "---------------------------------------\n",
      "RR\n",
      "R2:  0.6939132334966305\n",
      "RMSE:  0.1477536886524527\n",
      "---------------------------------------\n",
      "LASSO\n",
      "R2:  0.8764892836297367\n",
      "RMSE:  0.0938573688746374\n",
      "---------------------------------------\n",
      "gpr1\n",
      "R2:  0.8290572883461171\n",
      "RMSE:  0.1104183744978367\n",
      "---------------------------------------\n",
      "gpr2\n",
      "R2:  0.9249401641465719\n",
      "RMSE:  0.07316777696687458\n",
      "---------------------------------------\n",
      "gpr3\n",
      "R2:  0.9221115111720196\n",
      "RMSE:  0.07453370222503766\n",
      "---------------------------------------\n",
      "gpr4\n",
      "R2:  0.8960406961313547\n",
      "RMSE:  0.08610883953397402\n",
      "---------------------------------------\n",
      "[0.8981513454926746, 0.8264708173350439, 0.6939132334966305, 0.8764892836297367, 0.8290572883461171, 0.9249401641465719, 0.9221115111720196, 0.8960406961313547]\n"
     ]
    },
    {
     "data": {
      "image/png": "[encoded data removed]",
      "text/plain": [
       "<Figure size 640x480 with 1 Axes>"
      ]
     },
     "metadata": {},
     "output_type": "display_data"
    }
   ],
   "source": [
    "run_models()"
   ]
  },
  {
   "cell_type": "code",
   "execution_count": 34,
   "metadata": {},
   "outputs": [
    {
     "data": {
      "text/plain": [
       "array(['mean_A2B', 'X_EA', 'X_Ra', 's_X', 'X_Z', 'mean_X2X', 's_B',\n",
       "       'A_Rvdw', 's_A', 'mean_A2X', 'A_IEI', 'E_coh', 'X_IEII', 'A_ChiA',\n",
       "       'B_Hf', 'std_A2X', 'A_ChiP', 'B_MP', 'std_B2X', 'A_BP'],\n",
       "      dtype=object)"
      ]
     },
     "execution_count": 34,
     "metadata": {},
     "output_type": "execute_result"
    }
   ],
   "source": [
    "featureScores.nlargest(20,'Score')['Feature'].values"
   ]
  },
  {
   "cell_type": "code",
   "execution_count": 35,
   "metadata": {},
   "outputs": [],
   "source": [
    "X=X[featureScores.nlargest(20,'Score')['Feature'].values]"
   ]
  },
  {
   "cell_type": "code",
   "execution_count": 36,
   "metadata": {},
   "outputs": [
    {
     "name": "stdout",
     "output_type": "stream",
     "text": [
      "RF\n",
      "R2:  0.8953401549885627\n",
      "RMSE:  0.08639847932883876\n",
      "---------------------------------------\n",
      "GB\n",
      "R2:  0.8264403526433481\n",
      "RMSE:  0.11126035326956668\n",
      "---------------------------------------\n",
      "RR\n",
      "R2:  0.8244379401045407\n",
      "RMSE:  0.11190033558428647\n",
      "---------------------------------------\n",
      "LASSO\n",
      "R2:  0.879768843552514\n",
      "RMSE:  0.09260289568365208\n",
      "---------------------------------------\n",
      "gpr1\n",
      "R2:  0.8584211951164583\n",
      "RMSE:  0.10048822523320049\n",
      "---------------------------------------\n",
      "gpr2\n",
      "R2:  0.919577445639925\n",
      "RMSE:  0.07573645731734104\n",
      "---------------------------------------\n",
      "gpr3\n",
      "R2:  0.9272913840150453\n",
      "RMSE:  0.07201268334977987\n",
      "---------------------------------------\n",
      "gpr4\n",
      "R2:  0.9020785358155594\n",
      "RMSE:  0.08357088559649342\n",
      "---------------------------------------\n",
      "[0.8953401549885627, 0.8264403526433481, 0.8244379401045407, 0.879768843552514, 0.8584211951164583, 0.919577445639925, 0.9272913840150453, 0.9020785358155594]\n"
     ]
    },
    {
     "data": {
      "image/png": "[encoded data removed]",
      "text/plain": [
       "<Figure size 640x480 with 1 Axes>"
      ]
     },
     "metadata": {},
     "output_type": "display_data"
    }
   ],
   "source": [
    "run_models()"
   ]
  },
  {
   "cell_type": "code",
   "execution_count": 37,
   "metadata": {},
   "outputs": [
    {
     "data": {
      "text/plain": [
       "array(['mean_A2B', 'X_EA', 'X_Ra', 's_X', 'X_Z', 'mean_X2X', 's_B',\n",
       "       'A_Rvdw', 's_A', 'mean_A2X'], dtype=object)"
      ]
     },
     "execution_count": 37,
     "metadata": {},
     "output_type": "execute_result"
    }
   ],
   "source": [
    "featureScores.nlargest(10,'Score')['Feature'].values"
   ]
  },
  {
   "cell_type": "code",
   "execution_count": 38,
   "metadata": {},
   "outputs": [],
   "source": [
    "X=X[featureScores.nlargest(10,'Score')['Feature'].values]"
   ]
  },
  {
   "cell_type": "code",
   "execution_count": 39,
   "metadata": {},
   "outputs": [
    {
     "name": "stdout",
     "output_type": "stream",
     "text": [
      "RF\n",
      "R2:  0.8774327079831397\n",
      "RMSE:  0.09349822163206536\n",
      "---------------------------------------\n",
      "GB\n",
      "R2:  0.8478222422501094\n",
      "RMSE:  0.10418174931832878\n",
      "---------------------------------------\n",
      "RR\n",
      "R2:  0.8461704165342274\n",
      "RMSE:  0.10474564781828467\n",
      "---------------------------------------\n",
      "LASSO\n",
      "R2:  0.8479391818550295\n",
      "RMSE:  0.10414171286964378\n",
      "---------------------------------------\n",
      "gpr1\n",
      "R2:  0.8560087691603352\n",
      "RMSE:  0.10134074136572363\n",
      "---------------------------------------\n",
      "gpr2\n",
      "R2:  0.9068761424346213\n",
      "RMSE:  0.08149792173164258\n",
      "---------------------------------------\n",
      "gpr3\n",
      "R2:  0.9084117906051834\n",
      "RMSE:  0.08082316239572022\n",
      "---------------------------------------\n",
      "gpr4\n",
      "R2:  0.8964440842888307\n",
      "RMSE:  0.0859416152175124\n",
      "---------------------------------------\n",
      "[0.8774327079831397, 0.8478222422501094, 0.8461704165342274, 0.8479391818550295, 0.8560087691603352, 0.9068761424346213, 0.9084117906051834, 0.8964440842888307]\n"
     ]
    },
    {
     "data": {
      "image/png": "[encoded data removed]",
      "text/plain": [
       "<Figure size 640x480 with 1 Axes>"
      ]
     },
     "metadata": {},
     "output_type": "display_data"
    }
   ],
   "source": [
    "run_models()"
   ]
  }
 ],
 "metadata": {
  "colab": {
   "collapsed_sections": [],
   "name": "Final_total.ipynb",
   "provenance": []
  },
  "kernelspec": {
   "display_name": "Python 3 (ipykernel)",
   "language": "python",
   "name": "python3"
  },
  "language_info": {
   "codemirror_mode": {
    "name": "ipython",
    "version": 3
   },
   "file_extension": ".py",
   "mimetype": "text/x-python",
   "name": "python",
   "nbconvert_exporter": "python",
   "pygments_lexer": "ipython3",
   "version": "3.9.13"
  }
 },
 "nbformat": 4,
 "nbformat_minor": 1
}
